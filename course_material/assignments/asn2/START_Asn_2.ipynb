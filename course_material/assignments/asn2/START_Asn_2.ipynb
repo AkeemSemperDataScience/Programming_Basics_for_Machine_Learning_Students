{
 "cells": [
  {
   "cell_type": "code",
   "execution_count": 1046,
   "metadata": {},
   "outputs": [],
   "source": [
    "import numpy as np\n",
    "from collections.abc import MutableSequence\n",
    "import pandas as pd\n",
    "from abc import ABC, abstractmethod\n",
    "\n",
    "import math"
   ]
  },
  {
   "cell_type": "markdown",
   "metadata": {},
   "source": [
    "# Assignment #2 - With Bonus Stats!!\n",
    "\n",
    "## Overview\n",
    "\n",
    "The end goal for this is to create a special data structure that will be a list of numbers plus some extra math stuff, as well as the code to support using and testing everything. Each of these lists, here called a calculationList, will have two main parts - a list of numbers and a threshold value. Each type of object will work differently depending on its type, but the basic logic is the same. The threshold value is a limit for whatever type of calculation the list belongs to, so for a stdList, the threshold applies to the standard deviation, for a meanList, the threshold applies to the mean, etc. The calculation list should have a prune() method that will start removing values from the list until the relevant value is below the threshold. Each type of calculation list will have a different way of figuring out what to remove, as we want to remove the most \"important\" values first - i.e. if the standard deviation is greater than the threshold, and we have a value that is 3 standard deviations away from the mean and another that is 10 standard deviations away from the mean, we want to remove the second value first as it will be the most impactful. \n",
    "\n",
    "<b>Note: please let me know if the premise isn't clear. You should have to sort out some ambiguities as you develop, but the goal should be clear.</b>\n",
    "\n",
    "### Classes to Create\n",
    "\n",
    "A caclulationList class that is made up of a list of float numbers as well as a few additions. This class will inherit from two things - the mutable sequence class and the ABC class. The mutable sequence class will allow us to use the list methods, and the ABC class will allow us to use the abstract methods.\n",
    "\n",
    "The calculation list will be a base class that will not be implemented directly. You will need to create some subclasses that then inherit from the calculationList class. These subclasses will be the following:\n",
    "<ul>\n",
    "<li> stdList - this will be a calculationList that will prune values based on the standard deviation of the list. </li>\n",
    "<li> meanList - this will be a calculationList that will prune values based on the mean of the list. </li>\n",
    "<li> sumList - this will be a calculationList that will prune values based on the sum of the list. </li>\n",
    "</ul>\n",
    "\n",
    "Each of these classes should only add what they need to make their unique functionality work, the things that are common to all of them should be in the calculationList class. The top level calcList class is similar to the example listBasedSet class here: https://python.readthedocs.io/en/latest/library/collections.abc.html The other classes should be children of that class, each adding their own unique parts. One note, there may be erroneous values in the input data, so there should be some error checking to deal with broken inputs - <b>if a row has erroneous data, that row should be skipped entirely. </b>\n",
    "\n",
    "#### Example Results\n",
    "\n",
    "Here are a few screenshots of the processing logic of the calculation lists:\n",
    "\n",
    "![Calculation List Example](example_results.png \"Calculation List Example\")\n",
    "\n",
    "We can also look at the inputs and outputs of the calculation lists to see some of the details:\n",
    "\n",
    "![Input and Output Example](input_output.png \"Input and Output Example\")\n",
    "\n",
    "Please check with me if the idea and the goal is not clear. \n",
    "\n",
    "## Deliverables\n",
    "\n",
    "For this assignment, please submit the following:\n",
    "<ul>\n",
    "<li> The notebook file containing your code. </li>\n",
    "<li> The CSV output file, <b>generated from a test file that I'll post before the due date.</b> This file will be in the same format as the test data, but the values will be different. </li>\n",
    "    <ul>\n",
    "    <li> I.e. I will post an input file, you will run your code on that file, and then submit the output file in the repository. </li>\n",
    "    </ul>\n",
    "</ul>\n",
    "\n",
    "## Grading\n",
    "\n",
    "The grading for this will be broken out as follows, and will learn heavily on things working correctly. \n",
    "<ul>\n",
    "<li> 50% - Functionality. If yours works, this is the baseline. If it fails, I may decrease this, depending on what I can visually spot in code. </li>\n",
    "<li> 25% - Code clarity and formatting when I read your code. </li>\n",
    "<li> 25% - The CSV output file and accuracy. <b>The CSV output will be tested against expected answers.</b></li>\n",
    "</ul>\n",
    "\n",
    "### Notes and Hints\n",
    "\n",
    "I will put any update notes, responses to common questions, and relevant hints in a list in the README file. Please don't edit that file, as that will let you pull it to get new stuff without conflict. "
   ]
  },
  {
   "cell_type": "code",
   "execution_count": 1047,
   "metadata": {},
   "outputs": [],
   "source": [
    "class calcList(MutableSequence, ABC):\n",
    "    \"\"\"\n",
    "    A class used to represent a list of values that can be pruned based on a threshold value. This class must be extened to be used, with the child class adding the logic to implement the calculation used for the pruning. \n",
    "\n",
    "    Attributes\n",
    "    ----------\n",
    "    elements : list\n",
    "        a list of values that can be pruned\n",
    "    _name : str\n",
    "        the name of the list\n",
    "    _threshold : float\n",
    "        the threshold value used to prune the list\n",
    "    _trim : int\n",
    "        the number of decimal places to trim the output to\n",
    "\n",
    "    Methods\n",
    "    -------\n",
    "    csv_output(self)\n",
    "        returns a string representation of the list in the format: name,length,threshold,value. Used to create the csv output to be written to file\n",
    "    value(self)\n",
    "        returns the value of the list based on the calculation used - i.e. a meanList would return the mean of the list, an stdList would return the standard deviation of the list...\n",
    "    prune(self)\n",
    "        prunes the list based on the threshold value. The logic for the pruning is implemented in the child class and should remove the \"most impactful\" value from the list until the threshold is met. \n",
    "    isPruned(self)\n",
    "        returns True if the list is pruned, False otherwise\n",
    "    returnType(self)\n",
    "        returns the type of the list\n",
    "    setThreshold(self, threshold)\n",
    "        sets the threshold value to threshold\n",
    "    getThreshold(self)\n",
    "        returns the threshold value\n",
    "    \"\"\"\n",
    "\n",
    "    ## Note: other things will be needed depending on how you implement your work. \n",
    "    ## As long as you make things work and meet anything explicitly stated in the assignment, you can add whatever you want.\n",
    "    def __init__(self, name, threshold, iterable, trim=3):\n",
    "        pass\n",
    "\n",
    "    # Loading Data into Lists\n",
    "    # You should write a function to read data, and generate the lists.\n",
    "    # This could be a static method in here, but you can do it other ways. \n",
    "    \n",
    "\n",
    "    # These methods must be implemented in the child classes\n",
    "    # There may be other methods you want to add as well\n",
    "    @abstractmethod\n",
    "    def value(self):\n",
    "        pass\n",
    "    @abstractmethod\n",
    "    def prune(self):\n",
    "        pass\n",
    "    @abstractmethod\n",
    "    def isPruned(self):\n",
    "        pass\n",
    "    @abstractmethod\n",
    "    def returnType(self):\n",
    "        pass\n",
    "    def setThreshold(self, threshold):\n",
    "        self._threshold = threshold\n",
    "    def getThreshold(self):\n",
    "        return self._threshold\n",
    "\n",
    "class stdList(calcList):\n",
    "    pass\n",
    "class meanList(calcList):\n",
    "    pass\n",
    "class sumList(calcList):\n",
    "    pass"
   ]
  },
  {
   "cell_type": "markdown",
   "metadata": {},
   "source": [
    "### Simple Unit Tests\n",
    "\n",
    "These are some simple tests that you can use to check, if you want. Please feel free to change, remove, or add to these as you see fit."
   ]
  },
  {
   "cell_type": "code",
   "execution_count": 1048,
   "metadata": {},
   "outputs": [
    {
     "name": "stdout",
     "output_type": "stream",
     "text": [
      "test - Std. Dev: 2.8722813232690143  (Thresh: 2)\n",
      "[1, 2, 3, 4, 5, 6, 7, 8, 9, 10]\n",
      "test - Std. Dev: 2.0  (Thresh: 2)\n",
      "[4, 5, 6, 7, 8, 9, 10]\n"
     ]
    }
   ],
   "source": [
    "calc = stdList(\"test\", 2, [1,2,3,4,5,6,7,8,9,10])\n",
    "print(calc)\n",
    "calc.prune()\n",
    "print(calc)"
   ]
  },
  {
   "cell_type": "code",
   "execution_count": 1049,
   "metadata": {},
   "outputs": [
    {
     "name": "stdout",
     "output_type": "stream",
     "text": [
      "test2 - Mean: 5.5  (Thresh: 4)\n",
      "[1, 2, 3, 4, 5, 6, 7, 8, 9, 10]\n",
      "test2 - Mean: 4.0  (Thresh: 4)\n",
      "[1, 2, 3, 4, 5, 6, 7]\n"
     ]
    }
   ],
   "source": [
    "calc2 = meanList(\"test2\", 4, [1,2,3,4,5,6,7,8,9,10])\n",
    "print(calc2)\n",
    "calc2.prune()\n",
    "print(calc2)"
   ]
  },
  {
   "cell_type": "code",
   "execution_count": 1050,
   "metadata": {},
   "outputs": [
    {
     "name": "stdout",
     "output_type": "stream",
     "text": [
      "test3 - Sum: 55  (Thresh: 45)\n",
      "[1, 2, 3, 4, 5, 6, 7, 8, 9, 10]\n",
      "test3 - Sum: 45  (Thresh: 45)\n",
      "[1, 2, 3, 4, 5, 6, 7, 8, 9]\n"
     ]
    }
   ],
   "source": [
    "calc3 = sumList(\"test3\", 45, [1,2,3,4,5,6,7,8,9,10])\n",
    "print(calc3)\n",
    "calc3.prune()\n",
    "print(calc3)"
   ]
  },
  {
   "cell_type": "markdown",
   "metadata": {},
   "source": [
    "### Load Data and Test\n",
    "\n",
    "The functions below are a simple test function for your code, it'll take in an input and an output and score the two. In your code, you'll have half of the inputs here, the expected results, and will need to write the rest of the code to generate your results and input them to run the test. \n",
    "\n",
    "This function can likely be wrapped in another, one that calls your code to generate that input to check against. This isn't required, but will likely make things easier to call and test repeatedly. You'd have to do everything required to get the \"response\" argument, which is the CSV file of your answers. "
   ]
  },
  {
   "cell_type": "code",
   "execution_count": 1051,
   "metadata": {},
   "outputs": [],
   "source": [
    "def testHarness(response, expected, response_col=\"Value\", expected_col=\"Value\", match_thresh=.03, exp_name=\"Name\", resp_name=\"Name\"):\n",
    "    '''\n",
    "    Runs a test of the response file against the expected file and returns the number of correct and incorrect responses.\n",
    "\n",
    "    Parameters:\n",
    "    response (str): The file path of the response file.\n",
    "    expected (str): The file path of the expected file.\n",
    "    response_col (str, optional): The column name in the response file that contains the response values. Defaults to \"Value\".\n",
    "    expected_col (str, optional): The column name in the expected file that contains the expected values. Defaults to \"Value\".\n",
    "    match_thresh (float, optional): The percentage tolerance for matching the response values with the expected values. Defaults to 0.03.\n",
    "    exp_name (str, optional): The column name in the expected file that contains the name of the expected values. Defaults to \"Name\".\n",
    "    resp_name (str, optional): The column name in the response file that contains the name of the response values. Defaults to \"Name\".\n",
    "\n",
    "    Returns:\n",
    "    tuple: A tuple containing the number of correct and incorrect responses.\n",
    "\n",
    "    '''\n",
    "    resp = pd.read_csv(response)\n",
    "    exp = pd.read_csv(expected)\n",
    "    \n",
    "    correct = 0\n",
    "    incorrect = 0\n",
    "    \n",
    "    i = 0\n",
    "    while i < len(resp):\n",
    "        exp_val = exp.iloc[i][expected_col]\n",
    "        resp_val = resp.iloc[i][response_col]\n",
    "        \n",
    "        #if toleranceMatch(exp_val, resp_val, match_thresh) and (exp.iloc[i][exp_name] == resp.iloc[i][resp_name]):\n",
    "        if math.isclose(exp_val, resp_val, rel_tol=match_thresh) and (exp.iloc[i][exp_name] == resp.iloc[i][resp_name]):\n",
    "            correct += 1\n",
    "        else:\n",
    "            incorrect += 1\n",
    "        i += 1\n",
    "    \n",
    "    return (correct, incorrect)\n"
   ]
  },
  {
   "cell_type": "code",
   "execution_count": null,
   "metadata": {},
   "outputs": [],
   "source": [
    "def genTestSet(response, expected, response_col=\"Value\", expected_col=\"Value\", match_thresh=.03, exp_name=\"Name\", resp_name=\"Name\"):\n",
    "    testSet = []\n",
    "    for i, row in response.iterrows():\n",
    "        resp = row[response_col]\n",
    "        exp = expected.iloc[i][expected_col]\n",
    "        resp = math.round(resp, 2)\n",
    "        exp = math.round(exp, 2)\n",
    "        testSet.append((resp, exp))\n",
    "\n",
    "@pytest.mark.parametrize(\"response, expected\", genTestSet(\"response.csv\", \"expected.csv\"))\n",
    "def testEval(response, expected):\n",
    "    assert response == expected"
   ]
  },
  {
   "cell_type": "code",
   "execution_count": 1052,
   "metadata": {},
   "outputs": [
    {
     "data": {
      "text/html": [
       "<div>\n",
       "<style scoped>\n",
       "    .dataframe tbody tr th:only-of-type {\n",
       "        vertical-align: middle;\n",
       "    }\n",
       "\n",
       "    .dataframe tbody tr th {\n",
       "        vertical-align: top;\n",
       "    }\n",
       "\n",
       "    .dataframe thead th {\n",
       "        text-align: right;\n",
       "    }\n",
       "</style>\n",
       "<table border=\"1\" class=\"dataframe\">\n",
       "  <thead>\n",
       "    <tr style=\"text-align: right;\">\n",
       "      <th></th>\n",
       "      <th>Name</th>\n",
       "      <th>Length</th>\n",
       "      <th>Threshold</th>\n",
       "      <th>Value</th>\n",
       "    </tr>\n",
       "  </thead>\n",
       "  <tbody>\n",
       "    <tr>\n",
       "      <th>0</th>\n",
       "      <td>List_0</td>\n",
       "      <td>5</td>\n",
       "      <td>30.19605769</td>\n",
       "      <td>15.001</td>\n",
       "    </tr>\n",
       "    <tr>\n",
       "      <th>1</th>\n",
       "      <td>List_1</td>\n",
       "      <td>9</td>\n",
       "      <td>37.83299154</td>\n",
       "      <td>29.911</td>\n",
       "    </tr>\n",
       "    <tr>\n",
       "      <th>2</th>\n",
       "      <td>List_2</td>\n",
       "      <td>44</td>\n",
       "      <td>42.90158192</td>\n",
       "      <td>42.091</td>\n",
       "    </tr>\n",
       "    <tr>\n",
       "      <th>3</th>\n",
       "      <td>List_3</td>\n",
       "      <td>2</td>\n",
       "      <td>-1428.622569</td>\n",
       "      <td>0.0</td>\n",
       "    </tr>\n",
       "    <tr>\n",
       "      <th>4</th>\n",
       "      <td>List_4</td>\n",
       "      <td>8</td>\n",
       "      <td>13.75396487</td>\n",
       "      <td>12.75</td>\n",
       "    </tr>\n",
       "  </tbody>\n",
       "</table>\n",
       "</div>"
      ],
      "text/plain": [
       "     Name Length     Threshold   Value\n",
       "0  List_0      5   30.19605769  15.001\n",
       "1  List_1      9   37.83299154  29.911\n",
       "2  List_2     44   42.90158192  42.091\n",
       "3  List_3      2  -1428.622569     0.0\n",
       "4  List_4      8   13.75396487   12.75"
      ]
     },
     "execution_count": 1052,
     "metadata": {},
     "output_type": "execute_result"
    }
   ],
   "source": [
    "# Sample exectution - you can change this to test your code\n",
    "# The functions here are things I made to both:\n",
    "# - read data from disk, and create a list of the calculation lists.\n",
    "# - process those lists to get actual outputs. \n",
    "#outputs = processCalculationLists(calculationListLoader(\"inputs.csv\"), output_file=\"output.csv\")\n",
    "#outputs.head()"
   ]
  },
  {
   "cell_type": "code",
   "execution_count": 1053,
   "metadata": {},
   "outputs": [
    {
     "data": {
      "text/plain": [
       "(1000, 1)"
      ]
     },
     "execution_count": 1053,
     "metadata": {},
     "output_type": "execute_result"
    }
   ],
   "source": [
    "tests = testHarness(\"output.csv\", \"output.csv\")\n",
    "tests"
   ]
  }
 ],
 "metadata": {
  "kernelspec": {
   "display_name": "ml_2",
   "language": "python",
   "name": "python3"
  },
  "language_info": {
   "codemirror_mode": {
    "name": "ipython",
    "version": 3
   },
   "file_extension": ".py",
   "mimetype": "text/x-python",
   "name": "python",
   "nbconvert_exporter": "python",
   "pygments_lexer": "ipython3",
   "version": "3.10.9"
  },
  "orig_nbformat": 4
 },
 "nbformat": 4,
 "nbformat_minor": 2
}
