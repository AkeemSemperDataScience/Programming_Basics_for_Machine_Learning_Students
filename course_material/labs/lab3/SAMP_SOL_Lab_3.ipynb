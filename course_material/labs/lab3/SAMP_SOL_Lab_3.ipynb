{
 "cells": [
  {
   "cell_type": "code",
   "execution_count": null,
   "metadata": {},
   "outputs": [],
   "source": []
  },
  {
   "cell_type": "markdown",
   "metadata": {},
   "source": [
    "# Assignment 3 - Sample Solution"
   ]
  },
  {
   "cell_type": "markdown",
   "metadata": {},
   "source": [
    "### Question 1"
   ]
  },
  {
   "cell_type": "code",
   "execution_count": 1,
   "metadata": {},
   "outputs": [],
   "source": [
    "def odd_sum(a, b):\n",
    "    total = 0\n",
    "    for i in range(a,b):\n",
    "        if i%2 == 1:\n",
    "            total += i\n",
    "    return total"
   ]
  },
  {
   "cell_type": "code",
   "execution_count": 2,
   "metadata": {},
   "outputs": [
    {
     "data": {
      "text/plain": [
       "783"
      ]
     },
     "execution_count": 2,
     "metadata": {},
     "output_type": "execute_result"
    }
   ],
   "source": [
    "a = input(\"Enter a: \")\n",
    "b = input(\"Enter b: \")\n",
    "odd_sum(int(a), int(b))"
   ]
  },
  {
   "cell_type": "markdown",
   "metadata": {},
   "source": [
    "### Question 2"
   ]
  },
  {
   "cell_type": "code",
   "execution_count": 3,
   "metadata": {},
   "outputs": [],
   "source": [
    "def replaceUnderscore(text):\n",
    "    vowels = ['a', 'e', 'i', 'o', 'u', \"A\", \"E\", \"I\", \"O\", \"U\"]\n",
    "    for char in text:\n",
    "        if char in vowels:\n",
    "            text = text.replace(char, \"_\")\n",
    "    return text"
   ]
  },
  {
   "cell_type": "code",
   "execution_count": 4,
   "metadata": {},
   "outputs": [
    {
     "data": {
      "text/plain": [
       "'_sdfj;_lksdjf_s cv\"PJF__s\\'p___wqjrdf_s_cn_C_S'"
      ]
     },
     "execution_count": 4,
     "metadata": {},
     "output_type": "execute_result"
    }
   ],
   "source": [
    "text_input = input(\"Enter text for replacement: \")\n",
    "replaceUnderscore(text_input)"
   ]
  },
  {
   "cell_type": "markdown",
   "metadata": {},
   "source": [
    "### Question 3"
   ]
  },
  {
   "cell_type": "code",
   "execution_count": 27,
   "metadata": {},
   "outputs": [],
   "source": [
    "import math\n",
    "\n",
    "def trippleMoney(value, interest):\n",
    "    if (value < 0) :\n",
    "        print(\"Sorry, I didn't understand that. The balance should be positive.\")\n",
    "        return\n",
    "    if interest < 0:\n",
    "        print(\"Sorry, I didn't understand that. The interest should be positive.\")\n",
    "        return\n",
    "    \n",
    "    cutoff = 3*float(value)\n",
    "    curr_value = float(value)\n",
    "    years = 0\n",
    "    if float(interest) < 1:\n",
    "        compound = 1+float(interest)\n",
    "    else:\n",
    "        compound = (float(interest)/100)+1\n",
    "    print(compound, value, cutoff)\n",
    "    while curr_value < cutoff:\n",
    "        curr_value *= compound\n",
    "        years += 1\n",
    "    print(\"It will take\", math.ceil(years), \"years to tripple your money.\")"
   ]
  },
  {
   "cell_type": "code",
   "execution_count": 28,
   "metadata": {},
   "outputs": [
    {
     "name": "stdout",
     "output_type": "stream",
     "text": [
      "1.07 1000 3000.0\n",
      "It will take 17 years to tripple your money.\n"
     ]
    }
   ],
   "source": [
    "value = input(\"Enter value: \")\n",
    "interest = input(\"Enter interest: \")\n",
    "trippleMoney(value, interest)"
   ]
  },
  {
   "cell_type": "markdown",
   "metadata": {},
   "source": [
    "### Question 4"
   ]
  },
  {
   "cell_type": "code",
   "execution_count": 39,
   "metadata": {},
   "outputs": [],
   "source": [
    "def factorInt(number):\n",
    "    \" Using primes in trial division \"\n",
    "\n",
    "    # Find primes up to sqrt(n)\n",
    "    n=int(number**.5)+1\n",
    "    era =[1] * n\n",
    "    primes=[]\n",
    "    for p in range(2, n):\n",
    "        if era[p]:\n",
    "            primes.append(p)\n",
    "            for i in range(p*p, n, p):\n",
    "                era[i] = False\n",
    "\n",
    "    # Trial division using primes\n",
    "    divisors=[]\n",
    "    x=number\n",
    "    for i in primes:\n",
    "        while x%i==0:\n",
    "            x//=i\n",
    "            divisors.append(i)\n",
    "    if x!=1:\n",
    "        divisors.append(x)    \n",
    "    return divisors"
   ]
  },
  {
   "cell_type": "code",
   "execution_count": 40,
   "metadata": {},
   "outputs": [
    {
     "data": {
      "text/plain": [
       "[3, 3, 11, 101]"
      ]
     },
     "execution_count": 40,
     "metadata": {},
     "output_type": "execute_result"
    }
   ],
   "source": [
    "number = input(\"Enter number: \")\n",
    "factorInt(int(number))"
   ]
  },
  {
   "cell_type": "markdown",
   "metadata": {},
   "source": [
    "### Question 5"
   ]
  },
  {
   "cell_type": "code",
   "execution_count": 16,
   "metadata": {},
   "outputs": [],
   "source": [
    "def grades():\n",
    "    passing = 0\n",
    "    failing = 0\n",
    "    while True:\n",
    "        curr_grade = float(input(\"Enter a grade or -1 to finish: \"))\n",
    "        if curr_grade == -1:\n",
    "            break\n",
    "        elif curr_grade >= 50:\n",
    "            passing += 1\n",
    "        elif curr_grade < 50:\n",
    "            failing += 1\n",
    "        else:\n",
    "            print(\"Invalid grade\")\n",
    "    print(\"Number of passing grades: \", passing)\n",
    "    print(\"Number of failing grades: \", failing)\n",
    "    return (passing, failing)"
   ]
  },
  {
   "cell_type": "code",
   "execution_count": 17,
   "metadata": {},
   "outputs": [
    {
     "name": "stdout",
     "output_type": "stream",
     "text": [
      "Number of passing grades:  4\n",
      "Number of failing grades:  2\n"
     ]
    },
    {
     "data": {
      "text/plain": [
       "(4, 2)"
      ]
     },
     "execution_count": 17,
     "metadata": {},
     "output_type": "execute_result"
    }
   ],
   "source": [
    "grades()"
   ]
  }
 ],
 "metadata": {
  "kernelspec": {
   "display_name": "ml_env",
   "language": "python",
   "name": "python3"
  },
  "language_info": {
   "codemirror_mode": {
    "name": "ipython",
    "version": 3
   },
   "file_extension": ".py",
   "mimetype": "text/x-python",
   "name": "python",
   "nbconvert_exporter": "python",
   "pygments_lexer": "ipython3",
   "version": "3.10.9"
  },
  "orig_nbformat": 4
 },
 "nbformat": 4,
 "nbformat_minor": 2
}
