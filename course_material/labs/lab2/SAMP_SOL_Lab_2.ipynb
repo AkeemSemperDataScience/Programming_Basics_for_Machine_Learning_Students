{
 "cells": [
  {
   "cell_type": "markdown",
   "metadata": {},
   "source": [
    "# Lab 2 Sample Solution\n",
    "\n",
    " This is a sample solution. There are many ways to solve these problems.\n",
    "## Notes Based on Your Code\n",
    "\n",
    "These are a few things I noticed when reading the code that we may want to pay attention to. These are not necessarily errors, but things to think about.\n",
    "\n",
    "<ul>\n",
    "<li> Think about variable types when taking input. Here, things work fine when we give good input, but adding a float() or int() to a value that is supposed to be that type makes things more clear. </li>\n",
    "<li> It is better to specify every condition in an if statement with its own \"elif\". Relying on an else to act as a catch all works, but can potentially cause issues if unexpected data falls in that else bucket - if you're lucky, you get an error, but if it is something like a negative value going into an \"age\" field there can be weird issues that are hard to debug. </li>\n",
    "<li> For the last one, standardizing the value (in celcius), then having one set of logic is much easier. Think about why...</li>\n",
    "<li> Try to simplify conditions - having multiple conditions in an if statement can be confusing and hard to troubleshoot, especially at edge cases. If there are multiple conditions we can </li>\n",
    "<li> We probably want to avoid hard coding any limits or requirements in our functions, if we can. For example, the \"min\" of 3 values is conceptually the same as the min of 30 values. It doesn't make sense for us to have to write a different function for each amount. </li>\n",
    "\n",
    "</ul>"
   ]
  },
  {
   "cell_type": "markdown",
   "metadata": {},
   "source": [
    "Write an expression that will cause the following code to print \"30 or less\" if the value of user input is 30 or less."
   ]
  },
  {
   "cell_type": "code",
   "execution_count": 21,
   "metadata": {},
   "outputs": [],
   "source": [
    "val1 = input(\"Enter a number: \")\n",
    "def checkLessGreater(value, compare=30):\n",
    "    if value <= compare:\n",
    "        print(\"Less than 30\")\n",
    "    elif value > compare:\n",
    "        print(\"Over 30\")\n",
    "    else:\n",
    "        raise ValueError(\"Invalid input\")"
   ]
  },
  {
   "cell_type": "markdown",
   "metadata": {},
   "source": [
    "Write a program that reads a floating-point number and prints “zero” if the number is zero. Otherwise, print “positive” or “negative”. Add “small” if the absolute value of the number is less than 1,000,000 or “large” if it exceeds 1,000,000. "
   ]
  },
  {
   "cell_type": "code",
   "execution_count": 22,
   "metadata": {},
   "outputs": [],
   "source": [
    "\n",
    "def sizeChecker(value, limit=1000000):\n",
    "    final_string = \"\"\n",
    "    val = float(value)\n",
    "    if abs(val) >+ limit:\n",
    "        final_string += \"Large\"\n",
    "    elif abs(val) < limit:\n",
    "        final_string += \"Small\"\n",
    "\n",
    "    if val == 0:\n",
    "        final_string = \"Zero\"\n",
    "    elif val > 0:\n",
    "        final_string += \" Positive\"\n",
    "    elif val < 0:\n",
    "        final_string += \" Negative\"\n",
    "    return final_string"
   ]
  },
  {
   "cell_type": "code",
   "execution_count": 30,
   "metadata": {},
   "outputs": [
    {
     "data": {
      "text/plain": [
       "'Small Positive'"
      ]
     },
     "execution_count": 30,
     "metadata": {},
     "output_type": "execute_result"
    }
   ],
   "source": [
    "val2 = input(\"Enter a number: \")\n",
    "sizeChecker(val2)"
   ]
  },
  {
   "cell_type": "markdown",
   "metadata": {},
   "source": [
    "Write an if-else statement with multiple branches.\n",
    "If year is 2101 or later, print \"Distant future\" (without quotes). Otherwise, if year is 2001 or greater, print \"21st century\". Otherwise, if year is 1901 or greater, print \"20th century\". Else (1900 or earlier), print \"Long ago\"."
   ]
  },
  {
   "cell_type": "code",
   "execution_count": 24,
   "metadata": {},
   "outputs": [],
   "source": [
    "def futureCheck(year):\n",
    "    yr = int(year)\n",
    "    return_string = \"\"\n",
    "    if yr >= 2101:\n",
    "        return_string = \"Distant future\"\n",
    "    elif yr >= 2001:\n",
    "        return_string = \"21st century\"\n",
    "    elif yr >= 1901:\n",
    "        return_string = \"20th century\"\n",
    "    elif yr < 1901:\n",
    "        return_string = \"Long ago\"\n",
    "    else:\n",
    "        raise ValueError(\"Invalid input\")\n",
    "    return return_string\n"
   ]
  },
  {
   "cell_type": "code",
   "execution_count": 25,
   "metadata": {},
   "outputs": [
    {
     "data": {
      "text/plain": [
       "'Long ago'"
      ]
     },
     "execution_count": 25,
     "metadata": {},
     "output_type": "execute_result"
    }
   ],
   "source": [
    "val3 = input(\"Enter a year: \")\n",
    "futureCheck(val3)"
   ]
  },
  {
   "cell_type": "markdown",
   "metadata": {},
   "source": [
    "Write a program whose inputs are three integers, and whose output is the smallest of the three values.\n",
    "\n",
    "<b>Example of some bad logic</b>\n",
    "\n",
    "```python\n",
    "if second_input < smallest and second_input < third_input: \n",
    "    smallest = second_input\n",
    "elif third_input < smallest:\n",
    "    smallest = third_input\n",
    "```\n",
    "\n",
    "<b>Or</b>\n",
    "\n",
    "```python\n",
    "def smallest_num(a,b,c):\n",
    "    if a<b and a <c:\n",
    "        print(a,\"is the smallest number.\")\n",
    "    elif b<a and b<c:\n",
    "        print(b,\"is the smallest number.\")\n",
    "    elif c<a and c<b:\n",
    "        print(c,\"is the smallest number.\")\n",
    "    elif a==b and a==c:\n",
    "        print(\"They are all equal\")\n",
    "    elif a==b and a<c:\n",
    "        print(a,\"is the smallest number.\")\n",
    "    elif a==c and a<b:\n",
    "        print(a,\"is the smallest number.\")\n",
    "    elif b==a and b<c:\n",
    "        print(b,\"is the smallest number.\")\n",
    "    elif b==c and b<a:\n",
    "        print(b,\"is the smallest number.\")\n",
    "    elif c==a and c<a:\n",
    "        print(c,\"is the smallest number.\")\n",
    "    elif c==b and c<b:\n",
    "        print(c,\"is the smallest number.\")\n",
    "```\n",
    "\n",
    "Note that this isn't the way that we'd write anything like this, we'd take a data structure of 1+ elements. "
   ]
  },
  {
   "cell_type": "code",
   "execution_count": 26,
   "metadata": {},
   "outputs": [],
   "source": [
    "def findSmallest(num1, num2, num3):\n",
    "    num_list = [num1, num2, num3]\n",
    "    return min(num_list)"
   ]
  },
  {
   "cell_type": "code",
   "execution_count": 27,
   "metadata": {},
   "outputs": [
    {
     "data": {
      "text/plain": [
       "'44'"
      ]
     },
     "execution_count": 27,
     "metadata": {},
     "output_type": "execute_result"
    }
   ],
   "source": [
    "val4 = input(\"Enter number 1: \")\n",
    "val5 = input(\"Enter number 2: \")\n",
    "val6 = input(\"Enter number 3: \")\n",
    "\n",
    "findSmallest(val4, val5, val6)"
   ]
  },
  {
   "cell_type": "markdown",
   "metadata": {},
   "source": [
    "Write a program that reads a temperature value and the letter C for Celsius or F for Fahrenheit. Print whether water is liquid, solid, or gaseous at the given temperature at sea level.\n",
    "\n",
    "<b>Example of some bad logic</b>\n",
    "\n",
    "```python\n",
    "if user_letter == \"C\":\n",
    "    if user_temperature > 0 and user_temperature < 100:\n",
    "        print (\"At that temperature, the water is liquid.\")\n",
    "    elif user_temperature <= 0:\n",
    "        print (\"At that temperature, the water is solid.\")\n",
    "    elif user_temperature > 100: \n",
    "        print (\"At that temperature, the water is gaseous.\")\n",
    "\n",
    "elif user_letter == \"F\":\n",
    "    if user_temperature > 32 and user_temperature < 212: \n",
    "        print (\"At the temperature, the water is liquid.\")\n",
    "    elif user_temperature <= 32 :\n",
    "        print (\"At the temperature, the water is solid.\")\n",
    "    elif user_temperature > 212:\n",
    "        print (\"At that temperature, the water is gaseous.\")\n",
    "```\n",
    "\n",
    "<b>Or</b>\n",
    "\n",
    "```python\n",
    "def temp_reading(x,y):\n",
    "    x=float(x)\n",
    "    y=str(y)\n",
    "    if 0 <= x <= 100 and y.lower()==\"c\":\n",
    "        print(\"At that temperature, the water is liquid.\")\n",
    "    elif x > 100 and y.lower()==\"c\":\n",
    "        print(\"At that temperature, the water is gaseous.\")\n",
    "    elif 0 <= x <= 100 and y.lower()==\"f\":\n",
    "        print(\"At that temperature, the water is solid.\")\n",
    "    elif x > 100 and y.lower()==\"f\":\n",
    "        print(\"At that temperature, the water is gaseous.\")\n",
    "```"
   ]
  },
  {
   "cell_type": "code",
   "execution_count": 28,
   "metadata": {},
   "outputs": [],
   "source": [
    "def tempConverter(temp, convertToScale):\n",
    "    val = float(temp)\n",
    "    fScale = [\"f\", \"F\"]\n",
    "    cScale = [\"c\", \"C\"]\n",
    "    end_val = None\n",
    "    if convertToScale in fScale:\n",
    "        end_val = val * (9/5) + 32\n",
    "    elif convertToScale in cScale:\n",
    "        end_val = (val - 32) * (5/9)\n",
    "    else:\n",
    "        raise ValueError(\"Invalid input\")\n",
    "    return end_val\n",
    "    \n",
    "def isWater(temp, scale):\n",
    "    fScale = [\"f\", \"F\", \"fahrenheit\", \"Fahrenheit\"]\n",
    "    cScale = [\"c\", \"C\", \"celsius\", \"Celsius\"]\n",
    "    temp_val = float(temp)\n",
    "    state = None\n",
    "    if scale in fScale:\n",
    "        temp_val = tempConverter(temp_val, \"c\")\n",
    "    \n",
    "    preface = \"At that temperature, water is a \"\n",
    "    if temp_val < 0:\n",
    "        state = \"solid\"\n",
    "    elif temp_val < 100:\n",
    "        state = \"liquid\"\n",
    "    elif temp_val >= 100:\n",
    "        state = \"gas\"\n",
    "    else:\n",
    "        raise ValueError(\"Invalid input\")\n",
    "\n",
    "    final_string = preface + state\n",
    "    return final_string\n",
    "    "
   ]
  },
  {
   "cell_type": "code",
   "execution_count": 29,
   "metadata": {},
   "outputs": [
    {
     "data": {
      "text/plain": [
       "'At that temperature, water is a liquid'"
      ]
     },
     "execution_count": 29,
     "metadata": {},
     "output_type": "execute_result"
    }
   ],
   "source": [
    "val7 = input(\"Enter a temperature: \")\n",
    "val8 = input(\"Enter a scale (C/F): \")\n",
    "isWater(val7, val8)"
   ]
  }
 ],
 "metadata": {
  "kernelspec": {
   "display_name": "ml_env",
   "language": "python",
   "name": "python3"
  },
  "language_info": {
   "codemirror_mode": {
    "name": "ipython",
    "version": 3
   },
   "file_extension": ".py",
   "mimetype": "text/x-python",
   "name": "python",
   "nbconvert_exporter": "python",
   "pygments_lexer": "ipython3",
   "version": "3.10.9"
  },
  "orig_nbformat": 4
 },
 "nbformat": 4,
 "nbformat_minor": 2
}
