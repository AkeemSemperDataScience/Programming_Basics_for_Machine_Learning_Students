{
 "cells": [
  {
   "cell_type": "code",
   "execution_count": null,
   "metadata": {},
   "outputs": [],
   "source": [
    "import seaborn as sns"
   ]
  },
  {
   "cell_type": "markdown",
   "metadata": {},
   "source": [
    "# Lab 6\n",
    "\n",
    "For this one, there's no scripted testing. Just make the classes here, then call them in a cell below to show your tests/demonstrations of them working. For your tests, make sure you cover each case that could happen - these generally have on/off switches for something, so test both, etc...\n",
    "\n",
    "<b>Note:</b> think about making sure that the classes and methods you create are well encapsulated - each does a thing, and is able to do it all. If you think about the idea from the GUI examples of an action triggering something to happen in your code, you want that function to be able to take the \"button press\" for \"deal cards\", \"save file\", or \"sort data\" and do everything that needs to be done before returning the result. "
   ]
  },
  {
   "cell_type": "markdown",
   "metadata": {},
   "source": [
    "## Question 1\n",
    "\n",
    "Declare a class named PatientData that contains two attributes named height and weight, stored in kilograms and meters. Also include a <b>static</b> variable called use_imperial that is set to False - if this is set to True, when the height and weight are printed, they should be converted to pounds and inches - when printing, the height should be displayed in feet and inches.\n",
    "\n",
    "Make this, and then demonstrate it working in a cell below."
   ]
  },
  {
   "cell_type": "code",
   "execution_count": null,
   "metadata": {},
   "outputs": [],
   "source": []
  },
  {
   "cell_type": "markdown",
   "metadata": {},
   "source": [
    "## Question 2\n",
    "\n",
    "Create a class Car that holds its make, model, year, and purchase price - along with a value for depreciation rate (in percentage, as a decimal) per year, which defaults to .1 if nothing is provided. When printing the car, it should display an output that look, roughly, like this: \n",
    "\n",
    "    Year: 2019\n",
    "    Make: Toyota\n",
    "    Model: Camry\n",
    "    MRSP: $24,000.00\n",
    "    Current Value: ????\n",
    "\n",
    "The current value should be calculated as the MSRP minus 10% depreciation for each year since the car was made. Use a calculation for \"Future Value\" to determine the current value of the car - you can google it or fire up Excel and hit help. \n",
    "\n",
    "The class should have a depreciation_curve(years) method that plots some curve of the cars value over that many years. This can be done in many ways, as long as you show it reasonably it is fine. I would use seaborn to draw it, but up to you. \n",
    "\n",
    "Make this, and then draw a couple of depreciation curves in the cell below. "
   ]
  },
  {
   "cell_type": "code",
   "execution_count": null,
   "metadata": {},
   "outputs": [],
   "source": []
  },
  {
   "cell_type": "markdown",
   "metadata": {},
   "source": [
    "## Question 3\n",
    "\n",
    "Create a class triangle that takes in three values: side_a, side_b, and angle_1. The class's comparison methods should be based on the <b>inradius</b> of the triangle (the radius of the largest circle that can fit inside the triangle). If your trigonometry is rusty, here's a triangle calculator with notes: https://www.calculator.net/triangle-calculator.html\n",
    "\n",
    "To demonstrate this, make a list of 5+ triangles, and sort them using the built-in python sort. \n",
    "\n",
    "<b>Bonus:</b> for a bonus, add a method to draw the shapes. There are several ways to do this, and it is really mostly a for-fun thing. Here's one primer of a way to do it: https://www.geeksforgeeks.org/how-to-draw-shapes-in-matplotlib-with-python/"
   ]
  },
  {
   "cell_type": "code",
   "execution_count": null,
   "metadata": {},
   "outputs": [],
   "source": []
  }
 ],
 "metadata": {
  "language_info": {
   "name": "python"
  }
 },
 "nbformat": 4,
 "nbformat_minor": 2
}
