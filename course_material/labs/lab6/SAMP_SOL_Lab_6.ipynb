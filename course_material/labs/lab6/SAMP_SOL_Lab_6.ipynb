{
 "cells": [
  {
   "cell_type": "code",
   "execution_count": 43,
   "metadata": {},
   "outputs": [],
   "source": [
    "import numbers"
   ]
  },
  {
   "cell_type": "markdown",
   "metadata": {},
   "source": [
    "# Q1"
   ]
  },
  {
   "cell_type": "code",
   "execution_count": 44,
   "metadata": {},
   "outputs": [],
   "source": [
    "class PatientData():\n",
    "\n",
    "    def __init__(self, height=0, weight=0) -> None:\n",
    "        self.height_inches = height\n",
    "        self.weight_pounds = weight\n",
    "        self.isafter = False\n",
    "    \n",
    "    def setValues(self, height, weight):\n",
    "        if (isinstance(height, numbers.Number)) and height > 0:\n",
    "            self.height_inches = height\n",
    "        else:\n",
    "            assert ValueError()\n",
    "        if (isinstance(weight, numbers.Number)) and weight > 0:\n",
    "            self.weight_pounds = weight\n",
    "        else:\n",
    "            assert ValueError()\n",
    "\n",
    "    def __str__(self) -> str:\n",
    "        header_string = \"Patient Data\"\n",
    "        if self.isafter:\n",
    "            header_string += \" (after)\"\n",
    "        else:\n",
    "            header_string += \" (before)\"\n",
    "            self.isafter = True\n",
    "        header_string += str(self.height_inches) + \" in, \" + str(self.weight_pounds) + \" lbs\"\n",
    "        return header_string\n",
    "    def setHeight(self, height):\n",
    "        self.height_inches = height\n",
    "    def setWeight(self, weight):\n",
    "        self.weight_pounds = weight\n",
    "    def getHeight(self):\n",
    "        return self.height_inches\n",
    "    def getWeight(self):\n",
    "        return self.weight_pounds"
   ]
  },
  {
   "cell_type": "code",
   "execution_count": 45,
   "metadata": {},
   "outputs": [
    {
     "name": "stdout",
     "output_type": "stream",
     "text": [
      "Patient Data (before)0 in, 0 lbs\n",
      "Patient Data (after)72 in, 180 lbs\n"
     ]
    }
   ],
   "source": [
    "tmp = PatientData()\n",
    "print(tmp)\n",
    "tmp.setValues(72, 180)\n",
    "print(tmp)"
   ]
  },
  {
   "cell_type": "markdown",
   "metadata": {},
   "source": [
    "# Q2"
   ]
  },
  {
   "cell_type": "code",
   "execution_count": 46,
   "metadata": {},
   "outputs": [],
   "source": [
    "class InventoryTag():\n",
    "\n",
    "    def __init__(self, id=None, quantity=None) -> None:\n",
    "        self.id = id\n",
    "        self.quantity = quantity\n",
    "    \n",
    "    def __str__(self) -> str:\n",
    "        if (self.id == None) or (self.quantity == None):\n",
    "            raise ValueError(\"ID is not set\")\n",
    "        else:\n",
    "            return \"ID: \" + str(self.id) + \"\\nQty:\" + str(self.quantity)"
   ]
  },
  {
   "cell_type": "code",
   "execution_count": 47,
   "metadata": {},
   "outputs": [
    {
     "name": "stdout",
     "output_type": "stream",
     "text": [
      "ID: 1001\n",
      "Qty:50\n"
     ]
    }
   ],
   "source": [
    "redsweaters = InventoryTag(1001, 50)\n",
    "print(redsweaters)"
   ]
  },
  {
   "cell_type": "markdown",
   "metadata": {},
   "source": [
    "# Q3"
   ]
  },
  {
   "cell_type": "code",
   "execution_count": 48,
   "metadata": {},
   "outputs": [],
   "source": [
    "class Car():\n",
    "\n",
    "    def __init__(self, model_year=0, purchase_price=0) -> None:\n",
    "        self.model_year = model_year\n",
    "        self.purchase_price = purchase_price\n",
    "        self.current_value = 0\n",
    "    \n",
    "    def calc_current_value(self, current_year):\n",
    "        depreciation_rate = 0.15\n",
    "        car_age = current_year - self.model_year\n",
    "        self.current_value = round(self.purchase_price * (1 - depreciation_rate) ** car_age, 2)\n",
    "    \n",
    "    def print_info(self):\n",
    "        print(\"Car's information:\")\n",
    "        print(\"   Model year:\", self.model_year)\n",
    "        print(\"   Purchase price: ${:,.2f}\".format(self.purchase_price))\n",
    "        print(\"   Current value: ${:,.2f}\".format(self.current_value))"
   ]
  },
  {
   "cell_type": "code",
   "execution_count": 49,
   "metadata": {},
   "outputs": [
    {
     "name": "stdout",
     "output_type": "stream",
     "text": [
      "Car's information:\n",
      "   Model year: 2013\n",
      "   Purchase price: $100,000.00\n",
      "   Current value: $44,370.53\n"
     ]
    }
   ],
   "source": [
    "porsche = Car(2013, 100000)\n",
    "porsche.calc_current_value(2018)\n",
    "porsche.print_info()"
   ]
  },
  {
   "cell_type": "markdown",
   "metadata": {},
   "source": [
    "# Q4"
   ]
  },
  {
   "cell_type": "code",
   "execution_count": 50,
   "metadata": {},
   "outputs": [],
   "source": [
    "class Address():\n",
    "\n",
    "    def __init__(self, house_num, street, city, province, postal_code, apt_num=None) -> None:\n",
    "        self.house_num = house_num\n",
    "        self.street = street\n",
    "        self.city = city\n",
    "        self.province = province\n",
    "        self.postal_code = postal_code\n",
    "        self.apt_num = apt_num\n",
    "    \n",
    "    def __str__(self) -> str:\n",
    "\n",
    "        if self.apt_num == None:\n",
    "            return self.house_num + \" \" + self.street + \"\\n\" + self.city + \", \" + self.province + \" \" + self.postal_code\n",
    "        else:\n",
    "            return self.apt_num + \"-\" + self.house_num + \" \" + self.street + \"\\n\" + self.city + \", \" + self.province + \" \" + self.postal_code"
   ]
  },
  {
   "cell_type": "code",
   "execution_count": 51,
   "metadata": {},
   "outputs": [
    {
     "name": "stdout",
     "output_type": "stream",
     "text": [
      "456-123 Main Street\n",
      "Ottawa, ON K2M 2E9\n",
      "123 Main Street\n",
      "Ottawa, ON K2M 2E9\n"
     ]
    }
   ],
   "source": [
    "with_apt = Address(\"123\", \"Main Street\", \"Ottawa\", \"ON\", \"K2M 2E9\", \"456\")\n",
    "print(with_apt)\n",
    "without_apt = Address(\"123\", \"Main Street\", \"Ottawa\", \"ON\", \"K2M 2E9\")\n",
    "print(without_apt)"
   ]
  },
  {
   "cell_type": "markdown",
   "metadata": {},
   "source": [
    "# Q5\n",
    "\n",
    "See the .py for an example for running the code as a .py file."
   ]
  },
  {
   "cell_type": "code",
   "execution_count": 52,
   "metadata": {},
   "outputs": [],
   "source": [
    "class Triangle():\n",
    "\n",
    "    def __init__(self):\n",
    "        self.base = 0\n",
    "        self.height = 0\n",
    "    def set_base(self, base):\n",
    "        self.base = base\n",
    "    def set_height(self, height):\n",
    "        self.height = height\n",
    "    def get_area(self):\n",
    "        return 0.5 * self.base * self.height\n",
    "    def print_info(self):\n",
    "        print(\"Base: \", self.base)\n",
    "        print(\"Height: \", self.height)\n",
    "        print(\"Area: \", self.get_area())\n",
    "    def __lt__(self, other):\n",
    "        return self.get_area() < other.get_area()\n",
    "    \n"
   ]
  },
  {
   "cell_type": "code",
   "execution_count": 53,
   "metadata": {},
   "outputs": [
    {
     "name": "stdout",
     "output_type": "stream",
     "text": [
      "Triangle with larger area:\n",
      "Base:  3\n",
      "Height:  4\n",
      "Area:  6.0\n"
     ]
    }
   ],
   "source": [
    "if __name__ == \"__main__\":\n",
    "    triange1 = Triangle()\n",
    "    triangle2 = Triangle()\n",
    "\n",
    "    #get base and heightfrom command line\n",
    "    triange1.set_base(3)\n",
    "    triange1.set_height(4)\n",
    "    triangle2.set_base(4)\n",
    "    triangle2.set_height(5)\n",
    "    print(\"Triangle with larger area:\")\n",
    "    if triange1 < triangle2:\n",
    "        triange1.print_info()\n",
    "    else:\n",
    "        triangle2.print_info()"
   ]
  }
 ],
 "metadata": {
  "kernelspec": {
   "display_name": "ml_2",
   "language": "python",
   "name": "python3"
  },
  "language_info": {
   "codemirror_mode": {
    "name": "ipython",
    "version": 3
   },
   "file_extension": ".py",
   "mimetype": "text/x-python",
   "name": "python",
   "nbconvert_exporter": "python",
   "pygments_lexer": "ipython3",
   "version": "3.10.9"
  }
 },
 "nbformat": 4,
 "nbformat_minor": 2
}
