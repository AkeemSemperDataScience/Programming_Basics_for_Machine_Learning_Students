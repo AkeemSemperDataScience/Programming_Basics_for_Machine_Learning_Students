{
  "cells": [
    {
      "cell_type": "markdown",
      "metadata": {
        "id": "view-in-github",
        "colab_type": "text"
      },
      "source": [
        "<a href=\"https://colab.research.google.com/github/DATA3320/DATA3320_1231/blob/main/workbooks/Lecture11_12_Workbook.ipynb\" target=\"_parent\"><img src=\"https://colab.research.google.com/assets/colab-badge.svg\" alt=\"Open In Colab\"/></a>"
      ]
    },
    {
      "cell_type": "markdown",
      "id": "4bd70d0d-afe3-4ab4-aed7-314cf4927db7",
      "metadata": {
        "id": "4bd70d0d-afe3-4ab4-aed7-314cf4927db7"
      },
      "source": [
        "# Lecture 11 -12 Workbook"
      ]
    },
    {
      "cell_type": "markdown",
      "id": "abbbede0-c65a-4fea-a5fa-73c5b31dbe44",
      "metadata": {
        "id": "abbbede0-c65a-4fea-a5fa-73c5b31dbe44"
      },
      "source": [
        "## 1. Dataset Selection"
      ]
    },
    {
      "cell_type": "markdown",
      "id": "1ec9fa71-1a4f-453d-8397-0b5aa8999e64",
      "metadata": {
        "id": "1ec9fa71-1a4f-453d-8397-0b5aa8999e64"
      },
      "source": [
        "    How to search for publicly available healthcare-related datasets?\n",
        "    \n",
        "  "
      ]
    },
    {
      "cell_type": "markdown",
      "id": "0399135f-8d3b-4d6d-a685-6ce2cd5c6c95",
      "metadata": {
        "id": "0399135f-8d3b-4d6d-a685-6ce2cd5c6c95"
      },
      "source": [
        "For this activity, let's selecte a publicly available healthcare dataset, such as the \"Heart Disease UCI\" dataset from the UCI Machine Learning Repository.\n",
        "\n",
        "This dataset contains patient data and is suitable for teaching descriptive statistics and data visualization."
      ]
    },
    {
      "cell_type": "code",
      "execution_count": null,
      "id": "881af3e0-dee3-4fec-9df2-295e62d075b1",
      "metadata": {
        "id": "881af3e0-dee3-4fec-9df2-295e62d075b1"
      },
      "outputs": [],
      "source": [
        "import"
      ]
    },
    {
      "cell_type": "markdown",
      "id": "03704008-05f4-431e-9f57-fb1aaf0447b3",
      "metadata": {
        "id": "03704008-05f4-431e-9f57-fb1aaf0447b3"
      },
      "source": [
        "## 2. Data Loading and Exploration"
      ]
    },
    {
      "cell_type": "markdown",
      "id": "d7dd0afd-82fa-45d0-938a-22009085466c",
      "metadata": {
        "id": "d7dd0afd-82fa-45d0-938a-22009085466c"
      },
      "source": [
        "    How to examine the first few rows of data using the head() function.\n",
        "    How to check for missing values using isnull() and info() functions."
      ]
    },
    {
      "cell_type": "code",
      "execution_count": null,
      "id": "6322d859-b716-4706-9bd1-b9b39eacd2d2",
      "metadata": {
        "id": "6322d859-b716-4706-9bd1-b9b39eacd2d2"
      },
      "outputs": [],
      "source": [
        "\n"
      ]
    },
    {
      "cell_type": "markdown",
      "id": "72897ab2-fa6b-4363-b475-54eaad044a14",
      "metadata": {
        "id": "72897ab2-fa6b-4363-b475-54eaad044a14"
      },
      "source": [
        "## 3. Descriptive Statistics"
      ]
    },
    {
      "cell_type": "markdown",
      "id": "9cefea7b-6e09-41a8-8aac-76ca2db58193",
      "metadata": {
        "id": "9cefea7b-6e09-41a8-8aac-76ca2db58193"
      },
      "source": [
        "    Mean\n",
        "    Median\n",
        "    Mode\n",
        "    Range\n",
        "    Variance\n",
        "    Standard Deviation"
      ]
    },
    {
      "cell_type": "code",
      "execution_count": null,
      "id": "e9e18683-0ad8-47f5-8739-ed7c9a392277",
      "metadata": {
        "id": "e9e18683-0ad8-47f5-8739-ed7c9a392277"
      },
      "outputs": [],
      "source": [
        "# Calculate mean, median, and mode for the 'age' column\n",
        "\n",
        "# Calculate range for the 'chol' column\n",
        "\n",
        "# Calculate variance and standard deviation for the 'thalach' column\n",
        "\n"
      ]
    },
    {
      "cell_type": "markdown",
      "id": "52f11960-96c3-44e6-b4f2-56d77e92ba72",
      "metadata": {
        "id": "52f11960-96c3-44e6-b4f2-56d77e92ba72"
      },
      "source": [
        "## 4. Data Visualization"
      ]
    },
    {
      "cell_type": "markdown",
      "id": "9f75b130-bfa1-4476-8eca-4bea8af948c5",
      "metadata": {
        "id": "9f75b130-bfa1-4476-8eca-4bea8af948c5"
      },
      "source": [
        "    How to create common plots like histograms, box plots, and scatter plots?"
      ]
    },
    {
      "cell_type": "code",
      "execution_count": null,
      "id": "425dab1f-f99f-46a1-8347-e187c2fa19ef",
      "metadata": {
        "id": "425dab1f-f99f-46a1-8347-e187c2fa19ef"
      },
      "outputs": [],
      "source": [
        "import matplotlib.pyplot as plt\n",
        "\n",
        "# Histogram for 'age'\n",
        "\n",
        "\n",
        "# Box plot for 'thalach'\n",
        "\n",
        "\n",
        "# Scatter plot: 'age' vs. 'chol'\n",
        "\n"
      ]
    },
    {
      "cell_type": "markdown",
      "id": "10c4f386-8bbc-4b5c-9c6c-a27f0767ed1f",
      "metadata": {
        "id": "10c4f386-8bbc-4b5c-9c6c-a27f0767ed1f"
      },
      "source": [
        "You can use the Seaborn library to create a variety of visualizations for your healthcare dataset.\n",
        "\n",
        "Seaborn is built on top of Matplotlib and provides a high-level interface for creating informative and attractive statistical graphics.\n",
        "\n",
        "Below are examples of various visualizations using Seaborn:"
      ]
    },
    {
      "cell_type": "code",
      "execution_count": null,
      "id": "553d3c25-b254-4846-a058-478357048ea4",
      "metadata": {
        "id": "553d3c25-b254-4846-a058-478357048ea4"
      },
      "outputs": [],
      "source": [
        "import seaborn as sns\n",
        "\n"
      ]
    },
    {
      "cell_type": "code",
      "execution_count": null,
      "id": "1858e3af-988e-459e-8aa3-1a6e10fc9d06",
      "metadata": {
        "id": "1858e3af-988e-459e-8aa3-1a6e10fc9d06"
      },
      "outputs": [],
      "source": [
        "# Set a seaborn style\n",
        "sns.set(style=\"whitegrid\")"
      ]
    },
    {
      "cell_type": "code",
      "execution_count": null,
      "id": "26468c2e-57ca-494e-815e-11841141487d",
      "metadata": {
        "id": "26468c2e-57ca-494e-815e-11841141487d"
      },
      "outputs": [],
      "source": [
        "# Distribution Plot"
      ]
    },
    {
      "cell_type": "code",
      "execution_count": null,
      "id": "b38477b2-3f47-4ccb-a15b-54c0c94b7867",
      "metadata": {
        "id": "b38477b2-3f47-4ccb-a15b-54c0c94b7867"
      },
      "outputs": [],
      "source": [
        "# Pairplot\n",
        "\n"
      ]
    },
    {
      "cell_type": "code",
      "execution_count": null,
      "id": "7dad0586-feb4-4fcb-a4a7-078de9ba090c",
      "metadata": {
        "id": "7dad0586-feb4-4fcb-a4a7-078de9ba090c"
      },
      "outputs": [],
      "source": [
        "# Countplot\n",
        "\n"
      ]
    },
    {
      "cell_type": "code",
      "execution_count": null,
      "id": "15f06d6f-7f36-4649-a4ad-68cd2c2ef2b3",
      "metadata": {
        "id": "15f06d6f-7f36-4649-a4ad-68cd2c2ef2b3"
      },
      "outputs": [],
      "source": [
        "# Boxplot\n"
      ]
    },
    {
      "cell_type": "code",
      "execution_count": null,
      "id": "eb21445a-466e-45ab-81ce-c6f3ab6b88ef",
      "metadata": {
        "id": "eb21445a-466e-45ab-81ce-c6f3ab6b88ef"
      },
      "outputs": [],
      "source": [
        "\n",
        "# Heatmap (Correlation)\n"
      ]
    },
    {
      "cell_type": "code",
      "execution_count": null,
      "id": "1630ab10-e4f2-4245-b55b-5848e9f7d377",
      "metadata": {
        "id": "1630ab10-e4f2-4245-b55b-5848e9f7d377"
      },
      "outputs": [],
      "source": []
    }
  ],
  "metadata": {
    "kernelspec": {
      "display_name": "Python 3 (ipykernel)",
      "language": "python",
      "name": "python3"
    },
    "language_info": {
      "codemirror_mode": {
        "name": "ipython",
        "version": 3
      },
      "file_extension": ".py",
      "mimetype": "text/x-python",
      "name": "python",
      "nbconvert_exporter": "python",
      "pygments_lexer": "ipython3",
      "version": "3.8.16"
    },
    "colab": {
      "provenance": [],
      "include_colab_link": true
    }
  },
  "nbformat": 4,
  "nbformat_minor": 5
}