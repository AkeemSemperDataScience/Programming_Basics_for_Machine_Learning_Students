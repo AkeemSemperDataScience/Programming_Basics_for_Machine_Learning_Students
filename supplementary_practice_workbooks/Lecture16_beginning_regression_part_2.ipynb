{
 "cells": [
  {
   "cell_type": "markdown",
   "metadata": {},
   "source": [
    "# Lecture 16 Predicting Numerical Values: Getting Started with Regression (Part II)"
   ]
  },
  {
   "cell_type": "markdown",
   "metadata": {},
   "source": [
    "## 16.1 Setup"
   ]
  },
  {
   "cell_type": "code",
   "execution_count": 1,
   "metadata": {},
   "outputs": [],
   "source": [
    "import numpy as np\n",
    "import pandas as pd\n",
    "import seaborn as sns\n",
    "\n",
    "import matplotlib.pyplot as plt\n",
    "\n",
    "%matplotlib inline "
   ]
  },
  {
   "cell_type": "code",
   "execution_count": 2,
   "metadata": {},
   "outputs": [],
   "source": [
    "from sklearn import (datasets,\n",
    "                     linear_model,\n",
    "                     metrics,\n",
    "                     model_selection as skms,\n",
    "                     neighbors)"
   ]
  },
  {
   "cell_type": "code",
   "execution_count": 3,
   "metadata": {},
   "outputs": [],
   "source": [
    "import warnings\n",
    "warnings.filterwarnings('ignore')\n",
    "np.random.seed(42)"
   ]
  },
  {
   "cell_type": "code",
   "execution_count": 4,
   "metadata": {},
   "outputs": [],
   "source": [
    "pd.options.display.float_format = '{:20,.4f}'.format"
   ]
  },
  {
   "cell_type": "markdown",
   "metadata": {},
   "source": [
    "## 16.2 Optimization"
   ]
  },
  {
   "cell_type": "code",
   "execution_count": 5,
   "metadata": {},
   "outputs": [],
   "source": [
    "tgt = np.array([3,5,8,10,12,15])"
   ]
  },
  {
   "cell_type": "code",
   "execution_count": 6,
   "metadata": {},
   "outputs": [
    {
     "data": {
      "text/plain": [
       "7.49448142616835"
      ]
     },
     "execution_count": 6,
     "metadata": {},
     "output_type": "execute_result"
    }
   ],
   "source": [
    "# random guessing\n",
    "num_guesses = 10\n",
    "results = []\n",
    "for g in range(num_guesses):\n",
    "    guess = np.random.uniform(low=tgt.min(),\n",
    "                              high=tgt.max())\n",
    "    total_sse = np.sum((tgt-guess)**2)\n",
    "    results.append((total_sse, guess))\n",
    "best_guess = sorted(results)[0][1]\n",
    "best_guess"
   ]
  },
  {
   "cell_type": "code",
   "execution_count": 7,
   "metadata": {},
   "outputs": [
    {
     "name": "stdout",
     "output_type": "stream",
     "text": [
      "5.097013931549623\n"
     ]
    }
   ],
   "source": [
    "# random step, if it's good\n",
    "num_steps = 100\n",
    "step_size = 0.05\n",
    "\n",
    "best_guess = np.random.uniform(low=tgt.min(),\n",
    "                               high=tgt.max())\n",
    "best_sse = np.sum((tgt-best_guess)**2)\n",
    "\n",
    "for s in range(num_steps):\n",
    "    new_guess = best_guess + (np.random.choice([+1, -1]) * step_size)\n",
    "    new_sse   = np.sum((new_guess-tgt)**2)\n",
    "    if new_sse < best_sse:\n",
    "        best_guess = new_guess\n",
    "        best_sse   = new_sse\n",
    "print(best_guess)"
   ]
  },
  {
   "cell_type": "code",
   "execution_count": 8,
   "metadata": {},
   "outputs": [
    {
     "name": "stdout",
     "output_type": "stream",
     "text": [
      "start: 6.256188381286751\n",
      "end: 8.256188381286709\n"
     ]
    }
   ],
   "source": [
    "# smart steps\n",
    "num_steps = 100\n",
    "step_size = 0.02\n",
    "\n",
    "best_guess = np.random.uniform(low=tgt.min(),\n",
    "                               high=tgt.max())\n",
    "best_sse = np.sum((tgt-best_guess)**2)\n",
    "print('start:', best_guess)\n",
    "\n",
    "for s in range(num_steps):\n",
    "    guesses = best_guess + (np.array([-1, +1]) * step_size)\n",
    "    sses    = np.sum((tgt[:,np.newaxis] - guesses)**2, axis=0)\n",
    "    guess_idx = np.argmin(sses)\n",
    "    \n",
    "    if sses[guess_idx] < best_sse:\n",
    "        best_guess = guesses[guess_idx]\n",
    "        best_sse   = sses[guess_idx]\n",
    "    else:\n",
    "        break\n",
    "\n",
    "print('end:', best_guess)"
   ]
  },
  {
   "cell_type": "code",
   "execution_count": 9,
   "metadata": {},
   "outputs": [
    {
     "data": {
      "text/plain": [
       "8.833333333333334"
      ]
     },
     "execution_count": 9,
     "metadata": {},
     "output_type": "execute_result"
    }
   ],
   "source": [
    "# 7.5, 5.1, 8.3\n",
    "np.mean(tgt)"
   ]
  },
  {
   "cell_type": "markdown",
   "metadata": {},
   "source": [
    "## 16.3 Learning Performance of Regressors"
   ]
  },
  {
   "cell_type": "code",
   "execution_count": 10,
   "metadata": {},
   "outputs": [
    {
     "name": "stdout",
     "output_type": "stream",
     "text": [
      "  3-NN : 55.20\n",
      "  5-NN : 53.01\n",
      " 10-NN : 53.30\n",
      " 20-NN : 52.80\n",
      "linreg : 48.71\n"
     ]
    }
   ],
   "source": [
    "# stand alone code\n",
    "from sklearn import (datasets, \n",
    "                     linear_model, \n",
    "                     model_selection as skms,\n",
    "                     metrics,\n",
    "                     neighbors)\n",
    "\n",
    "# dataset\n",
    "diabetes = datasets.load_diabetes()\n",
    "\n",
    "# tts\n",
    "tts =  skms.train_test_split(diabetes.data,\n",
    "                             diabetes.target, \n",
    "                             test_size=.25)\n",
    "(diabetes_train, diabetes_test, \n",
    " diabetes_train_tgt, diabetes_test_tgt) = tts\n",
    "\n",
    "# define some models\n",
    "models = {'3-NN': neighbors.KNeighborsRegressor(n_neighbors=3),\n",
    "          '5-NN': neighbors.KNeighborsRegressor(n_neighbors=5),\n",
    "          '10-NN': neighbors.KNeighborsRegressor(n_neighbors=10),\n",
    "          '20-NN': neighbors.KNeighborsRegressor(n_neighbors=20),\n",
    "          'linreg' : linear_model.LinearRegression()}\n",
    "\n",
    "for name, model in models.items():\n",
    "    fit   = model.fit(diabetes_train, diabetes_train_tgt)\n",
    "    preds = fit.predict(diabetes_test)\n",
    "    score = np.sqrt(metrics.mean_squared_error(diabetes_test_tgt, \n",
    "                                               preds))\n",
    "    print(\"{:>6s} : {:0.2f}\".format(name,score))"
   ]
  }
 ],
 "metadata": {
  "kernelspec": {
   "display_name": "Python 3 (ipykernel)",
   "language": "python",
   "name": "python3"
  },
  "language_info": {
   "codemirror_mode": {
    "name": "ipython",
    "version": 3
   },
   "file_extension": ".py",
   "mimetype": "text/x-python",
   "name": "python",
   "nbconvert_exporter": "python",
   "pygments_lexer": "ipython3",
   "version": "3.8.16"
  }
 },
 "nbformat": 4,
 "nbformat_minor": 4
}
