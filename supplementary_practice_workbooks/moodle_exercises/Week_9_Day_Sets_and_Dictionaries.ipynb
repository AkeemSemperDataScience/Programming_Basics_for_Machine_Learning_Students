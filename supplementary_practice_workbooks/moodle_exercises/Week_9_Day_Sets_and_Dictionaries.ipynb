{
  "nbformat": 4,
  "nbformat_minor": 0,
  "metadata": {
    "colab": {
      "name": "Week 9 Day - Sets and Dictionaries.ipynb",
      "provenance": [],
      "collapsed_sections": []
    },
    "kernelspec": {
      "name": "python3",
      "display_name": "Python 3"
    },
    "language_info": {
      "name": "python"
    }
  },
  "cells": [
    {
      "cell_type": "markdown",
      "metadata": {
        "id": "uuPtDzdHFGLF"
      },
      "source": [
        "# Week 9 - Sets and Dictionaries\n",
        "\n",
        "- Announcements\n",
        "- Sets Review\n",
        "    - subsets\n",
        "    - union\n",
        "    - intersection\n",
        "    - difference\n",
        "- dictionaries\n",
        "    - creating a dicationary\n",
        "    - checking if a key is in the dictionary\n",
        "    - access in and changing dictionary values\n",
        "    - traversing dictionaries\n",
        "- Complex data structures\n",
        "    - creating and accessing complex data structures."
      ]
    },
    {
      "cell_type": "markdown",
      "metadata": {
        "id": "UConBSk7GMhh"
      },
      "source": [
        "### Sets\n"
      ]
    },
    {
      "cell_type": "code",
      "metadata": {
        "colab": {
          "base_uri": "https://localhost:8080/"
        },
        "id": "Io92j7W4YXS9",
        "outputId": "d3feb8d1-e5a2-4bfd-8e1a-87a45e246c3c"
      },
      "source": [
        "# Sets of flags\n",
        "\n",
        "canada_flag = {\"red\", \"white\"}\n",
        "british_flag = {\"red\", \"white\", \"blue\"}\n",
        "jamaican_flag = {\"black\", \"green\"}\n",
        "\n",
        "\n",
        "# if you're ever confused about what type it is here's what you can use\n",
        "print(type(canada_flag))\n",
        "\n",
        "# Adding to a set\n",
        "\n",
        "# Oh no we've forgotten gold in the jamaican flag.\n",
        "# Let's add gold to the flag\n",
        "jamaican_flag.add(\"gold\")\n",
        "\n",
        "print(jamaican_flag)\n",
        "\n"
      ],
      "execution_count": null,
      "outputs": [
        {
          "output_type": "stream",
          "name": "stdout",
          "text": [
            "<class 'set'>\n",
            "{'black', 'green', 'gold'}\n"
          ]
        }
      ]
    },
    {
      "cell_type": "code",
      "metadata": {
        "colab": {
          "base_uri": "https://localhost:8080/",
          "height": 238
        },
        "id": "jM0liPZ-ZWsR",
        "outputId": "586bdba7-0c0f-495e-90b0-ad948704ac3a"
      },
      "source": [
        "# Let's add and remove from the set\n",
        "\n",
        "canada_flag.add(\"rouge\")\n",
        "print(canada_flag)\n",
        "\n",
        "# Two ways to discard this color.\n",
        "canada_flag.discard(\"rouge\")\n",
        "print(canada_flag)\n",
        "\n",
        "# it's not going to throw an error if you try to remove something that isn't there.\n",
        "canada_flag.discard(\"green\")\n",
        "\n",
        "# if you use .remove it will throw an error if the key isn't present.d\n",
        "# but other otherwise it's the same!\n",
        "canada_flag.remove(\"green\")"
      ],
      "execution_count": null,
      "outputs": [
        {
          "output_type": "stream",
          "name": "stdout",
          "text": [
            "{'rouge', 'red', 'white'}\n",
            "{'red', 'white'}\n"
          ]
        },
        {
          "output_type": "error",
          "ename": "KeyError",
          "evalue": "ignored",
          "traceback": [
            "\u001b[0;31m---------------------------------------------------------------------------\u001b[0m",
            "\u001b[0;31mKeyError\u001b[0m                                  Traceback (most recent call last)",
            "\u001b[0;32m<ipython-input-6-ef8a8f6e1feb>\u001b[0m in \u001b[0;36m<module>\u001b[0;34m()\u001b[0m\n\u001b[1;32m     12\u001b[0m \u001b[0;34m\u001b[0m\u001b[0m\n\u001b[1;32m     13\u001b[0m \u001b[0;31m# if you use .remove it will throw an error\u001b[0m\u001b[0;34m\u001b[0m\u001b[0;34m\u001b[0m\u001b[0;34m\u001b[0m\u001b[0m\n\u001b[0;32m---> 14\u001b[0;31m \u001b[0mcanada_flag\u001b[0m\u001b[0;34m.\u001b[0m\u001b[0mremove\u001b[0m\u001b[0;34m(\u001b[0m\u001b[0;34m\"green\"\u001b[0m\u001b[0;34m)\u001b[0m\u001b[0;34m\u001b[0m\u001b[0;34m\u001b[0m\u001b[0m\n\u001b[0m",
            "\u001b[0;31mKeyError\u001b[0m: 'green'"
          ]
        }
      ]
    },
    {
      "cell_type": "code",
      "metadata": {
        "colab": {
          "base_uri": "https://localhost:8080/"
        },
        "id": "00JC0dPIaNyB",
        "outputId": "fcc34850-7874-4b37-a97b-659474e84c7e"
      },
      "source": [
        "# clearing a set\n",
        "\n",
        "# if you use clear it's just going to remove everything\n",
        "\n",
        "canada_flag.clear()\n",
        "print(canada_flag)\n",
        "\n",
        "\n",
        "canada_flag.add(\"red\")\n",
        "canada_flag.add(\"white\")\n",
        "\n",
        "print(canada_flag)"
      ],
      "execution_count": null,
      "outputs": [
        {
          "output_type": "stream",
          "name": "stdout",
          "text": [
            "set()\n",
            "{'red', 'white'}\n"
          ]
        }
      ]
    },
    {
      "cell_type": "code",
      "metadata": {
        "colab": {
          "base_uri": "https://localhost:8080/"
        },
        "id": "9PdP8LxMajq3",
        "outputId": "b96e1a6a-b4e1-47ca-80c3-59ab358e77d1"
      },
      "source": [
        "# Sets\n",
        "\n",
        "# why do you use sets\n",
        "# normally you use this to compare two lists of things.\n",
        "\n",
        "canada_flag = {\"red\", \"white\"}\n",
        "british_flag = {\"red\", \"white\", \"blue\"}\n",
        "jamaican_flag = {\"black\", \"green\", \"gold\"}\n",
        "\n",
        "# issubset\n",
        "# you're essentially just checking to see if the \"venn diagram\" is a circle containing another circle.\n",
        "\n",
        "# here we see that red and white are both in british flag of red white and blue.\n",
        "# on the left is what we're checking to see if it's contained in the arguemnt of issubset.\n",
        "print(\"Are all canadian flag colours in the british flag?\")\n",
        "print(canada_flag.issubset(british_flag))\n",
        "\n",
        "print(\"Are all british flag colours in the canadian flag?\")\n",
        "print(british_flag.issubset(canada_flag))\n",
        "\n"
      ],
      "execution_count": null,
      "outputs": [
        {
          "output_type": "stream",
          "name": "stdout",
          "text": [
            "Are all canadian flag colours in the british flag?\n",
            "True\n",
            "Are all british flag colours in the canadian flag?\n",
            "False\n"
          ]
        }
      ]
    },
    {
      "cell_type": "code",
      "metadata": {
        "colab": {
          "base_uri": "https://localhost:8080/"
        },
        "id": "Z9ZjVu3KcPa8",
        "outputId": "66ce9bbd-13a4-4590-e8a8-1cf1df6dd632"
      },
      "source": [
        "# if you really wanted you could loop over a set it is unordered.\n",
        "\n",
        "print(\"What are the colors in the jamaican flag?\")\n",
        "for color in jamaican_flag:\n",
        "    print(color)"
      ],
      "execution_count": null,
      "outputs": [
        {
          "output_type": "stream",
          "name": "stdout",
          "text": [
            "What are the colors in the jamaican flag?\n",
            "black\n",
            "green\n",
            "gold\n"
          ]
        }
      ]
    },
    {
      "cell_type": "code",
      "metadata": {
        "colab": {
          "base_uri": "https://localhost:8080/"
        },
        "id": "7nNma4RfdPkq",
        "outputId": "3e28a301-1b91-4e4b-8a33-82f973f5a9e6"
      },
      "source": [
        "# Let's talk about inequality and equality of sets.\n",
        "\n",
        "french_flag = {\"blue\", \"white\", \"red\"}\n",
        "british_flag = {\"red\", \"white\", \"blue\"}\n",
        "\n",
        "print(\"Do they contain the same colors.\")\n",
        "print(french_flag == british_flag)\n",
        "\n",
        "# this is different from lists as we don't care about order.\n",
        "\n"
      ],
      "execution_count": null,
      "outputs": [
        {
          "output_type": "stream",
          "name": "stdout",
          "text": [
            "Do they contain the same colors.\n",
            "True\n"
          ]
        }
      ]
    },
    {
      "cell_type": "code",
      "metadata": {
        "colab": {
          "base_uri": "https://localhost:8080/"
        },
        "id": "fFrH8aSJedly",
        "outputId": "35f0eb8a-fa77-4adc-bf90-e1902f978acc"
      },
      "source": [
        "# Let's talk about union\n",
        "# it essentially bring back all of the items not duplicated of both lists\n",
        "\n",
        "british_flag.union(french_flag)\n",
        "\n",
        "# The same items not repeated. This is something super handy for handling duplicates\n",
        "\n",
        "# it's going to give back all of the colors\n",
        "british_flag.union(jamaican_flag)\n"
      ],
      "execution_count": null,
      "outputs": [
        {
          "output_type": "execute_result",
          "data": {
            "text/plain": [
              "{'black', 'blue', 'gold', 'green', 'red', 'white'}"
            ]
          },
          "metadata": {},
          "execution_count": 28
        }
      ]
    },
    {
      "cell_type": "code",
      "metadata": {
        "colab": {
          "base_uri": "https://localhost:8080/"
        },
        "id": "1NCdpIrifCXq",
        "outputId": "0a3c3e2d-520a-47c5-bb79-859af7512bb0"
      },
      "source": [
        "# Intersection and difference\n",
        "british_flag = {\"red\", \"white\", \"blue\"}\n",
        "italian_flag = {\"red\", \"white\", \"green\"}\n",
        "\n",
        "# intersection is kind of the middle overlapping piece of a venn diagram.\n",
        "print(\"Colors in both british and italian flag\")\n",
        "print(british_flag.intersection(italian_flag))\n",
        "\n",
        "# above you see red and green!\n",
        "\n",
        "# Difference is just the opposite so it's just going to give you the pieces that are not overlapping\n",
        "print(\"Colors that are either in the british flag or the italian flag but not both.\")\n",
        "print(british_flag.difference(italian_flag))\n",
        "print(italian_flag.difference(british_flag))\n"
      ],
      "execution_count": null,
      "outputs": [
        {
          "output_type": "stream",
          "name": "stdout",
          "text": [
            "Colors in both british and italian flag\n",
            "{'red', 'white'}\n",
            "Colors that are either in the british flag or the italian flag but not both.\n",
            "{'blue'}\n",
            "{'green'}\n"
          ]
        }
      ]
    },
    {
      "cell_type": "markdown",
      "metadata": {
        "id": "p5YJob2zjaaX"
      },
      "source": [
        "### Dictionaries\n"
      ]
    },
    {
      "cell_type": "code",
      "metadata": {
        "colab": {
          "base_uri": "https://localhost:8080/"
        },
        "id": "0HqNutJBjcwB",
        "outputId": "1d212d99-ea6c-4343-83b8-8dd9bc9f0dd7"
      },
      "source": [
        "# let's create a dictionary\n",
        "\n",
        "# how do you create a dictionary\n",
        "# use curly braces.\n",
        "# you have a key that's on the left\n",
        "# in the \"names\" dictionary we have two keys \"teacher_name\" and \"student_names\"\n",
        "# these are on the left of the colon\n",
        "# we also values which are on the right of the colon.\n",
        "# we can have different types of values below we have\n",
        "# \"Dan\" which is a string\n",
        "# note all of the key value pairs are comma separated.\n",
        "# a list of student names.\n",
        "names = {\n",
        "    \"teacher_name\": \"Dan\",\n",
        "    \"student_names\": [\n",
        "        \"Andrew\",\n",
        "        \"Alexandra\",\n",
        "        \"Azim\"\n",
        "    ]\n",
        "}\n",
        "\n",
        "print(type(names))\n",
        "print(names)\n",
        "\n",
        "# Second example.\n",
        "tv_show_ratings = {\n",
        "    \"the walking dead\": 5,\n",
        "    \"Game of thrones\": 8,\n",
        "    \"The witcher\": 9,\n",
        "    \"Breaking bad\": 10,\n",
        "    \"Tiger King\": 6,\n",
        "    \"Mind your language\": 7,\n",
        "}\n",
        "\n"
      ],
      "execution_count": null,
      "outputs": [
        {
          "output_type": "stream",
          "name": "stdout",
          "text": [
            "<class 'dict'>\n",
            "{'teacher_name': 'Dan', 'student_names': ['Andrew', 'Alexandra', 'Azim']}\n"
          ]
        }
      ]
    },
    {
      "cell_type": "code",
      "metadata": {
        "id": "wocn0bAGlZS6"
      },
      "source": [
        "# You can create copy using dict\n",
        "\n",
        "tv_show_ratings_two = dict(tv_show_ratings)\n"
      ],
      "execution_count": null,
      "outputs": []
    },
    {
      "cell_type": "code",
      "metadata": {
        "colab": {
          "base_uri": "https://localhost:8080/"
        },
        "id": "imkk9omdlyJJ",
        "outputId": "0b9cc77c-e46a-462d-85a2-5e983a4ba89e"
      },
      "source": [
        "# How do you access these values?\n",
        "\n",
        "tv_show_ratings = {\n",
        "    \"the walking dead\": 5,\n",
        "    \"Game of thrones\": 8,\n",
        "    \"The witcher\": 9,\n",
        "    \"Breaking bad\": 10,\n",
        "    \"Tiger King\": 6,\n",
        "    \"Mind your language\": 7,\n",
        "}\n",
        "\n",
        "# Essentially you use the same square brackets as accessing an item in a list except\n",
        "# you pass in the key (what's on the left).\n",
        "print(\"What is the rating of the walking dead\")\n",
        "print(tv_show_ratings[\"the walking dead\"])\n",
        "\n",
        "# A second example of accessing\n",
        "\n",
        "names = {\n",
        "    \"teacher_name\": \"Dan\",\n",
        "    \"student_names\": [\n",
        "        \"Andrew\",\n",
        "        \"Alexandra\",\n",
        "        \"Azim\"\n",
        "    ]\n",
        "}\n",
        "\n",
        "print(\"what is the first name on the list of students.\")\n",
        "# here we know that student names is returns a list so\n",
        "# we can actually just use our knowledge of lists and dictionaries\n",
        "# to access, the first part being accessing the key of student names names[\"student_names\"]\n",
        "# and the second part being accessing the list index of zero names[\"student_names\"][0]\n",
        "print(names[\"student_names\"][0])"
      ],
      "execution_count": null,
      "outputs": [
        {
          "output_type": "stream",
          "name": "stdout",
          "text": [
            "What is the rating of the walking dead\n",
            "5\n",
            "what is the first name on the list of students.\n",
            "Andrew\n"
          ]
        }
      ]
    },
    {
      "cell_type": "code",
      "metadata": {
        "colab": {
          "base_uri": "https://localhost:8080/"
        },
        "id": "4wYxINoenMJC",
        "outputId": "9da8580a-b982-424e-efd0-9d0884d2b20e"
      },
      "source": [
        "# Let's talk about the \"in\" operator.\n",
        "\n",
        "tv_show_ratings = {\n",
        "    \"the walking dead\": 5,\n",
        "    \"Game of thrones\": 8,\n",
        "    \"The witcher\": 9,\n",
        "    \"Breaking bad\": 10,\n",
        "    \"Tiger King\": 6,\n",
        "    \"Mind your language\": 7,\n",
        "}\n",
        "\n",
        "# if you use the in operator on the dictionary it's going to keys.\n",
        "print(\"Have we rated game of thones?\")\n",
        "print(\"Game of thrones\" in tv_show_ratings) # we can see here that Game of thrones is in the keys.\n"
      ],
      "execution_count": null,
      "outputs": [
        {
          "output_type": "stream",
          "name": "stdout",
          "text": [
            "Have we rated game of thones?\n",
            "True\n",
            "dict_items([('the walking dead', 5), ('Game of thrones', 8), ('The witcher', 9), ('Breaking bad', 10), ('Tiger King', 6), ('Mind your language', 7)])\n"
          ]
        }
      ]
    },
    {
      "cell_type": "code",
      "metadata": {
        "colab": {
          "base_uri": "https://localhost:8080/"
        },
        "id": "LI0iLrGwnWl5",
        "outputId": "20734c82-0c78-498a-b7db-1f5562e273b8"
      },
      "source": [
        "# Default Keys\n",
        "tv_show_ratings = {\n",
        "    \"the walking dead\": 5,\n",
        "    \"Game of thrones\": 8,\n",
        "    \"The witcher\": 9,\n",
        "    \"Breaking bad\": 10,\n",
        "    \"Tiger King\": 6,\n",
        "    \"Mind your language\": 7,\n",
        "}\n",
        "print(\"what's the rating of the show that's the key we pass in\")\n",
        "print(tv_show_ratings.get(\"the walking dead\", \"Not Rated Yet\"))\n",
        "# here we see that the value for the walking dead is defined so we don't use the default.\n",
        "\n",
        "# but what about a show we haven't rated yet. \"Not Rated Yet\" is just the default\n",
        "# The second argument is just the default .\n",
        "print(tv_show_ratings.get(\"ted lasso\", \"Not Rated Yet\"))\n",
        "\n",
        "# one of the bigger benefits of using .get is it's not going to give us an error.\n",
        "# for example below we're going to get an error if we use square brackets to access\n",
        "# ted lasso.\n",
        "# tv_show_ratings[\"ted lasso\"]\n",
        "\n",
        "print(tv_show_ratings)"
      ],
      "execution_count": null,
      "outputs": [
        {
          "output_type": "stream",
          "name": "stdout",
          "text": [
            "what's the rating of the show that's the key we pass in\n",
            "5\n",
            "Not Rated Yet\n",
            "{'the walking dead': 5, 'Game of thrones': 8, 'The witcher': 9, 'Breaking bad': 10, 'Tiger King': 6, 'Mind your language': 7}\n"
          ]
        }
      ]
    },
    {
      "cell_type": "code",
      "metadata": {
        "colab": {
          "base_uri": "https://localhost:8080/"
        },
        "id": "9NAC8ExoqKny",
        "outputId": "7cc83303-3fd2-4994-a4fb-8dfad6ca4824"
      },
      "source": [
        "# We want to add a rating to a show.\n",
        "\n",
        "tv_show_ratings = {\n",
        "    \"the walking dead\": 5,\n",
        "    \"Game of thrones\": 8,\n",
        "    \"The witcher\": 9,\n",
        "    \"Breaking bad\": 10,\n",
        "    \"Tiger King\": 6,\n",
        "    \"Mind your language\": 7,\n",
        "}\n",
        "# if we want to add another show to this list.\n",
        "\n",
        "tv_show_ratings[\"the morning show\"] = 9\n",
        "\n",
        "# that's it you essentially just add the new key and add a new value.\n",
        "\n",
        "print(\"the morning show\" in tv_show_ratings)\n",
        "print(tv_show_ratings)\n",
        "\n",
        "# it's the same thing for modifying these values.\n",
        "# we've watched the finally of game of thrones and we really disliked it.\n",
        "tv_show_ratings[\"Game of thrones\"] = 6\n",
        "\n",
        "print(\"What is the new rating of game of thrones after we watched the finale\")\n",
        "print(tv_show_ratings[\"Game of thrones\"])"
      ],
      "execution_count": null,
      "outputs": [
        {
          "output_type": "stream",
          "name": "stdout",
          "text": [
            "True\n",
            "{'the walking dead': 5, 'Game of thrones': 8, 'The witcher': 9, 'Breaking bad': 10, 'Tiger King': 6, 'Mind your language': 7, 'the morning show': 9}\n",
            "What is the new rating of game of thrones after we watched the finale\n",
            "6\n"
          ]
        }
      ]
    },
    {
      "cell_type": "code",
      "metadata": {
        "colab": {
          "base_uri": "https://localhost:8080/"
        },
        "id": "pS1t6K2MrQSe",
        "outputId": "3cef616b-ff6e-4762-c9ab-d1768db82a91"
      },
      "source": [
        "# How do we remove a value from a dictionary.\n",
        "tv_show_ratings = {\n",
        "    \"the walking dead\": 5,\n",
        "    \"Game of thrones\": 8,\n",
        "    \"The witcher\": 9,\n",
        "    \"Breaking bad\": 10,\n",
        "    \"Tiger King\": 6,\n",
        "    \"Mind your language\": 7,\n",
        "}\n",
        "\n",
        "# we longer want to have a rating for tiger king as an example.\n",
        "# we can remove that rating by using pop and pass in the key.\n",
        "\n",
        "tv_show_ratings.pop(\"Tiger King\")\n",
        "print(tv_show_ratings)"
      ],
      "execution_count": null,
      "outputs": [
        {
          "output_type": "stream",
          "name": "stdout",
          "text": [
            "{'the walking dead': 5, 'Game of thrones': 8, 'The witcher': 9, 'Breaking bad': 10, 'Mind your language': 7}\n"
          ]
        }
      ]
    },
    {
      "cell_type": "code",
      "metadata": {
        "colab": {
          "base_uri": "https://localhost:8080/"
        },
        "id": "_r8ezb7Rr8F3",
        "outputId": "cdfaf78c-5840-433f-9d5e-5103557520dc"
      },
      "source": [
        "# Let's talk about looping through these items.\n",
        "\n",
        "# Looping the dictionary in the simplest way.\n",
        "tv_show_ratings = {\n",
        "    \"the walking dead\": 5,\n",
        "    \"Game of thrones\": 8,\n",
        "    \"The witcher\": 9,\n",
        "    \"Breaking bad\": 10,\n",
        "    \"Tiger King\": 6,\n",
        "    \"Mind your language\": 7,\n",
        "}\n",
        "\n",
        "for key in tv_show_ratings:\n",
        "    print(key)\n",
        "    # if we'd want to get the value in this example\n",
        "    print(tv_show_ratings[key])\n",
        "    print(\"-----------this is a divider --------------\")"
      ],
      "execution_count": null,
      "outputs": [
        {
          "output_type": "stream",
          "name": "stdout",
          "text": [
            "the walking dead\n",
            "5\n",
            "-----------this is a divider --------------\n",
            "Game of thrones\n",
            "8\n",
            "-----------this is a divider --------------\n",
            "The witcher\n",
            "9\n",
            "-----------this is a divider --------------\n",
            "Breaking bad\n",
            "10\n",
            "-----------this is a divider --------------\n",
            "Tiger King\n",
            "6\n",
            "-----------this is a divider --------------\n",
            "Mind your language\n",
            "7\n",
            "-----------this is a divider --------------\n"
          ]
        }
      ]
    },
    {
      "cell_type": "code",
      "metadata": {
        "colab": {
          "base_uri": "https://localhost:8080/"
        },
        "id": "KuVxWV-Lsd89",
        "outputId": "8eaf5854-1dac-420f-fae1-884c5dd253ae"
      },
      "source": [
        "# another way to loop through a dictionary\n",
        "\n",
        "tv_show_ratings = {\n",
        "    \"the walking dead\": 5,\n",
        "    \"Game of thrones\": 8,\n",
        "    \"The witcher\": 9,\n",
        "    \"Breaking bad\": 10,\n",
        "    \"Tiger King\": 6,\n",
        "    \"Mind your language\": 7,\n",
        "}\n",
        "\n",
        "# The key and the value \n",
        "for key, value in tv_show_ratings.items():\n",
        "    print(key)\n",
        "    print(value)\n",
        "    print(\"-------------------\")"
      ],
      "execution_count": null,
      "outputs": [
        {
          "output_type": "stream",
          "name": "stdout",
          "text": [
            "the walking dead\n",
            "5\n",
            "-------------------\n",
            "Game of thrones\n",
            "8\n",
            "-------------------\n",
            "The witcher\n",
            "9\n",
            "-------------------\n",
            "Breaking bad\n",
            "10\n",
            "-------------------\n",
            "Tiger King\n",
            "6\n",
            "-------------------\n",
            "Mind your language\n",
            "7\n",
            "-------------------\n"
          ]
        }
      ]
    },
    {
      "cell_type": "code",
      "metadata": {
        "colab": {
          "base_uri": "https://localhost:8080/"
        },
        "id": "QscqZkHutEPh",
        "outputId": "bc3a4ca5-dec1-4f70-9b44-cd33cbea8e55"
      },
      "source": [
        "# What if there are multiple values with one key.\n",
        "names = {\n",
        "    \"teacher_name\": \"Dan\",\n",
        "    \"student_names\": [\n",
        "        \"Andrew\",\n",
        "        \"Alexandra\",\n",
        "        \"Azim\"\n",
        "    ]\n",
        "}\n",
        "\n",
        "for key, value in names.items():\n",
        "    print(key)\n",
        "    print(value)\n",
        "    if type(value) == list: # if this is a list then loop through it.\n",
        "        for name in value:\n",
        "            print(name)\n",
        "    print(\"------------\")\n",
        "\n",
        "# say for example let's loop through the student names\n",
        "for name in names[\"student_names\"]:\n",
        "    print(name)names = {\n",
        "    \"teacher_name\": \"Dan\",\n",
        "    \"student_names\": [\n",
        "        \"Andrew\",\n",
        "        \"Alexandra\",\n",
        "        \"Azim\"\n",
        "    ]\n",
        "}"
      ],
      "execution_count": null,
      "outputs": [
        {
          "output_type": "stream",
          "name": "stdout",
          "text": [
            "teacher_name\n",
            "Dan\n",
            "------------\n",
            "student_names\n",
            "['Andrew', 'Alexandra', 'Azim']\n",
            "Andrew\n",
            "Alexandra\n",
            "Azim\n",
            "------------\n",
            "Andrew\n",
            "Alexandra\n",
            "Azim\n"
          ]
        }
      ]
    },
    {
      "cell_type": "code",
      "metadata": {
        "colab": {
          "base_uri": "https://localhost:8080/"
        },
        "id": "-fr4vNrjuEz6",
        "outputId": "c914836d-4d64-4af2-f26a-b63a126ff9da"
      },
      "source": [
        "# You can also just loop through the values\n",
        "tv_show_ratings = {\n",
        "    \"the walking dead\": 5,\n",
        "    \"Game of thrones\": 8,\n",
        "    \"The witcher\": 9,\n",
        "    \"Breaking bad\": 10,\n",
        "    \"Tiger King\": 6,\n",
        "    \"Mind your language\": 7,\n",
        "}\n",
        "\n",
        "print(\"What ratings have you given the shows you've watched?\")\n",
        "for show_rating in tv_show_ratings.values():\n",
        "    print(show_rating)"
      ],
      "execution_count": null,
      "outputs": [
        {
          "output_type": "stream",
          "name": "stdout",
          "text": [
            "What ratings have you given the shows you've watched?\n",
            "5\n",
            "8\n",
            "9\n",
            "10\n",
            "6\n",
            "7\n"
          ]
        }
      ]
    },
    {
      "cell_type": "markdown",
      "metadata": {
        "id": "s0VWpdnFwGip"
      },
      "source": [
        "### Complex Data structures and some fun."
      ]
    },
    {
      "cell_type": "code",
      "metadata": {
        "colab": {
          "base_uri": "https://localhost:8080/"
        },
        "id": "gFs2J9NVzwAa",
        "outputId": "2fae511c-2598-4214-8f70-0e270fb5a3a0"
      },
      "source": [
        "# we're going to use a library requests.\n",
        "import pprint\n",
        "import requests\n",
        "\n",
        "response = requests.get(\"https://cat-fact.herokuapp.com/facts\")\n",
        "data = response.json()\n",
        "\n",
        "# a note the json is just a string that is easy to parse into a dictionary\n",
        "print(response.text)\n",
        "\n",
        "\n",
        "# here we can see a list of dictionaries.\n",
        "# uncomment to see this.\n",
        "# pprint.pprint(data)\n",
        "\n",
        "# let's take a look at the first item in this list of dictionaries\n",
        "# print(\"what is the type: \" + str(type(data[0])))\n",
        "# pprint.pprint(data[0])\n",
        "\n",
        "print(\"what is the cat fact we fetched?\")\n",
        "print(data[0]['text'])\n",
        "# from the above right we know that we have a list of dictionaries\n",
        "\n",
        "print(\"\\n All of the facts listed\")\n",
        "# if we want to print all cat facts we'd do this:\n",
        "for single_cat_fact_data in data:\n",
        "    print(single_cat_fact_data[\"text\"])\n",
        "    \n",
        "\n"
      ],
      "execution_count": null,
      "outputs": [
        {
          "output_type": "stream",
          "name": "stdout",
          "text": [
            "[{\"status\":{\"verified\":true,\"sentCount\":1},\"_id\":\"58e008800aac31001185ed07\",\"user\":\"58e007480aac31001185ecef\",\"text\":\"Wikipedia has a recording of a cat meowing, because why not?\",\"__v\":0,\"source\":\"user\",\"updatedAt\":\"2020-08-23T20:20:01.611Z\",\"type\":\"cat\",\"createdAt\":\"2018-03-06T21:20:03.505Z\",\"deleted\":false,\"used\":false},{\"status\":{\"verified\":true,\"sentCount\":1},\"_id\":\"58e008630aac31001185ed01\",\"user\":\"58e007480aac31001185ecef\",\"text\":\"When cats grimace, they are usually \\\"taste-scenting.\\\" They have an extra organ that, with some breathing control, allows the cats to taste-sense the air.\",\"__v\":0,\"source\":\"user\",\"updatedAt\":\"2020-08-23T20:20:01.611Z\",\"type\":\"cat\",\"createdAt\":\"2018-02-07T21:20:02.903Z\",\"deleted\":false,\"used\":false},{\"status\":{\"verified\":true,\"sentCount\":1},\"_id\":\"58e00a090aac31001185ed16\",\"user\":\"58e007480aac31001185ecef\",\"text\":\"Cats make more than 100 different sounds whereas dogs make around 10.\",\"__v\":0,\"source\":\"user\",\"updatedAt\":\"2020-08-23T20:20:01.611Z\",\"type\":\"cat\",\"createdAt\":\"2018-02-11T21:20:03.745Z\",\"deleted\":false,\"used\":false},{\"status\":{\"verified\":true,\"sentCount\":1},\"_id\":\"58e009390aac31001185ed10\",\"user\":\"58e007480aac31001185ecef\",\"text\":\"Most cats are lactose intolerant, and milk can cause painful stomach cramps and diarrhea. It's best to forego the milk and just give your cat the standard: clean, cool drinking water.\",\"__v\":0,\"source\":\"user\",\"updatedAt\":\"2020-08-23T20:20:01.611Z\",\"type\":\"cat\",\"createdAt\":\"2018-03-04T21:20:02.979Z\",\"deleted\":false,\"used\":false},{\"status\":{\"verified\":true,\"sentCount\":1},\"_id\":\"58e008780aac31001185ed05\",\"user\":\"58e007480aac31001185ecef\",\"text\":\"Owning a cat can reduce the risk of stroke and heart attack by a third.\",\"__v\":0,\"source\":\"user\",\"updatedAt\":\"2020-08-23T20:20:01.611Z\",\"type\":\"cat\",\"createdAt\":\"2018-03-29T20:20:03.844Z\",\"deleted\":false,\"used\":false}]\n",
            "what is the cat fact we fetched?\n",
            "Wikipedia has a recording of a cat meowing, because why not?\n",
            "\n",
            " All of the facts listed\n",
            "Wikipedia has a recording of a cat meowing, because why not?\n",
            "When cats grimace, they are usually \"taste-scenting.\" They have an extra organ that, with some breathing control, allows the cats to taste-sense the air.\n",
            "Cats make more than 100 different sounds whereas dogs make around 10.\n",
            "Most cats are lactose intolerant, and milk can cause painful stomach cramps and diarrhea. It's best to forego the milk and just give your cat the standard: clean, cool drinking water.\n",
            "Owning a cat can reduce the risk of stroke and heart attack by a third.\n"
          ]
        }
      ]
    },
    {
      "cell_type": "code",
      "metadata": {
        "id": "fm4JeX5bzvLd"
      },
      "source": [
        ""
      ],
      "execution_count": null,
      "outputs": []
    }
  ]
}