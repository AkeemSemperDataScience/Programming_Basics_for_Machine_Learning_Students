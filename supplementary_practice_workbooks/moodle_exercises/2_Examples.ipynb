{
 "cells": [
  {
   "cell_type": "code",
   "execution_count": 2,
   "metadata": {},
   "outputs": [
    {
     "name": "stdout",
     "output_type": "stream",
     "text": [
      "5\n"
     ]
    }
   ],
   "source": [
    "# Testing different types in the same variable\n",
    "taxRate = 5  # int\n",
    "print(taxRate)\n"
   ]
  },
  {
   "cell_type": "code",
   "execution_count": 4,
   "metadata": {},
   "outputs": [
    {
     "name": "stdout",
     "output_type": "stream",
     "text": [
      "Non-taxable\n"
     ]
    }
   ],
   "source": [
    "taxrate = 5.5  # float\n",
    "print(taxRate)\n"
   ]
  },
  {
   "cell_type": "code",
   "execution_count": 5,
   "metadata": {},
   "outputs": [
    {
     "name": "stdout",
     "output_type": "stream",
     "text": [
      "5\n",
      "5\n",
      "Non-taxable\n"
     ]
    },
    {
     "ename": "TypeError",
     "evalue": "can only concatenate str (not \"int\") to str",
     "output_type": "error",
     "traceback": [
      "\u001b[1;31m---------------------------------------------------------------------------\u001b[0m",
      "\u001b[1;31mTypeError\u001b[0m                                 Traceback (most recent call last)",
      "\u001b[1;32m<ipython-input-5-e44d47a79f26>\u001b[0m in \u001b[0;36m<module>\u001b[1;34m\u001b[0m\n\u001b[0;32m      6\u001b[0m \u001b[0mtaxRate\u001b[0m \u001b[1;33m=\u001b[0m \u001b[1;34m\"Non-taxable\"\u001b[0m \u001b[1;31m# string\u001b[0m\u001b[1;33m\u001b[0m\u001b[1;33m\u001b[0m\u001b[0m\n\u001b[0;32m      7\u001b[0m \u001b[0mprint\u001b[0m\u001b[1;33m(\u001b[0m\u001b[0mtaxRate\u001b[0m\u001b[1;33m)\u001b[0m\u001b[1;33m\u001b[0m\u001b[1;33m\u001b[0m\u001b[0m\n\u001b[1;32m----> 8\u001b[1;33m \u001b[0mprint\u001b[0m\u001b[1;33m(\u001b[0m\u001b[0mtaxRate\u001b[0m \u001b[1;33m+\u001b[0m \u001b[1;36m5\u001b[0m\u001b[1;33m)\u001b[0m\u001b[1;33m\u001b[0m\u001b[1;33m\u001b[0m\u001b[0m\n\u001b[0m",
      "\u001b[1;31mTypeError\u001b[0m: can only concatenate str (not \"int\") to str"
     ]
    }
   ],
   "source": [
    "# Testing different types in the same variable\n",
    "taxRate = 5  # int\n",
    "print(taxRate)\n",
    "taxrate = 5.5  # float\n",
    "print(taxRate)\n",
    "taxRate = \"Non-taxable\" # string\n",
    "print(taxRate)\n",
    "print(taxRate + 5)\n"
   ]
  },
  {
   "cell_type": "code",
   "execution_count": 6,
   "metadata": {},
   "outputs": [
    {
     "name": "stdout",
     "output_type": "stream",
     "text": [
      "5\n",
      "5\n",
      "Non-taxable\n",
      "Non-taxable??\n"
     ]
    }
   ],
   "source": [
    "# Testing different types in the same variable\n",
    "taxRate = 5  # int\n",
    "print(taxRate)\n",
    "taxrate = 5.5  # float\n",
    "print(taxRate)\n",
    "taxRate = \"Non-taxable\" # string\n",
    "print(taxRate)\n",
    "print(taxRate + \"??\")\n"
   ]
  },
  {
   "cell_type": "code",
   "execution_count": 8,
   "metadata": {},
   "outputs": [
    {
     "name": "stdout",
     "output_type": "stream",
     "text": [
      "A six-pack of 12-ounce cans contains 2.13 liters.\n",
      "A six-pack and a two-liter bottle contain 4.13 liters.\n",
      "A six-pack of 12-ounce cans contains 2.13 liters.\n",
      "A six-pack and a two-liter bottle contain 4.13 liters.\n"
     ]
    }
   ],
   "source": [
    "##\n",
    "#  This program computes the volume (in liters) of a six-pack of soda\n",
    "#  cans and the total volume of a six-pack and a two-liter bottle\n",
    "#\n",
    "\n",
    "# Liters in a 12-ounce can\n",
    "CAN_VOLUME = 0.355\n",
    "\n",
    "# Liters in a two-liter bottle.\n",
    "BOTTLE_VOLUME = 2\n",
    "\n",
    "# Number of cans per pack.\n",
    "cansPerPack = 6\n",
    "\n",
    "# Calculate total volume in the cans.\n",
    "totalVolume = cansPerPack * CAN_VOLUME\n",
    "print(\"A six-pack of 12-ounce cans contains\", totalVolume, \"liters.\")\n",
    "\n",
    "# Calculate total volume in the cans and a 2-liter bottle.\n",
    "totalVolume = totalVolume + BOTTLE_VOLUME\n",
    "print(\"A six-pack and a two-liter bottle contain\", totalVolume, \"liters.\")\n",
    "##\n",
    "#  This program computes the volume (in liters) of a six-pack of soda\n",
    "#  cans and the total volume of a six-pack and a two-liter bottle\n",
    "#\n",
    "## CONSTANTS ##\n",
    "CAN_VOLUME = 0.355   # Liters in a 12-ounce can\n",
    "BOTTLE_VOLUME = 2     # Liters in a two-liter bottle\n",
    "\n",
    "# Number of cans per pack.\n",
    "cansPerPack = 6\n",
    "\n",
    "# Calculate total volume in the cans.\n",
    "totalVolume = cansPerPack * CAN_VOLUME\n",
    "print(\"A six-pack of 12-ounce cans contains\", totalVolume, \"liters.\")\n",
    "\n",
    "# Calculate total volume in the cans and a 2-liter bottle.\n",
    "totalVolume = totalVolume + BOTTLE_VOLUME\n",
    "print(\"A six-pack and a two-liter bottle contain\", totalVolume, \"liters.\")\n",
    "\n"
   ]
  },
  {
   "cell_type": "code",
   "execution_count": 9,
   "metadata": {},
   "outputs": [
    {
     "name": "stdout",
     "output_type": "stream",
     "text": [
      "I have 17 and 29 cents\n"
     ]
    }
   ],
   "source": [
    "# Convert pennies to dollars and cents\n",
    "pennies = 1729\n",
    "dollars = pennies // 100  # Calculates the number of dollars\n",
    "cents = pennies % 100     # Calculates the number of pennies\n",
    "print(\"I have\", dollars, \"and\", cents, \"cents\")\n"
   ]
  },
  {
   "cell_type": "code",
   "execution_count": 10,
   "metadata": {},
   "outputs": [
    {
     "name": "stdout",
     "output_type": "stream",
     "text": [
      "173\n"
     ]
    }
   ],
   "source": [
    "print(abs(-173))\n"
   ]
  },
  {
   "cell_type": "code",
   "execution_count": 11,
   "metadata": {},
   "outputs": [
    {
     "name": "stdout",
     "output_type": "stream",
     "text": [
      "434.99999999999994\n"
     ]
    }
   ],
   "source": [
    "price = 4.35\n",
    "quantity = 100\n",
    "total = price * quantity \n",
    "# Should be 100 * 4.35 = 435.00\n",
    "print(total) \n"
   ]
  },
  {
   "cell_type": "code",
   "execution_count": 12,
   "metadata": {},
   "outputs": [
    {
     "name": "stdout",
     "output_type": "stream",
     "text": [
      "888.88\n",
      "888\n"
     ]
    }
   ],
   "source": [
    "balance = 888.88\n",
    "dollars = 888   \n",
    "balanceAsString = str(balance) \n",
    "dollarsAsString = str(dollars)\n",
    "print(balanceAsString)\n",
    "print(dollarsAsString) \n"
   ]
  },
  {
   "cell_type": "code",
   "execution_count": 13,
   "metadata": {},
   "outputs": [
    {
     "name": "stdout",
     "output_type": "stream",
     "text": [
      "1729\n",
      "17.29\n"
     ]
    }
   ],
   "source": [
    "id = int(\"1729\")\n",
    "price = float(\"17.29\")\n",
    "print(id)\n",
    "print(price) \n"
   ]
  },
  {
   "cell_type": "code",
   "execution_count": 14,
   "metadata": {},
   "outputs": [
    {
     "name": "stdout",
     "output_type": "stream",
     "text": [
      "R&S\n"
     ]
    }
   ],
   "source": [
    "##\n",
    "#  This program prints a pair of initials.\n",
    "#\n",
    "\n",
    "# Set the names of the couple.\n",
    "first = \"Rodolfo\"\n",
    "second = \"Sally\"\n",
    "\n",
    "# Compute and display the initials.\n",
    "initials = first[0] + \"&\" + second[0]\n",
    "print(initials)"
   ]
  },
  {
   "cell_type": "code",
   "execution_count": 15,
   "metadata": {},
   "outputs": [
    {
     "name": "stdout",
     "output_type": "stream",
     "text": [
      "Enter your first name: Anya\n",
      "Enter your significant other's first name: Bowen\n",
      "A&B\n"
     ]
    }
   ],
   "source": [
    "##\n",
    "#  This program obtains two names from the user and prints a pair of initials.\n",
    "#\n",
    "\n",
    "# Obtain the two names from the user.\n",
    "first = input(\"Enter your first name: \")\n",
    "second = input(\"Enter your significant other's first name: \")\n",
    "\n",
    "# Compute and display the initials.\n",
    "initials = first[0] + \"&\" + second[0]\n",
    "print(initials)"
   ]
  },
  {
   "cell_type": "code",
   "execution_count": 21,
   "metadata": {},
   "outputs": [
    {
     "ename": "SyntaxError",
     "evalue": "invalid syntax (<ipython-input-21-ebd53f185de3>, line 2)",
     "output_type": "error",
     "traceback": [
      "\u001b[1;36m  File \u001b[1;32m\"<ipython-input-21-ebd53f185de3>\"\u001b[1;36m, line \u001b[1;32m2\u001b[0m\n\u001b[1;33m    Price per liter: 1.22\u001b[0m\n\u001b[1;37m          ^\u001b[0m\n\u001b[1;31mSyntaxError\u001b[0m\u001b[1;31m:\u001b[0m invalid syntax\n"
     ]
    }
   ],
   "source": [
    "print(\"Price per liter %.2f\"  %(price))\n",
    "Price per liter: 1.22\n",
    "print(\"Price per liter %10.2f\"  %(price))\n",
    "Price per liter:       1.22"
   ]
  },
  {
   "cell_type": "code",
   "execution_count": 23,
   "metadata": {},
   "outputs": [
    {
     "name": "stdout",
     "output_type": "stream",
     "text": [
      " Quantity:         24\n",
      "    Price:      17.29\n"
     ]
    }
   ],
   "source": [
    "title1 = \"Quantity:\"\n",
    "title2 = \"Price:\"\n",
    "print(\"%10s %10d\" % (title1, 24))\n",
    "print(\"%10s %10.2f\" % (title2, 17.29))"
   ]
  },
  {
   "cell_type": "code",
   "execution_count": 24,
   "metadata": {},
   "outputs": [
    {
     "name": "stdout",
     "output_type": "stream",
     "text": [
      "Please enter the price for a six-pack: 34\n",
      "Please enter the volume for each can (in ounces): 5\n",
      "Price per ounce:     1.13\n"
     ]
    }
   ],
   "source": [
    "##\n",
    "#  This program prints the price per ounce for a six-pack of cans.\n",
    "#\n",
    "\n",
    "# Define constant for pack size.\n",
    "CANS_PER_PACK = 6\n",
    "\n",
    "# Obtain price per pack and can volume.\n",
    "userInput = input(\"Please enter the price for a six-pack: \")\n",
    "packPrice = float(userInput)\n",
    "\n",
    "userInput = input(\"Please enter the volume for each can (in ounces): \")\n",
    "canVolume = float(userInput)\n",
    "\n",
    "# Compute pack volume. \n",
    "packVolume = canVolume * CANS_PER_PACK\n",
    "\n",
    "# Compute and print price per ounce.\n",
    "pricePerOunce = packPrice / packVolume\n",
    "print(\"Price per ounce: %8.2f\" % pricePerOunce)"
   ]
  },
  {
   "cell_type": "code",
   "execution_count": 27,
   "metadata": {},
   "outputs": [
    {
     "ename": "ModuleNotFoundError",
     "evalue": "No module named 'ezgraphics'",
     "output_type": "error",
     "traceback": [
      "\u001b[1;31m---------------------------------------------------------------------------\u001b[0m",
      "\u001b[1;31mModuleNotFoundError\u001b[0m                       Traceback (most recent call last)",
      "\u001b[1;32m<ipython-input-27-f9f772157ded>\u001b[0m in \u001b[0;36m<module>\u001b[1;34m\u001b[0m\n\u001b[0;32m      4\u001b[0m \u001b[1;31m#\u001b[0m\u001b[1;33m\u001b[0m\u001b[1;33m\u001b[0m\u001b[1;33m\u001b[0m\u001b[0m\n\u001b[0;32m      5\u001b[0m \u001b[1;33m\u001b[0m\u001b[0m\n\u001b[1;32m----> 6\u001b[1;33m \u001b[1;32mfrom\u001b[0m \u001b[0mezgraphics\u001b[0m \u001b[1;32mimport\u001b[0m \u001b[0mGraphicsWindow\u001b[0m\u001b[1;33m\u001b[0m\u001b[1;33m\u001b[0m\u001b[0m\n\u001b[0m\u001b[0;32m      7\u001b[0m \u001b[1;33m\u001b[0m\u001b[0m\n\u001b[0;32m      8\u001b[0m \u001b[1;31m# Create the window and access the canvas.\u001b[0m\u001b[1;33m\u001b[0m\u001b[1;33m\u001b[0m\u001b[1;33m\u001b[0m\u001b[0m\n",
      "\u001b[1;31mModuleNotFoundError\u001b[0m: No module named 'ezgraphics'"
     ]
    }
   ],
   "source": [
    "##\n",
    "#  This program creates a graphics window with a rectangle. It provides the\n",
    "#  template used with all of the graphical programs used in the book.\n",
    "#\n",
    "\n",
    "from ezgraphics import GraphicsWindow\n",
    "\n",
    "# Create the window and access the canvas.\n",
    "win = GraphicsWindow()\n",
    "canvas = win.canvas()\n",
    "\n",
    "# Draw on the canvas.\n",
    "canvas.drawRect(5, 10, 20, 30)\n",
    "\n",
    "# Wait for the user to close the window.\n",
    "win.wait()"
   ]
  },
  {
   "cell_type": "code",
   "execution_count": null,
   "metadata": {},
   "outputs": [],
   "source": []
  }
 ],
 "metadata": {
  "kernelspec": {
   "display_name": "Python 3",
   "language": "python",
   "name": "python3"
  },
  "language_info": {
   "codemirror_mode": {
    "name": "ipython",
    "version": 3
   },
   "file_extension": ".py",
   "mimetype": "text/x-python",
   "name": "python",
   "nbconvert_exporter": "python",
   "pygments_lexer": "ipython3",
   "version": "3.8.5"
  }
 },
 "nbformat": 4,
 "nbformat_minor": 4
}
