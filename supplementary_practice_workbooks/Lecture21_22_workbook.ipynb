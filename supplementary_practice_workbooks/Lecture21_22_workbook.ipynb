{
  "cells": [
    {
      "cell_type": "markdown",
      "metadata": {
        "id": "view-in-github",
        "colab_type": "text"
      },
      "source": [
        "<a href=\"https://colab.research.google.com/github/DATA3320/DATA3320_1231/blob/main/workbooks/Lecture21_22_workbook.ipynb\" target=\"_parent\"><img src=\"https://colab.research.google.com/assets/colab-badge.svg\" alt=\"Open In Colab\"/></a>"
      ]
    },
    {
      "cell_type": "markdown",
      "id": "be838c33-8d67-4ca8-92d2-d88c4bddd566",
      "metadata": {
        "id": "be838c33-8d67-4ca8-92d2-d88c4bddd566"
      },
      "source": [
        "# Lecture 21-22 Workbook"
      ]
    },
    {
      "cell_type": "markdown",
      "id": "353935b5-8de5-433e-8fff-31c7e6d0ca95",
      "metadata": {
        "button": false,
        "new_sheet": false,
        "run_control": {
          "read_only": false
        },
        "id": "353935b5-8de5-433e-8fff-31c7e6d0ca95"
      },
      "source": [
        "In this workbook, you will load Boston Housing dataset, fit the data, and recommend a regression model to predict a data point."
      ]
    },
    {
      "cell_type": "code",
      "execution_count": null,
      "id": "196ec187-9528-44c0-81e5-4ebb14d14be7",
      "metadata": {
        "id": "196ec187-9528-44c0-81e5-4ebb14d14be7"
      },
      "outputs": [],
      "source": [
        "import pandas as pd\n",
        "import matplotlib.pyplot as plt\n",
        "import seaborn as sns"
      ]
    },
    {
      "cell_type": "code",
      "execution_count": null,
      "id": "028cb700-6559-4829-b6a1-b21b5aa528c4",
      "metadata": {
        "id": "028cb700-6559-4829-b6a1-b21b5aa528c4"
      },
      "outputs": [],
      "source": [
        "from sklearn.model_selection import train_test_split\n",
        "from sklearn.model_selection import GridSearchCV\n",
        "from sklearn.preprocessing import StandardScaler\n",
        "from sklearn.linear_model import LinearRegression, Ridge, Lasso, ElasticNet, HuberRegressor\n",
        "from sklearn.neighbors import KNeighborsRegressor\n",
        "from sklearn.svm import SVR\n",
        "from sklearn.tree import DecisionTreeRegressor\n",
        "from sklearn.ensemble import RandomForestRegressor, GradientBoostingRegressor\n",
        "from sklearn.metrics import mean_squared_error\n",
        "from sklearn.feature_selection import RFE, SelectFromModel"
      ]
    },
    {
      "cell_type": "code",
      "execution_count": null,
      "id": "d3620540-af2a-48e9-8827-6015dc3ee564",
      "metadata": {
        "id": "d3620540-af2a-48e9-8827-6015dc3ee564"
      },
      "outputs": [],
      "source": [
        "# Load the Boston Housing dataset\n",
        "boston_df = pd.read_csv('https://raw.githubusercontent.com/DATA3320/DATA3320_1231/main/data/BostonHousing.csv')"
      ]
    },
    {
      "cell_type": "code",
      "execution_count": null,
      "id": "5881de4b-426f-4c17-9be1-b35afe07d47a",
      "metadata": {
        "id": "5881de4b-426f-4c17-9be1-b35afe07d47a"
      },
      "outputs": [],
      "source": []
    },
    {
      "cell_type": "markdown",
      "id": "86cdb3e9-51d7-4285-963e-c696ece6362a",
      "metadata": {
        "id": "86cdb3e9-51d7-4285-963e-c696ece6362a"
      },
      "source": [
        "## Explore the Data"
      ]
    },
    {
      "cell_type": "code",
      "execution_count": null,
      "id": "4d559147-31e7-4939-9deb-ee8bb8c398f8",
      "metadata": {
        "id": "4d559147-31e7-4939-9deb-ee8bb8c398f8"
      },
      "outputs": [],
      "source": []
    },
    {
      "cell_type": "markdown",
      "id": "1b67ccec-ff74-471d-aaea-719e25854c9d",
      "metadata": {
        "id": "1b67ccec-ff74-471d-aaea-719e25854c9d"
      },
      "source": [
        "## Transform the Data"
      ]
    },
    {
      "cell_type": "code",
      "execution_count": null,
      "id": "fbbaca98-d09e-4752-931c-2cb308c0d219",
      "metadata": {
        "id": "fbbaca98-d09e-4752-931c-2cb308c0d219"
      },
      "outputs": [],
      "source": []
    },
    {
      "cell_type": "markdown",
      "id": "70bce8f8-a07d-49f7-842d-ce20a4fc0367",
      "metadata": {
        "id": "70bce8f8-a07d-49f7-842d-ce20a4fc0367"
      },
      "source": [
        "## Create & Evaluate Regression Models with MSE"
      ]
    },
    {
      "cell_type": "code",
      "execution_count": null,
      "id": "080a5b8c-5294-4398-90ef-294c618ab9b4",
      "metadata": {
        "id": "080a5b8c-5294-4398-90ef-294c618ab9b4"
      },
      "outputs": [],
      "source": []
    },
    {
      "cell_type": "markdown",
      "id": "68bca561-d5b0-4081-83a4-3c7812951de9",
      "metadata": {
        "id": "68bca561-d5b0-4081-83a4-3c7812951de9"
      },
      "source": [
        "## Hyperparameter Tuning"
      ]
    },
    {
      "cell_type": "code",
      "execution_count": null,
      "id": "153e0085-f591-414f-9b3f-6b85fcd16ef0",
      "metadata": {
        "id": "153e0085-f591-414f-9b3f-6b85fcd16ef0"
      },
      "outputs": [],
      "source": []
    }
  ],
  "metadata": {
    "kernelspec": {
      "display_name": "Python 3 (ipykernel)",
      "language": "python",
      "name": "python3"
    },
    "language_info": {
      "codemirror_mode": {
        "name": "ipython",
        "version": 3
      },
      "file_extension": ".py",
      "mimetype": "text/x-python",
      "name": "python",
      "nbconvert_exporter": "python",
      "pygments_lexer": "ipython3",
      "version": "3.8.16"
    },
    "colab": {
      "provenance": [],
      "include_colab_link": true
    }
  },
  "nbformat": 4,
  "nbformat_minor": 5
}