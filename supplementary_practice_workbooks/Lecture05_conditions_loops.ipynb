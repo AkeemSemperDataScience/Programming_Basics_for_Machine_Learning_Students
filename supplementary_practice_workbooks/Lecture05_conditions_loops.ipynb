{
 "cells": [
  {
   "cell_type": "markdown",
   "metadata": {},
   "source": [
    "# Lecture 5: Conditional Statements & Loops"
   ]
  },
  {
   "cell_type": "markdown",
   "metadata": {
    "toc": true
   },
   "source": [
    "<section style = \"background-color: powderblue;\">\n",
    "<h6></h6>\n",
    "<h2>Outline<span class=\"tocSkip\"></span></h2>\n",
    "<hr>\n",
    "<div class=\"toc\"><ul class=\"toc-item\"><li><span><a href=\"#1.1-If-Statement-and-Syntax-Rules\" data-toc-modified-id=\"1.1-If-Statement-and-Syntax-Rules-1\">1.1 If Statement and Syntax Rules</a></span></li><li><span><a href=\"#1.2-Comparison-Operators\" data-toc-modified-id=\"1.2-Comparison-Operators-2\">1.2. Comparison Operators</a></span></li><li><span><a href=\"#1.3-Logical-Operators\" data-toc-modified-id=\"1.3-Logical-Operators-3\">1.3 Logical Operators</a></span></li><li><span><a href=\"#2.1-Loops\" data-toc-modified-id=\"2.1.-Loops-4\">2.1 Loops</a></span></li><li><span><a href=\"#3.1-Loops-with-Conditions\" data-toc-modified-id=\"3.1-Loops-with-Conditions-5\">3.1 Loops with Conditions</a></span></li></ul></div>\n",
    "    <h6>\n",
    "    </h6>   \n",
    "</section>"
   ]
  },
  {
   "cell_type": "markdown",
   "metadata": {},
   "source": [
    "## Learning Objectives\n",
    "<hr>"
   ]
  },
  {
   "cell_type": "markdown",
   "metadata": {},
   "source": [
    "- To implement decisions using if statements\n",
    "- To compare integers, floating-point numbers, and strings\n",
    "- To write statements using Boolean expressions\n",
    "- To implement while and for loops\n",
    "- To become familiar with common loop algorithms"
   ]
  },
  {
   "cell_type": "markdown",
   "metadata": {
    "toc-hr-collapsed": true
   },
   "source": [
    "## 1.1 If Statement and Syntax Rules\n",
    "___"
   ]
  },
  {
   "cell_type": "markdown",
   "metadata": {},
   "source": [
    "Conditional statements are an essential part of any programming language, and Python is no exception. Python provides several conditional statements to control the flow of a program based on different conditions. In this chapter, we will learn about conditional statements in Python and how to use them with examples."
   ]
  },
  {
   "cell_type": "markdown",
   "metadata": {},
   "source": [
    "### 1.1.1 Python Syntax Rules"
   ]
  },
  {
   "cell_type": "markdown",
   "metadata": {},
   "source": [
    "In general, Python has a simple, statement-based syntax. However there are a few properties that you need to know:\n",
    "\n",
    "- **Statements execute one after the other, until you say otherwise**: Python runs code from the top of the file to the bottom, but note that if statements, for example, can cause the interpreter to jump around in your code.\n",
    "\n",
    "- **Code boundaries are detected automatically**: Python uses the indentation of statements under a header to group the statements in a nested block. Also, the end of a line usually marks the end of the statement coded on that line.\n",
    "\n",
    "- **Coumpund statements = header + : + indented statements**: See if statements section for example.\n",
    "\n",
    "- **Blank lines, spaces and comments are usually ignored**: Blank lines are ignored in files. Spaces inside of statements and expressions are almost always ignored."
   ]
  },
  {
   "cell_type": "markdown",
   "metadata": {},
   "source": [
    "### 1.1.2 If statement"
   ]
  },
  {
   "cell_type": "markdown",
   "metadata": {},
   "source": [
    "The \"if\" statement is the most basic conditional statement in Python. It allows you to execute a block of code if a certain condition is true. The syntax of an if statement is as follows:"
   ]
  },
  {
   "cell_type": "code",
   "execution_count": null,
   "metadata": {},
   "outputs": [],
   "source": [
    "if condition:\n",
    "    # code to execute if the condition is true\n"
   ]
  },
  {
   "cell_type": "markdown",
   "metadata": {},
   "source": [
    "The condition in the if statement can be any expression that returns a boolean value (True or False). If the condition is True, the code inside the if block is executed. If the condition is False, the code is skipped."
   ]
  },
  {
   "cell_type": "code",
   "execution_count": 2,
   "metadata": {},
   "outputs": [
    {
     "name": "stdout",
     "output_type": "stream",
     "text": [
      "x is greater than 5\n"
     ]
    }
   ],
   "source": [
    "x = 10\n",
    "if x > 5:\n",
    "    print(\"x is greater than 5\")\n"
   ]
  },
  {
   "cell_type": "code",
   "execution_count": 6,
   "metadata": {
    "collapsed": false,
    "jupyter": {
     "outputs_hidden": false
    }
   },
   "outputs": [
    {
     "data": {
      "text/plain": [
       "36"
      ]
     },
     "execution_count": 6,
     "metadata": {},
     "output_type": "execute_result"
    }
   ],
   "source": [
    "# Simple if statement\n",
    "\n",
    "age= 35\n",
    "#More on dealing with dates later\n",
    "birthday =  \"10/1/17\"\n",
    "day = \"10/1/17\"\n",
    "\n",
    "if birthday == day:\n",
    "    age += 1\n",
    "\n",
    "age"
   ]
  },
  {
   "cell_type": "code",
   "execution_count": 20,
   "metadata": {},
   "outputs": [
    {
     "name": "stdout",
     "output_type": "stream",
     "text": [
      "Your name has more than 4 characters.\n"
     ]
    }
   ],
   "source": [
    "name = \"Alice\"\n",
    "age = 25\n",
    "\n",
    "if len(name) > 4:\n",
    "    print(\"Your name has more than 4 characters.\")"
   ]
  },
  {
   "cell_type": "markdown",
   "metadata": {},
   "source": [
    "### 1.1.3 If-else statement"
   ]
  },
  {
   "cell_type": "markdown",
   "metadata": {},
   "source": [
    "The \"if-else\" statement is used when you want to execute one block of code if the condition is true and another block of code if the condition is false. The syntax of an if-else statement is as follows:"
   ]
  },
  {
   "cell_type": "code",
   "execution_count": null,
   "metadata": {},
   "outputs": [],
   "source": [
    "if condition:\n",
    "    # code to execute if the condition is true\n",
    "else:\n",
    "    # code to execute if the condition is false\n"
   ]
  },
  {
   "cell_type": "code",
   "execution_count": 3,
   "metadata": {},
   "outputs": [
    {
     "name": "stdout",
     "output_type": "stream",
     "text": [
      "x is less than or equal to 5\n"
     ]
    }
   ],
   "source": [
    "x = 3\n",
    "if x > 5:\n",
    "    print(\"x is greater than 5\")\n",
    "else:\n",
    "    print(\"x is less than or equal to 5\")\n"
   ]
  },
  {
   "cell_type": "code",
   "execution_count": 7,
   "metadata": {
    "collapsed": false,
    "jupyter": {
     "outputs_hidden": false
    }
   },
   "outputs": [
    {
     "name": "stdout",
     "output_type": "stream",
     "text": [
      "odd\n"
     ]
    }
   ],
   "source": [
    "# If with else: check whether a number is even or odd\n",
    "x = 7\n",
    "if x % 2 == 0:\n",
    "    print(\"even\")\n",
    "else:\n",
    "    print(\"odd\")"
   ]
  },
  {
   "cell_type": "code",
   "execution_count": 21,
   "metadata": {},
   "outputs": [
    {
     "name": "stdout",
     "output_type": "stream",
     "text": [
      "Your name has 5 or fewer characters\n"
     ]
    }
   ],
   "source": [
    "name = \"Alice\"\n",
    "age = 25\n",
    "\n",
    "if len(name) > 5:\n",
    "    print(\"Your name has more than 5 characters\")\n",
    "else:\n",
    "    print(\"Your name has 5 or fewer characters\")"
   ]
  },
  {
   "cell_type": "code",
   "execution_count": 22,
   "metadata": {},
   "outputs": [
    {
     "name": "stdout",
     "output_type": "stream",
     "text": [
      "Your name contains the letter 'l'\n"
     ]
    }
   ],
   "source": [
    "if \"l\" in name:\n",
    "    print(\"Your name contains the letter 'l'\")\n",
    "else:\n",
    "    print(\"Your name does not contain the letter 'l'\")\n"
   ]
  },
  {
   "cell_type": "markdown",
   "metadata": {},
   "source": [
    "### 1.1.4 If-elif-else statement"
   ]
  },
  {
   "cell_type": "markdown",
   "metadata": {},
   "source": [
    "The \"if-elif-else\" statement is used when you have multiple conditions to check. It allows you to execute different blocks of code depending on which condition is true. The syntax of an if-elif-else statement is as follows:"
   ]
  },
  {
   "cell_type": "code",
   "execution_count": null,
   "metadata": {},
   "outputs": [],
   "source": [
    "if condition1:\n",
    "    # code to execute if condition1 is true\n",
    "elif condition2:\n",
    "    # code to execute if condition2 is true\n",
    "else:\n",
    "    # code to execute if all conditions are false\n"
   ]
  },
  {
   "cell_type": "code",
   "execution_count": 4,
   "metadata": {},
   "outputs": [
    {
     "name": "stdout",
     "output_type": "stream",
     "text": [
      "x is greater than 5 but less than or equal to 10\n"
     ]
    }
   ],
   "source": [
    "x = 7\n",
    "if x > 10:\n",
    "    print(\"x is greater than 10\")\n",
    "elif x > 5:\n",
    "    print(\"x is greater than 5 but less than or equal to 10\")\n",
    "else:\n",
    "    print(\"x is less than or equal to 5\")\n"
   ]
  },
  {
   "cell_type": "code",
   "execution_count": 8,
   "metadata": {
    "collapsed": false,
    "jupyter": {
     "outputs_hidden": false
    }
   },
   "outputs": [
    {
     "name": "stdout",
     "output_type": "stream",
     "text": [
      "This month has 30 days\n"
     ]
    }
   ],
   "source": [
    "#Print the number of days in a month this year\n",
    "\n",
    "current_month = 4\n",
    "\n",
    "if current_month in [4, 6, 11, 10]:\n",
    "    print(\"This month has 30 days\")\n",
    "elif current_month == 2:\n",
    "    print(\"This month has 28 (or 29) days\")\n",
    "else:\n",
    "    print(\"This month has 31 days\")"
   ]
  },
  {
   "cell_type": "code",
   "execution_count": 23,
   "metadata": {},
   "outputs": [
    {
     "name": "stdout",
     "output_type": "stream",
     "text": [
      "You are of working age\n"
     ]
    }
   ],
   "source": [
    "if age < 18:\n",
    "    print(\"You are underage\")\n",
    "elif age >= 18 and age < 65:\n",
    "    print(\"You are of working age\")\n",
    "else:\n",
    "    print(\"You are of retirement age\")"
   ]
  },
  {
   "cell_type": "markdown",
   "metadata": {},
   "source": [
    "### Summary"
   ]
  },
  {
   "cell_type": "markdown",
   "metadata": {},
   "source": [
    "The if statement is a compound statement that selects actions to perform.  Like all compound Python statements, the if statement may contain other statements, including other ifs. Python lets you combine statements in a program sequentially (so that they execute one after the other) and in an arbitrarily nested fashion (so that they execute only under certain conditions). Here is the general format :\n",
    "\n",
    "if *test1*:\n",
    "\n",
    "    *statement1*\n",
    "    \n",
    "elif *test2*:\n",
    "\n",
    "    *statement2*\n",
    "    \n",
    "else:\n",
    "\n",
    "    *statement3*\n",
    "\n",
    "\n",
    "When the if statement runs, Python executes the first statement assoiciated with the first test that evalates to true, or the else block if all tests are false.  You can only have one if and else statement, but are allowed arbitrarily many elif tests.\n",
    "\n",
    "In practice, both the elif and else parts may be omitted, and there may be more than one statement nested in each section.  Note that words if, elif, else are associated by the fact that they line up vertically, with the same indentation.\n",
    "    "
   ]
  },
  {
   "cell_type": "markdown",
   "metadata": {},
   "source": [
    "### 1.1.5 Nested if statements"
   ]
  },
  {
   "cell_type": "markdown",
   "metadata": {},
   "source": [
    "You can also use if statements inside other if statements. This is called \"nested if\" statements. Nested if statements are useful when you have complex conditions to check. "
   ]
  },
  {
   "cell_type": "code",
   "execution_count": 5,
   "metadata": {},
   "outputs": [
    {
     "name": "stdout",
     "output_type": "stream",
     "text": [
      "x is greater than 5\n",
      "x is less than or equal to 10\n"
     ]
    }
   ],
   "source": [
    "x = 7\n",
    "if x > 5:\n",
    "    print(\"x is greater than 5\")\n",
    "    if x > 10:\n",
    "        print(\"x is also greater than 10\")\n",
    "    else:\n",
    "        print(\"x is less than or equal to 10\")\n",
    "else:\n",
    "    print(\"x is less than or equal to 5\")\n"
   ]
  },
  {
   "cell_type": "code",
   "execution_count": 9,
   "metadata": {
    "collapsed": false,
    "jupyter": {
     "outputs_hidden": false
    }
   },
   "outputs": [
    {
     "name": "stdout",
     "output_type": "stream",
     "text": [
      "burger is a lunch item\n"
     ]
    }
   ],
   "source": [
    "#Nested if - Check if an food item is a brunch item\n",
    "\n",
    "breakfast = [\"eggs\", \"bacon\",\"blt\"]\n",
    "lunch = [\"burger\", \"blt\", \"pizza\"]\n",
    "\n",
    "food = \"burger\"\n",
    "if food in breakfast:\n",
    "    if food in lunch:\n",
    "        print(\"%s is a brunch item\" %food)\n",
    "    else:\n",
    "        print(\"%s is a breakfast item\" %food)\n",
    "else:\n",
    "    if food in lunch:\n",
    "        print(\"%s is a lunch item\" %food)\n",
    "    else:\n",
    "        print(\"%s is not on the menu\" % food)\n"
   ]
  },
  {
   "cell_type": "markdown",
   "metadata": {},
   "source": [
    "## 1.2 Comparison Operators\n",
    "___"
   ]
  },
  {
   "cell_type": "markdown",
   "metadata": {},
   "source": [
    "To write conditional statements, you need to use comparison operators to compare values. Here are the comparison operators in Python:\n",
    "\n",
    " - x==y: check if x is equal to y\n",
    " - x>=y: check if x is greater than or equal to y\n",
    " - x<=y: check if x if less than or equal to y\n",
    " - x!=y: check if x is not equal to y\n",
    " - x in y: check if x is in y (y must be list, string, tuple or dictionary)\n",
    " - x not in y: check if x is not in y (y must be list, string tuple or dictionary)"
   ]
  },
  {
   "cell_type": "code",
   "execution_count": 10,
   "metadata": {},
   "outputs": [
    {
     "name": "stdout",
     "output_type": "stream",
     "text": [
      "x is equal to 7\n"
     ]
    }
   ],
   "source": [
    "x = 7\n",
    "if x == 7:\n",
    "    print(\"x is equal to 7\")\n",
    "else:\n",
    "    print(\"x is not equal to 7\")\n"
   ]
  },
  {
   "cell_type": "markdown",
   "metadata": {},
   "source": [
    "## 1.3 Logical Operators\n",
    "___"
   ]
  },
  {
   "cell_type": "markdown",
   "metadata": {},
   "source": [
    "The if statement uses a truth test to figure out which block of code to execute.  We'll expand on the ideas we've seen in this section. Boolean operators are used to combine the results of multiple tests.  There are three Boolean expression operators in Python:\n",
    "\n",
    "X and Y: Is true if both X and Y are true\n",
    "\n",
    "X or Y: Is true if either X or Y is true\n",
    "\n",
    "not X: Is true if X is false\n"
   ]
  },
  {
   "cell_type": "code",
   "execution_count": 14,
   "metadata": {},
   "outputs": [
    {
     "name": "stdout",
     "output_type": "stream",
     "text": [
      "both x and y are greater than 5\n"
     ]
    }
   ],
   "source": [
    "x = 7\n",
    "y = 10\n",
    "if x > 5 and y > 5:\n",
    "    print(\"both x and y are greater than 5\")\n",
    "else:\n",
    "    print(\"at least one of x and y is less than or equal to 5\")\n"
   ]
  },
  {
   "cell_type": "code",
   "execution_count": 11,
   "metadata": {
    "collapsed": false,
    "jupyter": {
     "outputs_hidden": false
    }
   },
   "outputs": [
    {
     "name": "stdout",
     "output_type": "stream",
     "text": [
      "12 is a multiple of both 2 and 3\n"
     ]
    }
   ],
   "source": [
    "#Check if a number is both a multiple of 2 and 3\n",
    "y= 12\n",
    "\n",
    "if y%2==0 and y%3==0:\n",
    "    print(\"%d is a multiple of both 2 and 3\" %y)\n"
   ]
  },
  {
   "cell_type": "code",
   "execution_count": 15,
   "metadata": {
    "collapsed": false,
    "jupyter": {
     "outputs_hidden": false
    }
   },
   "outputs": [
    {
     "name": "stdout",
     "output_type": "stream",
     "text": [
      "yep\n"
     ]
    }
   ],
   "source": [
    "#Check if a name has more than 5 letters or contains an \"a\"\n",
    "\n",
    "name= \"Jacob\"\n",
    "\n",
    "if \"a\" in name or len(name) >=5:\n",
    "    print(\"yep\")\n",
    "\n"
   ]
  },
  {
   "cell_type": "code",
   "execution_count": 16,
   "metadata": {
    "collapsed": false,
    "jupyter": {
     "outputs_hidden": false
    }
   },
   "outputs": [
    {
     "name": "stdout",
     "output_type": "stream",
     "text": [
      "lunch\n"
     ]
    }
   ],
   "source": [
    "breakfast = [\"eggs\", \"bacon\",\"blt\"]\n",
    "lunch = [\"burger\", \"pizza\"]\n",
    "lunch = [\"burger\", \"pizza\"]\n",
    "\n",
    "#Check if we have a new food item\n",
    "food= \"burger\"\n",
    "\n",
    "if food not in breakfast and food not in lunch:\n",
    "    print(\"New item\")\n",
    "else:\n",
    "    if food in breakfast:\n",
    "        print(\"breakfast!\")\n",
    "    else:\n",
    "        print(\"lunch\")"
   ]
  },
  {
   "cell_type": "code",
   "execution_count": 24,
   "metadata": {},
   "outputs": [
    {
     "name": "stdout",
     "output_type": "stream",
     "text": [
      "Your name is either Alice or Bob\n"
     ]
    }
   ],
   "source": [
    "name = \"Alice\"\n",
    "age = 25\n",
    "\n",
    "if name == \"Alice\" or name == \"Bob\":\n",
    "    print(\"Your name is either Alice or Bob\")\n",
    "else:\n",
    "    print(\"Your name is not Alice or Bob\")\n"
   ]
  },
  {
   "cell_type": "markdown",
   "metadata": {},
   "source": [
    "## 2.1 Loops"
   ]
  },
  {
   "cell_type": "markdown",
   "metadata": {},
   "source": [
    "In programming, loops are used to execute a block of code repeatedly until a certain condition is met. Loops are used to automate repetitive tasks and make your code more efficient. In this section, we will discuss the two types of loops in Python - for loops and while loops - and provide examples of how to use them."
   ]
  },
  {
   "cell_type": "markdown",
   "metadata": {},
   "source": [
    "### 2.1.1 For Loops"
   ]
  },
  {
   "cell_type": "markdown",
   "metadata": {},
   "source": [
    "The for loop in used to step through the items in any ordered sequence object.  The Python for loop begins with a header line that specifies an assignment target, along with objects you want to step through.  The structure of a for loop is as follows:\n",
    "\n",
    "for *target* in *object*:\n",
    "    \n",
    "    *statements*\n",
    "    if *test*: \n",
    "    \n",
    "        break\n",
    "    \n",
    "\n",
    "*break*: Jumps out of the closest enclosing loop (past the entire loop statement)\n",
    "\n",
    "\n",
    "When Python runs a for loop, it assigns the items in the sequence object to the target one by one and executes the loop body for each.  After the loop has finished, the loop variable still refers to the last item visited."
   ]
  },
  {
   "cell_type": "code",
   "execution_count": 25,
   "metadata": {},
   "outputs": [
    {
     "name": "stdout",
     "output_type": "stream",
     "text": [
      "H\n",
      "e\n",
      "l\n",
      "l\n",
      "o\n",
      ",\n",
      " \n",
      "W\n",
      "o\n",
      "r\n",
      "l\n",
      "d\n",
      "!\n"
     ]
    }
   ],
   "source": [
    "string = \"Hello, World!\"\n",
    "for letter in string:\n",
    "    print(letter)\n"
   ]
  },
  {
   "cell_type": "code",
   "execution_count": 26,
   "metadata": {
    "collapsed": false,
    "jupyter": {
     "outputs_hidden": false
    }
   },
   "outputs": [
    {
     "name": "stdout",
     "output_type": "stream",
     "text": [
      "spam\n",
      "eggs\n",
      "ham\n"
     ]
    }
   ],
   "source": [
    "#print elements of a list\n",
    "l = ['spam', 'eggs', 'ham']\n",
    "for name in l:\n",
    "    print(name)"
   ]
  },
  {
   "cell_type": "code",
   "execution_count": 27,
   "metadata": {
    "collapsed": false,
    "jupyter": {
     "outputs_hidden": false
    }
   },
   "outputs": [
    {
     "name": "stdout",
     "output_type": "stream",
     "text": [
      "5\n",
      "10\n",
      "15\n",
      "20\n"
     ]
    }
   ],
   "source": [
    "#compute first four multiple of y\n",
    "x=[1,2,3,4]\n",
    "y=5\n",
    "for m in x:\n",
    "    print(y*m)"
   ]
  },
  {
   "cell_type": "code",
   "execution_count": 28,
   "metadata": {
    "collapsed": false,
    "jupyter": {
     "outputs_hidden": false
    }
   },
   "outputs": [
    {
     "name": "stdout",
     "output_type": "stream",
     "text": [
      "Jake has 2 vowels\n"
     ]
    }
   ],
   "source": [
    "#Also words on strings. count number of vowels\n",
    "name= \"Jake\"\n",
    "count=0\n",
    "for letter in name:\n",
    "    if letter in ['a','e', 'i', 'o', 'u']:\n",
    "        count+=1\n",
    "print(\"%s has %d vowels\" %(name, count))"
   ]
  },
  {
   "cell_type": "code",
   "execution_count": 29,
   "metadata": {
    "collapsed": false,
    "jupyter": {
     "outputs_hidden": false
    }
   },
   "outputs": [
    {
     "name": "stdout",
     "output_type": "stream",
     "text": [
      "[4, 5] found\n",
      "3.14 not found\n"
     ]
    }
   ],
   "source": [
    "#search for each of the object in test in items\n",
    "items = [\"aaa\", 111,[4,5], 2.01]\n",
    "tests = [[4,5], 3.14]\n",
    "for test in tests:\n",
    "    if test in items:\n",
    "        print(test, \"found\")\n",
    "    else:\n",
    "        print(test, \"not found\")"
   ]
  },
  {
   "cell_type": "markdown",
   "metadata": {},
   "source": [
    "### 2.2.2 Range Function"
   ]
  },
  {
   "cell_type": "markdown",
   "metadata": {},
   "source": [
    "Python provides a built in tool that allows you to specialize the iteration in a for loop.  The built in range function produces a series of successively higher integers, which can be used as indexes in a for loop.\n",
    "\n",
    "The range function is really a general tool that can be used in a variety of contexts, although it is used most often to generate indexes in a for loop. In Python 3.X, range is an iterator that needs to be wrapped in a list call to display its results all at once."
   ]
  },
  {
   "cell_type": "code",
   "execution_count": 34,
   "metadata": {
    "collapsed": false,
    "jupyter": {
     "outputs_hidden": false
    }
   },
   "outputs": [
    {
     "name": "stdout",
     "output_type": "stream",
     "text": [
      "[0, 1, 2, 3, 4]\n",
      "[2, 3, 4]\n",
      "[10, 9, 8, 7, 6, 5, 4, 3, 2, 1]\n"
     ]
    }
   ],
   "source": [
    "print(list(range(5)))\n",
    "print(list(range(2,5)))\n",
    "print(list(range(10,0,-1)))"
   ]
  },
  {
   "cell_type": "markdown",
   "metadata": {},
   "source": [
    "With one argument, range generates a list of integers from zero up to but not including the argument's value. With two arguments you can specify a starting point and with three you can specify a step size."
   ]
  },
  {
   "cell_type": "code",
   "execution_count": 35,
   "metadata": {
    "collapsed": false,
    "jupyter": {
     "outputs_hidden": false
    }
   },
   "outputs": [
    {
     "name": "stdout",
     "output_type": "stream",
     "text": [
      "0\n",
      "1\n",
      "2\n"
     ]
    }
   ],
   "source": [
    "for i in range(3):\n",
    "    print(i)  "
   ]
  },
  {
   "cell_type": "code",
   "execution_count": 36,
   "metadata": {
    "collapsed": false,
    "jupyter": {
     "outputs_hidden": false
    }
   },
   "outputs": [
    {
     "name": "stdout",
     "output_type": "stream",
     "text": [
      "1\n",
      "2\n",
      "3\n",
      "4\n",
      "1\n",
      "2\n",
      "3\n",
      "4\n"
     ]
    }
   ],
   "source": [
    "#verbose way to iterate over elements of a list. This gives you access to the index of each of the elements and not the elements themselves\n",
    "l=[1,2,3,4]\n",
    "for x in l:\n",
    "    print(x)\n",
    "    \n",
    "for i in range(len(l)):\n",
    "    print(l[i])"
   ]
  },
  {
   "cell_type": "code",
   "execution_count": 37,
   "metadata": {
    "collapsed": false,
    "jupyter": {
     "outputs_hidden": false
    }
   },
   "outputs": [
    {
     "name": "stdout",
     "output_type": "stream",
     "text": [
      "2\n",
      "4\n"
     ]
    }
   ],
   "source": [
    "l=[1,2,3,4]\n",
    "#get every second element of list\n",
    "for i in range(1,len(l),2):\n",
    "    print(l[i])\n",
    "    "
   ]
  },
  {
   "cell_type": "code",
   "execution_count": 38,
   "metadata": {
    "collapsed": false,
    "jupyter": {
     "outputs_hidden": false
    }
   },
   "outputs": [
    {
     "name": "stdout",
     "output_type": "stream",
     "text": [
      "15 is not prime since 3 is multiple\n"
     ]
    }
   ],
   "source": [
    "#Check if x is prime. If not give a multiple that neither 1 nor x.\n",
    "x= 15\n",
    "flag=0\n",
    "for i in range(2,x):\n",
    "    \n",
    "    if x%i ==0:\n",
    "        flag=1\n",
    "        multiple = i\n",
    "        break\n",
    "\n",
    "if flag==0:\n",
    "    print(\"%d is prime\" %x)\n",
    "else:\n",
    "    print(\"%d is not prime since %d is multiple\" %(x, multiple))"
   ]
  },
  {
   "cell_type": "code",
   "execution_count": 29,
   "metadata": {
    "collapsed": false,
    "jupyter": {
     "outputs_hidden": false
    }
   },
   "outputs": [
    {
     "name": "stdout",
     "output_type": "stream",
     "text": [
      "1 2 3 4 5 6 7 8 9 10 11 12 \n",
      "\n",
      "2 4 6 8 10 12 14 16 18 20 22 24 \n",
      "\n",
      "3 6 9 12 15 18 21 24 27 30 33 36 \n",
      "\n",
      "4 8 12 16 20 24 28 32 36 40 44 48 \n",
      "\n",
      "5 10 15 20 25 30 35 40 45 50 55 60 \n",
      "\n",
      "6 12 18 24 30 36 42 48 54 60 66 72 \n",
      "\n",
      "7 14 21 28 35 42 49 56 63 70 77 84 \n",
      "\n",
      "8 16 24 32 40 48 56 64 72 80 88 96 \n",
      "\n",
      "9 18 27 36 45 54 63 72 81 90 99 108 \n",
      "\n",
      "10 20 30 40 50 60 70 80 90 100 110 120 \n",
      "\n",
      "11 22 33 44 55 66 77 88 99 110 121 132 \n",
      "\n",
      "12 24 36 48 60 72 84 96 108 120 132 144 \n",
      "\n"
     ]
    }
   ],
   "source": [
    "#Make 12x12 multiplication table\n",
    "for i in range(1,13):\n",
    "    for j in range(1,13):\n",
    "        print(i*j, end = ' ')\n",
    "    print('\\n')"
   ]
  },
  {
   "cell_type": "code",
   "execution_count": 39,
   "metadata": {
    "collapsed": false,
    "jupyter": {
     "outputs_hidden": false
    }
   },
   "outputs": [
    {
     "name": "stdout",
     "output_type": "stream",
     "text": [
      "Total number of a's is 3\n"
     ]
    }
   ],
   "source": [
    "#Count number of \"a\"s in all words of the list\n",
    "\n",
    "names_list = [\"Jake\", \"Jonathon\" , \"Max\"]\n",
    "count_a = 0\n",
    "for name in names_list:\n",
    "    for letter in name:\n",
    "        if letter == \"a\":\n",
    "            count_a+=1\n",
    "print(\"Total number of a's is %d\" %count_a)"
   ]
  },
  {
   "cell_type": "markdown",
   "metadata": {},
   "source": [
    "### 2.2.3 While Loops"
   ]
  },
  {
   "cell_type": "markdown",
   "metadata": {},
   "source": [
    "While loops in Python are used to execute a block of code repeatedly as long as a certain condition is true. Here is the basic syntax for a while loop in Python:"
   ]
  },
  {
   "cell_type": "code",
   "execution_count": null,
   "metadata": {},
   "outputs": [],
   "source": [
    "while condition:\n",
    "    # do something\n"
   ]
  },
  {
   "cell_type": "markdown",
   "metadata": {},
   "source": [
    "`condition` is a boolean expression that is evaluated at the beginning of each iteration of the loop. If condition is true, the code block inside the loop is executed."
   ]
  },
  {
   "cell_type": "code",
   "execution_count": 40,
   "metadata": {},
   "outputs": [
    {
     "name": "stdout",
     "output_type": "stream",
     "text": [
      "0\n",
      "1\n",
      "2\n",
      "3\n",
      "4\n",
      "5\n",
      "6\n",
      "7\n",
      "8\n",
      "9\n"
     ]
    }
   ],
   "source": [
    "i = 0\n",
    "while i < 10:\n",
    "    print(i)\n",
    "    i += 1\n"
   ]
  },
  {
   "cell_type": "markdown",
   "metadata": {},
   "source": [
    "In simple terms, it repeatedly executes a block of statements as long as a test at the top keeps evaluating to a true value.  The general form is as follows\n",
    "\n",
    "while *test*:\n",
    "\n",
    "    *statement1*\n",
    "else:\n",
    "    \n",
    "    *statement2*\n",
    "    \n",
    "The else at the end is optional and will only run if you didn't exit the loop with a break (more on this later).\n"
   ]
  },
  {
   "cell_type": "code",
   "execution_count": 41,
   "metadata": {
    "collapsed": false,
    "jupyter": {
     "outputs_hidden": false
    }
   },
   "outputs": [
    {
     "name": "stdout",
     "output_type": "stream",
     "text": [
      "spam\n",
      "pam\n",
      "am\n",
      "m\n"
     ]
    }
   ],
   "source": [
    "#slowly chopping the spam\n",
    "word='spam'\n",
    "while word !='':\n",
    "    print(word)\n",
    "    word = word[1:]"
   ]
  },
  {
   "cell_type": "code",
   "execution_count": 42,
   "metadata": {
    "collapsed": false,
    "jupyter": {
     "outputs_hidden": false
    }
   },
   "outputs": [
    {
     "name": "stdout",
     "output_type": "stream",
     "text": [
      "1 2 3 4 5 6 7 8 9 10 "
     ]
    }
   ],
   "source": [
    "#Another example\n",
    "a=0\n",
    "b=10\n",
    "while a<b:\n",
    "    #a=a+1\n",
    "    a+=1\n",
    "    #prints in single line\n",
    "    print(a, end = ' ')"
   ]
  },
  {
   "cell_type": "markdown",
   "metadata": {},
   "source": [
    "### 2.2.4 Loop Control Statements"
   ]
  },
  {
   "cell_type": "markdown",
   "metadata": {},
   "source": [
    "In Python, there are three types of loop control statements that can be used to modify the behavior of loops:\n",
    "\n",
    "- `break`: terminates the loop early\n",
    "- `continue`: skips the rest of the current iteration and starts the next iteration\n",
    "- `pass`: does nothing and is used as a placeholder when no action is needed"
   ]
  },
  {
   "cell_type": "code",
   "execution_count": 43,
   "metadata": {},
   "outputs": [
    {
     "name": "stdout",
     "output_type": "stream",
     "text": [
      "0\n",
      "1\n",
      "2\n",
      "3\n",
      "4\n"
     ]
    }
   ],
   "source": [
    "for i in range(10):\n",
    "    if i == 5:\n",
    "        break\n",
    "    print(i)\n"
   ]
  },
  {
   "cell_type": "markdown",
   "metadata": {},
   "source": [
    "In this example, the for loop iterates over the numbers 0 to 9. If the value of i is equal to 5, the break statement is executed and the loop is terminated early."
   ]
  },
  {
   "cell_type": "markdown",
   "metadata": {},
   "source": [
    "Here is an example that uses a continue statement to skip the rest of the current iteration:"
   ]
  },
  {
   "cell_type": "code",
   "execution_count": 44,
   "metadata": {},
   "outputs": [
    {
     "name": "stdout",
     "output_type": "stream",
     "text": [
      "0\n",
      "1\n",
      "2\n",
      "3\n",
      "4\n",
      "6\n",
      "7\n",
      "8\n",
      "9\n"
     ]
    }
   ],
   "source": [
    "for i in range(10):\n",
    "    if i == 5:\n",
    "        continue\n",
    "    print(i)\n"
   ]
  },
  {
   "cell_type": "code",
   "execution_count": 45,
   "metadata": {},
   "outputs": [
    {
     "name": "stdout",
     "output_type": "stream",
     "text": [
      "0\n",
      "1\n",
      "2\n",
      "3\n",
      "4\n",
      "6\n",
      "7\n",
      "8\n",
      "9\n"
     ]
    }
   ],
   "source": [
    "for i in range(10):\n",
    "    if i == 5:\n",
    "        pass\n",
    "    else:\n",
    "        print(i)\n"
   ]
  },
  {
   "cell_type": "markdown",
   "metadata": {},
   "source": [
    "In this example, the for loop iterates over the numbers 0 to 9. If the value of i is equal to 5, the pass statement is executed and nothing happens. Otherwise, the value of i is printed to the console."
   ]
  },
  {
   "cell_type": "markdown",
   "metadata": {},
   "source": [
    "### Summary"
   ]
  },
  {
   "cell_type": "markdown",
   "metadata": {},
   "source": [
    "Loops are a fundamental concept in programming and are essential for automating repetitive tasks. In Python, for loops and while loops are used to iterate over sequences of values or execute code repeatedly as long as a certain condition is true. Loop control statements, such as break, continue, and pass, can be used to modify the behavior of loops. By mastering loops in Python, you can write more efficient and effective code."
   ]
  },
  {
   "cell_type": "markdown",
   "metadata": {},
   "source": [
    "## 3.1 Loops with Conditions"
   ]
  },
  {
   "cell_type": "markdown",
   "metadata": {},
   "source": [
    "Loops with conditions are a way to iterate over a sequence of values and perform certain actions only on values that meet a specific condition. In Python, loops with conditions can be achieved using either for loops or while loops."
   ]
  },
  {
   "cell_type": "code",
   "execution_count": 46,
   "metadata": {},
   "outputs": [
    {
     "name": "stdout",
     "output_type": "stream",
     "text": [
      "1 is odd\n",
      "2 is even\n",
      "3 is odd\n",
      "4 is even\n",
      "5 is odd\n",
      "6 is even\n",
      "7 is odd\n",
      "8 is even\n",
      "9 is odd\n",
      "10 is even\n"
     ]
    }
   ],
   "source": [
    "numbers = [1, 2, 3, 4, 5, 6, 7, 8, 9, 10]\n",
    "for number in numbers:\n",
    "    if number % 2 == 0:\n",
    "        print(f\"{number} is even\")\n",
    "    else:\n",
    "        print(f\"{number} is odd\")\n"
   ]
  },
  {
   "cell_type": "code",
   "execution_count": 47,
   "metadata": {},
   "outputs": [
    {
     "name": "stdout",
     "output_type": "stream",
     "text": [
      "1\n",
      "2\n",
      "Fizz\n",
      "4\n",
      "Buzz\n",
      "Fizz\n",
      "7\n",
      "8\n",
      "Fizz\n",
      "Buzz\n",
      "11\n",
      "Fizz\n",
      "13\n",
      "14\n",
      "FizzBuzz\n",
      "16\n",
      "17\n",
      "Fizz\n",
      "19\n",
      "Buzz\n",
      "Fizz\n",
      "22\n",
      "23\n",
      "Fizz\n",
      "Buzz\n",
      "26\n",
      "Fizz\n",
      "28\n",
      "29\n",
      "FizzBuzz\n",
      "31\n",
      "32\n",
      "Fizz\n",
      "34\n",
      "Buzz\n",
      "Fizz\n",
      "37\n",
      "38\n",
      "Fizz\n",
      "Buzz\n",
      "41\n",
      "Fizz\n",
      "43\n",
      "44\n",
      "FizzBuzz\n",
      "46\n",
      "47\n",
      "Fizz\n",
      "49\n",
      "Buzz\n",
      "Fizz\n",
      "52\n",
      "53\n",
      "Fizz\n",
      "Buzz\n",
      "56\n",
      "Fizz\n",
      "58\n",
      "59\n",
      "FizzBuzz\n",
      "61\n",
      "62\n",
      "Fizz\n",
      "64\n",
      "Buzz\n",
      "Fizz\n",
      "67\n",
      "68\n",
      "Fizz\n",
      "Buzz\n",
      "71\n",
      "Fizz\n",
      "73\n",
      "74\n",
      "FizzBuzz\n",
      "76\n",
      "77\n",
      "Fizz\n",
      "79\n",
      "Buzz\n",
      "Fizz\n",
      "82\n",
      "83\n",
      "Fizz\n",
      "Buzz\n",
      "86\n",
      "Fizz\n",
      "88\n",
      "89\n",
      "FizzBuzz\n",
      "91\n",
      "92\n",
      "Fizz\n",
      "94\n",
      "Buzz\n",
      "Fizz\n",
      "97\n",
      "98\n",
      "Fizz\n",
      "Buzz\n"
     ]
    }
   ],
   "source": [
    "x = 1\n",
    "while x <= 100:\n",
    "    if x % 3 == 0 and x % 5 == 0:\n",
    "        print(\"FizzBuzz\")\n",
    "    elif x % 3 == 0:\n",
    "        print(\"Fizz\")\n",
    "    elif x % 5 == 0:\n",
    "        print(\"Buzz\")\n",
    "    else:\n",
    "        print(x)\n",
    "    x += 1\n"
   ]
  },
  {
   "cell_type": "markdown",
   "metadata": {},
   "source": [
    "Loops with conditions are a powerful tool for performing specific actions on certain values in a sequence. By using conditional statements within loops, you can write code that is both efficient and effective."
   ]
  },
  {
   "cell_type": "code",
   "execution_count": null,
   "metadata": {},
   "outputs": [],
   "source": []
  }
 ],
 "metadata": {
  "kernelspec": {
   "display_name": "Python 3 (ipykernel)",
   "language": "python",
   "name": "python3"
  },
  "language_info": {
   "codemirror_mode": {
    "name": "ipython",
    "version": 3
   },
   "file_extension": ".py",
   "mimetype": "text/x-python",
   "name": "python",
   "nbconvert_exporter": "python",
   "pygments_lexer": "ipython3",
   "version": "3.8.16"
  },
  "toc": {
   "colors": {
    "hover_highlight": "#DAA520",
    "navigate_num": "#000000",
    "navigate_text": "#333333",
    "running_highlight": "#FF0000",
    "selected_highlight": "#FFD700",
    "sidebar_border": "#EEEEEE",
    "wrapper_background": "#FFFFFF"
   },
   "moveMenuLeft": true,
   "nav_menu": {
    "height": "12px",
    "width": "252px"
   },
   "navigate_menu": true,
   "number_sections": true,
   "sideBar": true,
   "skip_h1_title": false,
   "threshold": 4,
   "toc_cell": false,
   "toc_position": {},
   "toc_section_display": "block",
   "toc_window_display": false,
   "widenNotebook": false
  }
 },
 "nbformat": 4,
 "nbformat_minor": 4
}
