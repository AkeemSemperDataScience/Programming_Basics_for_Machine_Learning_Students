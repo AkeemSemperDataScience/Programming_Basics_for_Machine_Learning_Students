{
  "cells": [
    {
      "cell_type": "markdown",
      "metadata": {
        "id": "view-in-github",
        "colab_type": "text"
      },
      "source": [
        "<a href=\"https://colab.research.google.com/github/DATA3320/DATA3320_1231/blob/main/workbooks/Lecture19_20_workbook.ipynb\" target=\"_parent\"><img src=\"https://colab.research.google.com/assets/colab-badge.svg\" alt=\"Open In Colab\"/></a>"
      ]
    },
    {
      "cell_type": "markdown",
      "id": "3659db90-0caa-45a3-97b8-39d8c0bbc32a",
      "metadata": {
        "id": "3659db90-0caa-45a3-97b8-39d8c0bbc32a"
      },
      "source": [
        "# Lecture 19-20 Workbook"
      ]
    },
    {
      "cell_type": "markdown",
      "id": "1cc45251-5d87-4bd8-ad43-9bd60e74f30f",
      "metadata": {
        "button": false,
        "new_sheet": false,
        "run_control": {
          "read_only": false
        },
        "id": "1cc45251-5d87-4bd8-ad43-9bd60e74f30f"
      },
      "source": [
        "Designing a machine learning (ML) pipeline for regression involves several steps, including data preprocessing, feature engineering, model selection, training, evaluation, and deployment.\n",
        "\n",
        "In this workbook, you will load California Housing dataset from scikit-learn, fit the data, and use Linear Regression to predict a data point.\n",
        "\n",
        ""
      ]
    },
    {
      "cell_type": "markdown",
      "id": "06ede6ee-d42c-4f6f-ab80-aec5944f941d",
      "metadata": {
        "id": "06ede6ee-d42c-4f6f-ab80-aec5944f941d"
      },
      "source": [
        "## 1. Import the Libraries"
      ]
    },
    {
      "cell_type": "code",
      "execution_count": null,
      "id": "0fc3be27-dfd9-46ec-a5af-5aa6b5397835",
      "metadata": {
        "id": "0fc3be27-dfd9-46ec-a5af-5aa6b5397835"
      },
      "outputs": [],
      "source": [
        "import numpy as np\n",
        "import pandas as pd\n",
        "from sklearn.datasets import fetch_california_housing\n",
        "from sklearn.model_selection import train_test_split\n",
        "from sklearn.preprocessing import StandardScaler\n",
        "from sklearn.linear_model import LinearRegression\n",
        "from sklearn.metrics import mean_squared_error, r2_score\n"
      ]
    },
    {
      "cell_type": "markdown",
      "id": "0623df91-d665-4b4d-96c2-f3fe1a087688",
      "metadata": {
        "id": "0623df91-d665-4b4d-96c2-f3fe1a087688"
      },
      "source": [
        "## 2. Loas & Explore Data"
      ]
    },
    {
      "cell_type": "code",
      "execution_count": null,
      "id": "f494289e-6f7a-4eb1-aff7-23fcb1e58abb",
      "metadata": {
        "id": "f494289e-6f7a-4eb1-aff7-23fcb1e58abb"
      },
      "outputs": [],
      "source": [
        "# Load the California Housing dataset\n",
        "\n"
      ]
    },
    {
      "cell_type": "markdown",
      "id": "6c7387be-b6cf-48b6-bb87-3b0e5d927399",
      "metadata": {
        "id": "6c7387be-b6cf-48b6-bb87-3b0e5d927399"
      },
      "source": [
        "## 3. Data Preprocessing"
      ]
    },
    {
      "cell_type": "code",
      "execution_count": null,
      "id": "95505e61-4bb0-4538-aca2-0c685805e763",
      "metadata": {
        "id": "95505e61-4bb0-4538-aca2-0c685805e763"
      },
      "outputs": [],
      "source": [
        "\n"
      ]
    },
    {
      "cell_type": "markdown",
      "id": "928477bb-c1a8-4bdb-b802-88a99ae389e1",
      "metadata": {
        "id": "928477bb-c1a8-4bdb-b802-88a99ae389e1"
      },
      "source": [
        "## 4. Model Selection"
      ]
    },
    {
      "cell_type": "code",
      "execution_count": null,
      "id": "67d31c17-ffb6-4d2e-85c0-61ded63e5815",
      "metadata": {
        "id": "67d31c17-ffb6-4d2e-85c0-61ded63e5815"
      },
      "outputs": [],
      "source": [
        "# Choose a regression model (e.g., Linear Regression)\n",
        "\n"
      ]
    },
    {
      "cell_type": "markdown",
      "id": "86678521-c192-45f3-bd02-7b117c926ce6",
      "metadata": {
        "id": "86678521-c192-45f3-bd02-7b117c926ce6"
      },
      "source": [
        "## 5. Model Training"
      ]
    },
    {
      "cell_type": "code",
      "execution_count": null,
      "id": "d0a50677-cd61-4032-a1d2-df1eff77dcb2",
      "metadata": {
        "id": "d0a50677-cd61-4032-a1d2-df1eff77dcb2"
      },
      "outputs": [],
      "source": [
        "# Train the model\n",
        "\n"
      ]
    },
    {
      "cell_type": "markdown",
      "id": "d70356a7-5186-41d9-b3a4-ac6e300d2ce3",
      "metadata": {
        "id": "d70356a7-5186-41d9-b3a4-ac6e300d2ce3"
      },
      "source": [
        "## 6. Model Evaluation"
      ]
    },
    {
      "cell_type": "code",
      "execution_count": null,
      "id": "502e77e2-7ac7-4517-969c-062a5c7452c8",
      "metadata": {
        "id": "502e77e2-7ac7-4517-969c-062a5c7452c8"
      },
      "outputs": [],
      "source": []
    },
    {
      "cell_type": "markdown",
      "id": "8e5917ee-9efc-44fa-8d76-c031144ae525",
      "metadata": {
        "id": "8e5917ee-9efc-44fa-8d76-c031144ae525"
      },
      "source": [
        "## 9. Pipeline"
      ]
    },
    {
      "cell_type": "markdown",
      "id": "7caa59e8-09ef-471d-8569-300aa2808671",
      "metadata": {
        "id": "7caa59e8-09ef-471d-8569-300aa2808671"
      },
      "source": [
        "### Pipeline 1"
      ]
    },
    {
      "cell_type": "code",
      "execution_count": null,
      "id": "8680f15b-aa3a-4c56-9680-40a3722f3f1a",
      "metadata": {
        "id": "8680f15b-aa3a-4c56-9680-40a3722f3f1a"
      },
      "outputs": [],
      "source": [
        "\n"
      ]
    }
  ],
  "metadata": {
    "kernelspec": {
      "display_name": "Python 3 (ipykernel)",
      "language": "python",
      "name": "python3"
    },
    "language_info": {
      "codemirror_mode": {
        "name": "ipython",
        "version": 3
      },
      "file_extension": ".py",
      "mimetype": "text/x-python",
      "name": "python",
      "nbconvert_exporter": "python",
      "pygments_lexer": "ipython3",
      "version": "3.8.16"
    },
    "colab": {
      "provenance": [],
      "include_colab_link": true
    }
  },
  "nbformat": 4,
  "nbformat_minor": 5
}