{
  "cells": [
    {
      "cell_type": "markdown",
      "metadata": {
        "id": "view-in-github",
        "colab_type": "text"
      },
      "source": [
        "<a href=\"https://colab.research.google.com/github/DATA3320/Weekly/blob/main/Lecture04_workbook.ipynb\" target=\"_parent\"><img src=\"https://colab.research.google.com/assets/colab-badge.svg\" alt=\"Open In Colab\"/></a>"
      ]
    },
    {
      "cell_type": "markdown",
      "metadata": {
        "id": "sZVjeW8WXZjJ"
      },
      "source": [
        "# Lecture 4 Workbook"
      ]
    },
    {
      "cell_type": "markdown",
      "metadata": {
        "id": "YkKZ47-6XZjN"
      },
      "source": [
        "### 1."
      ]
    },
    {
      "cell_type": "markdown",
      "metadata": {
        "id": "PdvbfmvYXZjQ"
      },
      "source": [
        "Create a function `website()` that grabs the website domain from a url string. For example, if your function is passed `\"www.google.com\"`, it should return `\"google\"`."
      ]
    },
    {
      "cell_type": "code",
      "execution_count": null,
      "metadata": {
        "id": "W4R-G0imXZjR"
      },
      "outputs": [],
      "source": [
        "def website(url):\n",
        "    pass  # Remove this line and add your answer here."
      ]
    },
    {
      "cell_type": "markdown",
      "metadata": {
        "id": "p9ZfAQk5XZjX"
      },
      "source": [
        "### 2."
      ]
    },
    {
      "cell_type": "markdown",
      "metadata": {
        "id": "ydny5oPqXZjX"
      },
      "source": [
        "Create a function `divisible(a, b)` that accepts two integers (`a` and `b`) and returns `True` if `a` is divisble by `b` without a remainder. For example, `divisible(10, 3)` should return `False`, while `divisible(6, 3)` should return `True`."
      ]
    },
    {
      "cell_type": "code",
      "execution_count": null,
      "metadata": {
        "id": "aKUqhVqjXZjY"
      },
      "outputs": [],
      "source": [
        "def divisible(a, b):\n",
        "    pass  # Remove this line and add your answer here."
      ]
    },
    {
      "cell_type": "markdown",
      "metadata": {
        "id": "gR-bokQMXZjZ"
      },
      "source": [
        "### 3."
      ]
    },
    {
      "cell_type": "markdown",
      "metadata": {
        "id": "IfL2WFqBXZjZ"
      },
      "source": [
        "For the following list of names, creates a list of *only* words that start with a capital letter (hint: `str.isupper()`)."
      ]
    },
    {
      "cell_type": "code",
      "execution_count": null,
      "metadata": {
        "id": "JL6KlDyxXZja"
      },
      "outputs": [],
      "source": [
        "names = ['Steve Irwin', 'koala', 'kangaroo', 'Australia', 'Sydney', 'desert']\n",
        "\n",
        "# Your answer here."
      ]
    },
    {
      "cell_type": "markdown",
      "metadata": {
        "id": "o49rXk3FXZjb"
      },
      "source": [
        "### 5."
      ]
    },
    {
      "cell_type": "markdown",
      "metadata": {
        "id": "tMBJ2P24XZjc"
      },
      "source": [
        "Create a function `lucky_sum()` that takes all the integers a user enters and returns their sum. *However*, if one of the values is 13 then it does not count towards the sum, nor do any values to its right.\n",
        "\n",
        "For example, your function should behave as follows:\n",
        "\n",
        "```python\n",
        "lucky_sum(1, 2, 3, 4)\n",
        "10\n",
        "\n",
        "lucky_sum(1, 13, 3, 4)\n",
        "1\n",
        "\n",
        "lucky_sum(13)\n",
        "0\n",
        "```"
      ]
    },
    {
      "cell_type": "code",
      "execution_count": null,
      "metadata": {
        "id": "II8sn0o8XZjd"
      },
      "outputs": [],
      "source": [
        "def lucky_sum(*args):\n",
        "    pass  # Remove this line and add your answer here."
      ]
    },
    {
      "cell_type": "code",
      "execution_count": null,
      "metadata": {
        "id": "18hgUaH8XZje"
      },
      "outputs": [],
      "source": []
    },
    {
      "cell_type": "markdown",
      "metadata": {
        "id": "1HErRfTGXZjf"
      },
      "source": [
        "### 6."
      ]
    },
    {
      "cell_type": "markdown",
      "metadata": {
        "id": "jonFbjKPXZjg"
      },
      "source": [
        "Create a file with the title of \"lecture04_1.txt\". Invite users to input the following Grades Roster:\n",
        "\n",
        "    John Smith: 89\n",
        "    Mary Davis: 92\n",
        "    Adam Li: 85\n",
        "    Mohamed Ali: 78\n",
        "\n",
        "(optional) Then to print the whole content of the file. "
      ]
    },
    {
      "cell_type": "code",
      "execution_count": null,
      "metadata": {
        "id": "WmOLrqoSXZjh"
      },
      "outputs": [],
      "source": []
    },
    {
      "cell_type": "markdown",
      "metadata": {
        "id": "oVm8GbzCXZjj"
      },
      "source": [
        "### 7."
      ]
    },
    {
      "cell_type": "markdown",
      "metadata": {
        "id": "zwbvqrJEXZjk"
      },
      "source": [
        "Read the values from \"lecture04_1.txt\" and write them to a new output file with a user defined title, aligned in a column and followed by their total, and average values."
      ]
    },
    {
      "cell_type": "code",
      "source": [],
      "metadata": {
        "id": "8hZov6ZOXlsE"
      },
      "execution_count": null,
      "outputs": []
    }
  ],
  "metadata": {
    "kernelspec": {
      "display_name": "Python 3 (ipykernel)",
      "language": "python",
      "name": "python3"
    },
    "language_info": {
      "codemirror_mode": {
        "name": "ipython",
        "version": 3
      },
      "file_extension": ".py",
      "mimetype": "text/x-python",
      "name": "python",
      "nbconvert_exporter": "python",
      "pygments_lexer": "ipython3",
      "version": "3.8.16"
    },
    "colab": {
      "provenance": [],
      "include_colab_link": true
    }
  },
  "nbformat": 4,
  "nbformat_minor": 0
}