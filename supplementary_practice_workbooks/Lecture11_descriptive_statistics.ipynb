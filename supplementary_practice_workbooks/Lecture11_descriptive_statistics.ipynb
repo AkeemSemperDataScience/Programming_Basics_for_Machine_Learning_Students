{
 "cells": [
  {
   "cell_type": "markdown",
   "metadata": {},
   "source": [
    "# Lecture11: Descriptive Statistics "
   ]
  },
  {
   "cell_type": "markdown",
   "metadata": {},
   "source": [
    "Any time that you get a new data set to look at, one of the first tasks that you have to do is find ways of summarising the data in a compact, easily understood fashion. This is what **_descriptive statistics_** (as opposed to inferential statistics) is all about. "
   ]
  },
  {
   "cell_type": "code",
   "execution_count": 1,
   "metadata": {},
   "outputs": [],
   "source": [
    "import pandas as pd\n",
    "\n",
    "afl_finalists = pd.read_csv('../data/afl_finalists.csv')\n",
    "afl_margins = pd.read_csv('../data/afl_margins.csv')"
   ]
  },
  {
   "cell_type": "markdown",
   "metadata": {},
   "source": [
    "There are two variables here, `afl_finalists` and `afl_margins`., which relates to the Australian Football League (AFL).\n",
    "\n",
    "The `afl_margins` varaible contains the winning margin (number of points) for all 176 home and away games played during the 2010 season. \n",
    "\n",
    "The `afl_finalists` varaible contains the names of all 400 teams that played in all 200 finals matches played during the period 1987 to 2010. \n"
   ]
  },
  {
   "cell_type": "code",
   "execution_count": 2,
   "metadata": {},
   "outputs": [
    {
     "name": "stdout",
     "output_type": "stream",
     "text": [
      "     afl.margins\n",
      "0             56\n",
      "1             31\n",
      "2             56\n",
      "3              8\n",
      "4             32\n",
      "..           ...\n",
      "171           28\n",
      "172           38\n",
      "173           29\n",
      "174           10\n",
      "175           10\n",
      "\n",
      "[176 rows x 1 columns]\n"
     ]
    }
   ],
   "source": [
    "print(afl_margins)"
   ]
  },
  {
   "cell_type": "markdown",
   "metadata": {},
   "source": [
    "This output doesn't make it easy to get a sense of what the data are. Just \"looking at the data\" isn't a terribly effective way of understanding data. \n",
    "\n",
    "In order to get some idea about what's going on, we need to calculate some descriptive statistics. \n",
    "\n",
    "Let us create a histogram of the `afl_margins` data, which was generated using the `histplot()` function from the `seaborn` package. "
   ]
  },
  {
   "cell_type": "code",
   "execution_count": 5,
   "metadata": {
    "tags": [
     "hide-input"
    ]
   },
   "outputs": [
    {
     "data": {
      "text/plain": [
       "[Text(0.5, 0, 'Winning Margin'), Text(0, 0.5, 'Frequency')]"
      ]
     },
     "execution_count": 5,
     "metadata": {},
     "output_type": "execute_result"
    },
    {
     "data": {
      "image/png": "[encoded data removed]",
      "text/plain": [
       "<Figure size 640x480 with 1 Axes>"
      ]
     },
     "metadata": {},
     "output_type": "display_data"
    }
   ],
   "source": [
    "#from myst_nb import glue\n",
    "import seaborn as sns\n",
    "\n",
    "ax = sns.histplot(afl_margins)\n",
    "\n",
    "ax.set(xlabel =\"Winning Margin\", \n",
    "                ylabel = \"Frequency\")\n",
    "\n",
    "#glue(\"afl_fig\", ax, display=False)"
   ]
  },
  {
   "cell_type": "markdown",
   "metadata": {},
   "source": [
    "```{glue:figure} afl_fig\n",
    ":figwidth: 600px\n",
    ":name: fig-AFL-Margins\n",
    "\n",
    "A histogram of the AFL 2010 winning margin data (the `afl_margins` variable). As you might expect, the larger the margin the less frequently you tend to see it.\n",
    "```\n"
   ]
  },
  {
   "cell_type": "markdown",
   "metadata": {},
   "source": [
    "## Measures of central tendency\n",
    "\n",
    "Athough drawing pictures of the data is an excellent way to convey the \"gist\" of what the data is trying to tell us, it's often extremely useful to try to condense the data into a few simple \"summary\" statistics. \n",
    "\n",
    "In most situations, the first thing that we want to calculate is a measure of **_central tendency_**. The two most commonly used measures are the mean, median and mode; occasionally people will also report a trimmed mean.\n",
    "\n",
    "### The mean\n",
    "\n",
    "The **_mean_** of a set of observations is just a normal, old-fashioned average: add all of the values up, and then divide by the total number of values. The first five AFL margins were 56, 31, 56, 8 and 32, so the mean of these observations is just:\n",
    "\n",
    "\n",
    "$\\frac{56 + 31 + 56 + 8 + 32}{5} = \\frac{183}{5} = 36.60$\n",
    "\n",
    "\n",
    "The first piece of notation to introduce is $N$, which we'll use to refer to the number of observations that we're averaging (in this case $N = 5$). \n",
    "\n",
    "Next, we need to attach a label to the observations themselves. It's traditional to use $X$ for this, and to use subscripts to indicate which observation we're actually talking about. That is, we'll use $X_1$ to refer to the first observation, $X_2$ to refer to the second observation, and so on, all the way up to $X_N$ for the last one. Or, to say the same thing in a slightly more abstract way, we use $X_i$ to refer to the $i$-th observation. \n",
    "\n",
    "The following table lists the 5 observations in the `afl_margins` variable, along with the mathematical symbol used to refer to it, and the actual value that the observation corresponds to:\n",
    "\n",
    "|the observation        |its symbol |the observed value |\n",
    "|:----------------------|:----------|:------------------|\n",
    "|winning margin, game 1 |$X_1$      |56 points          |\n",
    "|winning margin, game 2 |$X_2$      |31 points          |\n",
    "|winning margin, game 3 |$X_3$      |56 points          |\n",
    "|winning margin, game 4 |$X_4$      |8 points           |\n",
    "|winning margin, game 5 |$X_5$      |32 points          |"
   ]
  },
  {
   "cell_type": "markdown",
   "metadata": {},
   "source": [
    "Okay, now let's try to write a formula for the mean. By tradition, we use $\\bar{X}$ as the notation for the mean. So the calculation for the mean could be expressed using the following formula:  \n",
    "\n",
    "$\\bar{X} = \\frac{X_1 + X_2 + ... + X_{N-1} + X_N}{N}$\n",
    "\n",
    "This formula is entirely correct, but it's terribly long, so we make use of the **_summation symbol_** $\\scriptstyle\\sum$ to shorten it. \n",
    "\n",
    ">The choice to use $\\Sigma$ to denote summation isn't arbitrary: it's the Greek upper case letter sigma, which is the analogue of the letter S in that alphabet. Similarly, there's an equivalent symbol used to denote the multiplication of lots of numbers: because multiplications are also called \"products\", we use the $\\Pi$ symbol for this; the Greek upper case pi, which is the analogue of the letter P.\n",
    "\n",
    "If I want to add up the first five observations, I could write out the sum the long way, $X_1 + X_2 + X_3 + X_4 +X_5$ or I could use the summation symbol to shorten it to this:  \n",
    "\n",
    "\n",
    "$\\sum_{i=1}^5 X_i$\n",
    "\n",
    "\n",
    "Taken literally, this could be read as \"the sum, taken over all $i$ values from 1 to 5, of the value $X_i$\". But basically, what it means is \"add up the first five observations\". In any case, we can use this notation to write out the formula for the mean, which looks like this:  \n",
    "\n",
    "\n",
    "$\\bar{X} = \\frac{1}{N} \\sum_{i=1}^N X_i$\n",
    "\n",
    "\n",
    "It is generally accpeted that: \n",
    "\n",
    ">$\\bar{X}$ for the mean, \n",
    "\n",
    ">$\\scriptstyle\\sum$ for the idea of summation, \n",
    "\n",
    ">$X_i$ for the $i$th observation, \n",
    "\n",
    ">and $N$ for the total number of observations.\n",
    "\n",
    "\n",
    "### Calculating the mean in Python\n"
   ]
  },
  {
   "cell_type": "code",
   "execution_count": 4,
   "metadata": {},
   "outputs": [
    {
     "data": {
      "text/plain": [
       "36.6"
      ]
     },
     "execution_count": 4,
     "metadata": {},
     "output_type": "execute_result"
    }
   ],
   "source": [
    "\n",
    "(56 + 31 + 56 + 8 + 32) / 5\n"
   ]
  },
  {
   "cell_type": "markdown",
   "metadata": {},
   "source": [
    "That's not the only way to do the calculations.\n",
    "\n",
    "And when the number of observations starts to become large, it's easily the most tedious. Besides, in almost every real world scenario, you've already got the actual numbers stored in a variable of some kind, just like we have with the `afl_margins` variable. \n",
    "\n",
    "Under those circumstances, what you want is a function that will just add up all the values stored in a numeric vector. That's what the `sum()` function does. If we want to add up all 176 winning margins in the data set, we can do so using the following command:"
   ]
  },
  {
   "cell_type": "code",
   "execution_count": 6,
   "metadata": {},
   "outputs": [
    {
     "data": {
      "text/plain": [
       "6213"
      ]
     },
     "execution_count": 6,
     "metadata": {},
     "output_type": "execute_result"
    }
   ],
   "source": [
    "margins = afl_margins['afl.margins']\n",
    "\n",
    "margins.sum()"
   ]
  },
  {
   "cell_type": "markdown",
   "metadata": {},
   "source": [
    "If we only want the sum of the first five observations, then we can use square brackets to pull out only the first five elements of the vector. So the command would now be:"
   ]
  },
  {
   "cell_type": "code",
   "execution_count": 7,
   "metadata": {},
   "outputs": [
    {
     "data": {
      "text/plain": [
       "0    56\n",
       "1    31\n",
       "2    56\n",
       "3     8\n",
       "4    32\n",
       "Name: afl.margins, dtype: int64"
      ]
     },
     "execution_count": 7,
     "metadata": {},
     "output_type": "execute_result"
    }
   ],
   "source": [
    "margins[0:5]"
   ]
  },
  {
   "cell_type": "markdown",
   "metadata": {},
   "source": [
    "To calculate the mean, we now tell Python to divide the output of this summation by five, so the command that we need to type now becomes the following:"
   ]
  },
  {
   "cell_type": "code",
   "execution_count": 8,
   "metadata": {},
   "outputs": [
    {
     "data": {
      "text/plain": [
       "36.6"
      ]
     },
     "execution_count": 8,
     "metadata": {},
     "output_type": "execute_result"
    }
   ],
   "source": [
    "margins[0:5].sum()/5\n",
    "\n"
   ]
  },
  {
   "cell_type": "markdown",
   "metadata": {},
   "source": [
    "Although it's pretty easy to calculate the mean using the `sum()` function, we can do it in an even easier way, since Python also provides us with the `mean()` method from the `statistics` module. To calculate the mean for all 176 games, we would use the \n",
    "following command:"
   ]
  },
  {
   "cell_type": "code",
   "execution_count": 9,
   "metadata": {},
   "outputs": [
    {
     "data": {
      "text/plain": [
       "35.30113636363637"
      ]
     },
     "execution_count": 9,
     "metadata": {},
     "output_type": "execute_result"
    }
   ],
   "source": [
    "import statistics\n",
    "statistics.mean(margins)\n"
   ]
  },
  {
   "cell_type": "markdown",
   "metadata": {},
   "source": [
    "Here's what we would do to calculate the mean for only the first five observations:"
   ]
  },
  {
   "cell_type": "code",
   "execution_count": 10,
   "metadata": {},
   "outputs": [
    {
     "data": {
      "text/plain": [
       "36.6"
      ]
     },
     "execution_count": 10,
     "metadata": {},
     "output_type": "execute_result"
    }
   ],
   "source": [
    "statistics.mean(margins[0:5])"
   ]
  },
  {
   "cell_type": "markdown",
   "metadata": {},
   "source": [
    "### The median\n",
    "\n",
    "The second measure of central tendency that people use a lot is the **_median_**, and it's even easier to describe than the mean. The median of a set of observations is just the middle value. As before let's imagine we were interested only in the first 5 AFL winning margins: 56, 31, 56, 8 and 32. To figure out the median, we sort these numbers into ascending order:  \n",
    "\n",
    "$$\n",
    "8, 31, \\mathbf{32}, 56, 56\n",
    "$$\n",
    "From inspection, it's obvious that the median value of these 5 observations is 32, since that's the middle one in the sorted list. Easy stuff. But what should we do if we were interested in the first 6 games rather than the first 5? Since the sixth game in the season had a winning margin of 14 points, our sorted list is now \n",
    "\n",
    "$$\n",
    "8, 14, \\mathbf{31}, \\mathbf{32}, 56, 56\n",
    "$$\n",
    "and there are *two* middle numbers, 31 and 32. The median is defined as the average of those two numbers, which is of course 31.5. As before, it's very tedious to do this by hand when you've got lots of numbers. To illustrate this, here's what happens when you use Python to sort all 176 winning margins. First, I'll use the `sort_values` method to display the winning margins in increasing numerical order. \n",
    "\n",
    "`sort_values`is a *method* that belong to `pandas` *objects*. "
   ]
  },
  {
   "cell_type": "code",
   "execution_count": 11,
   "metadata": {},
   "outputs": [
    {
     "data": {
      "text/html": [
       "<div>\n",
       "<style scoped>\n",
       "    .dataframe tbody tr th:only-of-type {\n",
       "        vertical-align: middle;\n",
       "    }\n",
       "\n",
       "    .dataframe tbody tr th {\n",
       "        vertical-align: top;\n",
       "    }\n",
       "\n",
       "    .dataframe thead th {\n",
       "        text-align: right;\n",
       "    }\n",
       "</style>\n",
       "<table border=\"1\" class=\"dataframe\">\n",
       "  <thead>\n",
       "    <tr style=\"text-align: right;\">\n",
       "      <th></th>\n",
       "      <th>afl.margins</th>\n",
       "    </tr>\n",
       "  </thead>\n",
       "  <tbody>\n",
       "    <tr>\n",
       "      <th>165</th>\n",
       "      <td>29</td>\n",
       "    </tr>\n",
       "    <tr>\n",
       "      <th>173</th>\n",
       "      <td>29</td>\n",
       "    </tr>\n",
       "    <tr>\n",
       "      <th>150</th>\n",
       "      <td>29</td>\n",
       "    </tr>\n",
       "    <tr>\n",
       "      <th>117</th>\n",
       "      <td>30</td>\n",
       "    </tr>\n",
       "    <tr>\n",
       "      <th>1</th>\n",
       "      <td>31</td>\n",
       "    </tr>\n",
       "    <tr>\n",
       "      <th>4</th>\n",
       "      <td>32</td>\n",
       "    </tr>\n",
       "    <tr>\n",
       "      <th>123</th>\n",
       "      <td>32</td>\n",
       "    </tr>\n",
       "    <tr>\n",
       "      <th>136</th>\n",
       "      <td>33</td>\n",
       "    </tr>\n",
       "  </tbody>\n",
       "</table>\n",
       "</div>"
      ],
      "text/plain": [
       "     afl.margins\n",
       "165           29\n",
       "173           29\n",
       "150           29\n",
       "117           30\n",
       "1             31\n",
       "4             32\n",
       "123           32\n",
       "136           33"
      ]
     },
     "execution_count": 11,
     "metadata": {},
     "output_type": "execute_result"
    }
   ],
   "source": [
    "\n",
    "sorted_margins = afl_margins.sort_values(by = 'afl.margins')\n",
    "sorted_margins[84:92]\n"
   ]
  },
  {
   "cell_type": "markdown",
   "metadata": {},
   "source": [
    "If we peek at the middle of these sorted values, we can see that the middle values are 30 and 31, so the median winning margin for 2010 was 30.5 points. \n",
    "\n",
    "In python, we use the median command:"
   ]
  },
  {
   "cell_type": "code",
   "execution_count": 12,
   "metadata": {},
   "outputs": [
    {
     "data": {
      "text/plain": [
       "30.5"
      ]
     },
     "execution_count": 12,
     "metadata": {},
     "output_type": "execute_result"
    }
   ],
   "source": [
    "import statistics\n",
    "statistics.median(margins)"
   ]
  },
  {
   "cell_type": "markdown",
   "metadata": {},
   "source": [
    "which outputs the median value of 30.5. \n",
    "\n",
    "By the way, in the code above, I imported the `statistics` package (or module, or library, or whatever you like to call it). \n",
    "\n",
    "Once a package is imported, Python will remember it, at least until your Python session is finished. \n",
    "\n",
    "### Mean or median? What's the difference?"
   ]
  },
  {
   "cell_type": "markdown",
   "metadata": {},
   "source": [
    "![mean_median](../images/meanmedian.png)"
   ]
  },
  {
   "cell_type": "markdown",
   "metadata": {},
   "source": [
    "An illustration of the difference between how the mean and the median should be interpreted.\n",
    "\n",
    "The mean is basically the “centre of gravity” of the data set: if you imagine that the histogram of the data is a solid object, then the point on which you could balance it (as if on a see-saw) is the mean. \n",
    "\n",
    "In contrast, the median is the middle observation. Half of the observations are smaller, and half of the observations are larger.\n",
    "```"
   ]
  },
  {
   "cell_type": "markdown",
   "metadata": {},
   "source": [
    "Knowing how to calculate means and medians is only a part of the story. You also need to understand what each one is saying about the data, and what that implies for when you should use each one. \n",
    "\n",
    "What this implies, as far as which one you should use, depends a little on what type of data you've got and what you're trying to achieve. As a rough guide:\n",
    " \n",
    "- If your data are nominal scale, you probably shouldn't be using either the mean or the median. Both the mean and the median rely on the idea that the numbers assigned to values are meaningful. If the numbering scheme is arbitrary, then it's probably best to use the [mode](mode) instead. \n",
    "\n",
    "- If your data are ordinal scale, you're more likely to want to use the median than the mean. The median only makes use of the order information in your data (i.e., which numbers are bigger), but doesn't depend on the precise numbers involved. That's exactly the situation that applies when your data are ordinal scale. The mean, on the other hand, makes use of the precise numeric values assigned to the observations, so it's not really appropriate for ordinal data.\n",
    "\n",
    "- For interval and ratio scale data, either one is generally acceptable. Which one you pick depends a bit on what you're trying to achieve. The mean has the advantage that it uses all the information in the data (which is useful when you don't have a lot of data), but it's very sensitive to extreme values, as we'll see when we look at [trimmed means](trimmed_mean).  "
   ]
  },
  {
   "cell_type": "markdown",
   "metadata": {},
   "source": [
    "Let's expand on that last part a little. One consequence is that there's systematic differences between the mean and the median when the histogram is asymmetric (or \"skewed\":  see the section on [skew and kurtosis](skew-and-kurtosis)). \n",
    "\n",
    "This is illustrated in {numref}`fig-meanmedian`, above. Notice that the median (right hand side) is located closer to the \"body\" of the histogram, whereas the mean (left hand side) gets dragged towards the \"tail\" (where the extreme values are). \n",
    "\n",
    "For example:\n",
    "\n",
    "    Bob (income \\$50,000) \n",
    "    Kate (income \\$60,000)\n",
    "    Jane (income \\$65,000) \n",
    "  \n",
    "The three perople are sitting at a table: \n",
    "\n",
    "    the average income at the table is \\$58,333 \n",
    "    \n",
    "    the median income is \\$60,000. \n",
    "\n",
    "Then Bill sits down with them (income \\$100,000,000). \n",
    "\n",
    "The average income has now jumped to \\$25,043,750 but the median rises only to \\$62,500. \n",
    "\n",
    "If you're interested in looking at the overall income at the table, the mean might be the right answer; but if you're interested in what counts as a typical income at the table, the median would be a better choice here."
   ]
  },
  {
   "cell_type": "markdown",
   "metadata": {},
   "source": [
    "### A real life example\n",
    "\n",
    "To try to get a sense of why you need to pay attention to the differences between the mean and the median, let's consider a real life example. The following is from an article on the ABC news website 24 September, 2010 www.abc.net.au/news/stories/2010/09/24/3021480.htm:\n",
    "\n",
    ">Senior Commonwealth Bank executives have travelled the world in the past couple of weeks with a presentation showing how Australian house prices, and the key price to income ratios, compare favourably with similar countries. \"Housing affordability has actually been going sideways for the last five to six years,\" said Craig James, the chief economist of the bank's trading arm, CommSec.\n",
    "\n",
    "This probably comes as a huge surprise to anyone with a mortgage, or who wants a mortgage, or pays rent, or isn't completely oblivious to what's been going on in the Australian housing market over the last several years. Back to the article:\n",
    "\n",
    ">CBA has waged its war against what it believes are housing doomsayers with graphs, numbers and international comparisons. In its presentation, the bank rejects arguments that Australia's housing is relatively expensive compared to incomes. It says Australia's house price to household income ratio of 5.6 in the major cities, and 4.3 nationwide, is comparable to many other developed nations. It says San Francisco and New York have ratios of 7, Auckland's is 6.7, and Vancouver comes in at 9.3.\n",
    "\n",
    "The article goes on to make the observation that...\n",
    "\n",
    ">Many analysts say that has led the bank to use misleading figures and comparisons. If you go to page four of CBA's presentation and read the source information at the bottom of the graph and table, you would notice there is an additional source on the international comparison -- Demographia. However, if the Commonwealth Bank had also used Demographia's analysis of Australia's house price to income ratio, it would have come up with a figure closer to 9 rather than 5.6 or 4.3\n",
    "\n",
    "That's, um, a rather serious discrepancy. One group of people say 9, another says 4-5. Should we just split the difference, and say the truth lies somewhere in between? Absolutely not: this is a situation where there is a right answer and a wrong answer. Demographia are correct, and the Commonwealth Bank is incorrect. As the article points out\n",
    "\n",
    ">[An] obvious problem with the Commonwealth Bank's domestic price to income figures is they compare average incomes with median house prices (unlike the Demographia figures that compare median incomes to median prices). The median is the mid-point, effectively cutting out the highs and lows, and that means the average is generally higher when it comes to incomes and asset prices, because it includes the earnings of Australia's wealthiest people. To put it another way: the Commonwealth Bank's figures count Ralph Norris' multi-million dollar pay packet on the income side, but not his (no doubt) very expensive house in the property price figures, thus understating the house price to income ratio for middle-income Australians.\n",
    "\n",
    "The way that Demographia calculated the ratio is the right thing to do. The way that the Bank did it is incorrect. "
   ]
  },
  {
   "cell_type": "markdown",
   "metadata": {},
   "source": [
    "### Trimmed mean \n",
    "\n",
    "One of the fundamental rules of applied statistics is that the data are messy. Real life is never simple, and so the data sets that you obtain are never as straightforward as the statistical theory says. This can have awkward consequences. To illustrate, consider this rather strange looking data set: \n",
    "\n",
    "$$\n",
    "-100,2,3,4,5,6,7,8,9,10\n",
    "$$\n",
    "If you were to observe this in a real life data set, you'd probably suspect that something funny was going on with the $-100$ value. It's probably an **_outlier_**, a value that doesn't really belong with the others. You might consider removing it from the data set entirely, and in this particular case I'd probably agree with that course of action. In real life, however, you don't always get such cut-and-dried examples. For instance, you might get this instead: \n",
    "\n",
    "$$\n",
    "-15,2,3,4,5,6,7,8,9,12\n",
    "$$\n",
    "The $-15$ looks a bit suspicious, but not anywhere near as much as that $-100$ did. In this case, it's a little trickier. It *might* be a legitimate observation, it might not.\n",
    "\n",
    "When faced with a situation where some of the most extreme-valued observations might not be quite trustworthy, the mean is not necessarily a good measure of central tendency. It is highly sensitive to one or two extreme values, and is thus not considered to be a **_robust_** measure. One remedy that we've seen is to use the median. A more general solution is to use a \"trimmed mean\".  \n",
    "\n",
    "To calculate a trimmed mean, what you do is \"discard\" the most extreme examples on both ends (i.e., the largest and the smallest), and then take the mean of everything else. The goal is to preserve the best characteristics of the mean and the median: just like a median, you aren't highly influenced by extreme outliers, but like the mean, you \"use\" more than one of the observations. \n",
    "\n",
    "Generally, we describe a trimmed mean in terms of the percentage of observation on either side that are discarded. So, for instance, a 10% trimmed mean discards the largest 10% of the observations *and* the smallest 10% of the observations, and then takes the mean of the remaining 80% of the observations. Not surprisingly, the 0% trimmed mean is just the regular mean, and the 50% trimmed mean is the median. In that sense, trimmed means provide a whole family of central tendency measures that span the range from the mean to the median.\n",
    "\n",
    "\n",
    "For our toy example above, we have 10 observations, and so a 10% trimmed mean is calculated by ignoring the largest value (i.e., `12`) and the smallest value (i.e., `-15`) and taking the mean of the remaining values. First, let's enter the data\n"
   ]
  },
  {
   "cell_type": "code",
   "execution_count": 13,
   "metadata": {},
   "outputs": [],
   "source": [
    "\n",
    "dataset = [-15,2,3,4,5,6,7,8,9,12]\n",
    "\n"
   ]
  },
  {
   "cell_type": "markdown",
   "metadata": {},
   "source": [
    "Next, let's calculate means and medians:"
   ]
  },
  {
   "cell_type": "code",
   "execution_count": 14,
   "metadata": {},
   "outputs": [
    {
     "data": {
      "text/plain": [
       "4.1"
      ]
     },
     "execution_count": 14,
     "metadata": {},
     "output_type": "execute_result"
    }
   ],
   "source": [
    "import statistics\n",
    "statistics.mean(dataset)"
   ]
  },
  {
   "cell_type": "code",
   "execution_count": 15,
   "metadata": {},
   "outputs": [
    {
     "data": {
      "text/plain": [
       "5.5"
      ]
     },
     "execution_count": 15,
     "metadata": {},
     "output_type": "execute_result"
    }
   ],
   "source": [
    "statistics.median(dataset)\n"
   ]
  },
  {
   "cell_type": "markdown",
   "metadata": {},
   "source": [
    "That's a fairly substantial difference. It seems that the mean is being influenced a bit too much by the extreme values at either end of the data set, especially the $-15$ one. So let's just try trimming the mean a bit. If I take a 10% trimmed mean, we'll drop the extreme values on either side, and take the mean of the rest: \n",
    "\n",
    "Here we use the `stats` function from the `scipy` module. But `stats` is picky, it only wants to deal with data in a certain format called `numpy arrays`. So, to give it what it wants, we also need to import `numpy`, and then convert our data into an `array`. Also I only imported part of the `scipy` module (you can do that) and renamed the `numpy` module. "
   ]
  },
  {
   "cell_type": "code",
   "execution_count": 16,
   "metadata": {},
   "outputs": [
    {
     "data": {
      "text/plain": [
       "5.5"
      ]
     },
     "execution_count": 16,
     "metadata": {},
     "output_type": "execute_result"
    }
   ],
   "source": [
    "import numpy as np\n",
    "from scipy import stats\n",
    "dataset2 = np.array(dataset)\n",
    "\n",
    "stats.trim_mean(dataset2, 0.1)\n"
   ]
  },
  {
   "cell_type": "markdown",
   "metadata": {},
   "source": [
    "which in this case gives exactly the same answer as the median. Note that, to get a 10% trimmed mean you write `trim = .1`, not `trim = 10`. In any case, let's finish up by calculating the 5% trimmed mean for the `afl_margins` data, "
   ]
  },
  {
   "cell_type": "code",
   "execution_count": 17,
   "metadata": {},
   "outputs": [
    {
     "data": {
      "text/plain": [
       "33.75"
      ]
     },
     "execution_count": 17,
     "metadata": {},
     "output_type": "execute_result"
    }
   ],
   "source": [
    "dataset3 = np.array(margins)\n",
    "stats.trim_mean(dataset3, 0.05)"
   ]
  },
  {
   "cell_type": "markdown",
   "metadata": {},
   "source": [
    "### Mode\n",
    "\n",
    "The mode of a sample is very simple: it is the value that occurs most frequently. \n",
    "\n",
    "To illustrate the mode using the AFL data, let's examine a different aspect to the data set. \n",
    "        \n",
    "        Who has played in the most finals? \n",
    "\n",
    "The `afl_finalists` data contains the name of every team that played in any AFL final from 1987-2010, so let's have a look at it. \n",
    "\n",
    "To do this we will use the `head()` method. `head()` is a method that can be used when the data is contained in a `pandas` `dataframe` object.  \n",
    "\n",
    "The command below tells Python we just want the first 25 rows of the dataframe."
   ]
  },
  {
   "cell_type": "code",
   "execution_count": 18,
   "metadata": {},
   "outputs": [
    {
     "data": {
      "text/html": [
       "<div>\n",
       "<style scoped>\n",
       "    .dataframe tbody tr th:only-of-type {\n",
       "        vertical-align: middle;\n",
       "    }\n",
       "\n",
       "    .dataframe tbody tr th {\n",
       "        vertical-align: top;\n",
       "    }\n",
       "\n",
       "    .dataframe thead th {\n",
       "        text-align: right;\n",
       "    }\n",
       "</style>\n",
       "<table border=\"1\" class=\"dataframe\">\n",
       "  <thead>\n",
       "    <tr style=\"text-align: right;\">\n",
       "      <th></th>\n",
       "      <th>afl.finalists</th>\n",
       "    </tr>\n",
       "  </thead>\n",
       "  <tbody>\n",
       "    <tr>\n",
       "      <th>0</th>\n",
       "      <td>Hawthorn</td>\n",
       "    </tr>\n",
       "    <tr>\n",
       "      <th>1</th>\n",
       "      <td>Melbourne</td>\n",
       "    </tr>\n",
       "    <tr>\n",
       "      <th>2</th>\n",
       "      <td>Carlton</td>\n",
       "    </tr>\n",
       "    <tr>\n",
       "      <th>3</th>\n",
       "      <td>Melbourne</td>\n",
       "    </tr>\n",
       "    <tr>\n",
       "      <th>4</th>\n",
       "      <td>Hawthorn</td>\n",
       "    </tr>\n",
       "    <tr>\n",
       "      <th>5</th>\n",
       "      <td>Carlton</td>\n",
       "    </tr>\n",
       "    <tr>\n",
       "      <th>6</th>\n",
       "      <td>Melbourne</td>\n",
       "    </tr>\n",
       "    <tr>\n",
       "      <th>7</th>\n",
       "      <td>Carlton</td>\n",
       "    </tr>\n",
       "    <tr>\n",
       "      <th>8</th>\n",
       "      <td>Hawthorn</td>\n",
       "    </tr>\n",
       "    <tr>\n",
       "      <th>9</th>\n",
       "      <td>Melbourne</td>\n",
       "    </tr>\n",
       "    <tr>\n",
       "      <th>10</th>\n",
       "      <td>Melbourne</td>\n",
       "    </tr>\n",
       "    <tr>\n",
       "      <th>11</th>\n",
       "      <td>Hawthorn</td>\n",
       "    </tr>\n",
       "    <tr>\n",
       "      <th>12</th>\n",
       "      <td>Melbourne</td>\n",
       "    </tr>\n",
       "    <tr>\n",
       "      <th>13</th>\n",
       "      <td>Essendon</td>\n",
       "    </tr>\n",
       "    <tr>\n",
       "      <th>14</th>\n",
       "      <td>Hawthorn</td>\n",
       "    </tr>\n",
       "    <tr>\n",
       "      <th>15</th>\n",
       "      <td>Geelong</td>\n",
       "    </tr>\n",
       "    <tr>\n",
       "      <th>16</th>\n",
       "      <td>Geelong</td>\n",
       "    </tr>\n",
       "    <tr>\n",
       "      <th>17</th>\n",
       "      <td>Hawthorn</td>\n",
       "    </tr>\n",
       "    <tr>\n",
       "      <th>18</th>\n",
       "      <td>Collingwood</td>\n",
       "    </tr>\n",
       "    <tr>\n",
       "      <th>19</th>\n",
       "      <td>Melbourne</td>\n",
       "    </tr>\n",
       "    <tr>\n",
       "      <th>20</th>\n",
       "      <td>Collingwood</td>\n",
       "    </tr>\n",
       "    <tr>\n",
       "      <th>21</th>\n",
       "      <td>West Coast</td>\n",
       "    </tr>\n",
       "    <tr>\n",
       "      <th>22</th>\n",
       "      <td>Collingwood</td>\n",
       "    </tr>\n",
       "    <tr>\n",
       "      <th>23</th>\n",
       "      <td>Essendon</td>\n",
       "    </tr>\n",
       "    <tr>\n",
       "      <th>24</th>\n",
       "      <td>Collingwood</td>\n",
       "    </tr>\n",
       "  </tbody>\n",
       "</table>\n",
       "</div>"
      ],
      "text/plain": [
       "   afl.finalists\n",
       "0       Hawthorn\n",
       "1      Melbourne\n",
       "2        Carlton\n",
       "3      Melbourne\n",
       "4       Hawthorn\n",
       "5        Carlton\n",
       "6      Melbourne\n",
       "7        Carlton\n",
       "8       Hawthorn\n",
       "9      Melbourne\n",
       "10     Melbourne\n",
       "11      Hawthorn\n",
       "12     Melbourne\n",
       "13      Essendon\n",
       "14      Hawthorn\n",
       "15       Geelong\n",
       "16       Geelong\n",
       "17      Hawthorn\n",
       "18   Collingwood\n",
       "19     Melbourne\n",
       "20   Collingwood\n",
       "21    West Coast\n",
       "22   Collingwood\n",
       "23      Essendon\n",
       "24   Collingwood"
      ]
     },
     "execution_count": 18,
     "metadata": {},
     "output_type": "execute_result"
    }
   ],
   "source": [
    "\n",
    "afl_finalists.head(n=25)\n"
   ]
  },
  {
   "cell_type": "markdown",
   "metadata": {},
   "source": [
    "There are actually 400 entries. We *could* read through all 400, and count the number of occasions on which each team name appears in our list of finalists, thereby producing a **_frequency table_**. So let's use the `value_counts()` method to do this task for us:"
   ]
  },
  {
   "cell_type": "code",
   "execution_count": 19,
   "metadata": {},
   "outputs": [
    {
     "data": {
      "text/plain": [
       "Geelong             39\n",
       "West Coast          38\n",
       "Essendon            32\n",
       "Melbourne           28\n",
       "Collingwood         28\n",
       "North Melbourne     28\n",
       "Hawthorn            27\n",
       "Carlton             26\n",
       "Adelaide            26\n",
       "Sydney              26\n",
       "Brisbane            25\n",
       "St Kilda            24\n",
       "Western Bulldogs    24\n",
       "Port Adelaide       17\n",
       "Richmond             6\n",
       "Fremantle            6\n",
       "Name: afl.finalists, dtype: int64"
      ]
     },
     "execution_count": 19,
     "metadata": {},
     "output_type": "execute_result"
    }
   ],
   "source": [
    "finalists = afl_finalists['afl.finalists']\n",
    "finalists.value_counts()\n"
   ]
  },
  {
   "cell_type": "markdown",
   "metadata": {},
   "source": [
    "Now that we have our frequency table, we can just look at it and see that, over the 24 years for which we have data, Geelong has played in more finals than any other team. Thus, the mode of the `finalists` data is `\"Geelong\"`. If we want to extract the mode without inspecting the table, we can use the `statistics.mode` function to tell us which team has most often played in the finals."
   ]
  },
  {
   "cell_type": "code",
   "execution_count": 20,
   "metadata": {},
   "outputs": [
    {
     "data": {
      "text/plain": [
       "'Geelong'"
      ]
     },
     "execution_count": 20,
     "metadata": {},
     "output_type": "execute_result"
    }
   ],
   "source": [
    "\n",
    "statistics.mode(finalists)\n"
   ]
  },
  {
   "cell_type": "markdown",
   "metadata": {},
   "source": [
    "If we want to find the number of finals they have played in, we can e.g. first extract the frequencies with `value_counts` and then find the largest value with `max`."
   ]
  },
  {
   "cell_type": "code",
   "execution_count": 21,
   "metadata": {},
   "outputs": [
    {
     "data": {
      "text/plain": [
       "39"
      ]
     },
     "execution_count": 21,
     "metadata": {},
     "output_type": "execute_result"
    }
   ],
   "source": [
    "freq = finalists.value_counts()\n",
    "freq.max()"
   ]
  },
  {
   "cell_type": "markdown",
   "metadata": {},
   "source": [
    "Taken together, we observe that Geelong (39 finals) played in more finals than any other team during the 1987-2010 period. \n",
    "\n",
    "While it's generally true that the mode is most often calculated when you have nominal scale data (because means and medians are useless for those sorts of variables), there are some situations in which you really do want to know the mode of an ordinal, interval or ratio scale variable. \n",
    "\n",
    "For instance, let's go back to thinking about our `afl_margins` variable. This variable is clearly ratio scale, and so in most situations the mean or the median is the measure of central tendency that you want. \n",
    "\n",
    "But consider this scenario... a friend of yours is offering a bet. They pick a football game at random, and (without knowing who is playing) you have to guess the *exact* margin. \n",
    "\n",
    "    If you guess correctly, you win \\$50. \n",
    "    If you don't, you lose \\$1. \n",
    "    \n",
    "There are no consolation prizes for \"almost\" getting the right answer. You have to guess exactly the right margin. This is called a \"0-1 loss function\", meaning that you either win (1) or you lose (0), with no middle ground. \n",
    "\n",
    "For this bet, the mean and the median are completely useless to you. It is the mode that you should bet on. So, we calculate this modal value\n"
   ]
  },
  {
   "cell_type": "code",
   "execution_count": 22,
   "metadata": {},
   "outputs": [
    {
     "data": {
      "text/plain": [
       "3"
      ]
     },
     "execution_count": 22,
     "metadata": {},
     "output_type": "execute_result"
    }
   ],
   "source": [
    "statistics.mode(margins)"
   ]
  },
  {
   "cell_type": "code",
   "execution_count": 23,
   "metadata": {},
   "outputs": [
    {
     "data": {
      "text/plain": [
       "8"
      ]
     },
     "execution_count": 23,
     "metadata": {},
     "output_type": "execute_result"
    }
   ],
   "source": [
    "freq = margins.value_counts()\n",
    "freq.max()"
   ]
  },
  {
   "cell_type": "markdown",
   "metadata": {},
   "source": [
    "So the 2010 data suggest you should bet on a 3 point margin, and since this was observed in 8 of the 176 game (4.5% of games) the odds are firmly in your favour. "
   ]
  },
  {
   "cell_type": "markdown",
   "metadata": {},
   "source": [
    "## Measures of variability\n",
    "\n",
    "The statistics that we've discussed so far all relate to *central tendency*. That is, they all talk about which values are \"in the middle\" or \"popular\" in the data. \n",
    "\n",
    "However, central tendency is not the only type of summary statistic that we want to calculate. \n",
    "\n",
    "The second thing that we really want is a measure of the **_variability_** of the data. \n",
    "    \n",
    "    How \"spread out\" are the data? \n",
    "    How \"far\" away from the mean or median do the observed values tend to be? \n",
    "    \n",
    "For now, let's assume that the data are interval or ratio scale, so we'll continue to use the `afl_margins` data.  We'll use this data to discuss several different measures of spread, each with different strengths and weaknesses. "
   ]
  },
  {
   "cell_type": "markdown",
   "metadata": {},
   "source": [
    "### Range\n",
    "\n",
    "The **_range_** of a variable is very simple: it's the biggest value minus the smallest value. For the AFL winning margins data, the maximum value is 116, and the minimum value is 0. We can calculate these values in Python using the `max()` and `min()` functions:\n",
    "\n",
    "\n",
    "`margins.max()`  \n",
    "`margins.min()`\n",
    "\n",
    "Although the range is the simplest way to quantify the notion of \"variability\", it's one of the worst. Recall from our discussion of the mean that we want our summary measure to be robust. If the data set has one or two extremely bad values in it, we'd like our statistics not to be unduly influenced by these cases. If we look once again at our toy example of a data set containing very extreme outliers... \n",
    "\n",
    "$$\n",
    "-100,2,3,4,5,6,7,8,9,10\n",
    "$$\n",
    "... it is clear that the range is not robust, since this has a range of 110, but if the outlier were removed we would have a range of only 8."
   ]
  },
  {
   "cell_type": "markdown",
   "metadata": {},
   "source": [
    "### Interquartile range\n",
    "\n",
    "The **_interquartile range_** (IQR) is like the range, but instead of calculating the difference between the biggest and smallest value, it calculates the difference between the 25th quantile and the 75th quantile. \n",
    "\n",
    "Probably you already know what a **_quantile_** is (they're more commonly called percentiles), but if not: the 10th percentile of a data set is the smallest number $x$ such that 10% of the data is less than $x$. In fact, we've already come across the idea: the median of a data set is its 50th quantile / percentile! \n",
    "\n",
    "The `numpy` module actually provides you with a way of calculating quantiles, using the `quantile()` function. Let's use it to calculate the median AFL winning margin:"
   ]
  },
  {
   "cell_type": "code",
   "execution_count": 24,
   "metadata": {},
   "outputs": [
    {
     "data": {
      "text/plain": [
       "30.5"
      ]
     },
     "execution_count": 24,
     "metadata": {},
     "output_type": "execute_result"
    }
   ],
   "source": [
    "\n",
    "import numpy as np\n",
    "np.quantile(margins, 0.5)"
   ]
  },
  {
   "cell_type": "markdown",
   "metadata": {},
   "source": [
    "And not surprisingly, this agrees with the answer that we saw earlier with the `median()` function. Now, we can actually input lots of quantiles at once, by specifying which quantiles we want. So lets do that, and get the 25th and 75th percentile:"
   ]
  },
  {
   "cell_type": "code",
   "execution_count": 25,
   "metadata": {},
   "outputs": [
    {
     "data": {
      "text/plain": [
       "array([12.75, 50.5 ])"
      ]
     },
     "execution_count": 25,
     "metadata": {},
     "output_type": "execute_result"
    }
   ],
   "source": [
    "\n",
    "np.quantile(margins, [0.25, .75])\n"
   ]
  },
  {
   "cell_type": "markdown",
   "metadata": {},
   "source": [
    "And, by noting that $50.5 - 12.75 = 37.75$, we can see that the interquartile range for the 2010 AFL winning margins data is 37.75. Of course, that seems like too much work to do all that typing, and luckily we don't have to, since the kind folks at `scipy` have already done the work for us and provided us with the  `iqr.stats` function, which will give us what we want."
   ]
  },
  {
   "cell_type": "code",
   "execution_count": 26,
   "metadata": {},
   "outputs": [
    {
     "data": {
      "text/plain": [
       "37.75"
      ]
     },
     "execution_count": 26,
     "metadata": {},
     "output_type": "execute_result"
    }
   ],
   "source": [
    "\n",
    "from scipy import stats\n",
    "stats.iqr(margins)\n"
   ]
  },
  {
   "cell_type": "markdown",
   "metadata": {},
   "source": [
    "While it's obvious how to interpret the range, it's a little less obvious how to interpret the IQR. The simplest way to think about it is like this: the interquartile range is the range spanned by the \"middle half\" of the data. That is, one quarter of the data falls below the 25th percentile, one quarter of the data is above the 75th percentile, leaving the \"middle half\" of the data lying in between the two. And the IQR is the range covered by that middle half."
   ]
  },
  {
   "cell_type": "markdown",
   "metadata": {},
   "source": [
    "### Mean absolute deviation\n",
    "\n",
    "The two measures we've looked at so far, the range and the interquartile range, both rely on the idea that we can measure the spread of the data by looking at the quantiles of the data. \n",
    "\n",
    "A different approach is to select a meaningful reference point (usually the mean or the median) and then report the \"typical\" deviations from that reference point. \n",
    "\n",
    "What do we mean by \"typical\" deviation? Usually, the mean or median value of these deviations! \n",
    "\n",
    "In practice, this leads to two different measures, the \"mean absolute deviation (from the mean)\" and the \"median absolute deviation (from the median)\". \n",
    "\n",
    "Since the previous paragraph might sound a little abstract, let's go through the **_mean absolute deviation_** from the mean a little more slowly. One useful thing about this measure is that the name actually tells you exactly how to calculate it. \n",
    "\n",
    "Let's think about our AFL winning margins data, and once again we'll start by pretending that there's only 5 games in total, with winning margins of 56, 31, 56, 8 and 32. \n",
    "\n",
    "Since our calculations rely on an examination of the deviation from some reference point (in this case the mean), the first thing we need to calculate is the mean, $\\bar{X}$. For these five observations, our mean is $\\bar{X} = 36.6$. The next step is to convert each of our observations $X_i$ into a deviation score. We do this by calculating the difference between the observation $X_i$ and the mean $\\bar{X}$. That is, the deviation score is defined to be $X_i - \\bar{X}$. For the first observation in our sample, this is equal to $56 - 36.6 = 19.4$. Okay, that's simple enough. The next step in the process is to convert these deviations to absolute deviations. We do this by converting any negative values to positive ones. Mathematically, we would denote the absolute value of $-3$ as $|-3|$, and so we say that $|-3| = 3$. We use the absolute value function here because we don't really care whether the value is higher than the mean or lower than the mean, we're just interested in how *close* it is to the mean. To help make this process as obvious as possible, the table below shows these calculations for all five observations:"
   ]
  },
  {
   "cell_type": "markdown",
   "metadata": {},
   "source": [
    "| $i$ (which game)   | $X_i$ (value)    | $X_i - \\bar{X}$ (deviation from mean)      |  $\\|X_i - \\bar{X}\\|$ (absolute deviation) |\n",
    "|--------------|----------|--------------------------|--------------------|\n",
    "| 1            | 56       | 19.4                     | 19.4               |\n",
    "| 2            | 31       | -5.6                     | 5.6                |\n",
    "| 3            | 56       | 19.4                     | 19.4               |\n",
    "| 4            | 8        | -28.6                    | 28.6               |\n",
    "| 5            | 32       | -4.6                     |  4.6               |"
   ]
  },
  {
   "cell_type": "markdown",
   "metadata": {},
   "source": [
    "Now that we have calculated the absolute deviation score for every observation in the data set, all that we have to do to calculate the mean of these scores. Let's do that:\n",
    "\n",
    "$$\n",
    "\n",
    "\\frac{19.4 + 5.6 + 19.4 + 28.6 + 4.6}{5} = 15.52\n",
    "\n",
    "$$\n",
    "\n",
    "And we're done. The mean absolute deviation for these five scores is 15.52. \n",
    "\n",
    "However, while our calculations for this little example are at an end, we do have a couple of things left to talk about. Firstly, we should really try to write down a proper mathematical formula. But in order do to this I need some mathematical notation to refer to the mean absolute deviation. Irritatingly, \"mean absolute deviation\" and \"median absolute deviation\" have the same acronym (MAD), which leads to a certain amount of ambiguity. To make matters worse, packages that include functions to calculate these things for you _**both use the abbreviation MAD even though they mean different things!**_ Sigh. What I'll do is use AAD instead, short for *average* absolute deviation. Now that we have some unambiguous notation, here's the formula that describes what we just calculated:\n",
    "\n",
    "$$\n",
    "\n",
    "ADD\\mbox{}(X) = \\frac{1}{N} \\sum_{i = 1}^N |X_i - \\bar{X}|\n",
    "\n",
    "$$\n",
    "\n",
    "The last thing we need to talk about is how to calculate AAD in Python. One possibility would be to do everything using low level commands, laboriously following the same steps that I used when describing the calculations above. However, that's pretty tedious. You'd end up with a series of commands that might look like this:"
   ]
  },
  {
   "cell_type": "code",
   "execution_count": 27,
   "metadata": {},
   "outputs": [
    {
     "data": {
      "text/plain": [
       "15.52"
      ]
     },
     "execution_count": 27,
     "metadata": {},
     "output_type": "execute_result"
    }
   ],
   "source": [
    "from statistics import mean\n",
    "\n",
    "X = [56, 31, 56, 8, 32]             # 1. enter the data\n",
    "X_bar = mean(X)                     # 2. find the mean of the data\n",
    "AD = []                             # 3. find the  absolute value of the difference between\n",
    "for i in X:                         #    each value and the mean and add it to the list AD    \n",
    "    AD.append(abs((i-X_bar)))       \n",
    "ADD = mean(AD)                      # 4. find the mean of the absolute values\n",
    "ADD\n"
   ]
  },
  {
   "cell_type": "markdown",
   "metadata": {},
   "source": [
    "We'll talk more about [median absolute deviation](mad) below. "
   ]
  },
  {
   "cell_type": "code",
   "execution_count": 29,
   "metadata": {},
   "outputs": [
    {
     "name": "stdout",
     "output_type": "stream",
     "text": [
      "Pandas MAD is the mean absolute deviation: 15.52\n",
      "Statsmodels MAD is the median absolute deviation: 24.0\n"
     ]
    },
    {
     "name": "stderr",
     "output_type": "stream",
     "text": [
      "C:\\Users\\DONGY\\AppData\\Local\\Temp\\ipykernel_36408\\2919084739.py:6: FutureWarning: The 'mad' method is deprecated and will be removed in a future version. To compute the same result, you may do `(df - df.mean()).abs().mean()`.\n",
      "  pandas_mad = data.mad()\n"
     ]
    }
   ],
   "source": [
    "import pandas as pd\n",
    "import numpy as np\n",
    "from statsmodels import robust\n",
    "\n",
    "data = pd.Series( [56, 31, 56, 8, 32])\n",
    "pandas_mad = data.mad()\n",
    "\n",
    "data = np.array([56, 31, 56, 8, 32])\n",
    "statsmodels_mad = robust.mad(data, c = 1)\n",
    "\n",
    "print(\"Pandas MAD is the mean absolute deviation:\", pandas_mad)\n",
    "print(\"Statsmodels MAD is the median absolute deviation:\", statsmodels_mad)"
   ]
  },
  {
   "cell_type": "markdown",
   "metadata": {},
   "source": [
    "### Variance \n",
    "\n",
    "\n",
    "Although mean absolute deviation measure has its uses, it's not the best measure of variability to use. From a purely mathematical perspective, there are some solid reasons to prefer squared deviations rather than absolute deviations. \n",
    "\n",
    "If we do that, we obtain a measure is called the **_variance_**. The variance of a data set $X$ is sometimes written as $\\mbox{Var}(X)$ but it's more commonly denoted $s^2$ (the reason for this will become clearer shortly). The formula that we use to calculate the variance of a set of observations is as follows:\n",
    "\n",
    "$$\n",
    "\\mbox{Var}(X) = \\frac{1}{N} \\sum_{i=1}^N \\left( X_i - \\bar{X} \\right)^2\n",
    "$$\n",
    "\n",
    "\n",
    "As you can see, it's basically the same formula that we used to calculate the mean absolute deviation, except that instead of using \"absolute deviations\" we use \"squared deviations\". It is for this reason that the variance is sometimes referred to as the \"mean square deviation\".\n",
    "\n",
    "Now that we've got the basic idea, let's have a look at a concrete example. Once again, let's use the first five AFL games as our data. If we follow the same approach that we took last time, we end up with the following table:\n",
    "\n",
    "| which game | value | deviation from mean | squared deviation |\n",
    "| :--------: | :---: | :-----------------: | :---------------: |\n",
    "|     1      |  56   |        19.4         |      376.36       |\n",
    "|     2      |  31   |        -5.6         |       31.36       |\n",
    "|     3      |  56   |        19.4         |      376.36       |\n",
    "|     4      |   8   |        -28.6        |      817.96       |\n",
    "|     5      |  32   |        -4.6         |       21.16       |\n",
    "\n",
    "The same table again, translated into Math-ese, looks like this:\n",
    "\n",
    "| *i*      | $X_i$ | $X_i - \\bar{X}$     | $(X_i - \\bar{X}$)$^2$                      |\n",
    "| :--------: | :---: | :-----------------: | :-----------------------------------------: \n",
    "|     1      |  56   |        19.4 &#12644;&#12644;      |      376.36 &#12644;&#12644;|\n",
    "|     2      |  31   |        -5.6 &#12644;&#12644;        |    31.36  &#12644;&#12644;|\n",
    "|     3      |  56   |        19.4 &#12644;&#12644;        |    376.36 &#12644;&#12644;|\n",
    "|     4      |   8   |        -28.6 &#12644;&#12644;       |    817.96 &#12644;&#12644;|\n",
    "|     5      |  32   |        -4.6 &#12644;&#12644;        |    21.16  &#12644;&#12644;|\n",
    "\n",
    "That last column contains all of our squared deviations, so all we have to do is average them. If we do that by typing all the numbers into Python by hand...\n",
    "\n",
    "I will very briefly mention the one that I think is coolest, for a very particular definition of \"cool\", that is. Variances are *additive*. Here's what that means: suppose I have two variables $X$ and $Y$, whose variances are $\\mbox{Var}(X)$ and $\\mbox{Var}(Y)$ respectively. Now imagine I want to define a new variable $Z$ that is the sum of the two, $Z = X+Y$. As it turns out, the variance of $Z$ is equal to $\\mbox{Var}(X) + \\mbox{Var}(Y)$. This is a *very* useful property, but it's not true of the other measures that I talk about in this section."
   ]
  },
  {
   "cell_type": "code",
   "execution_count": 30,
   "metadata": {},
   "outputs": [
    {
     "data": {
      "text/plain": [
       "324.64"
      ]
     },
     "execution_count": 30,
     "metadata": {},
     "output_type": "execute_result"
    }
   ],
   "source": [
    "\n",
    "( 376.36 + 31.36 + 376.36 + 817.96 + 21.16 ) / 5\n"
   ]
  },
  {
   "cell_type": "markdown",
   "metadata": {},
   "source": [
    "... we end up with a variance of 324.64. The `statistics` module provides a function called `variance`. \n",
    "\n",
    "And as it happens, we have the values lying around in the variable `data`, which we created in the previous section. With this in mind, we can just calculate the variance of `data` by using the following command"
   ]
  },
  {
   "cell_type": "code",
   "execution_count": 31,
   "metadata": {},
   "outputs": [
    {
     "data": {
      "text/plain": [
       "405"
      ]
     },
     "execution_count": 31,
     "metadata": {},
     "output_type": "execute_result"
    }
   ],
   "source": [
    "import statistics\n",
    "\n",
    "statistics.variance(data)"
   ]
  },
  {
   "cell_type": "markdown",
   "metadata": {},
   "source": [
    "and you get the same... no, wait... you get a completely different answer. That’s just weird. \n",
    "\n",
    "Let's stop using the tiny data set containing only 5 data points, and switch to the full set of 176 games that we've got stored in our  `afl_margins` vector. First, let's calculate the variance by using the formula that I described above:\n"
   ]
  },
  {
   "cell_type": "code",
   "execution_count": 32,
   "metadata": {},
   "outputs": [
    {
     "data": {
      "text/plain": [
       "675.9718168904958"
      ]
     },
     "execution_count": 32,
     "metadata": {},
     "output_type": "execute_result"
    }
   ],
   "source": [
    "import statistics\n",
    "m = statistics.mean(afl_margins['afl.margins'])\n",
    "v = []\n",
    "for n in afl_margins['afl.margins']:\n",
    "    squared_error = (n-m)**2\n",
    "    v.append(squared_error)\n",
    "var = statistics.mean(v)\n",
    "var"
   ]
  },
  {
   "cell_type": "markdown",
   "metadata": {},
   "source": [
    "Now let's use the `statistics.variance()` function:"
   ]
  },
  {
   "cell_type": "code",
   "execution_count": 33,
   "metadata": {},
   "outputs": [
    {
     "data": {
      "text/plain": [
       "679.834512987013"
      ]
     },
     "execution_count": 33,
     "metadata": {},
     "output_type": "execute_result"
    }
   ],
   "source": [
    "import statistics\n",
    "\n",
    "var = statistics.variance(afl_margins['afl.margins'])\n",
    "\n",
    "var"
   ]
  },
  {
   "cell_type": "markdown",
   "metadata": {},
   "source": [
    "Hm. These two numbers are very similar this time. That seems like too much of a coincidence to be a mistake. And of course it isn't a mistake. In fact, it's very simple to explain what Python is doing here, but slightly trickier to explain *why* Python is doing it. So let's start with the \"what\". What Python is doing is evaluating a slightly different formula to the one I showed you above. Instead of averaging the squared deviations, which requires you to divide by the number of data points $N$, Python has chosen to divide by $N-1$. In other words, the formula that Python is using is this one "
   ]
  },
  {
   "cell_type": "markdown",
   "metadata": {},
   "source": [
    "$$\\frac{1}{N-1} \\sum_{i=1}^N \\left( X_i - \\bar{X} \\right)^2$$"
   ]
  },
  {
   "cell_type": "markdown",
   "metadata": {},
   "source": [
    "So that's the *what*. The real question is *why* Python is dividing by $N-1$ and not by $N$. After all, the variance is supposed to be the *mean* squared deviation, right? So shouldn't we be dividing by $N$, the actual number of observations in the sample? \n",
    "\n",
    "There's a subtle distinction between \"describing a sample\" and \"making guesses about the population from which the sample came\". Up to this point, it's been a distinction without a difference. Regardless of whether you're describing a sample or drawing inferences about the population, the mean is calculated exactly the same way. \n",
    "\n",
    "By the way, if you _do_ want to calculate variance and divide by $N$ and not $N-1$, Python does a have a way to do this as well; you just need to ask for `pvariance()` instead of `variance()`:"
   ]
  },
  {
   "cell_type": "code",
   "execution_count": 34,
   "metadata": {},
   "outputs": [
    {
     "name": "stdout",
     "output_type": "stream",
     "text": [
      "statistics.pvariance divides by N:  675.9718168904958\n",
      "statistics.variance divide by N-1:  679.834512987013\n"
     ]
    }
   ],
   "source": [
    "population_variance = statistics.pvariance(afl_margins['afl.margins'])\n",
    "sample_variance = statistics.variance(afl_margins['afl.margins'])\n",
    "\n",
    "print(\"statistics.pvariance divides by N: \", population_variance)\n",
    "print(\"statistics.variance divide by N-1: \", sample_variance)"
   ]
  },
  {
   "cell_type": "markdown",
   "metadata": {},
   "source": [
    "### Standard deviation\n",
    "\n",
    "We would like to have a measure that is expressed in the same units as the data itself (i.e., points, not points-squared). The solution to the problem is obvious: take the square root of the variance, known as the **_standard deviation_**, also called the \"root mean squared deviation\", or RMSD. \n",
    "\n",
    "This solves our problem fairly neatly: while nobody has a clue what \"a variance of 324.68 points-squared\" really means, it's much easier to understand \"a standard deviation of 18.01 points\", since it's expressed in the original units. \n",
    "\n",
    "It is traditional to refer to the standard deviation of a sample of data as $s$, though \t\"sd\" and \"std dev.\" are also used at times. \n",
    "\n",
    "$$\n",
    "s = \\sqrt{ \\frac{1}{N} \\sum_{i=1}^N \\left( X_i - \\bar{X} \\right)^2 }\n",
    "$$\n",
    "\n",
    "and the function that we use to calculate it is `stdev()`. However, what Python actually calculates is slightly different to the formula given above. Just like the we saw with the variance, what Python calculates is a version that divides by $N-1$ rather than $N$. \n",
    "\n",
    "$$\n",
    "\\hat\\sigma = \\sqrt{ \\frac{1}{N-1} \\sum_{i=1}^N \\left( X_i - \\bar{X} \\right)^2 }\n",
    "$$\n",
    "\n",
    "With that in mind, calculating standard deviations in Python is simple:"
   ]
  },
  {
   "cell_type": "code",
   "execution_count": 35,
   "metadata": {},
   "outputs": [
    {
     "data": {
      "text/plain": [
       "26.073636359108274"
      ]
     },
     "execution_count": 35,
     "metadata": {},
     "output_type": "execute_result"
    }
   ],
   "source": [
    "statistics.stdev(margins)"
   ]
  },
  {
   "cell_type": "markdown",
   "metadata": {},
   "source": [
    "Interpreting standard deviations is slightly more complex. Most of us just rely on a simple rule of thumb: in general, you should expect 68% of the data to fall within 1 standard deviation of the mean, 95% of the data to fall within 2 standard deviation of the mean, and 99.7% of the data to fall within 3 standard deviations of the mean. "
   ]
  },
  {
   "cell_type": "markdown",
   "metadata": {},
   "source": [
    "\n",
    "![aflsd](../images/aflsd.gif)\n",
    "\n",
    "\n",
    "An illustration of the standard deviation, applied to the AFL winning margins data. The shaded bars in the histogram show how much of the data fall within one standard deviation of the mean. In this case, 65.3% of the data set lies within this range, which is pretty consistent with the \\\"approximately 68% rule\\\" discussed in the main text.\n"
   ]
  },
  {
   "cell_type": "markdown",
   "metadata": {},
   "source": [
    "### Median absolute deviation\n",
    "\n",
    "The last measure of variability is the **_median absolute deviation_** (MAD). The basic idea behind MAD is very simple: it's just the median of the absolute deviations from the median of the data. Find the distance of each data point from the median of all the data points (ignoring the signs), and then take the median of that.\n",
    "\n",
    "This has a straightforward interpretation: every observation in the data set lies some distance away from the typical value (the median). So the MAD is an attempt to describe a *typical deviation from a typical value* in the data set. It wouldn't be unreasonable to interpret the MAD value of 19.5 for our AFL data by saying something like this:\n",
    "\n",
    ">The median winning margin in 2010 was 30.5, indicating that a typical game involved a winning margin of about 30 points. However, there was a fair amount of variation from game to game: the MAD value was 19.5, indicating that a typical winning margin would differ from this median value by about 19-20 points.\n",
    "\n",
    "Python has a method for calculating MAD. It is in the `robust` object from the `statsmodels` package, and it's called `mad()`. However. The command that you need to use specifies two arguments: the data set itself `x`, and a `constant`. "
   ]
  },
  {
   "cell_type": "code",
   "execution_count": 36,
   "metadata": {},
   "outputs": [
    {
     "data": {
      "text/plain": [
       "19.5"
      ]
     },
     "execution_count": 36,
     "metadata": {},
     "output_type": "execute_result"
    }
   ],
   "source": [
    "import numpy as np\n",
    "from statsmodels import robust\n",
    "\n",
    "robust.mad(margins, c=1)"
   ]
  },
  {
   "cell_type": "markdown",
   "metadata": {},
   "source": [
    "What exactly is this `c = 1` argument? \n",
    "\n",
    "Although the \"raw\" MAD value is completely interpretable on its own terms, that's not actually how it's used in a lot of real world contexts. Instead, what happens a lot is that the researcher *actually* wants to calculate the standard deviation. However, in the same way that the mean is very sensitive to extreme values, the standard deviation is vulnerable to the exact same issue. \n",
    "\n",
    "So, in much the same way that people sometimes use the median as a \"robust\" way of calculating \"something that is like the mean\", it's not uncommon to use MAD as a method for calculating \"something that is like the standard deviation\". \n",
    "\n",
    "Unfortunately, the *raw* MAD value doesn't do this. Our raw MAD value is 19.5, and our standard deviation was 26.07. However, what some clever person has shown is that, under certain assumptions (the assumption again being that the data are normally-distributed!), you can multiply the raw MAD value by 1.4826 and obtain a number that is directly comparable to the standard deviation. \n",
    "\n",
    "As a consequence, the default value of `constant` is 1.4826, and so when you use the `mad()` command without manually setting a value, here's what you get:"
   ]
  },
  {
   "cell_type": "code",
   "execution_count": 37,
   "metadata": {},
   "outputs": [
    {
     "data": {
      "text/plain": [
       "28.91074326085924"
      ]
     },
     "execution_count": 37,
     "metadata": {},
     "output_type": "execute_result"
    }
   ],
   "source": [
    "robust.mad(margins)"
   ]
  },
  {
   "cell_type": "markdown",
   "metadata": {},
   "source": [
    "If you want to use this \"corrected\" MAD value as a robust version of the standard deviation, you really are relying on the assumption that the data are (or at least, are \"supposed to be\" in some sense) symmetric and basically shaped like a bell curve. That's really *not* true for our `afl_margins` data, so in this case I wouldn't try to use the MAD value this way.\n",
    "\n",
    "\n",
    "### Which measure to use?\n",
    "\n",
    "\n",
    "- [*Range*](range). Gives you the full spread of the data. It's very vulnerable to outliers, and as a consequence it isn't often used unless you have good reasons to care about the extremes in the data.\n",
    "- [*Interquartile range*](iqr). Tells you where the \"middle half\" of the data sits. It's pretty robust, and complements the median nicely. This is used a lot.\n",
    "- [*Mean absolute deviation*](aad). Tells you how far “on average” the observations are from the mean. It’s very interpretable, but has a few minor issues (not discussed here) that make it less attractive to statisticians than the standard deviation. Used sometimes, but not often.\n",
    "- [*Variance*](var). Tells you the average squared deviation from the mean. It's mathematically elegant, and is probably the \"right\" way to describe variation around the mean, but it's completely uninterpretable because it doesn't use the same units as the data. Almost never used except as a mathematical tool; but it's buried \"under the hood\" of a very large number of statistical tools.\n",
    "- [*Standard deviation*](sd). This is the square root of the variance. It's fairly elegant mathematically, and it's expressed in the same units as the data so it can be interpreted pretty well. In situations where the mean is the measure of central tendency, this is the default. This is by far the most popular measure of variation. \n",
    "- [*Median absolute deviation*](mad). The typical (i.e., median) deviation from the median value. In the raw form it's simple and interpretable; in the corrected form it's a robust way to estimate the standard deviation, for some kinds of data sets. Not used very often, but it does get reported sometimes.\n",
    "\n",
    "\n",
    "In short, the IQR and the standard deviation are easily the two most common measures used to report the variability of the data; but there are situations in which the others are used. "
   ]
  },
  {
   "cell_type": "markdown",
   "metadata": {},
   "source": [
    "## Skew and kurtosis\n"
   ]
  },
  {
   "cell_type": "code",
   "execution_count": 40,
   "metadata": {
    "tags": [
     "hide-input"
    ]
   },
   "outputs": [
    {
     "data": {
      "image/png": "[encoded data removed]",
      "text/plain": [
       "<Figure size 900x300 with 3 Axes>"
      ]
     },
     "metadata": {},
     "output_type": "display_data"
    }
   ],
   "source": [
    "import pandas as pd\n",
    "import seaborn as sns\n",
    "from os import chdir as cd\n",
    "\n",
    "# load some data\n",
    "\n",
    "df_skew = pd.read_csv('../data/skewdata.csv')\n",
    "\n",
    "# plot histograms of the data\n",
    "ax = sns.displot(\n",
    "        data = df_skew, x = \"Values\", col=\"Skew\",\n",
    "        binwidth=.02, height=3, facet_kws=dict(margin_titles=True),\n",
    ")\n"
   ]
  },
  {
   "cell_type": "markdown",
   "metadata": {},
   "source": [
    "```\n",
    "\n",
    "An illustration of skewness. On the left we have a negatively skewed data set (skewness “  ́.93), in the middle we have a data set with no skew (technically, skewness “  ́.006), and on the right we have a positively skewed data set (skewness “ .93).\n",
    "```"
   ]
  },
  {
   "cell_type": "markdown",
   "metadata": {},
   "source": [
    "**_Skewness_** is basically a measure of asymmetry, and the easiest way to explain it is by drawing some pictures. As {numref}`fig-skew` illustrates, if the data tend to have a lot of extreme small values (i.e., the lower tail is \"longer\" than the upper tail) and not so many extremely large values (left panel), then we say that the data are *negatively skewed*. On the other hand, if there are more extremely large values than extremely small ones (right panel) we say that the data are *positively skewed*. That's the qualitative idea behind skewness. The actual formula for the skewness of a data set is as follows\n",
    "\n",
    "$$\n",
    "\\mbox{skewness}(X) = \\frac{1}{N \\hat{\\sigma}^3} \\sum_{i=1}^N (X_i - \\bar{X})^3\n",
    "$$\n",
    "\n",
    "where $N$ is the number of observations, $\\bar{X}$ is the sample mean, and $\\hat{\\sigma}$ is the standard deviation (the \"divide by $N-1$\" version, that is). Luckily, `pandas`\n",
    "already knows how to calculate skew:"
   ]
  },
  {
   "cell_type": "code",
   "execution_count": 41,
   "metadata": {},
   "outputs": [
    {
     "data": {
      "text/plain": [
       "0.7804075289401982"
      ]
     },
     "execution_count": 41,
     "metadata": {},
     "output_type": "execute_result"
    }
   ],
   "source": [
    "margins.skew(axis = 0, skipna = True)"
   ]
  },
  {
   "cell_type": "markdown",
   "metadata": {},
   "source": [
    "Not surprisingly, it turns out that the AFL winning margins data is fairly skewed.\n",
    "\n",
    "\n",
    "The final measure that is sometimes referred to, though very rarely in practice, is the **_kurtosis_** of a data set. Put simply, kurtosis is a measure of the \"pointiness\" of a data set, as illustrated in {numref}`fig-kurtosis`."
   ]
  },
  {
   "cell_type": "code",
   "execution_count": 42,
   "metadata": {
    "tags": [
     "hide-input"
    ]
   },
   "outputs": [
    {
     "data": {
      "image/png": "[encoded data removed]",
      "text/plain": [
       "<Figure size 1500x500 with 3 Axes>"
      ]
     },
     "metadata": {},
     "output_type": "display_data"
    }
   ],
   "source": [
    "import numpy as np                                                              \n",
    "import seaborn as sns                                                           \n",
    "from scipy import stats                                                         \n",
    "import matplotlib.pyplot as plt\n",
    "\n",
    "# load some data\n",
    "pathin = '../data/'\n",
    "file1 = 'kurtosisdata.csv'\n",
    "file2 = 'kurtosisdata_ncurve.csv'\n",
    "\n",
    "cd(pathin)\n",
    "\n",
    "df_kurtosis = pd.read_csv(file1)\n",
    "\n",
    "# define a normal distribution with a mean of 0 and a standard deviation of 1\n",
    "mu = 0\n",
    "sigma = 1\n",
    "x = np.linspace(mu - 3*sigma, mu + 3*sigma, 100)\n",
    "y = stats.norm.pdf(x, mu, sigma)\n",
    "\n",
    "platykurtic = df_kurtosis.loc[df_kurtosis[\"Kurtosis\"] == \"Platykurtic\"]\n",
    "mesokurtic = df_kurtosis.loc[df_kurtosis[\"Kurtosis\"] == \"Mesokurtic\"]\n",
    "leptokurtic = df_kurtosis.loc[df_kurtosis[\"Kurtosis\"] == \"Leptokurtic\"]\n",
    "\n",
    "\n",
    "fig, axes = plt.subplots(1, 3, figsize=(15, 5))\n",
    "\n",
    "ax1 = sns.histplot(data=platykurtic, x = \"Values\", binwidth=.5, ax=axes[0])\n",
    "ax2 = sns.histplot(data=mesokurtic, x = \"Values\", binwidth=.5,  ax=axes[1])\n",
    "ax3 = sns.histplot(data=leptokurtic, x = \"Values\", binwidth=.5, ax=axes[2])\n",
    "\n",
    "\n",
    "\n",
    "#ax2 = ax.twinx()\n",
    "sns.lineplot(x=x,y=y*40000, ax=ax1, color='black')\n",
    "sns.lineplot(x=x,y=y*40000, ax=ax2, color='black')\n",
    "sns.lineplot(x=x,y=y*40000, ax=ax3, color='black')\n",
    "\n",
    "\n",
    "axes[0].set_title(\"Platykurtic\\n\\\"too flat\\\"\")\n",
    "axes[1].set_title(\"Mesokurtic\\n\\\"just right\\\"\")\n",
    "axes[2].set_title(\"Leptokurtic\\n\\\"too pointy\\\"\")\n",
    "\n",
    "for ax in axes:\n",
    "    ax.set_xlim(-6,6)\n",
    "    ax.set_ylim(0,25000)\n",
    "    ax.spines['right'].set_visible(False)\n",
    "    ax.spines['top'].set_visible(False)\n",
    "\n"
   ]
  },
  {
   "cell_type": "markdown",
   "metadata": {},
   "source": [
    "```\n",
    "\n",
    "An illustration of kurtosis. On the left, we have a “platykurtic” data set (kurtosis = -.95), meaning that the data set is “too flat”. In the middle we have a “mesokurtic” data set (kurtosis is almost exactly 0), which means that the pointiness of the data is just about right. Finally, on the right, we have a “leptokurtic” data set (kurtosis = 2.12) indicating that the data set is “too pointy”. Note that kurtosis is measured with respect to a normal curve (black line).\n",
    "```"
   ]
  },
  {
   "cell_type": "markdown",
   "metadata": {},
   "source": [
    "By convention, we say that the \"normal curve\" (black lines) has zero kurtosis, so the pointiness of a data set is assessed relative to this curve. In this Figure, the data on the left are not pointy enough, so the kurtosis is negative and we call the data *platykurtic*. The data on the right are too pointy, so the kurtosis is positive and we say that the data is *leptokurtic*. But the data in the middle are just pointy enough, so we say that it is *mesokurtic* and has kurtosis zero. This is summarised in the table below:\n",
    "\n",
    "|informal term      |technical name |kurtosis value |\n",
    "|:------------------|:--------------|:--------------|\n",
    "|too flat           |platykurtic    |negative       |\n",
    "|just pointy enough |mesokurtic     |zero           |\n",
    "|too pointy         |leptokurtic    |positive       |\n",
    "\n",
    "\n",
    "The equation for kurtosis is pretty similar in spirit to the formulas we've seen already for the variance and the skewness; except that where the variance involved squared deviations and the skewness involved cubed deviations, the kurtosis involves raising the deviations to the fourth power: \n",
    "\n",
    "$$\n",
    "\\mbox{kurtosis}(X) = \\frac{1}{N \\hat\\sigma^4} \\sum_{i=1}^N \\left( X_i - \\bar{X} \\right)^4  - 3\n",
    "$$\n",
    "\n",
    "The \"$-3$\" part is something that statisticians tack on to ensure that the normal curve has kurtosis zero. "
   ]
  },
  {
   "cell_type": "code",
   "execution_count": 43,
   "metadata": {},
   "outputs": [
    {
     "name": "stdout",
     "output_type": "stream",
     "text": [
      "Pandas:  0.10109718805638757\n",
      "Fischer:  0.06434955786516161\n",
      "Pearson:  3.0643495578651616\n"
     ]
    }
   ],
   "source": [
    "print(\"Pandas: \", margins.kurtosis())\n",
    "print(\"Fischer: \",stats.kurtosis(margins, fisher=True))\n",
    "print(\"Pearson: \",stats.kurtosis(margins, fisher=False))"
   ]
  },
  {
   "cell_type": "markdown",
   "metadata": {},
   "source": [
    "`pandas` actually also calculates Fischer kurtosis, but `stats.kurtosis(margins, fisher=True)` adds a \"bias correction\" by default, while the `pandas` version doesn't. `stats.kurtosis(margins, fisher=True, bias=False)`will get you the same thing as the `pandas` version. "
   ]
  },
  {
   "cell_type": "markdown",
   "metadata": {},
   "source": [
    "## Getting an overall summary of a variable\n",
    "\n",
    "\n",
    "### \"Describing\" a variable\n",
    "\n",
    "The `describe()` method is an easy thing to use, but a tricky thing to understand in full, since it's a generic function. The basic idea behind the `describe()` method is that it prints out some useful information about whatever object (i.e., variable, as far as we're concerned) you ask it to describe. As a consequence, the behaviour of the `describe()` function differs quite dramatically depending on the class of the object that you give it. Let's start by giving it a *numeric* object:"
   ]
  },
  {
   "cell_type": "code",
   "execution_count": 44,
   "metadata": {},
   "outputs": [
    {
     "data": {
      "text/html": [
       "<div>\n",
       "<style scoped>\n",
       "    .dataframe tbody tr th:only-of-type {\n",
       "        vertical-align: middle;\n",
       "    }\n",
       "\n",
       "    .dataframe tbody tr th {\n",
       "        vertical-align: top;\n",
       "    }\n",
       "\n",
       "    .dataframe thead th {\n",
       "        text-align: right;\n",
       "    }\n",
       "</style>\n",
       "<table border=\"1\" class=\"dataframe\">\n",
       "  <thead>\n",
       "    <tr style=\"text-align: right;\">\n",
       "      <th></th>\n",
       "      <th>afl.margins</th>\n",
       "    </tr>\n",
       "  </thead>\n",
       "  <tbody>\n",
       "    <tr>\n",
       "      <th>count</th>\n",
       "      <td>176.000000</td>\n",
       "    </tr>\n",
       "    <tr>\n",
       "      <th>mean</th>\n",
       "      <td>35.301136</td>\n",
       "    </tr>\n",
       "    <tr>\n",
       "      <th>std</th>\n",
       "      <td>26.073636</td>\n",
       "    </tr>\n",
       "    <tr>\n",
       "      <th>min</th>\n",
       "      <td>0.000000</td>\n",
       "    </tr>\n",
       "    <tr>\n",
       "      <th>25%</th>\n",
       "      <td>12.750000</td>\n",
       "    </tr>\n",
       "    <tr>\n",
       "      <th>50%</th>\n",
       "      <td>30.500000</td>\n",
       "    </tr>\n",
       "    <tr>\n",
       "      <th>75%</th>\n",
       "      <td>50.500000</td>\n",
       "    </tr>\n",
       "    <tr>\n",
       "      <th>max</th>\n",
       "      <td>116.000000</td>\n",
       "    </tr>\n",
       "  </tbody>\n",
       "</table>\n",
       "</div>"
      ],
      "text/plain": [
       "       afl.margins\n",
       "count   176.000000\n",
       "mean     35.301136\n",
       "std      26.073636\n",
       "min       0.000000\n",
       "25%      12.750000\n",
       "50%      30.500000\n",
       "75%      50.500000\n",
       "max     116.000000"
      ]
     },
     "execution_count": 44,
     "metadata": {},
     "output_type": "execute_result"
    }
   ],
   "source": [
    "afl_margins.describe()"
   ]
  },
  {
   "cell_type": "markdown",
   "metadata": {},
   "source": [
    "For numeric variables, we get a whole bunch of useful descriptive statistics. It gives us the minimum and maximum values (i.e., the range), the first and third quartiles (25th and 75th percentiles; i.e., the IQR), the mean and the median. In other words, it gives us a pretty good collection of descriptive statistics related to the central tendency and the spread of the data.\n",
    "\n",
    "Okay, what about if we feed it a logical vector instead? Let's say I want to know something about how many \"blowouts\" there were in the 2010 AFL season. I operationalise the concept of a blowout as a game in which the winning margin exceeds 50 points. Let's create a logical variable `blowouts` in which the $i$-th element is `TRUE` if that game was a blowout according to my definition:"
   ]
  },
  {
   "cell_type": "code",
   "execution_count": 45,
   "metadata": {},
   "outputs": [
    {
     "data": {
      "text/html": [
       "<div>\n",
       "<style scoped>\n",
       "    .dataframe tbody tr th:only-of-type {\n",
       "        vertical-align: middle;\n",
       "    }\n",
       "\n",
       "    .dataframe tbody tr th {\n",
       "        vertical-align: top;\n",
       "    }\n",
       "\n",
       "    .dataframe thead th {\n",
       "        text-align: right;\n",
       "    }\n",
       "</style>\n",
       "<table border=\"1\" class=\"dataframe\">\n",
       "  <thead>\n",
       "    <tr style=\"text-align: right;\">\n",
       "      <th></th>\n",
       "      <th>afl.margins</th>\n",
       "      <th>blowouts</th>\n",
       "    </tr>\n",
       "  </thead>\n",
       "  <tbody>\n",
       "    <tr>\n",
       "      <th>0</th>\n",
       "      <td>56</td>\n",
       "      <td>True</td>\n",
       "    </tr>\n",
       "    <tr>\n",
       "      <th>1</th>\n",
       "      <td>31</td>\n",
       "      <td>False</td>\n",
       "    </tr>\n",
       "    <tr>\n",
       "      <th>2</th>\n",
       "      <td>56</td>\n",
       "      <td>True</td>\n",
       "    </tr>\n",
       "    <tr>\n",
       "      <th>3</th>\n",
       "      <td>8</td>\n",
       "      <td>False</td>\n",
       "    </tr>\n",
       "    <tr>\n",
       "      <th>4</th>\n",
       "      <td>32</td>\n",
       "      <td>False</td>\n",
       "    </tr>\n",
       "  </tbody>\n",
       "</table>\n",
       "</div>"
      ],
      "text/plain": [
       "   afl.margins  blowouts\n",
       "0           56      True\n",
       "1           31     False\n",
       "2           56      True\n",
       "3            8     False\n",
       "4           32     False"
      ]
     },
     "execution_count": 45,
     "metadata": {},
     "output_type": "execute_result"
    }
   ],
   "source": [
    "afl_margins['blowouts'] = np.where(afl_margins['afl.margins'] > 50, True, False)\n",
    "afl_margins.head()"
   ]
  },
  {
   "cell_type": "markdown",
   "metadata": {},
   "source": [
    "So that's what the `blowouts` variable looks like. Now let's ask Python to `describe()` this data: "
   ]
  },
  {
   "cell_type": "code",
   "execution_count": 46,
   "metadata": {},
   "outputs": [
    {
     "data": {
      "text/plain": [
       "count       176\n",
       "unique        2\n",
       "top       False\n",
       "freq        132\n",
       "Name: blowouts, dtype: object"
      ]
     },
     "execution_count": 46,
     "metadata": {},
     "output_type": "execute_result"
    }
   ],
   "source": [
    "afl_margins['blowouts'].describe()"
   ]
  },
  {
   "cell_type": "markdown",
   "metadata": {},
   "source": [
    "In this context, `describe` gives us the total number of games (176), the number of categories for those games (2, either blowout or not a blowout), the most common category (False, that is, not a blowout), and a count for the more common category. A little cryptic, but not entirely unreasonable. \n",
    "\n",
    "\n",
    "\n",
    "### \"Describing\" a data frame\n",
    "\n",
    "Okay what about data frames? When you `describe()` a dataframe, it produces a slightly condensed summary of each variable inside the data frame (as long as you specify that you want `'all'` the variables). To give you a sense of how this can be useful, let's try this for a new data set, one that you've never seen before. The data is stored in the `clinical_trial_data.csv` file, and we'll use it a lot in the chapter on [](ANOVA) (you can find a complete description of the data at the start of that chapter). Let's load it, and see what we've got:"
   ]
  },
  {
   "cell_type": "code",
   "execution_count": 47,
   "metadata": {},
   "outputs": [
    {
     "data": {
      "text/html": [
       "<div>\n",
       "<style scoped>\n",
       "    .dataframe tbody tr th:only-of-type {\n",
       "        vertical-align: middle;\n",
       "    }\n",
       "\n",
       "    .dataframe tbody tr th {\n",
       "        vertical-align: top;\n",
       "    }\n",
       "\n",
       "    .dataframe thead th {\n",
       "        text-align: right;\n",
       "    }\n",
       "</style>\n",
       "<table border=\"1\" class=\"dataframe\">\n",
       "  <thead>\n",
       "    <tr style=\"text-align: right;\">\n",
       "      <th></th>\n",
       "      <th>drug</th>\n",
       "      <th>therapy</th>\n",
       "      <th>mood_gain</th>\n",
       "    </tr>\n",
       "  </thead>\n",
       "  <tbody>\n",
       "    <tr>\n",
       "      <th>0</th>\n",
       "      <td>placebo</td>\n",
       "      <td>no.therapy</td>\n",
       "      <td>0.5</td>\n",
       "    </tr>\n",
       "    <tr>\n",
       "      <th>1</th>\n",
       "      <td>placebo</td>\n",
       "      <td>no.therapy</td>\n",
       "      <td>0.3</td>\n",
       "    </tr>\n",
       "    <tr>\n",
       "      <th>2</th>\n",
       "      <td>placebo</td>\n",
       "      <td>no.therapy</td>\n",
       "      <td>0.1</td>\n",
       "    </tr>\n",
       "    <tr>\n",
       "      <th>3</th>\n",
       "      <td>anxifree</td>\n",
       "      <td>no.therapy</td>\n",
       "      <td>0.6</td>\n",
       "    </tr>\n",
       "    <tr>\n",
       "      <th>4</th>\n",
       "      <td>anxifree</td>\n",
       "      <td>no.therapy</td>\n",
       "      <td>0.4</td>\n",
       "    </tr>\n",
       "  </tbody>\n",
       "</table>\n",
       "</div>"
      ],
      "text/plain": [
       "       drug     therapy  mood_gain\n",
       "0   placebo  no.therapy        0.5\n",
       "1   placebo  no.therapy        0.3\n",
       "2   placebo  no.therapy        0.1\n",
       "3  anxifree  no.therapy        0.6\n",
       "4  anxifree  no.therapy        0.4"
      ]
     },
     "execution_count": 47,
     "metadata": {},
     "output_type": "execute_result"
    }
   ],
   "source": [
    "import pandas as pd\n",
    "file = '../data/clinical_trial_data.csv'\n",
    "\n",
    "df_clintrial = pd.read_csv(file)\n",
    "df_clintrial.head()\n",
    "\n"
   ]
  },
  {
   "cell_type": "markdown",
   "metadata": {},
   "source": [
    "Our dataframe `df_clintrial` contains three variables, `drug`, `therapy` and `mood.gain`. Presumably then, this data is from a clinical trial of some kind, in which people were administered different drugs; and the researchers looked to see what the drugs did to their mood. Let's see if the `describe()` function sheds a little more light on this situation:"
   ]
  },
  {
   "cell_type": "code",
   "execution_count": 48,
   "metadata": {},
   "outputs": [
    {
     "data": {
      "text/html": [
       "<div>\n",
       "<style scoped>\n",
       "    .dataframe tbody tr th:only-of-type {\n",
       "        vertical-align: middle;\n",
       "    }\n",
       "\n",
       "    .dataframe tbody tr th {\n",
       "        vertical-align: top;\n",
       "    }\n",
       "\n",
       "    .dataframe thead th {\n",
       "        text-align: right;\n",
       "    }\n",
       "</style>\n",
       "<table border=\"1\" class=\"dataframe\">\n",
       "  <thead>\n",
       "    <tr style=\"text-align: right;\">\n",
       "      <th></th>\n",
       "      <th>drug</th>\n",
       "      <th>therapy</th>\n",
       "      <th>mood_gain</th>\n",
       "    </tr>\n",
       "  </thead>\n",
       "  <tbody>\n",
       "    <tr>\n",
       "      <th>count</th>\n",
       "      <td>18</td>\n",
       "      <td>18</td>\n",
       "      <td>18.000000</td>\n",
       "    </tr>\n",
       "    <tr>\n",
       "      <th>unique</th>\n",
       "      <td>3</td>\n",
       "      <td>2</td>\n",
       "      <td>NaN</td>\n",
       "    </tr>\n",
       "    <tr>\n",
       "      <th>top</th>\n",
       "      <td>placebo</td>\n",
       "      <td>no.therapy</td>\n",
       "      <td>NaN</td>\n",
       "    </tr>\n",
       "    <tr>\n",
       "      <th>freq</th>\n",
       "      <td>6</td>\n",
       "      <td>9</td>\n",
       "      <td>NaN</td>\n",
       "    </tr>\n",
       "    <tr>\n",
       "      <th>mean</th>\n",
       "      <td>NaN</td>\n",
       "      <td>NaN</td>\n",
       "      <td>0.883333</td>\n",
       "    </tr>\n",
       "    <tr>\n",
       "      <th>std</th>\n",
       "      <td>NaN</td>\n",
       "      <td>NaN</td>\n",
       "      <td>0.533854</td>\n",
       "    </tr>\n",
       "    <tr>\n",
       "      <th>min</th>\n",
       "      <td>NaN</td>\n",
       "      <td>NaN</td>\n",
       "      <td>0.100000</td>\n",
       "    </tr>\n",
       "    <tr>\n",
       "      <th>25%</th>\n",
       "      <td>NaN</td>\n",
       "      <td>NaN</td>\n",
       "      <td>0.425000</td>\n",
       "    </tr>\n",
       "    <tr>\n",
       "      <th>50%</th>\n",
       "      <td>NaN</td>\n",
       "      <td>NaN</td>\n",
       "      <td>0.850000</td>\n",
       "    </tr>\n",
       "    <tr>\n",
       "      <th>75%</th>\n",
       "      <td>NaN</td>\n",
       "      <td>NaN</td>\n",
       "      <td>1.300000</td>\n",
       "    </tr>\n",
       "    <tr>\n",
       "      <th>max</th>\n",
       "      <td>NaN</td>\n",
       "      <td>NaN</td>\n",
       "      <td>1.800000</td>\n",
       "    </tr>\n",
       "  </tbody>\n",
       "</table>\n",
       "</div>"
      ],
      "text/plain": [
       "           drug     therapy  mood_gain\n",
       "count        18          18  18.000000\n",
       "unique        3           2        NaN\n",
       "top     placebo  no.therapy        NaN\n",
       "freq          6           9        NaN\n",
       "mean        NaN         NaN   0.883333\n",
       "std         NaN         NaN   0.533854\n",
       "min         NaN         NaN   0.100000\n",
       "25%         NaN         NaN   0.425000\n",
       "50%         NaN         NaN   0.850000\n",
       "75%         NaN         NaN   1.300000\n",
       "max         NaN         NaN   1.800000"
      ]
     },
     "execution_count": 48,
     "metadata": {},
     "output_type": "execute_result"
    }
   ],
   "source": [
    "df_clintrial.describe(include = 'all')"
   ]
  },
  {
   "cell_type": "markdown",
   "metadata": {},
   "source": [
    "If we want to `describe` the entire dataframe, we need to add the argument  `include = 'all'`. This gives us information on all of the of columns."
   ]
  },
  {
   "cell_type": "markdown",
   "metadata": {},
   "source": [
    "## Standard scores\n",
    "\n",
    "\n",
    "Suppose John Smith is putting together a new questionnaire intended to measure \"grumpiness\". The survey has 50 questions, which you can answer in a grumpy way or not. \n",
    "\n",
    "Across a big sample (hypothetically, let's imagine a million people or so!) the data are fairly normally distributed, with the mean grumpiness score being 17 out of 50 questions answered in a grumpy way, and the standard deviation is 5. \n",
    "\n",
    "In contrast, when I take the questionnaire, I answer 35 out of 50 questions in a grumpy way. So, how grumpy am I? \n",
    "\n",
    "One way to think about would be to say that I have grumpiness of 35/50, so you might say that I'm 70% grumpy. If John had phrased her questions a bit differently, people might have answered them in a different way, so the overall distribution of answers could easily move up or down depending on the precise way in which the questions were asked. \n",
    "\n",
    "So, I'm only 70% grumpy *with respect to this set of survey questions*. Even if it's a very good questionnaire, this isn't very a informative statement. \n",
    "\n",
    "A simpler way around this is to describe my grumpiness by comparing me to other people.\n",
    "\n",
    "Shockingly, out of John's sample of 1,000,000 people, only 159 people were as grumpy as me, suggesting that I'm in the top 0.016% of people for grumpiness. \n",
    "\n",
    "This makes much more sense than trying to interpret the raw data. This idea -- that we should describe my grumpiness in terms of the overall distribution of the grumpiness of humans -- is the qualitative idea that standardisation attempts to get at. \n",
    "\n",
    "One way to do this is to do exactly what I just did, and describe everything in terms of percentiles. However, the problem with doing this is that \"it's lonely at the top\". Suppose that John had only collected a sample of 1000 people, and this time gotten a mean of 16 out of 50 with a standard deviation of 5. The problem is that almost certainly, not a single person in that sample would be as grumpy as me.\n",
    "\n",
    "\n",
    "However, all is not lost. A different approach is to convert my grumpiness score into a **_standard score_**, also referred to as a $z$-score. The standard score is defined as the number of standard deviations above the mean that my grumpiness score lies. To phrase it in \"pseudo-maths\" the standard score is calculated like this:\n",
    "\n",
    "$$\n",
    "\\mbox{standard score} = \\frac{\\mbox{raw score} - \\mbox{mean}}{\\mbox{standard deviation}}\n",
    "$$ \n",
    "\n",
    "In actual maths, the equation for the $z$-score is\n",
    "\n",
    "$$\n",
    "z_i = \\frac{X_i - \\bar{X}}{\\hat\\sigma}\n",
    "$$\n",
    "\n",
    "So, going back to the grumpiness data, we can now transform Dan's raw grumpiness into a standardised grumpiness score. I haven't discussed how to compute $z$-scores, explicitly, but you can probably guess. For a dataset d, an easy way to find a z-score is to import `stats` from `scipy` and then do: `stats.zscore(d)`. If the mean is 17 and the standard deviation is 5 then my standardised grumpiness score would be \n",
    "\n",
    "$$\n",
    "z = \\frac{35 - 17}{5} = 3.6\n",
    "$$\n",
    "\n",
    "Technically, because I'm calculating means and standard deviations from a sample of data, but want to talk about my grumpiness relative to a population, what I'm actually doing is *estimating* a $z$ score. \n",
    "\n",
    "To interpret this value, recall the rough heuristic that I provided in the section on [standard deviation](sd), in which I noted that 99.7% of values are expected to lie within 3 standard deviations of the mean. So the fact that my grumpiness corresponds to a $z$ score of 3.6 indicates that I'm very grumpy indeed. "
   ]
  },
  {
   "cell_type": "markdown",
   "metadata": {},
   "source": [
    "In addition to allowing you to interpret a raw score in relation to a larger population (and thereby allowing you to make sense of variables that lie on arbitrary scales), standard scores serve a second useful function. \n",
    "\n",
    ">Standard scores can be compared to one another in situations where the raw scores can't. \n",
    "\n",
    "Suppose, for instance, John also had another questionnaire that measured extraversion using a 24 items questionnaire. The overall mean for this measure turns out to be 13 with standard deviation 4, and I scored a 2. As you can imagine, it doesn't make a lot of sense to try to compare my raw score of 2 on the extraversion questionnaire to my raw score of 35 on the grumpiness questionnaire. The raw scores for the two variables are \"about\" fundamentally different things, so this would be like comparing apples to oranges.\n",
    "\n",
    "What about the standard scores? Well, this is a little different. \n",
    "\n",
    "If we calculate the standard scores, we get $z = (35-17)/5 = 3.6$ for grumpiness and $z = (2-13)/4 = -2.75$ for extraversion. These two numbers *can* be compared to each other. \n",
    "\n",
    "I'm much less extraverted than most people ($z = -2.75$) and much grumpier than most people ($z = 3.6$): but the extent of my unusualness is much more extreme for grumpiness (since 3.6 is a bigger number than 2.75).  Because each standardised score is a statement about where an observation falls *relative to its own population*, it *is* possible to compare standardised scores across completely different variables. \n"
   ]
  },
  {
   "cell_type": "markdown",
   "metadata": {},
   "source": [
    "## Correlations\n",
    "\n",
    "Up to this point we have focused entirely on how to construct descriptive statistics for a single variable. How to describe the relationships *between* variables in the data. To do that, we want to talk mostly about the **_correlation_** between variables. \n",
    "\n",
    "### The data \n",
    "\n",
    "The following data set is fictitious, but based on real events. Suppose Dan is curious to find out how much his infant son's sleeping habits affect his mood. Dan rates his grumpiness very precisely, on a scale from 0 (not at all grumpy) to 100 (grumpy as a very, very grumpy old man) for 100 days. "
   ]
  },
  {
   "cell_type": "code",
   "execution_count": 49,
   "metadata": {},
   "outputs": [
    {
     "data": {
      "text/html": [
       "<div>\n",
       "<style scoped>\n",
       "    .dataframe tbody tr th:only-of-type {\n",
       "        vertical-align: middle;\n",
       "    }\n",
       "\n",
       "    .dataframe tbody tr th {\n",
       "        vertical-align: top;\n",
       "    }\n",
       "\n",
       "    .dataframe thead th {\n",
       "        text-align: right;\n",
       "    }\n",
       "</style>\n",
       "<table border=\"1\" class=\"dataframe\">\n",
       "  <thead>\n",
       "    <tr style=\"text-align: right;\">\n",
       "      <th></th>\n",
       "      <th>dan_sleep</th>\n",
       "      <th>baby_sleep</th>\n",
       "      <th>dan_grump</th>\n",
       "      <th>day</th>\n",
       "    </tr>\n",
       "  </thead>\n",
       "  <tbody>\n",
       "    <tr>\n",
       "      <th>0</th>\n",
       "      <td>7.59</td>\n",
       "      <td>10.18</td>\n",
       "      <td>56</td>\n",
       "      <td>1</td>\n",
       "    </tr>\n",
       "    <tr>\n",
       "      <th>1</th>\n",
       "      <td>7.91</td>\n",
       "      <td>11.66</td>\n",
       "      <td>60</td>\n",
       "      <td>2</td>\n",
       "    </tr>\n",
       "    <tr>\n",
       "      <th>2</th>\n",
       "      <td>5.14</td>\n",
       "      <td>7.92</td>\n",
       "      <td>82</td>\n",
       "      <td>3</td>\n",
       "    </tr>\n",
       "    <tr>\n",
       "      <th>3</th>\n",
       "      <td>7.71</td>\n",
       "      <td>9.61</td>\n",
       "      <td>55</td>\n",
       "      <td>4</td>\n",
       "    </tr>\n",
       "    <tr>\n",
       "      <th>4</th>\n",
       "      <td>6.68</td>\n",
       "      <td>9.75</td>\n",
       "      <td>67</td>\n",
       "      <td>5</td>\n",
       "    </tr>\n",
       "  </tbody>\n",
       "</table>\n",
       "</div>"
      ],
      "text/plain": [
       "   dan_sleep  baby_sleep  dan_grump  day\n",
       "0       7.59       10.18         56    1\n",
       "1       7.91       11.66         60    2\n",
       "2       5.14        7.92         82    3\n",
       "3       7.71        9.61         55    4\n",
       "4       6.68        9.75         67    5"
      ]
     },
     "execution_count": 49,
     "metadata": {},
     "output_type": "execute_result"
    }
   ],
   "source": [
    "import pandas as pd\n",
    "\n",
    "file = '../data/parenthood.csv'\n",
    "parenthood = pd.read_csv(file)\n",
    "\n",
    "parenthood.head()\n"
   ]
  },
  {
   "cell_type": "markdown",
   "metadata": {},
   "source": [
    "... we see that the file contains a single data frame called `parenthood`, which contains four variables `dan_sleep`, `baby_sleep`, `dan_grump` and `day`. Next, I'll calculate some basic descriptive statistics:"
   ]
  },
  {
   "cell_type": "code",
   "execution_count": 50,
   "metadata": {},
   "outputs": [
    {
     "data": {
      "text/html": [
       "<div>\n",
       "<style scoped>\n",
       "    .dataframe tbody tr th:only-of-type {\n",
       "        vertical-align: middle;\n",
       "    }\n",
       "\n",
       "    .dataframe tbody tr th {\n",
       "        vertical-align: top;\n",
       "    }\n",
       "\n",
       "    .dataframe thead th {\n",
       "        text-align: right;\n",
       "    }\n",
       "</style>\n",
       "<table border=\"1\" class=\"dataframe\">\n",
       "  <thead>\n",
       "    <tr style=\"text-align: right;\">\n",
       "      <th></th>\n",
       "      <th>dan_sleep</th>\n",
       "      <th>baby_sleep</th>\n",
       "      <th>dan_grump</th>\n",
       "      <th>day</th>\n",
       "    </tr>\n",
       "  </thead>\n",
       "  <tbody>\n",
       "    <tr>\n",
       "      <th>count</th>\n",
       "      <td>100.000000</td>\n",
       "      <td>100.000000</td>\n",
       "      <td>100.00000</td>\n",
       "      <td>100.000000</td>\n",
       "    </tr>\n",
       "    <tr>\n",
       "      <th>mean</th>\n",
       "      <td>6.965200</td>\n",
       "      <td>8.049200</td>\n",
       "      <td>63.71000</td>\n",
       "      <td>50.500000</td>\n",
       "    </tr>\n",
       "    <tr>\n",
       "      <th>std</th>\n",
       "      <td>1.015884</td>\n",
       "      <td>2.074232</td>\n",
       "      <td>10.04967</td>\n",
       "      <td>29.011492</td>\n",
       "    </tr>\n",
       "    <tr>\n",
       "      <th>min</th>\n",
       "      <td>4.840000</td>\n",
       "      <td>3.250000</td>\n",
       "      <td>41.00000</td>\n",
       "      <td>1.000000</td>\n",
       "    </tr>\n",
       "    <tr>\n",
       "      <th>25%</th>\n",
       "      <td>6.292500</td>\n",
       "      <td>6.425000</td>\n",
       "      <td>57.00000</td>\n",
       "      <td>25.750000</td>\n",
       "    </tr>\n",
       "    <tr>\n",
       "      <th>50%</th>\n",
       "      <td>7.030000</td>\n",
       "      <td>7.950000</td>\n",
       "      <td>62.00000</td>\n",
       "      <td>50.500000</td>\n",
       "    </tr>\n",
       "    <tr>\n",
       "      <th>75%</th>\n",
       "      <td>7.740000</td>\n",
       "      <td>9.635000</td>\n",
       "      <td>71.00000</td>\n",
       "      <td>75.250000</td>\n",
       "    </tr>\n",
       "    <tr>\n",
       "      <th>max</th>\n",
       "      <td>9.000000</td>\n",
       "      <td>12.070000</td>\n",
       "      <td>91.00000</td>\n",
       "      <td>100.000000</td>\n",
       "    </tr>\n",
       "  </tbody>\n",
       "</table>\n",
       "</div>"
      ],
      "text/plain": [
       "        dan_sleep  baby_sleep  dan_grump         day\n",
       "count  100.000000  100.000000  100.00000  100.000000\n",
       "mean     6.965200    8.049200   63.71000   50.500000\n",
       "std      1.015884    2.074232   10.04967   29.011492\n",
       "min      4.840000    3.250000   41.00000    1.000000\n",
       "25%      6.292500    6.425000   57.00000   25.750000\n",
       "50%      7.030000    7.950000   62.00000   50.500000\n",
       "75%      7.740000    9.635000   71.00000   75.250000\n",
       "max      9.000000   12.070000   91.00000  100.000000"
      ]
     },
     "execution_count": 50,
     "metadata": {},
     "output_type": "execute_result"
    }
   ],
   "source": [
    "parenthood.describe()"
   ]
  },
  {
   "cell_type": "markdown",
   "metadata": {},
   "source": [
    "Finally, to give a graphical depiction of what each of the three interesting variables looks like, {numref}`fig-grump` plots histograms. \n",
    "\n"
   ]
  },
  {
   "cell_type": "code",
   "execution_count": 51,
   "metadata": {
    "tags": [
     "hide-outuput",
     "hide-input"
    ]
   },
   "outputs": [
    {
     "data": {
      "image/png": "[encoded data removed]",
      "text/plain": [
       "<Figure size 1500x500 with 3 Axes>"
      ]
     },
     "metadata": {},
     "output_type": "display_data"
    }
   ],
   "source": [
    "import seaborn as sns\n",
    "from matplotlib import pyplot as plt\n",
    "\n",
    "dan_grump = parenthood['dan_grump']\n",
    "dan_sleep = parenthood['dan_sleep']\n",
    "baby_sleep = parenthood['baby_sleep']\n",
    "\n",
    "fig, axes = plt.subplots(1, 3, figsize=(15, 5), sharey=True)\n",
    "fig.suptitle('Sleep Data')\n",
    "\n",
    "# My grumpiness\n",
    "sns.histplot(dan_grump, ax=axes[0])\n",
    "axes[0].set_title(dan_grump.name)\n",
    "\n",
    "# My sleep\n",
    "sns.histplot(dan_sleep, ax=axes[1])\n",
    "axes[1].set_title(dan_sleep.name)\n",
    "\n",
    "# Baby's sleep\n",
    "sns.histplot(baby_sleep, ax=axes[2])\n",
    "axes[2].set_title(baby_sleep.name);\n",
    "\n"
   ]
  },
  {
   "cell_type": "markdown",
   "metadata": {},
   "source": [
    "One thing to note: just because Python can calculate dozens of different statistics doesn't mean you should report all of them. If I were writing this up for a report, I'd probably pick out those statistics that are of most interest to me (and to my readership), and then put them into a nice, simple table like the one in the table below.  \n",
    "\n",
    "|variable                |min  |max   |mean  |median |std. dev |IQR  |\n",
    "|:-----------------------|:----|:-----|:-----|:------|:--------|:----|\n",
    "|Dan's grumpiness        |41   |91    |63.71 |62     |10.05    |14   |\n",
    "|Dan's hours slept       |4.84 |9     |6.97  |7.03   |1.02     |1.45 |\n",
    "|Dan's son's hours slept |3.25 |12.07 |8.05  |7.95   |2.07     |3.21 |\n",
    "\n"
   ]
  },
  {
   "cell_type": "markdown",
   "metadata": {},
   "source": [
    "### The strength and direction of a relationship\n"
   ]
  },
  {
   "cell_type": "code",
   "execution_count": 53,
   "metadata": {
    "tags": [
     "hide-input"
    ]
   },
   "outputs": [
    {
     "data": {
      "text/plain": [
       "Text(0, 0.5, 'My grumpiness')"
      ]
     },
     "execution_count": 53,
     "metadata": {},
     "output_type": "execute_result"
    },
    {
     "data": {
      "image/png": "[encoded data removed]",
      "text/plain": [
       "<Figure size 1500x500 with 2 Axes>"
      ]
     },
     "metadata": {},
     "output_type": "display_data"
    }
   ],
   "source": [
    "fig, axes = plt.subplots(1, 2, figsize=(15, 5), sharey=True)\n",
    "fig.suptitle('Sleepy, grumpy scatterplots')\n",
    "\n",
    "sns.scatterplot(x = dan_sleep, y = dan_grump, ax = axes[0])\n",
    "fig.axes[0].set_title(\"Dan\")\n",
    "fig.axes[0].set_xlabel(\"Sleep\")\n",
    "fig.axes[0].set_ylabel(\"My grumpiness\")\n",
    "\n",
    "sns.scatterplot(x = baby_sleep, y = dan_grump, ax = axes[1])\n",
    "fig.axes[1].set_title(\"Baby\")\n",
    "fig.axes[1].set_xlabel(\"Sleep\")\n",
    "fig.axes[1].set_ylabel(\"My grumpiness\")\n"
   ]
  },
  {
   "cell_type": "markdown",
   "metadata": {},
   "source": [
    "```\n",
    "\n",
    "Scatterplots showing the relationship between dan.sleep and dan.grump (left) and the relationship between baby.sleep and dan.grump (right).\n",
    "```"
   ]
  },
  {
   "cell_type": "markdown",
   "metadata": {},
   "source": [
    "Scatterplots give us a general sense of how closely related two variables are. \n",
    "\n",
    "For instance, let's compare the relationship between `dan.sleep` and `dan.grump` with that between `baby.sleep` and `dan.grump`. \n",
    "\n",
    "When looking at these two plots side by side, it's clear that the relationship is *qualitatively* the same in both cases: more sleep equals less grump! \n",
    "\n",
    "However, it's also pretty obvious that the relationship between `dan.sleep` and `dan.grump` is *stronger* than the relationship between `baby.sleep` and `dan.grump`. The plot on the left is \"neater\" than the one on the right. What it feels like is that if you want to predict what Dan's mood is, it'd help you a little bit to know how many hours Dan's son slept, but it'd be *more* helpful to know how many hours Dan slept. \n",
    "\n",
    "In contrast, if we compare the scatterplot of \"`baby.sleep` v `dan.grump`\" to the scatterplot of `baby.sleep` v `dan.sleep`, the overall strength of the relationship is the same, but the direction is different. That is, if Dan's son sleeps more, Dan get *more* sleep (positive relationship, but if he sleeps more then Dan get *less* grumpy (negative relationship)."
   ]
  },
  {
   "cell_type": "code",
   "execution_count": 55,
   "metadata": {
    "tags": [
     "hide-input"
    ]
   },
   "outputs": [
    {
     "data": {
      "text/plain": [
       "Text(0, 0.5, 'My sleep')"
      ]
     },
     "execution_count": 55,
     "metadata": {},
     "output_type": "execute_result"
    },
    {
     "data": {
      "image/png": "[encoded data removed]",
      "text/plain": [
       "<Figure size 1500x500 with 2 Axes>"
      ]
     },
     "metadata": {},
     "output_type": "display_data"
    }
   ],
   "source": [
    "fig, axes = plt.subplots(1, 2, figsize=(15, 5), sharey=False) # y axes are now on different scales, so sharey=False\n",
    "fig.suptitle('Sleepier, grumpier scatterplots')\n",
    "\n",
    "sns.scatterplot(x = dan_sleep, y = dan_grump, ax = axes[0])\n",
    "fig.axes[0].set_xlabel(\"Baby's sleep\")\n",
    "fig.axes[0].set_ylabel(\"My grumpiness\")\n",
    "\n",
    "sns.scatterplot(x = baby_sleep, y = dan_sleep, ax = axes[1])\n",
    "fig.axes[1].set_xlabel(\"Baby's sleep\")\n",
    "fig.axes[1].set_ylabel(\"My sleep\")\n"
   ]
  },
  {
   "cell_type": "markdown",
   "metadata": {},
   "source": [
    "```\n",
    "\n",
    "Scatterplots showing the relationship between baby_sleep and dan_grump (left), as compared\n",
    "to the relationship between baby.sleep and dan.sleep (right).\n",
    "```"
   ]
  },
  {
   "cell_type": "markdown",
   "metadata": {},
   "source": [
    "### The correlation coefficient\n",
    "\n",
    "We can make these ideas a bit more explicit by introducing the idea of a **_correlation coefficient_** (or, more specifically, Pearson's correlation coefficient), which is traditionally denoted by $r$. \n",
    "\n",
    "The correlation coefficient between two variables $X$ and $Y$ (sometimes denoted $r_{XY}$), is a measure that varies from $-1$ to $1$. When $r = -1$ it means that we have a perfect negative relationship, and when $r = 1$ it means we have a perfect positive relationship. When $r = 0$, there's no relationship at all. "
   ]
  },
  {
   "cell_type": "code",
   "execution_count": 56,
   "metadata": {
    "tags": [
     "hide-input"
    ]
   },
   "outputs": [
    {
     "data": {
      "image/png": "[encoded data removed]",
      "text/plain": [
       "<Figure size 1500x1500 with 8 Axes>"
      ]
     },
     "metadata": {},
     "output_type": "display_data"
    }
   ],
   "source": [
    "import matplotlib.pyplot as plt\n",
    "import numpy as np\n",
    "import seaborn as sns\n",
    "\n",
    "mean = [0, 0]\n",
    "cov = [[1, 0], [0, 1]]\n",
    "r = [0, .33, .66, 1]\n",
    "rneg = [0, -.33, -.66, -1]\n",
    "\n",
    "fig, axes = plt.subplots(4, 2, figsize=(15, 15), sharey=False)\n",
    "\n",
    "for s, val in enumerate(r):\n",
    "    cov = [[1, val], [val, 1]]\n",
    "    x, y = np.random.multivariate_normal(mean, cov, 100).T\n",
    "    sns.scatterplot(x=x,y=y, ax = axes[s,0])\n",
    "    axes[s,0].set_title('r = ' + str(val))\n",
    "\n",
    "for s, val in enumerate(rneg):\n",
    "    cov = [[1, val], [val, 1]]\n",
    "    x, y = np.random.multivariate_normal(mean, cov, 100).T\n",
    "    sns.scatterplot(x=x,y=y, ax = axes[s,1])\n",
    "    axes[s,1].set_title('r = ' + str(val))\n",
    "\n"
   ]
  },
  {
   "cell_type": "markdown",
   "metadata": {},
   "source": [
    "```\n",
    "\n",
    "Illustration of the effect of varying the strength and direction of a correlation. In the left hand column, the correlations are 0, .33, .66 and 1. In the right hand column, the correlations are 0, -.33, -.66 and -1.\n",
    "```"
   ]
  },
  {
   "cell_type": "markdown",
   "metadata": {},
   "source": [
    "The formula for the Pearson's correlation coefficient can be written in several different ways. The simplest way to write down the formula is to break it into two steps.\n",
    "\n",
    "Firstly, let's introduce the idea of a **_covariance_**. The covariance between two variables $X$ and $Y$ is a generalisation of the notion of the variance; it's a mathematically simple way of describing the relationship between two variables that isn't terribly informative to humans:\n",
    "\n",
    "$$\n",
    "\\mbox{Cov}(X,Y) = \\frac{1}{N-1} \\sum_{i=1}^N \\left( X_i - \\bar{X} \\right) \\left( Y_i - \\bar{Y} \\right)\n",
    "$$\n",
    "\n",
    "Because we're multiplying (i.e., taking the \"product\" of) a quantity that depends on $X$ by a quantity that depends on $Y$ and then averaging [^note_covariance], you can think of the formula for the covariance as an \"average cross product\" between $X$ and $Y$. The covariance has the nice property that, if $X$ and $Y$ are entirely unrelated, then the covariance is exactly zero. \n",
    "\n",
    "If the relationship between them is positive, then the covariance is also positive; and if the relationship is negative then the covariance is also negative. In other words, the covariance captures the basic qualitative idea of correlation. Unfortunately, the raw magnitude of the covariance isn't easy to interpret: it depends on the units in which $X$ and $Y$ are expressed, and worse yet, the actual units that the covariance itself is expressed in are really weird. For instance, if $X$ refers to the `dan.sleep` variable (units: hours) and $Y$ refers to the `dan.grump` variable (units: grumps), then the units for their covariance are \"hours $\\times$ grumps\".  \n",
    "\n",
    "The Pearson correlation coefficient $r$ fixes this interpretation problem by standardising the covariance, in pretty much the exact same way that the $z$-score standardises a raw score: by dividing by the standard deviation. However, because we have two variables that contribute to the covariance, the standardisation only works if we divide by both standard deviations (this is an oversimplification, but it'll do for our purposes)  In other words, the correlation between $X$ and $Y$ can be written as follows:\n",
    "\n",
    "$$\n",
    "r_{XY}  = \\frac{\\mbox{Cov}(X,Y)}{ \\hat{\\sigma}_X \\ \\hat{\\sigma}_Y}\n",
    "$$\n",
    "\n",
    "By doing this standardisation, not only do we keep all of the nice properties of the covariance discussed earlier, but the actual values of $r$ are on a meaningful scale: $r= 1$ implies a perfect positive relationship, and $r = -1$ implies a perfect negative relationship. \n",
    "\n",
    "[^note_covariance]: Just like we saw with the variance and the standard deviation, in practice we divide by $N-1$ rather than $N$."
   ]
  },
  {
   "cell_type": "markdown",
   "metadata": {},
   "source": [
    "### Calculating correlations in Python\n",
    "\n",
    "\n",
    "\n",
    "Calculating correlations in Python can be done using the `corr()` method. The simplest way to use the command is to specify two input arguments `x` and `y`, each one corresponding to one of the variables. The following extract illustrates the basic usage of the function: [^note13] \n",
    "\n",
    "[^note13]: If you are reading this after having already completed the chapter on [hypothesis testing](hypothesis-testing) you might be wondering about hypothesis tests for correlations. This can be done with `scipy.stats.pearsonr` (or `scipy.stats.spearmanr`).\n"
   ]
  },
  {
   "cell_type": "code",
   "execution_count": 63,
   "metadata": {},
   "outputs": [],
   "source": [
    "file = '../data/parenthood.csv'\n",
    "parenthood = pd.read_csv(file)\n",
    "parenthood.head()\n",
    "x = parenthood['dan_sleep']\n",
    "y = parenthood['dan_grump']"
   ]
  },
  {
   "cell_type": "code",
   "execution_count": 64,
   "metadata": {},
   "outputs": [
    {
     "data": {
      "text/plain": [
       "-0.9033840374657273"
      ]
     },
     "execution_count": 64,
     "metadata": {},
     "output_type": "execute_result"
    }
   ],
   "source": [
    "x.corr(y)"
   ]
  },
  {
   "cell_type": "markdown",
   "metadata": {},
   "source": [
    "However, the `cor()` function is a bit more powerful than this simple example suggests. For example, you can also calculate a complete \"correlation matrix\", between all pairs of variables in the data frame:"
   ]
  },
  {
   "cell_type": "code",
   "execution_count": 65,
   "metadata": {},
   "outputs": [
    {
     "data": {
      "text/html": [
       "<div>\n",
       "<style scoped>\n",
       "    .dataframe tbody tr th:only-of-type {\n",
       "        vertical-align: middle;\n",
       "    }\n",
       "\n",
       "    .dataframe tbody tr th {\n",
       "        vertical-align: top;\n",
       "    }\n",
       "\n",
       "    .dataframe thead th {\n",
       "        text-align: right;\n",
       "    }\n",
       "</style>\n",
       "<table border=\"1\" class=\"dataframe\">\n",
       "  <thead>\n",
       "    <tr style=\"text-align: right;\">\n",
       "      <th></th>\n",
       "      <th>dan_sleep</th>\n",
       "      <th>baby_sleep</th>\n",
       "      <th>dan_grump</th>\n",
       "      <th>day</th>\n",
       "    </tr>\n",
       "  </thead>\n",
       "  <tbody>\n",
       "    <tr>\n",
       "      <th>dan_sleep</th>\n",
       "      <td>1.000000</td>\n",
       "      <td>0.627949</td>\n",
       "      <td>-0.903384</td>\n",
       "      <td>-0.098408</td>\n",
       "    </tr>\n",
       "    <tr>\n",
       "      <th>baby_sleep</th>\n",
       "      <td>0.627949</td>\n",
       "      <td>1.000000</td>\n",
       "      <td>-0.565964</td>\n",
       "      <td>-0.010434</td>\n",
       "    </tr>\n",
       "    <tr>\n",
       "      <th>dan_grump</th>\n",
       "      <td>-0.903384</td>\n",
       "      <td>-0.565964</td>\n",
       "      <td>1.000000</td>\n",
       "      <td>0.076479</td>\n",
       "    </tr>\n",
       "    <tr>\n",
       "      <th>day</th>\n",
       "      <td>-0.098408</td>\n",
       "      <td>-0.010434</td>\n",
       "      <td>0.076479</td>\n",
       "      <td>1.000000</td>\n",
       "    </tr>\n",
       "  </tbody>\n",
       "</table>\n",
       "</div>"
      ],
      "text/plain": [
       "            dan_sleep  baby_sleep  dan_grump       day\n",
       "dan_sleep    1.000000    0.627949  -0.903384 -0.098408\n",
       "baby_sleep   0.627949    1.000000  -0.565964 -0.010434\n",
       "dan_grump   -0.903384   -0.565964   1.000000  0.076479\n",
       "day         -0.098408   -0.010434   0.076479  1.000000"
      ]
     },
     "execution_count": 65,
     "metadata": {},
     "output_type": "execute_result"
    }
   ],
   "source": [
    "parenthood.corr()"
   ]
  },
  {
   "cell_type": "markdown",
   "metadata": {},
   "source": [
    "### Interpreting a correlation\n",
    " \n",
    "Naturally, in real life you don't see many correlations of 1. So how should you interpret a correlation of, say $r= .4$? \n",
    "\n",
    "The honest answer is that it really depends on what you want to use the data for, and on how strong the correlations in your field tend to be. \n",
    "\n",
    "The interpretation of a correlation depends a lot on the context. "
   ]
  },
  {
   "cell_type": "code",
   "execution_count": 67,
   "metadata": {
    "tags": [
     "hide-input",
     "remove-output"
    ]
   },
   "outputs": [],
   "source": [
    "correlation = [\"-1.0 to -0.9\", \"-0.9 to -0.7\", \"-0.7 to -0.4\", \n",
    "                    \"-0.4 to -0.2\", \"-0.2 to 0\", \"0 to 0.2 \", \"0.2 to 0.4\",\n",
    "                    \".4 to 0.7\", \"0.7 to 0.9\", \"0.9 to 1.0\"]\n",
    "strength = [\"Very strong\", \"Strong\", \"Moderate\", \"Weak\", \"Negligible\", \"Negligible\", \"Weak\",\n",
    "           \"Moderate\", \"Strong\", \"Very strong\"]\n",
    "direction = [\"Negative\"]*5 + [\"Positive\"]*5\n",
    "df = pd.DataFrame(\n",
    "    {'Correlation': correlation,\n",
    "     'Strength': strength,\n",
    "     'Direction': direction\n",
    "    }) \n"
   ]
  },
  {
   "cell_type": "markdown",
   "metadata": {},
   "source": [
    "```\n",
    "\n",
    "A rough guide to interpreting correlations. Note that I say a rough guide. There aren’t hard and fast rules for what counts as strong or weak relationships. It depends on the context.\n",
    "```"
   ]
  },
  {
   "cell_type": "markdown",
   "metadata": {},
   "source": [
    "> Please note that you should *always* look at the scatterplot before attaching any interpretation to the data. \n",
    "\n",
    "A correlation might not mean what you think it means. The classic illustration of this is \"Anscombe's Quartet\"  {cite}`Anscombe1973`, which is a collection of four data sets. \n",
    "\n",
    "Each data set has two variables, an $X$ and a $Y$. For all four data sets the mean value for $X$ is 9 and the mean for $Y$ is 7.5. The, standard deviations for all $X$ variables are almost identical, as are those for the the $Y$ variables. And in each case the correlation between $X$ and $Y$ is $r = 0.816$. You can verify this yourself, like this:"
   ]
  },
  {
   "cell_type": "code",
   "execution_count": 68,
   "metadata": {},
   "outputs": [
    {
     "name": "stdout",
     "output_type": "stream",
     "text": [
      "0.81642051634484\n",
      "0.8162365060002428\n",
      "0.8162867394895984\n",
      "0.8165214368885028\n"
     ]
    }
   ],
   "source": [
    "x = [10, 8, 13, 9, 11, 14, 6, 4, 12, 7, 5]\n",
    "y1 = [8.04, 6.95, 7.58, 8.81, 8.33, 9.96, 7.24, 4.26, 10.84, 4.82, 5.68]\n",
    "y2 = [9.14, 8.14, 8.74, 8.77, 9.26, 8.10, 6.13, 3.10, 9.13, 7.26, 4.74]\n",
    "y3 = [7.46, 6.77, 12.74, 7.11, 7.81, 8.84, 6.08, 5.39, 8.15, 6.42, 5.73]\n",
    "x4 = [8, 8, 8, 8, 8, 8, 8, 19, 8, 8, 8]\n",
    "y4 = [6.58, 5.76, 7.71, 8.84, 8.47, 7.04, 5.25, 12.50, 5.56, 7.91, 6.89]\n",
    "\n",
    "df = pd.DataFrame(\n",
    "    {'x': x,\n",
    "     'y1': y1,\n",
    "     'y2': y2,\n",
    "     'y3': y3,\n",
    "     'x4': x4,\n",
    "     'y4': y4\n",
    "    })\n",
    "\n",
    "print(df['x'].corr(df['y1']))\n",
    "print(df['x'].corr(df['y2']))\n",
    "print(df['x'].corr(df['y3']))\n",
    "print(df['x4'].corr(df['y4']))"
   ]
  },
  {
   "cell_type": "markdown",
   "metadata": {},
   "source": [
    "If we draw scatterplots of $X$ against $Y$ for all four variables, we see that all four of these are *spectacularly* different to each other. "
   ]
  },
  {
   "cell_type": "code",
   "execution_count": 70,
   "metadata": {
    "tags": [
     "hide-input"
    ]
   },
   "outputs": [
    {
     "data": {
      "text/plain": [
       "<AxesSubplot: xlabel='x4', ylabel='y4'>"
      ]
     },
     "execution_count": 70,
     "metadata": {},
     "output_type": "execute_result"
    },
    {
     "data": {
      "image/png": "[encoded data removed]",
      "text/plain": [
       "<Figure size 1500x1000 with 4 Axes>"
      ]
     },
     "metadata": {},
     "output_type": "display_data"
    }
   ],
   "source": [
    "import seaborn as sns\n",
    "\n",
    "fig, axes = plt.subplots(2, 2, figsize=(15, 10), sharey=True)\n",
    "fig.suptitle('Anscombe\\'s quartet')\n",
    "\n",
    "sns.scatterplot(x = df['x'], y = df['y1'], ax = axes[0,0])\n",
    "sns.scatterplot(x = df['x'], y = df['y2'], ax = axes[0,1])\n",
    "sns.scatterplot(x = df['x'], y = df['y3'], ax = axes[1,0])\n",
    "sns.scatterplot(x = df['x4'], y = df['y4'], ax = axes[1,1])\n"
   ]
  },
  {
   "cell_type": "markdown",
   "metadata": {},
   "source": [
    "```\n",
    "\n",
    "Anscombe’s quartet. All four of these data sets have a Pearson correlation of r “ .816, but they are qualitatively different from one another.\n",
    "```"
   ]
  },
  {
   "cell_type": "code",
   "execution_count": 71,
   "metadata": {},
   "outputs": [
    {
     "data": {
      "text/html": [
       "<div>\n",
       "<style scoped>\n",
       "    .dataframe tbody tr th:only-of-type {\n",
       "        vertical-align: middle;\n",
       "    }\n",
       "\n",
       "    .dataframe tbody tr th {\n",
       "        vertical-align: top;\n",
       "    }\n",
       "\n",
       "    .dataframe thead th {\n",
       "        text-align: right;\n",
       "    }\n",
       "</style>\n",
       "<table border=\"1\" class=\"dataframe\">\n",
       "  <thead>\n",
       "    <tr style=\"text-align: right;\">\n",
       "      <th></th>\n",
       "      <th>hours</th>\n",
       "      <th>grade</th>\n",
       "    </tr>\n",
       "  </thead>\n",
       "  <tbody>\n",
       "    <tr>\n",
       "      <th>0</th>\n",
       "      <td>2</td>\n",
       "      <td>13</td>\n",
       "    </tr>\n",
       "    <tr>\n",
       "      <th>1</th>\n",
       "      <td>76</td>\n",
       "      <td>91</td>\n",
       "    </tr>\n",
       "    <tr>\n",
       "      <th>2</th>\n",
       "      <td>40</td>\n",
       "      <td>79</td>\n",
       "    </tr>\n",
       "    <tr>\n",
       "      <th>3</th>\n",
       "      <td>6</td>\n",
       "      <td>14</td>\n",
       "    </tr>\n",
       "    <tr>\n",
       "      <th>4</th>\n",
       "      <td>16</td>\n",
       "      <td>21</td>\n",
       "    </tr>\n",
       "    <tr>\n",
       "      <th>5</th>\n",
       "      <td>28</td>\n",
       "      <td>74</td>\n",
       "    </tr>\n",
       "    <tr>\n",
       "      <th>6</th>\n",
       "      <td>27</td>\n",
       "      <td>47</td>\n",
       "    </tr>\n",
       "    <tr>\n",
       "      <th>7</th>\n",
       "      <td>59</td>\n",
       "      <td>85</td>\n",
       "    </tr>\n",
       "    <tr>\n",
       "      <th>8</th>\n",
       "      <td>46</td>\n",
       "      <td>84</td>\n",
       "    </tr>\n",
       "    <tr>\n",
       "      <th>9</th>\n",
       "      <td>68</td>\n",
       "      <td>88</td>\n",
       "    </tr>\n",
       "  </tbody>\n",
       "</table>\n",
       "</div>"
      ],
      "text/plain": [
       "   hours  grade\n",
       "0      2     13\n",
       "1     76     91\n",
       "2     40     79\n",
       "3      6     14\n",
       "4     16     21\n",
       "5     28     74\n",
       "6     27     47\n",
       "7     59     85\n",
       "8     46     84\n",
       "9     68     88"
      ]
     },
     "execution_count": 71,
     "metadata": {},
     "output_type": "execute_result"
    }
   ],
   "source": [
    "import pandas as pd\n",
    "\n",
    "file = '../data/effort.csv'\n",
    "\n",
    "effort = pd.read_csv(file)\n",
    "\n",
    "effort"
   ]
  },
  {
   "cell_type": "markdown",
   "metadata": {},
   "source": [
    "If we run a standard Pearson correlation, it shows a strong relationship between hours worked and grade received,"
   ]
  },
  {
   "cell_type": "code",
   "execution_count": 72,
   "metadata": {},
   "outputs": [
    {
     "data": {
      "text/plain": [
       "0.9094019658612525"
      ]
     },
     "execution_count": 72,
     "metadata": {},
     "output_type": "execute_result"
    }
   ],
   "source": [
    "effort['hours'].corr(effort['grade'])"
   ]
  },
  {
   "cell_type": "code",
   "execution_count": 75,
   "metadata": {
    "tags": [
     "hide-input"
    ]
   },
   "outputs": [
    {
     "data": {
      "image/png": "[encoded data removed]",
      "text/plain": [
       "<Figure size 640x480 with 1 Axes>"
      ]
     },
     "metadata": {},
     "output_type": "display_data"
    }
   ],
   "source": [
    "import seaborn as sns\n",
    "\n",
    "fig, ax = plt.subplots()\n",
    "sns.regplot(x='hours', y='grade', data=effort, ax=ax)\n",
    "sns.lineplot(x='hours', y='grade', data=effort, color = \"black\", ax=ax)\n",
    "ax.lines[0].set_linestyle(\"--\")\n"
   ]
  },
  {
   "cell_type": "markdown",
   "metadata": {},
   "source": [
    "\n",
    "The relationship between hours worked and grade received, for a toy data set consisting of only 10 students (each dot corresponds to one student). The dashed line through the middle shows the linear relationship between the two variables. This produces a strong Pearson correlation of $r = .91$. However, the interesting thing to note here is that there's actually a perfect monotonic relationship between the two variables: in this toy example at least, increasing the hours worked always increases the grade received, as illustrated by the solid line. This is reflected in a Spearman correlation of $rho = 1$. With such a small data set, however, it's an open question as to which version better describes the actual relationship involved.\n"
   ]
  },
  {
   "cell_type": "markdown",
   "metadata": {},
   "source": [
    "\n",
    "but this doesn't actually capture the observation that increasing hours worked *always* increases the grade. There's a sense here in which we want to be able to say that the correlation is *perfect* but for a somewhat different notion of what a \"relationship\" is. What we're looking for is something that captures the fact that there is a perfect **_ordinal relationship_** here. That is, if student 1 works more hours than student 2, then we can guarantee that student 1 will get the better grade. That's not what a correlation of $r = .91$ says at all.\n",
    "\n",
    "How should we address this? Actually, it's really easy: if we're looking for ordinal relationships, all we have to do is treat the data as if it were ordinal scale! So, instead of measuring effort in terms of \"hours worked\", lets rank all 10 of our students in order of hours worked. That is, student 1 did the least work out of anyone (2 hours) so they get the lowest rank (rank = 1). Student 4 was the next laziest, putting in only  6 hours of work in over the whole semester, so they get the next lowest rank (rank = 2). Notice that I'm using \"rank = 1\" to mean \"low rank\". Sometimes in everyday language we talk about \"rank = 1\" to mean \"top rank\" rather than \"bottom rank\". So be careful: you can rank \"from smallest value to largest value\" (i.e., small equals rank 1) or you can rank \"from largest value to smallest value\" (i.e., large equals rank 1). \n",
    "\n",
    "Okay, so let's have a look at our students when we rank them from worst to best in terms of effort and reward: \n",
    "\n",
    "\n",
    "|            | rank (hours worked) | rank (grade received) |\n",
    "| :--------: | :-----------------: | :-------------------: |\n",
    "| student 1  |          1          |           1           |\n",
    "| student 2  |         10          |          10           |\n",
    "| student 3  |          6          |           6           |\n",
    "| student 4  |          2          |           2           |\n",
    "| student 5  |          3          |           3           |\n",
    "| student 6  |          5          |           5           |\n",
    "| student 7  |          4          |           4           |\n",
    "| student 8  |          8          |           8           |\n",
    "| student 9  |          7          |           7           |\n",
    "| student 10 |          9          |           9           |\n",
    "\n",
    "\n",
    "Hm. These are *identical*. The student who put in the most effort got the best grade, the student with the least effort got the worst grade, etc. We can get Python to construct new variables with these rankings using the `rank()` method, and specifiying which columns in our dataframe we want to rank, like this:"
   ]
  },
  {
   "cell_type": "code",
   "execution_count": 76,
   "metadata": {},
   "outputs": [],
   "source": [
    "ranked_hours = effort['hours'].rank()\n",
    "ranked_grades = effort['grade'].rank()"
   ]
  },
  {
   "cell_type": "markdown",
   "metadata": {},
   "source": [
    "As the table above shows, these two rankings are identical, so if we now correlate them we get a perfect relationship:"
   ]
  },
  {
   "cell_type": "code",
   "execution_count": 77,
   "metadata": {},
   "outputs": [
    {
     "data": {
      "text/plain": [
       "0.9999999999999999"
      ]
     },
     "execution_count": 77,
     "metadata": {},
     "output_type": "execute_result"
    }
   ],
   "source": [
    "ranked_hours.corr(ranked_grades)"
   ]
  },
  {
   "cell_type": "markdown",
   "metadata": {},
   "source": [
    "What we've just re-invented is **_Spearman's rank order correlation_**, usually denoted $\\rho$ to distinguish it from the Pearson correlation $r$. We can calculate Spearman's $\\rho$ using R in two different ways. Firstly we could do it the way I just showed, using the `rank()` function to construct the rankings, and then calculate the Pearson correlation on these ranks. However, that's way too much effort to do every time. It's much easier to just specify the `method` argument of the `cor()` method. [^note14] Since we are skipping the extra step of \"manually\" creating new, ranked variables, we can just operate directly on the dataframe columns:\n",
    "\n",
    "[^note14]: Yikes, that's two uses of the word method, and they mean different things. Sigh. Language is hard, and things get confusing when code-switching between human language and computer language!"
   ]
  },
  {
   "cell_type": "code",
   "execution_count": 78,
   "metadata": {},
   "outputs": [
    {
     "data": {
      "text/plain": [
       "0.9999999999999999"
      ]
     },
     "execution_count": 78,
     "metadata": {},
     "output_type": "execute_result"
    }
   ],
   "source": [
    "effort['hours'].corr(effort['grade'], method=\"spearman\")"
   ]
  },
  {
   "cell_type": "markdown",
   "metadata": {},
   "source": [
    "The default value of the `method` argument is `\"pearson\"`, which is why we didn't have to specify it earlier on when we were doing Pearson correlations, although we could have, for extra clarity. "
   ]
  },
  {
   "cell_type": "markdown",
   "metadata": {},
   "source": [
    "## Handling missing values\n",
    "\n",
    "Real data sets very frequently turn out to have missing values: perhaps someone forgot to fill in a particular survey question, for instance.  \n",
    "\n",
    "\n",
    "### The single variable case\n",
    "\n",
    "Let's start with the simplest case, in which you're trying to calculate descriptive statistics for a single variable which has missing data. In Python, this means that there will be `nan` (\"not a number\") values in your data vector. Let's create a variable like that:"
   ]
  },
  {
   "cell_type": "code",
   "execution_count": 79,
   "metadata": {},
   "outputs": [],
   "source": [
    "partial = [10, 20, float('nan'), 30]"
   ]
  },
  {
   "cell_type": "markdown",
   "metadata": {},
   "source": [
    "Let's assume that you want to calculate the mean of this variable. By default, Python assumes that we want to calculate the mean using all four elements of this vector. \n",
    "\n",
    "Remember that although `nan` stands for \"not a number\", the more accurate interpretation of `nan` here is \"There should be a number here, but I don't know what that number is\". This means that `1 + nan = nan`: if I add 1 to some number that I don't know (i.e., the `nan`) then the answer is *also* a number that I don't know. As a consequence, if you don't explicitly tell Python to ignore the `nan` values, and the data set does have missing values, then the output will itself be a missing value. If I try to calculate the mean of the `partial` vector, without doing anything about the missing value, here's what happens:"
   ]
  },
  {
   "cell_type": "code",
   "execution_count": 81,
   "metadata": {},
   "outputs": [
    {
     "data": {
      "text/plain": [
       "nan"
      ]
     },
     "execution_count": 81,
     "metadata": {},
     "output_type": "execute_result"
    }
   ],
   "source": [
    "statistics.mean(partial)"
   ]
  },
  {
   "cell_type": "markdown",
   "metadata": {},
   "source": [
    "Technically correct, but deeply unhelpful. There are a few ways to deal with this. The first is to use methods from `numpy`. `numpy` has a collection of methods to calculate nan-friendly versions of your favorite descriptive statistics (although correlation is a special case, more on that below), such as `nanmean`, `nanmedian`, `nanpercentile`, `nanmax`, `nanmin`, `nansum`, `nanstd`, etc. So:"
   ]
  },
  {
   "cell_type": "code",
   "execution_count": 82,
   "metadata": {},
   "outputs": [
    {
     "name": "stdout",
     "output_type": "stream",
     "text": [
      "20.0\n",
      "20.0\n",
      "8.16496580927726\n"
     ]
    }
   ],
   "source": [
    "import numpy as np\n",
    "\n",
    "\n",
    "print(np.nanmean(partial))\n",
    "\n",
    "print(np.nanmedian(partial))\n",
    "\n",
    "print(np.nanstd(partial))\n"
   ]
  },
  {
   "cell_type": "markdown",
   "metadata": {},
   "source": [
    "Now we can get the descriptive statistics we want, without those `nan`s getting in the way. Still, it is a little tedious to need to remember to to use the `np.nan` version of these functions when dealing with data containing `nan`s (which real data sets often do). \n",
    "\n",
    "As a bit of a consolation, `pandas` dataframes can already calculate these statistics for us, and ignore `nan`s by default. So, if we put our data in a `pandas` dataframe, we don't need to worry about it:"
   ]
  },
  {
   "cell_type": "code",
   "execution_count": 83,
   "metadata": {},
   "outputs": [
    {
     "data": {
      "text/html": [
       "<div>\n",
       "<style scoped>\n",
       "    .dataframe tbody tr th:only-of-type {\n",
       "        vertical-align: middle;\n",
       "    }\n",
       "\n",
       "    .dataframe tbody tr th {\n",
       "        vertical-align: top;\n",
       "    }\n",
       "\n",
       "    .dataframe thead th {\n",
       "        text-align: right;\n",
       "    }\n",
       "</style>\n",
       "<table border=\"1\" class=\"dataframe\">\n",
       "  <thead>\n",
       "    <tr style=\"text-align: right;\">\n",
       "      <th></th>\n",
       "      <th>var1</th>\n",
       "      <th>var2</th>\n",
       "      <th>var3</th>\n",
       "    </tr>\n",
       "  </thead>\n",
       "  <tbody>\n",
       "    <tr>\n",
       "      <th>0</th>\n",
       "      <td>10.0</td>\n",
       "      <td>10.0</td>\n",
       "      <td>NaN</td>\n",
       "    </tr>\n",
       "    <tr>\n",
       "      <th>1</th>\n",
       "      <td>20.0</td>\n",
       "      <td>NaN</td>\n",
       "      <td>12.0</td>\n",
       "    </tr>\n",
       "    <tr>\n",
       "      <th>2</th>\n",
       "      <td>NaN</td>\n",
       "      <td>NaN</td>\n",
       "      <td>18.0</td>\n",
       "    </tr>\n",
       "    <tr>\n",
       "      <th>3</th>\n",
       "      <td>30.0</td>\n",
       "      <td>35.0</td>\n",
       "      <td>27.0</td>\n",
       "    </tr>\n",
       "  </tbody>\n",
       "</table>\n",
       "</div>"
      ],
      "text/plain": [
       "   var1  var2  var3\n",
       "0  10.0  10.0   NaN\n",
       "1  20.0   NaN  12.0\n",
       "2   NaN   NaN  18.0\n",
       "3  30.0  35.0  27.0"
      ]
     },
     "execution_count": 83,
     "metadata": {},
     "output_type": "execute_result"
    }
   ],
   "source": [
    "import pandas as pd\n",
    "\n",
    "df = pd.DataFrame(\n",
    "    {'var1': partial,\n",
    "     'var2': [10, float('nan'), float('nan'), 35],\n",
    "     'var3': [float('nan'), 12, 18, 27]\n",
    "    }) \n",
    "\n",
    "df"
   ]
  },
  {
   "cell_type": "code",
   "execution_count": 84,
   "metadata": {},
   "outputs": [
    {
     "name": "stdout",
     "output_type": "stream",
     "text": [
      "20.0\n",
      "20.0\n",
      "10.0\n"
     ]
    }
   ],
   "source": [
    "print(df['var1'].mean())\n",
    "print(df['var1'].median())\n",
    "print(df['var1'].std())"
   ]
  },
  {
   "cell_type": "markdown",
   "metadata": {},
   "source": [
    "This is also great, but there is one little problem. `var1` in our dataframe is the same as the `partial` variable we defined earlier. The mean and median values look the same as when we used the `numpy` methods, but the standard deviation is little bit different. What's up with that? As it turns out, `numpy` and `pandas` calculate standard deviation in slightly different ways: `numpy` uses $N$ in the demoninator, while `pandas` uses the \"unbiased estimator\" $N-1$ in the demoniator. To make `numpy` behave like `pandas`, we need to pass the `ddof=1` argument to `nanmean()`, like so:"
   ]
  },
  {
   "cell_type": "code",
   "execution_count": 85,
   "metadata": {},
   "outputs": [
    {
     "name": "stdout",
     "output_type": "stream",
     "text": [
      "10.0\n",
      "10.0\n"
     ]
    }
   ],
   "source": [
    "print(df['var1'].std())\n",
    "print(np.nanstd(partial, ddof=1))"
   ]
  },
  {
   "cell_type": "markdown",
   "metadata": {},
   "source": [
    "Notice that the mean is `20`  (i.e., `60 / 3`) and *not* `15`. When Python ignores an `nan` value, it genuinely ignores it. In effect, the calculation above is identical to what you'd get if you asked for the mean of the three-element vector `[10, 20, 30]`. This is also why the mean and the median are the same in this case.\n",
    "\n",
    "\n",
    "### Missing values in pairwise calculations\n",
    "\n",
    "Let's look at the data in `parenthood2.csv`. This is just like the `parenthood` data from before, but with some missing values introducd. Maybe I was just too tired some mornings to record the baby's hours of sleep, or to measure my own grumpiness. It happens."
   ]
  },
  {
   "cell_type": "code",
   "execution_count": 86,
   "metadata": {},
   "outputs": [
    {
     "data": {
      "text/html": [
       "<div>\n",
       "<style scoped>\n",
       "    .dataframe tbody tr th:only-of-type {\n",
       "        vertical-align: middle;\n",
       "    }\n",
       "\n",
       "    .dataframe tbody tr th {\n",
       "        vertical-align: top;\n",
       "    }\n",
       "\n",
       "    .dataframe thead th {\n",
       "        text-align: right;\n",
       "    }\n",
       "</style>\n",
       "<table border=\"1\" class=\"dataframe\">\n",
       "  <thead>\n",
       "    <tr style=\"text-align: right;\">\n",
       "      <th></th>\n",
       "      <th>dan_sleep</th>\n",
       "      <th>baby_sleep</th>\n",
       "      <th>dan_grump</th>\n",
       "      <th>day</th>\n",
       "    </tr>\n",
       "  </thead>\n",
       "  <tbody>\n",
       "    <tr>\n",
       "      <th>0</th>\n",
       "      <td>7.59</td>\n",
       "      <td>NaN</td>\n",
       "      <td>56.0</td>\n",
       "      <td>1</td>\n",
       "    </tr>\n",
       "    <tr>\n",
       "      <th>1</th>\n",
       "      <td>7.91</td>\n",
       "      <td>11.66</td>\n",
       "      <td>60.0</td>\n",
       "      <td>2</td>\n",
       "    </tr>\n",
       "    <tr>\n",
       "      <th>2</th>\n",
       "      <td>5.14</td>\n",
       "      <td>7.92</td>\n",
       "      <td>82.0</td>\n",
       "      <td>3</td>\n",
       "    </tr>\n",
       "    <tr>\n",
       "      <th>3</th>\n",
       "      <td>7.71</td>\n",
       "      <td>9.61</td>\n",
       "      <td>55.0</td>\n",
       "      <td>4</td>\n",
       "    </tr>\n",
       "    <tr>\n",
       "      <th>4</th>\n",
       "      <td>6.68</td>\n",
       "      <td>9.75</td>\n",
       "      <td>NaN</td>\n",
       "      <td>5</td>\n",
       "    </tr>\n",
       "  </tbody>\n",
       "</table>\n",
       "</div>"
      ],
      "text/plain": [
       "   dan_sleep  baby_sleep  dan_grump  day\n",
       "0       7.59         NaN       56.0    1\n",
       "1       7.91       11.66       60.0    2\n",
       "2       5.14        7.92       82.0    3\n",
       "3       7.71        9.61       55.0    4\n",
       "4       6.68        9.75        NaN    5"
      ]
     },
     "execution_count": 86,
     "metadata": {},
     "output_type": "execute_result"
    }
   ],
   "source": [
    "import pandas as pd\n",
    "\n",
    "file = '../data/parenthood2.csv'\n",
    "\n",
    "parenthood2 = pd.read_csv(file)\n",
    "parenthood2.head()"
   ]
  },
  {
   "cell_type": "markdown",
   "metadata": {},
   "source": [
    "We can see some of those `nan`s right in the first 5 rows, and if we `describe()` our data, we can get a feeling for how many there are:"
   ]
  },
  {
   "cell_type": "code",
   "execution_count": 87,
   "metadata": {},
   "outputs": [
    {
     "data": {
      "text/html": [
       "<div>\n",
       "<style scoped>\n",
       "    .dataframe tbody tr th:only-of-type {\n",
       "        vertical-align: middle;\n",
       "    }\n",
       "\n",
       "    .dataframe tbody tr th {\n",
       "        vertical-align: top;\n",
       "    }\n",
       "\n",
       "    .dataframe thead th {\n",
       "        text-align: right;\n",
       "    }\n",
       "</style>\n",
       "<table border=\"1\" class=\"dataframe\">\n",
       "  <thead>\n",
       "    <tr style=\"text-align: right;\">\n",
       "      <th></th>\n",
       "      <th>dan_sleep</th>\n",
       "      <th>baby_sleep</th>\n",
       "      <th>dan_grump</th>\n",
       "      <th>day</th>\n",
       "    </tr>\n",
       "  </thead>\n",
       "  <tbody>\n",
       "    <tr>\n",
       "      <th>count</th>\n",
       "      <td>91.000000</td>\n",
       "      <td>89.000000</td>\n",
       "      <td>92.000000</td>\n",
       "      <td>100.000000</td>\n",
       "    </tr>\n",
       "    <tr>\n",
       "      <th>mean</th>\n",
       "      <td>6.976923</td>\n",
       "      <td>8.114494</td>\n",
       "      <td>63.152174</td>\n",
       "      <td>50.500000</td>\n",
       "    </tr>\n",
       "    <tr>\n",
       "      <th>std</th>\n",
       "      <td>1.020409</td>\n",
       "      <td>2.046821</td>\n",
       "      <td>9.851574</td>\n",
       "      <td>29.011492</td>\n",
       "    </tr>\n",
       "    <tr>\n",
       "      <th>min</th>\n",
       "      <td>4.840000</td>\n",
       "      <td>3.250000</td>\n",
       "      <td>41.000000</td>\n",
       "      <td>1.000000</td>\n",
       "    </tr>\n",
       "    <tr>\n",
       "      <th>25%</th>\n",
       "      <td>6.285000</td>\n",
       "      <td>6.460000</td>\n",
       "      <td>56.000000</td>\n",
       "      <td>25.750000</td>\n",
       "    </tr>\n",
       "    <tr>\n",
       "      <th>50%</th>\n",
       "      <td>7.030000</td>\n",
       "      <td>8.200000</td>\n",
       "      <td>61.000000</td>\n",
       "      <td>50.500000</td>\n",
       "    </tr>\n",
       "    <tr>\n",
       "      <th>75%</th>\n",
       "      <td>7.785000</td>\n",
       "      <td>9.610000</td>\n",
       "      <td>70.250000</td>\n",
       "      <td>75.250000</td>\n",
       "    </tr>\n",
       "    <tr>\n",
       "      <th>max</th>\n",
       "      <td>9.000000</td>\n",
       "      <td>12.070000</td>\n",
       "      <td>89.000000</td>\n",
       "      <td>100.000000</td>\n",
       "    </tr>\n",
       "  </tbody>\n",
       "</table>\n",
       "</div>"
      ],
      "text/plain": [
       "       dan_sleep  baby_sleep  dan_grump         day\n",
       "count  91.000000   89.000000  92.000000  100.000000\n",
       "mean    6.976923    8.114494  63.152174   50.500000\n",
       "std     1.020409    2.046821   9.851574   29.011492\n",
       "min     4.840000    3.250000  41.000000    1.000000\n",
       "25%     6.285000    6.460000  56.000000   25.750000\n",
       "50%     7.030000    8.200000  61.000000   50.500000\n",
       "75%     7.785000    9.610000  70.250000   75.250000\n",
       "max     9.000000   12.070000  89.000000  100.000000"
      ]
     },
     "execution_count": 87,
     "metadata": {},
     "output_type": "execute_result"
    }
   ],
   "source": [
    "parenthood2.describe()"
   ]
  },
  {
   "cell_type": "markdown",
   "metadata": {},
   "source": [
    "By looking in the `count` row, we can see that out of the 100 days for which we have data, there are 9 days missing for `dan.sleep`, 11 days missing for `baby.sleep` and eight days missing for `dan.grump`. Suppose what I would like is a correlation matrix. And let's also suppose that I don't bother to tell Python how to handle those missing values. Here's what happens:"
   ]
  },
  {
   "cell_type": "code",
   "execution_count": 88,
   "metadata": {},
   "outputs": [
    {
     "data": {
      "text/html": [
       "<div>\n",
       "<style scoped>\n",
       "    .dataframe tbody tr th:only-of-type {\n",
       "        vertical-align: middle;\n",
       "    }\n",
       "\n",
       "    .dataframe tbody tr th {\n",
       "        vertical-align: top;\n",
       "    }\n",
       "\n",
       "    .dataframe thead th {\n",
       "        text-align: right;\n",
       "    }\n",
       "</style>\n",
       "<table border=\"1\" class=\"dataframe\">\n",
       "  <thead>\n",
       "    <tr style=\"text-align: right;\">\n",
       "      <th></th>\n",
       "      <th>dan_sleep</th>\n",
       "      <th>baby_sleep</th>\n",
       "      <th>dan_grump</th>\n",
       "      <th>day</th>\n",
       "    </tr>\n",
       "  </thead>\n",
       "  <tbody>\n",
       "    <tr>\n",
       "      <th>dan_sleep</th>\n",
       "      <td>1.000000</td>\n",
       "      <td>0.614723</td>\n",
       "      <td>-0.903442</td>\n",
       "      <td>-0.076797</td>\n",
       "    </tr>\n",
       "    <tr>\n",
       "      <th>baby_sleep</th>\n",
       "      <td>0.614723</td>\n",
       "      <td>1.000000</td>\n",
       "      <td>-0.567803</td>\n",
       "      <td>0.058309</td>\n",
       "    </tr>\n",
       "    <tr>\n",
       "      <th>dan_grump</th>\n",
       "      <td>-0.903442</td>\n",
       "      <td>-0.567803</td>\n",
       "      <td>1.000000</td>\n",
       "      <td>0.005833</td>\n",
       "    </tr>\n",
       "    <tr>\n",
       "      <th>day</th>\n",
       "      <td>-0.076797</td>\n",
       "      <td>0.058309</td>\n",
       "      <td>0.005833</td>\n",
       "      <td>1.000000</td>\n",
       "    </tr>\n",
       "  </tbody>\n",
       "</table>\n",
       "</div>"
      ],
      "text/plain": [
       "            dan_sleep  baby_sleep  dan_grump       day\n",
       "dan_sleep    1.000000    0.614723  -0.903442 -0.076797\n",
       "baby_sleep   0.614723    1.000000  -0.567803  0.058309\n",
       "dan_grump   -0.903442   -0.567803   1.000000  0.005833\n",
       "day         -0.076797    0.058309   0.005833  1.000000"
      ]
     },
     "execution_count": 88,
     "metadata": {},
     "output_type": "execute_result"
    }
   ],
   "source": [
    "parenthood2.corr()"
   ]
  },
  {
   "cell_type": "markdown",
   "metadata": {},
   "source": [
    "We *know* there are `nan`s in the data, but `pandas` seems to deal with them handily. This is not untrue, but there is a small but important detail to be aware of. When it encounters data with `nan`s, `pandas` only looks at the pair of variables that it's trying to correlate when determining what to drop. So, for instance, since the only missing value for observation 1 of `parenthood2` is for `baby.sleep`, Python will only drop observation 1 when `baby.sleep` is one of the variables involved, and keeps observation 1 when trying to correlate e.g. `dan.sleep` and `dan.grump`. If we want to simply ignore *all* rows that contain a `nan`, we need to tell `pandas` to drop them, like this:"
   ]
  },
  {
   "cell_type": "code",
   "execution_count": 89,
   "metadata": {},
   "outputs": [
    {
     "data": {
      "text/html": [
       "<div>\n",
       "<style scoped>\n",
       "    .dataframe tbody tr th:only-of-type {\n",
       "        vertical-align: middle;\n",
       "    }\n",
       "\n",
       "    .dataframe tbody tr th {\n",
       "        vertical-align: top;\n",
       "    }\n",
       "\n",
       "    .dataframe thead th {\n",
       "        text-align: right;\n",
       "    }\n",
       "</style>\n",
       "<table border=\"1\" class=\"dataframe\">\n",
       "  <thead>\n",
       "    <tr style=\"text-align: right;\">\n",
       "      <th></th>\n",
       "      <th>dan_sleep</th>\n",
       "      <th>baby_sleep</th>\n",
       "      <th>dan_grump</th>\n",
       "      <th>day</th>\n",
       "    </tr>\n",
       "  </thead>\n",
       "  <tbody>\n",
       "    <tr>\n",
       "      <th>dan_sleep</th>\n",
       "      <td>1.000000</td>\n",
       "      <td>0.639498</td>\n",
       "      <td>-0.899515</td>\n",
       "      <td>0.061329</td>\n",
       "    </tr>\n",
       "    <tr>\n",
       "      <th>baby_sleep</th>\n",
       "      <td>0.639498</td>\n",
       "      <td>1.000000</td>\n",
       "      <td>-0.586561</td>\n",
       "      <td>0.145558</td>\n",
       "    </tr>\n",
       "    <tr>\n",
       "      <th>dan_grump</th>\n",
       "      <td>-0.899515</td>\n",
       "      <td>-0.586561</td>\n",
       "      <td>1.000000</td>\n",
       "      <td>-0.068166</td>\n",
       "    </tr>\n",
       "    <tr>\n",
       "      <th>day</th>\n",
       "      <td>0.061329</td>\n",
       "      <td>0.145558</td>\n",
       "      <td>-0.068166</td>\n",
       "      <td>1.000000</td>\n",
       "    </tr>\n",
       "  </tbody>\n",
       "</table>\n",
       "</div>"
      ],
      "text/plain": [
       "            dan_sleep  baby_sleep  dan_grump       day\n",
       "dan_sleep    1.000000    0.639498  -0.899515  0.061329\n",
       "baby_sleep   0.639498    1.000000  -0.586561  0.145558\n",
       "dan_grump   -0.899515   -0.586561   1.000000 -0.068166\n",
       "day          0.061329    0.145558  -0.068166  1.000000"
      ]
     },
     "execution_count": 89,
     "metadata": {},
     "output_type": "execute_result"
    }
   ],
   "source": [
    "parenthood2.dropna().corr()"
   ]
  },
  {
   "cell_type": "markdown",
   "metadata": {},
   "source": [
    "By checking the length of `parenthood2` and `parenthood2.dropna()`, we can see that using `dropna()` removes 27 entire rows from our data:"
   ]
  },
  {
   "cell_type": "code",
   "execution_count": 90,
   "metadata": {},
   "outputs": [
    {
     "name": "stdout",
     "output_type": "stream",
     "text": [
      "100\n",
      "73\n"
     ]
    }
   ],
   "source": [
    "print(len(parenthood2))\n",
    "print(len(parenthood2.dropna()))"
   ]
  },
  {
   "cell_type": "markdown",
   "metadata": {},
   "source": [
    "The results from `parenthood2.corr()` and `parenthood2.dropna().corr()` are similar, but not quite the same. The two approaches have different strengths and weaknesses. The \"pairwise\" approach, the one in which Python only drops observations when they are involved in the comparison at hand, has the advantage that it keeps more observations, so you're making use of more of your data and this improves the reliability of your estimated correlation. \n",
    "\n",
    "On the other hand, it means that every correlation in your correlation matrix is being computed from a slightly different set of observations.\n",
    " "
   ]
  },
  {
   "cell_type": "markdown",
   "metadata": {},
   "source": [
    "## Summary\n",
    "\n",
    "Calculating some basic descriptive statistics is one of the very first things you do when analysing real data, and descriptive statistics are much simpler to understand than inferential statistics, so like every other statistics textbook I've started with descriptives. In this chapter, we talked about the following topics:\n",
    "\n",
    "\n",
    "- [*Measures of central tendency*](central-tendency). Broadly speaking, central tendency measures tell you where the data are. There's three measures that are typically reported in the literature: the mean, median and mode.\n",
    "- [*Measures of variability*](variability). In contrast, measures of variability tell you about how \"spread out\" the data are. The key measures are: range, standard deviation, interquartile reange \n",
    "- [*Standard scores*](zcores). The $z$-score is a slightly unusual beast. It's not quite a descriptive statistic, and not quite an inference. Make sure you understood this section: it'll come up again later. \n",
    "- [*Correlations*](correlations). Want to know how strong the relationship is between two variables? Calculate a correlation.\n",
    "- [*Missing data*](missing). Dealing with missing data is one of those frustrating things that data analysts really wish the didn't have to think about. In real life it can be hard to do well. For the purpose of this book, we only touched on the basics in this section.\n"
   ]
  },
  {
   "cell_type": "code",
   "execution_count": null,
   "metadata": {},
   "outputs": [],
   "source": []
  }
 ],
 "metadata": {
  "celltoolbar": "Tags",
  "kernelspec": {
   "display_name": "Python 3 (ipykernel)",
   "language": "python",
   "name": "python3"
  },
  "language_info": {
   "codemirror_mode": {
    "name": "ipython",
    "version": 3
   },
   "file_extension": ".py",
   "mimetype": "text/x-python",
   "name": "python",
   "nbconvert_exporter": "python",
   "pygments_lexer": "ipython3",
   "version": "3.8.16"
  }
 },
 "nbformat": 4,
 "nbformat_minor": 4
}
