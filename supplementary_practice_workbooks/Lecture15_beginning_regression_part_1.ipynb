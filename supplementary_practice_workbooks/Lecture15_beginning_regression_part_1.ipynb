{
 "cells": [
  {
   "cell_type": "markdown",
   "metadata": {},
   "source": [
    "# Lecture 15 Predicting Numerical Values: Getting Started with Regression (Part I)"
   ]
  },
  {
   "cell_type": "markdown",
   "metadata": {},
   "source": [
    "## 15.1 Setup"
   ]
  },
  {
   "cell_type": "code",
   "execution_count": 31,
   "metadata": {},
   "outputs": [],
   "source": [
    "import numpy as np\n",
    "import pandas as pd\n",
    "import seaborn as sns\n",
    "\n",
    "import matplotlib.pyplot as plt\n",
    "\n",
    "%matplotlib inline "
   ]
  },
  {
   "cell_type": "markdown",
   "metadata": {},
   "source": [
    "When you include this command (%matplotlib inline) at the beginning of a Jupyter notebook cell and then create a Matplotlib plot, the plot will be displayed directly in the notebook cell, typically right below the code that generated it."
   ]
  },
  {
   "cell_type": "code",
   "execution_count": 32,
   "metadata": {},
   "outputs": [],
   "source": [
    "from sklearn import (datasets,\n",
    "                     linear_model,\n",
    "                     metrics,\n",
    "                     model_selection as skms,\n",
    "                     neighbors)"
   ]
  },
  {
   "cell_type": "code",
   "execution_count": 33,
   "metadata": {},
   "outputs": [],
   "source": [
    "import warnings\n",
    "warnings.filterwarnings('ignore')\n",
    "np.random.seed(42)"
   ]
  },
  {
   "cell_type": "code",
   "execution_count": 4,
   "metadata": {},
   "outputs": [],
   "source": [
    "pd.options.display.float_format = '{:20,.4f}'.format"
   ]
  },
  {
   "cell_type": "markdown",
   "metadata": {},
   "source": [
    "## 15.2 Diabetes Dataset"
   ]
  },
  {
   "cell_type": "markdown",
   "metadata": {},
   "source": [
    "### A Simple Regression Dataset\n",
    "\n",
    "Regression is the process of predicting a finely graded numerical value from inputs. \n",
    "\n",
    "To illustrate, we need a simple dataset that has numerical results. sklearn comes with the diabetes dataset that will serve us nicely. \n",
    "\n",
    "The dataset consists of several biometric and demographic measurements. The version included with sklearn has been modified from raw numerical features by subtracting the mean and dividing by the standard deviation of each column. That process is called standardizing or z-scoring the features. We’ll return to the standard deviation later; briefly, it is a measure of how spread out a set of values are.\n",
    "\n",
    "The net result of standardizing the columns is that each column has a mean of 0 and a standard deviation of 1. \n",
    "\n",
    "We standardize, or otherwise rescale, the data so that differences in feature ranges—heights within 50–100 inches or incomes from $20,000 to $200,000—don’t incur undo weight penalties or benefits just from their scale. We’ll discuss standardization and scaling more in Section 10.3. The categorical values in diabetes were recorded numerically as {0, 1} and then standardized. I mention it to explain why there are negative ages (the mean age is zero after standardizing) and why the sexes are coded, or recorded, as {0.0507, –0.0446} instead of {M, F}.\n"
   ]
  },
  {
   "cell_type": "code",
   "execution_count": 34,
   "metadata": {},
   "outputs": [],
   "source": [
    "diabetes = datasets.load_diabetes()"
   ]
  },
  {
   "cell_type": "code",
   "execution_count": 35,
   "metadata": {},
   "outputs": [],
   "source": [
    "tts = skms.train_test_split(diabetes.data,\n",
    "                            diabetes.target,\n",
    "                            test_size=.25)\n",
    "\n",
    "(diabetes_train_ftrs, diabetes_test_ftrs,\n",
    " diabetes_train_tgt,  diabetes_test_tgt) = tts"
   ]
  },
  {
   "cell_type": "markdown",
   "metadata": {},
   "source": [
    ">'skms' is assumed to be an alias for scikit-learn's model_selection module, often imported as sklearn.model_selection. This module contains functions for various aspects of model selection and data splitting.\n",
    "\n",
    ">train_test_split is a function from scikit-learn that is used to split a dataset into training and testing sets. It takes the following arguments:\n",
    "\n",
    "    diabetes.data: This is assumed to be the feature data of the dataset. It should contain the input variables for your machine learning model.\n",
    "    \n",
    "    diabetes.target: This is assumed to be the target data or labels of the dataset. It should contain the output or target variable you want to predict.\n",
    "    \n",
    "    test_size: This parameter specifies the fraction of the dataset to include in the testing split. In this case, it's set to 25%, meaning 25% of the data will be used for testing, and the remaining 75% will be used for training.\n",
    "    \n",
    "    The train_test_split function returns a tuple, and you've assigned the result to tts."
   ]
  },
  {
   "cell_type": "code",
   "execution_count": 7,
   "metadata": {},
   "outputs": [
    {
     "name": "stdout",
     "output_type": "stream",
     "text": [
      ".. _diabetes_dataset:\n",
      "\n",
      "Diabetes dataset\n",
      "----------------\n",
      "\n",
      "Ten baseline variables, age, sex, body mass index, average blood\n",
      "pressure, and six blood serum measurements were obtained for each of n =\n",
      "442 diabetes patients, as well as the response of interest, a\n",
      "quantitative measure of disease progression one year after baseline.\n",
      "\n",
      "**Data Set Characteristics:**\n",
      "\n",
      "  :Number of Instances: 442\n",
      "\n",
      "  :Number of Attributes: First 10 columns are numeric predictive values\n",
      "\n",
      "  :Target: Column 11 is a quantitative measure of disease progression one year after baseline\n",
      "\n",
      "  :Attribute Information:\n",
      "      - age     age in years\n",
      "      - sex\n",
      "      - bmi     body mass index\n",
      "      - bp      average blood pressure\n",
      "      - s1      tc, total serum cholesterol\n",
      "      - s2      ldl, low-density lipoproteins\n",
      "      - s3      hdl, high-density lipoproteins\n",
      "      - s4      tch, total cholesterol / HDL\n",
      "      - s5      ltg, possibly log of serum triglycerides level\n",
      "      - s6      glu, blood sugar level\n",
      "\n",
      "Note: Each of these 10 feature variables have been mean centered and scaled by the standard deviation times `n_samples` (i.e. the sum of squares of each column totals 1).\n",
      "\n",
      "Source URL:\n",
      "https://www4.stat.ncsu.edu/~boos/var.select/diabetes.html\n",
      "\n",
      "For more information see:\n",
      "Bradley Efron, Trevor Hastie, Iain Johnstone and Robert Tibshirani (2004) \"Least Angle Regression,\" Annals of Statistics (with discussion), 407-499.\n",
      "(https://web.stanford.edu/~hastie/Papers/LARS/LeastAngle_2002.pdf)\n"
     ]
    }
   ],
   "source": [
    "print(diabetes.DESCR)"
   ]
  },
  {
   "cell_type": "markdown",
   "metadata": {},
   "source": [
    ">The print(diabetes.DESCR) statement is used to display the description of the Diabetes dataset in scikit-learn (sklearn). This description provides information about the dataset, its source, and the meaning of the features and target variable."
   ]
  },
  {
   "cell_type": "markdown",
   "metadata": {},
   "source": [
    "We can dress the dataset up with a DataFrame and look at the first few rows:"
   ]
  },
  {
   "cell_type": "code",
   "execution_count": 36,
   "metadata": {},
   "outputs": [
    {
     "data": {
      "text/html": [
       "<div>\n",
       "<style scoped>\n",
       "    .dataframe tbody tr th:only-of-type {\n",
       "        vertical-align: middle;\n",
       "    }\n",
       "\n",
       "    .dataframe tbody tr th {\n",
       "        vertical-align: top;\n",
       "    }\n",
       "\n",
       "    .dataframe thead th {\n",
       "        text-align: right;\n",
       "    }\n",
       "</style>\n",
       "<table border=\"1\" class=\"dataframe\">\n",
       "  <thead>\n",
       "    <tr style=\"text-align: right;\">\n",
       "      <th></th>\n",
       "      <th>age</th>\n",
       "      <th>sex</th>\n",
       "      <th>bmi</th>\n",
       "      <th>bp</th>\n",
       "      <th>s1</th>\n",
       "      <th>s2</th>\n",
       "      <th>s3</th>\n",
       "      <th>s4</th>\n",
       "      <th>s5</th>\n",
       "      <th>s6</th>\n",
       "      <th>target</th>\n",
       "    </tr>\n",
       "  </thead>\n",
       "  <tbody>\n",
       "    <tr>\n",
       "      <th>0</th>\n",
       "      <td>0.0381</td>\n",
       "      <td>0.0507</td>\n",
       "      <td>0.0617</td>\n",
       "      <td>0.0219</td>\n",
       "      <td>-0.0442</td>\n",
       "      <td>-0.0348</td>\n",
       "      <td>-0.0434</td>\n",
       "      <td>-0.0026</td>\n",
       "      <td>0.0199</td>\n",
       "      <td>-0.0176</td>\n",
       "      <td>151.0000</td>\n",
       "    </tr>\n",
       "    <tr>\n",
       "      <th>1</th>\n",
       "      <td>-0.0019</td>\n",
       "      <td>-0.0446</td>\n",
       "      <td>-0.0515</td>\n",
       "      <td>-0.0263</td>\n",
       "      <td>-0.0084</td>\n",
       "      <td>-0.0192</td>\n",
       "      <td>0.0744</td>\n",
       "      <td>-0.0395</td>\n",
       "      <td>-0.0683</td>\n",
       "      <td>-0.0922</td>\n",
       "      <td>75.0000</td>\n",
       "    </tr>\n",
       "    <tr>\n",
       "      <th>2</th>\n",
       "      <td>0.0853</td>\n",
       "      <td>0.0507</td>\n",
       "      <td>0.0445</td>\n",
       "      <td>-0.0057</td>\n",
       "      <td>-0.0456</td>\n",
       "      <td>-0.0342</td>\n",
       "      <td>-0.0324</td>\n",
       "      <td>-0.0026</td>\n",
       "      <td>0.0029</td>\n",
       "      <td>-0.0259</td>\n",
       "      <td>141.0000</td>\n",
       "    </tr>\n",
       "    <tr>\n",
       "      <th>3</th>\n",
       "      <td>-0.0891</td>\n",
       "      <td>-0.0446</td>\n",
       "      <td>-0.0116</td>\n",
       "      <td>-0.0367</td>\n",
       "      <td>0.0122</td>\n",
       "      <td>0.0250</td>\n",
       "      <td>-0.0360</td>\n",
       "      <td>0.0343</td>\n",
       "      <td>0.0227</td>\n",
       "      <td>-0.0094</td>\n",
       "      <td>206.0000</td>\n",
       "    </tr>\n",
       "    <tr>\n",
       "      <th>4</th>\n",
       "      <td>0.0054</td>\n",
       "      <td>-0.0446</td>\n",
       "      <td>-0.0364</td>\n",
       "      <td>0.0219</td>\n",
       "      <td>0.0039</td>\n",
       "      <td>0.0156</td>\n",
       "      <td>0.0081</td>\n",
       "      <td>-0.0026</td>\n",
       "      <td>-0.0320</td>\n",
       "      <td>-0.0466</td>\n",
       "      <td>135.0000</td>\n",
       "    </tr>\n",
       "  </tbody>\n",
       "</table>\n",
       "</div>"
      ],
      "text/plain": [
       "                   age                  sex                  bmi  \\\n",
       "0               0.0381               0.0507               0.0617   \n",
       "1              -0.0019              -0.0446              -0.0515   \n",
       "2               0.0853               0.0507               0.0445   \n",
       "3              -0.0891              -0.0446              -0.0116   \n",
       "4               0.0054              -0.0446              -0.0364   \n",
       "\n",
       "                    bp                   s1                   s2  \\\n",
       "0               0.0219              -0.0442              -0.0348   \n",
       "1              -0.0263              -0.0084              -0.0192   \n",
       "2              -0.0057              -0.0456              -0.0342   \n",
       "3              -0.0367               0.0122               0.0250   \n",
       "4               0.0219               0.0039               0.0156   \n",
       "\n",
       "                    s3                   s4                   s5  \\\n",
       "0              -0.0434              -0.0026               0.0199   \n",
       "1               0.0744              -0.0395              -0.0683   \n",
       "2              -0.0324              -0.0026               0.0029   \n",
       "3              -0.0360               0.0343               0.0227   \n",
       "4               0.0081              -0.0026              -0.0320   \n",
       "\n",
       "                    s6               target  \n",
       "0              -0.0176             151.0000  \n",
       "1              -0.0922              75.0000  \n",
       "2              -0.0259             141.0000  \n",
       "3              -0.0094             206.0000  \n",
       "4              -0.0466             135.0000  "
      ]
     },
     "execution_count": 36,
     "metadata": {},
     "output_type": "execute_result"
    }
   ],
   "source": [
    "diabetes_df = pd.DataFrame(diabetes.data,\n",
    "                           columns=diabetes.feature_names)\n",
    "diabetes_df['target'] = diabetes.target\n",
    "diabetes_df.head()"
   ]
  },
  {
   "cell_type": "markdown",
   "metadata": {},
   "source": [
    "Aside from the ***odd values for seemingly categorical measures like age and sex***, two of the other columns are quickly explainable; the rest are more specialized and somewhat underspecified:\n",
    "\n",
    ">bmi is the body mass index, computed from height and weight, which is an approximation of body-fat percentage,\n",
    "\n",
    ">bp is the blood pressure,\n",
    "\n",
    ">s1–s6 are six blood serum measurements, and\n",
    "\n",
    ">target is a numerical score measuring the progression of a patient’s illness.\n",
    "\n"
   ]
  },
  {
   "cell_type": "code",
   "execution_count": 37,
   "metadata": {},
   "outputs": [
    {
     "data": {
      "text/html": [
       "<div>\n",
       "<style scoped>\n",
       "    .dataframe tbody tr th:only-of-type {\n",
       "        vertical-align: middle;\n",
       "    }\n",
       "\n",
       "    .dataframe tbody tr th {\n",
       "        vertical-align: top;\n",
       "    }\n",
       "\n",
       "    .dataframe thead th {\n",
       "        text-align: right;\n",
       "    }\n",
       "</style>\n",
       "<table border=\"1\" class=\"dataframe\">\n",
       "  <thead>\n",
       "    <tr style=\"text-align: right;\">\n",
       "      <th></th>\n",
       "      <th>age</th>\n",
       "      <th>sex</th>\n",
       "      <th>bmi</th>\n",
       "      <th>bp</th>\n",
       "      <th>s1</th>\n",
       "      <th>s2</th>\n",
       "      <th>s3</th>\n",
       "      <th>s4</th>\n",
       "      <th>s5</th>\n",
       "      <th>s6</th>\n",
       "      <th>target</th>\n",
       "    </tr>\n",
       "  </thead>\n",
       "  <tbody>\n",
       "    <tr>\n",
       "      <th>count</th>\n",
       "      <td>442.0000</td>\n",
       "      <td>442.0000</td>\n",
       "      <td>442.0000</td>\n",
       "      <td>442.0000</td>\n",
       "      <td>442.0000</td>\n",
       "      <td>442.0000</td>\n",
       "      <td>442.0000</td>\n",
       "      <td>442.0000</td>\n",
       "      <td>442.0000</td>\n",
       "      <td>442.0000</td>\n",
       "      <td>442.0000</td>\n",
       "    </tr>\n",
       "    <tr>\n",
       "      <th>mean</th>\n",
       "      <td>-0.0000</td>\n",
       "      <td>0.0000</td>\n",
       "      <td>-0.0000</td>\n",
       "      <td>0.0000</td>\n",
       "      <td>-0.0000</td>\n",
       "      <td>0.0000</td>\n",
       "      <td>-0.0000</td>\n",
       "      <td>0.0000</td>\n",
       "      <td>-0.0000</td>\n",
       "      <td>-0.0000</td>\n",
       "      <td>152.1335</td>\n",
       "    </tr>\n",
       "    <tr>\n",
       "      <th>std</th>\n",
       "      <td>0.0476</td>\n",
       "      <td>0.0476</td>\n",
       "      <td>0.0476</td>\n",
       "      <td>0.0476</td>\n",
       "      <td>0.0476</td>\n",
       "      <td>0.0476</td>\n",
       "      <td>0.0476</td>\n",
       "      <td>0.0476</td>\n",
       "      <td>0.0476</td>\n",
       "      <td>0.0476</td>\n",
       "      <td>77.0930</td>\n",
       "    </tr>\n",
       "    <tr>\n",
       "      <th>min</th>\n",
       "      <td>-0.1072</td>\n",
       "      <td>-0.0446</td>\n",
       "      <td>-0.0903</td>\n",
       "      <td>-0.1124</td>\n",
       "      <td>-0.1268</td>\n",
       "      <td>-0.1156</td>\n",
       "      <td>-0.1023</td>\n",
       "      <td>-0.0764</td>\n",
       "      <td>-0.1261</td>\n",
       "      <td>-0.1378</td>\n",
       "      <td>25.0000</td>\n",
       "    </tr>\n",
       "    <tr>\n",
       "      <th>25%</th>\n",
       "      <td>-0.0373</td>\n",
       "      <td>-0.0446</td>\n",
       "      <td>-0.0342</td>\n",
       "      <td>-0.0367</td>\n",
       "      <td>-0.0342</td>\n",
       "      <td>-0.0304</td>\n",
       "      <td>-0.0351</td>\n",
       "      <td>-0.0395</td>\n",
       "      <td>-0.0332</td>\n",
       "      <td>-0.0332</td>\n",
       "      <td>87.0000</td>\n",
       "    </tr>\n",
       "    <tr>\n",
       "      <th>50%</th>\n",
       "      <td>0.0054</td>\n",
       "      <td>-0.0446</td>\n",
       "      <td>-0.0073</td>\n",
       "      <td>-0.0057</td>\n",
       "      <td>-0.0043</td>\n",
       "      <td>-0.0038</td>\n",
       "      <td>-0.0066</td>\n",
       "      <td>-0.0026</td>\n",
       "      <td>-0.0019</td>\n",
       "      <td>-0.0011</td>\n",
       "      <td>140.5000</td>\n",
       "    </tr>\n",
       "    <tr>\n",
       "      <th>75%</th>\n",
       "      <td>0.0381</td>\n",
       "      <td>0.0507</td>\n",
       "      <td>0.0312</td>\n",
       "      <td>0.0356</td>\n",
       "      <td>0.0284</td>\n",
       "      <td>0.0298</td>\n",
       "      <td>0.0293</td>\n",
       "      <td>0.0343</td>\n",
       "      <td>0.0324</td>\n",
       "      <td>0.0279</td>\n",
       "      <td>211.5000</td>\n",
       "    </tr>\n",
       "    <tr>\n",
       "      <th>max</th>\n",
       "      <td>0.1107</td>\n",
       "      <td>0.0507</td>\n",
       "      <td>0.1706</td>\n",
       "      <td>0.1320</td>\n",
       "      <td>0.1539</td>\n",
       "      <td>0.1988</td>\n",
       "      <td>0.1812</td>\n",
       "      <td>0.1852</td>\n",
       "      <td>0.1336</td>\n",
       "      <td>0.1356</td>\n",
       "      <td>346.0000</td>\n",
       "    </tr>\n",
       "  </tbody>\n",
       "</table>\n",
       "</div>"
      ],
      "text/plain": [
       "                       age                  sex                  bmi  \\\n",
       "count             442.0000             442.0000             442.0000   \n",
       "mean               -0.0000               0.0000              -0.0000   \n",
       "std                 0.0476               0.0476               0.0476   \n",
       "min                -0.1072              -0.0446              -0.0903   \n",
       "25%                -0.0373              -0.0446              -0.0342   \n",
       "50%                 0.0054              -0.0446              -0.0073   \n",
       "75%                 0.0381               0.0507               0.0312   \n",
       "max                 0.1107               0.0507               0.1706   \n",
       "\n",
       "                        bp                   s1                   s2  \\\n",
       "count             442.0000             442.0000             442.0000   \n",
       "mean                0.0000              -0.0000               0.0000   \n",
       "std                 0.0476               0.0476               0.0476   \n",
       "min                -0.1124              -0.1268              -0.1156   \n",
       "25%                -0.0367              -0.0342              -0.0304   \n",
       "50%                -0.0057              -0.0043              -0.0038   \n",
       "75%                 0.0356               0.0284               0.0298   \n",
       "max                 0.1320               0.1539               0.1988   \n",
       "\n",
       "                        s3                   s4                   s5  \\\n",
       "count             442.0000             442.0000             442.0000   \n",
       "mean               -0.0000               0.0000              -0.0000   \n",
       "std                 0.0476               0.0476               0.0476   \n",
       "min                -0.1023              -0.0764              -0.1261   \n",
       "25%                -0.0351              -0.0395              -0.0332   \n",
       "50%                -0.0066              -0.0026              -0.0019   \n",
       "75%                 0.0293               0.0343               0.0324   \n",
       "max                 0.1812               0.1852               0.1336   \n",
       "\n",
       "                        s6               target  \n",
       "count             442.0000             442.0000  \n",
       "mean               -0.0000             152.1335  \n",
       "std                 0.0476              77.0930  \n",
       "min                -0.1378              25.0000  \n",
       "25%                -0.0332              87.0000  \n",
       "50%                -0.0011             140.5000  \n",
       "75%                 0.0279             211.5000  \n",
       "max                 0.1356             346.0000  "
      ]
     },
     "execution_count": 37,
     "metadata": {},
     "output_type": "execute_result"
    }
   ],
   "source": [
    "diabetes_df.describe()"
   ]
  },
  {
   "cell_type": "markdown",
   "metadata": {},
   "source": [
    "As we did with the iris data, we can investigate the bivariate relationships with Seaborn’s pairplot. We’ll keep just a subset of the measurements for this graphic. The resulting mini-plots are still fairly small, but we can still glance through them and look for overall patterns. We can always redo the pairplot with all the features if we want to zoom out for a more global view."
   ]
  },
  {
   "cell_type": "code",
   "execution_count": 12,
   "metadata": {},
   "outputs": [
    {
     "data": {
      "image/png": "[encoded data removed]",
      "text/plain": [
       "<Figure size 686.5x540 with 30 Axes>"
      ]
     },
     "metadata": {
      "needs_background": "light"
     },
     "output_type": "display_data"
    }
   ],
   "source": [
    "sns.pairplot(diabetes_df[['age', 'sex', 'bmi', 'bp', 's1']],\n",
    "             height=1.5, \n",
    "             hue='sex', \n",
    "             plot_kws={'alpha':.2});"
   ]
  },
  {
   "cell_type": "markdown",
   "metadata": {},
   "source": [
    "## 15.3  Measures of Center: Median & Mean"
   ]
  },
  {
   "cell_type": "markdown",
   "metadata": {},
   "source": [
    "The median of a group of numbers is the middle number when that group is written in order. \n",
    "\n",
    "For example, if I have three numbers, listed in order as [1, 8, 10], then 8 is the middle value: there is one number above it and one below. \n",
    "\n",
    "Within a group of numbers, the median has the same count of values below it and above it. To put it another way, if all the numbers have equal weight, regardless of their numerical value, then a scale placed at the median would be balanced. Regardless of the biggest value on the right—be it 15 or 40—the median stays the same."
   ]
  },
  {
   "attachments": {
    "8c505ea0-fcf8-4174-8bd4-bac9902f71b5.png": {
     "image/png": "[encoded data removed]"
    }
   },
   "cell_type": "markdown",
   "metadata": {},
   "source": [
    "![image.png](attachment:8c505ea0-fcf8-4174-8bd4-bac9902f71b5.png)"
   ]
  },
  {
   "cell_type": "markdown",
   "metadata": {},
   "source": [
    "You might be wondering what to do when we have an even number of values, say [1, 2, 3, 4]. The usual way to construct the median is to take the middle two values—the 2 and 3—and take their average, which gives us 2.5. Note that there are still the same number of values, two, above and below this median."
   ]
  },
  {
   "cell_type": "code",
   "execution_count": 8,
   "metadata": {},
   "outputs": [
    {
     "name": "stdout",
     "output_type": "stream",
     "text": [
      "no outlier\n",
      "8.0 8.0\n",
      "with outlier\n",
      "11.57 8.0\n"
     ]
    }
   ],
   "source": [
    "values = np.array([1, 3, 5, 8, 11, 13, 15])\n",
    "print(\"no outlier\")\n",
    "print(np.mean(values),\n",
    "      np.median(values))\n",
    "\n",
    "values_with_outlier = np.array([1, 3, 5, 8, 11, 13, 40])\n",
    "print(\"with outlier\")\n",
    "print(\"%5.2f\" % np.mean(values_with_outlier),\n",
    "      np.median(values_with_outlier))"
   ]
  },
  {
   "cell_type": "code",
   "execution_count": 13,
   "metadata": {},
   "outputs": [
    {
     "data": {
      "text/plain": [
       "3.5555555555555554"
      ]
     },
     "execution_count": 13,
     "metadata": {},
     "output_type": "execute_result"
    }
   ],
   "source": [
    "rolls = np.array([1,6,6,6,2,3,4,3,1])\n",
    "np.mean(rolls)"
   ]
  },
  {
   "cell_type": "code",
   "execution_count": 14,
   "metadata": {},
   "outputs": [
    {
     "data": {
      "text/plain": [
       "3.0"
      ]
     },
     "execution_count": 14,
     "metadata": {},
     "output_type": "execute_result"
    }
   ],
   "source": [
    "np.median(rolls)"
   ]
  },
  {
   "cell_type": "code",
   "execution_count": 15,
   "metadata": {},
   "outputs": [
    {
     "data": {
      "text/plain": [
       "4.666666666666667"
      ]
     },
     "execution_count": 15,
     "metadata": {},
     "output_type": "execute_result"
    }
   ],
   "source": [
    "mistake_rolls = np.array([1,6,6,16,2,3,4,3,1])\n",
    "np.mean(mistake_rolls)"
   ]
  },
  {
   "cell_type": "code",
   "execution_count": 16,
   "metadata": {},
   "outputs": [
    {
     "data": {
      "text/plain": [
       "3.0"
      ]
     },
     "execution_count": 16,
     "metadata": {},
     "output_type": "execute_result"
    }
   ],
   "source": [
    "np.median(mistake_rolls)"
   ]
  },
  {
   "cell_type": "markdown",
   "metadata": {},
   "source": [
    "Now, there are scenarios where we care about the actual numbers, not just their in-order positions. \n",
    "\n",
    "The other familiar way of estimating the center is the mean. \n",
    "\n",
    "Whereas the median balances the count of values to the left and right, the mean balances the total distances to the left and right. So, the mean is the value for which sum(distance(s,mean) for s in smaller) is equal to sum(distance(b,mean) for b in bigger). The only value that meets this constraint is mean=sum(d)/len(d). "
   ]
  },
  {
   "cell_type": "code",
   "execution_count": 17,
   "metadata": {},
   "outputs": [
    {
     "data": {
      "text/plain": [
       "7.0"
      ]
     },
     "execution_count": 17,
     "metadata": {},
     "output_type": "execute_result"
    }
   ],
   "source": [
    "values = np.array([5,7,9])\n",
    "np.mean(values)"
   ]
  },
  {
   "cell_type": "markdown",
   "metadata": {},
   "source": [
    "Beyond the mean and median, there are many possible ways to combine the **nearest-neighbor** answers into an answer for a test example. \n",
    "\n",
    "One combiner that builds on the idea of the mean is a **weighted mean**. In the nearest-neighbor context, we have a perfect candidate to serve as the weighting factor: the distance from our new example to the neighbor. So, instead of neighbors contributing just their values [4.0, 6.0, 8.0], we can also incorporate the distance from each neighbor to our example. Let’s say those distances are [2.0, 4.0, 4.0], i.e. the second and third training examples are twice as far from our test example as the first one. A simple way to incorporate the distance is to compute a weighted average using"
   ]
  },
  {
   "cell_type": "code",
   "execution_count": 9,
   "metadata": {},
   "outputs": [
    {
     "data": {
      "text/plain": [
       "array([0.5 , 0.25, 0.25])"
      ]
     },
     "execution_count": 9,
     "metadata": {},
     "output_type": "execute_result"
    }
   ],
   "source": [
    "distances = np.array([2.0, 4.0, 4.0])\n",
    "closeness = 1.0 / distances             # element-by-element division\n",
    "weights = closeness / np.sum(closeness) # normalize sum to one\n",
    "weights"
   ]
  },
  {
   "cell_type": "code",
   "execution_count": 10,
   "metadata": {},
   "outputs": [
    {
     "name": "stdout",
     "output_type": "stream",
     "text": [
      "Mean: 6.0\n",
      "Weighted Mean: 5.5\n"
     ]
    }
   ],
   "source": [
    "values = np.array([4, 6, 8])\n",
    "\n",
    "mean = np.mean(values)\n",
    "wgt_mean = np.dot(values, weights)\n",
    "\n",
    "print(\"Mean:\", mean)\n",
    "print(\"Weighted Mean:\", wgt_mean)"
   ]
  },
  {
   "cell_type": "code",
   "execution_count": 11,
   "metadata": {},
   "outputs": [
    {
     "data": {
      "text/plain": [
       "5.5"
      ]
     },
     "execution_count": 11,
     "metadata": {},
     "output_type": "execute_result"
    }
   ],
   "source": [
    "wgt = np.array([.5, .25, .25])\n",
    "np.dot(wgt, values)"
   ]
  },
  {
   "cell_type": "code",
   "execution_count": 12,
   "metadata": {},
   "outputs": [
    {
     "data": {
      "text/plain": [
       "6.0"
      ]
     },
     "execution_count": 12,
     "metadata": {},
     "output_type": "execute_result"
    }
   ],
   "source": [
    "wgt = np.array([1/3, 1/3, 1/3])\n",
    "np.dot(wgt, values)"
   ]
  },
  {
   "cell_type": "markdown",
   "metadata": {},
   "source": [
    "## 15.4 Building a k-NN Regression Model"
   ]
  },
  {
   "cell_type": "markdown",
   "metadata": {},
   "source": [
    "Building a k-Nearest Neighbors (k-NN) regression model involves several steps. k-NN regression is a type of supervised learning algorithm used for predicting a continuous target variable. Here's a step-by-step guide on how to build a k-NN regression model:\n",
    "\n",
    " 1. **Data Preparation**:\n",
    "   - Load and preprocess your dataset. Make sure you have the feature variables and the target variable ready.\n",
    "   - Split your dataset into training and testing sets. The training set will be used to train the model, and the testing set will be used to evaluate its performance.\n"
   ]
  },
  {
   "cell_type": "markdown",
   "metadata": {},
   "source": [
    "\n",
    "2. **Choose the Number of Neighbors (k)**:\n",
    "   - Decide on the value of `k`, which is the number of nearest neighbors to consider when making predictions. You may need to experiment with different values of `k` to find the one that provides the best performance on your dataset. Common choices include odd numbers like 3, 5, or 7.\n"
   ]
  },
  {
   "cell_type": "code",
   "execution_count": 14,
   "metadata": {},
   "outputs": [],
   "source": [
    "k = 3"
   ]
  },
  {
   "cell_type": "markdown",
   "metadata": {},
   "source": [
    "3. **Train the k-NN Regression Model**:\n",
    "   - Using the training data, fit the k-NN regression model to your data. This involves storing the training data in a data structure that allows for efficient nearest neighbor searches during prediction."
   ]
  },
  {
   "cell_type": "code",
   "execution_count": 38,
   "metadata": {},
   "outputs": [],
   "source": [
    "# from sklearn.neighbors import KNeighborsRegressor\n",
    "## Create the k-NN regression model\n",
    "knn = neighbors.KNeighborsRegressor(n_neighbors=k)\n",
    "\n",
    "# Train the model on the training data\n",
    "fit = knn.fit(diabetes_train_ftrs, diabetes_train_tgt)"
   ]
  },
  {
   "cell_type": "markdown",
   "metadata": {},
   "source": [
    "4. **Make Predictions**:\n",
    "\n",
    "   - Use the trained model to make predictions on the testing data.\n"
   ]
  },
  {
   "cell_type": "code",
   "execution_count": 18,
   "metadata": {},
   "outputs": [],
   "source": [
    "preds = knn.predict(diabetes_test_ftrs)"
   ]
  },
  {
   "cell_type": "markdown",
   "metadata": {},
   "source": [
    "5. **Evaluate the Model**:\n",
    "   - Evaluate the performance of the k-NN regression model using appropriate regression evaluation metrics. Common metrics include Mean Absolute Error (MAE), Mean Squared Error (MSE), Root Mean Squared Error (RMSE), and R-squared (R²).\n"
   ]
  },
  {
   "cell_type": "code",
   "execution_count": 23,
   "metadata": {},
   "outputs": [
    {
     "name": "stdout",
     "output_type": "stream",
     "text": [
      "Mean Squared Error: 3471.42\n"
     ]
    }
   ],
   "source": [
    "#from sklearn.metrics import mean_squared_error, r2_score\n",
    "\n",
    "mse = metrics.mean_squared_error(diabetes_test_tgt, preds)\n",
    "print(f\"Mean Squared Error: {mse:.2f}\")\n"
   ]
  },
  {
   "cell_type": "code",
   "execution_count": 24,
   "metadata": {},
   "outputs": [
    {
     "name": "stdout",
     "output_type": "stream",
     "text": [
      "R-squared (R²): 0.37\n"
     ]
    }
   ],
   "source": [
    "r2 = metrics.r2_score(diabetes_test_tgt, preds)\n",
    "print(f\"R-squared (R²): {r2:.2f}\")"
   ]
  },
  {
   "cell_type": "code",
   "execution_count": 27,
   "metadata": {},
   "outputs": [
    {
     "name": "stdout",
     "output_type": "stream",
     "text": [
      "Mean Absolute Error (MAE): 44.62\n",
      "Root Mean Squared Error (RMSE): 58.92\n"
     ]
    }
   ],
   "source": [
    "# Calculate Mean Absolute Error (MAE)\n",
    "mae = metrics.mean_absolute_error(diabetes_test_tgt, preds)\n",
    "\n",
    "# Calculate Root Mean Squared Error (RMSE)\n",
    "rmse = np.sqrt(metrics.mean_squared_error(diabetes_test_tgt, preds))\n",
    "\n",
    "print(f\"Mean Absolute Error (MAE): {mae:.2f}\")\n",
    "print(f\"Root Mean Squared Error (RMSE): {rmse:.2f}\")"
   ]
  },
  {
   "cell_type": "markdown",
   "metadata": {},
   "source": [
    "6. **Tune Hyperparameters**:\n",
    "   - If the model's performance is not satisfactory, you may need to fine-tune hyperparameters such as `k` and the choice of distance metric.\n",
    "\n",
    "\n",
    "Remember that k-NN regression is a simple and interpretable model, but its performance can be sensitive to the choice of `k` and the distance metric. Experimentation and careful hyperparameter tuning are often necessary to get the best results for your specific problem."
   ]
  },
  {
   "cell_type": "code",
   "execution_count": 43,
   "metadata": {},
   "outputs": [
    {
     "data": {
      "text/plain": [
       "58.9187576243763"
      ]
     },
     "execution_count": 43,
     "metadata": {},
     "output_type": "execute_result"
    }
   ],
   "source": [
    "np.sqrt(3471.42)"
   ]
  },
  {
   "cell_type": "markdown",
   "metadata": {},
   "source": [
    "Now, let’s look at the range of values that the target can take:"
   ]
  },
  {
   "cell_type": "code",
   "execution_count": 42,
   "metadata": {},
   "outputs": [
    {
     "data": {
      "text/plain": [
       "321.0"
      ]
     },
     "execution_count": 42,
     "metadata": {},
     "output_type": "execute_result"
    }
   ],
   "source": [
    "diabetes_df['target'].max() - diabetes_df['target'].min() "
   ]
  },
  {
   "cell_type": "markdown",
   "metadata": {},
   "source": [
    "So, the target values span about 300 units and our predictions are off—in some average sense—by 60 units. That’s around 20%. Whether or not that is “good enough” depends on many other factors which we will discuss later."
   ]
  },
  {
   "cell_type": "markdown",
   "metadata": {},
   "source": [
    ">We built a KNeighborsRegressor model.\n",
    "\n",
    ">We used mean_squared_error, r2,  and mean_absolute_error metrics."
   ]
  },
  {
   "cell_type": "markdown",
   "metadata": {},
   "source": [
    "## 15.5 Linear Regression"
   ]
  },
  {
   "cell_type": "markdown",
   "metadata": {},
   "source": [
    "We’re going to dive into linear regression (LR)—which is just a fancy name for drawing a straight line through a set of data points. \n",
    "\n",
    "LR has a long history throughout math and science. You may have been exposed to it before. You may have seen LR in an algebra or statistics class. Here’s a very different presentation."
   ]
  },
  {
   "cell_type": "markdown",
   "metadata": {},
   "source": [
    "Do you like to draw? Take a pen and draw a bunch of dots on a piece of paper. Now, draw a single straight line through the dots. You might have encountered a problem already. If there were more than two dots, there are many, many different lines you could potentially draw. The idea of drawing a line through the dots gets a general idea across, but it doesn’t give us a reproducible way of specifying or completing the task.\n",
    "\n",
    "One way of picking a specific line through the dots is to say we want a best line — problem solved. I want the line that stays closest to the dots based on the vertical distance from the dots to the line. Now we’re getting somewhere. We have something we can calculate to compare different alternatives.\n",
    "\n",
    "Which line is best under that criteria? \n",
    "\n",
    "Let me start by simplifying a little bit. Imagine we can only draw lines that are parallel to the bottom of the piece of paper. You can think about moving the line like raising or lowering an Olympic high-jump bar: it stays parallel to the ground. \n",
    "\n",
    "If I start sliding the line up and down, I’m going to start far away from all the points, move close to some points, slide onwards to a great, just-right middle ground, move close to other points, and finally end up far away from everything. Yes, the idea of a happy medium—too hot, too cold, and just right—applies here. We’ll see this example in code and graphics in just a moment. At the risk of becoming too abstract too quickly, we are limited to drawing lines like y = c. In English, that means the height of our bar is always equal to some constant, fixed value."
   ]
  },
  {
   "cell_type": "code",
   "execution_count": 44,
   "metadata": {},
   "outputs": [],
   "source": [
    "def axis_helper(ax, lims):\n",
    "    'clean up axes'\n",
    "    ax.set_xlim(lims); ax.set_xticks([])\n",
    "    ax.set_ylim(lims); ax.set_yticks([])\n",
    "    ax.set_aspect('equal')"
   ]
  },
  {
   "cell_type": "code",
   "execution_count": 45,
   "metadata": {},
   "outputs": [],
   "source": [
    "def process(D, model, ax):\n",
    "    x,y = D[:,0], D[:,1]\n",
    "    m,b = model   # y=mx+b\n",
    "    \n",
    "    axis_helper(ax, (0,8))\n",
    "    \n",
    "    # draws the data\n",
    "    ax.plot(x,y,'ro')\n",
    "    \n",
    "    # drawing the line\n",
    "    helper_xs   = np.array([0,8])\n",
    "    helper_line = m * helper_xs + b  # y=mx+b\n",
    "    ax.plot(helper_xs, helper_line, color='y')\n",
    "    \n",
    "    # calculate the errors\n",
    "    predictions = m * x + b\n",
    "    errors = y - predictions\n",
    "    \n",
    "    # plot errors\n",
    "    ax.vlines(x, predictions, y)\n",
    "    \n",
    "    # return the results\n",
    "    sse = np.dot(errors, errors)  # sum-of-squared-errors\n",
    "    return (errors, errors.sum(), sse, np.sqrt(sse))\n"
   ]
  },
  {
   "cell_type": "code",
   "execution_count": 46,
   "metadata": {},
   "outputs": [
    {
     "data": {
      "text/plain": [
       "array([[0. , 1. ],\n",
       "       [0. , 2. ],\n",
       "       [0. , 3. ],\n",
       "       [0. , 3.5],\n",
       "       [0. , 4. ],\n",
       "       [0. , 5. ]])"
      ]
     },
     "execution_count": 46,
     "metadata": {},
     "output_type": "execute_result"
    }
   ],
   "source": [
    "D = np.array([[3,5],\n",
    "              [4,2]])\n",
    "\n",
    "# very simple horizontal lines\n",
    "# y=mx+b .... m is 0, line is horizontal\n",
    "bs = np.array([1,2,3,3.5,4,5])\n",
    "horizontal_lines = np.c_[np.zeros_like(bs),\n",
    "                         bs]\n",
    "horizontal_lines"
   ]
  },
  {
   "cell_type": "code",
   "execution_count": 47,
   "metadata": {},
   "outputs": [
    {
     "data": {
      "image/png": "[encoded data removed]",
      "text/plain": [
       "<Figure size 1000x500 with 6 Axes>"
      ]
     },
     "metadata": {},
     "output_type": "display_data"
    }
   ],
   "source": [
    "col_labels = ['Raw Errors', 'Sum', 'SSE', 'TotalDist']\n",
    "fig, axes = plt.subplots(1,6,figsize=(10,5))\n",
    "records = [process(D, mod, ax) for mod, ax in zip(horizontal_lines, \n",
    "                                                 axes.flat)]\n",
    "df = pd.DataFrame.from_records(records, columns=col_labels)"
   ]
  },
  {
   "cell_type": "code",
   "execution_count": 48,
   "metadata": {},
   "outputs": [
    {
     "data": {
      "text/html": [
       "<div>\n",
       "<style scoped>\n",
       "    .dataframe tbody tr th:only-of-type {\n",
       "        vertical-align: middle;\n",
       "    }\n",
       "\n",
       "    .dataframe tbody tr th {\n",
       "        vertical-align: top;\n",
       "    }\n",
       "\n",
       "    .dataframe thead th {\n",
       "        text-align: right;\n",
       "    }\n",
       "</style>\n",
       "<table border=\"1\" class=\"dataframe\">\n",
       "  <thead>\n",
       "    <tr style=\"text-align: right;\">\n",
       "      <th></th>\n",
       "      <th>Raw Errors</th>\n",
       "      <th>Sum</th>\n",
       "      <th>SSE</th>\n",
       "      <th>TotalDist</th>\n",
       "    </tr>\n",
       "  </thead>\n",
       "  <tbody>\n",
       "    <tr>\n",
       "      <th>0</th>\n",
       "      <td>[4.0, 1.0]</td>\n",
       "      <td>5.0000</td>\n",
       "      <td>17.0000</td>\n",
       "      <td>4.1231</td>\n",
       "    </tr>\n",
       "    <tr>\n",
       "      <th>1</th>\n",
       "      <td>[3.0, 0.0]</td>\n",
       "      <td>3.0000</td>\n",
       "      <td>9.0000</td>\n",
       "      <td>3.0000</td>\n",
       "    </tr>\n",
       "    <tr>\n",
       "      <th>2</th>\n",
       "      <td>[2.0, -1.0]</td>\n",
       "      <td>1.0000</td>\n",
       "      <td>5.0000</td>\n",
       "      <td>2.2361</td>\n",
       "    </tr>\n",
       "    <tr>\n",
       "      <th>3</th>\n",
       "      <td>[1.5, -1.5]</td>\n",
       "      <td>0.0000</td>\n",
       "      <td>4.5000</td>\n",
       "      <td>2.1213</td>\n",
       "    </tr>\n",
       "    <tr>\n",
       "      <th>4</th>\n",
       "      <td>[1.0, -2.0]</td>\n",
       "      <td>-1.0000</td>\n",
       "      <td>5.0000</td>\n",
       "      <td>2.2361</td>\n",
       "    </tr>\n",
       "    <tr>\n",
       "      <th>5</th>\n",
       "      <td>[0.0, -3.0]</td>\n",
       "      <td>-3.0000</td>\n",
       "      <td>9.0000</td>\n",
       "      <td>3.0000</td>\n",
       "    </tr>\n",
       "  </tbody>\n",
       "</table>\n",
       "</div>"
      ],
      "text/plain": [
       "    Raw Errors                  Sum                  SSE            TotalDist\n",
       "0   [4.0, 1.0]               5.0000              17.0000               4.1231\n",
       "1   [3.0, 0.0]               3.0000               9.0000               3.0000\n",
       "2  [2.0, -1.0]               1.0000               5.0000               2.2361\n",
       "3  [1.5, -1.5]               0.0000               4.5000               2.1213\n",
       "4  [1.0, -2.0]              -1.0000               5.0000               2.2361\n",
       "5  [0.0, -3.0]              -3.0000               9.0000               3.0000"
      ]
     },
     "execution_count": 48,
     "metadata": {},
     "output_type": "execute_result"
    }
   ],
   "source": [
    "df"
   ]
  },
  {
   "cell_type": "code",
   "execution_count": 35,
   "metadata": {},
   "outputs": [
    {
     "data": {
      "image/png": "[encoded data removed]",
      "text/plain": [
       "<Figure size 864x432 with 5 Axes>"
      ]
     },
     "metadata": {},
     "output_type": "display_data"
    }
   ],
   "source": [
    "lines_mb = np.array([[ 1, 0],\n",
    "                     [ 1, 1],\n",
    "                     [ 1, 2],\n",
    "                     [-1, 8],\n",
    "                     [-3,14]])\n",
    "\n",
    "fig, axes = plt.subplots(1,5,figsize=(12,6))\n",
    "records = [process(D, mod, ax) for mod, ax in zip(lines_mb, \n",
    "                                                  axes.flat)]\n",
    "df = pd.DataFrame.from_records(records, columns=col_labels)"
   ]
  },
  {
   "cell_type": "code",
   "execution_count": 51,
   "metadata": {},
   "outputs": [],
   "source": [
    "lr = linear_model.LinearRegression()\n",
    "fit = lr.fit(diabetes_train_ftrs, diabetes_train_tgt)\n",
    "preds = fit.predict(diabetes_test_ftrs)\n"
   ]
  },
  {
   "cell_type": "code",
   "execution_count": 52,
   "metadata": {},
   "outputs": [
    {
     "name": "stdout",
     "output_type": "stream",
     "text": [
      "Mean Absolute Error (MAE): 41.55\n",
      "Mean Squared Error (MSE): 2848.30\n",
      "Root Mean Squared Error (RMSE): 53.37\n",
      "R-squared (R²): 0.48\n"
     ]
    }
   ],
   "source": [
    "from sklearn.metrics import mean_absolute_error, mean_squared_error, r2_score\n",
    "\n",
    "\n",
    "mae = mean_absolute_error(diabetes_test_tgt, preds)\n",
    "mse = mean_squared_error(diabetes_test_tgt, preds)\n",
    "rmse = np.sqrt(mse)\n",
    "r2 = r2_score(diabetes_test_tgt, preds)\n",
    "\n",
    "print(f\"Mean Absolute Error (MAE): {mae:.2f}\")\n",
    "print(f\"Mean Squared Error (MSE): {mse:.2f}\")\n",
    "print(f\"Root Mean Squared Error (RMSE): {rmse:.2f}\")\n",
    "print(f\"R-squared (R²): {r2:.2f}\")\n"
   ]
  },
  {
   "cell_type": "code",
   "execution_count": null,
   "metadata": {},
   "outputs": [],
   "source": []
  }
 ],
 "metadata": {
  "kernelspec": {
   "display_name": "Python 3 (ipykernel)",
   "language": "python",
   "name": "python3"
  },
  "language_info": {
   "codemirror_mode": {
    "name": "ipython",
    "version": 3
   },
   "file_extension": ".py",
   "mimetype": "text/x-python",
   "name": "python",
   "nbconvert_exporter": "python",
   "pygments_lexer": "ipython3",
   "version": "3.8.16"
  }
 },
 "nbformat": 4,
 "nbformat_minor": 4
}
