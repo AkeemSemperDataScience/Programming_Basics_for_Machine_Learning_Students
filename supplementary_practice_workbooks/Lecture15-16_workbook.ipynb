{
  "cells": [
    {
      "cell_type": "markdown",
      "metadata": {
        "id": "view-in-github",
        "colab_type": "text"
      },
      "source": [
        "<a href=\"https://colab.research.google.com/github/DATA3320/DATA3320_1231/blob/main/workbooks/Lecture15-16_workbook.ipynb\" target=\"_parent\"><img src=\"https://colab.research.google.com/assets/colab-badge.svg\" alt=\"Open In Colab\"/></a>"
      ]
    },
    {
      "cell_type": "markdown",
      "id": "1071526e-31d5-45a0-bf26-79a6733f13ec",
      "metadata": {
        "id": "1071526e-31d5-45a0-bf26-79a6733f13ec"
      },
      "source": [
        "# Lecture 15 Workbook"
      ]
    },
    {
      "cell_type": "markdown",
      "id": "eff31656-d19d-4938-936c-6c553dfb79ce",
      "metadata": {
        "id": "eff31656-d19d-4938-936c-6c553dfb79ce"
      },
      "source": [
        "Please create a Jupyter Notebook that demonstrates k-Nearest Neighbors (k-NN) regression and Linear Regression on the Wine Quality dataset. https://raw.githubusercontent.com/DATA3320/DATA3320_1231/main/data/winequality.csv"
      ]
    },
    {
      "cell_type": "markdown",
      "id": "4ea61654-6fa3-44b5-8d7b-7237bb4fc665",
      "metadata": {
        "id": "4ea61654-6fa3-44b5-8d7b-7237bb4fc665"
      },
      "source": [
        "1. **Import Required Libraries**:\n",
        "   Import the necessary Python libraries, including scikit-learn, to perform k-NN regression and Linear Regression."
      ]
    },
    {
      "cell_type": "code",
      "execution_count": null,
      "id": "da87ea14-f4ab-4e84-9b31-85d19bb8d65e",
      "metadata": {
        "id": "da87ea14-f4ab-4e84-9b31-85d19bb8d65e"
      },
      "outputs": [],
      "source": []
    },
    {
      "cell_type": "markdown",
      "id": "7378dc3a-a120-435f-9b47-c19edf9a1064",
      "metadata": {
        "id": "7378dc3a-a120-435f-9b47-c19edf9a1064"
      },
      "source": [
        "2. **Load the Dataset and conduct EDA**"
      ]
    },
    {
      "cell_type": "code",
      "execution_count": null,
      "id": "37988e33-45f7-4404-8359-d3f203ce8467",
      "metadata": {
        "id": "37988e33-45f7-4404-8359-d3f203ce8467"
      },
      "outputs": [],
      "source": [
        "# Load the Wine Quality dataset\n"
      ]
    },
    {
      "cell_type": "markdown",
      "id": "a531b2e8-8763-41ca-af2c-d722ebc356f3",
      "metadata": {
        "id": "a531b2e8-8763-41ca-af2c-d722ebc356f3"
      },
      "source": [
        "Let’s impute the missing values by means as the data present in the different columns are continuous values."
      ]
    },
    {
      "cell_type": "code",
      "execution_count": null,
      "id": "07dbe39c-ae7f-4641-9d54-6e7acaf6ee68",
      "metadata": {
        "id": "07dbe39c-ae7f-4641-9d54-6e7acaf6ee68"
      },
      "outputs": [],
      "source": []
    },
    {
      "cell_type": "markdown",
      "id": "34af46c8-ec6b-4881-9854-da041b595424",
      "metadata": {
        "id": "34af46c8-ec6b-4881-9854-da041b595424"
      },
      "source": [
        "Let’s draw the histogram to visualise the distribution of the data with continuous values in the columns of the dataset."
      ]
    },
    {
      "cell_type": "code",
      "execution_count": null,
      "id": "2c821ae1-ee1d-4c45-9133-df1fb92fb9ce",
      "metadata": {
        "id": "2c821ae1-ee1d-4c45-9133-df1fb92fb9ce"
      },
      "outputs": [],
      "source": []
    },
    {
      "cell_type": "code",
      "execution_count": null,
      "id": "362a9130-09ad-402f-9043-e5593c269816",
      "metadata": {
        "id": "362a9130-09ad-402f-9043-e5593c269816"
      },
      "outputs": [],
      "source": [
        "X_wine = wine_data.drop(\"quality\", axis=1)\n",
        "y_wine = wine_data[\"quality\"]\n"
      ]
    },
    {
      "cell_type": "markdown",
      "id": "2aaaf304-317e-4890-b3de-9d16afee2396",
      "metadata": {
        "id": "2aaaf304-317e-4890-b3de-9d16afee2396"
      },
      "source": [
        "3. **k-NN Regression**:\n",
        "   Perform k-NN regression on the Wine Quality dataset and evaluate the model's performance."
      ]
    },
    {
      "cell_type": "markdown",
      "id": "5a77b789-24d8-41f0-8793-bb72baa90e27",
      "metadata": {
        "id": "5a77b789-24d8-41f0-8793-bb72baa90e27"
      },
      "source": [
        "After segregating features and the target variable from the dataset we will split it into 80:20 ratio for model selection."
      ]
    },
    {
      "cell_type": "code",
      "execution_count": null,
      "id": "8cdd4198-f7fb-406f-abfc-f006e3de3091",
      "metadata": {
        "id": "8cdd4198-f7fb-406f-abfc-f006e3de3091"
      },
      "outputs": [],
      "source": []
    },
    {
      "cell_type": "markdown",
      "id": "170abb30-49fb-4c2e-8d29-20f2b2aafe9a",
      "metadata": {
        "id": "170abb30-49fb-4c2e-8d29-20f2b2aafe9a"
      },
      "source": [
        "4. **Linear Regression**:\n",
        "   Perform Linear Regression on the Wine Quality dataset and evaluate the model's performance.\n"
      ]
    },
    {
      "cell_type": "code",
      "execution_count": null,
      "id": "f4a786d2-d49f-4ab5-8ef9-21b1b1db6d1f",
      "metadata": {
        "id": "f4a786d2-d49f-4ab5-8ef9-21b1b1db6d1f"
      },
      "outputs": [],
      "source": []
    },
    {
      "cell_type": "markdown",
      "id": "db2ae518-16b1-4a92-8837-85ace6b3e42f",
      "metadata": {
        "id": "db2ae518-16b1-4a92-8837-85ace6b3e42f"
      },
      "source": [
        "5. **Summary**:\n",
        "   Display a summary of the results in your Jupyter Notebook."
      ]
    },
    {
      "cell_type": "code",
      "execution_count": null,
      "id": "f8d22b4b-ac3c-4bc6-ab3c-f214ecda5ad3",
      "metadata": {
        "id": "f8d22b4b-ac3c-4bc6-ab3c-f214ecda5ad3"
      },
      "outputs": [],
      "source": []
    },
    {
      "cell_type": "markdown",
      "id": "a717ee77-1541-4a0d-a660-de401ccd18d7",
      "metadata": {
        "id": "a717ee77-1541-4a0d-a660-de401ccd18d7"
      },
      "source": [
        "6. **Visualizations** (Optional):\n",
        "   You can create visualizations such as scatter plots or regression plots to better understand the results."
      ]
    },
    {
      "cell_type": "markdown",
      "id": "4dce518b-dd1a-43f8-bed7-2f2e7e55d449",
      "metadata": {
        "id": "4dce518b-dd1a-43f8-bed7-2f2e7e55d449"
      },
      "source": [
        "To create visualizations like scatter plots and regression plots to better understand the results of k-NN regression and Linear Regression (LR), you can use libraries such as Matplotlib and Seaborn. Here are some examples of how to create these visualizations:\n"
      ]
    },
    {
      "cell_type": "code",
      "execution_count": null,
      "id": "5ca777d0-53c3-440e-8b7c-a3adb9981c2e",
      "metadata": {
        "id": "5ca777d0-53c3-440e-8b7c-a3adb9981c2e"
      },
      "outputs": [],
      "source": []
    },
    {
      "cell_type": "code",
      "execution_count": null,
      "id": "1f5e5f5f-092f-4040-ba7c-2af32a808194",
      "metadata": {
        "id": "1f5e5f5f-092f-4040-ba7c-2af32a808194"
      },
      "outputs": [],
      "source": []
    }
  ],
  "metadata": {
    "kernelspec": {
      "display_name": "Python 3 (ipykernel)",
      "language": "python",
      "name": "python3"
    },
    "language_info": {
      "codemirror_mode": {
        "name": "ipython",
        "version": 3
      },
      "file_extension": ".py",
      "mimetype": "text/x-python",
      "name": "python",
      "nbconvert_exporter": "python",
      "pygments_lexer": "ipython3",
      "version": "3.8.16"
    },
    "colab": {
      "provenance": [],
      "include_colab_link": true
    }
  },
  "nbformat": 4,
  "nbformat_minor": 5
}