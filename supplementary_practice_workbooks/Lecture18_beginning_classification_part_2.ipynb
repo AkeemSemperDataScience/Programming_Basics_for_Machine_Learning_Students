{
 "cells": [
  {
   "cell_type": "markdown",
   "metadata": {},
   "source": [
    "# Lecture 18 Classification Part II"
   ]
  },
  {
   "cell_type": "markdown",
   "metadata": {},
   "source": [
    "## Setup"
   ]
  },
  {
   "cell_type": "code",
   "execution_count": 1,
   "metadata": {},
   "outputs": [
    {
     "name": "stdout",
     "output_type": "stream",
     "text": [
      "Requirement already satisfied: memory-profiler in c:\\users\\dongy\\anaconda3\\lib\\site-packages (0.61.0)\n",
      "Requirement already satisfied: psutil in c:\\users\\dongy\\anaconda3\\lib\\site-packages (from memory-profiler) (5.9.0)\n",
      "Note: you may need to restart the kernel to use updated packages.\n"
     ]
    },
    {
     "name": "stderr",
     "output_type": "stream",
     "text": [
      "WARNING: Ignoring invalid distribution -atplotlib (c:\\users\\dongy\\anaconda3\\lib\\site-packages)\n",
      "WARNING: Ignoring invalid distribution -atplotlib (c:\\users\\dongy\\anaconda3\\lib\\site-packages)\n"
     ]
    }
   ],
   "source": [
    "pip install memory-profiler\n"
   ]
  },
  {
   "cell_type": "code",
   "execution_count": 2,
   "metadata": {},
   "outputs": [],
   "source": [
    "import numpy as np\n",
    "import pandas as pd\n",
    "import seaborn as sns\n",
    "\n",
    "import matplotlib.pyplot as plt\n",
    "\n",
    "%matplotlib inline "
   ]
  },
  {
   "cell_type": "code",
   "execution_count": 3,
   "metadata": {},
   "outputs": [],
   "source": [
    "from sklearn import (datasets,\n",
    "                     metrics,\n",
    "                     model_selection as skms,\n",
    "                     naive_bayes,\n",
    "                     neighbors)"
   ]
  },
  {
   "cell_type": "code",
   "execution_count": 4,
   "metadata": {},
   "outputs": [],
   "source": [
    "import warnings\n",
    "warnings.filterwarnings('ignore')\n",
    "np.random.seed(42)"
   ]
  },
  {
   "cell_type": "markdown",
   "metadata": {},
   "source": [
    "## Standalone Learning Evaluation"
   ]
  },
  {
   "cell_type": "code",
   "execution_count": 5,
   "metadata": {},
   "outputs": [
    {
     "name": "stdout",
     "output_type": "stream",
     "text": [
      "3-NN: 0.96\n",
      "5-NN: 0.61\n",
      "  NB: 0.81\n"
     ]
    }
   ],
   "source": [
    "# could live in a standalone .py file\n",
    "# (repeated some of the imports)\n",
    "from sklearn import (datasets, \n",
    "                     metrics, \n",
    "                     model_selection as skms,\n",
    "                     naive_bayes, \n",
    "                     neighbors)\n",
    "\n",
    "# data\n",
    "iris = datasets.load_iris()\n",
    "\n",
    "# train-test split\n",
    "(iris_train_ftrs, iris_test_ftrs, \n",
    " iris_train_tgt, iris_test_tgt) = skms.train_test_split(iris.data,\n",
    "                                                        iris.target, \n",
    "                                                        test_size=.90,\n",
    "                                                        random_state=42) \n",
    "# define some models\n",
    "models = {'3-NN': neighbors.KNeighborsClassifier(n_neighbors=3),\n",
    "          '5-NN': neighbors.KNeighborsClassifier(n_neighbors=5),\n",
    "          'NB'  : naive_bayes.GaussianNB()}\n",
    "\n",
    "# in turn, fit-predict with those models\n",
    "for name, model in models.items():\n",
    "    fit = model.fit(iris_train_ftrs, \n",
    "                    iris_train_tgt)\n",
    "    predictions = fit.predict(iris_test_ftrs)\n",
    "    \n",
    "    score = metrics.accuracy_score(iris_test_tgt, predictions)\n",
    "    print(\"{:>4s}: {:0.2f}\".format(name,score))"
   ]
  },
  {
   "cell_type": "markdown",
   "metadata": {},
   "source": [
    "## Timing"
   ]
  },
  {
   "cell_type": "code",
   "execution_count": 6,
   "metadata": {},
   "outputs": [
    {
     "name": "stdout",
     "output_type": "stream",
     "text": [
      "3.74 ms ± 0 ns per loop (mean ± std. dev. of 1 run, 100 loops each)\n"
     ]
    }
   ],
   "source": [
    "%timeit -r1 datasets.load_iris()"
   ]
  },
  {
   "cell_type": "code",
   "execution_count": 7,
   "metadata": {},
   "outputs": [
    {
     "name": "stdout",
     "output_type": "stream",
     "text": [
      "1.43 ms ± 0 ns per loop (mean ± std. dev. of 1 run, 1 loop each)\n"
     ]
    }
   ],
   "source": [
    "%%timeit -r1 -n1\n",
    "(iris_train_ftrs, iris_test_ftrs, \n",
    " iris_train_tgt,  iris_test_tgt) = skms.train_test_split(iris.data,\n",
    "                                                         iris.target, \n",
    "                                                         test_size=.25)"
   ]
  },
  {
   "cell_type": "code",
   "execution_count": 8,
   "metadata": {},
   "outputs": [
    {
     "name": "stdout",
     "output_type": "stream",
     "text": [
      "1.15 ms ± 0 ns per loop (mean ± std. dev. of 1 run, 1000 loops each)\n"
     ]
    }
   ],
   "source": [
    "%%timeit -r1\n",
    "\n",
    "nb    = naive_bayes.GaussianNB()\n",
    "fit   = nb.fit(iris_train_ftrs, iris_train_tgt)\n",
    "preds = fit.predict(iris_test_ftrs)\n",
    "\n",
    "metrics.accuracy_score(iris_test_tgt, preds)"
   ]
  },
  {
   "cell_type": "code",
   "execution_count": 9,
   "metadata": {},
   "outputs": [
    {
     "name": "stdout",
     "output_type": "stream",
     "text": [
      "10.5 ms ± 0 ns per loop (mean ± std. dev. of 1 run, 100 loops each)\n"
     ]
    }
   ],
   "source": [
    "%%timeit -r1\n",
    "\n",
    "knn   = neighbors.KNeighborsClassifier(n_neighbors=3)\n",
    "fit   = knn.fit(iris_train_ftrs, iris_train_tgt)\n",
    "preds = fit.predict(iris_test_ftrs)\n",
    "\n",
    "metrics.accuracy_score(iris_test_tgt, preds)"
   ]
  },
  {
   "cell_type": "code",
   "execution_count": 10,
   "metadata": {},
   "outputs": [
    {
     "name": "stdout",
     "output_type": "stream",
     "text": [
      "714 µs ± 0 ns per loop (mean ± std. dev. of 1 run, 1000 loops each)\n",
      "517 µs ± 0 ns per loop (mean ± std. dev. of 1 run, 1000 loops each)\n"
     ]
    }
   ],
   "source": [
    "nb = naive_bayes.GaussianNB()\n",
    "%timeit -r1 fit = nb.fit(iris_train_ftrs, iris_train_tgt)\n",
    "\n",
    "knn   = neighbors.KNeighborsClassifier(n_neighbors=3)\n",
    "%timeit -r1 fit = knn.fit(iris_train_ftrs, iris_train_tgt)"
   ]
  },
  {
   "cell_type": "code",
   "execution_count": 11,
   "metadata": {},
   "outputs": [
    {
     "name": "stdout",
     "output_type": "stream",
     "text": [
      "333 µs ± 0 ns per loop (mean ± std. dev. of 1 run, 1000 loops each)\n",
      "8.62 ms ± 0 ns per loop (mean ± std. dev. of 1 run, 100 loops each)\n"
     ]
    }
   ],
   "source": [
    "nb = naive_bayes.GaussianNB()\n",
    "fit = nb.fit(iris_train_ftrs, iris_train_tgt)\n",
    "%timeit -r1 preds = fit.predict(iris_test_ftrs)\n",
    "\n",
    "knn   = neighbors.KNeighborsClassifier(n_neighbors=3)\n",
    "fit = knn.fit(iris_train_ftrs, iris_train_tgt)\n",
    "%timeit -r1 preds = fit.predict(iris_test_ftrs)"
   ]
  },
  {
   "cell_type": "markdown",
   "metadata": {},
   "source": [
    "## Memory"
   ]
  },
  {
   "cell_type": "code",
   "execution_count": 12,
   "metadata": {},
   "outputs": [],
   "source": [
    "%load_ext memory_profiler"
   ]
  },
  {
   "cell_type": "code",
   "execution_count": 13,
   "metadata": {},
   "outputs": [
    {
     "name": "stdout",
     "output_type": "stream",
     "text": [
      "peak memory: 184.56 MiB, increment: 0.09 MiB\n"
     ]
    }
   ],
   "source": [
    "%%memit\n",
    "nb = naive_bayes.GaussianNB()\n",
    "fit = nb.fit(iris_train_ftrs, iris_train_tgt)\n",
    "preds = fit.predict(iris_test_ftrs)"
   ]
  },
  {
   "cell_type": "code",
   "execution_count": 14,
   "metadata": {},
   "outputs": [
    {
     "name": "stdout",
     "output_type": "stream",
     "text": [
      "peak memory: 184.58 MiB, increment: 0.01 MiB\n"
     ]
    }
   ],
   "source": [
    "%%memit\n",
    "knn = neighbors.KNeighborsClassifier()\n",
    "fit = knn.fit(iris_train_ftrs, iris_train_tgt)\n",
    "preds = knn.predict(iris_test_ftrs)"
   ]
  }
 ],
 "metadata": {
  "kernelspec": {
   "display_name": "Python 3 (ipykernel)",
   "language": "python",
   "name": "python3"
  },
  "language_info": {
   "codemirror_mode": {
    "name": "ipython",
    "version": 3
   },
   "file_extension": ".py",
   "mimetype": "text/x-python",
   "name": "python",
   "nbconvert_exporter": "python",
   "pygments_lexer": "ipython3",
   "version": "3.8.16"
  }
 },
 "nbformat": 4,
 "nbformat_minor": 4
}
