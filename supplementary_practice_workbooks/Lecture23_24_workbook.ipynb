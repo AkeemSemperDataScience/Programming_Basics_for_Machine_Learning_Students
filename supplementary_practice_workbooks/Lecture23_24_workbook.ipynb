{
  "cells": [
    {
      "cell_type": "markdown",
      "metadata": {
        "id": "view-in-github",
        "colab_type": "text"
      },
      "source": [
        "<a href=\"https://colab.research.google.com/github/DATA3320/DATA3320_1231/blob/main/workbooks/Lecture23_24_workbook.ipynb\" target=\"_parent\"><img src=\"https://colab.research.google.com/assets/colab-badge.svg\" alt=\"Open In Colab\"/></a>"
      ]
    },
    {
      "cell_type": "markdown",
      "id": "6adeadea-fa2b-47d0-b8f3-2a2b298c0874",
      "metadata": {
        "id": "6adeadea-fa2b-47d0-b8f3-2a2b298c0874"
      },
      "source": [
        "# Lecture 23-24 Workbook"
      ]
    },
    {
      "cell_type": "markdown",
      "id": "4a5faf96-b4c4-4a5c-b4d6-18af865300c9",
      "metadata": {
        "id": "4a5faf96-b4c4-4a5c-b4d6-18af865300c9"
      },
      "source": [
        "**Objective**:\n",
        "\n",
        "The goal of this workbook is to familiarize students with various classification algorithms and teach them the importance of parameter tuning to improve model accuracy."
      ]
    },
    {
      "cell_type": "code",
      "execution_count": null,
      "id": "738a2370-15b7-4409-ba1e-a4b8c82d607a",
      "metadata": {
        "id": "738a2370-15b7-4409-ba1e-a4b8c82d607a"
      },
      "outputs": [],
      "source": [
        "# Import necessary libraries\n",
        "import pandas as pd\n",
        "import numpy as np\n",
        "import matplotlib.pyplot as plt\n",
        "import seaborn as sns\n",
        "from sklearn.model_selection import train_test_split\n",
        "from sklearn.pipeline import Pipeline\n",
        "from sklearn.naive_bayes import GaussianNB\n",
        "from sklearn.tree import DecisionTreeClassifier\n",
        "from sklearn.linear_model import SGDClassifier, LogisticRegression\n",
        "from sklearn.svm import SVC\n",
        "from sklearn.neighbors import KNeighborsClassifier\n",
        "from sklearn.ensemble import RandomForestClassifier\n",
        "from sklearn.model_selection import GridSearchCV\n",
        "from sklearn import metrics\n",
        "from sklearn.metrics import classification_report\n",
        "from sklearn.metrics import confusion_matrix\n",
        "from sklearn.impute import SimpleImputer\n",
        "from sklearn.preprocessing import StandardScaler\n",
        "from sklearn.compose import ColumnTransformer\n"
      ]
    },
    {
      "cell_type": "markdown",
      "id": "9cb11f24-6fd9-4698-8b41-a6f423e6b589",
      "metadata": {
        "id": "9cb11f24-6fd9-4698-8b41-a6f423e6b589"
      },
      "source": [
        "## Data Exploration"
      ]
    },
    {
      "cell_type": "code",
      "execution_count": null,
      "id": "857325cd-5529-4357-8a0d-d4c84a4012d0",
      "metadata": {
        "id": "857325cd-5529-4357-8a0d-d4c84a4012d0"
      },
      "outputs": [],
      "source": [
        "# Load the Heart Disease UCI dataset\n",
        "url = \"https://archive.ics.uci.edu/ml/machine-learning-databases/heart-disease/processed.cleveland.data\"\n",
        "names = [\"age\", \"sex\", \"cp\", \"trestbps\", \"chol\", \"fbs\", \"restecg\", \"thalach\", \"exang\", \"oldpeak\", \"slope\", \"ca\", \"thal\", \"target\"]\n",
        "heart_data = pd.read_csv(url, names=names, na_values='?')\n",
        "\n",
        "# Explore the dataset with EDA\n"
      ]
    },
    {
      "cell_type": "code",
      "execution_count": null,
      "id": "929ab244-82f3-4beb-9d3b-e60fc07c25f1",
      "metadata": {
        "id": "929ab244-82f3-4beb-9d3b-e60fc07c25f1"
      },
      "outputs": [],
      "source": [
        "# Handle missing values (if any)\n"
      ]
    },
    {
      "cell_type": "code",
      "execution_count": null,
      "id": "c3ee4aad-f6da-4c0d-9164-d2eed70c1511",
      "metadata": {
        "id": "c3ee4aad-f6da-4c0d-9164-d2eed70c1511"
      },
      "outputs": [],
      "source": [
        "# Display basic statistics of the dataset\n"
      ]
    },
    {
      "cell_type": "code",
      "execution_count": null,
      "id": "c1070eb0-45e1-478c-8ec0-0ada7711e8ab",
      "metadata": {
        "id": "c1070eb0-45e1-478c-8ec0-0ada7711e8ab"
      },
      "outputs": [],
      "source": [
        "# Visualize the distribution of the target variable\n"
      ]
    },
    {
      "cell_type": "code",
      "execution_count": null,
      "id": "609d81ba-6b0e-4376-9194-ee0ea24d1e1b",
      "metadata": {
        "id": "609d81ba-6b0e-4376-9194-ee0ea24d1e1b"
      },
      "outputs": [],
      "source": [
        "\n",
        "# Visualize correlation matrix\n"
      ]
    },
    {
      "cell_type": "markdown",
      "id": "f47819b8-7589-4f34-902f-ea7f0d4f59f2",
      "metadata": {
        "id": "f47819b8-7589-4f34-902f-ea7f0d4f59f2"
      },
      "source": [
        "## Preposessing"
      ]
    },
    {
      "cell_type": "code",
      "execution_count": null,
      "id": "9aee3e09-6a92-4847-b0c1-996c4dd458be",
      "metadata": {
        "id": "9aee3e09-6a92-4847-b0c1-996c4dd458be"
      },
      "outputs": [],
      "source": [
        "\n",
        "# Split the data into features (X) and target variable (y)\n"
      ]
    },
    {
      "cell_type": "code",
      "execution_count": null,
      "id": "f34a5ae8-c1f6-4628-8750-d3ede34941e0",
      "metadata": {
        "id": "f34a5ae8-c1f6-4628-8750-d3ede34941e0"
      },
      "outputs": [],
      "source": [
        "# Split the data into training and testing sets\n"
      ]
    },
    {
      "cell_type": "code",
      "execution_count": null,
      "id": "953686ef-63a0-4ce0-9f76-bee74d4f2b4b",
      "metadata": {
        "id": "953686ef-63a0-4ce0-9f76-bee74d4f2b4b"
      },
      "outputs": [],
      "source": [
        "# Standardize features using StandardScaler\n"
      ]
    },
    {
      "cell_type": "markdown",
      "id": "e5d53e6d-5b88-4b78-95a4-a079df7d540f",
      "metadata": {
        "id": "e5d53e6d-5b88-4b78-95a4-a079df7d540f"
      },
      "source": [
        "## Models"
      ]
    },
    {
      "cell_type": "markdown",
      "id": "0b0f75ac-1200-4889-b64f-a3aca26d2d4f",
      "metadata": {
        "id": "0b0f75ac-1200-4889-b64f-a3aca26d2d4f"
      },
      "source": [
        "### Ramdom Forest"
      ]
    },
    {
      "cell_type": "code",
      "execution_count": null,
      "id": "c0c3d5f1-8b47-4542-9feb-50842424a783",
      "metadata": {
        "id": "c0c3d5f1-8b47-4542-9feb-50842424a783"
      },
      "outputs": [],
      "source": [
        "\n"
      ]
    },
    {
      "cell_type": "markdown",
      "id": "9414898e-b619-4d20-a074-2e5f12a79007",
      "metadata": {
        "id": "9414898e-b619-4d20-a074-2e5f12a79007"
      },
      "source": [
        "## Multi Models"
      ]
    },
    {
      "cell_type": "code",
      "execution_count": null,
      "id": "6beab7fd-232d-4a7a-b325-58927667ab0b",
      "metadata": {
        "id": "6beab7fd-232d-4a7a-b325-58927667ab0b"
      },
      "outputs": [],
      "source": [
        "# Create instances of classification algorithms with hyperparameter grids\n"
      ]
    },
    {
      "cell_type": "markdown",
      "id": "628a01cd-1e9b-4eb5-b7dc-91c97f564735",
      "metadata": {
        "id": "628a01cd-1e9b-4eb5-b7dc-91c97f564735"
      },
      "source": [
        "## Pipeline"
      ]
    },
    {
      "cell_type": "markdown",
      "id": "5f56f4fe-0ebb-42f4-a17f-958f68fa8d41",
      "metadata": {
        "id": "5f56f4fe-0ebb-42f4-a17f-958f68fa8d41"
      },
      "source": [
        "## Ensemble?"
      ]
    },
    {
      "cell_type": "markdown",
      "id": "f1794ed8-5b9c-45c1-af93-5903d857aa46",
      "metadata": {
        "id": "f1794ed8-5b9c-45c1-af93-5903d857aa46"
      },
      "source": [
        "Ensembling methods combine multiple models to improve overall performance. In this example, I'll demonstrate the use of the popular ensemble methods: Bagging (using Random Forest) and Boosting (using AdaBoost). The Random Forest was already included as an individual classifier, but now we'll use it within a BaggingClassifier. Additionally, we'll use AdaBoost as a boosting algorithm."
      ]
    }
  ],
  "metadata": {
    "kernelspec": {
      "display_name": "Python 3 (ipykernel)",
      "language": "python",
      "name": "python3"
    },
    "language_info": {
      "codemirror_mode": {
        "name": "ipython",
        "version": 3
      },
      "file_extension": ".py",
      "mimetype": "text/x-python",
      "name": "python",
      "nbconvert_exporter": "python",
      "pygments_lexer": "ipython3",
      "version": "3.8.16"
    },
    "colab": {
      "provenance": [],
      "include_colab_link": true
    }
  },
  "nbformat": 4,
  "nbformat_minor": 5
}