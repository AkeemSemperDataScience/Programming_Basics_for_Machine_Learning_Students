{
 "cells": [
  {
   "cell_type": "code",
   "execution_count": 107,
   "metadata": {},
   "outputs": [],
   "source": [
    "import pandas as pd"
   ]
  },
  {
   "cell_type": "markdown",
   "metadata": {},
   "source": [
    "# Algorithms\n",
    "\n",
    "Almost every time we write code that accomplishes some specific task, we are creating an algorithm. \n",
    "\n",
    "![Algorithms](../../images/algorithm.jpg \"Algorithms\")\n",
    "![Algorithms](../images/algorithm.jpg \"Algorithms\")\n",
    "\n",
    "An algorithm is a simple idea that has exploded in relevance with the mainstreaming of AI-based tools, it is a sequence of steps that accomplishes a task. For example, the following is an algorithm for finding the largest number in a list:"
   ]
  },
  {
   "cell_type": "code",
   "execution_count": 108,
   "metadata": {},
   "outputs": [],
   "source": [
    "# Find largest number in a list\n",
    "def find_largest_number(list):\n",
    "    largest_number = list[0]\n",
    "    for i in range(1, len(list)):\n",
    "        if list[i] > largest_number:\n",
    "            largest_number = list[i]\n",
    "    return largest_number"
   ]
  },
  {
   "cell_type": "code",
   "execution_count": 109,
   "metadata": {},
   "outputs": [
    {
     "name": "stdout",
     "output_type": "stream",
     "text": [
      "3214\n"
     ]
    }
   ],
   "source": [
    "sample_list = [23,1,34,2,578,123,4,-234,5,3214,2,-124,0,1234]\n",
    "largest = find_largest_number(sample_list)\n",
    "print(largest)"
   ]
  },
  {
   "cell_type": "markdown",
   "metadata": {},
   "source": [
    "## Algorithm Construction\n",
    "\n",
    "Every function to sort values, calculate averages, or split a string into pieces is an algorithm. Creating algorithms is something we constantly do as programmers, and it is a skill that we can improve with practice. The following are some guidelines for creating algorithms:\n",
    "<ul>\n",
    "<li>Start with a clear statement of what the input is and what the output is.</li>\n",
    "<li>Break the problem into pieces.</li>\n",
    "<li>Test each piece separately.</li>\n",
    "<li>Then put the pieces together.</li>\n",
    "</ul>\n",
    "\n",
    "Thinking systemically about how we design and structure our code will help us some problems with less frustration, generate fewer bugs, make our code more legible, and generally improve the quality of our lives and relationships.\n",
    "\n",
    "### Inputs and Outputs\n",
    "    \n",
    "The core idea we focus on when building an algorithm is the starting point (input) and the ending point (output). When we write an algorithm, we are creating a recipe for how to accomplish a task. For the most part, we can relate a function to a task, or we can write a function to perform each algorithm that we need. The first thing that we want to consider when designing an algorithm is what the inputs and outputs are. This definition will set the basic terms for what we are doing, as well as outline the scope of the problem and what we need to accomplish our goal. For example, the largest_number function above has:\n",
    "<ul>\n",
    "<li> Input - a list of numbers</li>\n",
    "<li> Output - the largest number in the list</li>\n",
    "</ul>\n",
    "\n",
    "This is also known as the method's signature. The signature is the name of the function, the inputs, and the outputs. This is also the \"contract\" that we agree to when creating our code - as long as we follow what the signature defines, we can do whatever we want inside the function. This is powerful and important in software - when we want to use some function from any library, we look at what it takes in, and what it returns, and we don't generally need to care about what's in the middle. This is called \"encapsulation\" and it is one of the most important concepts in software engineering. \n",
    "\n",
    "<b>Note:</b> it is common in commercial software development to define the inputs and outputs of a function, then passing that off to others to develop - as long as it does the job, it doesn't matter how it is done. If we have a clear idea of what the inputs and outputs must be, then we can also write tests to verify if the function meets those definitions or not. This is called \"test-driven development\" and it is very helpful in writing good code; a set of tests can be setup to verify functionality, then whenever changes are made - such as when someone updates a file in the central repository - those tests can be triggered to ensure that the changes don't break anything.\n",
    "\n",
    "### Defining Signatures\n",
    "\n",
    "When we define a function, we can define the inputs and outputs in the function definition. We can also add some optional indicators for what types those values are expected to be, these aren't required or enforced, but if we have a clear expectation of what to expect, we should formalize that here. This is called \"type-hinting\" as we are giving users a tip on what to do with our function. The syntax for those details is:\n",
    "<ul>\n",
    "<li> Input - colon then the expected data type in the argument list. </li>\n",
    "<li> Output - arrow then the expected data type after the argument list. </li>\n",
    "</ul>\n",
    "\n",
    "For example, we can redefine the largest_number function (along with adding a docstring):\n",
    "    "
   ]
  },
  {
   "cell_type": "code",
   "execution_count": 110,
   "metadata": {},
   "outputs": [],
   "source": [
    "def find_largest_number(input_list: list) -> int:\n",
    "    \"\"\"\n",
    "    A function to find the largest number in a list.\n",
    "    \n",
    "    Args:\n",
    "        input_list: A list of numbers.\n",
    "    \n",
    "    Returns:\n",
    "        The largest number in the list.\n",
    "    \"\"\"\n",
    "    largest_number = input_list[0]\n",
    "    for i in range(1, len(input_list)):\n",
    "        if input_list[i] > largest_number:\n",
    "            largest_number = input_list[i]\n",
    "    return largest_number"
   ]
  },
  {
   "cell_type": "code",
   "execution_count": 146,
   "metadata": {},
   "outputs": [
    {
     "name": "stdout",
     "output_type": "stream",
     "text": [
      "(input_list: list) -> int\n"
     ]
    }
   ],
   "source": [
    "import inspect\n",
    "print(inspect.signature(find_largest_number))"
   ]
  },
  {
   "cell_type": "markdown",
   "metadata": {},
   "source": [
    "## Exercise\n",
    "\n",
    "Write a function signature that takes in a list of numbers and returns the median value of the square roots of the middle number(s) (numerical middle, so the middle position if you were to sort the list). So if the list was [1, 3, 1, 2, 2], the middle value is 2 and the median is 2. If the list was [1,3,4,0], the two middle values are 1 and 3 and the median is 2. Think about what needs to be done step by step and psuedocode it in comments. "
   ]
  },
  {
   "cell_type": "code",
   "execution_count": 111,
   "metadata": {},
   "outputs": [],
   "source": [
    "def middleMedian(input_list: list) -> float:\n",
    "    # Sort the list\n",
    "    # Find the middle index\n",
    "        # If the list is even, take the  two middle numbers\n",
    "        # If the list is odd, take the middle number\n",
    "    # Calculate the median\n",
    "    # Return the median\n",
    "    pass"
   ]
  },
  {
   "cell_type": "code",
   "execution_count": 112,
   "metadata": {},
   "outputs": [],
   "source": [
    "def middleMedian(input_list: list) -> float:\n",
    "    \"\"\"\n",
    "    A function to find the middle median of a list.\n",
    "    \n",
    "    Args:\n",
    "        input_list: A list of numbers.\n",
    "    \n",
    "    Returns:\n",
    "        The middle median of the list.\n",
    "    \"\"\"\n",
    "    input_list.sort()\n",
    "    if len(input_list) % 2 == 0:\n",
    "        return (input_list[len(input_list) // 2 - 1] + input_list[len(input_list) // 2]) / 2\n",
    "    else:\n",
    "        return input_list[len(input_list) // 2]"
   ]
  },
  {
   "cell_type": "markdown",
   "metadata": {},
   "source": [
    "In the middle of writing our code, we can also extend this concept of defining the signature first as a tool to help us plan out our code, and to accomplish part 2 - breaking problems into parts. \n",
    "\n",
    "### Breaking Up (Is Hard To Do)\n",
    "\n",
    "We can make hard problems more simple by splitting them into smaller sub-problems and solving those sub-problems one at a time. If we consider how this fits with defining our functions, this works well - we can define all the steps that need to be done, without having to dwell on exactly <i>how</i> to do each detail, then fill in the details later. This is a common technique in software development, and it is called \"top-down design\" or \"step-wise refinement\".\n",
    "\n",
    "For example, suppose we were using the find_largest_number function from above to calculate a rebate for your company's largest customer, and there are some other parts of the logic I don't know yet. So, our fake scenario is:\n",
    "<ul>\n",
    "<li> We have a list of what different customers spent at our store. </li>\n",
    "<li> We want to find the largest number in that list. </li>\n",
    "<li> We want to give that customer a 10% rebate cheque. </li>\n",
    "</ul>\n",
    "\n",
    "We can set this up as a challenge with separate functions for each step, then fill in the details later. For example: "
   ]
  },
  {
   "cell_type": "code",
   "execution_count": 113,
   "metadata": {},
   "outputs": [],
   "source": [
    "def calculateRebate(price: float, rebate:float=.1) -> float:\n",
    "    # I still need to code this function\n",
    "    final_rebate = 25\n",
    "    return final_rebate\n",
    "\n",
    "def generateMessage(rebate:float) -> str:\n",
    "    # I also need to finish this one. \n",
    "    message = \"Your rebate is: \"\n",
    "    return message\n",
    "\n",
    "def rebateCustomer(customer_sales: list, rebate:float=.1) -> float:\n",
    "    # Find the largest customer from the list of sales\n",
    "    largest_customer = find_largest_number(customer_sales)\n",
    "    # Calculate the rebate\n",
    "    rebate = calculateRebate(largest_customer, rebate)\n",
    "    # Generate the message\n",
    "    message = generateMessage(rebate)\n",
    "    return rebate"
   ]
  },
  {
   "cell_type": "code",
   "execution_count": 114,
   "metadata": {},
   "outputs": [
    {
     "data": {
      "text/plain": [
       "25"
      ]
     },
     "execution_count": 114,
     "metadata": {},
     "output_type": "execute_result"
    }
   ],
   "source": [
    "rebateCustomer(sample_list)"
   ]
  },
  {
   "cell_type": "code",
   "execution_count": 147,
   "metadata": {},
   "outputs": [
    {
     "name": "stdout",
     "output_type": "stream",
     "text": [
      "(price: float, rebate: float = 0.1) -> float\n"
     ]
    }
   ],
   "source": [
    "print(inspect.signature(calculateRebate))"
   ]
  },
  {
   "cell_type": "markdown",
   "metadata": {},
   "source": [
    "Here, the two new functions to calculate the rebate and generate a message are just placeholders, they don't do any work, they just return a fixed, but valid, value. This is a common technique in software development, and it is called \"stubbing\" - we are creating a stub of a function that we can fill in later. These placeholders will allow the rest of our code to work, as they always give back some usable value, it just won't be correct, as they don't do any logic. We can set these parts aside though, and just use the placeholders while developing the rest of the code, then come make them work properly later.\n",
    "\n",
    "Here, all the code that calls those functions can work with the stubs that we made above, when we get back to fill them in, we should see the actual results start to become correct. Here, these functions are very simple, but we can use this idea to help with algorithms that are more complex as well; as long as our stub is capable of returning some plausible value, we can keep it there while we solve how to actually do it. "
   ]
  },
  {
   "cell_type": "code",
   "execution_count": 115,
   "metadata": {},
   "outputs": [],
   "source": [
    "def calculateRebate(price: float, rebate:float=.1) -> float:\n",
    "    \"\"\"\n",
    "    A function to calculate the rebate for a customer.\n",
    "    \n",
    "    Args:\n",
    "        price: The price of the customer's largest purchase.\n",
    "        rebate: The rebate percentage. Defaults to 0.1.\n",
    "    \n",
    "    Returns:\n",
    "        The rebate amount.\n",
    "    \"\"\"\n",
    "    final_rebate = price * rebate\n",
    "    return final_rebate\n",
    "\n",
    "def generateMessage(rebate:float) -> str:\n",
    "    \"\"\"\n",
    "    A function to generate a message for the customer.\n",
    "    \n",
    "    Args:\n",
    "        rebate: The rebate amount.\n",
    "    \n",
    "    Returns:\n",
    "        The message.\n",
    "    \"\"\"\n",
    "    message = \"Your rebate is: \" + str(rebate)\n",
    "    return message\n"
   ]
  },
  {
   "cell_type": "code",
   "execution_count": 116,
   "metadata": {},
   "outputs": [
    {
     "data": {
      "text/plain": [
       "321.40000000000003"
      ]
     },
     "execution_count": 116,
     "metadata": {},
     "output_type": "execute_result"
    }
   ],
   "source": [
    "rebateCustomer(sample_list)"
   ]
  },
  {
   "cell_type": "markdown",
   "metadata": {},
   "source": [
    "## Exercise\n",
    "\n",
    "Break the middleMedain into separate functions for each step. "
   ]
  },
  {
   "cell_type": "code",
   "execution_count": 117,
   "metadata": {},
   "outputs": [],
   "source": [
    "# Input: List of numbers\n",
    "# Output: Two values to average together for median \n",
    "def findMiddle(input_list:list):\n",
    "    tmp_len = len(input_list)\n",
    "    if tmp_len % 2 == 0:\n",
    "        pos1 = tmp_len // 2 - 1\n",
    "        pos2 = tmp_len // 2\n",
    "    elif tmp_len % 2 == 1:\n",
    "        pos1 = tmp_len // 2\n",
    "        pos2 = tmp_len // 2\n",
    "    return pos1, pos2"
   ]
  },
  {
   "cell_type": "code",
   "execution_count": 118,
   "metadata": {},
   "outputs": [],
   "source": [
    "# Input: list of numbers\n",
    "# Output: median of those numbers\n",
    "def generateMedian(median_list:list):\n",
    "    median = 25\n",
    "    return median\n",
    "\n",
    "# Input: number\n",
    "# Output: square root \n",
    "def squareRoot(number:float):\n",
    "    root = number/2\n",
    "    return root"
   ]
  },
  {
   "cell_type": "code",
   "execution_count": 119,
   "metadata": {},
   "outputs": [],
   "source": [
    "# Input: list of numbers\n",
    "# Output: the median of the middle number(s)\n",
    "def middleMedian(input_list:list):\n",
    "    # Find the middle index\n",
    "    pos1, pos2 = findMiddle(input_list)\n",
    "    # Calculate the median\n",
    "    median = generateMedian([input_list[pos1], input_list[pos2]])\n",
    "    # Return the median\n",
    "    return median"
   ]
  },
  {
   "cell_type": "markdown",
   "metadata": {},
   "source": [
    "### Test Components Separately\n",
    "\n",
    "If we have our algorithms split into their own functions, we can test each of those functions to ensure that they each work, individually. This is often easier than testing the entire output of our program to see if there's an error - we still want to do so, but if we build up the testing one part at a time, we can fix things while they are still in their simple phases. This is called \"unit testing\", where we test each \"unit\" of our code separately. Again, as long as they perform \"to spec\", or to the signature that we defined, we can expect them to work okay when we put them together.\n",
    "\n",
    "#### Assert \n",
    "\n",
    "One tool that we can use to do some checks is the assert function, which tests if some condition is true, and if not, it will raise an error. In the sample test code, or testing harness, below we can test that our rebate function works as expected by calling it with some test data - a set of inputs and expected outputs. Note that the test data here should cover the different scenarios we will encounter - we have some integers, floats, and a negative value, all things that we might expect to see in our data. In more complex scenarios, we would likely have much more test data, particularly with data that is on an edge case or that might cause an error, to ensure we fail correctly. "
   ]
  },
  {
   "cell_type": "code",
   "execution_count": 120,
   "metadata": {},
   "outputs": [],
   "source": [
    "def testCalcRebate(inputs, outputs):\n",
    "    for input in inputs:\n",
    "        output = calculateRebate(input)\n",
    "        assert output == outputs[inputs.index(input)], \"The rebate amount is incorrect\""
   ]
  },
  {
   "cell_type": "code",
   "execution_count": 121,
   "metadata": {},
   "outputs": [],
   "source": [
    "test_rebate_inputs = [100, 50, 4.5, 0, -1.2]\n",
    "test_rebate_outputs = [10, 5, 0.45, 0, -0.12]\n",
    "\n",
    "testCalcRebate(test_rebate_inputs, test_rebate_outputs)"
   ]
  },
  {
   "cell_type": "markdown",
   "metadata": {},
   "source": [
    "In a slightly more complex case"
   ]
  },
  {
   "cell_type": "code",
   "execution_count": 122,
   "metadata": {},
   "outputs": [],
   "source": [
    "def testRebate(inputs, outputs):\n",
    "    for input in inputs:\n",
    "        output = rebateCustomer(input)\n",
    "        assert output == outputs[inputs.index(input)], \"The rebate amount is incorrect\""
   ]
  },
  {
   "cell_type": "code",
   "execution_count": 123,
   "metadata": {},
   "outputs": [],
   "source": [
    "test_full_rebates_in = [[1,2,3,4,5], [1], [1204,24, 234], [12.5, 23, 1234.5]]\n",
    "test_full_rebates_out = [0.5, 0.1, 120.4, 123.45]\n",
    "\n",
    "testRebate(test_full_rebates_in, test_full_rebates_out)"
   ]
  },
  {
   "cell_type": "markdown",
   "metadata": {},
   "source": [
    "If we introduce some error (in the test data), we can see what happens:"
   ]
  },
  {
   "cell_type": "code",
   "execution_count": 124,
   "metadata": {},
   "outputs": [
    {
     "ename": "AssertionError",
     "evalue": "The rebate amount is incorrect",
     "output_type": "error",
     "traceback": [
      "\u001b[0;31m---------------------------------------------------------------------------\u001b[0m",
      "\u001b[0;31mAssertionError\u001b[0m                            Traceback (most recent call last)",
      "\u001b[1;32m/Users/akeem/Documents/GitHub/Programming_Basics_for_ML/workbooks/development_working_dir/012_algorithm_design.ipynb Cell 27\u001b[0m line \u001b[0;36m3\n\u001b[1;32m      <a href='vscode-notebook-cell:/Users/akeem/Documents/GitHub/Programming_Basics_for_ML/workbooks/development_working_dir/012_algorithm_design.ipynb#X36sZmlsZQ%3D%3D?line=0'>1</a>\u001b[0m test_full_rebates_out_err \u001b[39m=\u001b[39m [\u001b[39m0.5\u001b[39m, \u001b[39m0.1\u001b[39m, \u001b[39m120.3\u001b[39m, \u001b[39m123.45\u001b[39m]\n\u001b[0;32m----> <a href='vscode-notebook-cell:/Users/akeem/Documents/GitHub/Programming_Basics_for_ML/workbooks/development_working_dir/012_algorithm_design.ipynb#X36sZmlsZQ%3D%3D?line=2'>3</a>\u001b[0m testRebate(test_full_rebates_in, test_full_rebates_out_err)\n",
      "\u001b[1;32m/Users/akeem/Documents/GitHub/Programming_Basics_for_ML/workbooks/development_working_dir/012_algorithm_design.ipynb Cell 27\u001b[0m line \u001b[0;36m4\n\u001b[1;32m      <a href='vscode-notebook-cell:/Users/akeem/Documents/GitHub/Programming_Basics_for_ML/workbooks/development_working_dir/012_algorithm_design.ipynb#X36sZmlsZQ%3D%3D?line=1'>2</a>\u001b[0m \u001b[39mfor\u001b[39;00m \u001b[39minput\u001b[39m \u001b[39min\u001b[39;00m inputs:\n\u001b[1;32m      <a href='vscode-notebook-cell:/Users/akeem/Documents/GitHub/Programming_Basics_for_ML/workbooks/development_working_dir/012_algorithm_design.ipynb#X36sZmlsZQ%3D%3D?line=2'>3</a>\u001b[0m     output \u001b[39m=\u001b[39m rebateCustomer(\u001b[39minput\u001b[39m)\n\u001b[0;32m----> <a href='vscode-notebook-cell:/Users/akeem/Documents/GitHub/Programming_Basics_for_ML/workbooks/development_working_dir/012_algorithm_design.ipynb#X36sZmlsZQ%3D%3D?line=3'>4</a>\u001b[0m     \u001b[39massert\u001b[39;00m output \u001b[39m==\u001b[39m outputs[inputs\u001b[39m.\u001b[39mindex(\u001b[39minput\u001b[39m)], \u001b[39m\"\u001b[39m\u001b[39mThe rebate amount is incorrect\u001b[39m\u001b[39m\"\u001b[39m\n",
      "\u001b[0;31mAssertionError\u001b[0m: The rebate amount is incorrect"
     ]
    }
   ],
   "source": [
    "test_full_rebates_out_err = [0.5, 0.1, 120.3, 123.45]\n",
    "\n",
    "testRebate(test_full_rebates_in, test_full_rebates_out_err)"
   ]
  },
  {
   "cell_type": "markdown",
   "metadata": {},
   "source": [
    "## Exercise - Test-Driven Development\n",
    "\n",
    "Build a test harness and some test data for the middleMedian function. Create some code to try your tests. In my examples, I haven't filled in the methods yet, so I expect them to fail. I'm doing \"test-driven development\" here, I've specified what qualifies as success entirely before I write the code to do it. This is a generally good practice as it forces us to clearly think about what is successful and what isn't before we start writing code. It can also make it easier to split development among people, and potentially even hand parts off to AI, as now we have a strict definition of success that anyone can meet. "
   ]
  },
  {
   "cell_type": "code",
   "execution_count": null,
   "metadata": {},
   "outputs": [],
   "source": [
    "def testMiddleMedian(inputs, outputs):\n",
    "    for input in inputs:\n",
    "        output = middleMedian(input)\n",
    "        assert output == outputs[inputs.index(input)], \"The median is incorrect: \"+str(input)+\" \"+str(output)"
   ]
  },
  {
   "cell_type": "code",
   "execution_count": null,
   "metadata": {},
   "outputs": [],
   "source": [
    "# Test cases\n",
    "test_middle_median_inputs = [[1,2,3,4,5], [1], [1204,24, 234], [12.5, 23, 1234.5]]\n",
    "test_middle_median_outputs = [3, 1, 24, 23]\n"
   ]
  },
  {
   "cell_type": "code",
   "execution_count": null,
   "metadata": {},
   "outputs": [
    {
     "ename": "AssertionError",
     "evalue": "The median is incorrect",
     "output_type": "error",
     "traceback": [
      "\u001b[0;31m---------------------------------------------------------------------------\u001b[0m",
      "\u001b[0;31mAssertionError\u001b[0m                            Traceback (most recent call last)",
      "\u001b[1;32m/Users/akeem/Documents/GitHub/Programming_Basics_for_ML/workbooks/development_working_dir/012_algorithm_design.ipynb Cell 32\u001b[0m line \u001b[0;36m2\n\u001b[1;32m      <a href='vscode-notebook-cell:/Users/akeem/Documents/GitHub/Programming_Basics_for_ML/workbooks/development_working_dir/012_algorithm_design.ipynb#Y106sZmlsZQ%3D%3D?line=0'>1</a>\u001b[0m \u001b[39m# Run the tests\u001b[39;00m\n\u001b[0;32m----> <a href='vscode-notebook-cell:/Users/akeem/Documents/GitHub/Programming_Basics_for_ML/workbooks/development_working_dir/012_algorithm_design.ipynb#Y106sZmlsZQ%3D%3D?line=1'>2</a>\u001b[0m testMiddleMedian(test_middle_median_inputs, test_middle_median_outputs)\n",
      "\u001b[1;32m/Users/akeem/Documents/GitHub/Programming_Basics_for_ML/workbooks/development_working_dir/012_algorithm_design.ipynb Cell 32\u001b[0m line \u001b[0;36m4\n\u001b[1;32m      <a href='vscode-notebook-cell:/Users/akeem/Documents/GitHub/Programming_Basics_for_ML/workbooks/development_working_dir/012_algorithm_design.ipynb#Y106sZmlsZQ%3D%3D?line=1'>2</a>\u001b[0m \u001b[39mfor\u001b[39;00m \u001b[39minput\u001b[39m \u001b[39min\u001b[39;00m inputs:\n\u001b[1;32m      <a href='vscode-notebook-cell:/Users/akeem/Documents/GitHub/Programming_Basics_for_ML/workbooks/development_working_dir/012_algorithm_design.ipynb#Y106sZmlsZQ%3D%3D?line=2'>3</a>\u001b[0m     output \u001b[39m=\u001b[39m middleMedian(\u001b[39minput\u001b[39m)\n\u001b[0;32m----> <a href='vscode-notebook-cell:/Users/akeem/Documents/GitHub/Programming_Basics_for_ML/workbooks/development_working_dir/012_algorithm_design.ipynb#Y106sZmlsZQ%3D%3D?line=3'>4</a>\u001b[0m     \u001b[39massert\u001b[39;00m output \u001b[39m==\u001b[39m outputs[inputs\u001b[39m.\u001b[39mindex(\u001b[39minput\u001b[39m)], \u001b[39m\"\u001b[39m\u001b[39mThe median is incorrect\u001b[39m\u001b[39m\"\u001b[39m\n",
      "\u001b[0;31mAssertionError\u001b[0m: The median is incorrect"
     ]
    }
   ],
   "source": [
    "# Run the tests\n",
    "testMiddleMedian(test_middle_median_inputs, test_middle_median_outputs)"
   ]
  },
  {
   "cell_type": "markdown",
   "metadata": {},
   "source": [
    "### Basic Error Handling\n",
    "\n",
    "One thing that we can do to make our code more robust is to add some error handling. This is a way to catch errors that might occur, and to handle them in a way that makes sense. We'll revisit this as we go, but we can start with some smarter error handling for out test setup here to introduce it. \n",
    "\n",
    "Error handling works by a basic concept:\n",
    "<ul>\n",
    "<li> When some error occurs, that error is \"raised\" or \"thrown\" by the code that encounters it. </li>\n",
    "<li> We can \"catch\" that error and do something with it. </li>\n",
    "</ul>\n",
    "\n",
    "![Try-Except](../../images/try_except.png \"Try-Except\")\n",
    "![Try-Except](../images/try_except.png \"Try-Except\")\n",
    "\n",
    "To implement this, we can use a few special error handling keywords, try, except, else, and finally. \n",
    "<ul>\n",
    "<li> The try block is where we put the code that might cause an error.</li>\n",
    "<li> The except block is where we put the code to handle that error.</li>\n",
    "<li> The else block is where we put the code that should run if there is no error. This works like an if-else block, where the above is the True and this is the False, with the condition being \"was there an error\". </li>\n",
    "<li> The finally block is where we put code that should always run, regardless of whether an error occurred or not.</li>\n",
    "</ul>\n",
    "\n",
    "For example, we can add some error handling to our test harness above. We'll set up those 3 sections to capture what we are doing:\n",
    "<ul>\n",
    "<li> Try - the code that can generate the error goes in a \"try block\". </li>\n",
    "<li> Except - the code that handles the error goes in an \"except block\". Here we are adding the error to a list of errors. Note that we can define different except blocks for different types of errors, so we can handle them differently. </li>\n",
    "<li> Else - the code that should run if there is no error goes in an \"else block\". Here we are adding the result to a list of results. </li>\n",
    "<li> Finally - the code that should always run goes in a \"finally block\". Here we to the next iteration of the loop. </li>\n",
    "</ul>\n",
    "\n",
    "Now we can capture what worked, what failed, and what errors we encountered. As a side bonus, our code no longer fully fails if we encounter an error, it captures that error and moves on (if that's possible). This is normal if we ever create programs that will be used by others or deployed for extended periods of time, we shouldn't have a program that goes full blue-sceen-of-death if we find a stray negative number in our data."
   ]
  },
  {
   "cell_type": "code",
   "execution_count": null,
   "metadata": {},
   "outputs": [],
   "source": [
    "def testCalcRebate(inputs: list, outputs: list) -> tuple:\n",
    "    errors = []\n",
    "    correct = []\n",
    "    for input in inputs:\n",
    "        try:\n",
    "            output = rebateCustomer(input)\n",
    "            assert output == outputs[inputs.index(input)], \"The rebate amount is incorrect\"\n",
    "        except AssertionError as e:\n",
    "            errors.append(input)\n",
    "        else:\n",
    "            correct.append(input)\n",
    "        finally:\n",
    "            continue    \n",
    "    return errors, correct"
   ]
  },
  {
   "cell_type": "code",
   "execution_count": null,
   "metadata": {},
   "outputs": [
    {
     "name": "stdout",
     "output_type": "stream",
     "text": [
      "[]\n",
      "[[1, 2, 3, 4, 5], [1], [1204, 24, 234], [12.5, 23, 1234.5]]\n"
     ]
    }
   ],
   "source": [
    "err, cor = testCalcRebate(test_full_rebates_in, test_full_rebates_out)\n",
    "print(err)\n",
    "print(cor)"
   ]
  },
  {
   "cell_type": "code",
   "execution_count": null,
   "metadata": {},
   "outputs": [
    {
     "name": "stdout",
     "output_type": "stream",
     "text": [
      "[[1204, 24, 234]]\n",
      "[[1, 2, 3, 4, 5], [1], [12.5, 23, 1234.5]]\n"
     ]
    }
   ],
   "source": [
    "err, cor = testCalcRebate(test_full_rebates_in, test_full_rebates_out_err)\n",
    "print(err)\n",
    "print(cor)"
   ]
  },
  {
   "cell_type": "markdown",
   "metadata": {},
   "source": [
    "### Error Types\n",
    "\n",
    "In the example above we generated an assertion error when things don't match, but there are many other types of errors that we can encounter. Every time we do something incorrectly, we generate some variety of error along with our code grinding to a halt. The following are some common errors that we might encounter:\n",
    "<ul>\n",
    "<li> AssertionError - raised when an assert statement fails. </li>\n",
    "<li> AttributeError - raised when an attribute reference or assignment fails. </li>\n",
    "<li> ImportError - raised when the imported module is not found. </li>\n",
    "<li> IndexError - raised when the index of a sequence is out of range. </li>\n",
    "<li> KeyError - raised when a key is not found in a dictionary. </li>\n",
    "<li> KeyboardInterrupt - raised when the user hits the interrupt key (Ctrl+C or Delete). </li>\n",
    "<li> MemoryError - raised when an operation runs out of memory. </li>\n",
    "<li> NameError - raised when a variable is not found in local or global scope. </li>\n",
    "<li> OverflowError - raised when the result of an arithmetic operation is too large to be represented. </li>\n",
    "<li> ReferenceError - raised when a weak reference proxy is used to access a garbage collected referent. </li>\n",
    "<li> RuntimeError - raised when an error does not fall under any other category. </li>\n",
    "<li> StopIteration - raised by next() function to indicate that there is no further item to be returned by iterator. </li>\n",
    "</ul>\n",
    "\n",
    "For each of these error types we can either use general except blocks to deal with errors that might occur, or we can create specific except blocks to manage, and potentially correct, specific errors that we have prepared for. For example, anything that connects over the internet should be prepared to deal with a dropped connection error, anything that reads data from disk should be prepared for some error with file access, etc...\n",
    "\n",
    "Errors can be raised by something like the assert statement above, or we can use the keyword <b>raise</b> EXCEPTION_TYPE to raise an error ourselves. We can also use the keyword <b>pass</b> to do nothing, but to avoid an error that causes the code execution to halt; for example, if you wanted your code to just ignore any unacceptable input and continue on, we could have pass in the except block to let us proceed. Each constructor for an error type can take in some message to display, so we can use that to give some information about what happened as a string. Like any other string, we can customize this string, so if there is useful information like variable values, loop counters, or other details that might help us debug, we can include those in the message."
   ]
  },
  {
   "cell_type": "code",
   "execution_count": 149,
   "metadata": {},
   "outputs": [],
   "source": [
    "# This loop is dumb, examine why...\n",
    "# I just want to generate an error. \n",
    "def sortList(input_list:list) -> list:\n",
    "    try:\n",
    "        i = 0\n",
    "        while True:\n",
    "            if i >= len(input_list)-1:\n",
    "                raise IndexError(\"The list is not sorted, so we got issues. Index: \" + str(i)+\" Length: \"+str(len(input_list)))\n",
    "            if input_list[i] > input_list[i+1]:\n",
    "                input_list[i], input_list[i+1] = input_list[i+1], input_list[i]\n",
    "            i += 1\n",
    "    except AssertionError as e:\n",
    "        print(\"I'm an assertion error\")\n",
    "    except IndexError as e:\n",
    "        # I'll add a little info to the error above where it is raised. \n",
    "        # we can use this to help us!!\n",
    "        print(e)\n",
    "    finally:\n",
    "        return input_list"
   ]
  },
  {
   "cell_type": "code",
   "execution_count": 150,
   "metadata": {},
   "outputs": [
    {
     "name": "stdout",
     "output_type": "stream",
     "text": [
      "The list is not sorted, so we got issues. Index: 9 Length: 10\n"
     ]
    },
    {
     "data": {
      "text/plain": [
       "[9, 8, 7, 6, 5, 4, 3, 2, 1, 10]"
      ]
     },
     "execution_count": 150,
     "metadata": {},
     "output_type": "execute_result"
    }
   ],
   "source": [
    "sortList([10,9,8,7,6,5,4,3,2,1])"
   ]
  },
  {
   "cell_type": "code",
   "execution_count": 163,
   "metadata": {},
   "outputs": [
    {
     "name": "stdout",
     "output_type": "stream",
     "text": [
      "The list is not sorted, so we got issues. Index: 3 Length: 4\n"
     ]
    },
    {
     "data": {
      "text/plain": [
       "[34, 147, 478, 2334]"
      ]
     },
     "execution_count": 163,
     "metadata": {},
     "output_type": "execute_result"
    }
   ],
   "source": [
    "sortList([2334,34,147,478])"
   ]
  },
  {
   "cell_type": "markdown",
   "metadata": {},
   "source": [
    "## Exercise\n",
    "\n",
    "Implement error catching and complete the bulk of the code. "
   ]
  },
  {
   "cell_type": "code",
   "execution_count": 151,
   "metadata": {},
   "outputs": [],
   "source": [
    "# Input: list of numbers\n",
    "# Output: median of those numbers\n",
    "def generateMedian(median_list:list) -> float:\n",
    "    median = None\n",
    "    try:\n",
    "        num1 = median_list[0]\n",
    "        num2 = median_list[1]\n",
    "    except IndexError as e:\n",
    "        print(\"The list is not long enough to calculate the median.\")\n",
    "    else:\n",
    "        median = (num1 + num2) / 2\n",
    "    finally:\n",
    "        return median\n",
    "\n",
    "# Input: number\n",
    "# Output: square root \n",
    "def squareRoot(number:float) -> float:\n",
    "    try:\n",
    "        root = number**0.5\n",
    "    except TypeError as e:\n",
    "        print(\"The number must be a float or an int.\")\n",
    "\n",
    "    return root"
   ]
  },
  {
   "cell_type": "markdown",
   "metadata": {},
   "source": [
    "### Putting Things Together\n",
    "\n",
    "Once we have each piece working, we can assemble our code together. For this, we already have a tested and (hopefully working) core algorithm - the thing that finds the largest purchase and calculates the rebate. We just need to stitch it together. For mine, I'll update the main method to add some error checking, then call the other functions that I wrote above to do the work. In reality, I'd probably want to consolidate this stuff into a single section, but I don't need to go back to the old parts of the code that already work, like the middle number part that I wrote at the beginning. "
   ]
  },
  {
   "cell_type": "code",
   "execution_count": 152,
   "metadata": {},
   "outputs": [],
   "source": [
    "# Input: list of numbers\n",
    "# Output: the median of the middle number(s)\n",
    "def middleMedian(input_list:list) -> float:\n",
    "    # Find the middle index\n",
    "    pos1, pos2 = findMiddle(input_list)\n",
    "    # Calculate the median\n",
    "    try:\n",
    "        median = generateMedian([input_list[pos1], input_list[pos2]])\n",
    "    except AssertionError as e:\n",
    "        print(e)\n",
    "    else:\n",
    "        print(\"The median is: \"+str(median))\n",
    "    # Return the median\n",
    "    return median"
   ]
  },
  {
   "cell_type": "code",
   "execution_count": 153,
   "metadata": {},
   "outputs": [
    {
     "name": "stdout",
     "output_type": "stream",
     "text": [
      "The median is: 3.0\n",
      "The median is: 1.0\n",
      "The median is: 24.0\n",
      "The median is: 23.0\n"
     ]
    }
   ],
   "source": [
    "testMiddleMedian(test_middle_median_inputs, test_middle_median_outputs)\n"
   ]
  },
  {
   "cell_type": "markdown",
   "metadata": {},
   "source": [
    "## Exercise\n",
    "\n",
    "Build a function to construct the data for a histogram from a list of <b>float numbers</b>. The output should be:\n",
    "<ul>\n",
    "<li> A data structure that defines both the bins and the counts for each bin. There are many ways to do this, one of the built-in data structures is likely much better than the others. It could also be a custom data structure that you define. </li>\n",
    "    <ul>\n",
    "    <li> If you all are using the thinkstats/thinkplot stuff in stats, the optimal outcome would be something that could be fed directly into the Hist stuff. </li>\n",
    "    <li> The output could even be a Hist object, if you want to use that. </li>\n",
    "    </ul>\n",
    "<li> If you can get things working, try to add some error handling to skip over any non-float values. </li>\n",
    "</ul>\n",
    "\n",
    "![Histogram](../../images/histogram.png \"Histogram\")\n",
    "![Histogram](../images/histogram.png \"Histogram\")\n",
    "\n",
    "<b>We want the data in this, an indication of the range of each bin as well as the count of the items in there.</b>\n",
    "\n",
    "The specifications for this are consciously vague, there are lots of ways to achieve the above. In particular, the specific details on how you construct and define the bins can vary, as long as you are consistent internally. There are some general standards for how data is treated in Python that may help:\n",
    "<ul>\n",
    "<li> Ranges are generally assumed to be inclusive of the left boundary, exclusive on the right. </li>\n",
    "<li> There are functions that will do this for us, including \"cut\" in pandas, and \"linspace\" in numpy, but try to do it by hand here. </li>\n",
    "</ul>\n",
    "\n",
    "After the function is written, you can try to integrate it with the NHL stuff below, so that you can feed in any of the data columns and get a histogram of the data. Details are up to you, make it easy to get one of these histogram data structures form one of the stats. "
   ]
  },
  {
   "cell_type": "code",
   "execution_count": 164,
   "metadata": {},
   "outputs": [],
   "source": [
    "def getBinStarts(min_val, max_val, num_bins):\n",
    "    data_range = max_val - min_val\n",
    "    bin_width = data_range / num_bins\n",
    "    bin_starts = {min_val + i * bin_width:0 for i in range(num_bins)}\n",
    "    return bin_starts\n",
    "\n",
    "def histogramBuilder(input_data:list, num_bins:int=10) -> dict:\n",
    "    # Find the min and max of the data\n",
    "    # Calculate the range\n",
    "    # Calculate the bin width\n",
    "    # Calculate the bin left edges\n",
    "    # Calculate the bin centers\n",
    "    # Calculate the bin heights\n",
    "    # Return the bin centers and heights\n",
    "    for item in input_data:\n",
    "        try:\n",
    "            if type(item) != int and type(item) != float:\n",
    "                raise TypeError(\"The input data must be a list of numbers\"+str(item))\n",
    "        except TypeError as e:\n",
    "            #print(e)\n",
    "            input_data.remove(item)\n",
    "            continue\n",
    "\n",
    "    min_val = min(input_data)\n",
    "    max_val = max(input_data)\n",
    "    data_range = max_val - min_val\n",
    "    bin_width = data_range / num_bins\n",
    "\n",
    "    #bin_starts = {min_val + i * bin_width:0 for i in range(num_bins)}\n",
    "    bin_starts = getBinStarts(min_val, max_val, num_bins)\n",
    "    #print(bin_starts)\n",
    "\n",
    "    for item in input_data:\n",
    "        for i in bin_starts.keys():\n",
    "            #print(i, item)\n",
    "            if item >= int(i) and item < int(i) + bin_width:\n",
    "                #print(\"here\", bin_starts[i])\n",
    "                bin_starts[i] += 1\n",
    "    return bin_starts"
   ]
  },
  {
   "cell_type": "code",
   "execution_count": 165,
   "metadata": {},
   "outputs": [
    {
     "data": {
      "text/plain": [
       "{1.0: 5, 2.8: 4, 4.6: 2, 6.4: 2, 8.2: 2}"
      ]
     },
     "execution_count": 165,
     "metadata": {},
     "output_type": "execute_result"
    }
   ],
   "source": [
    "histogramBuilder([1,1,2,2.43,2,3,4,5,6,7,8,\"twelve\",9,10], 5)"
   ]
  },
  {
   "cell_type": "code",
   "execution_count": 166,
   "metadata": {},
   "outputs": [
    {
     "name": "stdout",
     "output_type": "stream",
     "text": [
      "(input_data: list, num_bins: int = 10) -> dict\n"
     ]
    }
   ],
   "source": [
    "print(inspect.signature(histogramBuilder))"
   ]
  },
  {
   "cell_type": "markdown",
   "metadata": {},
   "source": [
    "## Exercise\n",
    "\n",
    "Try to build out the class below. We want each instance of the class to represent one NHL team from the data below. The class should have at least the following attributes:\n",
    "<ul>\n",
    "<li> Team name </li>\n",
    "<li> Team stats - a dictionary of the stats for the team, with the stat name as the key and the value as the value. </li>\n",
    "</ul>\n",
    "\n",
    "As well as at least the following methods:\n",
    "<ul>\n",
    "<li> A constructor. </li>\n",
    "<li> A method to calculate the team's points. The PTS column has been dropped below, write a function to calculate it. A W is worth 2 points, an OL (both data columns) is worth 1 point. </li>\n",
    "<li> An overloaded __str___ method to print a sentence similar to \"This team has this many points\". </li>\n",
    "<li> \"Getter\" methods to return the stats and the name. </li>\n",
    "<li> <b>Bonus:</b> a \"calculateRank\" method that takes in a league as well as a column name, and returns the rank of the team in that column. </li>\n",
    "</ul>\n",
    "\n",
    "<b>Notes:</b>\n",
    "<ul>\n",
    "<li> Data structures are <i>mostly</i> pretty smart when it comes to making one from the contents of another. \n",
    "<li> You can call other methods from inside of a constructor. So if there was some method to \"set something up\", you can call that as the item is created, you don't need to copy/paste the code into the constructor. </li>\n",
    "<li> Pandas has several built in methods for aggregation that may be useful. </li>\n",
    "<li> The itterows method of a dataframe can be used to loop over the rows of a dataframe. E.g. for index, row in df.iterrows(): </li>\n",
    "</ul>\n",
    "\n",
    "<b>Note:</b> file access is a good spot for error handling. Here I created this file in a subfolder, so I can use the error catching to try the other path. "
   ]
  },
  {
   "cell_type": "code",
   "execution_count": 167,
   "metadata": {},
   "outputs": [
    {
     "name": "stdout",
     "output_type": "stream",
     "text": [
      "We got the data!\n"
     ]
    },
    {
     "data": {
      "text/html": [
       "<div>\n",
       "<style scoped>\n",
       "    .dataframe tbody tr th:only-of-type {\n",
       "        vertical-align: middle;\n",
       "    }\n",
       "\n",
       "    .dataframe tbody tr th {\n",
       "        vertical-align: top;\n",
       "    }\n",
       "\n",
       "    .dataframe thead th {\n",
       "        text-align: right;\n",
       "    }\n",
       "</style>\n",
       "<table border=\"1\" class=\"dataframe\">\n",
       "  <thead>\n",
       "    <tr style=\"text-align: right;\">\n",
       "      <th></th>\n",
       "      <th>Rk</th>\n",
       "      <th>Unnamed: 1</th>\n",
       "      <th>AvAge</th>\n",
       "      <th>GP</th>\n",
       "      <th>W</th>\n",
       "      <th>L</th>\n",
       "      <th>OL</th>\n",
       "      <th>PTS%</th>\n",
       "      <th>GF</th>\n",
       "      <th>GA</th>\n",
       "      <th>...</th>\n",
       "      <th>PK%</th>\n",
       "      <th>SH</th>\n",
       "      <th>SHA</th>\n",
       "      <th>PIM/G</th>\n",
       "      <th>oPIM/G</th>\n",
       "      <th>S</th>\n",
       "      <th>S%</th>\n",
       "      <th>SA</th>\n",
       "      <th>SV%</th>\n",
       "      <th>SO</th>\n",
       "    </tr>\n",
       "  </thead>\n",
       "  <tbody>\n",
       "    <tr>\n",
       "      <th>27</th>\n",
       "      <td>28.0</td>\n",
       "      <td>Vegas Golden Knights</td>\n",
       "      <td>28.2</td>\n",
       "      <td>6</td>\n",
       "      <td>2</td>\n",
       "      <td>4</td>\n",
       "      <td>0</td>\n",
       "      <td>0.333</td>\n",
       "      <td>13</td>\n",
       "      <td>20</td>\n",
       "      <td>...</td>\n",
       "      <td>80.00</td>\n",
       "      <td>1</td>\n",
       "      <td>0</td>\n",
       "      <td>9.0</td>\n",
       "      <td>8.8</td>\n",
       "      <td>208</td>\n",
       "      <td>6.3</td>\n",
       "      <td>202</td>\n",
       "      <td>0.901</td>\n",
       "      <td>0</td>\n",
       "    </tr>\n",
       "    <tr>\n",
       "      <th>28</th>\n",
       "      <td>29.0</td>\n",
       "      <td>Los Angeles Kings</td>\n",
       "      <td>28.2</td>\n",
       "      <td>6</td>\n",
       "      <td>1</td>\n",
       "      <td>4</td>\n",
       "      <td>1</td>\n",
       "      <td>0.250</td>\n",
       "      <td>14</td>\n",
       "      <td>20</td>\n",
       "      <td>...</td>\n",
       "      <td>58.82</td>\n",
       "      <td>0</td>\n",
       "      <td>1</td>\n",
       "      <td>7.2</td>\n",
       "      <td>10.0</td>\n",
       "      <td>218</td>\n",
       "      <td>6.4</td>\n",
       "      <td>184</td>\n",
       "      <td>0.891</td>\n",
       "      <td>0</td>\n",
       "    </tr>\n",
       "    <tr>\n",
       "      <th>29</th>\n",
       "      <td>30.0</td>\n",
       "      <td>Montreal Canadiens</td>\n",
       "      <td>28.3</td>\n",
       "      <td>7</td>\n",
       "      <td>1</td>\n",
       "      <td>6</td>\n",
       "      <td>0</td>\n",
       "      <td>0.143</td>\n",
       "      <td>11</td>\n",
       "      <td>25</td>\n",
       "      <td>...</td>\n",
       "      <td>64.00</td>\n",
       "      <td>0</td>\n",
       "      <td>0</td>\n",
       "      <td>7.7</td>\n",
       "      <td>7.4</td>\n",
       "      <td>192</td>\n",
       "      <td>5.7</td>\n",
       "      <td>201</td>\n",
       "      <td>0.876</td>\n",
       "      <td>0</td>\n",
       "    </tr>\n",
       "    <tr>\n",
       "      <th>30</th>\n",
       "      <td>31.0</td>\n",
       "      <td>Chicago Blackhawks</td>\n",
       "      <td>27.8</td>\n",
       "      <td>6</td>\n",
       "      <td>0</td>\n",
       "      <td>5</td>\n",
       "      <td>1</td>\n",
       "      <td>0.083</td>\n",
       "      <td>12</td>\n",
       "      <td>27</td>\n",
       "      <td>...</td>\n",
       "      <td>90.91</td>\n",
       "      <td>0</td>\n",
       "      <td>0</td>\n",
       "      <td>10.0</td>\n",
       "      <td>11.0</td>\n",
       "      <td>186</td>\n",
       "      <td>6.5</td>\n",
       "      <td>182</td>\n",
       "      <td>0.852</td>\n",
       "      <td>0</td>\n",
       "    </tr>\n",
       "    <tr>\n",
       "      <th>31</th>\n",
       "      <td>32.0</td>\n",
       "      <td>Arizona Coyotes</td>\n",
       "      <td>28.4</td>\n",
       "      <td>6</td>\n",
       "      <td>0</td>\n",
       "      <td>5</td>\n",
       "      <td>1</td>\n",
       "      <td>0.083</td>\n",
       "      <td>11</td>\n",
       "      <td>29</td>\n",
       "      <td>...</td>\n",
       "      <td>35.71</td>\n",
       "      <td>0</td>\n",
       "      <td>1</td>\n",
       "      <td>13.0</td>\n",
       "      <td>12.7</td>\n",
       "      <td>160</td>\n",
       "      <td>6.9</td>\n",
       "      <td>188</td>\n",
       "      <td>0.846</td>\n",
       "      <td>0</td>\n",
       "    </tr>\n",
       "  </tbody>\n",
       "</table>\n",
       "<p>5 rows × 31 columns</p>\n",
       "</div>"
      ],
      "text/plain": [
       "      Rk            Unnamed: 1  AvAge  GP  W  L  OL   PTS%  GF  GA  ...  \\\n",
       "27  28.0  Vegas Golden Knights   28.2   6  2  4   0  0.333  13  20  ...   \n",
       "28  29.0     Los Angeles Kings   28.2   6  1  4   1  0.250  14  20  ...   \n",
       "29  30.0    Montreal Canadiens   28.3   7  1  6   0  0.143  11  25  ...   \n",
       "30  31.0    Chicago Blackhawks   27.8   6  0  5   1  0.083  12  27  ...   \n",
       "31  32.0       Arizona Coyotes   28.4   6  0  5   1  0.083  11  29  ...   \n",
       "\n",
       "      PK%  SH  SHA  PIM/G  oPIM/G    S   S%   SA    SV%  SO  \n",
       "27  80.00   1    0    9.0     8.8  208  6.3  202  0.901   0  \n",
       "28  58.82   0    1    7.2    10.0  218  6.4  184  0.891   0  \n",
       "29  64.00   0    0    7.7     7.4  192  5.7  201  0.876   0  \n",
       "30  90.91   0    0   10.0    11.0  186  6.5  182  0.852   0  \n",
       "31  35.71   0    1   13.0    12.7  160  6.9  188  0.846   0  \n",
       "\n",
       "[5 rows x 31 columns]"
      ]
     },
     "execution_count": 167,
     "metadata": {},
     "output_type": "execute_result"
    }
   ],
   "source": [
    "\n",
    "try:\n",
    "    df = pd.read_excel(\"../data/sportsref_download.xlsx\", header=1)\n",
    "except FileNotFoundError as e:\n",
    "    df = pd.read_excel(\"../../data/sportsref_download.xlsx\", header=1)\n",
    "finally:\n",
    "    print(\"We got the data!\")\n",
    "\n",
    "df.drop(columns={\"PTS\"}, inplace=True)\n",
    "df = df.head(32)\n",
    "df.tail()"
   ]
  },
  {
   "cell_type": "code",
   "execution_count": 168,
   "metadata": {},
   "outputs": [],
   "source": [
    "class nhlTeam():\n",
    "\n",
    "    def __init__(self, team_name) -> None:\n",
    "        self.stats = dict()\n",
    "        self.name = team_name\n",
    "        self.POINTS = -1\n",
    "        #self.getPOINTS()\n",
    "        \n",
    "    def setPOINTS(self, win=\"W\", otl=\"OL\") -> None:\n",
    "        self.POINTS = self.stats[win] * 2 + self.stats[otl]\n",
    "\n",
    "    def loadData(self, stat_line):\n",
    "        self.stats = stat_line\n",
    "        self.setPOINTS()\n",
    "    \n",
    "    def getStats(self):\n",
    "        return self.stats\n",
    "    \n",
    "    def getName(self):\n",
    "        return self.name\n",
    "    \n",
    "    def calculateRank(self, league, stat):\n",
    "        tmp = []\n",
    "        for team in league:\n",
    "            tmp.append(team.stats[stat])\n",
    "        tmp.sort(reverse=True)\n",
    "        return tmp.index(self.stats[stat]) + 1\n",
    "    \n",
    "    def __str__(self) -> str:\n",
    "        return f\"{self.name} have {self.POINTS} points\""
   ]
  },
  {
   "cell_type": "markdown",
   "metadata": {},
   "source": [
    "This method is what I used to create a \"league\" of teams. You can use this, or you can create your own. Nothing in here is specifically needed, it just splits the team name and the rest of the stats, and feeds them into some of these NHL team objects above. The entire league is a list of objects. "
   ]
  },
  {
   "cell_type": "code",
   "execution_count": 169,
   "metadata": {},
   "outputs": [],
   "source": [
    "def buildLeague(file_path:str) -> dict:\n",
    "    df = pd.read_excel(file_path, header=1)\n",
    "    league = []\n",
    "\n",
    "    for row in df.iterrows():\n",
    "        #print(row[1][1])\n",
    "        team = nhlTeam(row[1][1])\n",
    "        tmp = dict(row[1][2:])\n",
    "        #print (tmp)\n",
    "        team.loadData(tmp)\n",
    "        league.append(team)\n",
    "    return league"
   ]
  },
  {
   "cell_type": "code",
   "execution_count": 170,
   "metadata": {},
   "outputs": [],
   "source": [
    "my_league = buildLeague(\"../../data/sportsref_download.xlsx\")"
   ]
  },
  {
   "cell_type": "markdown",
   "metadata": {},
   "source": [
    "#### Tests\n",
    "\n",
    "Print the teams to see their string representation. "
   ]
  },
  {
   "cell_type": "code",
   "execution_count": 171,
   "metadata": {},
   "outputs": [
    {
     "name": "stdout",
     "output_type": "stream",
     "text": [
      "Florida Panthers have 12 points\n",
      "Carolina Hurricanes have 10 points\n",
      "Edmonton Oilers have 10 points\n",
      "St. Louis Blues have 10 points\n",
      "Minnesota Wild have 10 points\n",
      "Washington Capitals have 10 points\n",
      "Buffalo Sabres have 9 points\n",
      "Calgary Flames have 9 points\n",
      "New York Rangers have 9 points\n",
      "San Jose Sharks have 8 points\n",
      "Columbus Blue Jackets have 8 points\n",
      "Pittsburgh Penguins have 8 points\n",
      "New York Islanders have 7 points\n",
      "Vancouver Canucks have 7 points\n",
      "Detroit Red Wings have 7 points\n",
      "Winnipeg Jets have 7 points\n",
      "Tampa Bay Lightning have 7 points\n",
      "Nashville Predators have 6 points\n",
      "Boston Bruins have 6 points\n",
      "Dallas Stars have 6 points\n",
      "New Jersey Devils have 6 points\n",
      "Anaheim Ducks have 5 points\n",
      "Philadelphia Flyers have 5 points\n",
      "Toronto Maple Leafs have 5 points\n",
      "Seattle Kraken have 5 points\n",
      "Ottawa Senators have 4 points\n",
      "Colorado Avalanche have 4 points\n",
      "Vegas Golden Knights have 4 points\n",
      "Los Angeles Kings have 3 points\n",
      "Montreal Canadiens have 2 points\n",
      "Chicago Blackhawks have 1 points\n",
      "Arizona Coyotes have 1 points\n",
      "League Average have 7 points\n"
     ]
    }
   ],
   "source": [
    "# Check the league and the __str__ method\n",
    "for team in my_league:\n",
    "    #print(team.getName())\n",
    "    print(team)"
   ]
  },
  {
   "cell_type": "markdown",
   "metadata": {},
   "source": [
    "Check the rank function."
   ]
  },
  {
   "cell_type": "code",
   "execution_count": 172,
   "metadata": {},
   "outputs": [
    {
     "data": {
      "text/plain": [
       "21"
      ]
     },
     "execution_count": 172,
     "metadata": {},
     "output_type": "execute_result"
    }
   ],
   "source": [
    "my_league[7].calculateRank(my_league, \"GA\")"
   ]
  }
 ],
 "metadata": {
  "kernelspec": {
   "display_name": "ml_env",
   "language": "python",
   "name": "python3"
  },
  "language_info": {
   "codemirror_mode": {
    "name": "ipython",
    "version": 3
   },
   "file_extension": ".py",
   "mimetype": "text/x-python",
   "name": "python",
   "nbconvert_exporter": "python",
   "pygments_lexer": "ipython3",
   "version": "3.10.9"
  },
  "orig_nbformat": 4
 },
 "nbformat": 4,
 "nbformat_minor": 2
}
