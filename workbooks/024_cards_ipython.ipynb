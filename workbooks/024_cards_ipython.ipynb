{
 "cells": [
  {
   "cell_type": "code",
   "execution_count": 9,
   "metadata": {},
   "outputs": [],
   "source": [
    "from ipywidgets import *\n",
    "import cards_sol_2 as cardsPY\n",
    "from ipywidgets import interact, interactive, fixed, interact_manual\n",
    "import pandas as pd\n",
    "import seaborn as sns\n"
   ]
  },
  {
   "cell_type": "markdown",
   "metadata": {},
   "source": [
    "# Basic GUIs With Widgets\n",
    "\n",
    "Almost every piece of software that you ever use outside of your own programming likely has some kind of user interface. Creating a graphical user interface (GUI) is something that is not super prevalent in data science, but is extremely common in other domains. For data science purposes we mostly work on the back end, particularly as we learn, but in real scenarios it is likely that whatever we create will need to be presented to someone somehow. This may take the form of a dashboard, web application, or something else, but the basic principles of a user interface are the same.\n",
    "\n",
    "## Widgets\n",
    "\n",
    "We are not making a full-blown GUI here, we will instead use ipywidgets to work within our notebook pages to create some interactive elements. This will allow us to create some simple GUIs that we can use to interact with our game. \n",
    "\n",
    "The widgets library can be thought of roughly as fulfilling the same role as dynamic HTML or old flash apps on webpages. We can create the basic elements of a GUI such as buttons, menus, textboxes, and so on. We can then add functionality to these elements to make them interactive. The widgets library is not the only way to create GUIs in Python, but it is a very simple way to get started. There is much, much more to both GUIs and widgets than this small example, but this should give you a taste of what is possible.\n",
    "\n",
    "The widget documentation page is here: https://ipywidgets.readthedocs.io/en/latest/ and has a reasonable set of documentation and examples. There are lists of all the different types of widgets and examples of their use and look - for the most part, there is a lot of overlap in how they all work, so once you get the hang of one, you can use them all.\n",
    "\n",
    "<b>Note: reference the documentation for most things here, it is excellent practice and very low stakes in this scenario. As we've mentioned, getting used to reading documentation, looking at some examples, and adapting them to your needs is a very important skill to develop as it allows you to tackle almost anything. </b>\n",
    "\n",
    "There are a lot of widgets... a lot. We will only use a few here, but you can explore the documentation to see what else is available."
   ]
  },
  {
   "cell_type": "code",
   "execution_count": 10,
   "metadata": {},
   "outputs": [
    {
     "data": {
      "application/vnd.jupyter.widget-view+json": {
       "model_id": "290219356904490abfe1c40faa8b2cae",
       "version_major": 2,
       "version_minor": 0
      },
      "text/plain": [
       "HBox(children=(Label(value='Sample Size'), IntSlider(value=100, description='Sample Size', max=1000, min=1), C…"
      ]
     },
     "metadata": {},
     "output_type": "display_data"
    }
   ],
   "source": [
    "sample_labels = Label(value='Sample Size')\n",
    "sample = IntSlider(min=1, max=1000, step=1, value=100, description='Sample Size')\n",
    "check = Checkbox(value=False, description='Show Sample')\n",
    "button = Button(description='Run Simulation')\n",
    "\n",
    "hb = HBox([sample_labels, sample, check, button])\n",
    "display(hb)"
   ]
  },
  {
   "cell_type": "markdown",
   "metadata": {},
   "source": [
    "### Prepare Code for GUI\n",
    "\n",
    "We will need to (potentially) modify some things to make what we wrote work with a GUI for the card game. This isn't something where we need to meet some specific requirements, but the way that code works when it is run behind the scenes is somewhat different than the way code runs when we are actively using it. In particular, one key difference in when things happen:\n",
    "<ul>\n",
    "<li> In a normal program without user interaction, the code runs from top to bottom, in the order that it is written and/or called. </li>\n",
    "<li> In a GUI, the code runs in response to user interaction. </li>\n",
    "</ul>\n",
    "\n",
    "So our general assumption that things happen in order isn't wrong, but the details have changed, so we can adapt. In particular, we can think of things in terms of user actions - when a user clicks a button, changes a value, or opens a menu, that should trigger some stuff to happen. We can think of this as a \"callback\" - the user does something, and that triggers a function to be called. We'll use callbacks later in machine learning to trigger actions like writing to a log, saving data, or plotting results while we leave a model to train, potentially for hours or days in real examples. \n",
    "\n",
    "In our card game, we can approach things similarly. I've thought about the code in the .py file in terms of functionality - each function we added increased the capability of our game to function. With a user actually playing, we can think of things in terms of user actions - like clicking a button. Each of the user actions might not map one-to-one with functionality that we've created before. Therefore, we may need to call more than one function for a user action, or split some actions that we've already written into multiple functions.\n",
    "\n",
    "One rule of thumb that I will follow here is something that we can generally follow in most cases - write one function that equates to each user action, such as a button click. As well, I will think of where the action is \"coming from\" or where it is being initiated. This is often not a huge concern for backend things as they just run, but for something that is run by a user, we need to consider it. For this game, we can have things \"coming from\" two types of sources:\n",
    "<ul>\n",
    "<li> A user </li>\n",
    "    <ul>\n",
    "    <li> In our case, this will be from our UI.</li>\n",
    "    <li> We also need to consider other players if we plan to make a complete working game. For us, I can add default values, or pretend to be Player 2. For a real application you'd likely want to have an interface that accepts player actions, and can receive them from different sources. In effect, you'd create an API for interacting with the system. </li>\n",
    "    </ul>\n",
    "<li> The computer </li>\n",
    "    <ul>\n",
    "    <li> Other actions can be based on time or circumstance, for example, after the final player has played the dealer position needs to decide a winner. This is an action that isn't (directly) initiated by a user. </li>\n",
    "    </ul>\n",
    "</ul>\n",
    "\n",
    "Different things will need to be accessible to different drivers of that actions, that may impact how we have things designed as some functions might make more sense being in different places, and some may even move from one class to another. \n",
    "\n",
    "### Registrations and Callbacks\n",
    "\n",
    "We will need to register our functions as callbacks for the widgets that we create. This is a fancy way of saying that we need to tell the widgets library that when a user clicks a button, we want a specific function to be called. We can do this by using the `on_click` method of the button widget. This method takes a function as an argument, and will call that function when the button is clicked.\n",
    "\n",
    "This approach is common in many cases where we are interacting with a person or listening for something to occur. We can think of it as a \"listener\" - we are listening for something to happen, and when it does, we want to do something. In this case, we are listening for a button to be clicked, and when it is, we want to do something.\n",
    "\n",
    "### Action Functions\n",
    "\n",
    "We will need to create some functions that will be called when a user clicks a button, or that would be called when any other action is triggered. These functions are \"registered\" to the widget, or whatever else drives them, and are automatically called when the action occurs. Here we have a function to update the label value based on the other values in the widgets. This function is called when the button is clicked, and the label is updated with the new value.\n",
    "\n",
    "If we look at the code that is in this example, one thing that you'll probably notice is that we have many functions that violate our general rule of only acting on the arguments, and not relying on code elsewhere in the program. This is something that is a common exemption to that \"rule\" - in effect, the entire program is acting as a single function, and we are just breaking it up into smaller pieces. This is a common approach in GUIs, and though it isn't universal, it does tend to make things easier to deal with, especially when starting. "
   ]
  },
  {
   "cell_type": "code",
   "execution_count": 11,
   "metadata": {},
   "outputs": [
    {
     "data": {
      "application/vnd.jupyter.widget-view+json": {
       "model_id": "4de8553e12834489b79c68a2c9ee362c",
       "version_major": 2,
       "version_minor": 0
      },
      "text/plain": [
       "VBox(children=(Label(value='Test'), Dropdown(description='Number:', index=1, options=('1', '2', '3'), value='2…"
      ]
     },
     "metadata": {},
     "output_type": "display_data"
    }
   ],
   "source": [
    "test_label = widgets.Label(value=\"Test\")\n",
    "combo_box = widgets.Dropdown(options=['1', '2', '3'], value='2', description='Number:')\n",
    "text_box = widgets.Text(value='Hello World!', description='Text:', disabled=False)\n",
    "button = widgets.Button(description='Click Me!')\n",
    "\n",
    "def on_test_clicked(b):\n",
    "    test_label.value = \"Clicked:\" + combo_box.value + \":\" + text_box.value\n",
    "button.on_click(on_test_clicked)\n",
    "\n",
    "box1 = VBox([test_label, combo_box, text_box, button])\n",
    "display(box1)"
   ]
  },
  {
   "cell_type": "markdown",
   "metadata": {},
   "source": [
    "### Game Design for GUI\n",
    "\n",
    "I will make the following changes to the backend to let things work with a GUI:\n",
    "\n",
    "<ul>\n",
    "<li> The FiveCardDraw class will the \"the game\" that lives in this code as an object. </li>\n",
    "<li> Therefore, I will structure most/all function calls to be on that game object. </li>\n",
    "    <ul>\n",
    "    <li> Actions that I called directly on cards, hands, or players before will likely now be called on the game object and passed down to the appropriate object. </li>\n",
    "    <li> This approach works well with the idea of a GUI, as we can have a single object that represents the game and can be \"played\" by sending actions and receiving responses from that object. Those inputs can come from our GUI here, but it would be easy to accept them from another GUI, a remote computer, or even a web interface. </li>\n",
    "    </ul>\n",
    "<li> I will need to think of a consistent way to interface with the players, banks, and hands from the outside. This is more of a usability thing than a strict requirement, as we want things to make sense. We can also revise this as we clean things up, particularly if we are working in an agile fashion, as I have been. </li>\n",
    "    <ul>\n",
    "    <li> My first thought is to have a list with each player number as the index, and each action (bet, swap cards, etc...) takes in the player number, or the list of player numbers as an argument. </li>\n",
    "    </ul>\n",
    "</ul>\n",
    "\n",
    "<b>Note:</b> for this example I'll do one round of betting only, so deal, bet/exchange, determine winner. \n",
    "\n",
    "For example, here's one function that I made to make the backend code work more smoothly with the GUI interface. This function is made to translate from the GUI to what we have in our code - it takes in two lists of the changes that make up one round, what cards to swap, and how much to bet. Since if a game of poker with real people works largely in rounds, this makes sense, everyone does their stuff, then that stuff all is sent in to the game object, and this new function will do the work on modifying the state. \n",
    "\n",
    "![New Function](../../images/new_method.png \"New Function\")\n",
    "![New Function](../images/new_method.png \"New Function\")\n",
    "\n",
    "#### Interim Notes\n",
    "\n",
    "This current version is somewhat messy and incomplete, that's normal and somewhat expected. Remember, we're trying to work through our initial solution incrementally and add a bit of functionality at a time. Translating something to be based on a GUI interface is a big change, so we can expect to have some issues. Here, we'll aim to accomplish a few things:\n",
    "<ul>\n",
    "<li> Show cards for one player. </li>\n",
    "<li> Allow betting. </li>\n",
    "<li> Allow swapping cards. </li>\n",
    "<li> Determine winner. </li>\n",
    "</ul>\n",
    "\n",
    "For now I'll try to get one round of the game working and displaying for one user, us. This is a small step, but a large one behind the scenes. \n",
    "\n",
    "Next time, we can try to bring it to a reasonably logical conclusion:\n",
    "<ul>\n",
    "<li> Clean this UI up a bit. </li>\n",
    "<li> Allow for several rounds back to back. (Loop the main code here?) </li>\n",
    "<li> Display the other player's cards and bank. </li>\n",
    "<li> Maybe - allow for multiple players (all manually controlled) </li>\n",
    "<li> If we're feeling motivated, improve the comparisons to make the winner determination more robust. </li>\n",
    "</ul>\n",
    "\n",
    "The important thing here is to get some more experience working on complex code, which I acknowledge may be tricky for many of you right now, as well as to practice working from documentation and getting exposure to the idea of callbacks. The details of using widgets isn't super important. "
   ]
  },
  {
   "cell_type": "code",
   "execution_count": 12,
   "metadata": {},
   "outputs": [],
   "source": [
    "# Placeholder to help us always get \n",
    "# the first player. \n",
    "PLAYER = 0"
   ]
  },
  {
   "cell_type": "markdown",
   "metadata": {},
   "source": [
    "##### Setup Game Object\n",
    "\n",
    "The first thing we need to do is to setup a game object so it can be \"played\". We can do this here, then \"launch\" the UI part with the game existing. "
   ]
  },
  {
   "cell_type": "code",
   "execution_count": 13,
   "metadata": {},
   "outputs": [],
   "source": [
    "game = cardsPY.FiveCardDraw()\n",
    "game.deal()\n",
    "tmp_hands = game.getHands()\n"
   ]
  },
  {
   "cell_type": "markdown",
   "metadata": {},
   "source": [
    "##### Create UI\n",
    "\n",
    "We can make a simple UI here by specifying the items we want, creating functions for actions, and displaying all that. Here I'll focus on one thing only - a round of one betting step, with one player here (visible to us). The other steps are looping/repeating this core - we do repetitive rounds of betting, repetitive rounds of new hands, and displaying several panels of cards."
   ]
  },
  {
   "cell_type": "code",
   "execution_count": 14,
   "metadata": {},
   "outputs": [
    {
     "data": {
      "application/vnd.jupyter.widget-view+json": {
       "model_id": "0fab9c9e866243afb58c6ef8a73348a4",
       "version_major": 2,
       "version_minor": 0
      },
      "text/plain": [
       "VBox(children=(ToggleButton(value=False, description='King of Clubs'), ToggleButton(value=False, description='…"
      ]
     },
     "metadata": {},
     "output_type": "display_data"
    },
    {
     "data": {
      "application/vnd.jupyter.widget-view+json": {
       "model_id": "f97278a4898b4cf1a3e2004995e2f492",
       "version_major": 2,
       "version_minor": 0
      },
      "text/plain": [
       "IntSlider(value=0)"
      ]
     },
     "metadata": {},
     "output_type": "display_data"
    },
    {
     "data": {
      "application/vnd.jupyter.widget-view+json": {
       "model_id": "c48ba39238e440afa28c8d4960e2029a",
       "version_major": 2,
       "version_minor": 0
      },
      "text/plain": [
       "Button(description='Submit', style=ButtonStyle())"
      ]
     },
     "metadata": {},
     "output_type": "display_data"
    },
    {
     "data": {
      "application/vnd.jupyter.widget-view+json": {
       "model_id": "e2126af8b89140c0b09e08d8a1e06f41",
       "version_major": 2,
       "version_minor": 0
      },
      "text/plain": [
       "Button(description='New Deal', style=ButtonStyle())"
      ]
     },
     "metadata": {},
     "output_type": "display_data"
    },
    {
     "data": {
      "application/vnd.jupyter.widget-view+json": {
       "model_id": "75872c138b07402893bf61ab584ce360",
       "version_major": 2,
       "version_minor": 0
      },
      "text/plain": [
       "Label(value='1000')"
      ]
     },
     "metadata": {},
     "output_type": "display_data"
    },
    {
     "data": {
      "application/vnd.jupyter.widget-view+json": {
       "model_id": "7c4a1419ced147f397eb1dc08c754f5f",
       "version_major": 2,
       "version_minor": 0
      },
      "text/plain": [
       "Label(value='No Winner')"
      ]
     },
     "metadata": {},
     "output_type": "display_data"
    }
   ],
   "source": [
    "# Action functions for callbacks\n",
    "def onSubmitButtonClicked(b):\n",
    "\n",
    "    swap_list = [card1Button.value, card2Button.value, card3Button.value, card4Button.value, card5Button.value]\n",
    "\n",
    "    swaps = [swap_list]\n",
    "    bets = [bet_amount.value]\n",
    "    game.submit(swaps, bets)\n",
    "\n",
    "    new_hand = game.getHands()\n",
    "    wins = game.calculateWinner()\n",
    "    for i, but in enumerate(buttonBox.children):\n",
    "        but.description = str(new_hand[0][i])\n",
    "        but.value = False\n",
    "    bank_label.value = str(game.getBank(PLAYER))\n",
    "    if wins == PLAYER:\n",
    "        win_label.value = \"WINNER\"\n",
    "    \n",
    "def forceUpdate(button):\n",
    "    game.deal()\n",
    "    tmp_hands = game.getHands()\n",
    "    tmp_hand = tmp_hands[0]\n",
    "    for i, but in enumerate(buttonBox.children):\n",
    "        but.description = str(tmp_hands[PLAYER][i])\n",
    "        but.value = False\n",
    "    #print(wins)\n",
    "    bank_label.value = str(game.getBank(PLAYER))\n",
    "    win_label.value = \"No Winner\"    \n",
    "\n",
    "# Create items\n",
    "card1Button = ToggleButton(description=tmp_hands[PLAYER][0], value=False)\n",
    "card2Button = ToggleButton(description=tmp_hands[PLAYER][1], value=False)\n",
    "card3Button = ToggleButton(description=tmp_hands[PLAYER][2], value=False)\n",
    "card4Button = ToggleButton(description=tmp_hands[PLAYER][3], value=False)\n",
    "card5Button = ToggleButton(description=tmp_hands[PLAYER][4], value=False)\n",
    "\n",
    "buttonBox = VBox([card1Button, card2Button, card3Button, card4Button, card5Button])\n",
    "display(buttonBox)\n",
    "\n",
    "bet_amount = IntSlider(min=0, max=100, step=1, value=0)\n",
    "display(bet_amount)\n",
    "\n",
    "submit = Button(description='Submit')\n",
    "submit.on_click(onSubmitButtonClicked)\n",
    "display(submit)\n",
    "    \n",
    "update = Button(description=\"New Deal\")\n",
    "update.on_click(forceUpdate)\n",
    "display(update)\n",
    "\n",
    "bank_label = Label(value=str(game.getBank(PLAYER)))\n",
    "display(bank_label)\n",
    "\n",
    "win_label = Label(value=\"No Winner\")\n",
    "display(win_label)"
   ]
  },
  {
   "cell_type": "markdown",
   "metadata": {},
   "source": [
    "## Exercise\n",
    "\n",
    "Try to build a simple widget-GUI to load a file, and make a scatterplot with a selector for each axis. There is a good example here: https://stackoverflow.com/questions/70620575/dynamic-ipywidgets-function-for-matplotlib-does-not-print-the-plot of something similar. If this is easy, try to add some things - try a button to take action of some sort on the data. For example, to remove outliers at the click of a button.\n",
    "\n",
    "![Example](../../images/example_dropdown.png \"Example\")\n",
    "![Example](../images/example_dropdown.png \"Example\")"
   ]
  },
  {
   "cell_type": "code",
   "execution_count": 15,
   "metadata": {},
   "outputs": [
    {
     "data": {
      "text/html": [
       "<div>\n",
       "<style scoped>\n",
       "    .dataframe tbody tr th:only-of-type {\n",
       "        vertical-align: middle;\n",
       "    }\n",
       "\n",
       "    .dataframe tbody tr th {\n",
       "        vertical-align: top;\n",
       "    }\n",
       "\n",
       "    .dataframe thead th {\n",
       "        text-align: right;\n",
       "    }\n",
       "</style>\n",
       "<table border=\"1\" class=\"dataframe\">\n",
       "  <thead>\n",
       "    <tr style=\"text-align: right;\">\n",
       "      <th></th>\n",
       "      <th>timestamp</th>\n",
       "      <th>company</th>\n",
       "      <th>level</th>\n",
       "      <th>title</th>\n",
       "      <th>totalyearlycompensation</th>\n",
       "      <th>location</th>\n",
       "      <th>yearsofexperience</th>\n",
       "      <th>yearsatcompany</th>\n",
       "      <th>tag</th>\n",
       "      <th>basesalary</th>\n",
       "      <th>...</th>\n",
       "      <th>Doctorate_Degree</th>\n",
       "      <th>Highschool</th>\n",
       "      <th>Some_College</th>\n",
       "      <th>Race_Asian</th>\n",
       "      <th>Race_White</th>\n",
       "      <th>Race_Two_Or_More</th>\n",
       "      <th>Race_Black</th>\n",
       "      <th>Race_Hispanic</th>\n",
       "      <th>Race</th>\n",
       "      <th>Education</th>\n",
       "    </tr>\n",
       "  </thead>\n",
       "  <tbody>\n",
       "    <tr>\n",
       "      <th>15710</th>\n",
       "      <td>1/27/2020 22:59:06</td>\n",
       "      <td>Google</td>\n",
       "      <td>L6</td>\n",
       "      <td>Software Engineer</td>\n",
       "      <td>400000</td>\n",
       "      <td>Sunnyvale, CA</td>\n",
       "      <td>5.0</td>\n",
       "      <td>5.0</td>\n",
       "      <td>Distributed Systems (Back-End)</td>\n",
       "      <td>210000.0</td>\n",
       "      <td>...</td>\n",
       "      <td>1</td>\n",
       "      <td>0</td>\n",
       "      <td>0</td>\n",
       "      <td>1</td>\n",
       "      <td>0</td>\n",
       "      <td>0</td>\n",
       "      <td>0</td>\n",
       "      <td>0</td>\n",
       "      <td>Asian</td>\n",
       "      <td>PhD</td>\n",
       "    </tr>\n",
       "    <tr>\n",
       "      <th>23532</th>\n",
       "      <td>7/3/2020 19:56:38</td>\n",
       "      <td>Microsoft</td>\n",
       "      <td>61</td>\n",
       "      <td>Software Engineer</td>\n",
       "      <td>136000</td>\n",
       "      <td>Redmond, WA</td>\n",
       "      <td>3.0</td>\n",
       "      <td>2.0</td>\n",
       "      <td>DevOps</td>\n",
       "      <td>124000.0</td>\n",
       "      <td>...</td>\n",
       "      <td>0</td>\n",
       "      <td>0</td>\n",
       "      <td>0</td>\n",
       "      <td>0</td>\n",
       "      <td>0</td>\n",
       "      <td>1</td>\n",
       "      <td>0</td>\n",
       "      <td>0</td>\n",
       "      <td>Two Or More</td>\n",
       "      <td>Bachelor's Degree</td>\n",
       "    </tr>\n",
       "    <tr>\n",
       "      <th>23533</th>\n",
       "      <td>7/3/2020 20:03:57</td>\n",
       "      <td>Google</td>\n",
       "      <td>L5</td>\n",
       "      <td>Software Engineer</td>\n",
       "      <td>337000</td>\n",
       "      <td>San Bruno, CA</td>\n",
       "      <td>6.0</td>\n",
       "      <td>6.0</td>\n",
       "      <td>Full Stack</td>\n",
       "      <td>177000.0</td>\n",
       "      <td>...</td>\n",
       "      <td>0</td>\n",
       "      <td>0</td>\n",
       "      <td>0</td>\n",
       "      <td>1</td>\n",
       "      <td>0</td>\n",
       "      <td>0</td>\n",
       "      <td>0</td>\n",
       "      <td>0</td>\n",
       "      <td>Asian</td>\n",
       "      <td>Bachelor's Degree</td>\n",
       "    </tr>\n",
       "    <tr>\n",
       "      <th>23534</th>\n",
       "      <td>7/3/2020 20:05:37</td>\n",
       "      <td>Microsoft</td>\n",
       "      <td>62</td>\n",
       "      <td>Software Engineer</td>\n",
       "      <td>222000</td>\n",
       "      <td>Seattle, WA</td>\n",
       "      <td>4.0</td>\n",
       "      <td>4.0</td>\n",
       "      <td>API Development (Back-End)</td>\n",
       "      <td>164000.0</td>\n",
       "      <td>...</td>\n",
       "      <td>0</td>\n",
       "      <td>0</td>\n",
       "      <td>0</td>\n",
       "      <td>1</td>\n",
       "      <td>0</td>\n",
       "      <td>0</td>\n",
       "      <td>0</td>\n",
       "      <td>0</td>\n",
       "      <td>Asian</td>\n",
       "      <td>Master's Degree</td>\n",
       "    </tr>\n",
       "    <tr>\n",
       "      <th>23535</th>\n",
       "      <td>7/3/2020 20:19:06</td>\n",
       "      <td>Blend</td>\n",
       "      <td>IC3</td>\n",
       "      <td>Software Engineer</td>\n",
       "      <td>187000</td>\n",
       "      <td>San Francisco, CA</td>\n",
       "      <td>5.0</td>\n",
       "      <td>0.0</td>\n",
       "      <td>Full Stack</td>\n",
       "      <td>165000.0</td>\n",
       "      <td>...</td>\n",
       "      <td>0</td>\n",
       "      <td>0</td>\n",
       "      <td>0</td>\n",
       "      <td>0</td>\n",
       "      <td>1</td>\n",
       "      <td>0</td>\n",
       "      <td>0</td>\n",
       "      <td>0</td>\n",
       "      <td>White</td>\n",
       "      <td>Bachelor's Degree</td>\n",
       "    </tr>\n",
       "  </tbody>\n",
       "</table>\n",
       "<p>5 rows × 29 columns</p>\n",
       "</div>"
      ],
      "text/plain": [
       "                timestamp    company level              title  \\\n",
       "15710  1/27/2020 22:59:06     Google    L6  Software Engineer   \n",
       "23532   7/3/2020 19:56:38  Microsoft    61  Software Engineer   \n",
       "23533   7/3/2020 20:03:57     Google    L5  Software Engineer   \n",
       "23534   7/3/2020 20:05:37  Microsoft    62  Software Engineer   \n",
       "23535   7/3/2020 20:19:06      Blend   IC3  Software Engineer   \n",
       "\n",
       "       totalyearlycompensation           location  yearsofexperience  \\\n",
       "15710                   400000      Sunnyvale, CA                5.0   \n",
       "23532                   136000        Redmond, WA                3.0   \n",
       "23533                   337000      San Bruno, CA                6.0   \n",
       "23534                   222000        Seattle, WA                4.0   \n",
       "23535                   187000  San Francisco, CA                5.0   \n",
       "\n",
       "       yearsatcompany                             tag  basesalary  ...  \\\n",
       "15710             5.0  Distributed Systems (Back-End)    210000.0  ...   \n",
       "23532             2.0                          DevOps    124000.0  ...   \n",
       "23533             6.0                      Full Stack    177000.0  ...   \n",
       "23534             4.0      API Development (Back-End)    164000.0  ...   \n",
       "23535             0.0                      Full Stack    165000.0  ...   \n",
       "\n",
       "       Doctorate_Degree  Highschool Some_College Race_Asian  Race_White  \\\n",
       "15710                 1           0            0          1           0   \n",
       "23532                 0           0            0          0           0   \n",
       "23533                 0           0            0          1           0   \n",
       "23534                 0           0            0          1           0   \n",
       "23535                 0           0            0          0           1   \n",
       "\n",
       "       Race_Two_Or_More  Race_Black  Race_Hispanic         Race  \\\n",
       "15710                 0           0              0        Asian   \n",
       "23532                 1           0              0  Two Or More   \n",
       "23533                 0           0              0        Asian   \n",
       "23534                 0           0              0        Asian   \n",
       "23535                 0           0              0        White   \n",
       "\n",
       "               Education  \n",
       "15710                PhD  \n",
       "23532  Bachelor's Degree  \n",
       "23533  Bachelor's Degree  \n",
       "23534    Master's Degree  \n",
       "23535  Bachelor's Degree  \n",
       "\n",
       "[5 rows x 29 columns]"
      ]
     },
     "execution_count": 15,
     "metadata": {},
     "output_type": "execute_result"
    }
   ],
   "source": [
    "df = pd.read_csv(\"../data/Salary_Survey.csv\")\n",
    "df.dropna(inplace=True)\n",
    "df.head()\n"
   ]
  },
  {
   "cell_type": "code",
   "execution_count": 16,
   "metadata": {},
   "outputs": [
    {
     "data": {
      "application/vnd.jupyter.widget-view+json": {
       "model_id": "b2c6748810124e36a85ebf6b5d5a7aaa",
       "version_major": 2,
       "version_minor": 0
      },
      "text/plain": [
       "interactive(children=(Dropdown(description='X Axis', options=('totalyearlycompensation', 'yearsofexperience', …"
      ]
     },
     "metadata": {},
     "output_type": "display_data"
    },
    {
     "data": {
      "text/plain": [
       "<function __main__.createScatter(x_col, y_col)>"
      ]
     },
     "execution_count": 16,
     "metadata": {},
     "output_type": "execute_result"
    }
   ],
   "source": [
    "# Do it, do it"
   ]
  }
 ],
 "metadata": {
  "kernelspec": {
   "display_name": "ml_env",
   "language": "python",
   "name": "python3"
  },
  "language_info": {
   "codemirror_mode": {
    "name": "ipython",
    "version": 3
   },
   "file_extension": ".py",
   "mimetype": "text/x-python",
   "name": "python",
   "nbconvert_exporter": "python",
   "pygments_lexer": "ipython3",
   "version": "3.10.9"
  },
  "orig_nbformat": 4
 },
 "nbformat": 4,
 "nbformat_minor": 2
}
