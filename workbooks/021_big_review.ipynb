{
 "cells": [
  {
   "cell_type": "code",
   "execution_count": null,
   "metadata": {},
   "outputs": [],
   "source": [
    "import pandas as pd\n",
    "import re"
   ]
  },
  {
   "cell_type": "markdown",
   "metadata": {},
   "source": [
    "# Review\n",
    "\n",
    "We can load some data to play with. \n",
    "\n",
    "Below there are a series of challenges that (mostly) use this data and that cover some of the big concepts that we have covered in the course so far. None of the things below are specific - you need to look at the data, decide on a goal, then work to build code to do it. There are multiple reasonable interpretations, and what you build is correct... until it isn't. Right now all these questions are asking is to make something simple, so many interpretations are reasonable. If we continued to build this into larger project, we might need to change stuff as more is asked of our code."
   ]
  },
  {
   "cell_type": "code",
   "execution_count": null,
   "metadata": {},
   "outputs": [],
   "source": [
    "df = pd.read_csv(\"../data/Salary_Survey.csv\")\n",
    "df.head()"
   ]
  },
  {
   "cell_type": "code",
   "execution_count": null,
   "metadata": {},
   "outputs": [],
   "source": [
    "df.describe(include=\"all\").T"
   ]
  },
  {
   "cell_type": "code",
   "execution_count": null,
   "metadata": {},
   "outputs": [],
   "source": [
    "df.info()"
   ]
  },
  {
   "cell_type": "markdown",
   "metadata": {},
   "source": [
    "## Loops, Control Logic, Data Structures\n",
    "\n",
    "<ol>\n",
    "<li> There are NaN values in several columns. Replace those with something better, that something should be something that you decide from the other data. There are several ways to do this, both in terms of ways to apply the change to every row in the data, and in terms of swapping the values. Try a couple of ways.</li>\n",
    "<li> Write a function to clean at least one column of data, use apply (or some equiv that isn't looping) to process that column. Dealer's choice on what to clean, I did making City and State to separate columns. </li>\n",
    "<li> There is a section of columns that look to be true/false values. Convert them to be boolean values. Then write a function that takes in those dataframe columns as in input (with the booleans) and returns an array of 1/0 values. (Yes, this involves redundent conversions). </li>\n",
    "<li> Find every time where the time is evenly on an hour (ingoring seconds) - so 01:00, 02:00, etc. </li>\n",
    "<li> (This may be harder to do completely, but for the simple ones it shouldn't be that bad - it might take some time to handle all edge cases though, so don't dwell on this too much in class) Write a function to process the \"other details\" column into something useful. There are lots of things you could do, one that makes sense is to take the academic degree info that is in that column and use that to update the \"education\" column. </li>\n",
    "</ol>"
   ]
  },
  {
   "cell_type": "code",
   "execution_count": null,
   "metadata": {},
   "outputs": [],
   "source": [
    "# I made this one, you can do this or other things. \n",
    "def cityStateSplitter(input_text):\n",
    "    pass"
   ]
  },
  {
   "cell_type": "code",
   "execution_count": null,
   "metadata": {},
   "outputs": [],
   "source": [
    "# Example of using mine\n",
    "#split_results = df[\"location\"].apply(cityStateSplitter)"
   ]
  },
  {
   "cell_type": "markdown",
   "metadata": {},
   "source": [
    "## Objects and Classes\n",
    "\n",
    "<ol>\n",
    "<li> Create classes for both Employees and Jobs. Populate each with the relevant attributes from the data. </li>\n",
    "    <ul>\n",
    "    <li> Override or create some basic useful stuff - str, repr, len, etc. </li>\n",
    "    <li> You'll need to split the data into the class it \"belongs\" to - this is the same idea as database normalization. </li>\n",
    "    </ul>\n",
    "<li> Build code to take in the arguments using a kwargs argument if there are a lot of attributes. </li>\n",
    "<li> Create the logic needed to sort Jobs by total compensation. </li>\n",
    "<li> Create some error checking using try/except blocks to ensure that the data that goes into at least a few of the attributes is valid. </li>\n",
    "<li> Create a function that takes in a text input, and a bunch of job/employee objects, and finds matching records. Good use of regex. (This is a bit open ended, we want to be able to seach for text matching a pattern, and get the row. Dynamic inputs make that a bit more complex than what I thought when I first wrote it.)</li>\n",
    "</ol>"
   ]
  },
  {
   "cell_type": "code",
   "execution_count": null,
   "metadata": {},
   "outputs": [],
   "source": [
    "class Employee:\n",
    "    def __init__(self) -> None:\n",
    "        pass\n",
    "\n",
    "class Job:\n",
    "    def __init__(**kwargs) -> None:\n",
    "        pass\n",
    "\n",
    "def process_data_load(df):\n",
    "    pass\n",
    "    # It might be useful to have a function that takes a dataframe and generates the job and employee objects"
   ]
  },
  {
   "cell_type": "markdown",
   "metadata": {},
   "source": [
    "## Inheritance\n",
    "\n",
    "<b>Not using the imported data.</b>\n",
    "\n",
    "<ol>\n",
    "<li> Create a few classes:</li>\n",
    "    <ul>\n",
    "    <li> A pet class, that contains things relating to a pet such as name, age, owner, etc...</li>\n",
    "    <li> A dog class, that inherits from the pet class, and adds things like breed, favorite toy, etc...</li>\n",
    "    <li> A cat class, that inherits from the pet class, and adds things like favorite food, etc...</li>\n",
    "    </ul>\n",
    "<li> Override the key methods for each class such as str(), eq(), etc... Exactly how to do this is abmiguous, you'll need to pick. </li>\n",
    "<li> Add a method to the Pet class called, \"prepare for vet visit\" that lists out the steps to get ready for a vet visit. For a pet object, this is pretty generic. For each subclass of pets, this can be specific - e.g. a cat might get put in a kennel, a dog might get a leash, etc... We should be able to loop over a bunch of pets and ask them all to get ready for the vet, each should do its thing depending on what it is. </li>\n",
    "<li></li>\n",
    "<li> Create a class called MyPets, that is a container that holds a bunch of pets and ties them to their owner. This is effectively a data structure that holds pets. </li>\n",
    "    <ul>\n",
    "    <li> This class should implement basic data structure stuff like str(), len(), etc... </li>\n",
    "    <li> Make sure that you can iterate through pets that are stored in the class. </li>\n",
    "    </ul>\n",
    "</ol>\n",
    "\n",
    "To test it and use it:\n",
    "<ul>\n",
    "<li> Create some pets, add them to a MyPets object. Make some dogs, some cats, and some other - that don't have a subclass and are a generic pet. </li>\n",
    "<li> Enumerate through the MyPets object and print out the pets. </li>\n",
    "<li> Sort the pets, based on whatever you defined for the comparison logic. </li>\n",
    "<li> Send a pet over to a friend, and remove it from your MyPets object. </li>\n",
    "</ul>\n",
    "\n",
    "This description is knowingly a bit vague, you'll need to make decisions on how to make things, exactly what you need, and where things should live. The exercise is to translate a simplified understanding of what pets are, what we know about them, and how we structure owning them into the model in our code. There is no specific correct answer, as long as this does what we need - such as keeping an inventory of our fur babies - it is good enough. "
   ]
  },
  {
   "cell_type": "code",
   "execution_count": null,
   "metadata": {},
   "outputs": [],
   "source": []
  },
  {
   "cell_type": "markdown",
   "metadata": {},
   "source": [
    "## Assignment #2 Bonus - Verifying Output\n",
    "\n",
    "For the next assignment you'll need to produce a specific output, that will be evaluated against expected results programmatically. This is a simple example of that - below there is a definition of a function that takes in a dataframe and two column name (in this case the total compensation and the base salary). The function returns a series that lists the differences between the two columns, with the difference being the total compensation minus the base salary.\n",
    "\n",
    "Underneath that is a function that evaluates accuracy of the first function. It pulls in the correct answers from some other file, and compares the results of the function that we write to that predefined set of answers. This is a simple example of how we can test our code to make sure that it is doing what we expect it to do. For assignment #2 I'm going to ask you to produce specific results like this, and your output needs to be in the exact format that we are asking for. You'll get a few things that you'll need to use:\n",
    "<ul>\n",
    "<li> A specified output format that you must produce </li>\n",
    "<li> A sample set of test data that you can use to verify that your code is working correctly </li>\n",
    "<li> A sample set of expected results that you can use to verify that your code is working correctly </li>\n",
    "<li> The tester function - this is like the one below, it just checks if your answer matches expectations. </li>\n",
    "</ul>\n",
    "\n",
    "So you'll need to ensure that your code works with the sample tests - i.e. run yours with test data, put the outputs through the error checker, and see if it works. I'll rerun your code with different input data and correct answers, and the output will determine the scores. If yours works with the test stuff, that means you're doing things correctly, and you'll be able to handle longer sets of data for evaluation. If it works, then it is 100% (on that part). This is strict and pedantic, but it is also very realistic. The number 1 thing that our code needs to do is to create the correct answers, so that's what we'll check. "
   ]
  },
  {
   "cell_type": "code",
   "execution_count": null,
   "metadata": {},
   "outputs": [],
   "source": [
    "# this function should take a dataframe and two columns to compare.\n",
    "# it returns a series of the difference between the two columns\n",
    "# i.e. total compensation - base salary\n",
    "def produceDifferences(dat, total=\"totalyearlycompensation\", base=\"basesalary\", output_file=\"difference.csv\"):\n",
    "    pass"
   ]
  },
  {
   "cell_type": "code",
   "execution_count": null,
   "metadata": {},
   "outputs": [],
   "source": [
    "# Call the function\n",
    "diffs = produceDifferences(df)"
   ]
  },
  {
   "cell_type": "markdown",
   "metadata": {},
   "source": [
    "#### Testing\n",
    "\n",
    "This part doesn't change except for the input file. Whatever your function above produces is checked against the file. \n",
    "\n",
    "In assignment 2 you'll get something similar to this, a testing function that takes your results and a set of answers, and scores them. You need to supply the \"diffs\" in this case, the rest is provided. "
   ]
  },
  {
   "cell_type": "code",
   "execution_count": null,
   "metadata": {},
   "outputs": [],
   "source": [
    "diffs.to_csv(\"diffs.csv\")"
   ]
  },
  {
   "cell_type": "code",
   "execution_count": null,
   "metadata": {},
   "outputs": [],
   "source": [
    "def verifyDifferences(diffs, truth):\n",
    "    \"\"\"This function will compare the differences that we have calculated to the truth values.\n",
    "\n",
    "    Args:\n",
    "        diffs (Series): The input differences that we are testing. \n",
    "        truth (Series): The true values that we are comparing to. \n",
    "    \"\"\"\n",
    "    errors = []\n",
    "    for i, diff in enumerate(diffs):\n",
    "        if diff != truth[i]:\n",
    "            print(\"Error at index\", i)\n",
    "            errors.append(i)\n",
    "    return errors"
   ]
  },
  {
   "cell_type": "code",
   "execution_count": null,
   "metadata": {},
   "outputs": [],
   "source": [
    "truths = pd.read_csv(\"diffs.csv\")[\"0\"]\n",
    "submissions = pd.read_csv(\"difference.csv\")[\"0\"]\n",
    "\n",
    "print(verifyDifferences(submissions, truths))\n",
    "print(\"Score:\", (1 - len(verifyDifferences(submissions, truths))/len(truths))*100, \"%\")"
   ]
  }
 ],
 "metadata": {
  "kernelspec": {
   "display_name": "ml_2",
   "language": "python",
   "name": "python3"
  },
  "language_info": {
   "codemirror_mode": {
    "name": "ipython",
    "version": 3
   },
   "file_extension": ".py",
   "mimetype": "text/x-python",
   "name": "python",
   "nbconvert_exporter": "python",
   "pygments_lexer": "ipython3",
   "version": "3.10.9"
  },
  "orig_nbformat": 4
 },
 "nbformat": 4,
 "nbformat_minor": 2
}
