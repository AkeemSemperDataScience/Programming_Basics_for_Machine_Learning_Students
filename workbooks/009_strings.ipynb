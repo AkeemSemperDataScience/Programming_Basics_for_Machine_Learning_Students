{
 "cells": [
  {
   "cell_type": "markdown",
   "metadata": {},
   "source": [
    "# Strings\n",
    "\n",
    "Strings are one of the most common types of objects used in Python, containing text data. A string is any set of characters that is longer than one character- ranging from data values like names or locations to entire paragraphs of text.\n",
    "\n",
    "Later, in machine learning, processing text is one of the (in my opinion) most interesting applications of analytics. We can use large amounts of text to create models that can identify emotions in text, translate languages, or even generate text like ChatGPT. We need to process and organize all that text data to make it useful for our modelling projects. \n",
    "\n",
    "## String Basics\n",
    "\n",
    "### Defining a String\n",
    "\n",
    "Strings are defined either with a single quote or a double quotes. Which one is used doesn't matter, as long as the start and end quotes match. \n",
    "\n",
    "### Printing a String\n",
    "\n",
    "Using Jupyter notebook with just a string in a cell will automatically output strings, but the correct way to display strings in your output is by using a print function. In notebook files we get the output of the final line of a cell printed by default, but we can use the print function to call on anything else to print. "
   ]
  },
  {
   "cell_type": "code",
   "execution_count": 111,
   "metadata": {},
   "outputs": [
    {
     "name": "stdout",
     "output_type": "stream",
     "text": [
      "Hello World 1\n",
      "Hello World 2\n",
      "Use \n",
      " to print a new line\n",
      "\n",
      "\n",
      "See what I mean?\n"
     ]
    }
   ],
   "source": [
    "# We can simply declare a string\n",
    "'Hello World'\n",
    "# note that we can't output multiple strings this way\n",
    "'Hello World 1'\n",
    "'Hello World 2'\n",
    "# We can print multiple strings this way\n",
    "print('Hello World 1')\n",
    "print('Hello World 2')\n",
    "print('Use \\n to print a new line')\n",
    "print('\\n')\n",
    "print('See what I mean?')"
   ]
  },
  {
   "cell_type": "markdown",
   "metadata": {},
   "source": [
    "### String Concatenation\n",
    "\n",
    "Concatenation is the process of combining two strings together. This is done with the + operator. This is another example of an operator overloading - the '+' operator is overloaded, or redefined, in the string class to do something logical for strings. The operator will combine the two strings together, in the order they are written, returning one string. \n",
    "\n",
    "We can also put multiple items in one print statement, separated by commas. This will print each item, separated by a space. This is an easy way to have multiple items in one print statement without having to worry about having to concatenate them together. This is useful for debugging, where we might want to print multiple variables at once and don't want to waste time making them look nice. "
   ]
  },
  {
   "cell_type": "code",
   "execution_count": 112,
   "metadata": {},
   "outputs": [
    {
     "name": "stdout",
     "output_type": "stream",
     "text": [
      "I'm the start and I'm the end!\n",
      "I'm the start   59 and I'm the end !\n"
     ]
    }
   ],
   "source": [
    "string1 = \"I'm the start\"\n",
    "string2 = \"and I'm the end\"\n",
    "puntuation = \"!\"\n",
    "aNumber = 59\n",
    "\n",
    "print(string1 + \" \" + string2 + puntuation)\n",
    "print(string1, \" \", aNumber, string2, puntuation)"
   ]
  },
  {
   "cell_type": "markdown",
   "metadata": {},
   "source": [
    "### String Conversions\n",
    "\n",
    "Strings can be converted to other data types using methods like int(), float(). This is useful if we have extracted a numerical value from somewhere and we want to use it in a calculation. Going in the other direction, we can use the str() method to convert many objects to strings. This is very common, we often need to do it when we want to do some sting operation, like concatenation, on a non-string object. In general, if something non-string is asked to print, it will just work; if something non-string is asked to do something \"beyond\" just printing, like concatenation, it will need to be converted to a string first.\n",
    "\n",
    "<b>Note:</b> this string conversion calls the __str__() method of an object, which provides the string representation of that object. When creating our own classes we need to write this to make sense for whatever we are creating. "
   ]
  },
  {
   "cell_type": "code",
   "execution_count": 113,
   "metadata": {},
   "outputs": [
    {
     "ename": "TypeError",
     "evalue": "can only concatenate str (not \"int\") to str",
     "output_type": "error",
     "traceback": [
      "\u001b[0;31m---------------------------------------------------------------------------\u001b[0m",
      "\u001b[0;31mTypeError\u001b[0m                                 Traceback (most recent call last)",
      "Cell \u001b[0;32mIn[113], line 2\u001b[0m\n\u001b[1;32m      1\u001b[0m stringNum \u001b[39m=\u001b[39m \u001b[39m\"\u001b[39m\u001b[39m47\u001b[39m\u001b[39m\"\u001b[39m\n\u001b[0;32m----> 2\u001b[0m \u001b[39mprint\u001b[39m(stringNum \u001b[39m+\u001b[39;49m \u001b[39m50\u001b[39;49m)\n",
      "\u001b[0;31mTypeError\u001b[0m: can only concatenate str (not \"int\") to str"
     ]
    }
   ],
   "source": [
    "stringNum = \"47\"\n",
    "print(stringNum + 50) # This will throw an error"
   ]
  },
  {
   "cell_type": "code",
   "execution_count": null,
   "metadata": {},
   "outputs": [
    {
     "name": "stdout",
     "output_type": "stream",
     "text": [
      "97\n"
     ]
    }
   ],
   "source": [
    "numFromString = int(stringNum)\n",
    "print(numFromString + 50) # This will work"
   ]
  },
  {
   "cell_type": "code",
   "execution_count": null,
   "metadata": {},
   "outputs": [
    {
     "ename": "NameError",
     "evalue": "name 'numFromString' is not defined",
     "output_type": "error",
     "traceback": [
      "\u001b[0;31m---------------------------------------------------------------------------\u001b[0m",
      "\u001b[0;31mNameError\u001b[0m                                 Traceback (most recent call last)",
      "Cell \u001b[0;32mIn[46], line 1\u001b[0m\n\u001b[0;32m----> 1\u001b[0m \u001b[39mprint\u001b[39m(\u001b[39m\"\u001b[39m\u001b[39mMy number:\u001b[39m\u001b[39m\"\u001b[39m \u001b[39m+\u001b[39m numFromString)\n",
      "\u001b[0;31mNameError\u001b[0m: name 'numFromString' is not defined"
     ]
    }
   ],
   "source": [
    "print(\"My number:\" + numFromString) # This will throw an error"
   ]
  },
  {
   "cell_type": "code",
   "execution_count": null,
   "metadata": {},
   "outputs": [
    {
     "name": "stdout",
     "output_type": "stream",
     "text": [
      "My number:47\n"
     ]
    }
   ],
   "source": [
    "print(\"My number:\" + str(numFromString)) # This will work"
   ]
  },
  {
   "cell_type": "markdown",
   "metadata": {},
   "source": [
    "### Strings as Containers\n",
    "\n",
    "Strings can also be thought of as containers, where each element in the string is a single character. In older, lower-level languages, strings were actually stored as arrays of characters. In Python we can treat a string mostly like a list of characters. \n",
    "\n",
    "#### String Indexing\n",
    "\n",
    "We can use square bracket notation to index individual characters in a string, or a \"slice\" to extract a sub-section of characters in a string. Just like a list we can use negative indices to count from the end of the string. The indexing of a string is zero-based, so the first character is at index 0.\n",
    "\n",
    "![String Indexing](../../images/string_index.png)\n",
    "![String Indexing](../images/string_index.png)\n",
    "\n",
    "#### String Methods\n",
    "\n",
    "Strings have a set of built-in methods that can be used to manipulate their contents.\n",
    "<ul>\n",
    "<li>upper() - returns a string with all characters upper case</li>\n",
    "<li>lower() - returns a string with all characters lower case</li>\n",
    "<li>capitalize() - returns a string with the first character upper case</li>\n",
    "<li>count() - returns the number of times a character or substring occurs in a string</li>\n",
    "<li>find() - returns the index of the first occurrence of a character or substring in a string</li>\n",
    "<li>replace() - returns a string with all occurrences of a character or substring replaced with another character or substring</li>\n",
    "<li>split() - returns a list of substrings separated by a delimiter</li>\n",
    "<li>join() - returns a string that is a concatenation of the strings in a list</li>\n",
    "</ul>\n",
    "\n",
    "The documentation for strings is located here: https://docs.python.org/3/library/stdtypes.html#string-methods "
   ]
  },
  {
   "cell_type": "code",
   "execution_count": null,
   "metadata": {},
   "outputs": [],
   "source": [
    "longString = 'I am a very long string with lots of characters in me'\n"
   ]
  },
  {
   "cell_type": "markdown",
   "metadata": {},
   "source": [
    "### String Characteristics\n",
    "\n",
    "As a data structure, strings are immutable - we cannot change individual elements of a string. If we wish to, we need to create a new string with the changes. This also means that when we use a function like upper() or lower() on a string, we are not changing the original string, but creating a new string with the changes."
   ]
  },
  {
   "cell_type": "code",
   "execution_count": null,
   "metadata": {},
   "outputs": [
    {
     "ename": "TypeError",
     "evalue": "'str' object does not support item assignment",
     "output_type": "error",
     "traceback": [
      "\u001b[0;31m---------------------------------------------------------------------------\u001b[0m",
      "\u001b[0;31mTypeError\u001b[0m                                 Traceback (most recent call last)",
      "Cell \u001b[0;32mIn[9], line 3\u001b[0m\n\u001b[1;32m      1\u001b[0m \u001b[39m# Attempt to change a character directly\u001b[39;00m\n\u001b[1;32m      2\u001b[0m \u001b[39m# We want to make it start with \"I-am...\"\u001b[39;00m\n\u001b[0;32m----> 3\u001b[0m longString[\u001b[39m1\u001b[39m] \u001b[39m=\u001b[39m \u001b[39m\"\u001b[39m\u001b[39m-\u001b[39m\u001b[39m\"\u001b[39m\n\u001b[1;32m      4\u001b[0m longString\n",
      "\u001b[0;31mTypeError\u001b[0m: 'str' object does not support item assignment"
     ]
    }
   ],
   "source": [
    "# Attempt to change a character directly\n",
    "# We want to make it start with \"I-am...\"\n",
    "longString[1] = \"-\"\n",
    "longString"
   ]
  },
  {
   "cell_type": "code",
   "execution_count": null,
   "metadata": {},
   "outputs": [
    {
     "data": {
      "text/plain": [
       "'I-am a very long string with lots of characters in me'"
      ]
     },
     "execution_count": 5,
     "metadata": {},
     "output_type": "execute_result"
    }
   ],
   "source": [
    "# Doing the same thing as above\n",
    "longString2 = longString[0]+'-'+longString[2:]\n",
    "longString2"
   ]
  },
  {
   "cell_type": "markdown",
   "metadata": {},
   "source": [
    "We can also use one of the String class methods that seems to change the original string, like replace. Here, we have two lines that will \"modify\" and print our long string. Going line by line:\n",
    "<ul>\n",
    "<li> The first statement does the replacement, but that string with replacements only exists as the return value of the replace method. It is not stored anywhere here, it is only the input to the print function.</li>\n",
    "<li> The second statement prints the longString after the replace() method runs, we can see it is unchanged.</li>\n",
    "</ul>"
   ]
  },
  {
   "cell_type": "code",
   "execution_count": null,
   "metadata": {},
   "outputs": [
    {
     "name": "stdout",
     "output_type": "stream",
     "text": [
      "I-am-a-very-long-string-with-lots-of-characters-in-me\n"
     ]
    },
    {
     "data": {
      "text/plain": [
       "'I am a very long string with lots of characters in me'"
      ]
     },
     "execution_count": 6,
     "metadata": {},
     "output_type": "execute_result"
    }
   ],
   "source": [
    "print(longString.replace(' ','-'))\n",
    "longString"
   ]
  },
  {
   "cell_type": "markdown",
   "metadata": {},
   "source": [
    "If we wanted to capture the result of the replace() method, we would need to assign it to a variable."
   ]
  },
  {
   "cell_type": "code",
   "execution_count": null,
   "metadata": {},
   "outputs": [
    {
     "name": "stdout",
     "output_type": "stream",
     "text": [
      "I am a very long string with lots of characters in me\n",
      "I-am-a-very-long-string-with-lots-of-characters-in-me\n"
     ]
    }
   ],
   "source": [
    "newString = longString.replace(' ','-')\n",
    "print(longString)\n",
    "print(newString)"
   ]
  },
  {
   "cell_type": "markdown",
   "metadata": {},
   "source": [
    "## String Escape Sequences\n",
    "\n",
    "There are a number of special characters that can be used in strings. These are called escape sequences. They are used to represent characters that are not printable, or that otherwise cannot be typed directly into a string. In Python, we need to preface some characters with a backslash to indicate that they are escape sequences.\n",
    "\n",
    "<ul>\n",
    "<li>\\n - newline</li>\n",
    "<li>\\t - tab</li>\n",
    "<li>\\' - single quote</li>\n",
    "<li>\\\" - double quote</li>\n",
    "<li>\\\\ - backslash</li>\n",
    "</ul>"
   ]
  },
  {
   "cell_type": "code",
   "execution_count": null,
   "metadata": {},
   "outputs": [
    {
     "name": "stdout",
     "output_type": "stream",
     "text": [
      "some text and then a tab \t and then some more text and then a new line \n",
      " and then some more text\n"
     ]
    }
   ],
   "source": [
    "print(\"some text and then a tab \\t and then some more text and then a new line \\n and then some more text\")"
   ]
  },
  {
   "cell_type": "markdown",
   "metadata": {},
   "source": [
    "### Raw Strings\n",
    "\n",
    "If we want to use a string that contains a lot of backslashes, we can use a raw string. Raw strings are defined by putting an r before the opening quote of a string. This tells Python to ignore all escape sequences in the string."
   ]
  },
  {
   "cell_type": "code",
   "execution_count": null,
   "metadata": {},
   "outputs": [
    {
     "name": "stdout",
     "output_type": "stream",
     "text": [
      "some text and then a tab \\t and then some more text and then a new line \\n and then some more text\n"
     ]
    }
   ],
   "source": [
    "# Raw\n",
    "print(r\"some text and then a tab \\t and then some more text and then a new line \\n and then some more text\")"
   ]
  },
  {
   "cell_type": "markdown",
   "metadata": {},
   "source": [
    "### Triple Quotes\n",
    "\n",
    "Triple quotes are used to define multi-line strings. They can be used with either single or double quotes. Triple quotes are also used to define docstrings, which are special strings used to document functions and classes that we'll look at soon."
   ]
  },
  {
   "cell_type": "code",
   "execution_count": null,
   "metadata": {},
   "outputs": [
    {
     "name": "stdout",
     "output_type": "stream",
     "text": [
      "This is a string that spans multiple lines\n",
      "                    and has a tab \t and a new line \n",
      " and a backslash \\\n",
      "                    and a double quote \" and a single quote ' and a carriage return \n",
      "                    and a form feed \f and a vertical tab \u000b\n",
      "                    and a bell \u0007 and a unicode character Δ\n"
     ]
    }
   ],
   "source": [
    "# Triple quotes\n",
    "trippleQuoteString = \"\"\"This is a string that spans multiple lines\n",
    "                    and has a tab \\t and a new line \\n and a backslash \\\\\n",
    "                    and a double quote \\\" and a single quote \\' and a carriage return \\r\n",
    "                    and a form feed \\f and a vertical tab \\v\n",
    "                    and a bell \\a and a unicode character \\u0394\"\"\"\n",
    "print(trippleQuoteString)"
   ]
  },
  {
   "cell_type": "markdown",
   "metadata": {},
   "source": [
    "### Unicode Strings\n",
    "\n",
    "In programming languages there are several different ways to represent characters. The most common is ASCII, which is a standard that uses 8 bits to represent each character. This allows for 256 different characters to be represented. This is enough for the English alphabet, numbers, and some special characters, but not enough for other languages that use different alphabets. Unicode is a standard that uses 16 bits to represent each character, allowing for 65,536 different characters to be represented. Python 3 uses Unicode by default, so we can use any character from any language in our strings.\n",
    "\n",
    "This means that every character we can think of typing is represented by some ID number. We can use the built-in ord() function to find the ID number of a character, and the chr() function to find the character associated with an ID number. We can use these IDs to insert characters into our strings that we don't have a key for on our keyboard. For things like Greek Letters, foreign punctuation, or even emojis we can look up the code for that character and insert it into our string.\n",
    "\n",
    "The Wikipedia article here has a list, but there are many sites listing and explaining the codes. https://en.wikipedia.org/wiki/List_of_Unicode_characters "
   ]
  },
  {
   "cell_type": "code",
   "execution_count": null,
   "metadata": {},
   "outputs": [
    {
     "name": "stdout",
     "output_type": "stream",
     "text": [
      "ä\n",
      "Q\n",
      "😗\n"
     ]
    }
   ],
   "source": [
    "ummlaut = \"\\u00E4\"\n",
    "letterQ = \"\\u0051\"\n",
    "emoji = \"\\U0001F617\"\n",
    "\n",
    "print(ummlaut)\n",
    "print(letterQ)\n",
    "print(emoji)"
   ]
  },
  {
   "cell_type": "code",
   "execution_count": null,
   "metadata": {},
   "outputs": [
    {
     "name": "stdout",
     "output_type": "stream",
     "text": [
      "228\n",
      "ä\n"
     ]
    }
   ],
   "source": [
    "# Look up the unicode value for a character\n",
    "print(ord(ummlaut))\n",
    "print(chr(228))"
   ]
  },
  {
   "cell_type": "markdown",
   "metadata": {},
   "source": [
    "## String Formatting\n",
    "\n",
    "When printing strings, we often want to include variables in the output. We can do this by concatenating strings and variables together, but this can get messy. Python provides three main ways to format strings to include variables: the % operator, the format() method, and f-strings. This formatting is primarily used in data science to allow us to print output in our notebooks in a readable way - we are generally exploring and revising inside a notebook as we work, so having readable output is important, since we'll be reading it. \n",
    "\n",
    "### String Formatting with the % Operator\n",
    "\n",
    "The % operator can be used to format strings. The % operator is used to format a set of variables enclosed in a \"tuple\" (a fixed size list), together with a format string, which contains normal text together with \"argument specifiers\", special symbols like %s and %d. The symbols used are (you can probably stop after the first three):\n",
    "<ul>\n",
    "<li>%s - String (or any object with a string representation, like numbers)</li>\n",
    "<li>%d - Integers</li>\n",
    "<li>%f - Floating point numbers</li>\n",
    "<li>%.<number of digits>f - Floating point numbers with a fixed amount of digits to the right of the dot.</li>\n",
    "<li>%x/%X - Integers in hex representation (lowercase/uppercase)</li>\n",
    "</ul>\n",
    "\n",
    "The structure of the string is:\n",
    "\n",
    "\"actual string with the % operators in it\" % (tuple of variables)"
   ]
  },
  {
   "cell_type": "code",
   "execution_count": null,
   "metadata": {},
   "outputs": [
    {
     "name": "stdout",
     "output_type": "stream",
     "text": [
      "The quick brown fox jumped over the lazy dog\n",
      "I am some text that is so long that I need to split it up over\n",
      " multiple lines for readability\n"
     ]
    }
   ],
   "source": [
    "# Using the % operator\n",
    "print('The %s %s fox jumped over the %s dog' %('quick', 'brown', 'lazy'))"
   ]
  },
  {
   "cell_type": "markdown",
   "metadata": {},
   "source": [
    "We can also split up long declarations for a function over multiple lines by using parentheses to group the parts of the function call together. This is a common practice in Python, and is used to make code more readable. We'll use this pretty regularly later in machine learning when we need to make function calls that have a lot of parameters. Note the parentheses around the function call below, that allow us to split the function call over multiple lines."
   ]
  },
  {
   "cell_type": "code",
   "execution_count": null,
   "metadata": {},
   "outputs": [],
   "source": [
    "reallyLongString = (\"I am some text that is so %s \"\n",
    "                    \"that I need to split it up over \"\n",
    "                    \"%s lines for readability\" %\n",
    "                    ('long', 'multiple')\n",
    "                    )\n",
    "print(reallyLongString)"
   ]
  },
  {
   "cell_type": "markdown",
   "metadata": {},
   "source": [
    "### String Formatting with the format() Method\n",
    "\n",
    "The format() method that we used above is another way to format strings. It is more powerful than the % operator, and can be used to format strings in a variety of ways. The basic idea is to include placeholders in the string, which are then replaced by the arguments of the format() method. The placeholders are defined by curly braces: {}. Anything that is not contained in braces is considered literal text, which is copied unchanged to the output. If you need to include a brace character in the literal text, it can be escaped by doubling: {{ and }}.\n",
    "\n",
    "The placeholders can include a number, which is used to specify the position of the argument to the format() method. This allows for re-arranging the order of display without changing the arguments. They can also include a variable name, which is used to specify the keyword argument to the format() method. This allows for re-arranging the order of arguments, if they are all included as keyword arguments.\n",
    "\n",
    "#### Print Formatting\n",
    "\n",
    "There are many modifiers that we can use with the format() method to control the formatting of the output. For example, below we've forced the age to print as a float with a forced positive sign and a different number of decimal places. These modifiers are inserted after a colon in the curly brace placeholder. The general syntax is:\n",
    "\n",
    "{<argument_index_or_keyword>:<format_spec>}\n",
    "\n",
    "There are lots and lots of options here:\n",
    "\n",
    "![Formatting Options](../../images/formatting.png \"Formatting Options\")\n",
    "![Formatting Options](../images/formatting.png \"Formatting Options\")\n",
    "\n",
    "In general, being formatting experts isn't critically important for us, but we should be able to print things out in a nice format if we need to. "
   ]
  },
  {
   "cell_type": "code",
   "execution_count": 185,
   "metadata": {},
   "outputs": [
    {
     "name": "stdout",
     "output_type": "stream",
     "text": [
      "Insert another string with curly brackets: The inserted string\n",
      "My name is John and I am +30.000000 years old\n",
      "My name is John and I am +30.0 years old\n",
      "My name is 30 and I am John years old\n"
     ]
    }
   ],
   "source": [
    "# Format with theformat operator\n",
    "print('Insert another string with curly brackets: {}'.format('The inserted string'))\n",
    "print('My name is {:} and I am {:+f} years old'.format('John', 30))\n",
    "print('My name is {one} and I am {two:+.1f} years old'.format(one='John', two=30))\n",
    "print('My name is {1} and I am {0} years old'.format('John', 30))\n"
   ]
  },
  {
   "cell_type": "markdown",
   "metadata": {},
   "source": [
    "### F-Strings\n",
    "\n",
    "F-strings are a new way to format strings in Python 3.6 and above. They are similar to the format() method, but are simpler to use and faster to execute. They are indicated by an f before the opening quotation mark of the string. Similar to the format() method, they use curly braces to indicate where variables will be substituted into the string. The variables are simply named inside the braces."
   ]
  },
  {
   "cell_type": "code",
   "execution_count": null,
   "metadata": {},
   "outputs": [
    {
     "name": "stdout",
     "output_type": "stream",
     "text": [
      "My name is John and I am 30 years old\n"
     ]
    }
   ],
   "source": [
    "# F-Srings\n",
    "name = 'John'\n",
    "age = 30\n",
    "print(f'My name is {name} and I am {age} years old')"
   ]
  },
  {
   "cell_type": "markdown",
   "metadata": {},
   "source": [
    "One odd note about f-strings is that we can't directly embed a newline character in them. We can get around this by declaring a variable with the newline character in it, and then using that variable in the f-string."
   ]
  },
  {
   "cell_type": "code",
   "execution_count": 169,
   "metadata": {},
   "outputs": [
    {
     "name": "stdout",
     "output_type": "stream",
     "text": [
      "Hello, John!\n",
      "You are +30.000000 years old\n"
     ]
    }
   ],
   "source": [
    "newline = '\\n'\n",
    "print(f'Hello, {name}!{newline}You are {age:+f} years old')"
   ]
  },
  {
   "cell_type": "markdown",
   "metadata": {},
   "source": [
    "## Exercises\n",
    "\n",
    "### Exercise 1\n",
    "\n",
    "Write a function that takes a string as input and returns the string reversed.\n",
    "\n",
    "### Exercise 2\n",
    "\n",
    "Write a function that takes a string as input and returns the number of times each word is repeated. The function should return a dictionary with the words as keys and the number of times each word is repeated as values.\n",
    "\n",
    "### Exercise 3\n",
    "\n",
    "Write a function that takes a string as input and returns the number of times each letter is repeated. The function should return a dictionary with the letters as keys and the number of times each letter is repeated as values."
   ]
  },
  {
   "cell_type": "code",
   "execution_count": 186,
   "metadata": {},
   "outputs": [],
   "source": [
    "# Exercises\n",
    "    "
   ]
  },
  {
   "cell_type": "markdown",
   "metadata": {},
   "source": [
    "## String Logic\n",
    "\n",
    "Strings can be used in logical expressions and we frequently use logic based on strings in our programs.\n",
    "\n",
    "<b>Note:</b> Empty strings are considered False, and non-empty strings are considered True. \n",
    "\n",
    "### String Comparison\n",
    "\n",
    "Strings can be compared using the standard comparison operators. The comparison is done character by character, starting with the first character in each string. If the first character in each string is the same, the next character is compared, and so on. If all the characters in the first string are the same as the corresponding characters in the second string, the strings are equal. If the characters are not the same, the string with the smaller character is considered smaller. If one string is a prefix of the other, the shorter string is considered smaller. If the strings are the same length and have the same characters up to a point, the string with the character that would be smaller in ASCII is considered smaller."
   ]
  },
  {
   "cell_type": "code",
   "execution_count": 188,
   "metadata": {},
   "outputs": [
    {
     "name": "stdout",
     "output_type": "stream",
     "text": [
      "False\n",
      "False\n",
      "True\n",
      "True\n"
     ]
    }
   ],
   "source": [
    "text1 = 'Hello'\n",
    "text2 = 'Yello'\n",
    "text3 = 'Hell'\n",
    "text4 = 'Hello'\n",
    "\n",
    "print(text1 == text2)\n",
    "print(text1 == text3)\n",
    "print(text1 == text4)\n",
    "print(text1 != text2)"
   ]
  },
  {
   "cell_type": "markdown",
   "metadata": {},
   "source": [
    "#### String Logic\n",
    "\n",
    "Strings will also allow for comparisons like less than or greater than, but some care needs to be taken. These will return a test for things that are \"lexicographically\" greater or lesser, which means that it'll do a comparison for which comes first in the dictionary. This is useful for sorting strings, but not so much for other things. One concern is that uppercase and lower case characters are not treated the same here, all uppercase characters come before all lowercase characters in the ordering. \n",
    "\n",
    "If we want more robust order comparisons, we should probably write something ourselves or "
   ]
  },
  {
   "cell_type": "code",
   "execution_count": 189,
   "metadata": {},
   "outputs": [
    {
     "data": {
      "text/plain": [
       "True"
      ]
     },
     "execution_count": 189,
     "metadata": {},
     "output_type": "execute_result"
    }
   ],
   "source": [
    "text1 < text2"
   ]
  },
  {
   "cell_type": "code",
   "execution_count": 190,
   "metadata": {},
   "outputs": [
    {
     "data": {
      "text/plain": [
       "False"
      ]
     },
     "execution_count": 190,
     "metadata": {},
     "output_type": "execute_result"
    }
   ],
   "source": [
    "\"hello\" < \"Hello\""
   ]
  },
  {
   "cell_type": "markdown",
   "metadata": {},
   "source": [
    "### String Comparison Methods\n",
    "\n",
    "Strings have a set of built-in methods that can be used to compare strings. These methods return a boolean value, either True or False. Some methods are:\n",
    "<ul>\n",
    "<li>isalpha() - returns True if all characters in the string are alphabetic</li>\n",
    "<li>isalnum() - returns True if all characters in the string are alphanumeric</li>\n",
    "<li>isdecimal() - returns True if all characters in the string are decimal</li>\n",
    "<li>isspace() - returns True if all characters in the string are whitespace</li>\n",
    "<li>islower() - returns True if all characters in the string are lower case</li>\n",
    "<li>isupper() - returns True if all characters in the string are upper case</li>\n",
    "<li>istitle() - returns True if the string is title cased</li>\n",
    "</ul>\n",
    "\n",
    "These are useful for checking the contents of a string if we are cleaning up some data. We can test to see if a string matches whatever we require from it, such as only having letters in it, then go and do whatever cleaning we need to do to fix it. We can also use them for easy conditions - if a value is a number, go and do something; if it is not, go clean it up. "
   ]
  },
  {
   "cell_type": "code",
   "execution_count": 191,
   "metadata": {},
   "outputs": [
    {
     "name": "stdout",
     "output_type": "stream",
     "text": [
      "True\n",
      "False\n"
     ]
    }
   ],
   "source": [
    "print(text1.isalnum())\n",
    "print(text1.islower())"
   ]
  },
  {
   "cell_type": "markdown",
   "metadata": {},
   "source": [
    "#### Character Comparisons\n",
    "\n",
    "Note that when comparing things, sometimes there are characters that look the same but are different characters in the embedding. If comparing these, the comparison will not see them as the same, because they are not the same object. This is something to be aware of when using large text datasets, particularly if that text was gathered from multiple sources; some clean up is needed to ensure that we aren't hurt by odd issues like this.\n",
    "\n",
    "One notable example of this are the two different types of dashes, emdash and endash. If we print them, they look the same, but they are not. In Python, these are represented by the strings \"\\u2014\" and \"\\u2013\". If we compare these strings, they are not equal, because they are different objects. \n",
    "\n",
    "<b>Mostly Irrelevant Note:</b> These are used in typography to indicate different things, and are different characters. The emdash is used to indicate a break in a sentence, and is the width of a capital M. The endash is used to indicate a range of numbers, and is the width of a capital N. "
   ]
  },
  {
   "cell_type": "code",
   "execution_count": 192,
   "metadata": {},
   "outputs": [
    {
     "name": "stdout",
     "output_type": "stream",
     "text": [
      "—\n",
      "–\n",
      "False\n"
     ]
    }
   ],
   "source": [
    "emdash = '\\u2014'\n",
    "endash = '\\u2013'\n",
    "\n",
    "print(emdash)\n",
    "print(endash)\n",
    "print(emdash == endash)"
   ]
  },
  {
   "cell_type": "markdown",
   "metadata": {},
   "source": [
    "### String Loops\n",
    "\n",
    "Since strings are containers, we can loop over them. A for loop over a string will return each character in the string in order. We can use this to do things like count the number of times a character appears in a string."
   ]
  },
  {
   "cell_type": "code",
   "execution_count": 193,
   "metadata": {},
   "outputs": [
    {
     "data": {
      "text/plain": [
       "{'I': 1,\n",
       " ' ': 11,\n",
       " 'a': 4,\n",
       " 'm': 2,\n",
       " 'v': 1,\n",
       " 'e': 3,\n",
       " 'r': 4,\n",
       " 'y': 1,\n",
       " 'l': 2,\n",
       " 'o': 3,\n",
       " 'n': 3,\n",
       " 'g': 2,\n",
       " 's': 3,\n",
       " 't': 4,\n",
       " 'i': 3,\n",
       " 'w': 1,\n",
       " 'h': 2,\n",
       " 'f': 1,\n",
       " 'c': 2}"
      ]
     },
     "execution_count": 193,
     "metadata": {},
     "output_type": "execute_result"
    }
   ],
   "source": [
    "dictChars = {}\n",
    "for char in longString:\n",
    "    dictChars[char] = dictChars.get(char, 0) + 1\n",
    "\n",
    "dictChars"
   ]
  },
  {
   "cell_type": "markdown",
   "metadata": {},
   "source": [
    "### String Membership\n",
    "\n",
    "We can use the \"in\" operator to check if a string is a substring of another string. We can also use the startswith() and endswith() methods to check if a string starts or ends with a particular substring. All of these methods return a boolean value, so they can be used in logical expression conditions easily. \n",
    "\n",
    "### String Searching\n",
    "\n",
    "We can use the find() method to search for a substring in a string. This method returns the index of the first occurrence of the substring, or -1 if the substring is not found. We can also use the rfind() method to search for a substring starting from the end of the string. This method returns the index of the last occurrence of the substring, or -1 if the substring is not found."
   ]
  },
  {
   "cell_type": "code",
   "execution_count": 194,
   "metadata": {},
   "outputs": [
    {
     "name": "stdout",
     "output_type": "stream",
     "text": [
      "True\n",
      "False\n",
      "7\n"
     ]
    }
   ],
   "source": [
    "# in Strings\n",
    "isIn1 = \"very\" in longString\n",
    "isIn2 = \"Cowabunga\" in longString\n",
    "\n",
    "print(isIn1)\n",
    "print(isIn2)\n",
    "print(longString.find(\"very\"))"
   ]
  },
  {
   "cell_type": "markdown",
   "metadata": {},
   "source": [
    "### __repr__() vs __str__()\n",
    "\n",
    "There is another method, __repr__(), which is similar to __str__(). This method returns a string representation of the object as well, very similar to the str() function. The difference is intent - __str__() is intended to return a human-readable string representation of the object, while __repr__() is intended to return a string representation of the object that can be used to recreate the object. For strings, and most other simple data types, these two are the same. For more complex objects, the representation returned by __repr__() may be more elaborate or detailed. Notice that if you put just one of your new objects on a line in a notebook, the __repr__() method is called to display it. If you put the object in a print, the __str__() method is called to display it."
   ]
  },
  {
   "cell_type": "markdown",
   "metadata": {},
   "source": [
    "## Exercise\n",
    "\n",
    "Create a class called Review, that represents one review of the Threads app, taken from the data below. The class should have the following attributes (at least):\n",
    "<ul>\n",
    "<li> review_id - the id of the review. This should be unique. </li>\n",
    "<li> description - the text of the actual review. </li>\n",
    "<li> rating - the rating given to the app by the reviewer on a 1 to 5 scale. </li>\n",
    "<li> date - the date the review was posted. </li>\n",
    "<li> words - a list of the unique alphanumeric words in the review text.\n",
    "</ul>\n",
    "\n",
    "As well, the class should have the following methods (at least):\n",
    "<ul>\n",
    "<li> __init__ - the constructor, which should take the review_id, description, rating, and date as parameters. </li>\n",
    "<li> __str__ - the string representation of the object. This should return a string only the rating and the date (and free text you add to make a statement) </li>\n",
    "<li> __eq__ - this overloads the == operator. It should take another Review object as a parameter, and return True if the RATING of the two are the same. </li>\n",
    "<li> __repr__ - this overloads the repr() function. It should return a string containing ALL OF the review_id, description, rating, and date. Try to make this one different from the other one, at a minimum format this string differently. </li>\n",
    "<li><br></li>\n",
    "<li> word_in_review - this should return True if the supplied arguent is in the words of the review, and False otherwise. </li>\n",
    "<li> get_rating - a method that returns the rating of the review. </li>\n",
    "<li> get_date - a method that returns the date of the review. </li>\n",
    "<li> get_description - a method that returns the description of the review. </li>\n",
    "<li> set_rating - a method that takes a new rating as a parameter and sets the rating of the review to the new value. </li>\n",
    "</ul>\n",
    "\n",
    "Once your class is created, create a list of Review objects, one for each of the first 100 reviews. Then, write a function that takes a list of Review objects as a parameter and returns the average rating of the reviews in the list.\n",
    "\n",
    "<b>Note:</b> for row in iterrows() will loop through rows in a dataframe, returning the index and the row as a tuple. We can use this to create our Review objects."
   ]
  },
  {
   "cell_type": "code",
   "execution_count": 195,
   "metadata": {},
   "outputs": [
    {
     "data": {
      "text/html": [
       "<div>\n",
       "<style scoped>\n",
       "    .dataframe tbody tr th:only-of-type {\n",
       "        vertical-align: middle;\n",
       "    }\n",
       "\n",
       "    .dataframe tbody tr th {\n",
       "        vertical-align: top;\n",
       "    }\n",
       "\n",
       "    .dataframe thead th {\n",
       "        text-align: right;\n",
       "    }\n",
       "</style>\n",
       "<table border=\"1\" class=\"dataframe\">\n",
       "  <thead>\n",
       "    <tr style=\"text-align: right;\">\n",
       "      <th></th>\n",
       "      <th>source</th>\n",
       "      <th>review_description</th>\n",
       "      <th>rating</th>\n",
       "      <th>review_date</th>\n",
       "    </tr>\n",
       "  </thead>\n",
       "  <tbody>\n",
       "    <tr>\n",
       "      <th>0</th>\n",
       "      <td>Google Play</td>\n",
       "      <td>Very good app for Android phone and me</td>\n",
       "      <td>5</td>\n",
       "      <td>27-08-2023 10:31</td>\n",
       "    </tr>\n",
       "    <tr>\n",
       "      <th>1</th>\n",
       "      <td>Google Play</td>\n",
       "      <td>Sl👍👍👍👍</td>\n",
       "      <td>5</td>\n",
       "      <td>27-08-2023 10:28</td>\n",
       "    </tr>\n",
       "    <tr>\n",
       "      <th>2</th>\n",
       "      <td>Google Play</td>\n",
       "      <td>Best app</td>\n",
       "      <td>5</td>\n",
       "      <td>27-08-2023 9:47</td>\n",
       "    </tr>\n",
       "    <tr>\n",
       "      <th>3</th>\n",
       "      <td>Google Play</td>\n",
       "      <td>Gatiya app</td>\n",
       "      <td>1</td>\n",
       "      <td>27-08-2023 9:13</td>\n",
       "    </tr>\n",
       "    <tr>\n",
       "      <th>4</th>\n",
       "      <td>Google Play</td>\n",
       "      <td>Lit bruv</td>\n",
       "      <td>5</td>\n",
       "      <td>27-08-2023 9:00</td>\n",
       "    </tr>\n",
       "  </tbody>\n",
       "</table>\n",
       "</div>"
      ],
      "text/plain": [
       "        source                      review_description  rating  \\\n",
       "0  Google Play  Very good app for Android phone and me       5   \n",
       "1  Google Play                                  Sl👍👍👍👍       5   \n",
       "2  Google Play                                Best app       5   \n",
       "3  Google Play                              Gatiya app       1   \n",
       "4  Google Play                                Lit bruv       5   \n",
       "\n",
       "        review_date  \n",
       "0  27-08-2023 10:31  \n",
       "1  27-08-2023 10:28  \n",
       "2   27-08-2023 9:47  \n",
       "3   27-08-2023 9:13  \n",
       "4   27-08-2023 9:00  "
      ]
     },
     "execution_count": 195,
     "metadata": {},
     "output_type": "execute_result"
    }
   ],
   "source": [
    "import pandas as pd\n",
    "df = pd.read_csv(\"../../data/threads_reviews.csv\")\n",
    "df.head()"
   ]
  },
  {
   "cell_type": "code",
   "execution_count": 196,
   "metadata": {},
   "outputs": [],
   "source": [
    "# Code ME!!!!!\n"
   ]
  },
  {
   "cell_type": "markdown",
   "metadata": {},
   "source": [
    "These are some tests that I did. You don't need to do these exact things, but likely something similar. "
   ]
  },
  {
   "cell_type": "code",
   "execution_count": 197,
   "metadata": {},
   "outputs": [
    {
     "name": "stdout",
     "output_type": "stream",
     "text": [
      "Rating of 5 stars.\n",
      " Very good app for Android phone and me\n"
     ]
    }
   ],
   "source": [
    "rev = Review(df.iloc[0]['review_description'], df.iloc[0]['rating'], df.iloc[0]['review_date'])\n",
    "print(rev)"
   ]
  },
  {
   "cell_type": "code",
   "execution_count": 198,
   "metadata": {},
   "outputs": [
    {
     "data": {
      "text/plain": [
       "Review ID-0\n",
       " 5 stars \n",
       "on 27-08-2023 10:31\n",
       " Very good app for Android phone and me"
      ]
     },
     "execution_count": 198,
     "metadata": {},
     "output_type": "execute_result"
    }
   ],
   "source": [
    "rev\n"
   ]
  },
  {
   "cell_type": "code",
   "execution_count": 199,
   "metadata": {},
   "outputs": [
    {
     "name": "stdout",
     "output_type": "stream",
     "text": [
      "Rating of 5 stars.\n",
      " Sl👍👍👍👍\n"
     ]
    }
   ],
   "source": [
    "rev2 = Review(df.iloc[1]['review_description'], df.iloc[1]['rating'], df.iloc[1]['review_date'])\n",
    "print(rev2)"
   ]
  },
  {
   "cell_type": "code",
   "execution_count": 200,
   "metadata": {},
   "outputs": [
    {
     "data": {
      "text/plain": [
       "Review ID-2\n",
       " 5 stars \n",
       "on 27-08-2023 9:47\n",
       " Best app"
      ]
     },
     "execution_count": 200,
     "metadata": {},
     "output_type": "execute_result"
    }
   ],
   "source": [
    "rev3 = Review(df.iloc[2]['review_description'], df.iloc[2]['rating'], df.iloc[2]['review_date'])\n",
    "rev3"
   ]
  },
  {
   "cell_type": "code",
   "execution_count": 201,
   "metadata": {},
   "outputs": [
    {
     "data": {
      "text/plain": [
       "True"
      ]
     },
     "execution_count": 201,
     "metadata": {},
     "output_type": "execute_result"
    }
   ],
   "source": [
    "rev2 == rev"
   ]
  },
  {
   "cell_type": "code",
   "execution_count": 202,
   "metadata": {},
   "outputs": [
    {
     "data": {
      "text/plain": [
       "{'and', 'android', 'app', 'for', 'good', 'me', 'phone', 'very'}"
      ]
     },
     "execution_count": 202,
     "metadata": {},
     "output_type": "execute_result"
    }
   ],
   "source": [
    "rev.get_words()"
   ]
  },
  {
   "cell_type": "code",
   "execution_count": 203,
   "metadata": {},
   "outputs": [],
   "source": [
    "rev2.get_words()"
   ]
  },
  {
   "cell_type": "markdown",
   "metadata": {},
   "source": [
    "#### Use the Class to Create Objects\n",
    "\n",
    "Use the dataframe to create the list of reviews."
   ]
  },
  {
   "cell_type": "code",
   "execution_count": 204,
   "metadata": {},
   "outputs": [],
   "source": [
    "# Codes"
   ]
  }
 ],
 "metadata": {
  "kernelspec": {
   "display_name": "ml_env",
   "language": "python",
   "name": "python3"
  },
  "language_info": {
   "codemirror_mode": {
    "name": "ipython",
    "version": 3
   },
   "file_extension": ".py",
   "mimetype": "text/x-python",
   "name": "python",
   "nbconvert_exporter": "python",
   "pygments_lexer": "ipython3",
   "version": "3.10.9"
  },
  "orig_nbformat": 4
 },
 "nbformat": 4,
 "nbformat_minor": 2
}
