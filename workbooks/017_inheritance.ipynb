{
 "cells": [
  {
   "cell_type": "code",
   "execution_count": 1,
   "metadata": {},
   "outputs": [],
   "source": [
    "import datetime\n",
    "import pandas as pd"
   ]
  },
  {
   "cell_type": "markdown",
   "metadata": {},
   "source": [
    "# Inheritance Basics\n",
    "\n",
    "One of the most powerful aspects of object-oriented programming is how it allows for the reuse of code. Inheritance is a key feature of object-oriented programming that allows a class to inherit the behavior of another class, extending its abilities or creating a subtype of it. This means we can take existing classes and easily modify and repurpose them to be tailored to a specific application.\n",
    "\n",
    "## Inherited Relationship\n",
    "\n",
    "When we use inheritance, we say that there is an \"is-a relationship\", or that the child class is a subtype of the parent class. This means that the subclass (or child class) inherits all the attributes and behaviors of the superclass (or parent class). The subclass is everything that its parent is, plus whatever unique features it has.\n",
    "\n",
    "This means that the child class can be used as the parent - it has all the same attributes and methods, and we can plug in a child class object anywhere we would use a parent class object. The opposite is not true - we cannot use a parent class object where a child class object is expected, because the parent class object does not have all the attributes and methods of the child class. For example:\n",
    "<ul>\n",
    "<li> A `Dog` class might inherit from a `Mammal` class, which might inherit from an `Animal` class. </li>\n",
    "<li> A `Dog` is a `Mammal`, and a `Mammal` is an `Animal`.</li> \n",
    "<li> But an `Animal` is not necessarily a `Mammal`, and a `Mammal` is not necessarily a `Dog`.</li>\n",
    "</ul>\n",
    "\n",
    "So a dog can blink(), because that is something all animals can do, and they can give_berth(), because that is something all mammals can do. An Animal object can't wag_your_tail() as that is a dog thing, not an animal thing. \n",
    "\n",
    "![Inheritance](../images/inheritance.png \"Inheritance\")"
   ]
  },
  {
   "cell_type": "markdown",
   "metadata": {},
   "source": [
    "### Inheriting from a Class\n",
    "\n",
    "In Python, inheritance works by passing the parent class as an argument to the definition of a child class. The child class will inherit all the attributes and methods of the parent class, and can be used in the same way as the parent class. \n",
    "\n",
    "With this simple example, every child is also a parent; while every parent is not necessarily a child. Our child objects are two things - they are the child class, and have all the attributes and methods of that class; they are also the parent class, and have all the attributes and methods of that class. "
   ]
  },
  {
   "cell_type": "code",
   "execution_count": 2,
   "metadata": {},
   "outputs": [],
   "source": [
    "class ParentClass:\n",
    "    def __init__(self):\n",
    "        self.parent_attribute = \"I'm an attribute of the parent class\"\n",
    "    \n",
    "    def parent_method(self):\n",
    "        return \"I'm a method of the parent class\"\n",
    "\n",
    "class ChildClass(ParentClass):\n",
    "\n",
    "    def __init__(self):\n",
    "        super().__init__()\n",
    "        self.child_attribute = \"I'm an attribute of the child class\"\n",
    "    def child_method(self):\n",
    "        return \"I'm a method of the child class\""
   ]
  },
  {
   "cell_type": "code",
   "execution_count": 3,
   "metadata": {},
   "outputs": [
    {
     "name": "stdout",
     "output_type": "stream",
     "text": [
      "I'm a method of the parent class\n",
      "I'm a method of the parent class\n",
      "I'm a method of the child class\n",
      "Parent class doesn't have child_method, you moron!\n"
     ]
    }
   ],
   "source": [
    "papa = ParentClass()\n",
    "kid = ChildClass()\n",
    "\n",
    "print(papa.parent_method())\n",
    "print(kid.parent_method())\n",
    "print(kid.child_method())\n",
    "try:\n",
    "    print(papa.child_method())\n",
    "except:\n",
    "    print(\"Parent class doesn't have child_method, you moron!\")"
   ]
  },
  {
   "cell_type": "markdown",
   "metadata": {},
   "source": [
    "### Hierarchical Inheritance\n",
    "\n",
    "![Hierarchical Inheritance](../images/hierarchial_inheritance.png \"Hierarchical Inheritance\")\n",
    "\n",
    "There are several arrangements for inheritance, among the most common is hierarchical inheritance, where we have a parent with a bunch of children that inherit from it."
   ]
  },
  {
   "cell_type": "code",
   "execution_count": 4,
   "metadata": {},
   "outputs": [],
   "source": [
    "class Animal():\n",
    "    def __init__(self, name):\n",
    "        self._name = name\n",
    "    def walk(self):\n",
    "        return \"I'm an animal, I'm generically walking!\"\n",
    "\n",
    "class Dog(Animal):\n",
    "    def __init__(self, name, fur_color, breed):\n",
    "        super().__init__(name)\n",
    "        self.breed = breed\n",
    "        self.fur_color = fur_color\n",
    "    def bark(self):\n",
    "        return \"Woof!\"\n",
    "    def wag_tail(self):\n",
    "        return \"Wag wag wag!\"\n",
    "    def walk(self):\n",
    "        return \"Here's my leash, let's go for a walk!\"\n",
    "\n",
    "class Cat(Animal):\n",
    "    def __init__(self, name, fur_color):\n",
    "        super().__init__(name)\n",
    "    def meow(self):\n",
    "        return \"Meow!\""
   ]
  },
  {
   "cell_type": "markdown",
   "metadata": {},
   "source": [
    "Some testing. "
   ]
  },
  {
   "cell_type": "code",
   "execution_count": 5,
   "metadata": {},
   "outputs": [
    {
     "name": "stdout",
     "output_type": "stream",
     "text": [
      "Here's my leash, let's go for a walk!\n",
      "I'm an animal, I'm generically walking!\n"
     ]
    }
   ],
   "source": [
    "snoopy = Dog(\"Snoopy\", \"white\", \"beagle\")\n",
    "garfield = Cat(\"Garfield\", \"orange\")\n",
    "print( snoopy.walk() )\n",
    "print( garfield.walk() )"
   ]
  },
  {
   "cell_type": "code",
   "execution_count": 6,
   "metadata": {},
   "outputs": [
    {
     "data": {
      "text/plain": [
       "'Wag wag wag!'"
      ]
     },
     "execution_count": 6,
     "metadata": {},
     "output_type": "execute_result"
    }
   ],
   "source": [
    "snoopy.wag_tail()"
   ]
  },
  {
   "cell_type": "code",
   "execution_count": 7,
   "metadata": {},
   "outputs": [
    {
     "name": "stdout",
     "output_type": "stream",
     "text": [
      "Cats don't wag their tails!\n"
     ]
    }
   ],
   "source": [
    "try:\n",
    "    garfield.wag_tail()\n",
    "except:\n",
    "    print(\"Cats don't wag their tails!\")"
   ]
  },
  {
   "cell_type": "markdown",
   "metadata": {},
   "source": [
    "## Small Exercise\n",
    "\n",
    "Create a Gerbil class that inherits from Animal. Make sure that its has a constructor that can set its fur color, is able to walk, has a __str__ function, and has a method called annoy() that does an annoying gerbil thing. \n",
    "\n",
    "Think about what is being called when we ask it to walk or annoy."
   ]
  },
  {
   "cell_type": "code",
   "execution_count": 26,
   "metadata": {},
   "outputs": [],
   "source": [
    "#\n",
    "class Gerbil(Animal):\n",
    "    def __init__(self, name, fur_color):\n",
    "        super().__init__(name)\n",
    "        self.fur_color = fur_color\n",
    "    def walk(self):\n",
    "        return \"I'm a gerbil, I'm walking on my wheel!\"\n",
    "    def annoy(self):\n",
    "        return \"I'm a gerbil, I'm annoying you by chewing on your stuff!\""
   ]
  },
  {
   "cell_type": "code",
   "execution_count": 27,
   "metadata": {},
   "outputs": [
    {
     "name": "stdout",
     "output_type": "stream",
     "text": [
      "I'm a gerbil, I'm walking on my wheel!\n"
     ]
    }
   ],
   "source": [
    "jimmy = Gerbil(\"Jimmy\", \"brown\")\n",
    "print(jimmy.walk())\n",
    "try:\n",
    "    jimmy.annoy()\n",
    "except:\n",
    "    print(\"Gerbils don't annoy people, they're too cute!\")"
   ]
  },
  {
   "cell_type": "markdown",
   "metadata": {},
   "source": [
    "### Scope in Inheritance\n",
    "\n",
    "When using inheritance one thing we need to pay attention to is the scope of each attribute or method we are using. In inheritance this is especially important because we can likely expect a bit of redundancy between the parent and child classes. \n",
    "\n",
    "#### Variable Scoping\n",
    "\n",
    "Normal attributes or private variables work exactly as they do anywhere else when using inheritance. We also get to make use of the third type of variable, the protected variable. Variables that are declared with a single underscore in the parent as \"protected\" are a special class of variable that are available to the class itself as well as children, but is limited from being accessible anywhere else.\n",
    "\n",
    "When using inherited classes, this means that we can create a variable that is private, in the sense that it is not accessible outside the class, but public, in the sense that other classes that fall in the inheritance chain can access it.\n",
    "\n",
    "In the animal example above, the name attribute is protected, so for the Animal class and any of its children, it is a normal attribute, but from the perspective of any other class, it is private.\n",
    "\n",
    "#### Method Scoping\n",
    "\n",
    "Method scope is also important, maybe more important than variable scope. When we have a method that is defined in both the parent and child classes, which one gets called? Inherited classes often have methods that are the same name, as we often want to override the behavior of the parent class. \n",
    "\n",
    "Calling the correct method is called \"method resolution\", and it is an idea that is both very simple and frustratingly complex. Luckily for us, we start with simple. \n",
    "\n",
    "#### Overriding Methods\n",
    "\n",
    "Inheritance allows us to override methods of the parent class, just like how we were able to overload the normal operators and functions like str and addition for any object. This is useful when we want to change the behavior of a method in the child class or allow different behavior for different types of children. \n",
    "\n",
    "Overriding methods can also help to make it easier to build reusable code. We can define a method in the parent class that defines some action, then each child class can implement that action in a way that makes sense for that class. For example, if we think of the context of a grocery store and the items in it. There may be an \"item\" class that defines some basic attributes and methods that all items have, such as a name, price, and a method to calculate the tax on the item. Then, we can define a \"produce\" class that inherits from the \"item\" class, and overrides the tax calculation method to return 0, since produce is not taxed. \n",
    "\n",
    "<b>Note:</b> \"ingredients\" in Canada aren't taxed - things like vegetables, meat, etc. Other products, like soap, or ready to eat meals, are taxed. \n",
    "\n",
    "### Resolution Order\n",
    "\n",
    "We'll look more which method gets called when we have repetitive names next time, when we look at multiple inheritance. For now, the \"lowest\" method in the inheritance tree will be called first. So if we call a method on a child class, it will first look for that method in the child class, then in the parent class, then in the grandparent class, and so on. \n",
    "\n",
    "For the inheritance that we're doing now, this is relatively simple - it will always start at the object type of the thing (the child class), then go up the inheritance tree until it finds the first method that matches. Later, when we do more complex inheritance, this becomes more important as we may have several places to look for a method.\n",
    "\n",
    "![Multilevel Inheritance](../images/multilevel_inheritance.png \"Multilevel Inheritance\")"
   ]
  },
  {
   "cell_type": "markdown",
   "metadata": {},
   "source": [
    "### Class Verification\n",
    "\n",
    "We have a few simple tools to check what type of an object something is. We have already seen the type() function, which returns the type of an object. We also have a couple of inheritance specific ones:\n",
    "<ul>\n",
    "<li> isinstance() - checks if an object is an instance of a class. </li>\n",
    "<li> issubclass() - checks if a class is a subclass of another class. </li>\n",
    "</ul>\n",
    "\n",
    "We also have a few tools that can get more details, such as the inheritance tree. The inspect library has the getclasstree() function that will return a list of tuples that represent the inheritance tree of a class."
   ]
  },
  {
   "cell_type": "code",
   "execution_count": 28,
   "metadata": {},
   "outputs": [
    {
     "name": "stdout",
     "output_type": "stream",
     "text": [
      "<class '__main__.Dog'>\n",
      "True\n",
      "True\n",
      "False\n",
      "True\n",
      "False\n",
      "True\n"
     ]
    }
   ],
   "source": [
    "print(type(snoopy))\n",
    "print(isinstance(snoopy, Dog))\n",
    "print(isinstance(snoopy, Animal))\n",
    "print(isinstance(snoopy, Cat))\n",
    "print(issubclass(Dog, Animal))\n",
    "print(issubclass(Dog, Cat))\n",
    "print(issubclass(Dog, Dog))\n"
   ]
  },
  {
   "cell_type": "code",
   "execution_count": 29,
   "metadata": {},
   "outputs": [
    {
     "data": {
      "text/plain": [
       "[(object, ()), [(dict, (object,))]]"
      ]
     },
     "execution_count": 29,
     "metadata": {},
     "output_type": "execute_result"
    }
   ],
   "source": [
    "import inspect\n",
    "a ={}\n",
    "inspect.getclasstree(inspect.getmro(type(a)))"
   ]
  },
  {
   "cell_type": "code",
   "execution_count": 30,
   "metadata": {},
   "outputs": [
    {
     "data": {
      "text/plain": [
       "[(object, ()),\n",
       " [(__main__.Animal, (object,)), [(__main__.Dog, (__main__.Animal,))]]]"
      ]
     },
     "execution_count": 30,
     "metadata": {},
     "output_type": "execute_result"
    }
   ],
   "source": [
    "inspect.getclasstree(inspect.getmro(Dog))"
   ]
  },
  {
   "cell_type": "markdown",
   "metadata": {},
   "source": [
    "### Say Daddy\n",
    "\n",
    "When using inheritance, we can use the `super()` function to call the method of the parent class. In the constructor of the child classes we want to do what we always do, set up the initial state of the object. In these cases, where we are extending the parent class to create an object of the child class we'll need to do two things:\n",
    "<ul>\n",
    "<li> Use super() to call the parent class's constructor that will setup all of the \"parent\" parts of the object. </li>\n",
    "<li> Set any additional attributes or other setup tasks that exist only in the child. </li>\n",
    "</ul>\n",
    "\n",
    "So in the construction of our child objects we are creating an instance of the parent, then adding the additional parts that are unique to the child. In the animal example below we have a couple of layers of inheritance - reptiles and snakes - under the animal class. Each constructor here has a pretty simple job, we add the state that belongs to that specific class, and call the parent's constructor with super() to trigger the rest of the object's creation. When there are multiple layers like we have here, the super calls are normally passed up the chain, with each layer of object contributing its part to the current state of the object. \n",
    "\n",
    "<b>Note:</b> the 'creates' language in here may be a bit misleading - we are not creating separate objects of each type, we are creating only one object, but the creation of that object is split into parts, where the parent part is created, the child part is added to it, and so on..."
   ]
  },
  {
   "cell_type": "code",
   "execution_count": 31,
   "metadata": {},
   "outputs": [],
   "source": [
    "class Reptile(Animal):\n",
    "    def __init__(self, name, scales_color):\n",
    "        super().__init__(name)\n",
    "        self.scales_color = scales_color\n",
    "    def walk(self):\n",
    "        return \"I'm a reptile, I'm slithering!\"\n",
    "class Snake(Reptile):\n",
    "    def __init__(self, name, scales_color, poisonous=True):\n",
    "        super().__init__(name, scales_color)\n",
    "        self.poisonous = poisonous\n",
    "    def hiss(self):\n",
    "        return \"Hissssssss. Scarrrrry!\"\n",
    "    def walk(self):\n",
    "        return \"I'm a snake, I'm slippin and slidin!\""
   ]
  },
  {
   "cell_type": "markdown",
   "metadata": {},
   "source": [
    "### Common Inheritance Usage\n",
    "\n",
    "Many objects that we may want to create and use are inherited from some other parent class. In fact, every object in Python inherits from the `object` class. This is the most basic class in Python, and defines some basic functionality that all objects have. Functionality such as the `__str__` method, which returns a string representation of the object, or the `__eq__` method, which checks if two objects are equal - things you'll note that we want to override if we want things to be useful, but which work for all objects. When we don't override these, we are getting the \"stock\" version. \n",
    "\n",
    "#### When and Why Inheritance?\n",
    "\n",
    "Inheritance is a powerful tool and a key feature of object-oriented programming. It allows us to reuse code, and to create a hierarchy of classes that can be used to create objects that are tailored to our situation. We should note that we don't <i>need</i> to use inheritance to accomplish what we've done, we could have achieved the same end results with an attribute like \"type\" and a bunch of if statements.\n",
    "\n",
    "I think the easiest way to think of inheritance's benefits is one of the simplest, the relationship of different variable types inheriting from the object class in Python. In Python everything is an object and is thus a child of the object class. When we print objects, we never need to take different action based on the type of object, we just ask it to print. The object \"knows\" its own abilities. This can make code cleaner and more easy to understand, as we can build the abilities of an object into its class, allowing us to interact with it in a way that resembles the real world. Being able to ask an object to do something, and have it do the right thing takes more of the burden of managing details off of us, allowing us to focus on what we want to do more than how. This is a key feature of object-oriented programming and of high-level languages like Python - what we have to write is closer to what we think. \n",
    "\n",
    "When to use inheritance? The true answer isn't very satisfying, we use inheritance where it makes the most sense. In more detail, we should strongly consider inheritance when:\n",
    "<ul>\n",
    "<li> We have a set of classes that are related to each other logically, such as a dog and a cat, or a mammal and a reptile. </li>\n",
    "    <ul>\n",
    "    <li> This is probably the most common case we'd encounter when making classes ourselves, for some real-world project. Many real world things or events (e.g. purchase, registration) that we may want to manage in a program tend to have a natural hierarchy. </li>\n",
    "    </ul>\n",
    "<li> We have a set of classes that will go through common actions, but perform differently. </li>\n",
    "    <ul>\n",
    "    <li> This is probably the case that will be most likely if we are extending some existing library class. We may want it to be what it is, along with a couple additional features. </li>\n",
    "    </ul>\n",
    "</ul>"
   ]
  },
  {
   "cell_type": "markdown",
   "metadata": {},
   "source": [
    "## Bigger Exercise\n",
    "\n",
    "Complete the Student and Employee classes below. The Student class should inherit from the Person class, and the Employee class should inherit from the Person class. Among other things, we really want this to have:\n",
    "<ul>\n",
    "<li> A Person class that has a name, age, bithday (protected), and email as attributes. </li>\n",
    "<li> A Student class that has a student number, a time adaptation (e.g. the 1.5 or 2x time thing for exams), and a dictionary of courses and grades. </li>\n",
    "    <ul>\n",
    "    <li> A method to calculate the GPA from the completed courses (4.0 scale)</li>\n",
    "    <li> A method to add a course and grade to the dictionary. </li>\n",
    "    <li> A method to print the courses and grades. </li>\n",
    "    <li> Methods to return the GPA, if a student is passing, and if they are deans list. </li>\n",
    "    </ul>\n",
    "<li> An Employee class that has a salary (protected), position, salary. </li>\n",
    "    <ul>\n",
    "    <li> An __eq__ function that compares employees and says they are equal if they have the same position. </li>\n",
    "    </ul>\n",
    "<li> A DualEnrollmentStudent class that inherits from Students, has an attribute of high_school, and is meant to represent a high school student taking college courses.</li>\n",
    "    <ul>\n",
    "    <li> A get_average function that generates the students average on a 100 pt scale, from their 4.0 grades. (Make up a translation)</li>\n",
    "    </li>\n",
    "<li> STR functions for stuff to make them print uniquely. </li>\n",
    "<li> Setters, getters, other stuff as needed. </li>\n",
    "</ul>\n"
   ]
  },
  {
   "cell_type": "code",
   "execution_count": 32,
   "metadata": {},
   "outputs": [],
   "source": [
    "class Person():\n",
    "\n",
    "    def __init__(self, name, birthday, email=None):\n",
    "        self.name = name\n",
    "        self._birthday = birthday\n",
    "        self.email = email\n",
    "    def __str__(self):\n",
    "        return f\"Name: {self.name}, Birthday: {self.age}, Email: {self.email}\"\n",
    "    def set_email(self, email):\n",
    "        self.email = email\n",
    "    def get_email(self):\n",
    "        return self.email\n",
    "    def get_age(self):\n",
    "        today = datetime.date.today()\n",
    "        age = today.year - self._birthday.year\n",
    "\n",
    "#class Employee(Person):\n",
    "\n",
    "#class Student(Person):\n",
    "\n",
    "    #class DualEnrollmentStudent(Student):\n"
   ]
  },
  {
   "cell_type": "markdown",
   "metadata": {},
   "source": [
    "#### Testing Stuff\n",
    "\n"
   ]
  },
  {
   "cell_type": "code",
   "execution_count": 33,
   "metadata": {},
   "outputs": [
    {
     "ename": "NameError",
     "evalue": "name 'Student' is not defined",
     "output_type": "error",
     "traceback": [
      "\u001b[0;31m---------------------------------------------------------------------------\u001b[0m",
      "\u001b[0;31mNameError\u001b[0m                                 Traceback (most recent call last)",
      "Cell \u001b[0;32mIn[33], line 1\u001b[0m\n\u001b[0;32m----> 1\u001b[0m tom \u001b[38;5;241m=\u001b[39m \u001b[43mStudent\u001b[49m(\u001b[38;5;124m\"\u001b[39m\u001b[38;5;124mTom\u001b[39m\u001b[38;5;124m\"\u001b[39m, datetime\u001b[38;5;241m.\u001b[39mdate(\u001b[38;5;241m2000\u001b[39m, \u001b[38;5;241m1\u001b[39m, \u001b[38;5;241m1\u001b[39m), \u001b[38;5;124m\"\u001b[39m\u001b[38;5;124mtom@tomm.com\u001b[39m\u001b[38;5;124m\"\u001b[39m, \u001b[38;5;241m3242\u001b[39m, \u001b[38;5;124m\"\u001b[39m\u001b[38;5;124mComputer Science\u001b[39m\u001b[38;5;124m\"\u001b[39m)\n\u001b[1;32m      2\u001b[0m pam \u001b[38;5;241m=\u001b[39m Employee(\u001b[38;5;124m\"\u001b[39m\u001b[38;5;124mPam\u001b[39m\u001b[38;5;124m\"\u001b[39m, datetime\u001b[38;5;241m.\u001b[39mdate(\u001b[38;5;241m1980\u001b[39m, \u001b[38;5;241m1\u001b[39m, \u001b[38;5;241m1\u001b[39m), \u001b[38;5;124m\"\u001b[39m\u001b[38;5;124mpam@company.com\u001b[39m\u001b[38;5;124m\"\u001b[39m, \u001b[38;5;241m2349028\u001b[39m, \u001b[38;5;124m\"\u001b[39m\u001b[38;5;124mAccountant\u001b[39m\u001b[38;5;124m\"\u001b[39m, \u001b[38;5;241m50000\u001b[39m)\n\u001b[1;32m      3\u001b[0m james \u001b[38;5;241m=\u001b[39m Employee(\u001b[38;5;124m\"\u001b[39m\u001b[38;5;124mJames\u001b[39m\u001b[38;5;124m\"\u001b[39m, datetime\u001b[38;5;241m.\u001b[39mdate(\u001b[38;5;241m1980\u001b[39m, \u001b[38;5;241m1\u001b[39m, \u001b[38;5;241m1\u001b[39m), \u001b[38;5;124m\"\u001b[39m\u001b[38;5;124mEZ_Money@company.com\u001b[39m\u001b[38;5;124m\"\u001b[39m, \u001b[38;5;241m2328\u001b[39m, \u001b[38;5;124m\"\u001b[39m\u001b[38;5;124mAccountant\u001b[39m\u001b[38;5;124m\"\u001b[39m, \u001b[38;5;241m80000\u001b[39m)\n",
      "\u001b[0;31mNameError\u001b[0m: name 'Student' is not defined"
     ]
    }
   ],
   "source": [
    "tom = Student(\"Tom\", datetime.date(2000, 1, 1), \"tom@tomm.com\", 3242, \"Computer Science\")\n",
    "pam = Employee(\"Pam\", datetime.date(1980, 1, 1), \"pam@company.com\", 2349028, \"Accountant\", 50000)\n",
    "james = Employee(\"James\", datetime.date(1980, 1, 1), \"EZ_Money@company.com\", 2328, \"Accountant\", 80000)\n",
    "rick = Employee(\"Rick\", datetime.date(1980, 1, 1), \"EZ_Money@company.com\", 2328, \"Accountant\", 50000)\n",
    "lil_jon = DualEnrollmentStudent(\"Lil Jon\", datetime.date(2004, 1, 1), \"big_stunna_xo@hotmail.com\", 230897, \"Degrassi High\", \"Business\", 1.5)\n",
    "\n",
    "print(tom)\n",
    "print(pam)\n",
    "print(lil_jon)\n",
    "tom.add_completed_course(\"CS 101\", 4.0)\n",
    "tom.add_completed_course(\"CS 102\", 3.2)\n",
    "print(tom.get_GPA())\n",
    "print(pam == james)\n",
    "print(pam == rick)"
   ]
  },
  {
   "cell_type": "markdown",
   "metadata": {},
   "source": [
    "## Thought Exercise\n",
    "\n",
    "We'll take a look at this in a little more detail next time, but if you're comfortable with it, then take a look. We want to create a class hierarchy that represents the cars in this data. There's no preset answer, we need to think of something useful. "
   ]
  },
  {
   "cell_type": "code",
   "execution_count": null,
   "metadata": {},
   "outputs": [],
   "source": [
    "df = pd.read_csv('../../data/cars.csv')\n",
    "#df = pd.read_csv('../data/cars.csv')\n",
    "get_cols = [\"Make\", \"Model\", \"Year\", \"Trim\", \"Trim (description)\", \n",
    "            \"Base MSRP\", \"Body type\", \"Doors\", \"Total seating\", \n",
    "            \"Curb weight (lbs)\", \"Cylinders\", \"Engine size (l)\", \"Horsepower (HP)\", \n",
    "            \"Torque (ft-lbs)\", \"Drive type\", \"Transmission\", \"Engine type\", \n",
    "            \"Fuel type\", \"EPA combined MPG\", \"Country of origin\", \"Car classification\"]\n",
    "df2 = df[get_cols]\n",
    "df2.head()"
   ]
  }
 ],
 "metadata": {
  "kernelspec": {
   "display_name": "ml_env",
   "language": "python",
   "name": "python3"
  },
  "language_info": {
   "codemirror_mode": {
    "name": "ipython",
    "version": 3
   },
   "file_extension": ".py",
   "mimetype": "text/x-python",
   "name": "python",
   "nbconvert_exporter": "python",
   "pygments_lexer": "ipython3",
   "version": "3.10.9"
  },
  "orig_nbformat": 4
 },
 "nbformat": 4,
 "nbformat_minor": 2
}
