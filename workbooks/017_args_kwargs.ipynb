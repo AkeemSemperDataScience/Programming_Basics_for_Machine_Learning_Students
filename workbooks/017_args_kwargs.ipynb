{
 "cells": [
  {
   "cell_type": "markdown",
   "metadata": {},
   "source": [
    "# Arguments\n",
    "\n",
    "Suppose we want to write a simple addition function to add a couple of numbers. We can do this using the following code:"
   ]
  },
  {
   "cell_type": "code",
   "execution_count": 18,
   "metadata": {},
   "outputs": [],
   "source": [
    "def add1(a, b):\n",
    "    return a + b"
   ]
  },
  {
   "cell_type": "code",
   "execution_count": 19,
   "metadata": {},
   "outputs": [
    {
     "data": {
      "text/plain": [
       "3"
      ]
     },
     "execution_count": 19,
     "metadata": {},
     "output_type": "execute_result"
    }
   ],
   "source": [
    "add1(1, 2)"
   ]
  },
  {
   "cell_type": "markdown",
   "metadata": {},
   "source": [
    "However, what if we want to add more than two numbers? We can do this by adding more arguments to the function:"
   ]
  },
  {
   "cell_type": "code",
   "execution_count": 20,
   "metadata": {},
   "outputs": [],
   "source": [
    "def add2(a, b, c):\n",
    "    return a + b + c"
   ]
  },
  {
   "cell_type": "code",
   "execution_count": 21,
   "metadata": {},
   "outputs": [
    {
     "data": {
      "text/plain": [
       "6"
      ]
     },
     "execution_count": 21,
     "metadata": {},
     "output_type": "execute_result"
    }
   ],
   "source": [
    "add2(1, 2, 3)"
   ]
  },
  {
   "cell_type": "markdown",
   "metadata": {},
   "source": [
    "However, when we try to use this 3 number function with only two numbers, we have a problem..."
   ]
  },
  {
   "cell_type": "code",
   "execution_count": 22,
   "metadata": {},
   "outputs": [
    {
     "name": "stdout",
     "output_type": "stream",
     "text": [
      "Error with adding\n"
     ]
    }
   ],
   "source": [
    "try:\n",
    "    add2(2,3)\n",
    "except:\n",
    "    print(\"Error with adding\")"
   ]
  },
  {
   "cell_type": "markdown",
   "metadata": {},
   "source": [
    "Tabernac! So, we don't really have a universal solution here, no matter what we don't have a solution that does addition with an arbitrary number of arguments. \n",
    "\n",
    "How do we overcome this? One option is to change our function to accept a list or other iterable that contains our objects then add everything that is in that list. This works, but it is not very elegant and requires us to create a new object to do addition (which isn't usually a concern, but for very large datasets might be an issue)."
   ]
  },
  {
   "cell_type": "code",
   "execution_count": 23,
   "metadata": {},
   "outputs": [],
   "source": [
    "def add3(numbers):\n",
    "    final_val = 0\n",
    "    for i in numbers:\n",
    "        final_val += i\n",
    "    return final_val"
   ]
  },
  {
   "cell_type": "code",
   "execution_count": 24,
   "metadata": {},
   "outputs": [
    {
     "data": {
      "text/plain": [
       "15"
      ]
     },
     "execution_count": 24,
     "metadata": {},
     "output_type": "execute_result"
    }
   ],
   "source": [
    "add3([1,2,3,4,5])"
   ]
  },
  {
   "cell_type": "markdown",
   "metadata": {},
   "source": [
    "## Args and Kwargs\n",
    "\n",
    "Another, potentially more elegant solution, is to use one of the `*args` and `**kwargs` arguments, which carry some special properties that help in this scenario. Each of these special arguments allows us to pass a variable number of arguments to a function, which are then automatically packaged and passed to the function as a tuple or dictionary, respectively.\n",
    "\n",
    "<b>Note:</b> the `*args` and `**kwargs` are just conventions, you can use any variable name you want, but these are the standard names. The stars indicate the 'magic' behavior, not the name, but these standard names are very, very common. \n",
    "\n",
    "### Argument Types\n",
    "\n",
    "First, let's look at the different types of arguments that we can pass to a function. We can pass in our arguments in a couple of different ways:\n",
    "<ul>\n",
    "    <li> Non-Keyword (positional) arguments - those that do not have a \"var=VALUE\" in them. These match with the correct variable based on position. </li>\n",
    "    <li> Keyword arguments - those that do have a \"var=VALUE\" in them. These match with the correct variable based on name. </li>\n",
    "</ul>\n",
    "\n",
    "So when making a function call, sum(2,2) is a non-keyword argument, while sum(num1=2, num2=2) is a keyword argument.\n",
    "\n",
    "![Arg Kwarg](../../images/arg_kwarg.png \"Args and Kwargs\")\n",
    "![Arg Kwarg](../images/arg_kwarg.png \"Args and Kwargs\")\n"
   ]
  },
  {
   "cell_type": "markdown",
   "metadata": {},
   "source": [
    "### `*args`\n",
    "\n",
    "The `*args` argument is used to pass a variable number of arguments to a function. The `*` tells Python to take all the arguments that are passed to the function and put them in a tuple called `args`. This allows us to pass a variable number of arguments to a function. This is effectively very similar to the above example of passing in a list, but this one is seamless to the user - someone using our addition function doesn't need to manually construct a list, they just need to provide what they want added. \n",
    "\n",
    "When using *args, the individual arguments that our function receives aren't labeled, so we can't call them specifically outside of their index in the tuple. This option is normally used where all the arguments captured are the same type, and we want to combine them or do something to all of them, like in these math operations. "
   ]
  },
  {
   "cell_type": "code",
   "execution_count": 25,
   "metadata": {},
   "outputs": [],
   "source": [
    "def add4(*args):\n",
    "    final_val = 0\n",
    "    for i in args:\n",
    "        final_val += i\n",
    "    return final_val"
   ]
  },
  {
   "cell_type": "code",
   "execution_count": 26,
   "metadata": {},
   "outputs": [
    {
     "name": "stdout",
     "output_type": "stream",
     "text": [
      "15\n",
      "55\n",
      "3\n"
     ]
    }
   ],
   "source": [
    "print(add4(1,2,3,4,5))\n",
    "print(add4(1,2,3,4,5,6,7,8,9,10))\n",
    "print(add4(1,2))"
   ]
  },
  {
   "cell_type": "markdown",
   "metadata": {},
   "source": [
    "### `**kwargs`\n",
    "\n",
    "The `**kwargs` argument is used to pass a variable number of keyword arguments to a function. This allows us to have a set of specifically named arguments, and have them grouped and passed in as one object. The `**` tells Python to take all the keyword arguments that are passed to the function and put them in a dictionary called `kwargs`. This allows us to pass a variable number of keyword arguments to a function. \n",
    "\n",
    "The dictionary that is passed with the arguments is formatted so that the argument names are the keys and the values are the values. In contrast to the *args option, this gives us arguments by name, so we can call them specifically. One example of where this is used is with generating visualizations, there can be a **kwargs argument passed through that can contain an assortment of optional arguments for things like line thickness, title font, gridlines, etc.\n",
    "\n",
    "When using the **kwargs arguments we can deal with those arguments in a couple of different ways. We can look to see if the specific argument we want is set in the dictionary, and if so, take that. We can also loop through them and get the key/value pair if we are dealing with something we want to list out. Our example is looking for specific attributes in the kwargs dictionary - the get() function below will return the value of the key if it exists, if it doesn't will return None, or the provided default value of False. We can use this to easily use the kwargs values if they are provided, or use a default value if they are not."
   ]
  },
  {
   "cell_type": "code",
   "execution_count": 27,
   "metadata": {},
   "outputs": [],
   "source": [
    "def processText(text, **kwargs):\n",
    "    if kwargs.get(\"upper\"):\n",
    "        text = text.upper()\n",
    "    if kwargs.get(\"lower\"):\n",
    "        text = text.lower()\n",
    "    if kwargs.get(\"reverse\"):\n",
    "        text = text[::-1]\n",
    "    return text"
   ]
  },
  {
   "cell_type": "code",
   "execution_count": 28,
   "metadata": {},
   "outputs": [
    {
     "name": "stdout",
     "output_type": "stream",
     "text": [
      "HELLO WORLD\n",
      "hello world\n",
      "dlroW olleH\n",
      "DLROW OLLEH\n"
     ]
    }
   ],
   "source": [
    "text1 = processText(\"Hello World\", upper=True)\n",
    "text2 = processText(\"Hello World\", lower=True)\n",
    "text3 = processText(\"Hello World\", reverse=True)\n",
    "text4 = processText(\"Hello World\", upper=True, reverse=True)\n",
    "print(text1)\n",
    "print(text2)\n",
    "print(text3)\n",
    "print(text4)"
   ]
  },
  {
   "cell_type": "markdown",
   "metadata": {},
   "source": [
    "### Args and Kwarg Usage\n",
    "\n",
    "These generic arguments are helpful in making our functions more flexible, and more easily reused. \n",
    "\n",
    "#### Args and Kwargs Together\n",
    "\n",
    "These two can be used together, as well as mixed in with normal arguments. There are a few rules around the order that arguments need to go in, but we can use some simple rules to satisfy them:\n",
    "<ul>\n",
    "<li> Regular arguments. </li>\n",
    "<li> `*args` </li>\n",
    "<li> Keyword arguments. </li>\n",
    "<li> `**kwargs` </li>\n",
    "</ul>\n",
    "\n"
   ]
  },
  {
   "cell_type": "code",
   "execution_count": 29,
   "metadata": {},
   "outputs": [],
   "source": [
    "def add5(*args, **kwargs):\n",
    "    final_val = 0\n",
    "\n",
    "    for i in args:\n",
    "        tmp = i\n",
    "        #if do_abs:\n",
    "        if kwargs.get(\"absolute\", False):\n",
    "            tmp = abs(i)\n",
    "        #if do_round:\n",
    "        if kwargs.get(\"rounded\", False):\n",
    "            tmp = round(tmp)\n",
    "        final_val += tmp\n",
    "    return final_val    "
   ]
  },
  {
   "cell_type": "code",
   "execution_count": 30,
   "metadata": {},
   "outputs": [
    {
     "name": "stdout",
     "output_type": "stream",
     "text": [
      "3\n",
      "4.76584\n",
      "15\n"
     ]
    }
   ],
   "source": [
    "print(add5(1,2))\n",
    "print(add5(1,2,3,4,-5.23416))\n",
    "print(add5(1,2,3,4,-5.23416, absolute=True, rounded=True))"
   ]
  },
  {
   "cell_type": "markdown",
   "metadata": {},
   "source": [
    "### **kwargs as Class Instance Attributes\n",
    "\n",
    "One common use of the **kwargs argument is to use it to set attributes of a class instance. This is a very common pattern, and is used in many libraries. If we have a large number of attributes, particularly if it is a large number of optional attributes, this can be a very useful way to set them in a more usable way. \n",
    "\n",
    "#### Attribute Dictionary\n",
    "\n",
    "Inside of classes we can use the `__dict__` attribute to see all of the attributes of an instance. This is a dictionary, so we can use the `keys()` and `values()` methods to see the keys and values of the dictionary. When taking in the **kwargs dictionary we can use the `update()` method to add the key/value pairs to the instance's `__dict__` attribute directly. \n",
    "\n",
    "We can also use the `hasattr()` function to see if an object has a specific attribute. This is useful if we want to check if an object has a specific attribute before trying to use it. This is the common application of the **kwargs feature in visualization libraries, the library checks to see if the color, thickness, gridlines, etc. are set in the kwargs dictionary, and if so uses those values, if not uses the default values."
   ]
  },
  {
   "cell_type": "code",
   "execution_count": 31,
   "metadata": {},
   "outputs": [],
   "source": [
    "class attributeGrabber():\n",
    "\n",
    "    def __init__(self, **kwargs):\n",
    "        self.__dict__.update(kwargs)\n",
    "    def __str__(self):\n",
    "        return_str = \"\"\n",
    "        for key, value in self.__dict__.items():\n",
    "            return_str += f\"{key}: {value}\\n\"\n",
    "        return return_str"
   ]
  },
  {
   "cell_type": "markdown",
   "metadata": {},
   "source": [
    "Print out the `__dict__` attribute of the instance to see the attributes that are set. All of our attributes are whatever they were named as arguments. We can also check to see if certain attributes are defined or not. "
   ]
  },
  {
   "cell_type": "code",
   "execution_count": 32,
   "metadata": {},
   "outputs": [
    {
     "name": "stdout",
     "output_type": "stream",
     "text": [
      "name: John\n",
      "age: 25\n",
      "height: 6.2\n",
      "weight: 180\n",
      "hair_color: brown\n",
      "eye_color: blue\n",
      "\n",
      "make: Ford\n",
      "model: Mustang\n",
      "year: 1967\n",
      "color: red\n",
      "engine: V8\n",
      "transmission: manual\n",
      "\n",
      "True\n",
      "False\n"
     ]
    }
   ],
   "source": [
    "attr1 = attributeGrabber(name=\"John\", age=25, height=6.2, weight=180, hair_color=\"brown\", eye_color=\"blue\")\n",
    "attr2 = attributeGrabber(make=\"Ford\", model=\"Mustang\", year=1967, color=\"red\", engine=\"V8\", transmission=\"manual\")\n",
    "print(attr1)\n",
    "print(attr2)\n",
    "print(hasattr(attr1, \"name\"))\n",
    "print(hasattr(attr2, \"name\"))"
   ]
  },
  {
   "cell_type": "markdown",
   "metadata": {},
   "source": [
    "## Exercise\n",
    "\n",
    "Complete the class Aggregator and its children. Here, we have a few things to note:\n",
    "<ul>\n",
    "<li> The class Aggregator is the parent class for all of our aggregation classes - such as addition, multiplication, etc... </li>\n",
    "<li> The class Aggregator has an empty method called aggregate. This is the method that will be called to do the aggregation. </li>\n",
    "<li> The class Aggregator has a method called __str__ that returns a string representation of the object. </li>\n",
    "<li> The class Aggregator has a private varaible with a list of all the values. </li>\n",
    "</ul>\n",
    "\n",
    "Each child should provide the \"meat\" of the aggregation action when the response method is called. In the original Aggregator class, the response method is empty, so we rely on each child class to implement it."
   ]
  },
  {
   "cell_type": "code",
   "execution_count": 33,
   "metadata": {},
   "outputs": [],
   "source": [
    "class Aggregator():\n",
    "    \n",
    "    def __init__(self, *args):\n",
    "        self._list = list(args)\n",
    "    def __str__(self):\n",
    "        return str(self._list)\n",
    "    def response(self):\n",
    "        pass\n",
    "\n",
    "class Addition(Aggregator):\n",
    "    pass\n",
    "\n",
    "class Multiplication(Aggregator):\n",
    "    pass"
   ]
  },
  {
   "cell_type": "code",
   "execution_count": 34,
   "metadata": {},
   "outputs": [
    {
     "data": {
      "text/plain": [
       "15"
      ]
     },
     "execution_count": 34,
     "metadata": {},
     "output_type": "execute_result"
    }
   ],
   "source": [
    "a = Addition(1,2,3,4,5)\n",
    "a.response()"
   ]
  },
  {
   "cell_type": "code",
   "execution_count": 35,
   "metadata": {},
   "outputs": [
    {
     "name": "stdout",
     "output_type": "stream",
     "text": [
      "[1, 2, 3, 4, 5]\n",
      "120\n"
     ]
    }
   ],
   "source": [
    "m = Multiplication(1,2,3,4,5)\n",
    "print(m)\n",
    "print(m.response())"
   ]
  },
  {
   "cell_type": "markdown",
   "metadata": {},
   "source": [
    "## Exercise \n",
    "\n",
    "Complete this function that takes in a bunch of grades, and returns the number of passes as well as a list of the passing (>50) classes. "
   ]
  },
  {
   "cell_type": "code",
   "execution_count": 36,
   "metadata": {},
   "outputs": [],
   "source": [
    "def tallyPassingGrades(**kwargs):\n",
    "    pass"
   ]
  },
  {
   "cell_type": "markdown",
   "metadata": {},
   "source": [
    "##### Testing\n",
    "\n",
    "This code:\n",
    "\n",
    "```python\n",
    "tmp = tallyPassingGrades(math=100, english=49, science=50, history=100, gym=100)\n",
    "print(tmp[0])\n",
    "print(tmp[1])\n",
    "```\n",
    "\n",
    "Should return:\n",
    "\n",
    "```python\n",
    "4\n",
    "['math', 'science', 'history', 'gym']\n",
    "```"
   ]
  },
  {
   "cell_type": "code",
   "execution_count": 37,
   "metadata": {},
   "outputs": [
    {
     "name": "stdout",
     "output_type": "stream",
     "text": [
      "4\n",
      "['math', 'science', 'history', 'gym']\n"
     ]
    }
   ],
   "source": [
    "tmp = tallyPassingGrades(math=100, english=49, science=50, history=100, gym=100)\n",
    "print(tmp[0])\n",
    "print(tmp[1])"
   ]
  }
 ],
 "metadata": {
  "kernelspec": {
   "display_name": "ml_env",
   "language": "python",
   "name": "python3"
  },
  "language_info": {
   "codemirror_mode": {
    "name": "ipython",
    "version": 3
   },
   "file_extension": ".py",
   "mimetype": "text/x-python",
   "name": "python",
   "nbconvert_exporter": "python",
   "pygments_lexer": "ipython3",
   "version": "3.10.9"
  },
  "orig_nbformat": 4
 },
 "nbformat": 4,
 "nbformat_minor": 2
}
