{
 "cells": [
  {
   "attachments": {},
   "cell_type": "markdown",
   "metadata": {},
   "source": [
    "# Loops\n",
    "\n",
    "Similar to conditional statements, loops are another critical building block of programming. Loops allow us to repeat code over and over, to do things like add 10% to all the prices in our web store, or to combine the first and last names from two lists of people into \"last, first\" format. \n",
    "\n",
    "The basic idea of a loop is that we do something over and over again, until some limit or stop condition is reached. This can be used to do something to every item in a list, perform an operation a pre-determined number of times, or to keep doing something until some condition is met.\n",
    "\n",
    "## Loop Components\n",
    "\n",
    "Every loop has a few key components:\n",
    "<ul>\n",
    "<li> Condition - this is the logical test that will be checked each time through the loop to figure out if we should stop or keep going. </li>\n",
    "<li> Body - the body of the loop is the code you want to keep repeating. </li>\n",
    "<li> Index - where you \"are\" in whatever you're looping through. </li>\n",
    "</ul>\n",
    "\n",
    "## Loop Types\n",
    "\n",
    "There are several types of loop that are common - for the most part they are interchangeable, though potentially with some modifications. \"While\" and \"for\" are probably the most common and widely used. \n",
    "\n",
    "### While Loop\n",
    "\n",
    "A while loop will keep repeating the body \"while\" the condition remains true. So it will first check the condition, if true do the body, if false the loop is complete, repeat until the condition is false. \n",
    "\n",
    "At some point in the loop, usually at the end of the body, we increment the index. The easiest way to picture a loop is that you're progressing through a series of items in a list, after we're done with each one we advance our place to the next. \n",
    "\n",
    "![While Loop]( ../images/while_loop.png \"While Loop\")"
   ]
  },
  {
   "cell_type": "code",
   "execution_count": 20,
   "metadata": {},
   "outputs": [],
   "source": [
    "my_list = [1, 2, 3, 4, 5]"
   ]
  },
  {
   "cell_type": "code",
   "execution_count": 39,
   "metadata": {},
   "outputs": [
    {
     "name": "stdout",
     "output_type": "stream",
     "text": [
      "2\n",
      "4\n",
      "6\n",
      "The loop is done.\n"
     ]
    }
   ],
   "source": [
    "i = 0\n",
    "cutoff = 3\n",
    "\n",
    "while i < cutoff:\n",
    "    print(2*my_list[i])\n",
    "    i += 1\n",
    "\n",
    "print(\"The loop is done.\")"
   ]
  },
  {
   "attachments": {},
   "cell_type": "markdown",
   "metadata": {},
   "source": [
    "We also commonly have loops to go through all items in a list or data structure. Loops to do that normally look a lot like this. \n",
    "\n",
    "<b>Note:</b> check the index, i, and the condition. Do these values make sense? "
   ]
  },
  {
   "cell_type": "code",
   "execution_count": 22,
   "metadata": {},
   "outputs": [
    {
     "name": "stdout",
     "output_type": "stream",
     "text": [
      "0.25\n",
      "0.5\n",
      "0.75\n",
      "1.0\n",
      "1.25\n"
     ]
    }
   ],
   "source": [
    "i = 0\n",
    "\n",
    "while i < len(my_list):\n",
    "    print(.25 * my_list[i])\n",
    "    i += 1"
   ]
  },
  {
   "cell_type": "markdown",
   "metadata": {},
   "source": [
    "## Exercise\n",
    "\n",
    "Create a list of numbers from 1 to 10, and then use a while loop to print out each number in the list in reverse. I.e. 10, 9, 8, 7, 6, 5, 4, 3, 2, 1."
   ]
  },
  {
   "cell_type": "code",
   "execution_count": 47,
   "metadata": {},
   "outputs": [
    {
     "name": "stdout",
     "output_type": "stream",
     "text": [
      "10\n",
      "9\n",
      "8\n",
      "7\n",
      "6\n",
      "5\n",
      "4\n",
      "3\n",
      "2\n",
      "1\n"
     ]
    }
   ],
   "source": [
    "list_nums = [1, 2, 3, 4, 5, 6, 7, 8, 9, 10]\n",
    "index = len(list_nums) - 1\n",
    "\n",
    "while index >= 0:\n",
    "    print(list_nums[index])\n",
    "    index -= 1"
   ]
  },
  {
   "attachments": {},
   "cell_type": "markdown",
   "metadata": {},
   "source": [
    "### For Loops\n",
    "\n",
    "For loops are another common style of loop and are probably the most common in normal usage. \n",
    "\n",
    "The structure of a for loop makes it a little less explicit in what is happening. The condition in a for loop can be read as \"for each X in Y\", so for our example above we can say \"for each thing in my_list\" is a good translation of the condition in the while loop. In a for loop, we don't need to specify the index, we can write it like that - \"for each of these in this set of stuff, do the body\". \n",
    "\n",
    "![For Loop]( ../images/for_loop.png \"For Loop\")"
   ]
  },
  {
   "cell_type": "code",
   "execution_count": 42,
   "metadata": {},
   "outputs": [
    {
     "name": "stdout",
     "output_type": "stream",
     "text": [
      "0.25\n",
      "0.5\n",
      "0.75\n",
      "1.0\n",
      "1.25\n"
     ]
    }
   ],
   "source": [
    "for item in my_list:\n",
    "    print(.25 * item)"
   ]
  },
  {
   "cell_type": "code",
   "execution_count": 46,
   "metadata": {},
   "outputs": [
    {
     "name": "stdout",
     "output_type": "stream",
     "text": [
      "apple\n",
      "banana\n",
      "pear\n"
     ]
    }
   ],
   "source": [
    "for item in [\"apple\", \"banana\", \"pear\"]:\n",
    "    print(item)"
   ]
  },
  {
   "attachments": {},
   "cell_type": "markdown",
   "metadata": {},
   "source": [
    "We can mirror the original while loop, though in a weird way. This brings up another good point - the conditions for a loop don't need to be simple. We could loop though one list based on conditions from another list, for example. Most loops are pretty simple, but we can make them complex if need be."
   ]
  },
  {
   "cell_type": "code",
   "execution_count": 43,
   "metadata": {},
   "outputs": [
    {
     "name": "stdout",
     "output_type": "stream",
     "text": [
      "2\n",
      "4\n",
      "6\n"
     ]
    }
   ],
   "source": [
    "for x in [0,1,2]:\n",
    "    print(2 * my_list[x])"
   ]
  },
  {
   "cell_type": "markdown",
   "metadata": {},
   "source": [
    "## Exercise\n",
    "\n",
    "Take the string below. Loop through the string and print out each letter, capitalized, on a new line. If the character is a space or a character of punctuation, print \"Not a character!!!!\" instead of the capitalized character. \n",
    "\n",
    "<b>Note:</b> you can treat a string as a list of characters here. "
   ]
  },
  {
   "cell_type": "code",
   "execution_count": 51,
   "metadata": {},
   "outputs": [
    {
     "name": "stdout",
     "output_type": "stream",
     "text": [
      "H\n",
      "E\n",
      "L\n",
      "L\n",
      "O\n",
      "I'm not a letter!\n",
      "W\n",
      "O\n",
      "R\n",
      "L\n",
      "D\n",
      "I'm not a letter!\n",
      "I'm not a letter!\n",
      "I\n",
      "I'm not a letter!\n",
      "M\n",
      "I'm not a letter!\n",
      "A\n",
      "I'm not a letter!\n",
      "S\n",
      "T\n",
      "R\n",
      "I\n",
      "N\n",
      "G\n"
     ]
    }
   ],
   "source": [
    "my_string = \"hello world, I'm a string\"\n",
    "\n",
    "for char in my_string:\n",
    "    if not char.isalnum():\n",
    "        print(\"I'm not a letter!\")\n",
    "    elif char.isalnum():\n",
    "        print(char.upper())\n",
    "    else:\n",
    "        print(\"Probably an error\")\n"
   ]
  },
  {
   "cell_type": "markdown",
   "metadata": {},
   "source": [
    "### Nesting Loops\n",
    "\n",
    "We can also nest loops inside of each other. This is a very common pattern, and is used to do things like go through every item in a list, and for each item in that list, go through every item in another list. The logic is the same, we just have to be careful to keep track of which loop we're in, and which index we're using.\n",
    "\n",
    "![Nested For Loop]( ../images/nested_for.png \"Nested For Loop\")\n",
    "\n",
    "<b>Note:</b> while in most cases we don't need to pay too much explicit attention to the speed of our code, nested loops can be one exception. Because nesting loops can cause the number of executions to expand exponentially, having excessive looping can sometimes slow things down substantially. As we progress with data science work, we often deal with very large amounts of data, maybe millions of rows or more. In those cases, we need to be cautious about anything that goes through all the data using nested loops, as we may end up with 1,000,000 * 1,000,000 executions if we are not careful."
   ]
  },
  {
   "cell_type": "code",
   "execution_count": 26,
   "metadata": {},
   "outputs": [
    {
     "name": "stdout",
     "output_type": "stream",
     "text": [
      "6\n",
      "7\n",
      "8\n",
      "9\n",
      "10\n",
      "12\n",
      "14\n",
      "16\n",
      "18\n",
      "20\n",
      "18\n",
      "21\n",
      "24\n",
      "27\n",
      "30\n",
      "24\n",
      "28\n",
      "32\n",
      "36\n",
      "40\n",
      "30\n",
      "35\n",
      "40\n",
      "45\n",
      "50\n"
     ]
    }
   ],
   "source": [
    "## Nested loops\n",
    "\n",
    "list_A = [1, 2, 3, 4, 5]\n",
    "list_B = [6, 7, 8, 9, 10]\n",
    "\n",
    "for item in list_A:\n",
    "    for item2 in list_B:\n",
    "        print(item * item2)"
   ]
  },
  {
   "attachments": {},
   "cell_type": "markdown",
   "metadata": {},
   "source": [
    "## Loops and Basic Debugging\n",
    "\n",
    "Loops are one of the places where it is more likely that we might have errors or make mistakes, particularly around edge cases. There are a few things that we can do to look into the details of our code and find where errors occur. \n",
    "\n",
    "This is a basic introduction to some simple techniques, debugging code is a big topic and will likely be your main source of frustration as you learn. These techniques are some of the most simple things we can do, and they are still useful and easy in many cases as things get more complex. \"Real\" larger scale debugging often uses debug tools that provide a more sophisticated version of this stuff, but learning those tools requires some effort. \n",
    "\n",
    "### Separating Code Blocks\n",
    "\n",
    "One thing that the notebook files make very easy is to separate code into separate blocks, so we can run little chunks independently. If we have an error we are trying to diagnose, one easy first step is to break up our code into smaller bits, so we can run them one by one to try to identify which line is causing the error. Since our code is basically line after line of creating and changing variable values, we can look at those values manually and try to see where one becomes incorrect. \n",
    "\n",
    "### VS Code Variable Viewer\n",
    "\n",
    "When using VS Code we have access to a useful tool that allows us to see a list of our variables and their values. There is a button in the toolbar labeled \"varaibles\" that will open a little window that allows us to see our varaible values. If we run our code block by block, we can see the variables change in the little window, hopefully noticing where the mistake occurs. \n",
    "\n",
    "### Regular Print Statements\n",
    "\n",
    "An even more direct way to find errors is to embed print statements that tell us some useful info as our code executes, usually indicators of where we are in the code, or what a varaible is at that point. This is especially useful in loops - we can print out values, indexes, before/after notices, etc... that let us have a version of a log of the changes as we go through the loop. Again, we want to try to find where there is a mistake. \n",
    "\n",
    "#### Sample Error - Incorrect Loop Termination\n",
    "\n",
    "Suppose I want to print the first three items in my_list with a weird for loop. I make a list up to 3, and then use that list in my condition. I want this to have the same result as the first while loop:\n",
    "\n",
    "2\n",
    "\n",
    "4\n",
    "\n",
    "6"
   ]
  },
  {
   "cell_type": "code",
   "execution_count": 44,
   "metadata": {},
   "outputs": [
    {
     "data": {
      "text/plain": [
       "[1, 2, 3, 4, 5]"
      ]
     },
     "execution_count": 44,
     "metadata": {},
     "output_type": "execute_result"
    }
   ],
   "source": [
    "my_list"
   ]
  },
  {
   "cell_type": "code",
   "execution_count": 27,
   "metadata": {},
   "outputs": [
    {
     "name": "stdout",
     "output_type": "stream",
     "text": [
      "2\n",
      "4\n",
      "6\n",
      "8\n"
     ]
    }
   ],
   "source": [
    "for item in [0,1,2,3]:\n",
    "    print(2 * my_list[item])"
   ]
  },
  {
   "attachments": {},
   "cell_type": "markdown",
   "metadata": {},
   "source": [
    "What the!?! There's a stray eight, so I can start to try to find that mistake with some print statements.  This is a little over the top for a simple loop, but the idea here is to allow me to see the details, step-by-step. I can see the beginning and end of the loop, as well as the value and a counter for how many times we've been through the loop. "
   ]
  },
  {
   "cell_type": "code",
   "execution_count": 28,
   "metadata": {},
   "outputs": [
    {
     "name": "stdout",
     "output_type": "stream",
     "text": [
      "pre-loop \n",
      "\n",
      "pre-print: 0 Execution #: 1\n",
      "2\n",
      "post-print: 0 Execution #: 1 \n",
      "\n",
      "pre-print: 1 Execution #: 2\n",
      "4\n",
      "post-print: 1 Execution #: 2 \n",
      "\n",
      "pre-print: 2 Execution #: 3\n",
      "6\n",
      "post-print: 2 Execution #: 3 \n",
      "\n",
      "pre-print: 3 Execution #: 4\n",
      "8\n",
      "post-print: 3 Execution #: 4 \n",
      "\n",
      "post-loop 3 4\n"
     ]
    }
   ],
   "source": [
    "execution_count = 0\n",
    "print(\"pre-loop \\n\")\n",
    "\n",
    "for item in [0,1,2,3]:\n",
    "    execution_count += 1\n",
    "    print(\"pre-print:\", item, \"Execution #:\", execution_count)\n",
    "    print(2 * my_list[item])\n",
    "    print(\"post-print:\", item, \"Execution #:\", execution_count, \"\\n\")\n",
    "\n",
    "print(\"post-loop\", item, execution_count)"
   ]
  },
  {
   "attachments": {},
   "cell_type": "markdown",
   "metadata": {},
   "source": [
    "For this example, I can see that we end up with a fourth execution of the loop, which is the one that pulled that troublesome 8. Once we've identified the error we can either remove the diagnostic print statements, or just comment them out if we suspect that we might need to do some fixing later. "
   ]
  },
  {
   "cell_type": "code",
   "execution_count": 29,
   "metadata": {},
   "outputs": [
    {
     "name": "stdout",
     "output_type": "stream",
     "text": [
      "2\n",
      "4\n",
      "6\n"
     ]
    }
   ],
   "source": [
    "#execution_count = 0\n",
    "#print(\"pre-loop \\n\")\n",
    "\n",
    "for item in [0,1,2]:\n",
    "    #execution_count += 1\n",
    "    #print(\"pre-print:\", item, \"Execution #:\", execution_count)\n",
    "    print(2 * my_list[item])\n",
    "    #print(\"post-print:\", item, \"Execution #:\", execution_count, \"\\n\")\n",
    "\n",
    "#print(\"post-loop\", item, execution_count)"
   ]
  },
  {
   "cell_type": "markdown",
   "metadata": {},
   "source": [
    "## Loop Control Statements\n",
    "\n",
    "There are a few other things we can do with loops that are useful. While a loop normally executes until the condition is false, we can also use some statements to directly control the flow of the loop from inside the loop's body. \n",
    "\n",
    "### Break\n",
    "\n",
    "The break statement allows us to exit a loop early. This is useful if we have a condition that we want to check for, and if we find it we want to stop the loop. This is like a one-off check that we can have in the body of the code that can override the loop condition and end the loop. The break statement is more likely than the others to be useful for you. "
   ]
  },
  {
   "cell_type": "code",
   "execution_count": 45,
   "metadata": {},
   "outputs": [
    {
     "name": "stdout",
     "output_type": "stream",
     "text": [
      "0\n",
      "1\n",
      "2\n",
      "3\n",
      "4\n",
      "5\n",
      "The loop is done.\n"
     ]
    }
   ],
   "source": [
    "# Example of break\n",
    "num = 0\n",
    "while num < 10:\n",
    "    if num == 6:\n",
    "        break\n",
    "    print(num)\n",
    "    num += 1\n",
    "\n",
    "print(\"The loop is done.\")"
   ]
  },
  {
   "cell_type": "markdown",
   "metadata": {},
   "source": [
    "### Continue\n",
    "\n",
    "The continue statement allows us to skip the rest of the body of the loop and go back to the beginning. This is useful if we have a condition that we want to check for, and if we find it we want to skip the rest of the body and go back to the beginning of the loop."
   ]
  },
  {
   "cell_type": "code",
   "execution_count": 31,
   "metadata": {},
   "outputs": [
    {
     "name": "stdout",
     "output_type": "stream",
     "text": [
      "1\n",
      "2\n",
      "3\n",
      "4\n",
      "5\n",
      "7\n",
      "8\n",
      "9\n",
      "10\n"
     ]
    }
   ],
   "source": [
    "## Continue\n",
    "num = 0\n",
    "while num < 10:\n",
    "    num += 1\n",
    "    if num == 6:\n",
    "        continue\n",
    "    print(num)"
   ]
  },
  {
   "cell_type": "markdown",
   "metadata": {},
   "source": [
    "To see the impact, try commenting out the upper \"num += 1\" line in the loop below. Because the continue statement skips the rest of the body, we will never get to the increment, and the loop will run forever. When we hit the <i>continue</i> statement at num == 6, that continue sends us back to the top of the loop without doing any of the code below it in the body. "
   ]
  },
  {
   "cell_type": "code",
   "execution_count": 32,
   "metadata": {},
   "outputs": [
    {
     "name": "stdout",
     "output_type": "stream",
     "text": [
      "1\n",
      "3\n",
      "5\n",
      "7\n",
      "9\n"
     ]
    }
   ],
   "source": [
    "## Continue\n",
    "num = 0\n",
    "while num < 10:\n",
    "    #Comment the line below out to see what happens\n",
    "    num += 1\n",
    "    if num == 6:\n",
    "        continue\n",
    "    print(num)\n",
    "    num += 1\n"
   ]
  },
  {
   "cell_type": "markdown",
   "metadata": {},
   "source": [
    "### Pass\n",
    "\n",
    "The pass statement allows us to do nothing. This is useful if we have a condition that we want to check for, and if we find it we want to do nothing. This is sometimes used for conditions or features that are going to be implemented later, but for now are just placeholders. In the example below we may have some specific action to take if the value is 6, but we've yet to implement it."
   ]
  },
  {
   "cell_type": "code",
   "execution_count": 33,
   "metadata": {},
   "outputs": [
    {
     "name": "stdout",
     "output_type": "stream",
     "text": [
      "0\n",
      "1\n",
      "2\n",
      "3\n",
      "4\n",
      "5\n",
      "6\n",
      "7\n",
      "8\n",
      "9\n",
      "10\n"
     ]
    }
   ],
   "source": [
    "## Pass\n",
    "num = 0\n",
    "while num <= 10:\n",
    "    if num == 6:\n",
    "        pass\n",
    "    print(num)\n",
    "    num += 1    "
   ]
  },
  {
   "attachments": {},
   "cell_type": "markdown",
   "metadata": {},
   "source": [
    "## Debugging Your Code\n",
    "\n",
    "Finding and fixing errors is probably the number 1 skill that you'll need to be a useful programmer, particularly with data science. There will likely be either examples or tutorials that are similar to what you want to do, it is just a matter of adapting things to your scenario. Being able to narrow down on where an error is occuring, diagnose why it is happening, and correcting it, is critically important even if it is very frustrating and annoying. \n",
    "\n",
    "As we go forward, especially as things start to become a little more complicated, getting comfortable with debugging is very important. You will try things that just don't do what you're expecting or don't work at all for no obvious reason - this is normal and common for everyone. When this happens, using a process like this is important - as long as we can identify which specific line in our code is causing an issue, we can probably fix it pretty easily. If we have an error that we haven't pinpointed and we just try to change things in the hopes it'll work, that'll be frustrating and awful. "
   ]
  },
  {
   "cell_type": "markdown",
   "metadata": {},
   "source": [
    "## Looping Later\n",
    "\n",
    "Understanding and being able to use loops is a key programming skill and allows you to do lots of tedious tasks very efficiently. In many later and/or more advanced examples we may see less and less explicit looping code, but that is because we are using more advanced tools that are doing the looping for us. These changes are normally done to make our code more efficient, but the underlying logic is still the same. We'll revisit this, but I just want you to be aware if there are examples out on the internet that are \"missing\" their loops. "
   ]
  },
  {
   "cell_type": "markdown",
   "metadata": {},
   "source": [
    "## Exercises\n",
    "\n",
    "Write a program to check if the given number is prime or not. Try pseudocode first... "
   ]
  },
  {
   "cell_type": "code",
   "execution_count": 58,
   "metadata": {},
   "outputs": [
    {
     "name": "stdout",
     "output_type": "stream",
     "text": [
      "Not Prime: 2\n",
      "Not Prime: 3\n",
      "Not Prime: 4\n",
      "Not Prime: 6\n",
      "Not Prime: 12\n",
      "Not Prime: 107\n",
      "Not Prime: 214\n",
      "Not Prime: 321\n",
      "Not Prime: 428\n",
      "Not Prime: 642\n"
     ]
    }
   ],
   "source": [
    "# Write code. \n",
    "\n",
    "my_number = 1284\n",
    "limit = int(my_number // 2)+1\n",
    "i = 2\n",
    "\n",
    "while i < limit:\n",
    "    if my_number % i == 0:\n",
    "        print(\"Not Prime:\", i)\n",
    "    i += 1"
   ]
  },
  {
   "cell_type": "markdown",
   "metadata": {},
   "source": [
    "Write a loop to compute a square root using Newton's method.\n",
    "\n",
    "Loops are often used in programs that compute numerical results by starting with an approximate answer and iteratively improving it, one way of doing this to compute square roots is Newton’s method. Suppose that you want to know the square root of a. If you start with almost any estimate, x, you can compute a better estimate with the following formula:\n",
    "\n",
    "$ y =  {(x + a/x) \\over 2}$\n",
    "\n",
    "Then repeating this process again with the y as the new guess (x), until the difference between the old guess and the new guess is less than some small value. For that <i><b>\"difference is less than some small value\"</i></b> part, consider the best way to do that.\n",
    "\n",
    "<b>Note:</b> the book, in chapter 7, has an example of the calculations along with an example solution. "
   ]
  },
  {
   "cell_type": "code",
   "execution_count": 59,
   "metadata": {},
   "outputs": [
    {
     "name": "stdout",
     "output_type": "stream",
     "text": [
      "3453\n",
      "1727.8210251954822\n",
      "866.5505429790613\n",
      "438.5392460343025\n",
      "229.67120062109322\n",
      "134.69660154911926\n",
      "101.21329771983577\n",
      "95.67483755411985\n",
      "95.51453134513429\n",
      "95.5143968206788\n"
     ]
    }
   ],
   "source": [
    "# Get your code on....\n",
    "\n",
    "difference = 99999\n",
    "cutoff = 0.0001\n",
    "a = 9123\n",
    "x = 3453\n",
    "\n",
    "while difference > cutoff:\n",
    "    y = (x + a/x)/2\n",
    "    difference = abs(x - y)\n",
    "    print(x)\n",
    "    x = y"
   ]
  },
  {
   "cell_type": "code",
   "execution_count": 62,
   "metadata": {},
   "outputs": [],
   "source": [
    "def newtMethSQRT(target_num, cutoff=.00001, initial_guess=7):\n",
    "    #Calculate SQRT using Newton's Method\n",
    "    difference = cutoff + 1\n",
    "    guess = initial_guess\n",
    "\n",
    "    while difference > cutoff:\n",
    "        y = (guess + a/guess)/2\n",
    "        difference = abs(guess - y)\n",
    "        #print(guess)\n",
    "        guess = y\n",
    "\n",
    "    return guess"
   ]
  },
  {
   "cell_type": "code",
   "execution_count": 63,
   "metadata": {},
   "outputs": [
    {
     "name": "stdout",
     "output_type": "stream",
     "text": [
      "643\n",
      "643\n",
      "643\n",
      "643\n",
      "643\n",
      "643\n",
      "643\n",
      "643\n"
     ]
    },
    {
     "data": {
      "text/plain": [
       "95.51439682058407"
      ]
     },
     "execution_count": 63,
     "metadata": {},
     "output_type": "execute_result"
    }
   ],
   "source": [
    "newtMethSQRT(9123)"
   ]
  }
 ],
 "metadata": {
  "kernelspec": {
   "display_name": "ml_env",
   "language": "python",
   "name": "python3"
  },
  "language_info": {
   "codemirror_mode": {
    "name": "ipython",
    "version": 3
   },
   "file_extension": ".py",
   "mimetype": "text/x-python",
   "name": "python",
   "nbconvert_exporter": "python",
   "pygments_lexer": "ipython3",
   "version": "3.10.9"
  },
  "orig_nbformat": 4
 },
 "nbformat": 4,
 "nbformat_minor": 2
}
