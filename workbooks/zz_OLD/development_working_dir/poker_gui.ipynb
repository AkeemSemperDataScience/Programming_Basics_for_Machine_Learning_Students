{
 "cells": [
  {
   "cell_type": "code",
   "execution_count": 38,
   "metadata": {},
   "outputs": [],
   "source": [
    "from cards_sol import *\n",
    "import tkinter as tk"
   ]
  },
  {
   "cell_type": "markdown",
   "metadata": {},
   "source": [
    "# Graphical User Interface"
   ]
  },
  {
   "cell_type": "code",
   "execution_count": 39,
   "metadata": {},
   "outputs": [],
   "source": [
    "m = tk.Tk()\n",
    "m.title(\"Poker\")\n",
    "\n",
    "tk.Label(m, text='Player 1').grid(row=0)\n",
    "tk.Label(m, text='Player 2').grid(row=1)\n",
    "tk.Label(m, text='Player 3').grid(row=2)\n",
    "tk.Label(m, text='Player 4').grid(row=3)\n",
    "e1 = tk.Entry(m)\n",
    "e2 = tk.Entry(m)\n",
    "e3 = tk.Entry(m)\n",
    "e4 = tk.Entry(m)\n",
    "e1.grid(row=0, column=1)\n",
    "e2.grid(row=1, column=1)\n",
    "e3.grid(row=2, column=1)\n",
    "e4.grid(row=3, column=1)\n",
    "\n",
    "player_names = [e1.get(), e2.get(), e3.get(), e4.get()]\n",
    "\n",
    "def printNames():\n",
    "    print(e1.get())\n",
    "    print(e2.get())\n",
    "    print(e3.get())\n",
    "    print(e4.get())\n",
    "\n",
    "#newGame = FiveCardDraw(players = player_names)\n",
    "def new_window():\n",
    "    newWindow = tk.Toplevel(m)\n",
    "    newWindow.title(\"Poker Game\")\n",
    "    newWindow.geometry(\"200x200\")\n",
    "    tk.Label(newWindow, text=\"Let's Play Poker!!!\").pack()\n",
    "    newWindow.mainloop()\n",
    "\n",
    "game_button = tk.Button(m, text=\"Generate Game\", width=10, command=new_window)\n",
    "game_button.grid(row=4, column=0)\n",
    "\n",
    "m.mainloop()"
   ]
  },
  {
   "cell_type": "code",
   "execution_count": null,
   "metadata": {},
   "outputs": [],
   "source": []
  }
 ],
 "metadata": {
  "kernelspec": {
   "display_name": "ml_2",
   "language": "python",
   "name": "python3"
  },
  "language_info": {
   "codemirror_mode": {
    "name": "ipython",
    "version": 3
   },
   "file_extension": ".py",
   "mimetype": "text/x-python",
   "name": "python",
   "nbconvert_exporter": "python",
   "pygments_lexer": "ipython3",
   "version": "3.10.9"
  },
  "orig_nbformat": 4
 },
 "nbformat": 4,
 "nbformat_minor": 2
}
