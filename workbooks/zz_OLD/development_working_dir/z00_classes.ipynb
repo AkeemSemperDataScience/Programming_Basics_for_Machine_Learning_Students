{
 "cells": [
  {
   "cell_type": "markdown",
   "metadata": {},
   "source": [
    "# Classes\n",
    "\n",
    "In addition to the built in data types such as integers and strings, we can also create our own data types. These are called classes. Classes are a way to group data and functions together. For example, we can create a class called Person that contains the data name and age, and the functions say_hello and say_age. We can then create multiple instances of the Person class, each with their own name and age.\n",
    "\n",
    "Classes are a way that we can allow our programs to more easily model the real world scenarios that we care about. Once we create classes for the key objects we are using in our program we can abstract away the details of how they work and focus on the higher level logic of our program. For example, in our person class we can write a function called \"change_name\" that allows us to change the name of a person. We don't need to know how the function works, we just need to know that it does what we want it to do. Every time we ask a dataframe for the \"head\" or we ask a string for its \"length\" we are doing the equivalent on those objects - we don't need to know how to slice out 5 rows and print them, we can rely on the class itself having abilities. \n",
    "\n",
    "<b>Note:</b> we want to add some documentation to our classes so we know what they do and we can share them with others. We've slacked on that here, but we will add the proper documentation next time. \n",
    "\n",
    "## Creating a class\n",
    "\n",
    "We can make a class by using the keyword \"class\" followed by the name of the class. We can then define the data and functions that we want to be part of the class. There are a few special aspects of classes that we need to know about:\n",
    "<ul>\n",
    "<li> The first argument of any function in a class is always \"self\". This is a reference to the object itself. </li>\n",
    "<li> We can define a special function called \"__init__\" that will be called when we create a new instance of the class. This is where we can set the initial values of the data in the class. </li>\n",
    "<li> We can define a special function called \"__str__\" that will be called when we try to print the object. This is where we can define what we want to print when we print the object. </li>\n",
    "</ul>"
   ]
  },
  {
   "cell_type": "code",
   "execution_count": 12,
   "metadata": {},
   "outputs": [],
   "source": [
    "class Person:\n",
    "    def __init__(self, name, age):\n",
    "        self.name = name\n",
    "        self.age = age\n",
    "\n",
    "    def __str__(self):\n",
    "        return f\"Name: {self.name}\\nAge: {self.age}\"\n",
    "\n",
    "    def get_name(self):\n",
    "        return self.name\n",
    "    \n",
    "    def change_name(self, new_name):\n",
    "        self.name = new_name\n",
    "\n",
    "    def get_age(self):\n",
    "        return self.age"
   ]
  },
  {
   "cell_type": "code",
   "execution_count": 13,
   "metadata": {},
   "outputs": [
    {
     "name": "stdout",
     "output_type": "stream",
     "text": [
      "Name: John\n",
      "Age: 25\n"
     ]
    }
   ],
   "source": [
    "# Create a person object\n",
    "my_dude = Person(\"John\", 25)\n",
    "print(my_dude)"
   ]
  },
  {
   "cell_type": "markdown",
   "metadata": {},
   "source": [
    "## Inheritance\n",
    "\n",
    "Inheritance is a way to create a new class that is based on an existing class. The new class will have all of the data and functions of the existing class, and we can add new data and functions to the new class. This is useful when we want to create a new class that is similar to an existing class, but has some differences. For example, we can create a class called \"Student\" that inherits from the \"Person\" class. The \"Student\" class will have all of the data and functions of the \"Person\" class, but we can add new data such as \"student_id\" and new functions such as \"get_student_id\"."
   ]
  },
  {
   "cell_type": "code",
   "execution_count": 14,
   "metadata": {},
   "outputs": [],
   "source": [
    "class Student(Person):\n",
    "    def __init__(self, name, age, school):\n",
    "        super().__init__(name, age)\n",
    "        self.school = school\n",
    "\n",
    "    def get_school(self):\n",
    "        return self.school\n",
    "\n",
    "    def change_school(self, new_school):\n",
    "        self.school = new_school\n",
    "\n",
    "    def __str__(self):\n",
    "        return f\"Name: {self.name}\\nAge: {self.age}\\nSchool: {self.school}\""
   ]
  },
  {
   "cell_type": "code",
   "execution_count": 15,
   "metadata": {},
   "outputs": [
    {
     "name": "stdout",
     "output_type": "stream",
     "text": [
      "Name: John\n",
      "Age: 25\n",
      "School: UCLA\n",
      "\n",
      "\n",
      " John\n"
     ]
    }
   ],
   "source": [
    "my_student = Student(\"John\", 25, \"UCLA\")\n",
    "print(my_student)\n",
    "print(\"\\n\\n\", my_student.get_name())"
   ]
  },
  {
   "cell_type": "markdown",
   "metadata": {},
   "source": []
  }
 ],
 "metadata": {
  "kernelspec": {
   "display_name": "ml_env",
   "language": "python",
   "name": "python3"
  },
  "language_info": {
   "codemirror_mode": {
    "name": "ipython",
    "version": 3
   },
   "file_extension": ".py",
   "mimetype": "text/x-python",
   "name": "python",
   "nbconvert_exporter": "python",
   "pygments_lexer": "ipython3",
   "version": "3.10.9"
  },
  "orig_nbformat": 4
 },
 "nbformat": 4,
 "nbformat_minor": 2
}
