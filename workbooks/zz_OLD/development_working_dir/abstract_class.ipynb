{
 "cells": [
  {
   "cell_type": "code",
   "execution_count": 2,
   "metadata": {},
   "outputs": [],
   "source": [
    "from abc import ABC, abstractmethod\n",
    "import numpy as np"
   ]
  },
  {
   "cell_type": "markdown",
   "metadata": {},
   "source": [
    "# Abstract Class\n",
    "\n",
    "There are some situations, including the common example of animals, where it may not really make sense to have an actual instance of one of the parent class objects. It doesn't make any sense to create an Animal object, even while it makes perfect sense to create many different classes that are all subclasses of Animal. In this case, we could make the parent class an abstract class, or one that must be made into a subclass. We can do this by importing the ABC class from the abc module. ABC stands for Abstract Base Class."
   ]
  },
  {
   "cell_type": "code",
   "execution_count": null,
   "metadata": {},
   "outputs": [],
   "source": [
    "class Animal():\n",
    "    def __init__(self, name):\n",
    "        self.name = name\n",
    "\n",
    "    def speak(self):\n",
    "        raise NotImplementedError(\"Subclass must implement this abstract method\")"
   ]
  },
  {
   "cell_type": "markdown",
   "metadata": {},
   "source": [
    "## Abstract Methods\n",
    "\n"
   ]
  },
  {
   "cell_type": "markdown",
   "metadata": {},
   "source": [
    "## Interfaces... Or Not\n",
    "\n",
    "In many languages there is a concept called an interface, which is basically a list of method signatures that a class must implement. So if there is an interface for \"sortable\", every class that implements that interface will have to provide all of its methods, in this case things like 'less than' and 'equals'. In Python, this is achieved by creating an abstract class with all the abstract methods that we want all the classes that use this to implement. \n",
    "\n",
    "If we are looking at our Animal classes, we could create one that is a Pet abstract class that all pets must implement. We can have a method called \"trick\", and each of our pets will have to provide a way for them to do a trick. "
   ]
  },
  {
   "cell_type": "code",
   "execution_count": 3,
   "metadata": {},
   "outputs": [],
   "source": [
    "class Pet(ABC):\n",
    "\n",
    "    @abstractmethod\n",
    "    def trick(self):\n",
    "        raise NotImplementedError(\"Subclass must implement this abstract method\")"
   ]
  },
  {
   "cell_type": "code",
   "execution_count": 4,
   "metadata": {},
   "outputs": [],
   "source": [
    "class Animal():\n",
    "\n",
    "    def __init__(self, name):\n",
    "        self.name = name\n",
    "\n",
    "    def speak(self):\n",
    "        raise NotImplementedError(\"Subclass must implement this abstract method\")\n",
    "\n",
    "class Dog(Animal, Pet):\n",
    "\n",
    "    def __init__(self, name, breed):\n",
    "        super().__init__(name)\n",
    "        self.breed = breed\n",
    "        self.tricks = [\"Roll over\", \"Play dead\", \"Shake hands\"]\n",
    "\n",
    "    def speak(self):\n",
    "        return \"Woof!\"\n",
    "\n",
    "    def trick(self):\n",
    "        #randomly select a trick\n",
    "        return np.random.choice(self.tricks)"
   ]
  }
 ],
 "metadata": {
  "kernelspec": {
   "display_name": "ml_env",
   "language": "python",
   "name": "python3"
  },
  "language_info": {
   "codemirror_mode": {
    "name": "ipython",
    "version": 3
   },
   "file_extension": ".py",
   "mimetype": "text/x-python",
   "name": "python",
   "nbconvert_exporter": "python",
   "pygments_lexer": "ipython3",
   "version": "3.10.9"
  },
  "orig_nbformat": 4
 },
 "nbformat": 4,
 "nbformat_minor": 2
}
