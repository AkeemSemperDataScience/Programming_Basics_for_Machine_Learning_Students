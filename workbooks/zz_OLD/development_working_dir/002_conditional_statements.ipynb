{
 "cells": [
  {
   "attachments": {},
   "cell_type": "markdown",
   "metadata": {},
   "source": [
    "# Conditional Statements\n",
    "\n",
    "Conditional statements are what allow us to introduce logic into our programs, so we can tell them to do different things in different scenarios. Conditionals are the basis of all computer programs, and are what allow us to make decisions in our programs and do different things based on the input we receive.\n",
    "\n",
    "## If Statements\n",
    "\n",
    "One of the most important words in computer science is \"if\", which allows us to make a conditional statement. An if statement is a command that allows us to:\n",
    "<ul>\n",
    "<li> Ask some question.</li>\n",
    "<li> Do one thing if it is true.</li>\n",
    "<li> Do something else if it is false.</li>\n",
    "</ul>\n",
    "\n",
    "This concept allows computer programs to be more useful than just a set of automated instruction, and we can stack several if statements (along with other logic commands), to make a program capable of doing almost anything we desire. \n",
    "\n",
    "![if statement](../images/if_else.png)\n",
    "\n",
    "### Writing If Statements and Indentation\n",
    "\n",
    "Writing an \"If\" is simple, we just need to match the syntax. This leads us into one of the most important concepts in Python, which is indentation. Indentation is the way we tell Python that a line of code is part of a block of code. In other programming languages, indentation is optional, but in Python it is required. In short, we need to keep things indented to tell Python what parts of code \"belong to\" something else. In our conditional statements the indentation separates what is done if the condition is true from the rest of the code. The indentation is equivalent to braces or brackets in other languages or even Excel formulas; in Python we don't need brackets, we just need to indent the code.\n",
    "\n",
    "Many of the concepts that we'll look at soon will also require indentation, so it's important to get used to it now. Functions, classes, loops, etc... will all need us to keep our code indented at the proper level. "
   ]
  },
  {
   "cell_type": "code",
   "execution_count": 2,
   "metadata": {},
   "outputs": [],
   "source": [
    "num1 = 5\n",
    "num2 = 10\n",
    "num3 = 15"
   ]
  },
  {
   "cell_type": "code",
   "execution_count": 3,
   "metadata": {},
   "outputs": [
    {
     "name": "stdout",
     "output_type": "stream",
     "text": [
      "num1 is less than num2\n",
      "Im also a part of the if statement\n",
      "As long as I'm indented, I'm part of the if statement\n",
      "num3 is less than num2\n"
     ]
    }
   ],
   "source": [
    "#Note: these two if statements are independent of each other\n",
    "if num1 < num2:\n",
    "    print(\"num1 is less than num2\")\n",
    "    print(\"Im also a part of the if statement\")\n",
    "    print(\"As long as I'm indented, I'm part of the if statement\")\n",
    "\n",
    "if num1 < num2:\n",
    "    print(\"num3 is less than num2\")"
   ]
  },
  {
   "attachments": {},
   "cell_type": "markdown",
   "metadata": {},
   "source": [
    "### Multiple Ifs and Else\n",
    "\n",
    "We can stack our if statements if we are dealing with more than one scenario. This brings us to if's best friends, else and elif. \n",
    "\n",
    "### Else and Elif\n",
    "\n",
    "Each of these statements handles what happens if the \"if\" statement is not true:\n",
    "<ul>\n",
    "<li> Elif - if the previous statement is not true, check this statement. </li>\n",
    "<li> Else - if nothing above is true, do this instead.</li>\n",
    "</ul>\n",
    "\n",
    "For the most part, these layer together along a pattern like this - we start at the first \"if\", check if it is true, and keep proceeding down until either one case is true or we hit the end of \"else\". In all cases, once one thing is true, the if-block is done, and things will proceed after it (usually after the \"else\"). \n",
    "\n",
    "<b>Note:</b> elif and if are different in that elif will only \"activate\" if the previous if/elif is false - it depends on having one of those above it. If the elif statements are replaced with regular \"if\" statement, each \"if\" would be checked independently, meaning more than one clause could activate. With all elif statements in the middle, only one outcome can happen. "
   ]
  },
  {
   "cell_type": "code",
   "execution_count": null,
   "metadata": {},
   "outputs": [],
   "source": [
    "if num1 < num2:\n",
    "    print(\"num1 is less than num2\")\n",
    "elif num1 > num2:\n",
    "    print(\"num1 is greater than num2\")\n",
    "else:\n",
    "    print(\"num1 is equal to num2\")"
   ]
  },
  {
   "cell_type": "code",
   "execution_count": 19,
   "metadata": {},
   "outputs": [
    {
     "name": "stdout",
     "output_type": "stream",
     "text": [
      "num1 is equal to num2\n"
     ]
    }
   ],
   "source": [
    "\n",
    "if num1 < num2:\n",
    "    print(\"num1 is less than num2\")\n",
    "elif num1 > num2:\n",
    "    print(\"num1 is greater than num2\")\n",
    "elif num1 == num2:\n",
    "    print(\"num1 is equal to num2\")\n",
    "else:\n",
    "    print(\"we're screwed\")\n"
   ]
  },
  {
   "cell_type": "markdown",
   "metadata": {},
   "source": [
    "### Or Else\n",
    "\n",
    "The else statement is the last thing that happens if none of the if/elif statements are true. It is not required, but it is often useful to have a default action if none of the other conditions are met. It is good practice to use the else statement to catch everything you don't expect, and have an if/elif statement for each specific case you do expect. For example, suppose we are checking if a number is less than 0 - this is a simple one-line statement along with an \"or else\" condition. "
   ]
  },
  {
   "cell_type": "code",
   "execution_count": 5,
   "metadata": {},
   "outputs": [
    {
     "name": "stdout",
     "output_type": "stream",
     "text": [
      "test_number is not negative\n"
     ]
    }
   ],
   "source": [
    "test_number = 1\n",
    "\n",
    "if test_number < 0:\n",
    "    print(\"test_number is negative\")\n",
    "else:\n",
    "    print(\"test_number is not negative\")"
   ]
  },
  {
   "cell_type": "markdown",
   "metadata": {},
   "source": [
    "However, we could make this statement a little more robust by adding an \"elif\" statement and changing the \"else\". In the future we'll look at more sophisticated ways to handle errors, but for now we can start to use simple things like this to try to think about dealing with unacceptable inputs. In the second example, we have an \"if\" case for each thing we expect, and an \"else\" case for everything else. In the first example, we mix one of the cases (<=0) with the \"bad input\" case, which is not ideal as we can't differentiate between the two. When the inputs are correct, the two will be the same, but the second example will make it easier for us to deal with errors that might slide by our first check."
   ]
  },
  {
   "cell_type": "code",
   "execution_count": 6,
   "metadata": {},
   "outputs": [
    {
     "name": "stdout",
     "output_type": "stream",
     "text": [
      "test_number is not negative\n"
     ]
    }
   ],
   "source": [
    "test_number2 = False\n",
    "\n",
    "if test_number < 0:\n",
    "    print(\"test_number is negative\")\n",
    "else:\n",
    "    print(\"test_number is not negative\")"
   ]
  },
  {
   "cell_type": "code",
   "execution_count": 7,
   "metadata": {},
   "outputs": [
    {
     "name": "stdout",
     "output_type": "stream",
     "text": [
      "test_number is not negative\n"
     ]
    }
   ],
   "source": [
    "if test_number2 < 0:\n",
    "    print(\"test_number is negative\")\n",
    "elif test_number2 >= 0:\n",
    "    print(\"test_number is not negative\")\n",
    "else:\n",
    "    print(\"we're screwed\")"
   ]
  },
  {
   "attachments": {},
   "cell_type": "markdown",
   "metadata": {},
   "source": [
    "## Boolean Logic\n",
    "\n",
    "Conditional statements depend on booleans, or true false values. True and False are both keywords in Python that we can use for boolean operations, which are really common in programming. The actual conditions that we test can be almost anything - comparing numbers, checking if an email address is valid, or seeing if a password is correct - the key is that whatever the condition is, it must be able to be evaluated as true or false.\n",
    "\n",
    "### Comparison Operators\n",
    "\n",
    "Comparison operators are the most common way to create a boolean value. These operators are used to compare two values, and return a boolean value. The most common comparison operators are:\n",
    "<ul>\n",
    "<li> == - equal to</li>\n",
    "<li> != - not equal to</li>\n",
    "<li> > - greater than</li>\n",
    "<li> < - less than</li>\n",
    "<li> >= - greater than or equal to</li>\n",
    "<li> <= - less than or equal to</li>\n",
    "</ul>\n",
    "\n",
    "These operators can be used to compare almost anything, and the results of the comparisons can be used like any other variable, most notably in our case, to construct logical statements. Boolean operators are used to combine boolean values, and are the basis of boolean logic involving multiple conditions. The most common boolean operators are:\n",
    "<ul>\n",
    "<li> and - True if both are true</li>\n",
    "<li> or - True if either is true</li>\n",
    "<li> not - True if false, False if true</li>\n",
    "</ul>"
   ]
  },
  {
   "cell_type": "code",
   "execution_count": 8,
   "metadata": {},
   "outputs": [
    {
     "name": "stdout",
     "output_type": "stream",
     "text": [
      "tmp_value is equal to either num1 or num2\n",
      "tmp_bool is not equal to tmp_bool2\n"
     ]
    }
   ],
   "source": [
    "tmp_value = 5\n",
    "\n",
    "tmp_bool = tmp_value == num1\n",
    "tmp_bool2 = tmp_value == num2\n",
    "\n",
    "if (tmp_bool or tmp_bool2):\n",
    "    print(\"tmp_value is equal to either num1 or num2\")\n",
    "\n",
    "if (tmp_bool != tmp_bool2):\n",
    "    print(\"tmp_bool is not equal to tmp_bool2\")"
   ]
  },
  {
   "cell_type": "markdown",
   "metadata": {},
   "source": [
    "### Complex Boolean Operations\n",
    "\n",
    "A huge amount of logic can be boiled down to a simple boolean operation, something is true or it isn't. We often deal with more than one criteria or condition, requiring that we build either more complex or multiple layers of logical calculations to decide what to do. For example, suppose we want to print out a line if a value is between num1 and num3 from above? We need to test two things, greater than num1 and less than num3. We can do that in two different ways, depending on what makes more sense to you - a compound equation or a series of simple if statements. \n",
    "\n",
    "These methods are equivalent, in general, I'd say to try to do whichever seems to mirror the scenario that you're modelling - aim for readability. Multiple layers or multiple clauses in a conditional can make it easy to make a mistake in the logic and therefore hard to troubleshoot if there's an error. Certain scenarios will require complex logic, but we want to try to structure things as simply as possible. \n",
    "\n",
    "![Nested If](../images/nested_if.png \"Nested If\")"
   ]
  },
  {
   "cell_type": "code",
   "execution_count": 9,
   "metadata": {},
   "outputs": [
    {
     "name": "stdout",
     "output_type": "stream",
     "text": [
      "num2 is between num1 and num3\n",
      "one of these is true!\n"
     ]
    }
   ],
   "source": [
    "fail_number = 1\n",
    "\n",
    "if (num2 < num3) & (num2 > num1):\n",
    "    print(\"num2 is between num1 and num3\")\n",
    "\n",
    "if (fail_number < num3) & (fail_number > num1):\n",
    "    print(\"fail_number is between num1 and num3\")\n",
    "\n",
    "if (fail_number < num3) or (fail_number > num1):\n",
    "    print(\"one of these is true!\")"
   ]
  },
  {
   "cell_type": "code",
   "execution_count": 10,
   "metadata": {},
   "outputs": [
    {
     "name": "stdout",
     "output_type": "stream",
     "text": [
      "num2 is between num1 and num3\n"
     ]
    }
   ],
   "source": [
    "if num2 < num3:\n",
    "    if num2 > num1:\n",
    "        print(\"num2 is between num1 and num3\")\n",
    "\n",
    "if fail_number < num3:\n",
    "    if fail_number > num1:\n",
    "        print(\"fail_number is between num1 and num3\")"
   ]
  },
  {
   "cell_type": "markdown",
   "metadata": {},
   "source": [
    "### Constructing Boolean Logic\n",
    "\n",
    "Boolean logic is something that can be both simple and complex, depending on the scenario. The key is to break down the problem into its component parts, and then build up the logic from there. If we encounter a complex scenario we can always break it down into smaller pieces, likely down to individual logical operations. We can then combine these back together to get the result we want.\n",
    "\n",
    "In addition to the basic and/or/not that we have above, there are also a few more operations, or gates, that exist in formal logic such as XOR, NAND, and NOR. These are not used as often in programming, but are things that we can construct from the basic operations that we have. Working through complex formal logic equations is beyond the scope of what we explicitly care about, however it is something that we will work our way into if we do any sophisticated programming. There is a quick explanation of the details here: https://en.wikipedia.org/wiki/Logic_gate#Symbols \n",
    "\n",
    "![Boolean Logic](../images/logic-gates.webp \"Logic\")\n",
    "\n",
    "## Exercise \n",
    "\n",
    "Attempt to construct the XOR, NAND, and NOR gates using the basic boolean operations that we have. If you have time, try to construct a XNOR gate as well - this is the opposite of XOR, and is true if both inputs are the same."
   ]
  },
  {
   "cell_type": "code",
   "execution_count": 11,
   "metadata": {},
   "outputs": [],
   "source": [
    "a1 = True\n",
    "b1 = False\n",
    "a2 = False\n",
    "b2 = True"
   ]
  },
  {
   "cell_type": "markdown",
   "metadata": {},
   "source": [
    "### Non-Numerical Conditionals\n",
    "\n",
    "Conditionals that are based on more complex conditions are virtually the same as the simple ones, the thing being compared just changes. We can compare two objects in an example here, such as strings. \n",
    "\n",
    "<b>Note:</b> The \"==\" part here may be very different when dealing with more complex objects that you're comparing; for example, if you were to compare two \"student\" objects in a program like Moodle, that comparison is much more complex than with numbers or text, the creator of that student object would need to define how those things can be compared. This is a highly situation dependent thing, and connects to a concept we'll touch on later \"operator overloading\" or defining what \"==\" or \"+\" means for a more complex object. "
   ]
  },
  {
   "cell_type": "code",
   "execution_count": 12,
   "metadata": {},
   "outputs": [
    {
     "name": "stdout",
     "output_type": "stream",
     "text": [
      "string1 is not equal to string2\n"
     ]
    }
   ],
   "source": [
    "string1 = \"hello\"\n",
    "string2 = \"world\"\n",
    "string3 = \"hello\"\n",
    "\n",
    "if string1 == string2:\n",
    "    print(\"string1 is equal to string2\")\n",
    "else:\n",
    "    print(\"string1 is not equal to string2\")"
   ]
  },
  {
   "cell_type": "code",
   "execution_count": 13,
   "metadata": {},
   "outputs": [
    {
     "name": "stdout",
     "output_type": "stream",
     "text": [
      "string1 is equal to string3\n"
     ]
    }
   ],
   "source": [
    "if string1 == string3:\n",
    "    print(\"string1 is equal to string3\")\n",
    "else:\n",
    "    print(\"string1 is not equal to string3\")"
   ]
  },
  {
   "cell_type": "code",
   "execution_count": 14,
   "metadata": {},
   "outputs": [
    {
     "name": "stdout",
     "output_type": "stream",
     "text": [
      "a condition is true!\n"
     ]
    }
   ],
   "source": [
    "if ( (len(string1) > len(string2)) or (string1 == string3) ):\n",
    "    print(\"a condition is true!\")"
   ]
  },
  {
   "cell_type": "code",
   "execution_count": 15,
   "metadata": {},
   "outputs": [
    {
     "name": "stdout",
     "output_type": "stream",
     "text": [
      "string1 is not longer than string2\n"
     ]
    }
   ],
   "source": [
    "if not len(string1) > 10:\n",
    "    print(\"string1 is not longer than string2\")"
   ]
  },
  {
   "cell_type": "markdown",
   "metadata": {},
   "source": [
    "### Note on Static Values\n",
    "\n",
    "One important thing to take note of now, that will be more important for you later on is to not use literals, or hard coded values, in your conditions. For example, the 10 in the condition above is a bad idea. This general concept holds true for almost all programming, we don't want static values hard coded into the logic of our programs. It would be much better to have a variable that holds the number 10, then use that variable in our code. There are several reasons for this, but the most important is that it makes our code more flexible. If we want to change the value of 10, we only need to change it in one place, rather than every place that it is used. This is a key concept in programming, and is something that we will see over and over again. Having hard coded values littered throughout a program can make things a nightmare to debug should there be an error, as it is very easy to miss one somewhere. \n",
    "\n",
    "A better approach would be to use a variable, and then change the value of that variable if we need to. For constants, or things that likely won't change throughout the execution of the program, a common convention is to use all capital letters for the variable name. This is a convention, not a rule, but it is something that you will see in a lot of code. We may often see a stack of these constants near the top of a program, so that they are easy to find and change if needed. When we get to machine learning stuff, we'll commonly use this to set things like limits on how many times we want something to happen or settings that we input to certain functions - this way we can change things that apply across the entire program in one spot. "
   ]
  },
  {
   "cell_type": "code",
   "execution_count": 16,
   "metadata": {},
   "outputs": [
    {
     "name": "stdout",
     "output_type": "stream",
     "text": [
      "string1 is not longer than string2\n"
     ]
    }
   ],
   "source": [
    "LENGTH_CUTOFF = 10\n",
    "\n",
    "if not len(string1) > LENGTH_CUTOFF:\n",
    "    print(\"string1 is not longer than string2\")"
   ]
  },
  {
   "attachments": {},
   "cell_type": "markdown",
   "metadata": {},
   "source": [
    "#### Testing and Edge Cases\n",
    "\n",
    "Conditional operations, particularly ones with complex logic, are a prime candidate for introducing a bug into your code. The most likely place to have an error are the edge cases, or things along the limits of what can happen. For our simple number comparisons we'd want to test things like if numbers are equal to ensure it works as expected. We'd also want to make sure we test each correct scenario, when the tested number is lower than both, higher than both, and in the middle. For complex conditional logic this can expand to a pretty large number of potential cases to test, it is worth it to do so in most cases because these are the places where errors are likely to happen, and with things like this it may work perfectly for long periods of time until you get some unlikely edge case that fails or seems correct but has the wrong result.\n",
    "\n",
    "What makes an edge case is highly situation dependent, but we probably want to ensure we test things at either side and equal to limits, empty values, 0 or negative values, incorrect data (e.g. letters in a phone number), equality in conditionals, repeated values, empty lists, or whatever else might be used in a logical statement in code. It's common for production software development have a test harness that is automatically run any time some portion of the code is updated. For example, if some programmer is working on some code that calculates grade point averages in our school example, when they submit their updates to be added to the main program, a series of tests may run to calculate some GPAs and some edge cases - GPA for no classes, average of 0, average over 4, \"IP\" (in progress, used if someone is given extra time after the end of a semester, like if they have surgery on Dec 1) to ensure the result was ok for all these things that might happen. \n",
    "\n",
    "In general, we want to set up tests for each potential outcome, values on the decision boundary, as well erroneous values that may be likely to occur. In conditional statements that usually means things on the edges of boundaries, common errors, or extreme values. "
   ]
  },
  {
   "cell_type": "markdown",
   "metadata": {},
   "source": [
    "## Exercise\n",
    "\n",
    "The grading system at NAIT is here: https://www.nait.ca/nait/admissions/office-of-the-registrar/grading-system Write a conditional statement to take in a percentage, and output a letter grade. After you've done that, write a series of tests to ensure that it works correctly. Each test should try your code, produce a result, and allow you to see if it is correct. \n",
    "\n",
    "<b>Note:</b> the testing logistics will be much easier to do once we get into functions soon, this likely will require some copy/paste to do for now. "
   ]
  },
  {
   "cell_type": "code",
   "execution_count": 17,
   "metadata": {},
   "outputs": [],
   "source": [
    "grade1 = 90\n",
    "grade2 = 82\n",
    "grade3 = 95.21\n",
    "grade4 = 72.3\n",
    "grade5 = 45"
   ]
  },
  {
   "cell_type": "code",
   "execution_count": 18,
   "metadata": {},
   "outputs": [],
   "source": [
    "#Write code\n"
   ]
  }
 ],
 "metadata": {
  "kernelspec": {
   "display_name": "ml_env",
   "language": "python",
   "name": "python3"
  },
  "language_info": {
   "codemirror_mode": {
    "name": "ipython",
    "version": 3
   },
   "file_extension": ".py",
   "mimetype": "text/x-python",
   "name": "python",
   "nbconvert_exporter": "python",
   "pygments_lexer": "ipython3",
   "version": "3.10.9"
  },
  "orig_nbformat": 4
 },
 "nbformat": 4,
 "nbformat_minor": 2
}
