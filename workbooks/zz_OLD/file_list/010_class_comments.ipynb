{
 "cells": [
  {
   "cell_type": "markdown",
   "metadata": {},
   "source": [
    "# Commenting and Docstrings\n",
    "\n",
    "As we're starting to see, the code we write can get complicated quickly. We need to be able to explain what our code does, and how to use it. We also need to be able to explain what our code does to ourselves, when we come back to it after a few months.\n",
    "\n",
    "## Basic Comments\n",
    "\n",
    "Comments are denoted by a `#` symbol. Anything after a `#` symbol on a line is ignored by Python. Comments are useful for explaining what a line of code does, or for temporarily disabling a line of code, such as if we embed some print statements to help us debug our code."
   ]
  },
  {
   "cell_type": "code",
   "execution_count": 1,
   "metadata": {},
   "outputs": [
    {
     "data": {
      "text/plain": [
       "56"
      ]
     },
     "execution_count": 1,
     "metadata": {},
     "output_type": "execute_result"
    }
   ],
   "source": [
    "# We can comment out some interactive parts to make it easier to \n",
    "# test our logic.\n",
    "\n",
    "#a = int(input(\"Enter a number: \"))\n",
    "#b = int(input(\"Enter another number: \"))\n",
    "a = 8\n",
    "b = 7\n",
    "\n",
    "a * b"
   ]
  },
  {
   "cell_type": "markdown",
   "metadata": {},
   "source": [
    "### Comment Use\n",
    "\n",
    "We generally want to comment our code to explain what it does, and how to use it. We also want to comment our code to explain why we did something, or why we did it a certain way. This is especially important when we're doing something that might seem odd or counterintuitive. We also want to comment our code to explain what we were thinking when we wrote it, especially if we're coming back to it after a few months.\n",
    "\n",
    "As we get started, this isn't really all that important to what we do, as the code is small and simple enough to make sense of. However, as we start to write more complicated code, we'll want to start commenting our code to make it easier to understand.\n",
    "\n",
    "Since we have notebooks for our code, we can also use markdown cells to add explanations or context, in a more stylish way. In general, we want to use comments to explain what our code does, and markdown cells to explain why our code does it (though this is not a hard and fast rule). We want to use the markdown for what someone would \"read\" if using our code, and use comments for what someone would look at to understand the details. Many organizations may also have some kind of style guide to dictate their standards for documentation. "
   ]
  },
  {
   "cell_type": "code",
   "execution_count": 2,
   "metadata": {},
   "outputs": [],
   "source": [
    "# Comments are ignored by the Python interpreter.\n",
    "# They are for humans to read.\n",
    "# And can be used to explain what the code is doing, directly where it is written. \n",
    "\n",
    "def cubeValue(x):\n",
    "    # This function returns the cube of the input value.\n",
    "    return x**3"
   ]
  },
  {
   "cell_type": "markdown",
   "metadata": {},
   "source": [
    "## Docstrings\n",
    "\n",
    "Docstrings are a standardized way of documenting our code. They are a string that is the first thing in a function, class, or module. They are used by the `help()` function that we can call on any object. The docstring is a comment with some useful information, and it is written in a special way so that Python can find it and use it.\n",
    "\n",
    "### Using Docstrings\n",
    "\n",
    "A docstring is denoted by a triple quote `\"\"\"` at the beginning and end of the string. The docstring should be the first thing in a function, class, or module. It should be indented the same as the code that follows it. It should describe what the function, class, or module does, and how to use it. It should also describe what the function, class, or module returns, if anything. It should also describe any arguments that are passed to the function, class, or module, and what they are used for. It should also describe any side effects that the function, class, or module has, such as printing to the screen or writing to a file.\n",
    "\n",
    "### Docstring Format\n",
    "\n",
    "Docstrings follow a specified format, or rather one of a few specified formats. \n",
    "\n",
    "From Google's Python Style Guide:\n",
    "\n",
    "\"\"\"A one-line summary of the module or program, terminated by a period.\n",
    "\n",
    "Leave one blank line.  The rest of this docstring should contain an\n",
    "overall description of the module or program.  Optionally, it may also\n",
    "contain a brief description of exported classes and functions and/or usage\n",
    "examples.\n",
    "\n",
    "Typical usage example:\n",
    "\n",
    "  foo = ClassFoo()\n",
    "  \n",
    "  bar = foo.FunctionBar()\n",
    "\"\"\"\n",
    "\n",
    "The examples here will follow the Google format. "
   ]
  },
  {
   "cell_type": "code",
   "execution_count": 3,
   "metadata": {},
   "outputs": [],
   "source": [
    "#Person class with proper comments\n",
    "class Person:\n",
    "    \"\"\"This is a person class with name and age attributes\"\"\"\n",
    "    \n",
    "    def __init__(self, name, age):\n",
    "        \"\"\"This is the constructor of the Person class\"\"\"\n",
    "        self.name = name\n",
    "        self.age = age\n",
    "\n",
    "    def get_name(self):\n",
    "        \"\"\"This method returns the name of the person\"\"\"\n",
    "        return self.name\n",
    "\n",
    "    def get_age(self):\n",
    "        \"\"\"This method returns the age of the person\"\"\"\n",
    "        return self.age\n",
    "\n",
    "    def set_name(self, name):\n",
    "        \"\"\"This method sets the name of the person\"\"\"\n",
    "        self.name = name\n",
    "\n",
    "    def set_age(self, age):\n",
    "        \"\"\"This method sets the age of the person\"\"\"\n",
    "        self.age = age\n",
    "\n",
    "    def __str__(self):\n",
    "        \"\"\"This method returns the string representation of the Person class\"\"\"\n",
    "        return \"Person [name = \"+self.name+\", age = \"+str(self.age)+\"]\""
   ]
  },
  {
   "cell_type": "code",
   "execution_count": 4,
   "metadata": {},
   "outputs": [
    {
     "name": "stdout",
     "output_type": "stream",
     "text": [
      "Help on class Person in module __main__:\n",
      "\n",
      "class Person(builtins.object)\n",
      " |  Person(name, age)\n",
      " |  \n",
      " |  This is a person class with name and age attributes\n",
      " |  \n",
      " |  Methods defined here:\n",
      " |  \n",
      " |  __init__(self, name, age)\n",
      " |      This is the constructor of the Person class\n",
      " |  \n",
      " |  __str__(self)\n",
      " |      This method returns the string representation of the Person class\n",
      " |  \n",
      " |  get_age(self)\n",
      " |      This method returns the age of the person\n",
      " |  \n",
      " |  get_name(self)\n",
      " |      This method returns the name of the person\n",
      " |  \n",
      " |  set_age(self, age)\n",
      " |      This method sets the age of the person\n",
      " |  \n",
      " |  set_name(self, name)\n",
      " |      This method sets the name of the person\n",
      " |  \n",
      " |  ----------------------------------------------------------------------\n",
      " |  Data descriptors defined here:\n",
      " |  \n",
      " |  __dict__\n",
      " |      dictionary for instance variables (if defined)\n",
      " |  \n",
      " |  __weakref__\n",
      " |      list of weak references to the object (if defined)\n",
      "\n"
     ]
    }
   ],
   "source": [
    "help(Person)"
   ]
  },
  {
   "cell_type": "markdown",
   "metadata": {},
   "source": [
    "## More Elaborate Comments\n",
    "\n",
    "The docstring above provide some context. For things that are more complicated, or for anything that is going to be used for a long time and shared with others, we want to provide more information in the docstring. This information is what we see when we use the `help()` function or when VS Code pops up hints on the object we are using. \n",
    "\n",
    "### Overriding Methods\n",
    "\n",
    "In the Student class, we have a method called `__str__`. This is a special method that is called when we use the `str()` function on an object. We can override this method to provide a custom string representation of our object. In general, just printing whatever is in some object that we've defined isn't all that logical. When we override the `__str__` method we can define whatever we want to show when someone prints our object. Overriding methods is a very useful and powerful tool. \n",
    "\n",
    "<b>Note:</b> this example uses something that we'll look at more later, inheritance. In the class definition, we have `class Student(Person):`. This means that the Student class inherits everything that the Person class has or does. This means that the Student class has all the attributes and methods of the Person class. Our Student class is \"built on top of\" the Person class, we take a person and add whatever else is needed to make that person a student; we are also able to override methods that we inherit from the Person class, if we want to modify the behavior of those methods."
   ]
  },
  {
   "cell_type": "code",
   "execution_count": 5,
   "metadata": {},
   "outputs": [],
   "source": [
    "class Student(Person):\n",
    "    \"\"\"This is a student class, it inherits from the Person class.\n",
    "\n",
    "    This is a big, long description of the Student class...\n",
    "\n",
    "    Attributes:\n",
    "        name: A string representing the name of the student\n",
    "        age: An integer representing the age of the student\n",
    "        roll_no: An integer representing the roll_no of the student\n",
    "    \"\"\"\n",
    "\n",
    "    def __init__(self, name, age, roll_no):\n",
    "        \"\"\"This is the constructor of the Student class\"\"\"\n",
    "        super().__init__(name, age)\n",
    "        self.roll_no = roll_no\n",
    "\n",
    "    def get_roll_no(self):\n",
    "        \"\"\"This method returns the roll_no of the student\"\"\"\n",
    "        return self.roll_no\n",
    "\n",
    "    def set_roll_no(self, roll_no):\n",
    "        \"\"\"This method sets the roll_no of the student\n",
    "        Parameters:\n",
    "            roll_no (int): An integer representing the roll_no of the student\n",
    "        Returns:\n",
    "            None\n",
    "        \"\"\"\n",
    "        self.roll_no = roll_no\n",
    "\n",
    "    def __str__(self):\n",
    "        \"\"\"This method returns the string representation of the Student class\"\"\"\n",
    "        return \"Student [name = \"+self.name+\", age = \"+str(self.age)+\", roll_no = \"+str(self.roll_no)+\"]\""
   ]
  },
  {
   "cell_type": "markdown",
   "metadata": {},
   "source": [
    "### Get Docstring\n",
    "\n",
    "We can access the docstring either by using the `help()` function, or by using the `__doc__` attribute. The `__doc__` attribute is a string that contains the docstring. We can use this to print the docstring, or to write it to a file, or to do whatever we want with it. The help() function prints the docstring to the screen, and also provides some other information about the object. Help is probably more useful for interactive use, while the `__doc__` attribute is probably more useful for programmatic use."
   ]
  },
  {
   "cell_type": "code",
   "execution_count": 6,
   "metadata": {},
   "outputs": [
    {
     "name": "stdout",
     "output_type": "stream",
     "text": [
      "Student [name = John, age = 20, roll_no = 101]\n",
      "Help on Student in module __main__ object:\n",
      "\n",
      "class Student(Person)\n",
      " |  Student(name, age, roll_no)\n",
      " |  \n",
      " |  This is a student class, it inherits from the Person class.\n",
      " |  \n",
      " |  This is a big, long description of the Student class...\n",
      " |  \n",
      " |  Attributes:\n",
      " |      name: A string representing the name of the student\n",
      " |      age: An integer representing the age of the student\n",
      " |      roll_no: An integer representing the roll_no of the student\n",
      " |  \n",
      " |  Method resolution order:\n",
      " |      Student\n",
      " |      Person\n",
      " |      builtins.object\n",
      " |  \n",
      " |  Methods defined here:\n",
      " |  \n",
      " |  __init__(self, name, age, roll_no)\n",
      " |      This is the constructor of the Student class\n",
      " |  \n",
      " |  __str__(self)\n",
      " |      This method returns the string representation of the Student class\n",
      " |  \n",
      " |  get_roll_no(self)\n",
      " |      This method returns the roll_no of the student\n",
      " |  \n",
      " |  set_roll_no(self, roll_no)\n",
      " |      This method sets the roll_no of the student\n",
      " |      Parameters:\n",
      " |          roll_no (int): An integer representing the roll_no of the student\n",
      " |      Returns:\n",
      " |          None\n",
      " |  \n",
      " |  ----------------------------------------------------------------------\n",
      " |  Methods inherited from Person:\n",
      " |  \n",
      " |  get_age(self)\n",
      " |      This method returns the age of the person\n",
      " |  \n",
      " |  get_name(self)\n",
      " |      This method returns the name of the person\n",
      " |  \n",
      " |  set_age(self, age)\n",
      " |      This method sets the age of the person\n",
      " |  \n",
      " |  set_name(self, name)\n",
      " |      This method sets the name of the person\n",
      " |  \n",
      " |  ----------------------------------------------------------------------\n",
      " |  Data descriptors inherited from Person:\n",
      " |  \n",
      " |  __dict__\n",
      " |      dictionary for instance variables (if defined)\n",
      " |  \n",
      " |  __weakref__\n",
      " |      list of weak references to the object (if defined)\n",
      "\n"
     ]
    }
   ],
   "source": [
    "my_student = Student(\"John\", 20, 101)\n",
    "print(my_student)\n",
    "help(my_student)"
   ]
  },
  {
   "cell_type": "code",
   "execution_count": 7,
   "metadata": {},
   "outputs": [
    {
     "name": "stdout",
     "output_type": "stream",
     "text": [
      "This is a student class, it inherits from the Person class.\n",
      "\n",
      "    This is a big, long description of the Student class...\n",
      "\n",
      "    Attributes:\n",
      "        name: A string representing the name of the student\n",
      "        age: An integer representing the age of the student\n",
      "        roll_no: An integer representing the roll_no of the student\n",
      "    \n"
     ]
    }
   ],
   "source": [
    "print(my_student.__doc__)"
   ]
  },
  {
   "cell_type": "markdown",
   "metadata": {},
   "source": [
    "### Comment Processing\n",
    "\n",
    "The docstring comments are automatically processed by Python, as long as they match the correct format. There are also tools to generate documentation automatically from the docstrings in code. For example, if you created a real Student class and properly commented the class and all the methods with docstrings, you could use a tool to transform those comments into documentation similar to what we see when we look at reference documentation for Python. This is very common, and good practice - we can save time by only documenting once, and we can make sure that our documentation is always up to date."
   ]
  },
  {
   "cell_type": "markdown",
   "metadata": {},
   "source": [
    "## Markdown Cells\n",
    "\n",
    "These explanatory cells in our notebooks are Markdown cells, which function largely like blocks of a web page in our code. These cells use a language called Markdown, which is a simple way to format text overlapping largely with HTML. We can use these cells to hold lists, images, links, tables, and most other things that are seen on a web page. \n",
    "\n",
    "The text in these cells can be formatted to look nice, using HTML-ish commands to make things bold and italic, or to embed an image. Double-click on any of the example cells in these notebooks to see how something is done. There is a PDF cheatsheet of markdown commands in the \"course_material\" folder, and there are many other resources online. Most simple HTML things, like bold or italic are identical, so if you're familiar with HTML, you're already familiar with Markdown.\n",
    "\n",
    "![Markdown](../../images/markdown.webp \"Markdown\")\n",
    "![Markdown](../images/markdown.webp \"Markdown\")\n",
    "\n",
    "When we use markdown in data science we are normally explaining what we are doing, the results, and why. Most of our work will involve going through several rounds of preparation prior to doing the actual machine learning step, and we can walk through each step using these markdown cells are our canvas. Both comments and markdown can explain our code, in general we want to use the markdown cells to explain why we did something, and the comments to explain how we did it and the details of the programming. "
   ]
  },
  {
   "cell_type": "markdown",
   "metadata": {},
   "source": [
    "### How Much do I Really Need to Comment?\n",
    "\n",
    "The short answer is: as much as you can. Having more of an explanation for your code is very rarely a bad thing, though the importance varies. If you are writing code that is only going to be used by you, then you can probably get away with less commenting. If you're working on larger projects with others, or especially if you are writing things that may be used or distributed to others, then you should really try to provide a full, coherent, and detailed explanation of what your code does in the docstring and comments. \n",
    "\n",
    "For the immediate future, you're probably going to be writing things that are pretty limited in scope and that few other people will ever touch, so commenting may feel extra annoying and useless. However, it's a good habit to get into, and it will make your life easier when you do start working on larger projects."
   ]
  }
 ],
 "metadata": {
  "kernelspec": {
   "display_name": "ml_env",
   "language": "python",
   "name": "python3"
  },
  "language_info": {
   "codemirror_mode": {
    "name": "ipython",
    "version": 3
   },
   "file_extension": ".py",
   "mimetype": "text/x-python",
   "name": "python",
   "nbconvert_exporter": "python",
   "pygments_lexer": "ipython3",
   "version": "3.10.9"
  },
  "orig_nbformat": 4
 },
 "nbformat": 4,
 "nbformat_minor": 2
}
