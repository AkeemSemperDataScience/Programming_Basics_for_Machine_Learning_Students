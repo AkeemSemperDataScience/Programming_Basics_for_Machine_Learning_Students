{
 "cells": [
  {
   "cell_type": "markdown",
   "metadata": {},
   "source": [
    "# Operator Overloading\n",
    "\n",
    "When we started looking at classes, one of the things we utilized was the ability to redefine how certain methods work for the new class we created, such as when we wrote __str__ functions to define how an object of our class would print. This is called Operator Overloading, and it is a very useful and powerful tool that can make your code more readable and more intuitive.\n",
    "\n",
    "Operators are essentially functions that are built into Python that allow us to perform certain operations on objects. For example, the + operator is used to add two numbers together, and the * operator is used to multiply two numbers together. We can also use these operators on strings, lists, and other objects. For example, we can use the + operator to concatenate two strings together, or to concatenate two lists together. We can also use the * operator to repeat a string or list a certain number of times.\n",
    "\n",
    "Overloading these operators allows us to make a specific implementation of these common actions for our classes, and implement things seamlessly with the operators that we are used to. For example, we can redefine __str__ and our objects will print how we want, rather than having to make a different function and call it to print every time. We can have our new object in a list or utilized in some other code, and whenever that object is asked to print, it'll just behave as we want it to."
   ]
  },
  {
   "cell_type": "markdown",
   "metadata": {},
   "source": [
    "## What Can Be Overloaded?\n",
    "\n",
    "There are a lot of operators that can be overloaded, and you can find a full list of them [here](https://docs.python.org/3/reference/datamodel.html#special-method-names). We will be focusing on a few of the most common ones, but you can overload any of them if you want to.\n",
    "\n",
    "The most prevalent and useful operators to overload are:\n",
    "<ul>\n",
    "    <li>__str__</li>\n",
    "    <li>__add__</li>\n",
    "    <li>__sub__</li>\n",
    "    <li>__mul__</li>\n",
    "    <li>__and__</li>\n",
    "    <li>__or__</li>\n",
    "    <li>__lt__</li>\n",
    "    <li>__le__</li>\n",
    "    <li>__eq__</li>\n",
    "</ul>\n",
    "\n",
    "## How Do We Overload Them?\n",
    "\n",
    "We overload operators in our classes simply by creating a function with the same name as the operator we want to overload. For example, if we want to overload the + operator, we would create a function called __add__ in our class. This function will take two arguments, the first being the object that the operator is being called on, and the second being the object that is being added to the first object. For example, if we have a class called Point, and we want to overload the + operator, we would create a function called __add__ that takes two arguments, self and other. Self would be the Point object that the operator is being called on, and other would be the object that is being added to the Point object. We can then define how we want the operator to work in the function."
   ]
  },
  {
   "cell_type": "markdown",
   "metadata": {},
   "source": [
    "### Example - Redefining Addition\n",
    "\n",
    "We can create a simple class to represent a student's transcript. When we add two transcripts together, we want the courses to be combined into a longer set of completed courses. "
   ]
  },
  {
   "cell_type": "code",
   "execution_count": null,
   "metadata": {},
   "outputs": [],
   "source": [
    "class transcript():\n",
    "\n",
    "    def __init__(self, name) -> None:\n",
    "        self.courses = {}\n",
    "        self.learner = name\n",
    "    \n",
    "    def add_course(self, course, grade):\n",
    "        self.courses[course] = grade\n",
    "    def get_courses(self):\n",
    "        return self.courses\n",
    "    \n",
    "    def __add__(self, other):\n",
    "        tmp = other.get_courses()\n",
    "        #print(type(tmp))\n",
    "        for key, val in tmp.items():\n",
    "            self.courses[key] = val\n",
    "        return self\n",
    "    \n",
    "    def __str__(self) -> str:\n",
    "        return_string = self.learner + \"'s Transcript:\\n\"\n",
    "        for course in self.courses:\n",
    "            return_string += course + \" - \" + str(self.courses[course])\n",
    "            return_string += \"\\n\"\n",
    "        return return_string\n"
   ]
  },
  {
   "cell_type": "markdown",
   "metadata": {},
   "source": [
    "We can now use our overloaded addition method to add two transcripts together, which by our definition means to combine the two. "
   ]
  },
  {
   "cell_type": "code",
   "execution_count": null,
   "metadata": {},
   "outputs": [],
   "source": [
    "transcript1 = transcript(\"akeem\")\n",
    "transcript1.add_course(\"Math 101\", 90)\n",
    "transcript1.add_course(\"Comp Sci 101\", 100)\n",
    "\n",
    "transcript2 = transcript(\"billy bob\")\n",
    "transcript2.add_course(\"Math 102\", 95)\n",
    "transcript2.add_course(\"Comp Sci 102\", 95)\n"
   ]
  },
  {
   "cell_type": "code",
   "execution_count": null,
   "metadata": {},
   "outputs": [],
   "source": [
    "print(transcript1)\n",
    "print(transcript2)"
   ]
  },
  {
   "cell_type": "code",
   "execution_count": null,
   "metadata": {},
   "outputs": [],
   "source": [
    "print(transcript1 + transcript2)"
   ]
  },
  {
   "cell_type": "markdown",
   "metadata": {},
   "source": [
    "## Under The Hood\n",
    "\n",
    "Under the hood, Python is actually calling the __add__ function when we use the + operator. This is why we can overload the + operator by defining the __add__ function in our class. This is also why we have to pass self as the first argument, because Python is passing the object that the operator is being called on as the first argument. This is also why we have to return a new object, because Python is expecting the function to return the result of the operation. We can look at this by calling the __add__ function directly, and passing it the two objects we want to add. We can see that it returns the same thing as when we use the + operator. Inside of python there is basically some magic logic that ties operators such as +, -, /, = to their appropriate underscore names, as well as functions such as len() and str() to their matches as well. \n",
    "\n",
    "### Double Underscore Leading and Trailing\n",
    "\n",
    "These functions that have a double underscore both before and after are called \"magic methods\" and they are how we can explicitly access or redefine many of the built-in actions in Python such as the operators. "
   ]
  },
  {
   "cell_type": "code",
   "execution_count": null,
   "metadata": {},
   "outputs": [],
   "source": [
    "print(transcript1.__add__(transcript2))"
   ]
  },
  {
   "cell_type": "markdown",
   "metadata": {},
   "source": [
    "### Exercise\n",
    "\n",
    "Create the class of BMI. In BMI, we want to be able to add two BMIs together, and have it return a new BMI object that is the average of the two. We also want to be able to compare two BMIs for equality and have it return True if they are equal to the nearest whole number. \n",
    "\n",
    "<b>Note:</b> The formula for BMI is weight in kilograms divided by height in meters squared."
   ]
  },
  {
   "cell_type": "code",
   "execution_count": null,
   "metadata": {},
   "outputs": [],
   "source": [
    "class BMI():\n",
    "    pass"
   ]
  },
  {
   "cell_type": "code",
   "execution_count": null,
   "metadata": {},
   "outputs": [],
   "source": [
    "# Tests I used...\n",
    "#bmi1 = BMI(100, 1.8)\n",
    "#bmi2 = BMI(90, 1.7)\n",
    "#bmi3 = BMI(102, 1.82)\n",
    "\n",
    "#print(bmi1, bmi2, bmi3)\n",
    "#print(bmi1+bmi2)\n",
    "#print(bmi1 == bmi3)"
   ]
  },
  {
   "cell_type": "markdown",
   "metadata": {},
   "source": [
    "## Encapsulation\n",
    "\n",
    "The idea of overloading operators leads us into thinking less about each object as a combination of things, and more as an item that is it's own distinct object, with all it's abilities and data wrapped up in it. Encapsulation is the idea that the data and methods that are used to manipulate that data are bundled together in a single unit, and that unit is the object. This is a key concept in object-oriented programming, and it is one of the things that makes it so powerful. Overloading operators is one thing that aids in this concept - we don't want to have to dissect complex objects to extract their components in order to combine two objects, we just want to add them together. \n",
    "\n",
    "![Encapsulation](../../images/encapsulation.jpg \"Encapsulation\")\n",
    "![Encapsulation](../images/encapsulation.jpg \"Encapsulation\")\n",
    "\n",
    "We can think of it using the common medicine capsule analogy - inside the capsule there are all kinds of little bits that do stuff. We don't need to worry about how to deal with any of those bits, we only interact with the larger outer shell as a whole, and it manages the internals. As a bit of a detour, but a good example, these capsules often provide drops of medicine that are covered in coatings to change their behavior, like make them take a while to be absorbed, or to be absorbed in a specific part of the body. We don't need to individually manage each part of the medicine or time it ourselves, the capsule \"encapsulates\" all of that for us.\n",
    "\n",
    "### Visibility Inside a Class\n",
    "\n",
    "In general, we want to think of our objects largely as black boxes in object-oriented programming. By this, we mean that we don't normally want to be worrying about how the object is implemented, we just want to be able to use it. We also don't really want to be rooting through the details of the object to get at the data we want, we just want to be able to access it. We can control which parts of our classes are made visible to the outside world, so we can offer up the class by giving people access to what they need to use it and obscure the internals that aren't relevant to them. \n",
    "\n",
    "<b>Note:</b> the concepts of public and private in Python are a little weaker than other languages. The OOP concept is very strict, and we'll look at this in that context here, then we'll expand in more detail later on with decorators and when we look at inheritance.\n",
    "\n",
    "#### Single Underscore Leading\n",
    "\n",
    "In Python, variables that have a single leading underscore are considered to be \"protected\" variables. This means that they are not intended to be accessed from outside the class, but they can be accessed if needed. We also see this described as having the variables not be presented in the API or interface of the class. This means that if someone is using our class, they won't see these variables or methods when they look at the documentation for the class and they will be expected to not use them. In practice, this means that these underscore variables are not promised to remain the same by the developer of a class, so using one directly might break in the future. \n",
    "\n",
    "#### Double Underscore Leading\n",
    "\n",
    "Variables with a double leading underscore are called \"private\". Private variables are variables that are only accessible from within the class, and cannot be accessed from outside the class. This is done by adding two underscores to the beginning of the variable name. For example, if we have a variable called __name, it is a private variable and cannot be accessed from outside the class. This is another way that we can control how our variables are accessed and updated, and it is a common practice in object-oriented programming.\n",
    "\n",
    "### Setters and Getters\n",
    "\n",
    "While we work on overloading operators one thing that we can also examine is a category of methods called setters and getters - methods that exist simply to either return or update the value of one of our instance variables. These simple helper methods are also another tool in service of encapsulation, as they allow us to control how our instance variables are accessed and updated.\n",
    "\n",
    "Using methods like these is very common in object-oriented programming, even more so in languages other than Python such as Java. The advantages to using these methods is that it allows us to control how our instance variables are accessed and updated. For example, if we have a variable that we want to be a positive integer, we can use a setter method to ensure that the value being set is a positive integer, and if it isn't, we can either throw an error or change the value to be positive. This allows us to control how our variables are used, and can help us avoid errors in our code. If someone could just change a variable inside an object arbitrarily, we risk them setting it to something that is incorrect or invalid. By using setter and getter methods, we can ensure that any error checking or other work we want done is performed. \n",
    "\n",
    "In python, there is a more \"Pythonic\" way of implementing this using something called a decorator. We'll look at these as a concept later on, but the idea doesn't change, only the implementation."
   ]
  },
  {
   "cell_type": "code",
   "execution_count": null,
   "metadata": {},
   "outputs": [],
   "source": [
    "class transcriptPriv():\n",
    "\n",
    "    def __init__(self, name, age=40) -> None:\n",
    "        self.__courses = {}\n",
    "        self.__learner = name\n",
    "        self._age = age\n",
    "    \n",
    "    def add_course(self, course, grade):\n",
    "        self.__courses[course] = grade\n",
    "    def get_courses(self):\n",
    "        return self.__courses\n",
    "    def get_learner(self):\n",
    "        return self.__learner\n",
    "    def set_learner(self, name):\n",
    "        self.__learner = name\n",
    "    def get_age(self):\n",
    "        return self._age\n",
    "    def set_age(self, age):\n",
    "        self._age = age\n",
    "    \n",
    "    def __add__(self, other):\n",
    "        tmp = other.get_courses()\n",
    "        #print(type(tmp))\n",
    "        for key, val in tmp.items():\n",
    "            self.__courses[key] = val\n",
    "        return self\n",
    "    \n",
    "    def __str__(self) -> str:\n",
    "        return_string = self.__learner + \"'s \" + str(self._age) + \" year old Transcript:\\n\"\n",
    "        for course in self.__courses:\n",
    "            return_string += course + \" - \" + str(self.__courses[course])\n",
    "            return_string += \"\\n\"\n",
    "        return return_string"
   ]
  },
  {
   "cell_type": "code",
   "execution_count": null,
   "metadata": {},
   "outputs": [],
   "source": [
    "transcript3 = transcriptPriv(\"akeem\")\n",
    "transcript3.add_course(\"Math 101\", 90)\n",
    "transcript3.add_course(\"Comp Sci 101\", 100)\n",
    "\n",
    "transcript4 = transcriptPriv(\"billy bob\", 21)\n",
    "transcript4.add_course(\"Math 102\", 95)\n",
    "transcript4.add_course(\"Comp Sci 102\", 95)"
   ]
  },
  {
   "cell_type": "code",
   "execution_count": null,
   "metadata": {},
   "outputs": [],
   "source": [
    "print(transcript3 + transcript4)"
   ]
  },
  {
   "cell_type": "markdown",
   "metadata": {},
   "source": [
    "##### Testing Privacy\n",
    "\n",
    "When we try to access those underlying attributes in the two different types of transcripts, we get different behavior - the original dictionary is openly accessible, while the new one is not. This is because the original transcript is using a public variable, while the new transcript is using a private variable. Making our variables private keeps them \"safe\", no other entity outside of the class that we've created for them can access them directly. It also requires some version of a setter and getter method to access those attributes, so we have to implement those. \n",
    "\n",
    "With the single underscore variable of age we are able to access it without error, though we are supposed to be quite careful with doing so.  "
   ]
  },
  {
   "cell_type": "code",
   "execution_count": null,
   "metadata": {},
   "outputs": [],
   "source": [
    "try:\n",
    "    print(transcript2.courses)\n",
    "except:\n",
    "    print(\"Error\")"
   ]
  },
  {
   "cell_type": "code",
   "execution_count": null,
   "metadata": {},
   "outputs": [],
   "source": [
    "try:\n",
    "    print(transcript3.__courses)\n",
    "except:\n",
    "    print(\"Error\")"
   ]
  },
  {
   "cell_type": "code",
   "execution_count": null,
   "metadata": {},
   "outputs": [],
   "source": [
    "try:\n",
    "    print(transcript3._age)\n",
    "except:\n",
    "    print(\"Error\")"
   ]
  },
  {
   "cell_type": "markdown",
   "metadata": {},
   "source": [
    "#### Name Mangling\n",
    "\n",
    "Python does have a way to access private variables, but it is not recommended outside of very fringe scenarios. If we want to access a private variable, we can use an underscore, then the name of the class, followed by two underscores, followed by the name of the variable. This is called \"name mangling\". So these private variables are not truly private, the concept of private variables is more of a guideline than a rule in Python, while in other languages it is strictly enforced."
   ]
  },
  {
   "cell_type": "code",
   "execution_count": null,
   "metadata": {},
   "outputs": [],
   "source": [
    "# name mangling\n",
    "transcript3._transcriptPriv__courses[\"Math 101\"] = 100\n",
    "print(transcript3)"
   ]
  },
  {
   "cell_type": "markdown",
   "metadata": {},
   "source": [
    "### Using Encapsulation\n",
    "\n",
    "Most of our code in data science work isn't super dependent on encapsulation as we tend not to make huge numbers of objects. It is good practice though, especially in larger projects, as having an object with one of it's attributes being changed without us noticing it is an easy way to introduce bugs into our code. We want to create objects that provide an interface that is publicly facing and provides someone using our objects access to all they need to do, in a way that is easy for them to use. Think about pandas, numpy, or any other library we use - the documentation offers us all the public interfaces we need to use those objects. We want to aim for the same thing, our objects don't offer a combination of pieces of data or a grouping of methods - they offer a unitary object that has certain capabilities. "
   ]
  },
  {
   "cell_type": "markdown",
   "metadata": {},
   "source": [
    "## Exercise\n",
    "\n",
    "Create the BankAccount class. In it, include:\n",
    "<ul>\n",
    "<li> The less than operator is needed to sort. Implement it so that items are sorted by their balance, with the lowest balance first. </li>\n",
    "<li> Create setters and getters for the variables. Add some basic error checking. </li>\n",
    "<li> Make the balance private. </li>\n",
    "<li> Use only one method for actually chaning the balance - anything that changes the balance should go through this method. </li>\n",
    "<li> When doing withdrawls, be attentive of the balance and the overdraft ability. </li>\n",
    "<li> Make the printout of a bank account object nice. </li>\n",
    "<li> Print the accounts in order of balance. There is an overload (lt) that will help this.</li>\n",
    "</ul>"
   ]
  },
  {
   "cell_type": "code",
   "execution_count": null,
   "metadata": {},
   "outputs": [],
   "source": [
    "# Overloading Exercise\n",
    "class BankAccount():\n",
    "\n",
    "    types = [\"Chequing\", \"Savings\", \"Investment\"]\n",
    "\n",
    "    def __init__(self, name, accountNumber, balance=0, type=\"Chequing\", overdraft=False) -> None:\n",
    "        pass"
   ]
  },
  {
   "cell_type": "markdown",
   "metadata": {},
   "source": [
    "#### Exercise Test Runs\n",
    "\n",
    "These should work. "
   ]
  },
  {
   "cell_type": "code",
   "execution_count": null,
   "metadata": {},
   "outputs": [],
   "source": [
    "#account1 = BankAccount(\"Akeem\", 12345, 100)\n",
    "#account2 = BankAccount(\"Tom\", 12123, 240)\n",
    "#account3 = BankAccount(\"Bill\", 2343, 809, \"Savings\")\n",
    "#account4 = BankAccount(\"Bob\", 145, 100, overdraft=True)\n",
    "#account5 = BankAccount(\"Tommy\", 19123, 291)\n",
    "\n",
    "#account1.withdraw(50)"
   ]
  },
  {
   "cell_type": "code",
   "execution_count": null,
   "metadata": {},
   "outputs": [],
   "source": [
    "#accounts = [account1, account2, account3, account4, account5]\n",
    "\n",
    "#sorted_accounts = sorted(accounts)\n",
    "#for account in sorted_accounts:\n",
    "#    print(account)"
   ]
  }
 ],
 "metadata": {
  "kernelspec": {
   "display_name": "ml_env",
   "language": "python",
   "name": "python3"
  },
  "language_info": {
   "codemirror_mode": {
    "name": "ipython",
    "version": 3
   },
   "file_extension": ".py",
   "mimetype": "text/x-python",
   "name": "python",
   "nbconvert_exporter": "python",
   "pygments_lexer": "ipython3",
   "version": "3.10.9"
  },
  "orig_nbformat": 4
 },
 "nbformat": 4,
 "nbformat_minor": 2
}
