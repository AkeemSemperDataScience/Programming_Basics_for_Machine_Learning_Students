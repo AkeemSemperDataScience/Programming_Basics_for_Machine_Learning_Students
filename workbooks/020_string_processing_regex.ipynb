{
 "cells": [
  {
   "cell_type": "code",
   "execution_count": 1,
   "metadata": {},
   "outputs": [],
   "source": [
    "import re"
   ]
  },
  {
   "cell_type": "markdown",
   "metadata": {},
   "source": [
    "# Regular Expressions\n",
    "\n",
    "A regular expression is a sequence of characters that define a search pattern. Usually this pattern is then used by string searching algorithms for \"find\" or \"find and replace\" operations on strings. We can use this to define general rules to find or process strings in a certain way. For example, we can use regular expressions to find all email addresses in a document, or to find all dates in a document - simply by defining what we are looking for using regex notation. \n",
    "\n",
    "![Regular Expressions](../../images/regex.png \"Regular Expressions\")\n",
    "![Regular Expressions](../images/regex.png \"Regular Expressions\")\n",
    "\n",
    "### Regex in Python\n",
    "\n",
    "Python has a built-in package called `re`, which can be used to work with Regular Expressions. The `re` package provides multiple methods to perform queries on an input string. Here are the most commonly used methods:\n",
    "<ul>\n",
    "<li> <b>re.match()</b> - checks for a match only at the beginning of the string.</li>\n",
    "<li> <b>re.search()</b> - checks for a match anywhere in the string. </li>\n",
    "<li> <b>re.findall()</b> - returns a list of all the matches in a single step. </li>\n",
    "<li> <b>re.split()</b> - returns a list of strings split by the given pattern. </li>\n",
    "<li> <b>re.finditer()</b> - returns an iterator of all the match objects. </li>\n",
    "</ul>\n",
    "\n",
    "### Regular Expression Advantages\n",
    "\n",
    "Using regular expressions in Python has several advantages:\n",
    "<ul>\n",
    "<li> Regular expressions are standardized across languages and tools. Once you learn the syntax, you can use it with other languages and tools.</li>\n",
    "<li> Regular expressions are very powerful and can be used to perform complex matching operations on strings. </li>\n",
    "<li> Regular expressions are often faster than other string processing methods in Python. These functions tend to be optimized and are often implemented in a faster language like C behind the scenes. </li>\n",
    "<li> Regular expressions have a provable outcome - we can mathmatically prove exactly what a regular expression will return, which is hard to do with common code. In most cases, this isn't a big deal, but in some scenarios it is critical. For example, mission critical code that runs things like nuclear reactors or space shuttles often needs to be provable. This means that if you're ever blessed with the misfortune of being in algorithm desing classes taught be some of the nerdiest nerds that ever nerded, you can do a mathmatical proof of the algorithms in the code to show that the output will always be correct, no matter what. Since regular expressions are a strictly defined language, they can be proven to always return the same output for a given input - if we created the same processing in our own code, doing a similar proof would likely be far more complex. </li>\n",
    "</ul>\n",
    "\n",
    "### Regular Expression Disadvantages\n",
    "\n",
    "There are also some disadvantages to using regular expressions:\n",
    "<ul>\n",
    "<li> Regular expressions can be difficult to understand. </li>\n",
    "<li> Regular expressions can be difficult to debug. </li>\n",
    "<li> Regular expressions can be difficult to maintain. </li>\n",
    "</ul>\n",
    "\n",
    "In short, if we are looking for patterns in text data, which is not an uncommon thing to do in data science, regular expressions are a very useful tool to use. This is likely to become more and more true in the future as text processing for large language models becomes more prevalent. "
   ]
  },
  {
   "cell_type": "markdown",
   "metadata": {},
   "source": [
    "### Regex Syntax\n",
    "\n",
    "Regular expressions use a special syntax that is both fairly simple for basic things, and incredibly cryptic for some complex things. Regular expressions can be used like regular search terms, if we want to look for words or phrases, but they can also be used to define complex patterns in text. We can define patterns of what the \"shape\" or \"structure\" of the text we want to match, then rely on the regex tools to find those matches. \n",
    "\n",
    "### Regex Examples\n",
    "\n",
    "Let's look at some examples of how we can use regex to find and process strings in Python. We can start with simple things - just matching strings. \n",
    "\n",
    "#### Example 1: Finding a string in a string\n",
    "\n",
    "Let's say we have a string, and we want to find a certain word in that string. We can use the `re.search()` method to do this. Let's look at an example:\n",
    "\n",
    "The `re.search()` method returns a match object if the word is found in the string. If the word is not found, it returns `None`. In this case, the word is found, so the match object is returned. The match object contains information about the match, including the start and end position of the match. We can use this information to extract the word from the string. Once the match is found, we can use the `group()` method or the indices of the match to return the matched word."
   ]
  },
  {
   "cell_type": "code",
   "execution_count": 2,
   "metadata": {},
   "outputs": [
    {
     "name": "stdout",
     "output_type": "stream",
     "text": [
      "This is a string that contains the word 'string'.\n",
      "<re.Match object; span=(10, 16), match='string'>\n",
      "string\n",
      "string\n"
     ]
    }
   ],
   "source": [
    "# Define the string we want to search\n",
    "my_string = \"This is a string that contains the word 'string'.\"\n",
    "print(my_string)\n",
    "\n",
    "# Define the word we want to find\n",
    "my_word = \"string\"\n",
    "\n",
    "# Search for the word in the string\n",
    "match = re.search(my_word, my_string)\n",
    "\n",
    "# Print the result\n",
    "print(match)\n",
    "\n",
    "# Extract the word from the string\n",
    "my_word = my_string[match.start():match.end()]\n",
    "print(my_word)\n",
    "print(match.group())"
   ]
  },
  {
   "cell_type": "markdown",
   "metadata": {},
   "source": [
    "#### Findall\n",
    "\n",
    "We can use `findall()` to get a list of all the matches.  "
   ]
  },
  {
   "cell_type": "code",
   "execution_count": 3,
   "metadata": {},
   "outputs": [
    {
     "name": "stdout",
     "output_type": "stream",
     "text": [
      "0 in\n",
      "1 in\n",
      "2 in\n"
     ]
    }
   ],
   "source": [
    "match2 = re.findall(\"in\", my_string)\n",
    "\n",
    "for i, match in enumerate(match2):\n",
    "    print(i, match)"
   ]
  },
  {
   "cell_type": "markdown",
   "metadata": {},
   "source": [
    "#### Finditer\n",
    "\n",
    "The `finditer()` method returns an iterator containing match objects for each match. We can use this to iterate over the matches, and do something with each match."
   ]
  },
  {
   "cell_type": "code",
   "execution_count": 4,
   "metadata": {},
   "outputs": [
    {
     "name": "stdout",
     "output_type": "stream",
     "text": [
      "0 <re.Match object; span=(13, 15), match='in'>\n",
      "in\n",
      "1 <re.Match object; span=(27, 29), match='in'>\n",
      "in\n",
      "2 <re.Match object; span=(44, 46), match='in'>\n",
      "in\n"
     ]
    }
   ],
   "source": [
    "match_iterator = re.finditer(\"in\", my_string)\n",
    "\n",
    "for i, match in enumerate(match_iterator):\n",
    "    print(i, match)\n",
    "    print(match.group())"
   ]
  },
  {
   "cell_type": "markdown",
   "metadata": {},
   "source": [
    "#### Split\n",
    "\n",
    "We can also split strings using regular expressions. Let's say we have a string that contains a list of names, separated by commas. We can use the `re.split()` method to split the string into a list, using a regular expression to define the separator. In this case, the separator is a comma followed by a space. Here we can define the separator as whatever we need it to be.\n",
    "\n",
    "Here the string \"s \" takes the place of the normal \", \". "
   ]
  },
  {
   "cell_type": "code",
   "execution_count": 5,
   "metadata": {},
   "outputs": [
    {
     "name": "stdout",
     "output_type": "stream",
     "text": [
      "['Thi', 'i', 'a string that contain', \"the word 'string'.\"]\n"
     ]
    }
   ],
   "source": [
    "\n",
    "my_split_string = re.split(\"s \", my_string)\n",
    "print(my_split_string)"
   ]
  },
  {
   "cell_type": "markdown",
   "metadata": {},
   "source": [
    "### Patterns in Regex\n",
    "\n",
    "Regular expressions are used to find patterns in strings. Let's look at some examples of how we can use regex to find patterns in strings. There are many, many different patterns, and combinations of patterns that we can use to find almost anything we can imagine in text. We'll focus on a few of the common and useful tools, and rely on some documentation if we need to construct anything really complex. The following table lists the most commonly used pattern syntax:\n",
    "\n",
    "<table>\n",
    "<tr>\n",
    "<th>Symbol</th>\n",
    "<th>What does it do?</th>\n",
    "</tr>\n",
    "<tr>\n",
    "<td>^</td>\n",
    "<td>Matches the beginning of a line</td>\n",
    "</tr>\n",
    "<tr>\n",
    "<td>$</td>\n",
    "<td>Matches the end of the line</td>\n",
    "</tr>\n",
    "<tr>\n",
    "<td>.</td>\n",
    "<td>Matches any character</td>\n",
    "</tr>\n",
    "<tr>\n",
    "<td>\\s</td>\n",
    "<td>Matches whitespace</td>\n",
    "</tr>\n",
    "<tr>\n",
    "<td>\\S</td>\n",
    "<td>Matches any non-whitespace character</td>\n",
    "</tr>\n",
    "<tr>\n",
    "<td>*</td>\n",
    "<td>Repeats a character zero or more times</td>\n",
    "</tr>\n",
    "<tr>\n",
    "<td>*?</td>\n",
    "<td>Repeats a character zero or more times (non-greedy)</td>\n",
    "</tr>\n",
    "<tr>\n",
    "<td>+</td>\n",
    "<td>Repeats a character one or more times</td>\n",
    "</tr>\n",
    "<tr>\n",
    "<td>+?</td>\n",
    "<td>Repeats a character one or more times (non-greedy)</td>\n",
    "</tr>\n",
    "<tr>\n",
    "<td>[aeiou]</td>\n",
    "<td>Matches a single character in the listed set</td>\n",
    "</tr>\n",
    "<tr>\n",
    "<td>[^XYZ]</td>\n",
    "<td>Matches a single character not in the listed set</td>\n",
    "</tr>\n",
    "<tr>\n",
    "<td>[a-z0-9]</td>\n",
    "<td>The set of characters can include a range</td>\n",
    "</tr>\n",
    "<tr>\n",
    "<td>(</td>\n",
    "<td>Indicates where string extraction is to start</td>\n",
    "</tr>\n",
    "<tr>\n",
    "<td>)</td>\n",
    "<td>Indicates where string extraction is to end</td>\n",
    "</tr>\n",
    "</table>\n",
    "\n",
    "There's a more complete list of regex syntax here: https://docs.python.org/3/library/re.html#regular-expression-syntax \n",
    "\n",
    "#### Raw Strings\n",
    "\n",
    "We can define a pattern using a specially designated string, then insert that string into the regular expression functions to find matches. The string we use to define the pattern is called a \"raw string\", which allows backslashes without escape characters. We can define a raw string by putting a `r` in front of the string:\n",
    "<ul>\n",
    "<li> r\"[pattern_stuff_here]\" </li>\n",
    "</ul>\n",
    "\n",
    "In the string we define what we are looking for, it can be an actual string as we did above, or it can use regular expression patterns to look for more complex things. \n",
    "\n",
    "#### Square Brackets\n",
    "\n",
    "In regex, square brackets are used to define a set of characters to match. For example, the pattern `[abc]` will match any of the characters `a`, `b`, or `c`. We can use this to \"group\" any subset of characters that we want. We can also specify ranges of characters using a dash. For example, the pattern `[a-z]` will match any lowercase letter from `a` to `z`. We can also use multiple ranges, for example `[a-zA-Z]` will match any lowercase or uppercase letter.\n",
    "\n",
    "#### Word Boundaries\n",
    "\n",
    "We can use the `\\b` character to match word boundaries. For example, the pattern `\\bcat\\b` will match the word `cat`, but not the words `caterpillar` or `bobcat`.\n",
    "\n",
    "#### Quantifiers\n",
    "\n",
    "Quantifiers are used to specify how many times a character or group of characters can be repeated. For example, the pattern `a{3}` will match the character `a` exactly three times. We can also specify a range of repetitions, for example `a{1,3}` will match the character `a` one, two, or three times. We can also use the `*` character to match zero or more repetitions, and the `+` character to match one or more repetitions. For example, the pattern `a*` will match zero or more repetitions of the character `a`, and the pattern `a+` will match one or more repetitions of the character `a`.\n",
    "\n",
    "#### \"Or\" Operator\n",
    "\n",
    "We can use the `|` character to specify an \"or\" operator. For example, the pattern `a|b` will match either the character `a` or the character `b`. We can also use this to match a set of characters, for example `a|bc|def` will match either the character `a`, the string `bc`, or the string `def`. \n",
    "\n",
    "A useful shortcut when looking for something that is in a list of items is to use join and a list of keywords to create a simple search string. In the example below, we could use this to look for something that contains any of the words in the list. The pipe-join command can be inserted rather than constructing an actual search string - it will generate the proper string from the list we give it on the fly. For any vaguely realistic number of search terms this is fine, if we were looking to see if the text contained one of a massive number of terms, we'd likely want to calculate the search string in advance and store it in a variable. \n",
    "\n",
    "#### Grouping\n",
    "\n",
    "We can use parentheses to group characters together. For example, the pattern `(a|b|c)xz` will match either `axz`, `bxz`, or `cxz`. We can also use this to group a set of characters that we want to repeat. For example, the pattern `(abc){2}` will match the string `abcabc`. \n",
    "\n",
    "#### Group()\n",
    "\n",
    "The group() function returns the string matched by the re. We can use this to extract the matched string from the input string."
   ]
  },
  {
   "cell_type": "code",
   "execution_count": 6,
   "metadata": {},
   "outputs": [
    {
     "name": "stdout",
     "output_type": "stream",
     "text": [
      "apple|banana|cherry|orange|pineapple|strawberry|watermelon\n"
     ]
    }
   ],
   "source": [
    "list_of_words = ['apple', 'banana', 'cherry', 'orange', 'pineapple', 'strawberry', 'watermelon']\n",
    "search_string_or_join = '|'.join(list_of_words)\n",
    "print(search_string_or_join)"
   ]
  },
  {
   "cell_type": "code",
   "execution_count": 7,
   "metadata": {},
   "outputs": [
    {
     "name": "stdout",
     "output_type": "stream",
     "text": [
      "['e ', 'ic', 'ow', 'ox', 'um', 'ov', 'er', 'e ', 'az', 'og']\n"
     ]
    }
   ],
   "source": [
    "string_to_search = \"The quick brown fox jumps over the lazy dog.\"\n",
    "regex_pattern_vowel_then_consonant = r\"[aeiou][^aeiou]\"\n",
    "regex_pattern_vowel_then_consonant_match = re.findall(regex_pattern_vowel_then_consonant, string_to_search)\n",
    "print(regex_pattern_vowel_then_consonant_match)"
   ]
  },
  {
   "cell_type": "code",
   "execution_count": 8,
   "metadata": {},
   "outputs": [
    {
     "name": "stdout",
     "output_type": "stream",
     "text": [
      "['ro', 'fo', ' o', 'do']\n"
     ]
    }
   ],
   "source": [
    "anything_then_an_o = r\".o\"\n",
    "anything_then_an_o_match = re.findall(anything_then_an_o, string_to_search)\n",
    "print(anything_then_an_o_match)"
   ]
  },
  {
   "cell_type": "markdown",
   "metadata": {},
   "source": [
    "## Exercises\n",
    "\n",
    "There are a couple of exercises below to try. As well, this page has a lot of challenge questions along with highly detailed solutions: https://www.w3resource.com/python-exercises/re/ \n",
    "\n",
    "This look at regular expressions is fairly quick and pretty high level. As a guideline, if you are reasonably comfortable with the idea of a regular expression and how it functions, and are able to use the `re` package for relatively simple things, that is probably good enough for most people. If you have this level of comfort you should be able to make or use more complex regular expressions, possibly with some helpers, if they are situationally required. If you don't use regex all that often, the level of dedication required to know it well for complex things is probably not worth the effort."
   ]
  },
  {
   "cell_type": "code",
   "execution_count": 9,
   "metadata": {},
   "outputs": [],
   "source": [
    "exercise_string = \"The quick brown fox jumps over the lazy dog. He's a very lazy dog. The fox is quick, really quick. Like the quickest fox ever!\""
   ]
  },
  {
   "cell_type": "code",
   "execution_count": 10,
   "metadata": {},
   "outputs": [
    {
     "name": "stdout",
     "output_type": "stream",
     "text": [
      "[]\n"
     ]
    }
   ],
   "source": [
    "# Exercise: Write a regex pattern that matches any word that starts with a vowel and ends with a consonant.\n",
    "# Hint: Use the ^ and $ anchors.\n"
   ]
  },
  {
   "cell_type": "code",
   "execution_count": 11,
   "metadata": {},
   "outputs": [
    {
     "name": "stdout",
     "output_type": "stream",
     "text": [
      "['quick,']\n"
     ]
    }
   ],
   "source": [
    "# Exercise: Write a regex pattern that matches any word that terminates with a comma\n"
   ]
  },
  {
   "cell_type": "code",
   "execution_count": 12,
   "metadata": {},
   "outputs": [
    {
     "name": "stdout",
     "output_type": "stream",
     "text": [
      "['ui', 'ui', 'ea', 'ui', 'ui']\n"
     ]
    }
   ],
   "source": [
    "# Exercise: write a regex pattern that finds any occurances of two vowels in a row.\n",
    "\n"
   ]
  },
  {
   "cell_type": "markdown",
   "metadata": {},
   "source": [
    "## Regex Helpers\n",
    "\n",
    "Regular expression syntax is pretty easy for relatively simple things, but it can get complex and hard to read for more complex things. There are several things that we can do and tools that we can use to make things easier, particularly when new to regular expressions. The matching patterns are something that is easy to make a mistake on, and for most people it doesn't make a lot of sense to memorize all the patterns and stay sharp on them. \n",
    "\n",
    "### Regex Cheat Sheet\n",
    "\n",
    "There are several cheat sheets available online that can be used to help with regular expressions. Here are a few of them:\n",
    "\n",
    "<ul>\n",
    "<li> https://www.debuggex.com/cheatsheet/regex/python </li>\n",
    "<li> https://www.dataquest.io/blog/regex-cheatsheet/ </li>\n",
    "<li> https://www.rexegg.com/regex-quickstart.html </li>\n",
    "</ul>\n",
    "\n",
    "### Regex Testing Tools\n",
    "\n",
    "There are several online tools that can be used to test regular expressions. These tools allow you to enter a regular expression and a string, and then they will show you what the regular expression matches in the string. Here are a few of them:\n",
    "\n",
    "<ul>\n",
    "<li> https://regex101.com/ </li>\n",
    "<li> https://www.regextester.com/ </li>\n",
    "<li> https://www.freeformatter.com/regex-tester.html </li>\n",
    "</ul>\n",
    "\n",
    "There are many, many more sites online that do similar things and provide an assortment of assistance with writing regular expressions. Since the language of regular expression is fixed, these all provide similar functionality, so it's really just a matter of finding one that you like and sticking with it.\n",
    "\n",
    "### Stacking Regex\n",
    "\n",
    "If we have a pattern that we need to match that is very complicated, we can split it into multiple patterns and then stack them together. For example, if you wanted to search for anything that contained the word \"criminal\" or anything that had \"Officer\" followed by a name (Uppercase, then one or more lowercase letters), you can combine the results that match each individual pattern to get the same end result. This would be a little slower and less elegant, but it isn't that different, and it is certainly better than using a complex regex pattern that you don't understand and can't debug.\n",
    "\n",
    "### Avoiding Regex\n",
    "\n",
    "There aren't any scenarios where we explicitly need to use regular expressions in Python, we can always use normal string processing tools in our own loops and functions to do the same thing. So if you can't get the regex to work, it's always better to make it work than to have it be elegant - if your code is well-designed and modular, you can always swap out your initial version for a more elegant version later."
   ]
  },
  {
   "cell_type": "markdown",
   "metadata": {},
   "source": [
    "### Regex in Pandas\n",
    "\n",
    "Pandas has a few functions that can be used to apply regular expressions to dataframes directly. We can also use the `re` functions as we would on any other strings, but if we are already in a dataframe these are likely more convenient. These functions are:\n",
    "<ul>\n",
    "<li> `str.contains()` - returns a boolean indicating if the pattern is found in the string. </li>\n",
    "<li> `str.extract()` - returns the first match of the pattern in the string. </li>\n",
    "<li> `str.extractall()` - returns all matches of the pattern in the string. </li>\n",
    "</ul>\n",
    "\n",
    "When using datasets these regex functions can be used to process patterns in text data easily. For example, we can use them to extract dates, phone numbers, email addresses, or any other pattern that we can define using regular expressions. We could use this data to extract certain values that we want to use, or to do things like filter out email addresses that are not valid. "
   ]
  },
  {
   "cell_type": "code",
   "execution_count": 13,
   "metadata": {},
   "outputs": [
    {
     "name": "stdout",
     "output_type": "stream",
     "text": [
      "         name         address\n",
      "0  John Smith    123 Main St.\n",
      "1    Jane Doe  456 Maple Ave.\n",
      "2   Joe Schmo    789 Broadway\n",
      "0    False\n",
      "1     True\n",
      "2    False\n",
      "Name: name, dtype: bool\n",
      "      0\n",
      "0  John\n",
      "1  Jane\n",
      "2   Joe\n",
      "      0      1\n",
      "0  John  Smith\n",
      "1  Jane    Doe\n",
      "2   Joe  Schmo\n",
      "         name         address\n",
      "0  John Smith    123 Main St.\n",
      "1    Jane Doe  456 Maple Ave.\n",
      "2   Joe Schmo    789 Broadway\n"
     ]
    },
    {
     "data": {
      "text/html": [
       "<div>\n",
       "<style scoped>\n",
       "    .dataframe tbody tr th:only-of-type {\n",
       "        vertical-align: middle;\n",
       "    }\n",
       "\n",
       "    .dataframe tbody tr th {\n",
       "        vertical-align: top;\n",
       "    }\n",
       "\n",
       "    .dataframe thead th {\n",
       "        text-align: right;\n",
       "    }\n",
       "</style>\n",
       "<table border=\"1\" class=\"dataframe\">\n",
       "  <thead>\n",
       "    <tr style=\"text-align: right;\">\n",
       "      <th></th>\n",
       "      <th>name</th>\n",
       "      <th>address</th>\n",
       "      <th>first_name</th>\n",
       "    </tr>\n",
       "  </thead>\n",
       "  <tbody>\n",
       "    <tr>\n",
       "      <th>0</th>\n",
       "      <td>John Smith</td>\n",
       "      <td>123 Main St.</td>\n",
       "      <td>John Smith</td>\n",
       "    </tr>\n",
       "    <tr>\n",
       "      <th>1</th>\n",
       "      <td>Jane Doe</td>\n",
       "      <td>456 Maple Ave.</td>\n",
       "      <td>Jane Doe</td>\n",
       "    </tr>\n",
       "    <tr>\n",
       "      <th>2</th>\n",
       "      <td>Joe Schmo</td>\n",
       "      <td>789 Broadway</td>\n",
       "      <td>Joe Schmo</td>\n",
       "    </tr>\n",
       "  </tbody>\n",
       "</table>\n",
       "</div>"
      ],
      "text/plain": [
       "         name         address  first_name\n",
       "0  John Smith    123 Main St.  John Smith\n",
       "1    Jane Doe  456 Maple Ave.    Jane Doe\n",
       "2   Joe Schmo    789 Broadway   Joe Schmo"
      ]
     },
     "execution_count": 13,
     "metadata": {},
     "output_type": "execute_result"
    }
   ],
   "source": [
    "import pandas as pd\n",
    "\n",
    "def regex_example_function(input_df):\n",
    "    return re.search( '([A-Za-z]+) ([A-Za-z]+)', input_df).group()\n",
    "\n",
    "# Create a dataframe\n",
    "df = pd.DataFrame({'name': ['John Smith', 'Jane Doe', 'Joe Schmo'],\n",
    "                   'address': ['123 Main St.', '456 Maple Ave.', '789 Broadway']})\n",
    "\n",
    "# Print the dataframe\n",
    "print(df)\n",
    "\n",
    "# Check if the name contains the letter \"a\"\n",
    "print(df['name'].str.contains('a'))\n",
    "\n",
    "# Extract the first name\n",
    "print(df['name'].str.extract('([A-Za-z]+)'))\n",
    "\n",
    "# Extract the first name and last name\n",
    "print(df['name'].str.extract('([A-Za-z]+) ([A-Za-z]+)'))\n",
    "print(df.head())\n",
    "# Extract the first name and last name, and add them to the dataframe\n",
    "df[\"first_name\"] = df[\"name\"].apply(regex_example_function)\n",
    "df.head()"
   ]
  },
  {
   "cell_type": "markdown",
   "metadata": {},
   "source": [
    "## Example - Loading Text Data\n",
    "\n",
    "Dealing with large amounts of free text is really where regular expressions shine. We can setup processing on data that we are loading, to do pretty much anything we need to do for preparing it. In data science this is common - we may want to extract certain values from a free text field, filter out certain values, or do any number of other things."
   ]
  },
  {
   "cell_type": "code",
   "execution_count": 14,
   "metadata": {},
   "outputs": [
    {
     "data": {
      "text/html": [
       "<div>\n",
       "<style scoped>\n",
       "    .dataframe tbody tr th:only-of-type {\n",
       "        vertical-align: middle;\n",
       "    }\n",
       "\n",
       "    .dataframe tbody tr th {\n",
       "        vertical-align: top;\n",
       "    }\n",
       "\n",
       "    .dataframe thead th {\n",
       "        text-align: right;\n",
       "    }\n",
       "</style>\n",
       "<table border=\"1\" class=\"dataframe\">\n",
       "  <thead>\n",
       "    <tr style=\"text-align: right;\">\n",
       "      <th></th>\n",
       "      <th>v1</th>\n",
       "      <th>v2</th>\n",
       "    </tr>\n",
       "  </thead>\n",
       "  <tbody>\n",
       "    <tr>\n",
       "      <th>0</th>\n",
       "      <td>ham</td>\n",
       "      <td>Go until jurong point, crazy.. Available only ...</td>\n",
       "    </tr>\n",
       "    <tr>\n",
       "      <th>1</th>\n",
       "      <td>ham</td>\n",
       "      <td>Ok lar... Joking wif u oni...</td>\n",
       "    </tr>\n",
       "    <tr>\n",
       "      <th>2</th>\n",
       "      <td>spam</td>\n",
       "      <td>Free entry in 2 a wkly comp to win FA Cup fina...</td>\n",
       "    </tr>\n",
       "    <tr>\n",
       "      <th>3</th>\n",
       "      <td>ham</td>\n",
       "      <td>U dun say so early hor... U c already then say...</td>\n",
       "    </tr>\n",
       "    <tr>\n",
       "      <th>4</th>\n",
       "      <td>ham</td>\n",
       "      <td>Nah I don't think he goes to usf, he lives aro...</td>\n",
       "    </tr>\n",
       "  </tbody>\n",
       "</table>\n",
       "</div>"
      ],
      "text/plain": [
       "     v1                                                 v2\n",
       "0   ham  Go until jurong point, crazy.. Available only ...\n",
       "1   ham                      Ok lar... Joking wif u oni...\n",
       "2  spam  Free entry in 2 a wkly comp to win FA Cup fina...\n",
       "3   ham  U dun say so early hor... U c already then say...\n",
       "4   ham  Nah I don't think he goes to usf, he lives aro..."
      ]
     },
     "execution_count": 14,
     "metadata": {},
     "output_type": "execute_result"
    }
   ],
   "source": [
    "df = pd.read_csv(\"../data/spam.csv\", encoding='latin-1')\n",
    "df = df[['v1', 'v2']]\n",
    "df.head()"
   ]
  },
  {
   "cell_type": "markdown",
   "metadata": {},
   "source": [
    "#### Search for a Term\n",
    "\n",
    "Search for a specific term. This would be useful for things like finding data in a log file - we can search for the status code or error message that we want, and grab only the entries that contain that."
   ]
  },
  {
   "cell_type": "code",
   "execution_count": 15,
   "metadata": {},
   "outputs": [
    {
     "data": {
      "text/html": [
       "<div>\n",
       "<style scoped>\n",
       "    .dataframe tbody tr th:only-of-type {\n",
       "        vertical-align: middle;\n",
       "    }\n",
       "\n",
       "    .dataframe tbody tr th {\n",
       "        vertical-align: top;\n",
       "    }\n",
       "\n",
       "    .dataframe thead th {\n",
       "        text-align: right;\n",
       "    }\n",
       "</style>\n",
       "<table border=\"1\" class=\"dataframe\">\n",
       "  <thead>\n",
       "    <tr style=\"text-align: right;\">\n",
       "      <th></th>\n",
       "      <th>v1</th>\n",
       "      <th>v2</th>\n",
       "      <th>free</th>\n",
       "    </tr>\n",
       "  </thead>\n",
       "  <tbody>\n",
       "    <tr>\n",
       "      <th>887</th>\n",
       "      <td>ham</td>\n",
       "      <td>Y dun cut too short leh. U dun like ah? She fa...</td>\n",
       "      <td>True</td>\n",
       "    </tr>\n",
       "    <tr>\n",
       "      <th>2178</th>\n",
       "      <td>ham</td>\n",
       "      <td>I don,t think so. You don't need to be going o...</td>\n",
       "      <td>True</td>\n",
       "    </tr>\n",
       "    <tr>\n",
       "      <th>5102</th>\n",
       "      <td>spam</td>\n",
       "      <td>This msg is for your mobile content order It h...</td>\n",
       "      <td>True</td>\n",
       "    </tr>\n",
       "    <tr>\n",
       "      <th>5152</th>\n",
       "      <td>ham</td>\n",
       "      <td>Idk. I'm sitting here in a stop and shop parki...</td>\n",
       "      <td>True</td>\n",
       "    </tr>\n",
       "  </tbody>\n",
       "</table>\n",
       "</div>"
      ],
      "text/plain": [
       "        v1                                                 v2  free\n",
       "887    ham  Y dun cut too short leh. U dun like ah? She fa...  True\n",
       "2178   ham  I don,t think so. You don't need to be going o...  True\n",
       "5102  spam  This msg is for your mobile content order It h...  True\n",
       "5152   ham  Idk. I'm sitting here in a stop and shop parki...  True"
      ]
     },
     "execution_count": 15,
     "metadata": {},
     "output_type": "execute_result"
    }
   ],
   "source": [
    "search_strring_1 = \"fail\"\n",
    "\n",
    "# Create a new column called \"free\" that contains True if the message contains the word \"free\" and False otherwise\n",
    "df['free'] = df['v2'].str.contains(search_strring_1)\n",
    "df[df[\"free\"] == True].head()\n"
   ]
  },
  {
   "cell_type": "markdown",
   "metadata": {},
   "source": [
    "#### Search for Patterns\n",
    "\n",
    "Search for email addresses in the text. \n",
    "\n",
    "This is useful for extracting specific data from free text fields. Think about the \"to\" field in Outlook, you can type in any email addresses as text, it'll isolate and identify them automatically. We can do the same thing with regular expressions.\n",
    "\n",
    "<b>Note:</b> the apply bit below is to get the data out of a list, as we can get multiple results back from the findall() function call. "
   ]
  },
  {
   "cell_type": "code",
   "execution_count": 16,
   "metadata": {},
   "outputs": [
    {
     "data": {
      "text/html": [
       "<div>\n",
       "<style scoped>\n",
       "    .dataframe tbody tr th:only-of-type {\n",
       "        vertical-align: middle;\n",
       "    }\n",
       "\n",
       "    .dataframe tbody tr th {\n",
       "        vertical-align: top;\n",
       "    }\n",
       "\n",
       "    .dataframe thead th {\n",
       "        text-align: right;\n",
       "    }\n",
       "</style>\n",
       "<table border=\"1\" class=\"dataframe\">\n",
       "  <thead>\n",
       "    <tr style=\"text-align: right;\">\n",
       "      <th></th>\n",
       "      <th>v1</th>\n",
       "      <th>v2</th>\n",
       "      <th>free</th>\n",
       "      <th>contains_email</th>\n",
       "      <th>email</th>\n",
       "    </tr>\n",
       "  </thead>\n",
       "  <tbody>\n",
       "    <tr>\n",
       "      <th>135</th>\n",
       "      <td>ham</td>\n",
       "      <td>I only haf msn. It's yijue@hotmail.com</td>\n",
       "      <td>False</td>\n",
       "      <td>True</td>\n",
       "      <td>yijue@hotmail.com</td>\n",
       "    </tr>\n",
       "    <tr>\n",
       "      <th>1612</th>\n",
       "      <td>spam</td>\n",
       "      <td>RT-KIng Pro Video Club&gt;&gt; Need help? info@ringt...</td>\n",
       "      <td>False</td>\n",
       "      <td>True</td>\n",
       "      <td>info@ringtoneking.co.uk</td>\n",
       "    </tr>\n",
       "    <tr>\n",
       "      <th>2312</th>\n",
       "      <td>spam</td>\n",
       "      <td>tddnewsletter@emc1.co.uk (More games from TheD...</td>\n",
       "      <td>False</td>\n",
       "      <td>True</td>\n",
       "      <td>tddnewsletter@emc1.co.uk</td>\n",
       "    </tr>\n",
       "    <tr>\n",
       "      <th>2547</th>\n",
       "      <td>spam</td>\n",
       "      <td>Text82228&gt;&gt; Get more ringtones, logos and game...</td>\n",
       "      <td>False</td>\n",
       "      <td>True</td>\n",
       "      <td>info@txt82228.co.uk</td>\n",
       "    </tr>\n",
       "    <tr>\n",
       "      <th>3499</th>\n",
       "      <td>spam</td>\n",
       "      <td>Dorothy@kiefer.com (Bank of Granite issues Str...</td>\n",
       "      <td>False</td>\n",
       "      <td>True</td>\n",
       "      <td>Dorothy@kiefer.com</td>\n",
       "    </tr>\n",
       "  </tbody>\n",
       "</table>\n",
       "</div>"
      ],
      "text/plain": [
       "        v1                                                 v2   free  \\\n",
       "135    ham             I only haf msn. It's yijue@hotmail.com  False   \n",
       "1612  spam  RT-KIng Pro Video Club>> Need help? info@ringt...  False   \n",
       "2312  spam  tddnewsletter@emc1.co.uk (More games from TheD...  False   \n",
       "2547  spam  Text82228>> Get more ringtones, logos and game...  False   \n",
       "3499  spam  Dorothy@kiefer.com (Bank of Granite issues Str...  False   \n",
       "\n",
       "      contains_email                     email  \n",
       "135             True         yijue@hotmail.com  \n",
       "1612            True   info@ringtoneking.co.uk  \n",
       "2312            True  tddnewsletter@emc1.co.uk  \n",
       "2547            True       info@txt82228.co.uk  \n",
       "3499            True        Dorothy@kiefer.com  "
      ]
     },
     "execution_count": 16,
     "metadata": {},
     "output_type": "execute_result"
    }
   ],
   "source": [
    "email_address_filter = r\"[a-zA-Z0-9_.+-]+@[a-zA-Z0-9-]+\\.[a-zA-Z0-9-.]+\"\n",
    "\n",
    "# Create a new column called \"email\" that contains the email addresses found in each message\n",
    "df[\"contains_email\"] = df['v2'].str.contains(email_address_filter)\n",
    "df['email'] = df['v2'].str.findall(email_address_filter)\n",
    "df[\"email\"] = df[\"email\"].apply(lambda x: x[0] if len(x) > 0 else None)\n",
    "\n",
    "df[df[\"contains_email\"] == True].head()"
   ]
  },
  {
   "cell_type": "markdown",
   "metadata": {},
   "source": [
    "#### Search for a List of Terms\n",
    "\n",
    "Find anything in a list of values. This is useful for finding things like names - if we are lawyers that have many documents to process and we want to see if any mention any of our clients or their products. "
   ]
  },
  {
   "cell_type": "code",
   "execution_count": 17,
   "metadata": {},
   "outputs": [
    {
     "data": {
      "text/html": [
       "<div>\n",
       "<style scoped>\n",
       "    .dataframe tbody tr th:only-of-type {\n",
       "        vertical-align: middle;\n",
       "    }\n",
       "\n",
       "    .dataframe tbody tr th {\n",
       "        vertical-align: top;\n",
       "    }\n",
       "\n",
       "    .dataframe thead th {\n",
       "        text-align: right;\n",
       "    }\n",
       "</style>\n",
       "<table border=\"1\" class=\"dataframe\">\n",
       "  <thead>\n",
       "    <tr style=\"text-align: right;\">\n",
       "      <th></th>\n",
       "      <th>v1</th>\n",
       "      <th>v2</th>\n",
       "      <th>free</th>\n",
       "      <th>contains_email</th>\n",
       "      <th>email</th>\n",
       "      <th>contains_keyword</th>\n",
       "    </tr>\n",
       "  </thead>\n",
       "  <tbody>\n",
       "    <tr>\n",
       "      <th>15</th>\n",
       "      <td>spam</td>\n",
       "      <td>XXXMobileMovieClub: To use your credit, click ...</td>\n",
       "      <td>False</td>\n",
       "      <td>False</td>\n",
       "      <td>None</td>\n",
       "      <td>True</td>\n",
       "    </tr>\n",
       "    <tr>\n",
       "      <th>70</th>\n",
       "      <td>ham</td>\n",
       "      <td>Wah lucky man... Then can save money... Hee...</td>\n",
       "      <td>False</td>\n",
       "      <td>False</td>\n",
       "      <td>None</td>\n",
       "      <td>True</td>\n",
       "    </tr>\n",
       "    <tr>\n",
       "      <th>87</th>\n",
       "      <td>ham</td>\n",
       "      <td>Yes I started to send requests to make it but ...</td>\n",
       "      <td>False</td>\n",
       "      <td>False</td>\n",
       "      <td>None</td>\n",
       "      <td>True</td>\n",
       "    </tr>\n",
       "    <tr>\n",
       "      <th>93</th>\n",
       "      <td>spam</td>\n",
       "      <td>Please call our customer service representativ...</td>\n",
       "      <td>False</td>\n",
       "      <td>False</td>\n",
       "      <td>None</td>\n",
       "      <td>True</td>\n",
       "    </tr>\n",
       "    <tr>\n",
       "      <th>106</th>\n",
       "      <td>ham</td>\n",
       "      <td>Aight, I'll hit you up when I get some cash</td>\n",
       "      <td>False</td>\n",
       "      <td>False</td>\n",
       "      <td>None</td>\n",
       "      <td>True</td>\n",
       "    </tr>\n",
       "  </tbody>\n",
       "</table>\n",
       "</div>"
      ],
      "text/plain": [
       "       v1                                                 v2   free  \\\n",
       "15   spam  XXXMobileMovieClub: To use your credit, click ...  False   \n",
       "70    ham     Wah lucky man... Then can save money... Hee...  False   \n",
       "87    ham  Yes I started to send requests to make it but ...  False   \n",
       "93   spam  Please call our customer service representativ...  False   \n",
       "106   ham        Aight, I'll hit you up when I get some cash  False   \n",
       "\n",
       "     contains_email email  contains_keyword  \n",
       "15            False  None              True  \n",
       "70            False  None              True  \n",
       "87            False  None              True  \n",
       "93            False  None              True  \n",
       "106           False  None              True  "
      ]
     },
     "execution_count": 17,
     "metadata": {},
     "output_type": "execute_result"
    }
   ],
   "source": [
    "keywords = [\"money\", \"cash\", \"debt\", \"credit\", \"payment\", \"paid\", \"dollars\"]\n",
    "\n",
    "# Create a new column called \"contains_keyword\" that contains True if any of the words in the list \"keywords\" is contained in the message and False otherwise\n",
    "df['contains_keyword'] = df['v2'].str.contains('|'.join(keywords))\n",
    "df[df[\"contains_keyword\"] == True].head()\n"
   ]
  },
  {
   "cell_type": "markdown",
   "metadata": {},
   "source": [
    "## Exercise"
   ]
  },
  {
   "cell_type": "code",
   "execution_count": 18,
   "metadata": {},
   "outputs": [
    {
     "data": {
      "text/plain": [
       "0    []\n",
       "1    []\n",
       "2    []\n",
       "3    []\n",
       "4    []\n",
       "Name: v2, dtype: object"
      ]
     },
     "execution_count": 18,
     "metadata": {},
     "output_type": "execute_result"
    }
   ],
   "source": [
    "# Find all the words that start with \"d\" and end with \"e\"\n"
   ]
  },
  {
   "cell_type": "code",
   "execution_count": 19,
   "metadata": {},
   "outputs": [
    {
     "data": {
      "text/plain": [
       "0    [until, jurong, point, crazy, Available, bugis...\n",
       "1                                             [Joking]\n",
       "2      [entry, final, receive, entry, question, apply]\n",
       "3                                     [early, already]\n",
       "4                       [think, lives, around, though]\n",
       "Name: v2, dtype: object"
      ]
     },
     "execution_count": 19,
     "metadata": {},
     "output_type": "execute_result"
    }
   ],
   "source": [
    "# Find all the words that are over 5 characters long\n"
   ]
  },
  {
   "cell_type": "code",
   "execution_count": 20,
   "metadata": {},
   "outputs": [
    {
     "data": {
      "text/plain": [
       "0           [Go, Available, Cine]\n",
       "1                    [Ok, Joking]\n",
       "2    [Free, Cup, May, Text, T, C]\n",
       "3                          [U, U]\n",
       "4                        [Nah, I]\n",
       "Name: v2, dtype: object"
      ]
     },
     "execution_count": 20,
     "metadata": {},
     "output_type": "execute_result"
    }
   ],
   "source": [
    "# Find all capitalized words\n"
   ]
  },
  {
   "cell_type": "code",
   "execution_count": 21,
   "metadata": {},
   "outputs": [
    {
     "data": {
      "text/plain": [
       "0    [point, crazy]\n",
       "1                []\n",
       "2                []\n",
       "3                []\n",
       "4         [usf, he]\n",
       "Name: v2, dtype: object"
      ]
     },
     "execution_count": 21,
     "metadata": {},
     "output_type": "execute_result"
    }
   ],
   "source": [
    "# Find all words that are on either side of a comma\n"
   ]
  }
 ],
 "metadata": {
  "kernelspec": {
   "display_name": "ml_2",
   "language": "python",
   "name": "python3"
  },
  "language_info": {
   "codemirror_mode": {
    "name": "ipython",
    "version": 3
   },
   "file_extension": ".py",
   "mimetype": "text/x-python",
   "name": "python",
   "nbconvert_exporter": "python",
   "pygments_lexer": "ipython3",
   "version": "3.10.9"
  },
  "orig_nbformat": 4
 },
 "nbformat": 4,
 "nbformat_minor": 2
}
