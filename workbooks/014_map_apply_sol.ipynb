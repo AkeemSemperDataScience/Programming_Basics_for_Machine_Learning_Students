{
 "cells": [
  {
   "cell_type": "code",
   "execution_count": 118,
   "metadata": {},
   "outputs": [],
   "source": [
    "import pandas as pd"
   ]
  },
  {
   "cell_type": "markdown",
   "metadata": {},
   "source": [
    "# Doing Things in Bulk\n",
    "\n",
    "We are, hopefully, pretty comfortable with the idea of looping through some data structure if we need to \"do something\" to every item in the structure. In addition to loops, there are other ways to accomplish this. These other ways are often more efficient, and they can also be more expressive - more readable and easier to understand. Again, efficiency is not a massive concern in most cases, but doing actions to datasets that may be millions of items long can be one of those cases. Expressiveness, on the other hand, is always a concern. The more readable and understandable our code is, the easier it is to maintain and the less likely it is to contain bugs. I personally have a lower opinion of the readability of these condensed shortcuts than most people, but that's really just an opinion. I also think that this is another good example of a scenario where we want to focus on what do to, then figure out how to implement it. If we know we want to take the square root of every item in a list, we can look up how to do that; if we write a loop and find it is inefficient or hard to debug, we can look for another solution then. One benefit of the type of programming that we do in data science is that we almost always test and observe our code in chunks as we write it, so if there's some chunk that is taking an inordinate amount of time we can then investigate as the need occurs - it is very unlikely that we will write things that take ages to run without noticing. \n",
    "\n",
    "## Contents\n",
    "\n",
    "This notebook has several parts and the functionality in each overlaps, but is largely independent. Hopefully this helps with keeping things straight:\n",
    "<ul>\n",
    "<li> List comprehension - create a list filled with values generated from some expression. </li>\n",
    "<li> "
   ]
  },
  {
   "cell_type": "markdown",
   "metadata": {},
   "source": [
    "## List Comprehensions\n",
    "\n",
    "List comprehensions are a way to create lists in Python, generally a bit faster than using a for loop. List comprehension is basically a combined loop, expression, and list constructor, that will perform some calculation/action and return the results in a list. List comprehension can sometimes be more readable than looping, but that is a matter of opinion. The syntax for a list comprehension is:\n",
    "\n",
    "[output for item in iterable if condition]\n",
    "\n",
    "<ul>\n",
    "<li> output is the expression you want to evaluate for every item in the iterable. </li>\n",
    "<li> item is the item in the iterable that you want to evaluate the expression for. </li>\n",
    "<li> iterable is the iterable you want to apply the expression to. </li>\n",
    "<li> condition is an optional condition that you can use to filter the output. </li>\n",
    "</ul>\n",
    "\n",
    "This results in the expression being executed, or applied, to every item that comes up within the for loop. Most commonly, this means that some expression is applied to every item in a list or other data structure. \n",
    "\n",
    "![List Comprehension](../../images/list_comprehension.png \"List Comprehension\")\n",
    "![List Comprehension](../images/list_comprehension.png \"List Comprehension\")\n",
    "\n",
    "We can use list comprehension to create a list of the square of every number in the previous list. "
   ]
  },
  {
   "cell_type": "code",
   "execution_count": 119,
   "metadata": {},
   "outputs": [
    {
     "data": {
      "text/plain": [
       "[1, 4, 9, 16, 25, 36, 49, 64, 81, 100]"
      ]
     },
     "execution_count": 119,
     "metadata": {},
     "output_type": "execute_result"
    }
   ],
   "source": [
    "# Create List \n",
    "list1 = [1,2,3,4,5,6,7,8,9,10]\n",
    "list2 = [x**2 for x in list1]\n",
    "list2"
   ]
  },
  {
   "cell_type": "markdown",
   "metadata": {},
   "source": [
    "A common use of list comprehension is to set a limit for the range, then take the results into the list. For example, if we want all numbers squared up to some limit. "
   ]
  },
  {
   "cell_type": "code",
   "execution_count": 120,
   "metadata": {},
   "outputs": [
    {
     "data": {
      "text/plain": [
       "[0,\n",
       " 1,\n",
       " 4,\n",
       " 9,\n",
       " 16,\n",
       " 25,\n",
       " 36,\n",
       " 49,\n",
       " 64,\n",
       " 81,\n",
       " 100,\n",
       " 121,\n",
       " 144,\n",
       " 169,\n",
       " 196,\n",
       " 225,\n",
       " 256,\n",
       " 289,\n",
       " 324,\n",
       " 361]"
      ]
     },
     "execution_count": 120,
     "metadata": {},
     "output_type": "execute_result"
    }
   ],
   "source": [
    "a = 20\n",
    "\n",
    "# Create List\n",
    "list3 = [x**2 for x in range(a)]\n",
    "list3"
   ]
  },
  {
   "cell_type": "markdown",
   "metadata": {},
   "source": [
    "We can also add a condition to the list comprehension, so that only items that meet the condition are added to the list. For example, let's square the even numbers. "
   ]
  },
  {
   "cell_type": "code",
   "execution_count": 121,
   "metadata": {},
   "outputs": [
    {
     "data": {
      "text/plain": [
       "[0, 4, 16, 36, 64, 100, 144, 196, 256, 324]"
      ]
     },
     "execution_count": 121,
     "metadata": {},
     "output_type": "execute_result"
    }
   ],
   "source": [
    "list4 = [x**2 for x in range(a) if x%2==0]\n",
    "list4"
   ]
  },
  {
   "cell_type": "markdown",
   "metadata": {},
   "source": [
    "## Exercise\n",
    "\n",
    "Use list comprehension to do the following:\n",
    "\n",
    "<ol>\n",
    "<li>Create a list of the square of every number from 1 to 100, but only if the number is divisible by 3.</li>\n",
    "<li>Create a list of the square of every number from 1 to 100, but only if the number is divisible by 3 and 5.</li>\n",
    "<li>Create a list of the capitalized letters in the string \"I'm sure I have at least 5 words left.\" Only place letters in the list, ignore numbers or punctuation. </li>\n",
    "</li>"
   ]
  },
  {
   "cell_type": "code",
   "execution_count": 122,
   "metadata": {},
   "outputs": [
    {
     "data": {
      "text/plain": [
       "[0,\n",
       " 9,\n",
       " 36,\n",
       " 81,\n",
       " 144,\n",
       " 225,\n",
       " 324,\n",
       " 441,\n",
       " 576,\n",
       " 729,\n",
       " 900,\n",
       " 1089,\n",
       " 1296,\n",
       " 1521,\n",
       " 1764,\n",
       " 2025,\n",
       " 2304,\n",
       " 2601,\n",
       " 2916,\n",
       " 3249,\n",
       " 3600,\n",
       " 3969,\n",
       " 4356,\n",
       " 4761,\n",
       " 5184,\n",
       " 5625,\n",
       " 6084,\n",
       " 6561,\n",
       " 7056,\n",
       " 7569,\n",
       " 8100,\n",
       " 8649,\n",
       " 9216,\n",
       " 9801]"
      ]
     },
     "execution_count": 122,
     "metadata": {},
     "output_type": "execute_result"
    }
   ],
   "source": [
    "limit = 100\n",
    "\n",
    "list_resp_1 = [x**2 for x in range(limit) if x%3==0]\n",
    "list_resp_1"
   ]
  },
  {
   "cell_type": "code",
   "execution_count": 123,
   "metadata": {},
   "outputs": [
    {
     "data": {
      "text/plain": [
       "[0, 225, 900, 2025, 3600, 5625, 8100]"
      ]
     },
     "execution_count": 123,
     "metadata": {},
     "output_type": "execute_result"
    }
   ],
   "source": [
    "list_resp_2 = [x**2 for x in range(limit) if (x%3==0 and x%5==0)]\n",
    "list_resp_2"
   ]
  },
  {
   "cell_type": "code",
   "execution_count": 124,
   "metadata": {},
   "outputs": [
    {
     "data": {
      "text/plain": [
       "['I',\n",
       " 'M',\n",
       " 'S',\n",
       " 'U',\n",
       " 'R',\n",
       " 'E',\n",
       " 'I',\n",
       " 'H',\n",
       " 'A',\n",
       " 'V',\n",
       " 'E',\n",
       " 'A',\n",
       " 'T',\n",
       " 'L',\n",
       " 'E',\n",
       " 'A',\n",
       " 'S',\n",
       " 'T',\n",
       " 'W',\n",
       " 'O',\n",
       " 'R',\n",
       " 'D',\n",
       " 'S',\n",
       " 'L',\n",
       " 'E',\n",
       " 'F',\n",
       " 'T']"
      ]
     },
     "execution_count": 124,
     "metadata": {},
     "output_type": "execute_result"
    }
   ],
   "source": [
    "capString = \"I'm sure I have at least 5 words left.\"\n",
    "\n",
    "list_resp_3 = [x.upper() for x in capString if x.isalpha()]\n",
    "list_resp_3"
   ]
  },
  {
   "cell_type": "markdown",
   "metadata": {},
   "source": [
    "### Functions as Objects\n",
    "\n",
    "In Python functions are first class objects. This means that they can be assigned to variables, put into lists, and passed around and used as arguments just like any other object (string, int, float, list, and so on). This allows us to do some things that can be more efficient, more readable, but also potentially more confusing.\n",
    "\n",
    "We'll use this property here to allow these bulk actions to work efficiently. For the following stuff we are generally passing in the function we want executed along with the data to execute it \"on\", rather than calling the function directly. This is a bit more abstract, and can be confusing at first, but it is a very powerful concept.\n",
    "\n",
    "![Map Inputs](../../images/map_inputs.png \"Map Inputs\")\n",
    "![Map Inputs](../images/map_inputs.png \"Map Inputs\")\n",
    "\n",
    "The mental leap comes from the fact that we don't really care about or refer to the individual items in the data structure at all, we just specify that we want \"this\" done to \"all of them\". This setup allows the computer to do a better job of optimizing the process and fully utilizing the hardware of the computer. We'll look into this a bit more when we examine vectorization, another similar concept. \n",
    "\n",
    "### Orders - High and Low\n",
    "\n",
    "Higher order functions are functions that take other functions as arguments. The `map` function that we'll look at in a moment is an example of a higher order function. It takes a function and a sequence and returns a new sequence with the function applied to each element in the sequence. In the example below, the \"applier\" function is a simple example - it takes in two numbers and a function, and \"applies\" that function to the two numbers. We could swap the function we are plugging in to something different, like multiplication here, and get different results - this isn't all that useful with basic math, but it can be helpful to make more modular code as things get complex. \n",
    "\n",
    "Our examples here rely on a simple concept that underlies the way Python is built, that everything is an object. "
   ]
  },
  {
   "cell_type": "code",
   "execution_count": 125,
   "metadata": {},
   "outputs": [],
   "source": [
    "def add(x, y):\n",
    "    return x + y\n",
    "def mult(x, y):\n",
    "    return x * y\n",
    "def applier(num1, num2, func):\n",
    "    return func(num1, num2)"
   ]
  },
  {
   "cell_type": "code",
   "execution_count": 126,
   "metadata": {},
   "outputs": [
    {
     "data": {
      "text/plain": [
       "5"
      ]
     },
     "execution_count": 126,
     "metadata": {},
     "output_type": "execute_result"
    }
   ],
   "source": [
    "applier(2, 3, add)"
   ]
  },
  {
   "cell_type": "markdown",
   "metadata": {},
   "source": [
    "Swap functions..."
   ]
  },
  {
   "cell_type": "code",
   "execution_count": 127,
   "metadata": {},
   "outputs": [
    {
     "data": {
      "text/plain": [
       "6"
      ]
     },
     "execution_count": 127,
     "metadata": {},
     "output_type": "execute_result"
    }
   ],
   "source": [
    "applier(2, 3, mult)"
   ]
  },
  {
   "cell_type": "markdown",
   "metadata": {},
   "source": [
    "#### Function Composition \n",
    "\n",
    "Now we can pass functions as arguments to other functions. This allows us to abstract away, or hide, the details of a particular operation. This can make our code more readable and more reusable... in theory.\n",
    "\n",
    "In this example, take a look at the details of the arguments. The outermost function is add, which takes in two arguments. The first argument is the function \"mult\", called with the two columns of the dataframe as arguments. The second argument is another call to \"add\", with the two columns of the dataframe as arguments again. So the end result of what we are doing is:\n",
    "\n",
    "<ul>\n",
    "<li> Argument 1 - Take the first column of the dataframe and multiply it by the second column of the dataframe. </li>\n",
    "<li> Argument 2 - Take the first column of the dataframe and add it to the second column of the dataframe. </li>\n",
    "<li> Take the results of Argument 1 and Argument 2 and add them together. </li>\n",
    "</ul>\n",
    "\n",
    "This could be stacked infinitely deep with function calls as arguments to function calls as arguments to function calls. This is a powerful technique, but it can also be confusing. So use it with caution. If you find yourself getting confused, it's probably better to break it up into smaller steps."
   ]
  },
  {
   "cell_type": "code",
   "execution_count": 128,
   "metadata": {},
   "outputs": [
    {
     "data": {
      "text/html": [
       "<div>\n",
       "<style scoped>\n",
       "    .dataframe tbody tr th:only-of-type {\n",
       "        vertical-align: middle;\n",
       "    }\n",
       "\n",
       "    .dataframe tbody tr th {\n",
       "        vertical-align: top;\n",
       "    }\n",
       "\n",
       "    .dataframe thead th {\n",
       "        text-align: right;\n",
       "    }\n",
       "</style>\n",
       "<table border=\"1\" class=\"dataframe\">\n",
       "  <thead>\n",
       "    <tr style=\"text-align: right;\">\n",
       "      <th></th>\n",
       "      <th>Num1</th>\n",
       "      <th>Num2</th>\n",
       "    </tr>\n",
       "  </thead>\n",
       "  <tbody>\n",
       "    <tr>\n",
       "      <th>0</th>\n",
       "      <td>1</td>\n",
       "      <td>3</td>\n",
       "    </tr>\n",
       "    <tr>\n",
       "      <th>1</th>\n",
       "      <td>2</td>\n",
       "      <td>4</td>\n",
       "    </tr>\n",
       "    <tr>\n",
       "      <th>2</th>\n",
       "      <td>5</td>\n",
       "      <td>6</td>\n",
       "    </tr>\n",
       "    <tr>\n",
       "      <th>3</th>\n",
       "      <td>7</td>\n",
       "      <td>8</td>\n",
       "    </tr>\n",
       "    <tr>\n",
       "      <th>4</th>\n",
       "      <td>8</td>\n",
       "      <td>1</td>\n",
       "    </tr>\n",
       "  </tbody>\n",
       "</table>\n",
       "</div>"
      ],
      "text/plain": [
       "   Num1  Num2\n",
       "0     1     3\n",
       "1     2     4\n",
       "2     5     6\n",
       "3     7     8\n",
       "4     8     1"
      ]
     },
     "execution_count": 128,
     "metadata": {},
     "output_type": "execute_result"
    }
   ],
   "source": [
    "\n",
    "number_cols = [\"Num 1\", \"Num 2\"]\n",
    "# Create DataFrame\n",
    "number_table = pd.DataFrame({\"Num1\":[1, 2, 5, 7, 8, 9, 23, 5], \"Num2\":[3, 4, 6, 8, 1, 3, 5, 45]})\n",
    "number_table.head()"
   ]
  },
  {
   "cell_type": "code",
   "execution_count": 129,
   "metadata": {},
   "outputs": [
    {
     "data": {
      "text/plain": [
       "0      7\n",
       "1     14\n",
       "2     41\n",
       "3     71\n",
       "4     17\n",
       "5     39\n",
       "6    143\n",
       "7    275\n",
       "dtype: int64"
      ]
     },
     "execution_count": 129,
     "metadata": {},
     "output_type": "execute_result"
    }
   ],
   "source": [
    "add( mult(number_table[\"Num1\"], number_table[\"Num2\"]), add(number_table[\"Num1\"], number_table[\"Num2\"]) )"
   ]
  },
  {
   "cell_type": "markdown",
   "metadata": {},
   "source": [
    "## Exercise\n",
    "\n",
    "Write a function that extends the applier function above. This function should take in two arguments, a list of numbers and a function, and it should apply the function to every item in the list. For example, inputs of [1,2,3] and \"add\" should return 6, and inputs of [1,2,3] and \"mult\" should return 6. Inputs of [20,2,2] and \"divide\" should return 5 - 20 divided by 2, divided by 2.\n",
    "\n",
    "<b>Note:</b> this one is a good candidate for recursion, but that's not required. "
   ]
  },
  {
   "cell_type": "code",
   "execution_count": 130,
   "metadata": {},
   "outputs": [],
   "source": [
    "def bigApplier(inputNums, func):\n",
    "    if len(inputNums) == 1:\n",
    "        return inputNums[0]\n",
    "    else:\n",
    "        return func(inputNums[0], bigApplier(inputNums[1:], func))"
   ]
  },
  {
   "cell_type": "code",
   "execution_count": 131,
   "metadata": {},
   "outputs": [
    {
     "data": {
      "text/plain": [
       "15"
      ]
     },
     "execution_count": 131,
     "metadata": {},
     "output_type": "execute_result"
    }
   ],
   "source": [
    "bigApplier([1, 2, 3, 4, 5], add)"
   ]
  },
  {
   "cell_type": "code",
   "execution_count": 150,
   "metadata": {},
   "outputs": [
    {
     "data": {
      "text/plain": [
       "120"
      ]
     },
     "execution_count": 150,
     "metadata": {},
     "output_type": "execute_result"
    }
   ],
   "source": [
    "bigApplier([1, 2, 3, 4, 5], mult)"
   ]
  },
  {
   "cell_type": "markdown",
   "metadata": {},
   "source": [
    "### Lambda Functions\n",
    "\n",
    "Another common tool, one especially useful for simple actions that we want to apply to a large number of items, is the lambda function. Lambda functions are single line functions that are anonymous, meaning they are not bound to a name. Lambda functions can accept arguments, but they can only contain one expression. Unlike functions created with the def keyword, lambda functions return an expression, not a value. They are useful for creating quick functions that aren't needed later in your code, for data science, this may often come up for things like preparing data that is largely unstructured - we may have several specific steps that we need to do once on some column of data, like splitting full names into first, last, and middle(s). \n",
    "\n",
    "![Lambda Functions](../../images/lambda.png \"Lambda Functions\")\n",
    "![Lambda Functions](../images/lambda.png \"Lambda Functions\")\n",
    "\n",
    "#### Defining Lambda Functions\n",
    "\n",
    "Lambda functions can be created with a simple statement starting with the keyword lambda. The general syntax of a lambda function is quite simple: \n",
    "\n",
    "lambda argument(s) : expression\n",
    "\n",
    "<ul>\n",
    "<li> lambda is a keyword in Python for defining the anonymous function.</li>\n",
    "<li> argument(s) is a placeholder, that is a variable that will be used to hold the value you want to pass into the function expression. A lambda function can have multiple variables depending on what you want to achieve. </li>\n",
    "<li> expression is the code you want to execute in the lambda function.</li>\n",
    "</ul>\n",
    "\n",
    "We can think of what the lambda function is doing as:\n",
    "<ul>\n",
    "<li> Treat each item of the dataframe as x. </li>\n",
    "<li> Do the expression to x. </li>\n",
    "<li> Return the result. </li>\n",
    "<li> Repeat for each item in the data</li>\n",
    "</ul>\n",
    "\n",
    "The lambda functions that we create work just like any other function, they are just more constrained and smaller. We can use them in the same way that we use any other function, including passing them as arguments to other functions. Lambda functions are most useful in conjunction with some higher order functions, which allows them to be applied directly to an entire set of data..."
   ]
  },
  {
   "cell_type": "markdown",
   "metadata": {},
   "source": [
    "### Doing Pandas in Bulk\n",
    "\n",
    "![Pandas](../../images/pandas.png \"Pandas\")\n",
    "![Pandas](../images/pandas.png \"Pandas\")\n",
    "\n",
    "In data science, we generally have large sets of data, such as our dataframes. It is pretty common to want to \"do something\" to every item in a column - such as convert all the values to a different type, remove some stray characters, or some other cleanup step. We can do this with a for loop, but there are some other ways that are more efficient and more readable. In effect, rather than focusing on moving through the items in the dataset and doing something to each, these methods are oriented around defining what is to be done, and where that is to be applied. If we picture that, we can visualize it as a function with two inputs - the function that does what we want, and the dataset that we want it applied to.\n",
    "\n",
    "#### Apply\n",
    "\n",
    "The apply function is used to apply a function to a dataframe (or a Series), or to run it on every row or every column. The apply function takes a function as an argument, and then applies that function to every row or column of the dataframe. In these cases, we will call apply with the lambda function as the argument, and that lambda function will be applied to every row or column of the dataframe we called it on. \n",
    "\n",
    "\n",
    "Let's make a lambda function with apply to check if something is an even number:"
   ]
  },
  {
   "cell_type": "code",
   "execution_count": 132,
   "metadata": {},
   "outputs": [
    {
     "data": {
      "text/html": [
       "<div>\n",
       "<style scoped>\n",
       "    .dataframe tbody tr th:only-of-type {\n",
       "        vertical-align: middle;\n",
       "    }\n",
       "\n",
       "    .dataframe tbody tr th {\n",
       "        vertical-align: top;\n",
       "    }\n",
       "\n",
       "    .dataframe thead th {\n",
       "        text-align: right;\n",
       "    }\n",
       "</style>\n",
       "<table border=\"1\" class=\"dataframe\">\n",
       "  <thead>\n",
       "    <tr style=\"text-align: right;\">\n",
       "      <th></th>\n",
       "      <th>source</th>\n",
       "      <th>review_description</th>\n",
       "      <th>rating</th>\n",
       "      <th>review_date</th>\n",
       "    </tr>\n",
       "  </thead>\n",
       "  <tbody>\n",
       "    <tr>\n",
       "      <th>0</th>\n",
       "      <td>Google Play</td>\n",
       "      <td>Very good app for Android phone and me</td>\n",
       "      <td>5</td>\n",
       "      <td>27-08-2023 10:31</td>\n",
       "    </tr>\n",
       "    <tr>\n",
       "      <th>1</th>\n",
       "      <td>Google Play</td>\n",
       "      <td>Sl👍👍👍👍</td>\n",
       "      <td>5</td>\n",
       "      <td>27-08-2023 10:28</td>\n",
       "    </tr>\n",
       "    <tr>\n",
       "      <th>2</th>\n",
       "      <td>Google Play</td>\n",
       "      <td>Best app</td>\n",
       "      <td>5</td>\n",
       "      <td>27-08-2023 9:47</td>\n",
       "    </tr>\n",
       "    <tr>\n",
       "      <th>3</th>\n",
       "      <td>Google Play</td>\n",
       "      <td>Gatiya app</td>\n",
       "      <td>1</td>\n",
       "      <td>27-08-2023 9:13</td>\n",
       "    </tr>\n",
       "    <tr>\n",
       "      <th>4</th>\n",
       "      <td>Google Play</td>\n",
       "      <td>Lit bruv</td>\n",
       "      <td>5</td>\n",
       "      <td>27-08-2023 9:00</td>\n",
       "    </tr>\n",
       "  </tbody>\n",
       "</table>\n",
       "</div>"
      ],
      "text/plain": [
       "        source                      review_description  rating  \\\n",
       "0  Google Play  Very good app for Android phone and me       5   \n",
       "1  Google Play                                  Sl👍👍👍👍       5   \n",
       "2  Google Play                                Best app       5   \n",
       "3  Google Play                              Gatiya app       1   \n",
       "4  Google Play                                Lit bruv       5   \n",
       "\n",
       "        review_date  \n",
       "0  27-08-2023 10:31  \n",
       "1  27-08-2023 10:28  \n",
       "2   27-08-2023 9:47  \n",
       "3   27-08-2023 9:13  \n",
       "4   27-08-2023 9:00  "
      ]
     },
     "execution_count": 132,
     "metadata": {},
     "output_type": "execute_result"
    }
   ],
   "source": [
    "#df = pd.read_csv('../data/threads_reviews.csv')\n",
    "df = pd.read_csv('../../data/threads_reviews.csv')\n",
    "df.head()"
   ]
  },
  {
   "cell_type": "code",
   "execution_count": 133,
   "metadata": {},
   "outputs": [
    {
     "data": {
      "text/plain": [
       "0        False\n",
       "1        False\n",
       "2        False\n",
       "3        False\n",
       "4        False\n",
       "         ...  \n",
       "40430    False\n",
       "40431    False\n",
       "40432    False\n",
       "40433     True\n",
       "40434    False\n",
       "Name: rating, Length: 40435, dtype: bool"
      ]
     },
     "execution_count": 133,
     "metadata": {},
     "output_type": "execute_result"
    }
   ],
   "source": [
    "# Using it\n",
    "df[\"rating\"].apply(lambda x: x%2==0)"
   ]
  },
  {
   "cell_type": "markdown",
   "metadata": {},
   "source": [
    "We can also assign a lambda function to a variable, just like we can with a regular function. This is not something we will do often, but it is possible."
   ]
  },
  {
   "cell_type": "code",
   "execution_count": 134,
   "metadata": {},
   "outputs": [
    {
     "data": {
      "text/plain": [
       "0        False\n",
       "1        False\n",
       "2        False\n",
       "3        False\n",
       "4        False\n",
       "         ...  \n",
       "40430    False\n",
       "40431    False\n",
       "40432    False\n",
       "40433     True\n",
       "40434    False\n",
       "Name: rating, Length: 40435, dtype: bool"
      ]
     },
     "execution_count": 134,
     "metadata": {},
     "output_type": "execute_result"
    }
   ],
   "source": [
    "# Lambda functions\n",
    "# even numbers\n",
    "even = lambda x: x % 2 == 0\n",
    "\n",
    "# Using it\n",
    "df[\"rating\"].apply(even)\n",
    "\n"
   ]
  },
  {
   "cell_type": "markdown",
   "metadata": {},
   "source": [
    "We can do pretty much anything we want in a lambda function, as long as it is a single expression. "
   ]
  },
  {
   "cell_type": "code",
   "execution_count": 135,
   "metadata": {},
   "outputs": [
    {
     "data": {
      "text/plain": [
       "0        5-Google Play\n",
       "1        5-Google Play\n",
       "2        5-Google Play\n",
       "3        1-Google Play\n",
       "4        5-Google Play\n",
       "             ...      \n",
       "40430      1-App Store\n",
       "40431      1-App Store\n",
       "40432      1-App Store\n",
       "40433      2-App Store\n",
       "40434      1-App Store\n",
       "Length: 40435, dtype: object"
      ]
     },
     "execution_count": 135,
     "metadata": {},
     "output_type": "execute_result"
    }
   ],
   "source": [
    "df.apply(lambda x: str(x[\"rating\"]) + \"-\" + x[\"source\"], axis=1)"
   ]
  },
  {
   "cell_type": "markdown",
   "metadata": {},
   "source": [
    "We can also have more than one argument in a lambda function."
   ]
  },
  {
   "cell_type": "code",
   "execution_count": 136,
   "metadata": {},
   "outputs": [
    {
     "name": "stdout",
     "output_type": "stream",
     "text": [
      "2\n"
     ]
    }
   ],
   "source": [
    "Max = lambda a, b : a if(a > b) else b\n",
    " \n",
    "print(Max(1, 2))"
   ]
  },
  {
   "cell_type": "markdown",
   "metadata": {},
   "source": [
    "## Map and Filter - Generalized Bulk Actions\n",
    "\n",
    "The apply function above is part of the Pandas library, so it works well for dataframes or series, and not at all for other objects. For other data structures we can use the map and filter functions. These are built-in Python functions, so they work on any iterable object. Each of these does something very similar to apply, but they are a bit more flexible. Map will apply a function to every item in an iterable, and return a new iterable with the results. Filter will apply a function to every item in an iterable, and return a new iterable with only the items for which the function returned True.\n",
    "\n",
    "![Map](../../images/map.png \"Map\")\n",
    "![Map](../images/map.png \"Map\")\n",
    "\n",
    "### Map\n",
    "\n",
    "The map function allows you to apply a function over a collection of elements. It is a higher-order function, meaning it takes another function as an argument. The map function is useful when you need to apply the same function to every item in an iterable (such as a list or dictionary) and collect the results in a new iterable. Map differs from apply in that it is not limited to dataframes, or other Pandas objects. It can be used on any iterable, including lists, tuples, and dictionaries. The syntax for map is:\n",
    "\n",
    "map(function, iterable)\n",
    "\n",
    "<ul>\n",
    "<li> function is the function you want to apply to every item in the iterable. </li>\n",
    "<li> iterable is the iterable you want to apply the function to. </li>\n",
    "</ul>\n",
    "\n",
    "<b>Note:</b> we are converting the results to lists here to look at them. The map function returns a map object, which is an iterable. We can convert it to a list to see the results, more on this below. "
   ]
  },
  {
   "cell_type": "code",
   "execution_count": 137,
   "metadata": {},
   "outputs": [
    {
     "data": {
      "text/plain": [
       "[False, True, False, True, False, True, False, True, False, True]"
      ]
     },
     "execution_count": 137,
     "metadata": {},
     "output_type": "execute_result"
    }
   ],
   "source": [
    "list(map(lambda x: x%2==0, list1))"
   ]
  },
  {
   "cell_type": "markdown",
   "metadata": {},
   "source": [
    "We can also store the results in a variable. "
   ]
  },
  {
   "cell_type": "code",
   "execution_count": 138,
   "metadata": {},
   "outputs": [
    {
     "data": {
      "text/plain": [
       "<map at 0x11fe39a50>"
      ]
     },
     "execution_count": 138,
     "metadata": {},
     "output_type": "execute_result"
    }
   ],
   "source": [
    "tmp = map(lambda x: x%2==0, list1)\n",
    "tmp"
   ]
  },
  {
   "cell_type": "markdown",
   "metadata": {},
   "source": [
    "The return value is a \"map\" object, more on this later. For now, we can convert it to a list or loop through it to see the results."
   ]
  },
  {
   "cell_type": "code",
   "execution_count": 139,
   "metadata": {},
   "outputs": [
    {
     "name": "stdout",
     "output_type": "stream",
     "text": [
      "False\n",
      "True\n",
      "False\n",
      "True\n",
      "False\n",
      "True\n",
      "False\n",
      "True\n",
      "False\n",
      "True\n"
     ]
    }
   ],
   "source": [
    "for x in tmp:\n",
    "    print(x)"
   ]
  },
  {
   "cell_type": "markdown",
   "metadata": {},
   "source": [
    "<b>Note:</b> Pandas also has a map function, which is similar to apply, it is not the same as the map function we are discussing here, but it does the equivalent for Pandas objects. See below. "
   ]
  },
  {
   "cell_type": "code",
   "execution_count": 140,
   "metadata": {},
   "outputs": [
    {
     "name": "stdout",
     "output_type": "stream",
     "text": [
      "I'm Pandas -  [False, False, False, False, False] \n",
      "\n",
      "I'm Map -  [False, False, False, False, False]\n"
     ]
    }
   ],
   "source": [
    "# Pandas Map\n",
    "print(\"I'm Pandas - \", list(df[\"rating\"].map(lambda x: x%2==0).head()), \"\\n\")\n",
    "\n",
    "# Map map - note the different syntax\n",
    "print(\"I'm Map - \", list(map(lambda x: x%2==0, df[\"rating\"]))[:5])"
   ]
  },
  {
   "cell_type": "markdown",
   "metadata": {},
   "source": [
    "Map will work with a list here as well, apply comes from Pandas and is only used on Pandas objects."
   ]
  },
  {
   "cell_type": "code",
   "execution_count": 141,
   "metadata": {},
   "outputs": [
    {
     "name": "stdout",
     "output_type": "stream",
     "text": [
      "[1, 2, 3, 4, 5, 6, 7, 8, 9, 10]\n",
      "Failed - I knew it!\n"
     ]
    }
   ],
   "source": [
    "# I'm gonna fail!\n",
    "print(list1)\n",
    "try:\n",
    "    list1.apply(lambda x: x%2==0)\n",
    "except:\n",
    "    print(\"Failed - I knew it!\")"
   ]
  },
  {
   "cell_type": "markdown",
   "metadata": {},
   "source": [
    "### Filter\n",
    "\n",
    "The filter function allows you to apply a function over a collection of elements, but only returns the elements for which the function returns True. It requires that we provide a function that returns a boolean value, and then it will return only the elements for which that function returns True. The syntax for filter is just like map:\n",
    "\n",
    "filter(function, iterable)\n",
    "\n",
    "<ul>\n",
    "<li> function is the function you want to apply to every item in the iterable. </li>\n",
    "<li> iterable is the iterable you want to apply the function to. </li>\n",
    "</ul>\n"
   ]
  },
  {
   "cell_type": "code",
   "execution_count": 142,
   "metadata": {},
   "outputs": [
    {
     "data": {
      "text/plain": [
       "[2, 4, 2, 2, 2]"
      ]
     },
     "execution_count": 142,
     "metadata": {},
     "output_type": "execute_result"
    }
   ],
   "source": [
    "# Filter ratings column for even/odd numbers\n",
    "list(filter(lambda x: x%2==0, df[\"rating\"]))[:5]"
   ]
  },
  {
   "cell_type": "markdown",
   "metadata": {},
   "source": [
    "### Mapping and Applying Real Functions\n",
    "\n",
    "These shortcuts are commonly used with lambda functions, but we can map, filter, or apply pretty much any function to a data structure if we need to. This is identical in syntax to a lambda function, but I'd argue it is more readable since the body of the function is elsewhere. When using normal functions we don't have the \"one expression\" limitation that we have with lambda functions, so we can do pretty much anything. "
   ]
  },
  {
   "cell_type": "code",
   "execution_count": 143,
   "metadata": {},
   "outputs": [],
   "source": [
    "def isEven(x):\n",
    "    return x%2==0"
   ]
  },
  {
   "cell_type": "code",
   "execution_count": 144,
   "metadata": {},
   "outputs": [
    {
     "data": {
      "text/plain": [
       "[False, True, False, True, False, True, False, True, False, True]"
      ]
     },
     "execution_count": 144,
     "metadata": {},
     "output_type": "execute_result"
    }
   ],
   "source": [
    "list(map(isEven, list1))"
   ]
  },
  {
   "cell_type": "code",
   "execution_count": 145,
   "metadata": {},
   "outputs": [
    {
     "data": {
      "text/plain": [
       "0        False\n",
       "1        False\n",
       "2        False\n",
       "3        False\n",
       "4        False\n",
       "         ...  \n",
       "40430    False\n",
       "40431    False\n",
       "40432    False\n",
       "40433     True\n",
       "40434    False\n",
       "Name: rating, Length: 40435, dtype: bool"
      ]
     },
     "execution_count": 145,
     "metadata": {},
     "output_type": "execute_result"
    }
   ],
   "source": [
    "df[\"rating\"].apply(isEven)"
   ]
  },
  {
   "cell_type": "markdown",
   "metadata": {},
   "source": [
    "### What's Returned? - Intro to Iterators\n",
    "\n",
    "Map doesn't return a list or another data structure of the results, it returns a map object - a type of iterable. Iterables as a concept are something that we'll explore in more detail later. For now, we can think of this as something that we can use like any other data structure, but we first must convert it to a list or other data structure if we want to use it like one. When we want to see the results above we wrapped the map in a list() function, which converted it to a list.\n",
    "\n",
    "The object itself is actually a type of iterator, or a variation on a normal data structure where the items inside are not stored in memory, but are instead generated as needed. This is something that we will see more when using large datasets for neural network models, where the amount of data is more than we can fit in the memory of the system, so we leave it on disk and only pull in bits at a time. The key concept here is that the iterator will return the next item when asked, no matter if that item is in memory or not. In a \"normal\" data structure all the data is in memory. This is also an example of \"lazy\" evaluation, where we don't do anything until we need to. Lazy evaluation is a common technique that we see in Python when working with large datasets, we can avoid doing large and slow operations in favor of distributing that work over time. These iterators also open the possibility of effectively infinite data structures, where we can generate the next item in the data structure as needed. Take an example of training a large language model such as chatGPT, where it will need to take in a massive amount of text as its training data. We can't fit \"the internet\" into memory, but we can create an iterator (specifically a <i>generator</i>) that will produce the next item that we expect, without forcing us to care about the data as a whole. \n",
    "\n",
    "![Iterators](../../images/iterator.png \"Iterators\")\n",
    "![Iterators](../images/iterator.png \"Iterators\")\n",
    "\n",
    "We can generate one of these iterators for any iterable, meaning that we can use this technique with almost any data structure."
   ]
  },
  {
   "cell_type": "code",
   "execution_count": 146,
   "metadata": {},
   "outputs": [
    {
     "data": {
      "text/plain": [
       "map"
      ]
     },
     "execution_count": 146,
     "metadata": {},
     "output_type": "execute_result"
    }
   ],
   "source": [
    "type(map(isEven, list1))"
   ]
  },
  {
   "cell_type": "code",
   "execution_count": 147,
   "metadata": {},
   "outputs": [],
   "source": [
    "a = map(isEven, list1)"
   ]
  },
  {
   "cell_type": "markdown",
   "metadata": {},
   "source": [
    "All iterators have a next() method, which returns the next item in the iterator. When we use a for loop to iterate over an iterator, the for loop automatically calls next() for us. This is also what allows it to be interoperable with lists and other data structures that we're used to. Each run of this block will progress through the dataset. "
   ]
  },
  {
   "cell_type": "code",
   "execution_count": 148,
   "metadata": {},
   "outputs": [
    {
     "data": {
      "text/plain": [
       "False"
      ]
     },
     "execution_count": 148,
     "metadata": {},
     "output_type": "execute_result"
    }
   ],
   "source": [
    "a.__next__()"
   ]
  },
  {
   "cell_type": "markdown",
   "metadata": {},
   "source": [
    "## Map, Filter, Apply, Oh My!\n",
    "\n",
    "These different functions can be a little confusing to keep straight - which one applies where, and what is the syntax. The important point is that we understand that if we want to do something to a large set of items, we can use one of these actions to do it all in one step. We can use a for loop, but that is generally less efficient and less readable, so having these additional tools in your toolbox is a good thing.\n",
    "\n",
    "If you're not going to remember anything else, remember the use of map(). Map is usable on any iterable (unlike apply), so if you understand how map is used you can accomplish most tasks using it. The idea and syntax is also in line with "
   ]
  },
  {
   "cell_type": "markdown",
   "metadata": {},
   "source": [
    "## Exercise\n",
    "\n",
    "Write a function that will take in a function, a data structure, and a boolean value as arguments, then return a new data structure with the function run on every item in the original data structure. The function used to do the \"running\" should be dynamic:\n",
    "<ul>\n",
    "<li> If the iterable is a Pandas object, use apply. </li>\n",
    "<li> If the iterable is a different iterable, use map. </li>\n",
    "<li> If the flag to_filter is True, use filter. </li>\n",
    "</ul>\n",
    "\n",
    "<b>Note:</b> for (at least) one of the cases here, it might not work out directly with a map/apply/filter function. I used list comprehension for that case, but there are probably several ways. "
   ]
  },
  {
   "cell_type": "code",
   "execution_count": 163,
   "metadata": {},
   "outputs": [],
   "source": [
    "# I think this is right, I didn't test a lot of edge cases though. Might be a mistake soemwhere. \n",
    "def map_filter_or_apply(func, iterable, to_filter=False):\n",
    "    if to_filter == True:\n",
    "        if type(iterable) == pd.Series:\n",
    "            return [x for x in iterable if func(x)]\n",
    "        else:\n",
    "            return list(filter(func, iterable))\n",
    "    elif to_filter == False:\n",
    "        if type(iterable) == pd.Series:\n",
    "            return iterable.apply(func)\n",
    "        else:\n",
    "            return list(map(func, iterable))\n",
    "    else:\n",
    "        raise Exception(\"to_filter must be True or False\")"
   ]
  },
  {
   "cell_type": "markdown",
   "metadata": {},
   "source": [
    "Some tests I used to check my work:"
   ]
  },
  {
   "cell_type": "code",
   "execution_count": 164,
   "metadata": {},
   "outputs": [
    {
     "data": {
      "text/plain": [
       "[2, 4, 6, 8, 10]"
      ]
     },
     "execution_count": 164,
     "metadata": {},
     "output_type": "execute_result"
    }
   ],
   "source": [
    "# Tests\n",
    "\n",
    "map_filter_or_apply(isEven, pd.Series(list1), to_filter=True)"
   ]
  },
  {
   "cell_type": "code",
   "execution_count": 165,
   "metadata": {},
   "outputs": [
    {
     "data": {
      "text/plain": [
       "[2, 4, 6, 8, 10]"
      ]
     },
     "execution_count": 165,
     "metadata": {},
     "output_type": "execute_result"
    }
   ],
   "source": [
    "map_filter_or_apply(isEven, list1, to_filter=True)"
   ]
  },
  {
   "cell_type": "code",
   "execution_count": 166,
   "metadata": {},
   "outputs": [
    {
     "data": {
      "text/plain": [
       "function"
      ]
     },
     "execution_count": 166,
     "metadata": {},
     "output_type": "execute_result"
    }
   ],
   "source": [
    "type(map_filter_or_apply)"
   ]
  }
 ],
 "metadata": {
  "kernelspec": {
   "display_name": "ml_env",
   "language": "python",
   "name": "python3"
  },
  "language_info": {
   "codemirror_mode": {
    "name": "ipython",
    "version": 3
   },
   "file_extension": ".py",
   "mimetype": "text/x-python",
   "name": "python",
   "nbconvert_exporter": "python",
   "pygments_lexer": "ipython3",
   "version": "3.10.9"
  },
  "orig_nbformat": 4
 },
 "nbformat": 4,
 "nbformat_minor": 2
}
