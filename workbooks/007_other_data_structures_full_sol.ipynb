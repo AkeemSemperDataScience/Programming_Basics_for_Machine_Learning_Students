{
 "cells": [
  {
   "cell_type": "markdown",
   "metadata": {},
   "source": [
    "# Weird Data Structures\n",
    "\n",
    "While we normally think of and use data structures like lists - we have a bunch of stuff and we put it into some kind of order. In data science, this will usually be the case (along with dataframes and another container, arrays). Some situations and some problems are better suited to a much different type of data structure to hold the data. Here we'll look at a few data structures that are distinctly non-list-like."
   ]
  },
  {
   "cell_type": "markdown",
   "metadata": {},
   "source": [
    "## Unordered Collections - Sets and Dictionaries\n",
    "\n",
    "Lists and tuples are ordered collections of elements. We can access elements by their index that refers to the position of the element in the collection. Sets and dictionaries are different types of data structures, they still hold objects, but those objects do not have an order or positions. \n",
    "\n",
    "### Lies of New Python\n",
    "\n",
    "As of Python 3.7, sets and dictionaries are now internally ordered. This doesn't change how we think of them, as their benefits come from their unordered nature. It means that if we are iterating over the items in the data structure that the order will be consistent. We still don't use indexes to refer to items by position, but this makes the sets and dictionaries more consistent and interchangeable with other data structures. So, we'll talk about these data structures as if they are unordered, but they have had that change made to their internal workings to allow for more interoperability with other data structures.\n",
    "\n",
    "So all the mentions of the order not being maintained are not technically true. \n",
    "\n",
    "### Sets\n",
    "\n",
    "Sets are unordered collections of unique elements. Sets differ from lists primarily in that they are unordered and that they can only contain unique elements. We can make an empty set and add items, or we can create it from some other data structure (more on this in the dictionary bit).\n",
    "\n",
    "![Python Sets](../../images/python-sets.jpg \"Python Sets\")\n",
    "![Python Sets](../images/python-sets.jpg \"Python Sets\")\n",
    "\n",
    "We don't use sets a lot in data science, but they can be useful for a few things. One is to remove duplicates from a list. Another is to find the unique elements in a list. \n",
    "\n",
    "Sets are immutable, so we can't change them once we've made them. We can add and remove items from them, but we can't change the items that are in them. This is similar to a tuple, and distinctly different from a list or a dictionary, where we can change things at will. \n",
    "\n",
    "#### Set Operations\n",
    "\n",
    "We can make sets using the set() constructor or using curly braces; we can also make an empty one that we add to, or make it directly from some other data structure like a list. Items can also be added and removed from a set, and we can check and see if an item is in a set. Note that when we make a set from a list, we automatically filter out all the duplicates. "
   ]
  },
  {
   "cell_type": "code",
   "execution_count": 445,
   "metadata": {},
   "outputs": [
    {
     "name": "stdout",
     "output_type": "stream",
     "text": [
      "{'to', 2, 4, 5, 'hello', 'go ', 'everyone', 'now', 23, 'go', 'where'}\n"
     ]
    }
   ],
   "source": [
    "# Sets\n",
    "some_stuff = [\"where\", 23, \"to\", 4, \"go\", 5, \"now\", 23, 23, 23, \"go\", 23, \"go \"]\n",
    "\n",
    "tmp_set = set(some_stuff)\n",
    "tmp_set.add(\"hello\")\n",
    "tmp_set.add(2)\n",
    "tmp_set.add(\"everyone\")\n",
    "tmp_set.add(4)\n",
    "tmp_set.add(\"where\")\n",
    "\n",
    "print(tmp_set)"
   ]
  },
  {
   "cell_type": "markdown",
   "metadata": {},
   "source": [
    "We can also create a set by listing the items with curly braces. "
   ]
  },
  {
   "cell_type": "code",
   "execution_count": 446,
   "metadata": {},
   "outputs": [
    {
     "data": {
      "text/plain": [
       "{4, True, 'everyone', 'hello', 'purple'}"
      ]
     },
     "execution_count": 446,
     "metadata": {},
     "output_type": "execute_result"
    }
   ],
   "source": [
    "other_set = {\"hello\", True, \"everyone\", 4, \"purple\"}\n",
    "other_set"
   ]
  },
  {
   "cell_type": "markdown",
   "metadata": {},
   "source": [
    "##### Checking for Membership\n",
    "\n",
    "We can ask if an element is in a set using the `in` operator.\n",
    "\n",
    "Note that our double \"where\" is gone, only one \"where\" remains. This is because sets can only contain unique elements."
   ]
  },
  {
   "cell_type": "code",
   "execution_count": 447,
   "metadata": {},
   "outputs": [
    {
     "data": {
      "text/plain": [
       "True"
      ]
     },
     "execution_count": 447,
     "metadata": {},
     "output_type": "execute_result"
    }
   ],
   "source": [
    "\"hello\" in tmp_set"
   ]
  },
  {
   "cell_type": "markdown",
   "metadata": {},
   "source": [
    "We can remove things by remove or discard. "
   ]
  },
  {
   "cell_type": "code",
   "execution_count": 448,
   "metadata": {},
   "outputs": [
    {
     "name": "stdout",
     "output_type": "stream",
     "text": [
      "{'to', 2, 5, 'go ', 'everyone', 'now', 23, 'go', 'where'}\n"
     ]
    }
   ],
   "source": [
    "tmp_set.remove(4)\n",
    "tmp_set.discard(\"hello\")\n",
    "print(tmp_set)"
   ]
  },
  {
   "cell_type": "code",
   "execution_count": 449,
   "metadata": {},
   "outputs": [
    {
     "data": {
      "text/plain": [
       "False"
      ]
     },
     "execution_count": 449,
     "metadata": {},
     "output_type": "execute_result"
    }
   ],
   "source": [
    "# Check again\n",
    "\"hello\" in tmp_set"
   ]
  },
  {
   "cell_type": "markdown",
   "metadata": {},
   "source": [
    "### Set Logic\n",
    "\n",
    "Sets are an important part of a branch of discreet math called set theory, which is a branch of mathematics that deals with collections of objects. We can use sets to do some basic set theory operations.\n",
    "<ul>\n",
    "<li> We can use the `|` operator to get the union of two sets. This is all the elements in either set.\n",
    "<li> We can use the `&` operator to get the intersection of two sets. This is all the elements that are in both sets.\n",
    "<li> We can use the `-` operator to get the difference of two sets. This is all the elements in the first set that are not in the second set.\n",
    "<li> We can use the `^` operator to get the symmetric difference of two sets. This is all the elements that are in one set or the other, but not both.\n",
    "<li> We can use the `<=` operator to ask if one set is a subset of another set. This is all the elements in the first set are also in the second set.\n",
    "<li> We can use the `>=` operator to ask if one set is a superset of another set. This is all the elements in the second set are also in the first set.\n",
    "</ul>\n",
    "\n",
    "![Set Operations](../images/set_operations.png \"Set Operations\")\n",
    "![Set Operations](../../images/set_operations.png \"Set Operations\")\n",
    "\n",
    "For data science work, these mathematical operations aren't super common. These set operations are something that may help make things that we may normally do with a loop a bit easier - if we needed to find the unique elements or elements that are in two other data structures. "
   ]
  },
  {
   "cell_type": "code",
   "execution_count": 450,
   "metadata": {},
   "outputs": [
    {
     "data": {
      "text/plain": [
       "{2,\n",
       " 23,\n",
       " 4,\n",
       " 5,\n",
       " True,\n",
       " 'everyone',\n",
       " 'go',\n",
       " 'go ',\n",
       " 'hello',\n",
       " 'now',\n",
       " 'purple',\n",
       " 'to',\n",
       " 'where'}"
      ]
     },
     "execution_count": 450,
     "metadata": {},
     "output_type": "execute_result"
    }
   ],
   "source": [
    "# Union\n",
    "tmp_set | other_set"
   ]
  },
  {
   "cell_type": "code",
   "execution_count": 451,
   "metadata": {},
   "outputs": [
    {
     "data": {
      "text/plain": [
       "{'everyone'}"
      ]
     },
     "execution_count": 451,
     "metadata": {},
     "output_type": "execute_result"
    }
   ],
   "source": [
    "# Intersection\n",
    "tmp_set & other_set"
   ]
  },
  {
   "cell_type": "code",
   "execution_count": 452,
   "metadata": {},
   "outputs": [
    {
     "data": {
      "text/plain": [
       "{2, 23, 5, 'go', 'go ', 'now', 'to', 'where'}"
      ]
     },
     "execution_count": 452,
     "metadata": {},
     "output_type": "execute_result"
    }
   ],
   "source": [
    "# Difference\n",
    "tmp_set - other_set"
   ]
  },
  {
   "cell_type": "code",
   "execution_count": 453,
   "metadata": {},
   "outputs": [
    {
     "data": {
      "text/plain": [
       "{2, 23, 4, 5, True, 'go', 'go ', 'hello', 'now', 'purple', 'to', 'where'}"
      ]
     },
     "execution_count": 453,
     "metadata": {},
     "output_type": "execute_result"
    }
   ],
   "source": [
    "# Symmetric difference\n",
    "tmp_set ^ other_set"
   ]
  },
  {
   "cell_type": "code",
   "execution_count": 454,
   "metadata": {},
   "outputs": [
    {
     "data": {
      "text/plain": [
       "False"
      ]
     },
     "execution_count": 454,
     "metadata": {},
     "output_type": "execute_result"
    }
   ],
   "source": [
    "# Subset\n",
    "tmp_set <= other_set"
   ]
  },
  {
   "cell_type": "code",
   "execution_count": 455,
   "metadata": {},
   "outputs": [
    {
     "data": {
      "text/plain": [
       "False"
      ]
     },
     "execution_count": 455,
     "metadata": {},
     "output_type": "execute_result"
    }
   ],
   "source": [
    "# Superset\n",
    "tmp_set >= other_set"
   ]
  },
  {
   "cell_type": "markdown",
   "metadata": {},
   "source": [
    "### Dictionaries\n",
    "\n",
    "Dictionaries are unordered mappings for storing objects in key-value pairs. We'll deal with dictionaries more than sets or other varieties of data structures. Previously we saw how lists store objects in an ordered sequence, dictionaries use a key-value pairing instead. This key-value pair allows users to quickly grab objects without needing to know an index location. Dictionaries use curly braces and colons to signify the keys and their associated values. \n",
    "\n",
    "![Dictionary vs. List](../../images/dict_list.png \"Dictionary vs. List\")\n",
    "![Dictionary vs. List](../images/dict_list.png \"Dictionary vs. List\")\n",
    "\n",
    "We can create a dictionary and build it, or we can create it from some other data structure or starting data. \n",
    "\n",
    "![Dictionary Creation](../../images/make_dict.jpg \"Dictionary Creation\")\n",
    "![Dictionary Creation](../images/make_dict.jpg \"Dictionary Creation\")\n",
    "\n",
    "Accessing items in a dictionary is done with a similar syntax to that of lists, except that instead of using an index value, you use the key name. Just like in an actual dictionary, the lookup isn't based on a position or index, but on the \"key\" you provide."
   ]
  },
  {
   "cell_type": "code",
   "execution_count": 456,
   "metadata": {},
   "outputs": [
    {
     "data": {
      "text/plain": [
       "'value1'"
      ]
     },
     "execution_count": 456,
     "metadata": {},
     "output_type": "execute_result"
    }
   ],
   "source": [
    "# Sample Dictionary\n",
    "d = {'key1':'value1','key2':'value2'}\n",
    "d['key1'] # Call values by their key"
   ]
  },
  {
   "cell_type": "markdown",
   "metadata": {},
   "source": [
    "#### Dictionary Usage\n",
    "\n",
    "Dictionaries are used quite frequently in Python programming, notably it is common to use dictionaries as arguments to functions. We declare a dictionary with the curly braces, and then we can access the values by using the key name.\n",
    "\n",
    "Some common dictionary methods and abilities are:\n",
    "<ul>\n",
    "<li> dict.keys() - returns a list of all keys in the dictionary.</li>\n",
    "<li> dict.values() - returns a list of all values in the dictionary.</li>\n",
    "<li> dict.items() - returns a list of all key-value pairs in the dictionary.</li>\n",
    "<li> in - checks if the key is in the dictionary.</li>\n",
    "<li> del - deletes a key-value pair from the dictionary.</li>\n",
    "</ul>\n",
    "\n",
    "To add a new item to the dictionary we can simply assign a new key and value to the dictionary. To remove an item from the dictionary we can use the del keyword, which has some weird syntax."
   ]
  },
  {
   "cell_type": "code",
   "execution_count": 457,
   "metadata": {},
   "outputs": [
    {
     "data": {
      "text/plain": [
       "dict_items([('key1', 'value1'), ('key2', 'value2')])"
      ]
     },
     "execution_count": 457,
     "metadata": {},
     "output_type": "execute_result"
    }
   ],
   "source": [
    "d.items() # Get all items"
   ]
  },
  {
   "cell_type": "code",
   "execution_count": 458,
   "metadata": {},
   "outputs": [
    {
     "data": {
      "text/plain": [
       "dict_values(['value1', 'value2'])"
      ]
     },
     "execution_count": 458,
     "metadata": {},
     "output_type": "execute_result"
    }
   ],
   "source": [
    "d.values() # Get all values"
   ]
  },
  {
   "cell_type": "code",
   "execution_count": 459,
   "metadata": {},
   "outputs": [
    {
     "data": {
      "text/plain": [
       "dict_keys(['key1', 'key2'])"
      ]
     },
     "execution_count": 459,
     "metadata": {},
     "output_type": "execute_result"
    }
   ],
   "source": [
    "d.keys() # Get all keys"
   ]
  },
  {
   "cell_type": "code",
   "execution_count": 460,
   "metadata": {},
   "outputs": [
    {
     "data": {
      "text/plain": [
       "dict_items([('key2', 'value2'), ('new_value', 'new_value')])"
      ]
     },
     "execution_count": 460,
     "metadata": {},
     "output_type": "execute_result"
    }
   ],
   "source": [
    "# Add \n",
    "d[\"new_value\"] = \"new_value\"\n",
    "\n",
    "# Deletem key1 from d\n",
    "del d[\"key1\"]\n",
    "\n",
    "d.items() "
   ]
  },
  {
   "cell_type": "code",
   "execution_count": 461,
   "metadata": {},
   "outputs": [
    {
     "data": {
      "text/plain": [
       "['value2', 'new_value']"
      ]
     },
     "execution_count": 461,
     "metadata": {},
     "output_type": "execute_result"
    }
   ],
   "source": [
    "# Make it a list\n",
    "list(d.values())"
   ]
  },
  {
   "cell_type": "markdown",
   "metadata": {},
   "source": [
    "#### Dictionary Uses\n",
    "\n",
    "Dictionaries are most useful when we have a collection of data that we want to access by name, rather than running through a sequence. If we compare them to a list for things like this, they are much easier to use. Rather than having to look through each item to see if the item we want is there, we can just ask for it by name and the dictionary will find it for us. In general, if we have a bunch of attributes that we want to associate with a single object, we can sensibly use a dictionary to store them."
   ]
  },
  {
   "cell_type": "markdown",
   "metadata": {},
   "source": [
    "#### Dictionary Looping\n",
    "\n",
    "In recent versions of Python, the dictionary is also iterable, or able to provide its items one-by-one. This means that we can loop through its items using a for list, without having to really adapt our loop at all. This is one strength of the way things are designed as iterables in Python, we can create a function that loops through our data in a list, then use that same function on data that is stored in a dictionary, or a set, or any other iterable. Since dictionaries are now internally ordered in Python, we can expect the order of the items to be consistent - even though we aren't explicitly using those positions for referencing items. \n",
    "\n",
    "<b>Note:</b> this is also one example of something we commonly see in the syntax of Python, multiple return values. In this case, the for loop is returning two values, the key and the value. This is something that is common, a function can return more than one value, and we can \"take\" as many of those return values as we need. Commonly the \"main\" value is the first, and others follow. If we don't need them, we just leave them out. This is also an example where some simple design choices that we make can have positive or negative unintended impacts. By utilizing the common interface provided by the iterable data structures, our code can be more flexible and more easily reused."
   ]
  },
  {
   "cell_type": "code",
   "execution_count": 462,
   "metadata": {},
   "outputs": [
    {
     "name": "stdout",
     "output_type": "stream",
     "text": [
      "key2 value2\n",
      "new_value new_value\n"
     ]
    }
   ],
   "source": [
    "for key, value in d.items():\n",
    "    print(key, value)"
   ]
  },
  {
   "cell_type": "markdown",
   "metadata": {},
   "source": [
    "If we want to return the items themselves, as tuples, we can just get the one return value in the for loop. I.e. this one is returning each item as a tuple, as we're looping through the items; when we asked for the key and value above, we were getting them as separate values. This is something that is defined on the object itself, we need to refer back to the documentation to see what is available."
   ]
  },
  {
   "cell_type": "code",
   "execution_count": 463,
   "metadata": {},
   "outputs": [
    {
     "name": "stdout",
     "output_type": "stream",
     "text": [
      "('key2', 'value2')\n",
      "('new_value', 'new_value')\n"
     ]
    }
   ],
   "source": [
    "for key in d.items():\n",
    "    print(key)"
   ]
  },
  {
   "cell_type": "markdown",
   "metadata": {},
   "source": [
    "## Exercise\n",
    "\n",
    "Create a class called \"StudentGraduation\" that does the following:\n",
    "<ul>\n",
    "<li> Contains a dictionary of the courses a student has taken and the grade they received in each course. </li>\n",
    "<li> Contains a method that allows a function call to add or update a grade for a course. If the course is not in the student's dictionary already, add it; if it is, update that record. </li>\n",
    "<li> Contains a method that will calculate if the student can graduate. </li>\n",
    "    <ul>\n",
    "    <li> Consider them graduated if \"math\", \"science\", and \"english\" are all in their course list and they have a passing grade (>50%) in each. </li>\n",
    "    </ul>\n",
    "<li> Create a method that will print the student's transcript and GPA. </li>\n",
    "<li> Bonus - add some error checking to not allow any courses that are not \"math\", \"science\", \"english\", \"french\", or \"gym\" to be added to the dictionary. Provide an error if an unacceptable course is added. </li>\n",
    "</ul>\n",
    "\n",
    "There is some ambiguity here, that's ok, you can strategize and choose a good way to implement it. This exercise is good practice. In particular, you should think about both how to hold the data, and how to allow access to it through useful methods. Remember, from the outside we are asking the \"student graduation\" object to do something for us, we don't care how it does it, we just want it to do it. When asking if the student can graduate, we shouldn't have to worry about how that is determined internally, we just want to know if they can graduate or not."
   ]
  },
  {
   "cell_type": "code",
   "execution_count": 464,
   "metadata": {},
   "outputs": [],
   "source": [
    "# Codes:\n",
    "\n",
    "class StudentGraduation:\n",
    "\n",
    "    requirements = [\"math\", \"english\", \"science\"]\n",
    "    allowed = [\"math\", \"english\", \"science\", \"french\", \"gym\"]\n",
    "    \n",
    "    def __init__(self, name):\n",
    "        self.name = name\n",
    "        self.graduate = False\n",
    "        self.courses = {}\n",
    "    \n",
    "    def add_course(self, course, grade):\n",
    "        if course in StudentGraduation.allowed:\n",
    "            self.courses[course] = grade\n",
    "        else:\n",
    "            print(\"You can't take that course\")\n",
    "    \n",
    "    def GPA(self):\n",
    "        return sum(self.courses.values())/len(self.courses)\n",
    "    \n",
    "    def checkGrad(self):\n",
    "        tempGrad = 0\n",
    "        for req in StudentGraduation.requirements:\n",
    "            if req in self.courses:\n",
    "                if self.courses[req] >= 50:\n",
    "                    tempGrad += 1\n",
    "        if tempGrad >= 3:\n",
    "            self.graduate = True\n",
    "        return self.graduate\n",
    "    \n",
    "    def __str__(self):\n",
    "        print(\"Student: \" + self.name)\n",
    "        for course, grade in self.courses.items():\n",
    "            print(course, grade)\n",
    "        return \"GPA: \" + str(self.GPA()) + \"\\nGraduated: \" + str(self.graduate)"
   ]
  },
  {
   "cell_type": "code",
   "execution_count": 465,
   "metadata": {},
   "outputs": [
    {
     "name": "stdout",
     "output_type": "stream",
     "text": [
      "False\n"
     ]
    }
   ],
   "source": [
    "a = StudentGraduation(\"John\")\n",
    "a.add_course(\"math\", 50)\n",
    "a.add_course(\"math\", 50)\n",
    "a.add_course(\"math\", 50)\n",
    "a.add_course(\"math\", 90)\n",
    "a.add_course(\"english\", 50)\n",
    "print(a.checkGrad())"
   ]
  },
  {
   "cell_type": "code",
   "execution_count": 466,
   "metadata": {},
   "outputs": [
    {
     "data": {
      "text/plain": [
       "True"
      ]
     },
     "execution_count": 466,
     "metadata": {},
     "output_type": "execute_result"
    }
   ],
   "source": [
    "a.add_course(\"science\", 50)\n",
    "a.checkGrad()"
   ]
  },
  {
   "cell_type": "code",
   "execution_count": 467,
   "metadata": {},
   "outputs": [
    {
     "name": "stdout",
     "output_type": "stream",
     "text": [
      "You can't take that course\n"
     ]
    }
   ],
   "source": [
    "a.add_course(\"Turkish\", 50) "
   ]
  },
  {
   "cell_type": "code",
   "execution_count": 468,
   "metadata": {},
   "outputs": [],
   "source": [
    "a.add_course(\"french\", 40)"
   ]
  },
  {
   "cell_type": "code",
   "execution_count": 469,
   "metadata": {},
   "outputs": [
    {
     "name": "stdout",
     "output_type": "stream",
     "text": [
      "Student: John\n",
      "math 90\n",
      "english 50\n",
      "science 50\n",
      "french 40\n",
      "GPA: 57.5\n",
      "Graduated: True\n"
     ]
    }
   ],
   "source": [
    "print(a)"
   ]
  },
  {
   "cell_type": "markdown",
   "metadata": {},
   "source": [
    "### This In That Out\n",
    "\n",
    "There are a couple of other types of data structures that we'll look at briefly. These are data structures that are used to hold data, but they are used in a very specific way. They are commonly used to hold data that is waiting to be processed. Queues and stacks hold data in a way where we can only add items in one way, and remove them in another.\n",
    "\n",
    "#### Queues\n",
    "\n",
    "A queue is a collection of objects that are inserted and removed according to the first-in, first-out (FIFO) principle. An excellent example of a queue is a line of people ordering at Burger King. New additions to a line made to the back of the queue, while removal (or serving) happens in the front. In the queue data structure, the oldest element is removed first.\n",
    "\n",
    "In the example below we can see the mechanics of a queue, we can add items to the back and get items from the front. \n",
    "\n",
    "#### Stacks\n",
    "\n",
    "Stacks are kind of the opposite of queues, they are last-in, first-out (LIFO). A stack is basically a pile of items, we stack them on and take off the top one. We'll look at an example of a stack when we look at recursion. Stack data types need to be imported from some external package, or we can make our own."
   ]
  },
  {
   "cell_type": "code",
   "execution_count": 470,
   "metadata": {},
   "outputs": [
    {
     "data": {
      "text/plain": [
       "<queue.Queue at 0x1116b7550>"
      ]
     },
     "execution_count": 470,
     "metadata": {},
     "output_type": "execute_result"
    }
   ],
   "source": [
    "import queue\n",
    "q = queue.Queue()\n",
    "q.put(\"item1\")\n",
    "q.put(\"item2\")\n",
    "q.put(\"item3\")\n",
    "q.put(\"item4\")\n",
    "\n",
    "q"
   ]
  },
  {
   "cell_type": "code",
   "execution_count": 471,
   "metadata": {},
   "outputs": [
    {
     "data": {
      "text/plain": [
       "'item1'"
      ]
     },
     "execution_count": 471,
     "metadata": {},
     "output_type": "execute_result"
    }
   ],
   "source": [
    "q.get()"
   ]
  },
  {
   "cell_type": "code",
   "execution_count": 472,
   "metadata": {},
   "outputs": [
    {
     "data": {
      "text/plain": [
       "'item2'"
      ]
     },
     "execution_count": 472,
     "metadata": {},
     "output_type": "execute_result"
    }
   ],
   "source": [
    "q.put(\"item5\")\n",
    "q.get()"
   ]
  },
  {
   "cell_type": "markdown",
   "metadata": {},
   "source": [
    "## Exercise\n",
    "\n",
    "Implement a queue in your own class, using some other data structure internally to hold the data. We want to be able to add things to it and remove things, at a minimum.\n",
    "\n",
    "<b>Note:</b> there are lots of ways to do this, and if you search for examples there will probably try to operate more efficiently. Since a data structure is generally used over and over, potentially with lots of items, in many programs, this is a pretty good use of time trying to optimize for speed. Unless this is super easy for you, don't worry about that, the functions listed when we looked at lists should do the job. "
   ]
  },
  {
   "cell_type": "code",
   "execution_count": 473,
   "metadata": {},
   "outputs": [],
   "source": [
    "# Make a queue\n",
    "\n",
    "class myQueue:\n",
    "\n",
    "    def __init__(self):\n",
    "        self.queue = []\n",
    "        self.length = 0\n",
    "\n",
    "    def pop(self):\n",
    "        if self.length > 0:\n",
    "            self.length -= 1\n",
    "            return self.queue.pop(0)\n",
    "    \n",
    "    def push(self, item):\n",
    "        self.queue.append(item)\n",
    "        self.length += 1\n",
    "    \n",
    "    def peek(self):\n",
    "        if self.length > 0:\n",
    "            return self.queue[0]\n",
    "    \n",
    "    def size(self):\n",
    "        return self.length\n",
    "    \n",
    "    def backdoorPeek(self):\n",
    "        if self.length > 0:\n",
    "            return self.queue[-1]"
   ]
  },
  {
   "cell_type": "code",
   "execution_count": 485,
   "metadata": {},
   "outputs": [
    {
     "ename": "NameError",
     "evalue": "name 'newline' is not defined",
     "output_type": "error",
     "traceback": [
      "\u001b[0;31m---------------------------------------------------------------------------\u001b[0m",
      "\u001b[0;31mNameError\u001b[0m                                 Traceback (most recent call last)",
      "Cell \u001b[0;32mIn[485], line 6\u001b[0m\n\u001b[1;32m      4\u001b[0m miles \u001b[39m=\u001b[39m \u001b[39m6\u001b[39m\n\u001b[1;32m      5\u001b[0m inches \u001b[39m=\u001b[39m\u001b[39m7\u001b[39m\n\u001b[0;32m----> 6\u001b[0m list1\u001b[39m.\u001b[39mappend(\u001b[39mf\u001b[39m\u001b[39m\"\u001b[39m\u001b[39m{\u001b[39;00mmeters\u001b[39m:\u001b[39;00m\u001b[39m.1f\u001b[39m\u001b[39m}\u001b[39;00m\u001b[39m meters is \u001b[39m\u001b[39m{\u001b[39;00mmiles\u001b[39m:\u001b[39;00m\u001b[39m.2f\u001b[39m\u001b[39m}\u001b[39;00m\u001b[39m miles \u001b[39m\u001b[39m\\n\u001b[39;00m\u001b[39m \u001b[39m\u001b[39m{\u001b[39;00mmeters\u001b[39m:\u001b[39;00m\u001b[39m.1f\u001b[39m\u001b[39m}\u001b[39;00m\u001b[39m meters is \u001b[39m\u001b[39m{\u001b[39;00mfeet\u001b[39m:\u001b[39;00m\u001b[39m.2f\u001b[39m\u001b[39m}\u001b[39;00m\u001b[39m \u001b[39m\u001b[39m{\u001b[39;00mnewline\u001b[39m:\u001b[39;00m\u001b[39m newline\u001b[39m\u001b[39m}\u001b[39;00m\u001b[39m feet\u001b[39m\u001b[39m\\n\u001b[39;00m\u001b[39m{\u001b[39;00mmeters\u001b[39m:\u001b[39;00m\u001b[39m.1f\u001b[39m\u001b[39m}\u001b[39;00m\u001b[39m meters is \u001b[39m\u001b[39m{\u001b[39;00minches\u001b[39m:\u001b[39;00m\u001b[39m.2f\u001b[39m\u001b[39m}\u001b[39;00m\u001b[39m inches\u001b[39m\u001b[39m\\n\u001b[39;00m\u001b[39m\"\u001b[39m)\n\u001b[1;32m      7\u001b[0m list1\n",
      "\u001b[0;31mNameError\u001b[0m: name 'newline' is not defined"
     ]
    }
   ],
   "source": [
    "list1 = []\n",
    "meters =5 \n",
    "feet =3\n",
    "miles = 6\n",
    "inches =7\n"
   ]
  },
  {
   "cell_type": "code",
   "execution_count": 474,
   "metadata": {},
   "outputs": [
    {
     "data": {
      "text/plain": [
       "'item1'"
      ]
     },
     "execution_count": 474,
     "metadata": {},
     "output_type": "execute_result"
    }
   ],
   "source": [
    "tmp = myQueue()\n",
    "tmp.push(\"item1\")\n",
    "tmp.push(\"item2\")\n",
    "tmp.push(\"item3\")\n",
    "tmp.pop()"
   ]
  },
  {
   "cell_type": "code",
   "execution_count": 475,
   "metadata": {},
   "outputs": [
    {
     "data": {
      "text/plain": [
       "'item3'"
      ]
     },
     "execution_count": 475,
     "metadata": {},
     "output_type": "execute_result"
    }
   ],
   "source": [
    "tmp.pop()\n",
    "tmp.peek()"
   ]
  },
  {
   "cell_type": "code",
   "execution_count": 476,
   "metadata": {},
   "outputs": [],
   "source": [
    "class myStack:\n",
    "\n",
    "    def __init__(self):\n",
    "        self.stack = []\n",
    "        self.length = 0\n",
    "    \n",
    "    def push(self, item):\n",
    "        self.stack.append(item)\n",
    "        self.length += 1\n",
    "    \n",
    "    def pop(self):\n",
    "        if self.length > 0:\n",
    "            self.length -= 1\n",
    "            return self.stack.pop()\n",
    "    def size(self):\n",
    "        return self.length"
   ]
  },
  {
   "cell_type": "code",
   "execution_count": 477,
   "metadata": {},
   "outputs": [
    {
     "data": {
      "text/plain": [
       "'item4'"
      ]
     },
     "execution_count": 477,
     "metadata": {},
     "output_type": "execute_result"
    }
   ],
   "source": [
    "s = myStack()\n",
    "s.push(\"item1\")\n",
    "s.push(\"item2\")\n",
    "s.push(\"item3\")\n",
    "s.push(\"item4\")\n",
    "s.pop()"
   ]
  },
  {
   "cell_type": "code",
   "execution_count": 478,
   "metadata": {},
   "outputs": [
    {
     "data": {
      "text/plain": [
       "'item5'"
      ]
     },
     "execution_count": 478,
     "metadata": {},
     "output_type": "execute_result"
    }
   ],
   "source": [
    "s.push(\"item5\")\n",
    "s.pop()"
   ]
  },
  {
   "cell_type": "markdown",
   "metadata": {},
   "source": [
    "## 2+ Dimension Data Structures\n",
    "\n",
    "One thing that we will mention now, and delve more into when we do neural networks, is that data structures can be in any number of dimensions, and can be nested - like lists of lists. A dataframe is naturally a 2 dimensional structure, and we can create 2+ dimensional structures with other data structures. \n",
    "\n",
    "When dealing with these structures, all the same concepts apply as when dealing with simple lists, only now we have to think about the dimensions. We can access elements by their index, but now we have to specify the index for each dimension."
   ]
  },
  {
   "cell_type": "code",
   "execution_count": 479,
   "metadata": {},
   "outputs": [
    {
     "data": {
      "text/plain": [
       "[[1, 2, 3], [4, 5, 6], [7, 8, 9]]"
      ]
     },
     "execution_count": 479,
     "metadata": {},
     "output_type": "execute_result"
    }
   ],
   "source": [
    "listA = [1,2,3]\n",
    "listB = [4,5,6]\n",
    "listC = [7,8,9]\n",
    "\n",
    "list_1 = [listA, listB, listC]\n",
    "list_1"
   ]
  },
  {
   "cell_type": "code",
   "execution_count": 480,
   "metadata": {},
   "outputs": [
    {
     "name": "stdout",
     "output_type": "stream",
     "text": [
      "[4, 5, 6]\n",
      "6\n",
      "[[1, 2, 3], [4, 5, 6]]\n",
      "[3, 6, 9]\n"
     ]
    }
   ],
   "source": [
    "print(list_1[1])\n",
    "print(list_1[1][2])\n",
    "print(list_1[0:2])\n",
    "print([list_1[0][2], list_1[1][2], list_1[2][2]])"
   ]
  },
  {
   "cell_type": "markdown",
   "metadata": {},
   "source": [
    "Dealing with multi-dimensional data structures is something that we semi-regularly need to do. It is also something that is easy to get wrong, and can be a major source of bugs. In general, we want to avoid this if it is possible. If we can use a dataframe, we should; if we can split the data into some more logical arrangement that avoids nesting the lists, we should consider that as well. "
   ]
  }
 ],
 "metadata": {
  "kernelspec": {
   "display_name": "ml_env",
   "language": "python",
   "name": "python3"
  },
  "language_info": {
   "codemirror_mode": {
    "name": "ipython",
    "version": 3
   },
   "file_extension": ".py",
   "mimetype": "text/x-python",
   "name": "python",
   "nbconvert_exporter": "python",
   "pygments_lexer": "ipython3",
   "version": "3.10.9"
  },
  "orig_nbformat": 4
 },
 "nbformat": 4,
 "nbformat_minor": 2
}
