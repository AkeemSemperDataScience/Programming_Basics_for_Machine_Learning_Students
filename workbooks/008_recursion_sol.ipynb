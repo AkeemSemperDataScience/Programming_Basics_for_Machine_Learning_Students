{
 "cells": [
  {
   "cell_type": "markdown",
   "metadata": {},
   "source": [
    "# Recursion\n",
    "\n",
    "Recursion is another way to control the execution of your code, but it is a bit more complex than iteration. Recursion is a way to solve problems by defining a function that calls itself. The function will continue to call itself until some condition is met to return a result. This is a very powerful technique that can be used to solve many problems - it sounds complex, but can make many problems much more simple. \n",
    "\n",
    "Recursion works as a multi-stage process that breaks a problem down into smaller problems. Each round of using a recursive function will return one of two values:\n",
    "<ul>\n",
    "<li> A base case value - this is the value of some \"simple\" case that can be solved without recursion, and return some known value. In many cases it's something like 1 or 0, or something like an empty list. </li>\n",
    "<li> A recursive case value - when \"doing recursion\" each recursive case calls itself, with a slightly more simple input - often n-1 or similar. </li>\n",
    "</ul>\n",
    "\n",
    "![Recursion](../../images/recursion.png \"Recursion\")\n",
    "![Recursion](../images/recursion.png \"Recursion\")\n",
    "\n",
    "This results in a process that generates a \"chain\" of function calls that are then aggregated up to a final result. The recursive process breaks down the original problem into a series of smaller and more simple problems, eventually reaching the base case, where there is a fixed value, then taking that fixed value back up the chain to allow the overall problem to be solved."
   ]
  },
  {
   "cell_type": "markdown",
   "metadata": {},
   "source": [
    "## Recursion vs Iteration\n",
    "\n",
    "Recursion and iteration are two ways to control the execution of your code. Iteration is the process of repeating a set of instructions a specified number of times or until a condition is met. Recursion is a way to solve problems by defining a function that calls itself. The function will continue to call itself until some condition is met to return a result. The two techniques largely accomplish the same thing, but recursion is a bit more abstract. \n",
    "\n",
    "### Sample Problem: Factorial\n",
    "\n",
    "Understanding recursion is not really the most intuitive thing, and is likely easier when looking at an example. The most common example is the factorial calculation. The factorial of a number is the product of all positive integers less than or equal to that number. For example, the factorial of 5 is 5 * 4 * 3 * 2 * 1 = 120. This problem isn't super complex to solve, first let's create a loop to solve it iteratively."
   ]
  },
  {
   "cell_type": "code",
   "execution_count": 1,
   "metadata": {},
   "outputs": [],
   "source": [
    "def loopFactorial(n):\n",
    "    result = 1\n",
    "    for i in range(1, n+1):\n",
    "        result *= i\n",
    "    return result"
   ]
  },
  {
   "cell_type": "code",
   "execution_count": 2,
   "metadata": {},
   "outputs": [
    {
     "data": {
      "text/plain": [
       "120"
      ]
     },
     "execution_count": 2,
     "metadata": {},
     "output_type": "execute_result"
    }
   ],
   "source": [
    "loopFactorial(5)"
   ]
  },
  {
   "cell_type": "markdown",
   "metadata": {},
   "source": [
    "## Recursion Structure\n",
    "\n",
    "Recursion is based on a simple concept, the function is called with a parameter. The function will then check if the parameter meets a condition, if it does not, the function will call itself with a modified parameter (often with the input lowered by 1). If it does meet that condition, that's the end point of the recursive process, known as the base case. The base case returns a specific value:\n",
    "<ul>\n",
    "<li> Base case - a condition that will stop the recursion from continuing. </li>\n",
    "<li> Recursive case - a condition that will continue the recursion. </li>\n",
    "</ul>\n",
    "\n",
    "\n",
    "### Recursion Solution\n",
    "\n",
    "Now let's reframe the problem to solve it recursively. For each execution of the loop, the running value of the calculation can be though of as:\n",
    "<ul>\n",
    "<li> The current value, starting at \"n\" for the first run. Multiplied by...</li>\n",
    "<li> The factorial of n-1. </li>\n",
    "</ul>\n",
    "\n",
    "Our factorial and base cases that will execute the recursion are:\n",
    "<ul>\n",
    "<li> Base case - input is 1, return 1. </li>\n",
    "<li> Recursive case - input is greater than 1, return input * factorial(input - 1). </li>\n",
    "</ul>\n",
    "\n",
    "#### Solution Examined\n",
    "\n",
    "![Factorial](../images/factorial.png \"Factorial\")\n",
    "![Factorial](../../images/factorial.png \"Factorial\")\n",
    "\n",
    "Repeated until n-1 is 1, at which point the factorial of 1 is 1. So if we are using a 5 factorial as an input, we can think of it recursively as (this is top-down):\n",
    "<ul>\n",
    "<li> 5! = 5 * factorial(4) </li>\n",
    "<li> 5! = (5 * 4) * factorial(3) </li>\n",
    "<li> 5! = (5 * 4 * 3) * factorial(2) </li>\n",
    "<li> 5! = (5 * 4 * 3 * 2) * factorial(1) </li>\n",
    "<li> 5! = 5 * 4 * 3 * 2 * 1 </li>\n",
    "</ul>\n",
    "\n",
    "Or if we were to look at it starting at the bottom, or base-case, and work our way up (this is bottom-up):\n",
    "<ul>\n",
    "<li> factorial(1) = 1 </li>\n",
    "<li> factorial(2) = 2 * factorial(1) = 2 * 1 = 2 </li>\n",
    "<li> factorial(3) = 3 * factorial(2) = 3 * 2 = 6 </li>\n",
    "<li> factorial(4) = 4 * factorial(3) = 4 * 6 = 24 </li>\n",
    "<li> factorial(5) = 5 * factorial(4) = 5 * 24 = 120 </li>\n",
    "</ul>\n",
    "\n",
    "![Factorial Breakdown](../images/fact_breakdown.png \"Factorial Breakdown\")\n",
    "![Factorial Breakdown](../../images/fact_breakdown.png \"Factorial Breakdown\")\n",
    "\n",
    "Note that in the bottom-up look, the base case we are \"skipping\" to the point where the recursion has been \"fully unraveled\" (for lack of a better term). We are at the point where the base case produces a value which is then passed back up the chain of recursion and the actual results are calculated.\n",
    "\n",
    "The core problem is always the same, but the input changes each time. Once we reach the end of the way down we can just take the answers that have been calculated and wrap them back up into an answer. If we want to implement this in Python, we can do it like this:"
   ]
  },
  {
   "cell_type": "code",
   "execution_count": 3,
   "metadata": {},
   "outputs": [],
   "source": [
    "def find_fact(n):\n",
    "    if n == 1:\n",
    "        return 1\n",
    "    else:\n",
    "        return n * find_fact(n-1)"
   ]
  },
  {
   "cell_type": "code",
   "execution_count": 4,
   "metadata": {},
   "outputs": [
    {
     "data": {
      "text/plain": [
       "120"
      ]
     },
     "execution_count": 4,
     "metadata": {},
     "output_type": "execute_result"
    }
   ],
   "source": [
    "find_fact(5)"
   ]
  },
  {
   "cell_type": "markdown",
   "metadata": {},
   "source": [
    "### Recursive Function Setup\n",
    "\n",
    "Our new recursive version does the same thing, but with different logic. It calls itself until it reaches the base case, then returns the result. This is a very simple example, but it shows the basic structure of a recursive function. At the first call the n value is 5, so the answer is 5 * factorial(4) so the function calls itself with 4. At the second call the n value is 4, so the answer to this call is 4 * factorial(3) and it calls itself with 3... Eventually the final call is 1, so it returns 1 for recursionFactorial(1), which is multiplied by 2 and passed up the chain as the answer of 2 to recursionFactorial(2), which is multipled by 3 and becomes the answer to recursionFactorial(3)... and so on until the final answer is returned."
   ]
  },
  {
   "cell_type": "markdown",
   "metadata": {},
   "source": [
    "### Embed Debugging\n",
    "\n",
    "Recursion is pretty simple in concept, but keeping straight what is happening at each step can be a bit tricky. Let's embed some debugging statements to see what is happening at each step.\n"
   ]
  },
  {
   "cell_type": "code",
   "execution_count": 5,
   "metadata": {},
   "outputs": [],
   "source": [
    "def find_fact2(n, debug=False):\n",
    "    if n == 1:\n",
    "        if debug:\n",
    "            print(\"Base Case: n is 1, returning 1\")\n",
    "        return 1\n",
    "    else:\n",
    "        if debug:\n",
    "            print(\"Recursive Case: n is\", n, \"returning\", n, \"*\", \"find_fact2(\", n-1, \")\")\n",
    "        return n * find_fact(n-1)"
   ]
  },
  {
   "cell_type": "code",
   "execution_count": 6,
   "metadata": {},
   "outputs": [
    {
     "data": {
      "text/plain": [
       "120"
      ]
     },
     "execution_count": 6,
     "metadata": {},
     "output_type": "execute_result"
    }
   ],
   "source": [
    "find_fact2(5)"
   ]
  },
  {
   "cell_type": "code",
   "execution_count": 7,
   "metadata": {},
   "outputs": [],
   "source": [
    "def do_weird_calc(input_number):\n",
    "    tmp1 = math.sqrt( math.log(input_number) )\n",
    "    return tmp1 \n"
   ]
  },
  {
   "cell_type": "markdown",
   "metadata": {},
   "source": [
    "### Recursion vs Iteration\n",
    "\n",
    "Recursion is a very powerful technique, but it is not always the best solution. In general, recursion is best used when the problem can be broken down into a series of smaller problems that are solved in the same way. It is also useful when the problem can be solved by solving a smaller version of the same problem. For example, the factorial of 5 is 5 * 4 * 3 * 2 * 1, but the factorial of 4 is 4 * 3 * 2 * 1. The factorial of 4 is a smaller version of the factorial of 5, so we can use the same logic to solve both problems.\n",
    "\n",
    "Recursion is not always the best solution. It can be difficult to understand, and it can be difficult to debug. It can also be less efficient than an iterative solution. In general, if you can solve a problem iteratively, you should. If you can't, then you should consider using recursion.\n",
    "\n",
    "#### Recursion and the Stack\n",
    "\n",
    "One potential concern when using recursive calls is the stack. Each time a function is called, the computer needs to allocate memory to store the variables and other information for that function. This memory is allocated on the stack, which is a special area of memory that is used to store information about the current state of the program. When a function is called, the computer allocates memory on the stack for that function. When the function returns, the computer frees the memory on the stack. If a function calls itself recursively, the computer needs to allocate memory on the stack for each call. If the function calls itself too many times, the computer may run out of memory on the stack. This is known as a stack overflow.\n",
    "\n",
    "If we have a recursive function that does many calculations, with lots of variables, for a large number of iterations, this can be an issue. In most cases, it is pretty unlikely that we'll encounter this issue all that much, but it is something that we should consider. When we get to dealing with large data sets for machine learning, if we have a recursive function that is doing something for every record in our data, it may be easy to create thousands or even millions of recursive calls. "
   ]
  },
  {
   "cell_type": "markdown",
   "metadata": {},
   "source": [
    "### Recursion Example\n",
    "\n",
    "Binary search is a technique for locating a target item in a sorted list by repeatedly determining which half of the list the item is in. The most impartial way to search the bookshelf is to start with a book in the middle, then ascertain if the target book you’re looking for is in the left half or the right half.\n",
    "\n",
    "You can then repeat this process: look at the book in the middle of your chosen half, and determine if your target book is in the left-side quarter or the right-side quarter. You can do this until you either find the book or find the place where the book should be but isn’t and declare that the book doesn’t exist on the shelf."
   ]
  },
  {
   "cell_type": "code",
   "execution_count": 8,
   "metadata": {},
   "outputs": [],
   "source": [
    "def binarySearch(needle, haystack, left=None, right=None):\n",
    "    # By default, `left` and `right` are all of `haystack`:\n",
    "    if left is None:\n",
    "        left = 0  # `left` defaults to the 0 index.\n",
    "    if right is None:\n",
    "        right = len(haystack) - 1  # `right` defaults to the last index.\n",
    "\n",
    "    print('Searching:', haystack[left:right + 1])\n",
    "\n",
    "    if left > right:  # BASE CASE\n",
    "        return None  # The `needle` is not in `haystack`.\n",
    "\n",
    "    mid = (left + right) // 2\n",
    "    if needle == haystack[mid]:  # BASE CASE\n",
    "        return mid  # The `needle` has been found in `haystack`\n",
    "    elif needle < haystack[mid]:  # RECURSIVE CASE\n",
    "        return binarySearch(needle, haystack, left, mid - 1)\n",
    "    elif needle > haystack[mid]:  # RECURSIVE CASE\n",
    "        return binarySearch(needle, haystack, mid + 1, right)"
   ]
  },
  {
   "cell_type": "code",
   "execution_count": 9,
   "metadata": {},
   "outputs": [
    {
     "name": "stdout",
     "output_type": "stream",
     "text": [
      "Searching: [1, 4, 8, 11, 13, 16, 19, 19]\n",
      "Searching: [13, 16, 19, 19]\n",
      "Searching: [13]\n",
      "4\n"
     ]
    }
   ],
   "source": [
    "print(binarySearch(13, [1, 4, 8, 11, 13, 16, 19, 19]))"
   ]
  }
 ],
 "metadata": {
  "kernelspec": {
   "display_name": "ml_env",
   "language": "python",
   "name": "python3"
  },
  "language_info": {
   "codemirror_mode": {
    "name": "ipython",
    "version": 3
   },
   "file_extension": ".py",
   "mimetype": "text/x-python",
   "name": "python",
   "nbconvert_exporter": "python",
   "pygments_lexer": "ipython3",
   "version": "3.10.9"
  },
  "orig_nbformat": 4
 },
 "nbformat": 4,
 "nbformat_minor": 2
}
