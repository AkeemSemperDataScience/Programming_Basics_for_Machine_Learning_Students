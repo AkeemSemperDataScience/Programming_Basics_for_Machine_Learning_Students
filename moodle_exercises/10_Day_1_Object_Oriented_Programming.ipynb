{
  "nbformat": 4,
  "nbformat_minor": 0,
  "metadata": {
    "colab": {
      "name": "Week 10 Day 1- Object Oriented Programming.ipynb",
      "provenance": [],
      "collapsed_sections": []
    },
    "kernelspec": {
      "name": "python3",
      "display_name": "Python 3"
    },
    "language_info": {
      "name": "python"
    }
  },
  "cells": [
    {
      "cell_type": "markdown",
      "metadata": {
        "id": "CzIAWEtRH3Z7"
      },
      "source": [
        "# Week 10 Day 1 - Object Oriented Programming\n",
        "\n",
        "- Python Classes as an idea.\n",
        "- Class Variables\n",
        "- Class Methods\n",
        "- Public interfaces\n",
        "- Putting it all together.\n",
        "- Constructors\n",
        "- special methods"
      ]
    },
    {
      "cell_type": "markdown",
      "metadata": {
        "id": "l_6zYzBPW3uw"
      },
      "source": [
        "### Classes as an Idea"
      ]
    },
    {
      "cell_type": "code",
      "metadata": {
        "colab": {
          "base_uri": "https://localhost:8080/"
        },
        "id": "UsSXPHiw_UPl",
        "outputId": "602346da-65f6-4391-aa67-3b6ecf4348aa"
      },
      "source": [
        "# we've already used methods on an instance.\n",
        "\n",
        "name = \"dan\"\n",
        "\n",
        "print(name)\n",
        "# if we wanted to get the all caps version.\n",
        "print(name.upper())\n",
        "\n",
        "# we can see all of the \"internal methods and attributes there.\"\n",
        "print(dir(name))"
      ],
      "execution_count": null,
      "outputs": [
        {
          "output_type": "stream",
          "name": "stdout",
          "text": [
            "dan\n",
            "DAN\n",
            "dan\n"
          ]
        }
      ]
    },
    {
      "cell_type": "markdown",
      "metadata": {
        "id": "4X3ca2PQeVu5"
      },
      "source": [
        "### Python Class Fundamentals."
      ]
    },
    {
      "cell_type": "code",
      "metadata": {
        "id": "IQGicxU_g4pW"
      },
      "source": [
        "# We want to create a counter\n",
        "\n",
        "# what we do we need.\n",
        "\n",
        "# a value that keeps track of the count.\n",
        "# the ability to add.\n",
        "# the ability to see the value.\n",
        "# the ability to reset the value.\n",
        "# the ability to subtract from the value.\n",
        "\n",
        "# we are going to use a class to solve this problem.\n",
        "\n",
        "# Say for example after we've done the above all of that work.\n",
        "# We want the ability to add more than just one at a time.\n",
        "\n"
      ],
      "execution_count": null,
      "outputs": []
    },
    {
      "cell_type": "code",
      "metadata": {
        "colab": {
          "base_uri": "https://localhost:8080/"
        },
        "id": "LF3R_--CfTP0",
        "outputId": "c7c64118-a396-4d47-c681-868150e5d9dc"
      },
      "source": [
        "# let's first talk about the class syntax.\n",
        "\n",
        "# The smallest class possible.\n",
        "class Counter:\n",
        "    # Here's lets create a method that allows us to add to the counter.\n",
        "    def add(self):\n",
        "        self.value = self.value + 1\n",
        "\n",
        "    def get_value(self):\n",
        "        return self.value\n",
        "\n",
        "    def reset(self):\n",
        "        self.value = 0\n",
        "\n",
        "    # Let's add the ability to add more than one a time.\n",
        "    def add_bulk(self, amount):    \n",
        "        self.value = self.value + amount\n",
        "\n",
        "    # the traditional setter would be like so.\n",
        "    def set_value(self, value):\n",
        "        self.value = value\n",
        "\n",
        "\n",
        "# Here the public interface of the counter is essentially\n",
        "# the add method, the get_value method and the reset method.\n",
        "\n",
        "# Note all of these functions are using the same \"value\" which is accessed through self\n",
        "# if we'd want to use this class\n",
        "# \n",
        "hockey_game_attendance = Counter() # this is an object using that class.\n",
        "soccer_game_attendance = Counter() # this is a differnt object using the same class.\n",
        "concert_attendance = Counter()\n",
        "\n",
        "# Let's take a quick look with dir on this counter.\n",
        "\n",
        "print(\"the 'Counter' interface consists of \")\n",
        "print(dir(hockey_game_attendance))\n"
      ],
      "execution_count": null,
      "outputs": [
        {
          "output_type": "stream",
          "name": "stdout",
          "text": [
            "the 'Counter' interface consists of \n",
            "['__class__', '__delattr__', '__dict__', '__dir__', '__doc__', '__eq__', '__format__', '__ge__', '__getattribute__', '__gt__', '__hash__', '__init__', '__init_subclass__', '__le__', '__lt__', '__module__', '__ne__', '__new__', '__reduce__', '__reduce_ex__', '__repr__', '__setattr__', '__sizeof__', '__str__', '__subclasshook__', '__weakref__', 'add', 'add_bulk', 'get_value', 'reset', 'set_value']\n"
          ]
        }
      ]
    },
    {
      "cell_type": "code",
      "metadata": {
        "colab": {
          "base_uri": "https://localhost:8080/"
        },
        "id": "NILrTCyTfQqm",
        "outputId": "af891ccd-cc1c-403c-f1b8-bac920ae6572"
      },
      "source": [
        "# Just a note run the above cell before this cell if you're using this to study.\n",
        "\n",
        "# The hockey game starts earlier than the others.\n",
        "hockey_game_attendance.reset()\n",
        "print(\"The original value of our counter after we reset what it is below\")\n",
        "print(hockey_game_attendance.get_value())\n",
        "# let's say that 4 people come in\n",
        "hockey_game_attendance.add()\n",
        "hockey_game_attendance.add()\n",
        "hockey_game_attendance.add()\n",
        "hockey_game_attendance.add()\n",
        "print('what is the attendance after 4 people have come.')\n",
        "print(hockey_game_attendance.get_value())\n",
        "print(\"100 people showed up to our hockey game all at once\")\n",
        "hockey_game_attendance.add_bulk(100)\n",
        "# the above only needs one argument because in the definition the first parameter is the instance itself.\n",
        "print(hockey_game_attendance.get_value())\n",
        "\n",
        "# The soccer game starts at another place\n",
        "soccer_game_attendance.reset()\n",
        "print(\"The original attendance for the soccer game  is\")\n",
        "print(soccer_game_attendance.get_value())\n",
        "soccer_game_attendance.add()\n",
        "soccer_game_attendance.add()\n",
        "print(soccer_game_attendance.get_value())\n",
        "\n",
        "print('concert started')\n",
        "concert_attendance.reset()\n",
        "concert_attendance.add()\n",
        "print(concert_attendance.get_value())\n",
        "\n",
        "# A Note moving forward is that we can just access the value directly\n",
        "print(\"The attendance at the concert is \"+ str(concert_attendance.value))\n",
        "\n",
        "# we can directly change that value \n",
        "concert_attendance.value = 500\n",
        "print(\"After changing the value directly, the attendance at the concert is \"+ str(concert_attendance.value))\n"
      ],
      "execution_count": null,
      "outputs": [
        {
          "output_type": "stream",
          "name": "stdout",
          "text": [
            "The original value of our counter after we reset what it is below\n",
            "0\n",
            "what is the attendance after 4 people have come.\n",
            "4\n",
            "100 people showed up to our hockey game all at once\n",
            "104\n",
            "The original attendance for the soccer game  is\n",
            "0\n",
            "2\n",
            "concert started\n",
            "1\n",
            "The attendance at the concert is 1\n",
            "After changing the value directly, the attendance at the concert is 500\n"
          ]
        }
      ]
    },
    {
      "cell_type": "markdown",
      "metadata": {
        "id": "RMRgovPaocUh"
      },
      "source": [
        "As you can see above you can actually directly access and change the value because all of the instance variables are public.\n",
        "\n",
        "There is a standard for \"private variables\" is you write a \"_\" before the variable name. It is still accessible but it is discouraged to change these."
      ]
    },
    {
      "cell_type": "code",
      "metadata": {
        "colab": {
          "base_uri": "https://localhost:8080/"
        },
        "id": "6CYAYeKQodxu",
        "outputId": "746d4d89-980d-48c6-916e-2a828c09edee"
      },
      "source": [
        "# As an example\n",
        "\n",
        "class Person:\n",
        "    def birth_self(self, name, eyecolor=\"brown\"):\n",
        "        self._name = name # this is the example of  more of a private variable idea.\n",
        "        self._eyecolor = eyecolor\n",
        "\n",
        "    def birth_certificate(self):\n",
        "        print(self._name + \" was born with \" + self._eyecolor + \" eyes\")\n",
        "\n",
        "\n",
        "dan = Person()\n",
        "dan.birth_self(\"dan\", \"blue\")\n",
        "dan.birth_certificate()"
      ],
      "execution_count": null,
      "outputs": [
        {
          "output_type": "stream",
          "name": "stdout",
          "text": [
            "dan was born with blue eyes\n"
          ]
        }
      ]
    },
    {
      "cell_type": "markdown",
      "metadata": {
        "id": "hGBBihpHrm9u"
      },
      "source": [
        "### Constructors\n"
      ]
    },
    {
      "cell_type": "code",
      "metadata": {
        "colab": {
          "base_uri": "https://localhost:8080/"
        },
        "id": "YSFv-OukroAQ",
        "outputId": "525d7efe-d131-4d12-8123-4520acc3046f"
      },
      "source": [
        "# The above person class was a bit clunky.\n",
        "\n",
        "# We are going to use the idea of a constructor\n",
        "# A constructor is a special method on python objects that always gets called when you create them.\n",
        "\n",
        "# Let's take a second crack at the class above.\n",
        "\n",
        "class Person:\n",
        "    # below is going to get called every time we create an object.\n",
        "    # we also specified to separate parameters for creation.\n",
        "    def __init__(self, name, eyecolor):\n",
        "        self.name = name # we are saving the parameters to the object itself using this line\n",
        "        self.eyecolor = eyecolor # this is the same as above, just saving it to the object.\n",
        "        print(\"did this even get executed\")\n",
        "        print(\"these lines should show if so\")\n",
        "\n",
        "    def get_name(self):\n",
        "        return self.name\n",
        "\n",
        "# How do we use the above class\n",
        "\n",
        "dan = Person(\"dan\", \"blue\") # we are creating the object and passing in the two arguments of name and eyecolor respectively.\n",
        "rick  = Person(\"rick\", \"brown\")\n",
        "\n",
        "# and below we see the printed statement to show that the __init__ method has been called.\n",
        "\n",
        "# let's take a look at the names\n",
        "print(\"Let's take a look at the names!\")\n",
        "print(dan.get_name())\n",
        "print(rick.get_name())\n",
        "\n"
      ],
      "execution_count": null,
      "outputs": [
        {
          "output_type": "stream",
          "name": "stdout",
          "text": [
            "did this even get executed\n",
            "these lines should show if so\n",
            "did this even get executed\n",
            "these lines should show if so\n",
            "Let's take a look at the names!\n",
            "dan\n",
            "rick\n"
          ]
        }
      ]
    },
    {
      "cell_type": "code",
      "metadata": {
        "colab": {
          "base_uri": "https://localhost:8080/",
          "height": 313
        },
        "id": "KnWIP4zhuHBx",
        "outputId": "77f4ca16-40a5-4ee9-80bc-909563b66e91"
      },
      "source": [
        "# do we need to instante these variables in the constructor.\n",
        "# not always but you need create them before you use them.\n",
        "\n",
        "tiddlywinks = Counter()\n",
        "# below throws an error because value doesn't exist yet\n",
        "# tiddlywinks.get_value() \n",
        "\n",
        "# but if we use reset or the actual \"set_value\" then value will be defined on the instance.# this throws an error because value doesn't exist yet\n"
      ],
      "execution_count": null,
      "outputs": [
        {
          "output_type": "error",
          "ename": "AttributeError",
          "evalue": "ignored",
          "traceback": [
            "\u001b[0;31m---------------------------------------------------------------------------\u001b[0m",
            "\u001b[0;31mAttributeError\u001b[0m                            Traceback (most recent call last)",
            "\u001b[0;32m<ipython-input-30-e99eee6e4648>\u001b[0m in \u001b[0;36m<module>\u001b[0;34m()\u001b[0m\n\u001b[1;32m      3\u001b[0m \u001b[0;34m\u001b[0m\u001b[0m\n\u001b[1;32m      4\u001b[0m \u001b[0mtiddlywinks\u001b[0m \u001b[0;34m=\u001b[0m \u001b[0mCounter\u001b[0m\u001b[0;34m(\u001b[0m\u001b[0;34m)\u001b[0m\u001b[0;34m\u001b[0m\u001b[0;34m\u001b[0m\u001b[0m\n\u001b[0;32m----> 5\u001b[0;31m \u001b[0mtiddlywinks\u001b[0m\u001b[0;34m.\u001b[0m\u001b[0mget_value\u001b[0m\u001b[0;34m(\u001b[0m\u001b[0;34m)\u001b[0m\u001b[0;34m\u001b[0m\u001b[0;34m\u001b[0m\u001b[0m\n\u001b[0m",
            "\u001b[0;32m<ipython-input-22-c53dd2a936b6>\u001b[0m in \u001b[0;36mget_value\u001b[0;34m(self)\u001b[0m\n\u001b[1;32m      8\u001b[0m \u001b[0;34m\u001b[0m\u001b[0m\n\u001b[1;32m      9\u001b[0m     \u001b[0;32mdef\u001b[0m \u001b[0mget_value\u001b[0m\u001b[0;34m(\u001b[0m\u001b[0mself\u001b[0m\u001b[0;34m)\u001b[0m\u001b[0;34m:\u001b[0m\u001b[0;34m\u001b[0m\u001b[0;34m\u001b[0m\u001b[0m\n\u001b[0;32m---> 10\u001b[0;31m         \u001b[0;32mreturn\u001b[0m \u001b[0mself\u001b[0m\u001b[0;34m.\u001b[0m\u001b[0mvalue\u001b[0m\u001b[0;34m\u001b[0m\u001b[0;34m\u001b[0m\u001b[0m\n\u001b[0m\u001b[1;32m     11\u001b[0m \u001b[0;34m\u001b[0m\u001b[0m\n\u001b[1;32m     12\u001b[0m     \u001b[0;32mdef\u001b[0m \u001b[0mreset\u001b[0m\u001b[0;34m(\u001b[0m\u001b[0mself\u001b[0m\u001b[0;34m)\u001b[0m\u001b[0;34m:\u001b[0m\u001b[0;34m\u001b[0m\u001b[0;34m\u001b[0m\u001b[0m\n",
            "\u001b[0;31mAttributeError\u001b[0m: 'Counter' object has no attribute 'value'"
          ]
        }
      ]
    },
    {
      "cell_type": "markdown",
      "metadata": {
        "id": "ZoaJK_BVvumd"
      },
      "source": [
        "### Advanced Example\n",
        "\n",
        "we are going to create a bank account\n",
        "\n",
        "a bank account needs the following info\n",
        "- who it belongs to\n",
        "- the amount that's in the bank account\n",
        "- log the transactions\n",
        "\n",
        "to be able satisfy the above we need to have some functionality as defined below.\n",
        "- deposit\n",
        "- withdraw funds\n",
        "- show balance of the bank account\n",
        "- show all of the transactions\n",
        "- should be able give our selves a summary of the bank account\n",
        "\n",
        "What I want do (after the above) is I want to see if two bank accounts are equal.\n",
        "- let's implement a special method to do so."
      ]
    },
    {
      "cell_type": "code",
      "metadata": {
        "colab": {
          "base_uri": "https://localhost:8080/",
          "height": 615
        },
        "id": "2IfFvv5JwdB8",
        "outputId": "d4778507-9284-427f-f896-a8a46fc31982"
      },
      "source": [
        "# Let's go ahead get started.\n",
        "\n",
        "class BankAccount:\n",
        "    BANK_NAME = \"BANK OF DAN\"\n",
        "\n",
        "    # what do you need to open a bank account\n",
        "    # - name\n",
        "    # - cash?\n",
        "    def __init__(self, name, initial_amount=0.0):\n",
        "        self.full_name = name \n",
        "        self.amount = initial_amount\n",
        "        self.transactions = [initial_amount] \n",
        "        # Note transaction is just going to be a list of positive and negative numbers.\n",
        "\n",
        "    def deposit(self, deposit_amount):\n",
        "        self.amount = self.amount + deposit_amount\n",
        "        self.transactions.append(deposit_amount)\n",
        "\n",
        "    def withdraw(self, withdrawl_amount):\n",
        "        # this bank does not allow overdraft\n",
        "        if withdrawl_amount > self.amount:\n",
        "            raise Exception(\"You ain't got no money \"+str(self.full_name) +\n",
        "                            \" you only have \"+ str(self.amount) + \" in you account\")\n",
        "        self.amount = self.amount - withdrawl_amount\n",
        "        self.transactions.append((-withdrawl_amount))\n",
        "\n",
        "    def get_balance(self):\n",
        "        return self.amount\n",
        "\n",
        "    def get_transactions(self):\n",
        "        return self.transactions\n",
        "\n",
        "    # we can see below in the summary the with using self you can access the attributes\n",
        "    # and you also access the methods on self.\n",
        "    def summary(self):\n",
        "        print(BankAccount.BANK_NAME)\n",
        "        print(\"Bank Account of \" + str(self.full_name))\n",
        "        print(\"Current balance: \" + str(self.get_balance()))\n",
        "        print(\"Recent transactions\")\n",
        "        for transaction_amount in self.get_transactions():\n",
        "            print(\"   transaction: \"+ str(transaction_amount))\n",
        "\n",
        "    # Let's override the equal\n",
        "    def __eq__(self, other_bank_account):\n",
        "       if not isinstance(other_bank_account, BankAccount):\n",
        "           raise TypeError(\"You need to compare accounts that's it.\")\n",
        "       # for below to work, the other bank account has to be a bank account.      \n",
        "       if self.get_balance() == other_bank_account.get_balance():\n",
        "           return True\n",
        "       return False\n",
        "# We have two new members of the bank of daniel using the BankAccount class\n",
        "\n",
        "gary = BankAccount(\"gary nomoney\")\n",
        "kirill = BankAccount(\"kirill dollabill\", 500.0)\n",
        "\n",
        "# Let's see if the original values are there after we create the objects\n",
        "print(kirill.full_name)\n",
        "\n",
        "# let's show the summary.\n",
        "kirill.deposit(100.0) # one argument passed even there's two parameters.\n",
        "kirill.withdraw(20.0)\n",
        "kirill.summary()\n",
        "\n",
        "\n",
        "print()\n",
        "# if gary tries to withdraw this is going to throw an error because he doesn't any funds.\n",
        "# to do this uncomment the line below.\n",
        "# gary.withdraw(20)\n",
        "\n",
        "gary.deposit(580.0)\n",
        "gary.summary()\n",
        "\n",
        "\n",
        "# If i try to check if they're equal\n",
        "print(\"do gary and kirill have the same amount in their bank account\")\n",
        "# print(gary == kirill)\n",
        "# print(gary == 5)\n",
        "\n",
        "print(5 == gary)\n",
        "\n",
        "#this needs to be two bank accounts"
      ],
      "execution_count": null,
      "outputs": [
        {
          "output_type": "stream",
          "name": "stdout",
          "text": [
            "kirill dollabill\n",
            "BANK OF DAN\n",
            "Bank Account of kirill dollabill\n",
            "Current balance: 580.0\n",
            "Recent transactions\n",
            "   transaction: 500.0\n",
            "   transaction: 100.0\n",
            "   transaction: -20.0\n",
            "\n",
            "BANK OF DAN\n",
            "Bank Account of gary nomoney\n",
            "Current balance: 580.0\n",
            "Recent transactions\n",
            "   transaction: 0.0\n",
            "   transaction: 580.0\n",
            "do gary and kirill have the same amount in their bank account\n"
          ]
        },
        {
          "output_type": "error",
          "ename": "TypeError",
          "evalue": "ignored",
          "traceback": [
            "\u001b[0;31m---------------------------------------------------------------------------\u001b[0m",
            "\u001b[0;31mTypeError\u001b[0m                                 Traceback (most recent call last)",
            "\u001b[0;32m<ipython-input-63-4e117b08c55e>\u001b[0m in \u001b[0;36m<module>\u001b[0;34m()\u001b[0m\n\u001b[1;32m     77\u001b[0m \u001b[0;31m# print(gary == 5)\u001b[0m\u001b[0;34m\u001b[0m\u001b[0;34m\u001b[0m\u001b[0;34m\u001b[0m\u001b[0m\n\u001b[1;32m     78\u001b[0m \u001b[0;34m\u001b[0m\u001b[0m\n\u001b[0;32m---> 79\u001b[0;31m \u001b[0mprint\u001b[0m\u001b[0;34m(\u001b[0m\u001b[0;36m5\u001b[0m \u001b[0;34m==\u001b[0m \u001b[0mgary\u001b[0m\u001b[0;34m)\u001b[0m\u001b[0;34m\u001b[0m\u001b[0;34m\u001b[0m\u001b[0m\n\u001b[0m\u001b[1;32m     80\u001b[0m \u001b[0;34m\u001b[0m\u001b[0m\n\u001b[1;32m     81\u001b[0m \u001b[0;31m#this needs to be two bank accounts\u001b[0m\u001b[0;34m\u001b[0m\u001b[0;34m\u001b[0m\u001b[0;34m\u001b[0m\u001b[0m\n",
            "\u001b[0;32m<ipython-input-63-4e117b08c55e>\u001b[0m in \u001b[0;36m__eq__\u001b[0;34m(self, other_bank_account)\u001b[0m\n\u001b[1;32m     44\u001b[0m     \u001b[0;32mdef\u001b[0m \u001b[0m__eq__\u001b[0m\u001b[0;34m(\u001b[0m\u001b[0mself\u001b[0m\u001b[0;34m,\u001b[0m \u001b[0mother_bank_account\u001b[0m\u001b[0;34m)\u001b[0m\u001b[0;34m:\u001b[0m\u001b[0;34m\u001b[0m\u001b[0;34m\u001b[0m\u001b[0m\n\u001b[1;32m     45\u001b[0m        \u001b[0;32mif\u001b[0m \u001b[0;32mnot\u001b[0m \u001b[0misinstance\u001b[0m\u001b[0;34m(\u001b[0m\u001b[0mother_bank_account\u001b[0m\u001b[0;34m,\u001b[0m \u001b[0mBankAccount\u001b[0m\u001b[0;34m)\u001b[0m\u001b[0;34m:\u001b[0m\u001b[0;34m\u001b[0m\u001b[0;34m\u001b[0m\u001b[0m\n\u001b[0;32m---> 46\u001b[0;31m            \u001b[0;32mraise\u001b[0m \u001b[0mTypeError\u001b[0m\u001b[0;34m(\u001b[0m\u001b[0;34m\"You need to compare accounts that's it.\"\u001b[0m\u001b[0;34m)\u001b[0m\u001b[0;34m\u001b[0m\u001b[0;34m\u001b[0m\u001b[0m\n\u001b[0m\u001b[1;32m     47\u001b[0m        \u001b[0;31m# for below to work, the other bank account has to be a bank account.\u001b[0m\u001b[0;34m\u001b[0m\u001b[0;34m\u001b[0m\u001b[0;34m\u001b[0m\u001b[0m\n\u001b[1;32m     48\u001b[0m        \u001b[0;32mif\u001b[0m \u001b[0mself\u001b[0m\u001b[0;34m.\u001b[0m\u001b[0mget_balance\u001b[0m\u001b[0;34m(\u001b[0m\u001b[0;34m)\u001b[0m \u001b[0;34m==\u001b[0m \u001b[0mother_bank_account\u001b[0m\u001b[0;34m.\u001b[0m\u001b[0mget_balance\u001b[0m\u001b[0;34m(\u001b[0m\u001b[0;34m)\u001b[0m\u001b[0;34m:\u001b[0m\u001b[0;34m\u001b[0m\u001b[0;34m\u001b[0m\u001b[0m\n",
            "\u001b[0;31mTypeError\u001b[0m: You need to compare accounts that's it."
          ]
        }
      ]
    }
  ]
}