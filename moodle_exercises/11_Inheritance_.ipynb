{
  "nbformat": 4,
  "nbformat_minor": 0,
  "metadata": {
    "colab": {
      "name": "Week 11 - Inheritance .ipynb",
      "provenance": [],
      "collapsed_sections": []
    },
    "kernelspec": {
      "name": "python3",
      "display_name": "Python 3"
    },
    "language_info": {
      "name": "python"
    }
  },
  "cells": [
    {
      "cell_type": "markdown",
      "metadata": {
        "id": "UI5sdCKhfLfi"
      },
      "source": [
        "# Week 11 - Inheritance\n",
        "\n",
        "- Announcements\n",
        "- Review about classes\n",
        "- Ineritance and Hierarchies\n",
        "- Implementing a Subclass\n",
        "- Polymorphism\n"
      ]
    },
    {
      "cell_type": "code",
      "metadata": {
        "id": "fpJDm5NHyO89",
        "colab": {
          "base_uri": "https://localhost:8080/"
        },
        "outputId": "0009eb5f-8886-473c-83ac-09d8c515dd53"
      },
      "source": [
        "# Create our Base or super class here.\n",
        "\n",
        "# We create a question\n",
        "# we are going to set the text of the question and the answer to the question\n",
        "# we are going to display the question\n",
        "\n",
        "class Question:\n",
        "    def __init__(self):\n",
        "        self._text = \"\"\n",
        "        self._answer = \"\"\n",
        "\n",
        "    # We control the question\n",
        "    def set_text(self, question_text):\n",
        "        self._text = question_text\n",
        "    \n",
        "    # We control the answer\n",
        "    def set_answer(self, correct_response):\n",
        "        self._answer = correct_response\n",
        "\n",
        "    def _validate(self, response):\n",
        "        pass # this means do nothing\n",
        "\n",
        "    def check_answer(self, response):\n",
        "        self._validate(response)\n",
        "        return response == self._answer\n",
        "\n",
        "    def display(self):\n",
        "        print(self._text)\n",
        "\n",
        "\n",
        "question = Question()\n",
        "question.set_text(\"Are the oilers going to win tonight?\")\n",
        "question.set_answer(\"yes\")\n",
        "question.display()\n",
        "\n",
        "print(question.check_answer(\"yes\"))\n",
        "\n",
        "\n",
        "# Uncomment the following line to see all of the methods and attributes on the object.\n",
        "print(dir(question))\n",
        "        "
      ],
      "execution_count": null,
      "outputs": [
        {
          "output_type": "stream",
          "name": "stdout",
          "text": [
            "Are the oilers going to win tonight?\n",
            "True\n",
            "['__class__', '__delattr__', '__dict__', '__dir__', '__doc__', '__eq__', '__format__', '__ge__', '__getattribute__', '__gt__', '__hash__', '__init__', '__init_subclass__', '__le__', '__lt__', '__module__', '__ne__', '__new__', '__reduce__', '__reduce_ex__', '__repr__', '__setattr__', '__sizeof__', '__str__', '__subclasshook__', '__weakref__', '_answer', '_text', '_validate', 'check_answer', 'display', 'set_answer', 'set_text']\n"
          ]
        }
      ]
    },
    {
      "cell_type": "code",
      "metadata": {
        "colab": {
          "base_uri": "https://localhost:8080/"
        },
        "id": "dNSaFDjdmKqb",
        "outputId": "2db325ef-61b1-4932-9240-4e43bfa897df"
      },
      "source": [
        "# How do we implement a subclass here\n",
        "# we want to create a true or false question.\n",
        "\n",
        "class TrueOrFalseQuestion(Question): # Here we are overriding the question\n",
        "    def _validate(self, response): # this is called overriding.\n",
        "        # We want to make sure that the answer is True or False\n",
        "        if response == True or response == False:\n",
        "            return\n",
        "        # below is going to give us an error every time it's not a boolean.\n",
        "        raise TypeError(\"Please enter a boolean\")\n",
        "        # Why is this being raised when it's not a boolean?\n",
        "        # it's being called in the method \"check_answer\"\n",
        "\n",
        "    # sometimes you want to call the parent's method\n",
        "    # in the method you're overriding.\n",
        "    def display(self): # another method override.\n",
        "        # in this method if we want to call the \"parent\"'s display method\n",
        "        # we have to use super\n",
        "        super().display()\n",
        "        # so in our example this super().display() is looking for the display() method\n",
        "        # in the question class.\n",
        "\n",
        "        print(\"Please enter a boolean.\")\n",
        "\n",
        "\n",
        "question = TrueOrFalseQuestion()\n",
        "# this is has all of the same attributes and questions \n",
        "question.set_text(\"Are the oilers going to win tonight?\")\n",
        "question.set_answer(True)\n",
        "question.display()\n",
        "print(question.check_answer(True))\n",
        "\n",
        "# Below is going to give an error un comment to see it happen.\n",
        "# question.check_answer(\"Yes\")\n",
        "\n",
        "\n",
        "\n",
        "# Uncomment the following line to see all of the methods and attributes on the object.\n",
        "# print(dir(question))"
      ],
      "execution_count": null,
      "outputs": [
        {
          "output_type": "stream",
          "name": "stdout",
          "text": [
            "Are the oilers going to win tonight?\n",
            "Please enter a boolean.\n",
            "True\n"
          ]
        }
      ]
    },
    {
      "cell_type": "code",
      "metadata": {
        "colab": {
          "base_uri": "https://localhost:8080/"
        },
        "id": "tgTyMK2itc5a",
        "outputId": "3c0b6596-8502-4c43-cdaa-60f196020baa"
      },
      "source": [
        "# Create a NumericQuestion\n",
        "\n",
        "class NumericQuestion(Question): # we know this is going to give us all of the functionality of question\n",
        "    # having no constructor here is equivalent to below\n",
        "    # def __init__(self):\n",
        "    #     super().__init__()\n",
        "    \n",
        "    # we're going to assume that we get a string and we want to check\n",
        "    # if it is an integer.\n",
        "    def _validate(self, response):\n",
        "        if not response.isnumeric(): # making sure our answer is a number\n",
        "            raise TypeError(\"please pass in a number \")\n",
        "    \n",
        "    def check_answer(self, response):\n",
        "        self._validate(response)\n",
        "        # we're overriding method because we need to convert response to an int.\n",
        "        return int(response) == int(self._answer)\n",
        "\n",
        "    # creating a method on NumericQuestion that adds a bit to the existing display\n",
        "    # method\n",
        "    def display(self): \n",
        "        super().display() # # this going call the display method on Question\n",
        "        print(\"please enter a number\") # here's what I'm adding to it.\n",
        "\n",
        "num_question = NumericQuestion() # we actually need to call the correct class.\n",
        "num_question.set_text(\"How many goals will the oilers score tonight?\")\n",
        "num_question.set_answer(10)\n",
        "num_question.display()\n",
        "num_question.check_answer(\"10\") # if want to pass a string here, we need to convert it.\n"
      ],
      "execution_count": null,
      "outputs": [
        {
          "output_type": "stream",
          "name": "stdout",
          "text": [
            "How many goals will the oilers score tonight?\n",
            "please enter a number\n"
          ]
        },
        {
          "output_type": "execute_result",
          "data": {
            "text/plain": [
              "True"
            ]
          },
          "metadata": {},
          "execution_count": 36
        }
      ]
    },
    {
      "cell_type": "code",
      "metadata": {
        "colab": {
          "base_uri": "https://localhost:8080/"
        },
        "id": "yfUsb0YfylEp",
        "outputId": "ee3f6589-d00b-4f25-81d4-5a21668204de"
      },
      "source": [
        "# we're going to do a multiple choice question\n",
        "# our answer is going to be a number from 1 to the number of choices.\n",
        "# so we're going to need some choices here.\n",
        "\n",
        "# this has all of the functionality of Question and NumericQuestion\n",
        "class ChoiceQuestion(NumericQuestion):\n",
        "    def __init__(self):\n",
        "        super().__init__() # this is going to call the constructor of NumericQuestion\n",
        "        \n",
        "        # make sure that we have choices.\n",
        "        self._choices = [] \n",
        "\n",
        "    # we need a method to add a choice where \"choice\" is text\n",
        "    # and \"correct\" is a boolean\n",
        "    def add_choice(self, choice, correct):\n",
        "        # adding the choice to our choices class.\n",
        "        self._choices.append(choice)\n",
        "\n",
        "        for index, choice in enumerate(self._choices):\n",
        "            if correct:\n",
        "                # I want to set the answer at 1 + the index (indices start at zero)\n",
        "                self.set_answer(index + 1)\n",
        "    \n",
        "    def _validate(self, response):\n",
        "        super()._validate(response) # here we check if it's a number\n",
        "        # because it's calling the validate of numeric question\n",
        "\n",
        "        # check that the response is in the range that we want.\n",
        "        if int(response) >= 1 and int(response) <= len(self._choices):\n",
        "            # this is the ideal case\n",
        "            return\n",
        "\n",
        "        raise KeyError(\"Please select answer in the range\")\n",
        "\n",
        "    def display(self): \n",
        "        super().display() # this going call the display method on NumericQuestion\n",
        "        \n",
        "        for index, choice in enumerate(self._choices):\n",
        "            print(\"enter \"+ str(index + 1) + \" for \"+ choice)\n",
        "        # print(\"between 1 and \"+ str(len(self._choices)))    \n",
        "\n",
        "choice_question = ChoiceQuestion()\n",
        "choice_question.set_text(\"Who is starting in net for the oilers tonight?\")\n",
        "choice_question.add_choice(\"Skinner\", True)\n",
        "choice_question.add_choice(\"Koskinnen\", False)\n",
        "choice_question.display()\n",
        "choice_question.check_answer(\"1\")"
      ],
      "execution_count": null,
      "outputs": [
        {
          "output_type": "stream",
          "name": "stdout",
          "text": [
            "Who is starting in net for the oilers tonight?\n",
            "please enter a number\n",
            "enter 1 for Skinner\n",
            "enter 2 for Koskinnen\n"
          ]
        },
        {
          "output_type": "execute_result",
          "data": {
            "text/plain": [
              "True"
            ]
          },
          "metadata": {},
          "execution_count": 41
        }
      ]
    },
    {
      "cell_type": "code",
      "metadata": {
        "colab": {
          "base_uri": "https://localhost:8080/"
        },
        "id": "zYys28mf6bDh",
        "outputId": "7808c400-a1f3-4452-d372-37fffa2dba69"
      },
      "source": [
        "# Polymorphism\n",
        "\n",
        "# we are going to create a bunch of questions and display and answer them.\n",
        "# we're going to make a test.\n",
        "def present_question(question):\n",
        "    print(\"_______________________________\")\n",
        "    question.display()\n",
        "    response = input(\"please enter answer here: \")\n",
        "    try:\n",
        "        print(question.check_answer(response))\n",
        "    except KeyError as e:\n",
        "        print(\"wrong input no marks!\" + str(e))\n",
        "    except TypeError as e:\n",
        "        print(\"Wrong input no marks! holy cow!\"  + str(e))\n",
        "# Let's create a few questions\n",
        "choice_question = ChoiceQuestion()\n",
        "choice_question.set_text(\"Who is starting in net for the oilers tonight?\")\n",
        "choice_question.add_choice(\"Skinner\", True)\n",
        "choice_question.add_choice(\"Koskinnen\", False)\n",
        "\n",
        "num_question = NumericQuestion()\n",
        "num_question.set_text(\"How many goals will the oilers score tonight?\")\n",
        "num_question.set_answer(10)\n",
        "\n",
        "text_question = Question()\n",
        "text_question.set_text(\"What is that teacher persons name?\")\n",
        "text_question.set_answer(\"dan\")\n",
        "\n",
        "test = [choice_question, num_question, text_question ]\n",
        "\n",
        "# Below we can see that all of these objects in the test are different\n",
        "print(test)\n",
        "\n",
        "# with polymorphism we know we can call .display method because they all have it.\n",
        "# we can call the check_answer method because they all have it.\n",
        "\n",
        "for question in test:\n",
        "    present_question(question)\n"
      ],
      "execution_count": null,
      "outputs": [
        {
          "output_type": "stream",
          "name": "stdout",
          "text": [
            "[<__main__.ChoiceQuestion object at 0x7f5a5db0d650>, <__main__.NumericQuestion object at 0x7f5a5db0de50>, <__main__.Question object at 0x7f5a5db0d110>]\n",
            "_______________________________\n",
            "Who is starting in net for the oilers tonight?\n",
            "please enter a number\n",
            "enter 1 for Skinner\n",
            "enter 2 for Koskinnen\n",
            "please enter answer here: 14\n",
            "wrong input no marks!'Please select answer in the range'\n",
            "_______________________________\n",
            "How many goals will the oilers score tonight?\n",
            "please enter a number\n",
            "please enter answer here: asdf\n",
            "Wrong input no marks! holy cow!please pass in a number \n",
            "_______________________________\n",
            "What is that teacher persons name?\n",
            "please enter answer here: dan\n",
            "True\n"
          ]
        }
      ]
    },
    {
      "cell_type": "code",
      "metadata": {
        "colab": {
          "base_uri": "https://localhost:8080/"
        },
        "id": "FjB867EF-VHW",
        "outputId": "88206e9c-284d-4165-c8ce-4a8e2f7e48f1"
      },
      "source": [
        "# another example of polymorphism more of the duck typing style\n",
        "\n",
        "class Cat:\n",
        "    def __init__(self, name):\n",
        "        self.name = name\n",
        "\n",
        "    def make_sound(self):\n",
        "        print(self.name + \" says meow\")\n",
        "\n",
        "class Dog:\n",
        "    def __init__(self, name):\n",
        "        self.name = name\n",
        "\n",
        "    def make_sound(self):\n",
        "        print(self.name + \" says bark\")\n",
        "\n",
        "dog = Dog(\"jake\")\n",
        "cat = Cat(\"Ghost\")\n",
        "cat_two = Cat(\"Gambit\")\n",
        "cat_three = Cat(\"Marshmallow\")\n",
        "\n",
        "pets = [dog, cat, cat_two, cat_three]\n",
        "\n",
        "for pet in pets:\n",
        "    pet.make_sound()\n"
      ],
      "execution_count": null,
      "outputs": [
        {
          "output_type": "stream",
          "name": "stdout",
          "text": [
            "jake says bark\n",
            "Ghost says meow\n",
            "Gambit says meow\n",
            "Marshmallow says meow\n"
          ]
        }
      ]
    },
    {
      "cell_type": "code",
      "metadata": {
        "id": "7pAt9ZZp-9gS"
      },
      "source": [
        ""
      ],
      "execution_count": null,
      "outputs": []
    }
  ]
}