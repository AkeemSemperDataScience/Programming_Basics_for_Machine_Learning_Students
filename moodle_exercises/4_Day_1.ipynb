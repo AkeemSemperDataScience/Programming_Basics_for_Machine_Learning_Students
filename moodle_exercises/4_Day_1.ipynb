{
  "nbformat": 4,
  "nbformat_minor": 0,
  "metadata": {
    "colab": {
      "name": "Week 4 Day 1.ipynb",
      "provenance": [],
      "collapsed_sections": []
    },
    "kernelspec": {
      "name": "python3",
      "display_name": "Python 3"
    },
    "language_info": {
      "name": "python"
    }
  },
  "cells": [
    {
      "cell_type": "markdown",
      "metadata": {
        "id": "n_yfM4RimoeR"
      },
      "source": [
        "# Loops, some Simulations and more loops.\n",
        "\n",
        "What we're going to talk about today.\n",
        "- Announcements\n",
        "- While Loops\n",
        "- Sentinel Values\n",
        "- Common Loop algorithms\n",
        "- For loops\n",
        "- Nested Loops\n",
        "- Processing Strings\n",
        "- Random Numbers and Simulations\n",
        "\n",
        "Note: We're not doing the graphics piece right now but this is a large part of machine learning, computer vision and AI in general."
      ]
    },
    {
      "cell_type": "markdown",
      "metadata": {
        "id": "falSuhlIn2pd"
      },
      "source": [
        "### While loops"
      ]
    },
    {
      "cell_type": "code",
      "metadata": {
        "id": "jKlVvCGCn7pK",
        "colab": {
          "base_uri": "https://localhost:8080/"
        },
        "outputId": "1ab3f559-cf9f-4473-f71d-79978ce69494"
      },
      "source": [
        "# The fundamental while loop.\n",
        "\n",
        "counter = 10\n",
        "\n",
        "while counter > 0: # is going to result in a True boolean if it's greater than zero.\n",
        "    print(counter)\n",
        "    counter = counter - 1\n",
        "    print(\"-----------------------\")\n",
        "\n",
        "print(\"We have completed the final countdown.\")"
      ],
      "execution_count": 2,
      "outputs": [
        {
          "output_type": "stream",
          "name": "stdout",
          "text": [
            "10\n",
            "-----------------------\n",
            "9\n",
            "-----------------------\n",
            "8\n",
            "-----------------------\n",
            "7\n",
            "-----------------------\n",
            "6\n",
            "-----------------------\n",
            "5\n",
            "-----------------------\n",
            "4\n",
            "-----------------------\n",
            "3\n",
            "-----------------------\n",
            "2\n",
            "-----------------------\n",
            "1\n",
            "-----------------------\n",
            "We have completed the final countdown.\n"
          ]
        }
      ]
    },
    {
      "cell_type": "markdown",
      "metadata": {
        "id": "jE1AXaA_oBOA"
      },
      "source": [
        "### Sentinel Values"
      ]
    },
    {
      "cell_type": "code",
      "metadata": {
        "id": "I7HucAt4oFU2",
        "colab": {
          "base_uri": "https://localhost:8080/"
        },
        "outputId": "8f3cf5c6-fd4d-4a2f-ebfd-ac3206d2b1a6"
      },
      "source": [
        "# Example of a sentinel value\n",
        "\n",
        "name = input(\"Give us your name (press enter to quit)\")\n",
        "all_names = \"\"\n",
        "while name != \"\":\n",
        "    all_names = name + \", \" + all_names\n",
        "    print(all_names)\n",
        "    name = input(\"Give us your name (press enter to quit)\")"
      ],
      "execution_count": 5,
      "outputs": [
        {
          "name": "stdout",
          "output_type": "stream",
          "text": [
            "Give us your name (press enter to quit)Dan\n",
            "Dan, \n",
            "Give us your name (press enter to quit)Ghost\n",
            "Ghost, Dan, \n",
            "Give us your name (press enter to quit)Gabit\n",
            "Gabit, Ghost, Dan, \n",
            "Give us your name (press enter to quit)Marshmallow\n",
            "Marshmallow, Gabit, Ghost, Dan, \n",
            "Give us your name (press enter to quit)\n"
          ]
        }
      ]
    },
    {
      "cell_type": "markdown",
      "metadata": {
        "id": "L69Lo_x7oGNG"
      },
      "source": [
        "### Common Loop Algorithms"
      ]
    },
    {
      "cell_type": "code",
      "metadata": {
        "id": "kmrotU02oKv2",
        "colab": {
          "base_uri": "https://localhost:8080/"
        },
        "outputId": "6701d023-e3e5-4c59-d049-c6e56c71d9ce"
      },
      "source": [
        "# Sum and Average Example.\n",
        "\n",
        "\n",
        "QUESTION = \"Please enter the goals for the oilers in a given game (press enter to end): \"\n",
        "goals_for = input(QUESTION)\n",
        "total_goals_for = 0\n",
        "total_games = 0\n",
        "while goals_for != \"\":\n",
        "    total_goals_for += int(goals_for) # on the left is equivalent to the below\n",
        "    # total_goals_for = total_goals_for + int(goals_for)\n",
        "    total_games  += 1\n",
        "    print(\"the new total is \" + str(total_goals_for) + \" in \" + str(total_games) + \" game(s)\")\n",
        "    goals_for = input(QUESTION)\n",
        "\n",
        "# Let's calculate the average.\n",
        "if total_games > 0:\n",
        "    average_goals_for = total_goals_for/total_games\n",
        "    print(\"The average goals for per game for the oilers is \" + str(average_goals_for))\n",
        "\n",
        "# this is something that you're going to do all the time."
      ],
      "execution_count": 9,
      "outputs": [
        {
          "output_type": "stream",
          "name": "stdout",
          "text": [
            "Please enter the goals for the oilers in a given game (press enter to end): 2\n",
            "the new total is 2 in 1 game(s)\n",
            "Please enter the goals for the oilers in a given game (press enter to end): 3\n",
            "the new total is 5 in 2 game(s)\n",
            "Please enter the goals for the oilers in a given game (press enter to end): 4\n",
            "the new total is 9 in 3 game(s)\n",
            "Please enter the goals for the oilers in a given game (press enter to end): \n",
            "The average goals for per game for the oilers is 3.0\n"
          ]
        }
      ]
    },
    {
      "cell_type": "code",
      "metadata": {
        "colab": {
          "base_uri": "https://localhost:8080/"
        },
        "id": "xJkwsFWTDpfA",
        "outputId": "f3dc36ec-815d-48bd-aa68-2d85942a875e"
      },
      "source": [
        "DANS_CATS_NAMES = \"ghost, gambit, marshmallow\" # maybe this would be better as a list rather than a string (we learn this in the future.)\n",
        "QUESTION = \"Guess one of dan's cats names? (enter to end): \"\n",
        "\n",
        "guessed_cat_name = input(QUESTION)\n",
        "total_guesses = 0\n",
        "successful_guesses = 0\n",
        "\n",
        "while guessed_cat_name != \"\":\n",
        "    total_guesses += 1\n",
        "    # Let's count the matches.\n",
        "    # if the guess is in DANS_CATS_NAMES\n",
        "    # add one to successful_guesses\n",
        "    # let's do this below.\n",
        "    if guessed_cat_name in DANS_CATS_NAMES:\n",
        "        successful_guesses += 1\n",
        "        print(\"AHA you are correct\")\n",
        "    else:\n",
        "        print(\"NOPE that ain't it.\")\n",
        "    guessed_cat_name = input(QUESTION)\n",
        "\n",
        "print(\"You guessed the right name \" + str(successful_guesses) + \" out of \" + str(total_guesses) + \" times\")"
      ],
      "execution_count": 12,
      "outputs": [
        {
          "output_type": "stream",
          "name": "stdout",
          "text": [
            "Guess one of dan's cats names? (enter to end): gambi\n",
            "AHA you are correct\n",
            "Guess one of dan's cats names? (enter to end): shmall\n",
            "AHA you are correct\n",
            "Guess one of dan's cats names? (enter to end): \n",
            "You guessed the right name 2 out of 2 times\n"
          ]
        }
      ]
    },
    {
      "cell_type": "code",
      "metadata": {
        "colab": {
          "base_uri": "https://localhost:8080/"
        },
        "id": "sJW-ElyzHFvx",
        "outputId": "dfadf181-5d7f-45f0-c086-f0fbd3b26695"
      },
      "source": [
        "# prompting until you find something\n",
        "\n",
        "QUESTION = \"Please enter a vowel: \"\n",
        "is_valid_letter = False\n",
        "\n",
        "while not is_valid_letter:\n",
        "    # is it a vowel? if yes quit if no say invalid input\n",
        "    guessed_letter = input(QUESTION)\n",
        "    if guessed_letter in \"aeiou\" and len(guessed_letter) == 1:\n",
        "        is_valid_letter = True\n",
        "        print(\"Hooray\")\n",
        "    else:\n",
        "        print(\"invalid input\")\n",
        "    \n"
      ],
      "execution_count": 18,
      "outputs": [
        {
          "output_type": "stream",
          "name": "stdout",
          "text": [
            "Please enter a vowel: ae\n",
            "invalid input\n",
            "Please enter a vowel: a\n",
            "Hooray\n"
          ]
        }
      ]
    },
    {
      "cell_type": "code",
      "metadata": {
        "colab": {
          "base_uri": "https://localhost:8080/"
        },
        "id": "pN-5gXhZI4xC",
        "outputId": "6d357177-ebcb-4355-bece-537829f9bd1c"
      },
      "source": [
        "# Getting the Maximum or minimum example.\n",
        "\n",
        "QUESTION = \"Please enter the goals for the oilers in a given game (press enter to end): \"\n",
        "goals_for = input(QUESTION)\n",
        "\n",
        "total_games = 0\n",
        "max_goals_for = 0\n",
        "while goals_for != \"\":\n",
        "    total_games  += 1\n",
        "    # if the current goals_for is greater than the max_goals_for set it!\n",
        "    if int(goals_for) > max_goals_for: # if you wanted to make this minimum you it's opposite sign.\n",
        "        max_goals_for = int(goals_for)\n",
        "    goals_for = input(QUESTION)\n",
        "\n",
        "print(\"The max goals for in a game was \" + str(max_goals_for))\n"
      ],
      "execution_count": 20,
      "outputs": [
        {
          "output_type": "stream",
          "name": "stdout",
          "text": [
            "Please enter the goals for the oilers in a given game (press enter to end): 15\n",
            "Please enter the goals for the oilers in a given game (press enter to end): 0\n",
            "Please enter the goals for the oilers in a given game (press enter to end): 3\n",
            "Please enter the goals for the oilers in a given game (press enter to end): \n",
            "The max goals for in a game was 15\n"
          ]
        }
      ]
    },
    {
      "cell_type": "code",
      "metadata": {
        "colab": {
          "base_uri": "https://localhost:8080/"
        },
        "id": "w6XL0uAlKOJI",
        "outputId": "e326dfa4-d501-4192-f310-bcd209bbe9bf"
      },
      "source": [
        "# comparing adjacent values\n",
        "# See if the last value is the same as the current value.\n",
        "QUESTION = \"What are your family members names?(press enter to end) \"\n",
        "name = input(QUESTION)\n",
        "previous = \"\" # im' just initializing so I have a value to reference for the first time.\n",
        "while name != \"\":\n",
        "    # the first iteration is comparing \"\" to the value of name\n",
        "    # use the following to see what's going on:)\n",
        "    # print(name)\n",
        "    # print(previous)\n",
        "    # print(\"----------------\")\n",
        "    if previous == name:\n",
        "        print(\"you just said that!\")\n",
        "    previous = name\n",
        "    name = input(QUESTION)\n"
      ],
      "execution_count": 27,
      "outputs": [
        {
          "name": "stdout",
          "output_type": "stream",
          "text": [
            "What are your family members names?(press enter to end) \n"
          ]
        }
      ]
    },
    {
      "cell_type": "markdown",
      "metadata": {
        "id": "Bb-mW6OrNU_U"
      },
      "source": [
        "### For loops\n"
      ]
    },
    {
      "cell_type": "code",
      "metadata": {
        "colab": {
          "base_uri": "https://localhost:8080/"
        },
        "id": "ZyrBJE9rNX4L",
        "outputId": "b9d836c6-d7b0-4275-d1e5-f50d7cd6f19a"
      },
      "source": [
        "# fundamental example\n",
        "\n",
        "print(\"the first example using range:\")\n",
        "# for loops with range.\n",
        "for i in range(0, 10):\n",
        "    print(i)\n",
        "    print(\"-------------------\")\n"
      ],
      "execution_count": 35,
      "outputs": [
        {
          "output_type": "stream",
          "name": "stdout",
          "text": [
            "the first example using range:\n",
            "0\n",
            "-------------------\n",
            "1\n",
            "-------------------\n",
            "2\n",
            "-------------------\n",
            "3\n",
            "-------------------\n",
            "4\n",
            "-------------------\n",
            "5\n",
            "-------------------\n",
            "6\n",
            "-------------------\n",
            "7\n",
            "-------------------\n",
            "8\n",
            "-------------------\n",
            "9\n",
            "-------------------\n"
          ]
        }
      ]
    },
    {
      "cell_type": "code",
      "metadata": {
        "colab": {
          "base_uri": "https://localhost:8080/"
        },
        "id": "tjuvQz8WOe5U",
        "outputId": "a464b761-a107-4487-c9d8-fd8ff3a0d7c4"
      },
      "source": [
        "print(\"the second example using strings:\")\n",
        "# for loops with strings\n",
        "for i in \"ghost\":\n",
        "    print(i)\n",
        "    print(\"~~~~~~~~~~~~\")\n",
        "\n",
        "# you can see that \"i\" is each character in the execution.\n"
      ],
      "execution_count": 36,
      "outputs": [
        {
          "output_type": "stream",
          "name": "stdout",
          "text": [
            "the second example using strings:\n",
            "g\n",
            "~~~~~~~~~~~~\n",
            "h\n",
            "~~~~~~~~~~~~\n",
            "o\n",
            "~~~~~~~~~~~~\n",
            "s\n",
            "~~~~~~~~~~~~\n",
            "t\n",
            "~~~~~~~~~~~~\n"
          ]
        }
      ]
    },
    {
      "cell_type": "code",
      "metadata": {
        "colab": {
          "base_uri": "https://localhost:8080/"
        },
        "id": "OkwzqHpiUKOJ",
        "outputId": "21c1369f-7960-4c76-ed91-73847fad43f9"
      },
      "source": [
        "# How to make a loop go backwards\n",
        "# start at 10\n",
        "# end at 0 (but one above.)\n",
        "# step by -1\n",
        "for i in range(10, 0, -1):\n",
        "    print(i)"
      ],
      "execution_count": 42,
      "outputs": [
        {
          "output_type": "stream",
          "name": "stdout",
          "text": [
            "10\n",
            "9\n",
            "8\n",
            "7\n",
            "6\n",
            "5\n",
            "4\n",
            "3\n",
            "2\n",
            "1\n"
          ]
        }
      ]
    },
    {
      "cell_type": "markdown",
      "metadata": {
        "id": "oSCxdtbSoLEU"
      },
      "source": [
        "### Nested Loops"
      ]
    },
    {
      "cell_type": "code",
      "metadata": {
        "id": "BEtcbcYUoOn7",
        "colab": {
          "base_uri": "https://localhost:8080/"
        },
        "outputId": "59f16f6f-a1a7-48c0-ec55-9c02b6c936df"
      },
      "source": [
        "# it's just a loop in a loop \n",
        "\n",
        "for i in range(10):\n",
        "    print(\"i is now \" + str(i))\n",
        "    # the whole idea is that you can put the loop below in the loop that we're in.\n",
        "    for j in range(i):\n",
        "        print(\"J is now \" + str(j))\n",
        "        print(\"<><><><><><><><>\")\n",
        "    \n",
        "    print(\"---------------------\")"
      ],
      "execution_count": 41,
      "outputs": [
        {
          "output_type": "stream",
          "name": "stdout",
          "text": [
            "i is now 0\n",
            "---------------------\n",
            "i is now 1\n",
            "J is now 0\n",
            "<><><><><><><><>\n",
            "---------------------\n",
            "i is now 2\n",
            "J is now 0\n",
            "<><><><><><><><>\n",
            "J is now 1\n",
            "<><><><><><><><>\n",
            "---------------------\n",
            "i is now 3\n",
            "J is now 0\n",
            "<><><><><><><><>\n",
            "J is now 1\n",
            "<><><><><><><><>\n",
            "J is now 2\n",
            "<><><><><><><><>\n",
            "---------------------\n",
            "i is now 4\n",
            "J is now 0\n",
            "<><><><><><><><>\n",
            "J is now 1\n",
            "<><><><><><><><>\n",
            "J is now 2\n",
            "<><><><><><><><>\n",
            "J is now 3\n",
            "<><><><><><><><>\n",
            "---------------------\n",
            "i is now 5\n",
            "J is now 0\n",
            "<><><><><><><><>\n",
            "J is now 1\n",
            "<><><><><><><><>\n",
            "J is now 2\n",
            "<><><><><><><><>\n",
            "J is now 3\n",
            "<><><><><><><><>\n",
            "J is now 4\n",
            "<><><><><><><><>\n",
            "---------------------\n",
            "i is now 6\n",
            "J is now 0\n",
            "<><><><><><><><>\n",
            "J is now 1\n",
            "<><><><><><><><>\n",
            "J is now 2\n",
            "<><><><><><><><>\n",
            "J is now 3\n",
            "<><><><><><><><>\n",
            "J is now 4\n",
            "<><><><><><><><>\n",
            "J is now 5\n",
            "<><><><><><><><>\n",
            "---------------------\n",
            "i is now 7\n",
            "J is now 0\n",
            "<><><><><><><><>\n",
            "J is now 1\n",
            "<><><><><><><><>\n",
            "J is now 2\n",
            "<><><><><><><><>\n",
            "J is now 3\n",
            "<><><><><><><><>\n",
            "J is now 4\n",
            "<><><><><><><><>\n",
            "J is now 5\n",
            "<><><><><><><><>\n",
            "J is now 6\n",
            "<><><><><><><><>\n",
            "---------------------\n",
            "i is now 8\n",
            "J is now 0\n",
            "<><><><><><><><>\n",
            "J is now 1\n",
            "<><><><><><><><>\n",
            "J is now 2\n",
            "<><><><><><><><>\n",
            "J is now 3\n",
            "<><><><><><><><>\n",
            "J is now 4\n",
            "<><><><><><><><>\n",
            "J is now 5\n",
            "<><><><><><><><>\n",
            "J is now 6\n",
            "<><><><><><><><>\n",
            "J is now 7\n",
            "<><><><><><><><>\n",
            "---------------------\n",
            "i is now 9\n",
            "J is now 0\n",
            "<><><><><><><><>\n",
            "J is now 1\n",
            "<><><><><><><><>\n",
            "J is now 2\n",
            "<><><><><><><><>\n",
            "J is now 3\n",
            "<><><><><><><><>\n",
            "J is now 4\n",
            "<><><><><><><><>\n",
            "J is now 5\n",
            "<><><><><><><><>\n",
            "J is now 6\n",
            "<><><><><><><><>\n",
            "J is now 7\n",
            "<><><><><><><><>\n",
            "J is now 8\n",
            "<><><><><><><><>\n",
            "---------------------\n"
          ]
        }
      ]
    },
    {
      "cell_type": "markdown",
      "metadata": {
        "id": "7v6IO2lUoPZS"
      },
      "source": [
        "### Processing Strings"
      ]
    },
    {
      "cell_type": "code",
      "metadata": {
        "id": "woFygHqqoZIo",
        "colab": {
          "base_uri": "https://localhost:8080/"
        },
        "outputId": "072dd7c7-6bb8-4229-c7b5-70808fc475b7"
      },
      "source": [
        "# a few different things we can do with strings\n",
        "DANS_CATS_NAMES = \"ghost, gambit, marshmallow\"\n",
        "\n",
        "for i in DANS_CATS_NAMES:\n",
        "  print(i)\n",
        "  print(i.isupper())\n",
        "  print(i.islower())\n",
        "  print(\"----------------\")"
      ],
      "execution_count": 46,
      "outputs": [
        {
          "output_type": "stream",
          "name": "stdout",
          "text": [
            "g\n",
            "False\n",
            "True\n",
            "----------------\n",
            "h\n",
            "False\n",
            "True\n",
            "----------------\n",
            "o\n",
            "False\n",
            "True\n",
            "----------------\n",
            "s\n",
            "False\n",
            "True\n",
            "----------------\n",
            "t\n",
            "False\n",
            "True\n",
            "----------------\n",
            ",\n",
            "False\n",
            "False\n",
            "----------------\n",
            " \n",
            "False\n",
            "False\n",
            "----------------\n",
            "g\n",
            "False\n",
            "True\n",
            "----------------\n",
            "a\n",
            "False\n",
            "True\n",
            "----------------\n",
            "m\n",
            "False\n",
            "True\n",
            "----------------\n",
            "b\n",
            "False\n",
            "True\n",
            "----------------\n",
            "i\n",
            "False\n",
            "True\n",
            "----------------\n",
            "t\n",
            "False\n",
            "True\n",
            "----------------\n",
            ",\n",
            "False\n",
            "False\n",
            "----------------\n",
            " \n",
            "False\n",
            "False\n",
            "----------------\n",
            "m\n",
            "False\n",
            "True\n",
            "----------------\n",
            "a\n",
            "False\n",
            "True\n",
            "----------------\n",
            "r\n",
            "False\n",
            "True\n",
            "----------------\n",
            "s\n",
            "False\n",
            "True\n",
            "----------------\n",
            "h\n",
            "False\n",
            "True\n",
            "----------------\n",
            "m\n",
            "False\n",
            "True\n",
            "----------------\n",
            "a\n",
            "False\n",
            "True\n",
            "----------------\n",
            "l\n",
            "False\n",
            "True\n",
            "----------------\n",
            "l\n",
            "False\n",
            "True\n",
            "----------------\n",
            "o\n",
            "False\n",
            "True\n",
            "----------------\n",
            "w\n",
            "False\n",
            "True\n",
            "----------------\n"
          ]
        }
      ]
    },
    {
      "cell_type": "code",
      "metadata": {
        "colab": {
          "base_uri": "https://localhost:8080/"
        },
        "id": "P-p6niFJVsj6",
        "outputId": "b4ffb666-ea10-4418-a483-278133e02697"
      },
      "source": [
        "# let's take a look at a couple of other ones\n",
        "sample = \"3 or 5 will be good\"\n",
        "\n",
        "for i in sample:\n",
        "    print(i)\n",
        "    print(i.isdigit())\n",
        "\n",
        "    print(\"------\")"
      ],
      "execution_count": 48,
      "outputs": [
        {
          "output_type": "stream",
          "name": "stdout",
          "text": [
            "3\n",
            "True\n",
            "------\n",
            " \n",
            "False\n",
            "------\n",
            "o\n",
            "False\n",
            "------\n",
            "r\n",
            "False\n",
            "------\n",
            " \n",
            "False\n",
            "------\n",
            "5\n",
            "True\n",
            "------\n",
            " \n",
            "False\n",
            "------\n",
            "w\n",
            "False\n",
            "------\n",
            "i\n",
            "False\n",
            "------\n",
            "l\n",
            "False\n",
            "------\n",
            "l\n",
            "False\n",
            "------\n",
            " \n",
            "False\n",
            "------\n",
            "b\n",
            "False\n",
            "------\n",
            "e\n",
            "False\n",
            "------\n",
            " \n",
            "False\n",
            "------\n",
            "g\n",
            "False\n",
            "------\n",
            "o\n",
            "False\n",
            "------\n",
            "o\n",
            "False\n",
            "------\n",
            "d\n",
            "False\n",
            "------\n"
          ]
        }
      ]
    },
    {
      "cell_type": "code",
      "metadata": {
        "colab": {
          "base_uri": "https://localhost:8080/"
        },
        "id": "ejV79-2gWo5C",
        "outputId": "97b52c8d-9faa-4bcd-a8e0-04b8efbf1861"
      },
      "source": [
        "# we're going to talk about positions really shortly when we talk about lists.\n",
        "\n",
        "# here's an example where we access characters in a string.\n",
        "\n",
        "name = \"daniel\"\n",
        "\n",
        "# if we want to acces the \"d\" in daniel\n",
        "print(name[0])\n",
        "\n",
        "# if we want to access the \"l\" in daniel\n",
        "\n",
        "print(name[5])\n",
        "\n",
        "# this is for context around the examples in the slides."
      ],
      "execution_count": 50,
      "outputs": [
        {
          "output_type": "stream",
          "name": "stdout",
          "text": [
            "d\n",
            "l\n"
          ]
        }
      ]
    },
    {
      "cell_type": "markdown",
      "metadata": {
        "id": "pdTrDax6oZv0"
      },
      "source": [
        "### Random Numbers and Simulations"
      ]
    },
    {
      "cell_type": "code",
      "metadata": {
        "id": "99kqYrA-oloo",
        "colab": {
          "base_uri": "https://localhost:8080/"
        },
        "outputId": "1e274ba2-9a6b-411d-d6cf-6d053f12cc3a"
      },
      "source": [
        "# rolling a dice and trying guess what it was.\n",
        "# Let's create a game where we guess if the dice number\n",
        "\n",
        "from random import randint\n",
        "\n",
        "dice_value = randint(1,6)\n",
        "\n",
        "is_guessed = False\n",
        "tries = 0\n",
        "QUESTION = \"What is the number of the dice that was rolled?\"\n",
        "user_guess = input(QUESTION)\n",
        "\n",
        "while not is_guessed:\n",
        "    tries = tries + 1\n",
        "\n",
        "    # check to see if it's equal to the dice exit if so\n",
        "    if int(user_guess) == dice_value:\n",
        "        is_guessed = True\n",
        "        print(\"You got it! in \" + str(tries) + \" tries\")\n",
        "    # ask the question again if failed answer.\n",
        "    else:\n",
        "        print(\"You didn't get it!\")\n",
        "        user_guess = input(QUESTION)\n",
        "\n",
        "\n"
      ],
      "execution_count": 70,
      "outputs": [
        {
          "output_type": "stream",
          "name": "stdout",
          "text": [
            "What is the number of the dice that was rolled?1\n",
            "You didn't get it!\n",
            "What is the number of the dice that was rolled?2\n",
            "You didn't get it!\n",
            "What is the number of the dice that was rolled?3\n",
            "You didn't get it!\n",
            "What is the number of the dice that was rolled?4\n",
            "You didn't get it!\n",
            "What is the number of the dice that was rolled?5\n",
            "You got it! in 5 tries\n"
          ]
        }
      ]
    }
  ]
}